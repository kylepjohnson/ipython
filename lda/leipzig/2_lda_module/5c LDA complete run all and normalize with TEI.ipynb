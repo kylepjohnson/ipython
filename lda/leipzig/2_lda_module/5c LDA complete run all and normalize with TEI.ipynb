{
 "cells": [
  {
   "cell_type": "markdown",
   "metadata": {},
   "source": [
    "Following tutorial [\"Topic Modeling for Fun and Profit\"](http://radimrehurek.com/topic_modeling_tutorial/2%20-%20Topic%20Modeling.html)"
   ]
  },
  {
   "cell_type": "code",
   "execution_count": 1,
   "metadata": {
    "collapsed": true
   },
   "outputs": [],
   "source": [
    "import itertools\n",
    "import logging\n",
    "import os\n",
    "import pickle\n",
    "import sys\n",
    "import time\n",
    "\n",
    "from cltk.corpus.greek.tlg.parse_tlg_indices import get_epithets\n",
    "from cltk.corpus.greek.tlg.parse_tlg_indices import get_epithet_of_author\n",
    "from cltk.corpus.greek.tlg.parse_tlg_indices import get_id_author\n",
    "import gensim\n",
    "from gensim.corpora.mmcorpus import MmCorpus\n",
    "from gensim.utils import simple_preprocess\n",
    "import numpy as np"
   ]
  },
  {
   "cell_type": "code",
   "execution_count": 2,
   "metadata": {},
   "outputs": [],
   "source": [
    "# put current dir in path, for importing local module\n",
    "module_path = os.path.abspath(os.path.join('..'))\n",
    "if module_path not in sys.path:\n",
    "    sys.path.append(module_path)"
   ]
  },
  {
   "cell_type": "code",
   "execution_count": 3,
   "metadata": {},
   "outputs": [],
   "source": [
    "# import local module\n",
    "from lda_helpers import mk_working_dir\n",
    "from lda_helpers import working_dir\n",
    "from lda_helpers import tokenize\n",
    "from lda_helpers import iter_docs\n",
    "from lda_helpers import PREPROCESS_DEACCENT\n",
    "from lda_helpers import TOK_MIN\n",
    "from lda_helpers import TOK_MAX\n",
    "from lda_helpers import DOC_MIN\n",
    "from lda_helpers import remove_ascii\n",
    "from lda_helpers import STOPS_LIST\n",
    "from lda_helpers import no_below\n",
    "from lda_helpers import no_above\n",
    "from lda_helpers import GenerateCorpus"
   ]
  },
  {
   "cell_type": "code",
   "execution_count": 4,
   "metadata": {
    "collapsed": true
   },
   "outputs": [],
   "source": [
    "# enable verbose print-to-screen logging for Gensim\n",
    "logging.basicConfig(format='%(levelname)s : %(message)s', level=logging.INFO)\n",
    "logging.root.level = logging.INFO  # ipython sometimes messes up the logging setup; restore"
   ]
  },
  {
   "cell_type": "code",
   "execution_count": 5,
   "metadata": {},
   "outputs": [],
   "source": [
    "# where our results will go in ~/cltk_data/user_data\n",
    "mk_working_dir(working_dir)"
   ]
  },
  {
   "cell_type": "code",
   "execution_count": 6,
   "metadata": {},
   "outputs": [
    {
     "name": "stdout",
     "output_type": "stream",
     "text": [
      "tlg4102.tlg006.opp-grc1.txt ['ερμηνεία', 'διαφόρων', 'εἰσ', 'κατά', 'λουκᾶν', 'εὐαγγέλιον', 'ὅτι', 'μὲν', 'ἄλλοι', 'εὐαγγελισταὶ']\n",
      "tlg2200.tlg00518.opp-grc1.txt ['νόμος', 'τὸν', 'ξενίας', 'ἁλόντα', 'πιπράσκεσθαι', 'ἑάλω', 'ξενίας', 'δημοσθένης', 'ἔπεμψε', 'φίλιππος']\n",
      "tlg0062.tlg050.1st1K-grc1.txt ['θεων', 'εκκλησια', 'ζευς', 'μηκέτι', 'τονθορύζετε', 'θεοί', 'μηδὲ', 'κατὰ', 'γωνίας', 'συστρεφόμενοι']\n",
      "tlg2959.tlg011.opp-ger1.txt ['βραβεῖον', 'δυναστείαις', 'κατὰ', 'τὸν', 'ἰώβ', 'καὶ', 'κοπρία', 'παντὸς', 'θρόνου', 'βασιλικοῦ']\n",
      "tlg2000.tlg001.opp-grc2.txt ['ζωιον', 'και', 'τις', 'ανθρωπος', 'ἡδοναὶ', 'καὶ', 'λῦπαι', 'φόβοι', 'καὶ', 'θάρρη']\n",
      "tlg0057.tlg014.1st1K-grc1.txt ['γαληνου', 'περι', 'νευρων', 'ανατομης', 'βιβλιον', 'ὅτι', 'μὲν', 'οὐδὲν', 'τῶν', 'τοῦ']\n",
      "tlg0086.tlg042.1st1K-grc1.txt ['περι', 'υπνου', 'και', 'εγρηγορσεως', 'περὶ', 'ὕπνου', 'καὶ', 'ἐγρηγόρσεως', 'σκεπτέον', 'τίνα']\n",
      "tlg0057.tlg031.1st1K-grc1.txt ['γαληνου', 'περι', 'χρειας', 'σφυγμων', 'βιβλιον', 'τίς', 'χρεία', 'τῶν', 'σφυγμῶν', 'ἆρά']\n"
     ]
    }
   ],
   "source": [
    "# Take a look at the docs post-processing\n",
    "# Open corpus iterator\n",
    "# docs_path_rel'~/cltk_data/greek/text/tlg/plaintext/'  # for tlg\n",
    "docs_path_rel = '~/cltk_data/greek/text/greek_text_first1kgreek_plaintext/'\n",
    "docs_preprocessed = os.path.expanduser(docs_path_rel)\n",
    "stream = iter_docs(docs_preprocessed, rm_ascii=remove_ascii)\n",
    "for title, tokens in itertools.islice(iter_docs(docs_preprocessed, rm_ascii=remove_ascii), 8):\n",
    "    print(title, tokens[:10])  # print the article title and its first ten tokens"
   ]
  },
  {
   "cell_type": "markdown",
   "metadata": {},
   "source": [
    "# Mk word dictionaries"
   ]
  },
  {
   "cell_type": "code",
   "execution_count": 7,
   "metadata": {},
   "outputs": [],
   "source": [
    "# Open corpus iterator\n",
    "doc_stream = (tokens for _, tokens in iter_docs(docs_preprocessed, rm_ascii=remove_ascii))"
   ]
  },
  {
   "cell_type": "code",
   "execution_count": 8,
   "metadata": {},
   "outputs": [
    {
     "name": "stderr",
     "output_type": "stream",
     "text": [
      "INFO : loading Dictionary object from /home/kyle/cltk_data/user_data/lda_1kgreek/gensim_dict_id2word_1kgrk_nobelow20_noabove0.1_tokmin3_tokmax20_docmin50_deaccentFalse.dict\n",
      "INFO : loaded /home/kyle/cltk_data/user_data/lda_1kgreek/gensim_dict_id2word_1kgrk_nobelow20_noabove0.1_tokmin3_tokmax20_docmin50_deaccentFalse.dict\n"
     ]
    },
    {
     "name": "stdout",
     "output_type": "stream",
     "text": [
      "Dictionary(22820 unique tokens: ['λουκᾶν', 'ἄρχονται', 'λουκᾶς', 'προοιμίοις', 'ζαχαρίου']...)\n"
     ]
    }
   ],
   "source": [
    "# store the dictionary, for future reference\n",
    "dict_name = 'gensim_dict_id2word_1kgrk_nobelow{}_noabove{}_tokmin{}_tokmax{}_docmin{}_deaccent{}.dict'.format(no_below, \n",
    "                                                                                                            no_above, \n",
    "                                                                                                            TOK_MIN, \n",
    "                                                                                                            TOK_MAX, \n",
    "                                                                                                            DOC_MIN, \n",
    "                                                                                                            PREPROCESS_DEACCENT)\n",
    "dict_path = os.path.join(working_dir, dict_name)\n",
    "\n",
    "# consider doing same filtering as done in the class, then combinging count\n",
    "try:\n",
    "    id2word_map = gensim.corpora.dictionary.Dictionary.load(dict_path)\n",
    "except FileNotFoundError:\n",
    "    t0 = time.time()\n",
    "    # ~4 min on TLG corpus if rm accents; ~w min if not\n",
    "    id2word_map = gensim.corpora.Dictionary(doc_stream)\n",
    "    # this cutoff might lose too much info, we'll see\n",
    "    # ignore words that appear in less than 20 documents or more than 10% documents\n",
    "    id2word_map.filter_extremes(no_below=no_below, no_above=no_above)\n",
    "    id2word_map.save(dict_path)\n",
    "    print('Time to mk new corpus dictionary:', time.time() - t0)\n",
    "print(id2word_map)"
   ]
  },
  {
   "cell_type": "markdown",
   "metadata": {},
   "source": [
    "# Mk vectors\n",
    "\n",
    "Now start again with the corpus, turning the actual words into integers from our map."
   ]
  },
  {
   "cell_type": "code",
   "execution_count": 9,
   "metadata": {
    "scrolled": false
   },
   "outputs": [
    {
     "name": "stdout",
     "output_type": "stream",
     "text": [
      "[(2469, 1), (5973, 1)]\n",
      "ποίησις\n"
     ]
    }
   ],
   "source": [
    "# Illustrate what this BoW space looks like with example doc\n",
    "doc = \"περὶ ποιητικῆς αὐτῆς τε καὶ τῶν εἰδῶν αὐτῆς, ἥν τινα δύναμιν ἕκαστον ἔχει, καὶ πῶς δεῖ συνίστασθαι τοὺς μύθους [10] εἰ μέλλει καλῶς ἕξειν ἡ ποίησις, ἔτι δὲ ἐκ πόσων καὶ ποίων ἐστὶ μορίων, ὁμοίως δὲ καὶ περὶ τῶν ἄλλων ὅσα τῆς αὐτῆς ἐστι μεθόδου, λέγωμεν ἀρξάμενοι κατὰ φύσιν πρῶτον ἀπὸ τῶν πρώτων.\"\n",
    "doc = ' '.join(simple_preprocess(doc))\n",
    "bow = id2word_map.doc2bow(tokenize(doc, rm_ascii=remove_ascii))\n",
    "print(bow)  # words both in BoW dict and doc\n",
    "print(id2word_map[bow[0][0]])  # map int back to str"
   ]
  },
  {
   "cell_type": "code",
   "execution_count": 10,
   "metadata": {
    "collapsed": true
   },
   "outputs": [],
   "source": [
    "clip_docs_at = 25 # None for final\n",
    "# make the BoW corpus\n",
    "# creates a stream of bag-of-words vectors\n",
    "corpus_bow_tlg = GenerateCorpus(docs_preprocessed, id2word_map, clip_docs=clip_docs_at)\n",
    "\n",
    "# reduce corpus size for faster testing\n",
    "#corpus_bow_tlg = gensim.utils.ClippedCorpus(corpus_bow_tlg, 100)\n",
    "\n",
    "# vector = next(iter(corpus_bow_tlg))\n",
    "# print(vector)  # print the first vector in the stream\n",
    "# [(0, 1), (1, 1), (2, 1), ...]\n",
    "\n",
    "# # what is the most common word in that first article?\n",
    "# most_index, most_count = max(vector, key=lambda _tuple: _tuple[1])\n",
    "# print(id2word_map[most_index], most_count)  # μιλησιοις 2"
   ]
  },
  {
   "cell_type": "code",
   "execution_count": 11,
   "metadata": {},
   "outputs": [
    {
     "name": "stderr",
     "output_type": "stream",
     "text": [
      "INFO : storing corpus in Matrix Market format to /home/kyle/cltk_data/user_data/lda_1kgreek/gensim_bow_1kgrk_nobelow20_noabove0.1_tokmin3_tokmax20_docmin50_deaccentFalse.mm\n",
      "INFO : saving sparse matrix to /home/kyle/cltk_data/user_data/lda_1kgreek/gensim_bow_1kgrk_nobelow20_noabove0.1_tokmin3_tokmax20_docmin50_deaccentFalse.mm\n",
      "INFO : PROGRESS: saving document #0\n",
      "INFO : saved 25x22128 matrix, density=4.745% (26247/553200)\n",
      "INFO : saving MmCorpus index to /home/kyle/cltk_data/user_data/lda_1kgreek/gensim_bow_1kgrk_nobelow20_noabove0.1_tokmin3_tokmax20_docmin50_deaccentFalse.mm.index\n"
     ]
    },
    {
     "name": "stdout",
     "output_type": "stream",
     "text": [
      "Time to save BoW space: 3.010697364807129\n"
     ]
    }
   ],
   "source": [
    "# Save BoW\n",
    "# ~4 min on TLG corpus\n",
    "bow_name = 'gensim_bow_1kgrk_nobelow{}_noabove{}_tokmin{}_tokmax{}_docmin{}_deaccent{}.mm'.format(no_below, \n",
    "                                                                                                no_above, \n",
    "                                                                                                TOK_MIN, \n",
    "                                                                                                TOK_MAX, \n",
    "                                                                                                DOC_MIN, \n",
    "                                                                                                PREPROCESS_DEACCENT)\n",
    "bow_path = os.path.join(working_dir, bow_name)\n",
    "t0 = time.time()\n",
    "gensim.corpora.MmCorpus.serialize(bow_path, corpus_bow_tlg)\n",
    "print('Time to save BoW space:', time.time() - t0)\n",
    "\n",
    "# Later load saved corpus with:\n",
    "# corpus_bow_tlg = gensim.corpora.MmCorpus(bow_path)"
   ]
  },
  {
   "cell_type": "code",
   "execution_count": 12,
   "metadata": {
    "collapsed": true
   },
   "outputs": [],
   "source": [
    "total_included_docs = len(corpus_bow_tlg.titles)  # used later for testing results"
   ]
  },
  {
   "cell_type": "markdown",
   "metadata": {},
   "source": [
    "# LDA transformation"
   ]
  },
  {
   "cell_type": "code",
   "execution_count": 13,
   "metadata": {
    "collapsed": true
   },
   "outputs": [],
   "source": [
    "# Quick testing using just a part of the corpus\n",
    "\n",
    "NUM_TOPICS_LIST = [2, 3, 5, 10, 25, 50, 100]\n",
    "NUM_TOPICS_LIST.append(len(get_epithets()))  # mk topics same number as traditional epithets\n",
    "NUM_TOPICS_LIST = sorted(NUM_TOPICS_LIST)\n",
    "PASSES = 1"
   ]
  },
  {
   "cell_type": "code",
   "execution_count": 15,
   "metadata": {
    "scrolled": true
   },
   "outputs": [
    {
     "name": "stderr",
     "output_type": "stream",
     "text": [
      "INFO : using symmetric alpha at 0.5\n",
      "INFO : using symmetric eta at 4.3821209465381244e-05\n",
      "INFO : using serial LDA version on this node\n"
     ]
    },
    {
     "name": "stdout",
     "output_type": "stream",
     "text": [
      "Beginning training ...\n",
      "... 2 topics and 1 passes ...\n"
     ]
    },
    {
     "name": "stderr",
     "output_type": "stream",
     "text": [
      "INFO : running online LDA training, 2 topics, 1 passes over the supplied corpus of 25 documents, updating every 2000 documents, evaluating every ~25 documents, iterating 50x with a convergence threshold of 0.001000\n",
      "WARNING : too few updates, training might not converge; consider increasing the number of passes or iterations to improve accuracy\n",
      "INFO : training LDA model using 1 processes\n",
      "INFO : PROGRESS: pass 0, dispatched chunk #0 = documents up to #25/25, outstanding queue size 1\n",
      "INFO : topic #0 (0.500): 0.004*\"πεπερασμένον\" + 0.003*\"ἀπείρου\" + 0.002*\"μεταβάλλον\" + 0.002*\"προσεχῶς\" + 0.002*\"εὔδημος\" + 0.002*\"κινουμένῳ\" + 0.001*\"αὐτοκίνητον\" + 0.001*\"νόησις\" + 0.001*\"ἠρεμεῖ\" + 0.001*\"ἠρεμία\"\n",
      "INFO : topic #1 (0.500): 0.002*\"ἀπείρου\" + 0.002*\"πεπερασμένον\" + 0.002*\"μεταβάλλον\" + 0.002*\"κινουμένῳ\" + 0.002*\"εὔδημος\" + 0.002*\"ἀπείρῳ\" + 0.002*\"αὐτοκίνητον\" + 0.002*\"στερήσεως\" + 0.001*\"προσεχῶς\" + 0.001*\"ἠρεμεῖ\"\n",
      "INFO : topic diff=1.113706, rho=1.000000\n",
      "INFO : -9.604 per-word bound, 778.4 perplexity estimate based on a held-out corpus of 25 documents with 69697 words\n",
      "INFO : storing corpus in Matrix Market format to /home/kyle/cltk_data/user_data/lda_1kgreek/gensim_lda_space_1kgrk_numtopics2_numpasses1_nobelow20_noabove0.1_tokmin3_tokmax20_docmin50_deaccentFalse.mm\n",
      "INFO : saving sparse matrix to /home/kyle/cltk_data/user_data/lda_1kgreek/gensim_lda_space_1kgrk_numtopics2_numpasses1_nobelow20_noabove0.1_tokmin3_tokmax20_docmin50_deaccentFalse.mm\n",
      "INFO : PROGRESS: saving document #0\n",
      "INFO : saved 25x2 matrix, density=78.000% (39/50)\n",
      "INFO : saving MmCorpus index to /home/kyle/cltk_data/user_data/lda_1kgreek/gensim_lda_space_1kgrk_numtopics2_numpasses1_nobelow20_noabove0.1_tokmin3_tokmax20_docmin50_deaccentFalse.mm.index\n",
      "INFO : saving LdaState object under ./gensim_lda_model_1kgrk_numtopics2_numpasses1_nobelow20_noabove0.1_tokmin3_tokmax20_docmin50_deaccentFalse.model.state, separately None\n",
      "INFO : saved ./gensim_lda_model_1kgrk_numtopics2_numpasses1_nobelow20_noabove0.1_tokmin3_tokmax20_docmin50_deaccentFalse.model.state\n",
      "INFO : saving LdaMulticore object under ./gensim_lda_model_1kgrk_numtopics2_numpasses1_nobelow20_noabove0.1_tokmin3_tokmax20_docmin50_deaccentFalse.model, separately ['expElogbeta', 'sstats']\n",
      "INFO : storing np array 'expElogbeta' to ./gensim_lda_model_1kgrk_numtopics2_numpasses1_nobelow20_noabove0.1_tokmin3_tokmax20_docmin50_deaccentFalse.model.expElogbeta.npy\n",
      "INFO : not storing attribute dispatcher\n",
      "INFO : not storing attribute id2word\n",
      "INFO : not storing attribute state\n",
      "INFO : saved ./gensim_lda_model_1kgrk_numtopics2_numpasses1_nobelow20_noabove0.1_tokmin3_tokmax20_docmin50_deaccentFalse.model\n",
      "INFO : using symmetric alpha at 0.3333333333333333\n",
      "INFO : using symmetric eta at 4.3821209465381244e-05\n",
      "INFO : using serial LDA version on this node\n"
     ]
    },
    {
     "name": "stdout",
     "output_type": "stream",
     "text": [
      "Time to train LDA model space: 9.396849632263184\n",
      "Beginning training ...\n",
      "... 3 topics and 1 passes ...\n"
     ]
    },
    {
     "name": "stderr",
     "output_type": "stream",
     "text": [
      "INFO : running online LDA training, 3 topics, 1 passes over the supplied corpus of 25 documents, updating every 2000 documents, evaluating every ~25 documents, iterating 50x with a convergence threshold of 0.001000\n",
      "WARNING : too few updates, training might not converge; consider increasing the number of passes or iterations to improve accuracy\n",
      "INFO : training LDA model using 1 processes\n",
      "INFO : PROGRESS: pass 0, dispatched chunk #0 = documents up to #25/25, outstanding queue size 1\n",
      "INFO : topic #0 (0.333): 0.002*\"πεπερασμένον\" + 0.002*\"εὔδημος\" + 0.002*\"ἀπείρου\" + 0.002*\"κινουμένῳ\" + 0.002*\"μεταβάλλον\" + 0.002*\"προσεχῶς\" + 0.001*\"διαιρετὸν\" + 0.001*\"νόησις\" + 0.001*\"ἠρεμία\" + 0.001*\"ἀλλʼ\"\n",
      "INFO : topic #1 (0.333): 0.003*\"πεπερασμένον\" + 0.003*\"ἀπείρου\" + 0.002*\"μεταβάλλον\" + 0.002*\"αὐτοκίνητον\" + 0.002*\"κινουμένῳ\" + 0.002*\"προσεχῶς\" + 0.002*\"εὔδημος\" + 0.001*\"διαιρετόν\" + 0.001*\"στερήσεως\" + 0.001*\"νόησις\"\n",
      "INFO : topic #2 (0.333): 0.004*\"πεπερασμένον\" + 0.002*\"ἀπείρου\" + 0.002*\"μεταβάλλον\" + 0.002*\"εὔδημος\" + 0.002*\"προσεχῶς\" + 0.002*\"κινουμένῳ\" + 0.002*\"ἠρεμεῖ\" + 0.002*\"ἀπείρῳ\" + 0.002*\"αὐτοκίνητον\" + 0.002*\"ἠρεμία\"\n",
      "INFO : topic diff=1.423865, rho=1.000000\n",
      "INFO : -9.732 per-word bound, 850.2 perplexity estimate based on a held-out corpus of 25 documents with 69697 words\n",
      "INFO : storing corpus in Matrix Market format to /home/kyle/cltk_data/user_data/lda_1kgreek/gensim_lda_space_1kgrk_numtopics3_numpasses1_nobelow20_noabove0.1_tokmin3_tokmax20_docmin50_deaccentFalse.mm\n",
      "INFO : saving sparse matrix to /home/kyle/cltk_data/user_data/lda_1kgreek/gensim_lda_space_1kgrk_numtopics3_numpasses1_nobelow20_noabove0.1_tokmin3_tokmax20_docmin50_deaccentFalse.mm\n",
      "INFO : PROGRESS: saving document #0\n",
      "INFO : saved 25x3 matrix, density=54.667% (41/75)\n",
      "INFO : saving MmCorpus index to /home/kyle/cltk_data/user_data/lda_1kgreek/gensim_lda_space_1kgrk_numtopics3_numpasses1_nobelow20_noabove0.1_tokmin3_tokmax20_docmin50_deaccentFalse.mm.index\n",
      "INFO : saving LdaState object under ./gensim_lda_model_1kgrk_numtopics3_numpasses1_nobelow20_noabove0.1_tokmin3_tokmax20_docmin50_deaccentFalse.model.state, separately None\n",
      "INFO : saved ./gensim_lda_model_1kgrk_numtopics3_numpasses1_nobelow20_noabove0.1_tokmin3_tokmax20_docmin50_deaccentFalse.model.state\n",
      "INFO : saving LdaMulticore object under ./gensim_lda_model_1kgrk_numtopics3_numpasses1_nobelow20_noabove0.1_tokmin3_tokmax20_docmin50_deaccentFalse.model, separately ['expElogbeta', 'sstats']\n",
      "INFO : storing np array 'expElogbeta' to ./gensim_lda_model_1kgrk_numtopics3_numpasses1_nobelow20_noabove0.1_tokmin3_tokmax20_docmin50_deaccentFalse.model.expElogbeta.npy\n",
      "INFO : not storing attribute dispatcher\n",
      "INFO : not storing attribute id2word\n",
      "INFO : not storing attribute state\n",
      "INFO : saved ./gensim_lda_model_1kgrk_numtopics3_numpasses1_nobelow20_noabove0.1_tokmin3_tokmax20_docmin50_deaccentFalse.model\n",
      "INFO : using symmetric alpha at 0.2\n",
      "INFO : using symmetric eta at 4.3821209465381244e-05\n",
      "INFO : using serial LDA version on this node\n"
     ]
    },
    {
     "name": "stdout",
     "output_type": "stream",
     "text": [
      "Time to train LDA model space: 9.716853857040405\n",
      "Beginning training ...\n",
      "... 5 topics and 1 passes ...\n"
     ]
    },
    {
     "name": "stderr",
     "output_type": "stream",
     "text": [
      "INFO : running online LDA training, 5 topics, 1 passes over the supplied corpus of 25 documents, updating every 2000 documents, evaluating every ~25 documents, iterating 50x with a convergence threshold of 0.001000\n",
      "WARNING : too few updates, training might not converge; consider increasing the number of passes or iterations to improve accuracy\n",
      "INFO : training LDA model using 1 processes\n",
      "INFO : PROGRESS: pass 0, dispatched chunk #0 = documents up to #25/25, outstanding queue size 1\n",
      "INFO : topic #0 (0.200): 0.003*\"πεπερασμένον\" + 0.003*\"μεταβάλλον\" + 0.002*\"προσεχῶς\" + 0.002*\"κινουμένῳ\" + 0.002*\"ἀπείρου\" + 0.002*\"ἀπείρῳ\" + 0.002*\"αὐτοκίνητον\" + 0.001*\"στερήσεως\" + 0.001*\"ἠρεμία\" + 0.001*\"εὔδημος\"\n",
      "INFO : topic #1 (0.200): 0.004*\"πεπερασμένον\" + 0.003*\"ἀπείρου\" + 0.002*\"μεταβάλλον\" + 0.002*\"εὔδημος\" + 0.002*\"προσεχῶς\" + 0.002*\"κινουμένῳ\" + 0.002*\"αὐτοκίνητον\" + 0.002*\"στερήσεως\" + 0.002*\"νόησις\" + 0.002*\"διαιρετὸν\"\n",
      "INFO : topic #2 (0.200): 0.003*\"πεπερασμένον\" + 0.003*\"ἀπείρου\" + 0.002*\"κινουμένῳ\" + 0.002*\"μεταβάλλον\" + 0.001*\"προσεχῶς\" + 0.001*\"νόησις\" + 0.001*\"ἠρεμεῖ\" + 0.001*\"εὔδημος\" + 0.001*\"κατηγορίαις\" + 0.001*\"αὐτοκίνητον\"\n",
      "INFO : topic #3 (0.200): 0.003*\"πεπερασμένον\" + 0.002*\"ἀπείρου\" + 0.002*\"εὔδημος\" + 0.002*\"μεταβάλλον\" + 0.001*\"ἠρεμεῖ\" + 0.001*\"κινουμένῳ\" + 0.001*\"νόησις\" + 0.001*\"αὐτοκίνητον\" + 0.001*\"ἀδιαίρετον\" + 0.001*\"προσεχῶς\"\n",
      "INFO : topic #4 (0.200): 0.003*\"πεπερασμένον\" + 0.003*\"ἀπείρου\" + 0.002*\"εὔδημος\" + 0.002*\"μεταβάλλον\" + 0.002*\"αὐτοκίνητον\" + 0.001*\"προσεχῶς\" + 0.001*\"ἠρεμεῖ\" + 0.001*\"κινουμένῳ\" + 0.001*\"νόησις\" + 0.001*\"στερήσεως\"\n",
      "INFO : topic diff=2.138563, rho=1.000000\n",
      "INFO : -10.137 per-word bound, 1125.7 perplexity estimate based on a held-out corpus of 25 documents with 69697 words\n",
      "INFO : storing corpus in Matrix Market format to /home/kyle/cltk_data/user_data/lda_1kgreek/gensim_lda_space_1kgrk_numtopics5_numpasses1_nobelow20_noabove0.1_tokmin3_tokmax20_docmin50_deaccentFalse.mm\n",
      "INFO : saving sparse matrix to /home/kyle/cltk_data/user_data/lda_1kgreek/gensim_lda_space_1kgrk_numtopics5_numpasses1_nobelow20_noabove0.1_tokmin3_tokmax20_docmin50_deaccentFalse.mm\n",
      "INFO : PROGRESS: saving document #0\n",
      "INFO : saved 25x5 matrix, density=36.000% (45/125)\n",
      "INFO : saving MmCorpus index to /home/kyle/cltk_data/user_data/lda_1kgreek/gensim_lda_space_1kgrk_numtopics5_numpasses1_nobelow20_noabove0.1_tokmin3_tokmax20_docmin50_deaccentFalse.mm.index\n",
      "INFO : saving LdaState object under ./gensim_lda_model_1kgrk_numtopics5_numpasses1_nobelow20_noabove0.1_tokmin3_tokmax20_docmin50_deaccentFalse.model.state, separately None\n",
      "INFO : saved ./gensim_lda_model_1kgrk_numtopics5_numpasses1_nobelow20_noabove0.1_tokmin3_tokmax20_docmin50_deaccentFalse.model.state\n",
      "INFO : saving LdaMulticore object under ./gensim_lda_model_1kgrk_numtopics5_numpasses1_nobelow20_noabove0.1_tokmin3_tokmax20_docmin50_deaccentFalse.model, separately ['expElogbeta', 'sstats']\n",
      "INFO : storing np array 'expElogbeta' to ./gensim_lda_model_1kgrk_numtopics5_numpasses1_nobelow20_noabove0.1_tokmin3_tokmax20_docmin50_deaccentFalse.model.expElogbeta.npy\n",
      "INFO : not storing attribute dispatcher\n",
      "INFO : not storing attribute id2word\n",
      "INFO : not storing attribute state\n",
      "INFO : saved ./gensim_lda_model_1kgrk_numtopics5_numpasses1_nobelow20_noabove0.1_tokmin3_tokmax20_docmin50_deaccentFalse.model\n",
      "INFO : using symmetric alpha at 0.1\n",
      "INFO : using symmetric eta at 4.3821209465381244e-05\n",
      "INFO : using serial LDA version on this node\n"
     ]
    },
    {
     "name": "stdout",
     "output_type": "stream",
     "text": [
      "Time to train LDA model space: 13.362380266189575\n",
      "Beginning training ...\n",
      "... 10 topics and 1 passes ...\n"
     ]
    },
    {
     "name": "stderr",
     "output_type": "stream",
     "text": [
      "INFO : running online LDA training, 10 topics, 1 passes over the supplied corpus of 25 documents, updating every 2000 documents, evaluating every ~25 documents, iterating 50x with a convergence threshold of 0.001000\n",
      "WARNING : too few updates, training might not converge; consider increasing the number of passes or iterations to improve accuracy\n",
      "INFO : training LDA model using 1 processes\n",
      "INFO : PROGRESS: pass 0, dispatched chunk #0 = documents up to #25/25, outstanding queue size 1\n",
      "INFO : topic #3 (0.100): 0.002*\"ἀπείρου\" + 0.002*\"πεπερασμένον\" + 0.002*\"εὔδημος\" + 0.002*\"μεταβάλλον\" + 0.001*\"προσεχῶς\" + 0.001*\"αὐτοκίνητον\" + 0.001*\"στερήσεως\" + 0.001*\"φλεβοτομίας\" + 0.001*\"κινουμένῳ\" + 0.001*\"διαιρετὸν\"\n",
      "INFO : topic #5 (0.100): 0.002*\"ἀπείρου\" + 0.002*\"εὔδημος\" + 0.002*\"πεπερασμένον\" + 0.001*\"μεταβάλλον\" + 0.001*\"κινουμένῳ\" + 0.001*\"προσεχῶς\" + 0.001*\"στερήσεως\" + 0.001*\"αὐτοκίνητον\" + 0.001*\"ἀπείρῳ\" + 0.001*\"νόησις\"\n",
      "INFO : topic #6 (0.100): 0.004*\"πεπερασμένον\" + 0.004*\"ἀπείρου\" + 0.002*\"μεταβάλλον\" + 0.002*\"κινουμένῳ\" + 0.002*\"προσεχῶς\" + 0.002*\"εὔδημος\" + 0.002*\"ἠρεμία\" + 0.002*\"αὐτοκίνητον\" + 0.001*\"ἠρεμεῖ\" + 0.001*\"ἀπείρῳ\"\n",
      "INFO : topic #0 (0.100): 0.004*\"πεπερασμένον\" + 0.004*\"ἀπείρου\" + 0.003*\"εὔδημος\" + 0.003*\"μεταβάλλον\" + 0.002*\"κινουμένῳ\" + 0.002*\"αὐτοκίνητον\" + 0.002*\"προσεχῶς\" + 0.002*\"ἀδιαίρετον\" + 0.002*\"νόησις\" + 0.002*\"διαιρετὸν\"\n",
      "INFO : topic #4 (0.100): 0.003*\"πεπερασμένον\" + 0.002*\"ἀπείρου\" + 0.002*\"κινουμένῳ\" + 0.002*\"προσεχῶς\" + 0.002*\"εὔδημος\" + 0.002*\"στερήσεως\" + 0.002*\"ἠρεμία\" + 0.002*\"μεταβάλλον\" + 0.001*\"νόησις\" + 0.001*\"ταὐτομάτου\"\n",
      "INFO : topic diff=4.250175, rho=1.000000\n",
      "INFO : -11.038 per-word bound, 2102.0 perplexity estimate based on a held-out corpus of 25 documents with 69697 words\n",
      "INFO : storing corpus in Matrix Market format to /home/kyle/cltk_data/user_data/lda_1kgreek/gensim_lda_space_1kgrk_numtopics10_numpasses1_nobelow20_noabove0.1_tokmin3_tokmax20_docmin50_deaccentFalse.mm\n",
      "INFO : saving sparse matrix to /home/kyle/cltk_data/user_data/lda_1kgreek/gensim_lda_space_1kgrk_numtopics10_numpasses1_nobelow20_noabove0.1_tokmin3_tokmax20_docmin50_deaccentFalse.mm\n",
      "INFO : PROGRESS: saving document #0\n",
      "INFO : saved 25x10 matrix, density=18.000% (45/250)\n",
      "INFO : saving MmCorpus index to /home/kyle/cltk_data/user_data/lda_1kgreek/gensim_lda_space_1kgrk_numtopics10_numpasses1_nobelow20_noabove0.1_tokmin3_tokmax20_docmin50_deaccentFalse.mm.index\n",
      "INFO : saving LdaState object under ./gensim_lda_model_1kgrk_numtopics10_numpasses1_nobelow20_noabove0.1_tokmin3_tokmax20_docmin50_deaccentFalse.model.state, separately None\n",
      "INFO : saved ./gensim_lda_model_1kgrk_numtopics10_numpasses1_nobelow20_noabove0.1_tokmin3_tokmax20_docmin50_deaccentFalse.model.state\n",
      "INFO : saving LdaMulticore object under ./gensim_lda_model_1kgrk_numtopics10_numpasses1_nobelow20_noabove0.1_tokmin3_tokmax20_docmin50_deaccentFalse.model, separately ['expElogbeta', 'sstats']\n",
      "INFO : storing np array 'expElogbeta' to ./gensim_lda_model_1kgrk_numtopics10_numpasses1_nobelow20_noabove0.1_tokmin3_tokmax20_docmin50_deaccentFalse.model.expElogbeta.npy\n",
      "INFO : not storing attribute dispatcher\n",
      "INFO : not storing attribute id2word\n",
      "INFO : not storing attribute state\n",
      "INFO : saved ./gensim_lda_model_1kgrk_numtopics10_numpasses1_nobelow20_noabove0.1_tokmin3_tokmax20_docmin50_deaccentFalse.model\n",
      "INFO : using symmetric alpha at 0.04\n",
      "INFO : using symmetric eta at 4.3821209465381244e-05\n",
      "INFO : using serial LDA version on this node\n"
     ]
    },
    {
     "name": "stdout",
     "output_type": "stream",
     "text": [
      "Time to train LDA model space: 14.582515954971313\n",
      "Beginning training ...\n",
      "... 25 topics and 1 passes ...\n"
     ]
    },
    {
     "name": "stderr",
     "output_type": "stream",
     "text": [
      "INFO : running online LDA training, 25 topics, 1 passes over the supplied corpus of 25 documents, updating every 2000 documents, evaluating every ~25 documents, iterating 50x with a convergence threshold of 0.001000\n",
      "WARNING : too few updates, training might not converge; consider increasing the number of passes or iterations to improve accuracy\n",
      "INFO : training LDA model using 1 processes\n",
      "INFO : PROGRESS: pass 0, dispatched chunk #0 = documents up to #25/25, outstanding queue size 1\n",
      "INFO : topic #21 (0.040): 0.004*\"ἀπείρου\" + 0.003*\"πεπερασμένον\" + 0.002*\"φλεβοτομίας\" + 0.002*\"εὔδημος\" + 0.002*\"αὐτοκίνητον\" + 0.002*\"κινουμένῳ\" + 0.002*\"μεταβάλλον\" + 0.002*\"προσεχῶς\" + 0.002*\"στερήσεως\" + 0.002*\"ἠρεμία\"\n",
      "INFO : topic #18 (0.040): 0.003*\"πεπερασμένον\" + 0.002*\"μεταβάλλον\" + 0.002*\"κινουμένῳ\" + 0.002*\"εὔδημος\" + 0.002*\"ἀπείρου\" + 0.002*\"προσεχῶς\" + 0.002*\"διαιρετόν\" + 0.001*\"νόησις\" + 0.001*\"ἠρεμία\" + 0.001*\"αὐτοκίνητον\"\n",
      "INFO : topic #8 (0.040): 0.003*\"ἀπείρου\" + 0.003*\"πεπερασμένον\" + 0.002*\"νόησις\" + 0.002*\"κινουμένῳ\" + 0.002*\"εὔδημος\" + 0.002*\"μεταβάλλον\" + 0.002*\"αὐτοκίνητον\" + 0.001*\"ἀπείρῳ\" + 0.001*\"προσεχῶς\" + 0.001*\"ἀλλοιώσεως\"\n",
      "INFO : topic #19 (0.040): 0.002*\"πεπερασμένον\" + 0.002*\"εὔδημος\" + 0.002*\"ἀπείρου\" + 0.002*\"συζυγία\" + 0.001*\"νόησις\" + 0.001*\"μεταβάλλον\" + 0.001*\"ἠρεμία\" + 0.001*\"προσεχῶς\" + 0.001*\"ἀναξαγόρας\" + 0.001*\"αὐτοκίνητον\"\n",
      "INFO : topic #11 (0.040): 0.003*\"ἀπείρου\" + 0.003*\"πεπερασμένον\" + 0.002*\"μεταβάλλον\" + 0.002*\"αὐτοκίνητον\" + 0.002*\"ἠρεμεῖ\" + 0.002*\"ἠρεμία\" + 0.002*\"κινουμένῳ\" + 0.002*\"στερήσεως\" + 0.002*\"εὔδημος\" + 0.002*\"προσεχῶς\"\n",
      "INFO : topic diff=11.575606, rho=1.000000\n",
      "INFO : -14.259 per-word bound, 19601.6 perplexity estimate based on a held-out corpus of 25 documents with 69697 words\n",
      "INFO : storing corpus in Matrix Market format to /home/kyle/cltk_data/user_data/lda_1kgreek/gensim_lda_space_1kgrk_numtopics25_numpasses1_nobelow20_noabove0.1_tokmin3_tokmax20_docmin50_deaccentFalse.mm\n",
      "INFO : saving sparse matrix to /home/kyle/cltk_data/user_data/lda_1kgreek/gensim_lda_space_1kgrk_numtopics25_numpasses1_nobelow20_noabove0.1_tokmin3_tokmax20_docmin50_deaccentFalse.mm\n",
      "INFO : PROGRESS: saving document #0\n",
      "INFO : saved 25x25 matrix, density=10.400% (65/625)\n",
      "INFO : saving MmCorpus index to /home/kyle/cltk_data/user_data/lda_1kgreek/gensim_lda_space_1kgrk_numtopics25_numpasses1_nobelow20_noabove0.1_tokmin3_tokmax20_docmin50_deaccentFalse.mm.index\n",
      "INFO : saving LdaState object under ./gensim_lda_model_1kgrk_numtopics25_numpasses1_nobelow20_noabove0.1_tokmin3_tokmax20_docmin50_deaccentFalse.model.state, separately None\n",
      "INFO : saved ./gensim_lda_model_1kgrk_numtopics25_numpasses1_nobelow20_noabove0.1_tokmin3_tokmax20_docmin50_deaccentFalse.model.state\n",
      "INFO : saving LdaMulticore object under ./gensim_lda_model_1kgrk_numtopics25_numpasses1_nobelow20_noabove0.1_tokmin3_tokmax20_docmin50_deaccentFalse.model, separately ['expElogbeta', 'sstats']\n",
      "INFO : storing np array 'expElogbeta' to ./gensim_lda_model_1kgrk_numtopics25_numpasses1_nobelow20_noabove0.1_tokmin3_tokmax20_docmin50_deaccentFalse.model.expElogbeta.npy\n",
      "INFO : not storing attribute dispatcher\n",
      "INFO : not storing attribute id2word\n",
      "INFO : not storing attribute state\n",
      "INFO : saved ./gensim_lda_model_1kgrk_numtopics25_numpasses1_nobelow20_noabove0.1_tokmin3_tokmax20_docmin50_deaccentFalse.model\n",
      "INFO : using symmetric alpha at 0.02\n",
      "INFO : using symmetric eta at 4.3821209465381244e-05\n",
      "INFO : using serial LDA version on this node\n"
     ]
    },
    {
     "name": "stdout",
     "output_type": "stream",
     "text": [
      "Time to train LDA model space: 15.639700651168823\n",
      "Beginning training ...\n",
      "... 50 topics and 1 passes ...\n"
     ]
    },
    {
     "name": "stderr",
     "output_type": "stream",
     "text": [
      "INFO : running online LDA training, 50 topics, 1 passes over the supplied corpus of 25 documents, updating every 2000 documents, evaluating every ~25 documents, iterating 50x with a convergence threshold of 0.001000\n",
      "WARNING : too few updates, training might not converge; consider increasing the number of passes or iterations to improve accuracy\n",
      "INFO : training LDA model using 1 processes\n",
      "INFO : PROGRESS: pass 0, dispatched chunk #0 = documents up to #25/25, outstanding queue size 1\n",
      "INFO : topic #7 (0.020): 0.004*\"πουλὺ\" + 0.002*\"τῇσι\" + 0.002*\"ὁκόσον\" + 0.002*\"πεπερασμένον\" + 0.002*\"ὅκου\" + 0.002*\"ὀδόντες\" + 0.002*\"λιπαρὸν\" + 0.002*\"ὁκόταν\" + 0.002*\"θερμαινόμενον\" + 0.002*\"ἑβδομάδων\"\n",
      "INFO : topic #30 (0.020): 0.002*\"πεπερασμένον\" + 0.002*\"μεταβάλλον\" + 0.002*\"ἀπείρου\" + 0.001*\"αὐτοκίνητον\" + 0.001*\"προσεχῶς\" + 0.001*\"ἀδιαίρετον\" + 0.001*\"φθορά\" + 0.001*\"εὔδημος\" + 0.001*\"στερήσεως\" + 0.001*\"ἠρεμία\"\n",
      "INFO : topic #17 (0.020): 0.003*\"πεπερασμένον\" + 0.002*\"κινουμένῳ\" + 0.002*\"ἀπείρου\" + 0.002*\"εὔδημος\" + 0.002*\"μεταβάλλον\" + 0.002*\"νόησις\" + 0.002*\"ἀπείρῳ\" + 0.002*\"ἠρεμεῖ\" + 0.001*\"αὐτοκίνητον\" + 0.001*\"προσεχῶς\"\n",
      "INFO : topic #33 (0.020): 0.004*\"ἀλλʼ\" + 0.003*\"ἐπʼ\" + 0.002*\"λίμνην\" + 0.002*\"οὐδʼ\" + 0.002*\"ἀπείρου\" + 0.002*\"μεταβάλλον\" + 0.002*\"πεπερασμένον\" + 0.002*\"εὔδημος\" + 0.002*\"νόησις\" + 0.002*\"κινουμένῳ\"\n",
      "INFO : topic #32 (0.020): 0.003*\"ἀπείρου\" + 0.002*\"πεπερασμένον\" + 0.002*\"εὔδημος\" + 0.002*\"μεταβάλλον\" + 0.002*\"αὐτοκίνητον\" + 0.001*\"προσεχῶς\" + 0.001*\"ἀπείρῳ\" + 0.001*\"κινουμένῳ\" + 0.001*\"ἀλλοιώσεως\" + 0.001*\"νόησις\"\n",
      "INFO : topic diff=24.843323, rho=1.000000\n",
      "INFO : -19.496 per-word bound, 739596.5 perplexity estimate based on a held-out corpus of 25 documents with 69697 words\n",
      "INFO : storing corpus in Matrix Market format to /home/kyle/cltk_data/user_data/lda_1kgreek/gensim_lda_space_1kgrk_numtopics50_numpasses1_nobelow20_noabove0.1_tokmin3_tokmax20_docmin50_deaccentFalse.mm\n",
      "INFO : saving sparse matrix to /home/kyle/cltk_data/user_data/lda_1kgreek/gensim_lda_space_1kgrk_numtopics50_numpasses1_nobelow20_noabove0.1_tokmin3_tokmax20_docmin50_deaccentFalse.mm\n",
      "INFO : PROGRESS: saving document #0\n",
      "INFO : saved 25x50 matrix, density=4.400% (55/1250)\n",
      "INFO : saving MmCorpus index to /home/kyle/cltk_data/user_data/lda_1kgreek/gensim_lda_space_1kgrk_numtopics50_numpasses1_nobelow20_noabove0.1_tokmin3_tokmax20_docmin50_deaccentFalse.mm.index\n",
      "INFO : saving LdaState object under ./gensim_lda_model_1kgrk_numtopics50_numpasses1_nobelow20_noabove0.1_tokmin3_tokmax20_docmin50_deaccentFalse.model.state, separately None\n",
      "INFO : saved ./gensim_lda_model_1kgrk_numtopics50_numpasses1_nobelow20_noabove0.1_tokmin3_tokmax20_docmin50_deaccentFalse.model.state\n",
      "INFO : saving LdaMulticore object under ./gensim_lda_model_1kgrk_numtopics50_numpasses1_nobelow20_noabove0.1_tokmin3_tokmax20_docmin50_deaccentFalse.model, separately ['expElogbeta', 'sstats']\n",
      "INFO : storing np array 'expElogbeta' to ./gensim_lda_model_1kgrk_numtopics50_numpasses1_nobelow20_noabove0.1_tokmin3_tokmax20_docmin50_deaccentFalse.model.expElogbeta.npy\n",
      "INFO : not storing attribute dispatcher\n",
      "INFO : not storing attribute id2word\n",
      "INFO : not storing attribute state\n",
      "INFO : saved ./gensim_lda_model_1kgrk_numtopics50_numpasses1_nobelow20_noabove0.1_tokmin3_tokmax20_docmin50_deaccentFalse.model\n",
      "INFO : using symmetric alpha at 0.01818181818181818\n",
      "INFO : using symmetric eta at 4.3821209465381244e-05\n",
      "INFO : using serial LDA version on this node\n"
     ]
    },
    {
     "name": "stdout",
     "output_type": "stream",
     "text": [
      "Time to train LDA model space: 25.987497091293335\n",
      "Beginning training ...\n",
      "... 55 topics and 1 passes ...\n"
     ]
    },
    {
     "name": "stderr",
     "output_type": "stream",
     "text": [
      "INFO : running online LDA training, 55 topics, 1 passes over the supplied corpus of 25 documents, updating every 2000 documents, evaluating every ~25 documents, iterating 50x with a convergence threshold of 0.001000\n",
      "WARNING : too few updates, training might not converge; consider increasing the number of passes or iterations to improve accuracy\n",
      "INFO : training LDA model using 1 processes\n",
      "INFO : PROGRESS: pass 0, dispatched chunk #0 = documents up to #25/25, outstanding queue size 1\n",
      "INFO : topic #6 (0.018): 0.003*\"πεπερασμένον\" + 0.003*\"ἀπείρου\" + 0.002*\"προσεχῶς\" + 0.002*\"αὐτοκίνητον\" + 0.002*\"εὔδημος\" + 0.002*\"κινουμένῳ\" + 0.002*\"ἀπείρῳ\" + 0.002*\"μεταβάλλον\" + 0.002*\"διαιρετὸν\" + 0.002*\"κατηγορίαις\"\n",
      "INFO : topic #29 (0.018): 0.005*\"ἀλλʼ\" + 0.004*\"πεπερασμένον\" + 0.003*\"ἀπείρου\" + 0.002*\"μεταβάλλον\" + 0.002*\"εὔδημος\" + 0.002*\"προσεχῶς\" + 0.002*\"κινουμένῳ\" + 0.002*\"στερήσεως\" + 0.002*\"ἠρεμεῖ\" + 0.002*\"ἀπείρῳ\"\n",
      "INFO : topic #31 (0.018): 0.006*\"πεπερασμένον\" + 0.004*\"ἀπείρου\" + 0.003*\"εὔδημος\" + 0.003*\"μεταβάλλον\" + 0.003*\"αὐτοκίνητον\" + 0.002*\"προσεχῶς\" + 0.002*\"κινουμένῳ\" + 0.002*\"ἀπείρῳ\" + 0.002*\"ἠρεμεῖ\" + 0.002*\"διαιρετόν\"\n",
      "INFO : topic #47 (0.018): 0.003*\"πεπερασμένον\" + 0.003*\"ἀλλʼ\" + 0.003*\"ἀπείρου\" + 0.002*\"μεταβάλλον\" + 0.002*\"εὔδημος\" + 0.002*\"προσεχῶς\" + 0.002*\"νόησις\" + 0.001*\"στερήσεως\" + 0.001*\"ἠρεμία\" + 0.001*\"ἀπείρῳ\"\n",
      "INFO : topic #42 (0.018): 0.003*\"νόησις\" + 0.002*\"πεπερασμένον\" + 0.002*\"νόησιν\" + 0.001*\"ἀπείρου\" + 0.001*\"μεταβάλλον\" + 0.001*\"νοητῷ\" + 0.001*\"εὐδαιμονεῖν\" + 0.001*\"εὔδημος\" + 0.001*\"στερήσεως\" + 0.001*\"δικασταί\"\n",
      "INFO : topic diff=27.593496, rho=1.000000\n",
      "INFO : -20.378 per-word bound, 1362753.8 perplexity estimate based on a held-out corpus of 25 documents with 69697 words\n",
      "INFO : storing corpus in Matrix Market format to /home/kyle/cltk_data/user_data/lda_1kgreek/gensim_lda_space_1kgrk_numtopics55_numpasses1_nobelow20_noabove0.1_tokmin3_tokmax20_docmin50_deaccentFalse.mm\n",
      "INFO : saving sparse matrix to /home/kyle/cltk_data/user_data/lda_1kgreek/gensim_lda_space_1kgrk_numtopics55_numpasses1_nobelow20_noabove0.1_tokmin3_tokmax20_docmin50_deaccentFalse.mm\n",
      "INFO : PROGRESS: saving document #0\n",
      "INFO : saved 25x54 matrix, density=4.074% (55/1350)\n",
      "INFO : saving MmCorpus index to /home/kyle/cltk_data/user_data/lda_1kgreek/gensim_lda_space_1kgrk_numtopics55_numpasses1_nobelow20_noabove0.1_tokmin3_tokmax20_docmin50_deaccentFalse.mm.index\n",
      "INFO : saving LdaState object under ./gensim_lda_model_1kgrk_numtopics55_numpasses1_nobelow20_noabove0.1_tokmin3_tokmax20_docmin50_deaccentFalse.model.state, separately None\n",
      "INFO : saved ./gensim_lda_model_1kgrk_numtopics55_numpasses1_nobelow20_noabove0.1_tokmin3_tokmax20_docmin50_deaccentFalse.model.state\n",
      "INFO : saving LdaMulticore object under ./gensim_lda_model_1kgrk_numtopics55_numpasses1_nobelow20_noabove0.1_tokmin3_tokmax20_docmin50_deaccentFalse.model, separately ['expElogbeta', 'sstats']\n",
      "INFO : storing np array 'expElogbeta' to ./gensim_lda_model_1kgrk_numtopics55_numpasses1_nobelow20_noabove0.1_tokmin3_tokmax20_docmin50_deaccentFalse.model.expElogbeta.npy\n",
      "INFO : not storing attribute dispatcher\n",
      "INFO : not storing attribute id2word\n",
      "INFO : not storing attribute state\n",
      "INFO : saved ./gensim_lda_model_1kgrk_numtopics55_numpasses1_nobelow20_noabove0.1_tokmin3_tokmax20_docmin50_deaccentFalse.model\n",
      "INFO : using symmetric alpha at 0.01\n",
      "INFO : using symmetric eta at 4.3821209465381244e-05\n",
      "INFO : using serial LDA version on this node\n"
     ]
    },
    {
     "name": "stdout",
     "output_type": "stream",
     "text": [
      "Time to train LDA model space: 24.59763216972351\n",
      "Beginning training ...\n",
      "... 100 topics and 1 passes ...\n"
     ]
    },
    {
     "name": "stderr",
     "output_type": "stream",
     "text": [
      "INFO : running online LDA training, 100 topics, 1 passes over the supplied corpus of 25 documents, updating every 2000 documents, evaluating every ~25 documents, iterating 50x with a convergence threshold of 0.001000\n",
      "WARNING : too few updates, training might not converge; consider increasing the number of passes or iterations to improve accuracy\n",
      "INFO : training LDA model using 1 processes\n",
      "INFO : PROGRESS: pass 0, dispatched chunk #0 = documents up to #25/25, outstanding queue size 1\n",
      "INFO : topic #81 (0.010): 0.004*\"πεπερασμένον\" + 0.003*\"ἀπείρου\" + 0.003*\"ἠρεμεῖ\" + 0.003*\"κινουμένῳ\" + 0.002*\"φλεβοτομίας\" + 0.002*\"εὔδημος\" + 0.002*\"μεταβάλλον\" + 0.002*\"ἠρεμία\" + 0.002*\"αὐτοκίνητον\" + 0.002*\"προσεχῶς\"\n",
      "INFO : topic #76 (0.010): 0.003*\"πεπερασμένον\" + 0.002*\"ἀπείρου\" + 0.002*\"μεταβάλλον\" + 0.001*\"κινουμένῳ\" + 0.001*\"ἀναθυμιάσεως\" + 0.001*\"προσεχῶς\" + 0.001*\"εὔδημος\" + 0.001*\"αὐτοκίνητον\" + 0.001*\"ταὐτομάτου\" + 0.001*\"ἀλλʼ\"\n",
      "INFO : topic #24 (0.010): 0.002*\"ἀπείρου\" + 0.002*\"πεπερασμένον\" + 0.002*\"νόησις\" + 0.002*\"εὔδημος\" + 0.002*\"μεταβάλλον\" + 0.002*\"αὐτοκίνητον\" + 0.001*\"προσεχῶς\" + 0.001*\"ἀπείρῳ\" + 0.001*\"κινουμένῳ\" + 0.001*\"στερήσεως\"\n",
      "INFO : topic #95 (0.010): 0.003*\"πεπερασμένον\" + 0.002*\"ἀπείρου\" + 0.002*\"κινουμένῳ\" + 0.002*\"προσεχῶς\" + 0.002*\"εὔδημος\" + 0.002*\"αὐτοκίνητον\" + 0.001*\"μεταβάλλον\" + 0.001*\"κατηγορίαις\" + 0.001*\"ἠρεμία\" + 0.001*\"ἠρεμεῖ\"\n",
      "INFO : topic #84 (0.010): 0.003*\"πεπερασμένον\" + 0.003*\"ἀπείρου\" + 0.003*\"αὐτοκίνητον\" + 0.002*\"φύσιος\" + 0.002*\"τῇσι\" + 0.002*\"κινουμένῳ\" + 0.002*\"εὔδημος\" + 0.002*\"μεταβάλλον\" + 0.002*\"μάθησις\" + 0.002*\"ὁκοῖον\"\n",
      "INFO : topic diff=52.896848, rho=1.000000\n",
      "INFO : -29.331 per-word bound, 675427778.2 perplexity estimate based on a held-out corpus of 25 documents with 69697 words\n",
      "INFO : storing corpus in Matrix Market format to /home/kyle/cltk_data/user_data/lda_1kgreek/gensim_lda_space_1kgrk_numtopics100_numpasses1_nobelow20_noabove0.1_tokmin3_tokmax20_docmin50_deaccentFalse.mm\n",
      "INFO : saving sparse matrix to /home/kyle/cltk_data/user_data/lda_1kgreek/gensim_lda_space_1kgrk_numtopics100_numpasses1_nobelow20_noabove0.1_tokmin3_tokmax20_docmin50_deaccentFalse.mm\n",
      "INFO : PROGRESS: saving document #0\n",
      "INFO : saved 25x100 matrix, density=3.080% (77/2500)\n",
      "INFO : saving MmCorpus index to /home/kyle/cltk_data/user_data/lda_1kgreek/gensim_lda_space_1kgrk_numtopics100_numpasses1_nobelow20_noabove0.1_tokmin3_tokmax20_docmin50_deaccentFalse.mm.index\n",
      "INFO : saving LdaState object under ./gensim_lda_model_1kgrk_numtopics100_numpasses1_nobelow20_noabove0.1_tokmin3_tokmax20_docmin50_deaccentFalse.model.state, separately None\n",
      "INFO : saved ./gensim_lda_model_1kgrk_numtopics100_numpasses1_nobelow20_noabove0.1_tokmin3_tokmax20_docmin50_deaccentFalse.model.state\n",
      "INFO : saving LdaMulticore object under ./gensim_lda_model_1kgrk_numtopics100_numpasses1_nobelow20_noabove0.1_tokmin3_tokmax20_docmin50_deaccentFalse.model, separately ['expElogbeta', 'sstats']\n",
      "INFO : storing np array 'expElogbeta' to ./gensim_lda_model_1kgrk_numtopics100_numpasses1_nobelow20_noabove0.1_tokmin3_tokmax20_docmin50_deaccentFalse.model.expElogbeta.npy\n",
      "INFO : not storing attribute dispatcher\n",
      "INFO : not storing attribute id2word\n",
      "INFO : not storing attribute state\n",
      "INFO : saved ./gensim_lda_model_1kgrk_numtopics100_numpasses1_nobelow20_noabove0.1_tokmin3_tokmax20_docmin50_deaccentFalse.model\n"
     ]
    },
    {
     "name": "stdout",
     "output_type": "stream",
     "text": [
      "Time to train LDA model space: 41.29778981208801\n"
     ]
    }
   ],
   "source": [
    "for num_topics in NUM_TOPICS_LIST:\n",
    "    print('Beginning training ...')\n",
    "    print('... {} topics and {} passes ...'.format(num_topics, PASSES))\n",
    "    t0 = time.time()\n",
    "    lda_model = gensim.models.LdaMulticore(corpus_bow_tlg, num_topics=num_topics, id2word=id2word_map, passes=PASSES)\n",
    "    \n",
    "    # save LDA vector space\n",
    "    lda_space_name = 'gensim_lda_space_1kgrk_numtopics{}_numpasses{}_nobelow{}_noabove{}_tokmin{}_tokmax{}_docmin{}_deaccent{}.mm'.format(num_topics, \n",
    "                                                                                                                                        PASSES, \n",
    "                                                                                                                                        no_below, \n",
    "                                                                                                                                        no_above, \n",
    "                                                                                                                                        TOK_MIN, \n",
    "                                                                                                                                        TOK_MAX, \n",
    "                                                                                                                                        DOC_MIN, \n",
    "                                                                                                                                        PREPROCESS_DEACCENT)\n",
    "    path_lda = os.path.join(working_dir, lda_space_name)\n",
    "    gensim.corpora.MmCorpus.serialize(path_lda, lda_model[corpus_bow_tlg])\n",
    "    \n",
    "    # save model\n",
    "    lda_model_name = 'gensim_lda_model_1kgrk_numtopics{}_numpasses{}_nobelow{}_noabove{}_tokmin{}_tokmax{}_docmin{}_deaccent{}.model'.format(num_topics, \n",
    "                                                                                                                                           PASSES, \n",
    "                                                                                                                                           no_below, \n",
    "                                                                                                                                           no_above, \n",
    "                                                                                                                                           TOK_MIN, \n",
    "                                                                                                                                           TOK_MAX, \n",
    "                                                                                                                                           DOC_MIN, \n",
    "                                                                                                                                           PREPROCESS_DEACCENT)\n",
    "    # path_lda = os.path.join(working_dir, lda_model_name)\n",
    "    path_lda = os.path.join('.', lda_model_name)\n",
    "    lda_model.save(path_lda)\n",
    "    print('Time to train LDA model space:', time.time() - t0)"
   ]
  },
  {
   "cell_type": "code",
   "execution_count": 16,
   "metadata": {
    "collapsed": true
   },
   "outputs": [],
   "source": [
    "# # Examples of how to use the model\n",
    "# lda_model.print_topics(-1)  # print a few most important words for each LDA topic\n",
    "# # transform text into the bag-of-words space\n",
    "# bow_vector = id2word_map.doc2bow(tokenize(doc, rm_ascii=remove_non_ascii))\n",
    "# print([(id2word_map[id], count) for id, count in bow_vector])\n",
    "\n",
    "# # transform into LDA space\n",
    "# lda_vector = lda_model[bow_vector]\n",
    "# print(lda_vector)\n",
    "\n",
    "# # print the document's single most prominent LDA topic\n",
    "# print(lda_model.print_topic(max(lda_vector, key=lambda item: item[1])[0]))"
   ]
  },
  {
   "cell_type": "markdown",
   "metadata": {},
   "source": [
    "# Evaluation"
   ]
  },
  {
   "cell_type": "markdown",
   "metadata": {},
   "source": [
    "## Word intrusion\n",
    "\n",
    "> For each trained topic, they take its first ten words, then substitute one of them with another, randomly chosen word (intruder!) and see whether a human can reliably tell which one it was. If so, the trained topic is topically coherent (good); if not, the topic has no discernible theme (bad)"
   ]
  },
  {
   "cell_type": "code",
   "execution_count": 17,
   "metadata": {},
   "outputs": [
    {
     "name": "stderr",
     "output_type": "stream",
     "text": [
      "INFO : loading LdaMulticore object from /home/kyle/cltk_data/user_data/lda_1kgreek/gensim_lda_model_1kgrk_numtopics2_numpasses1_nobelow20_noabove0.1_tokmin3_tokmax20_docmin50_deaccentFalse.model\n"
     ]
    },
    {
     "name": "stdout",
     "output_type": "stream",
     "text": [
      "Loading model: gensim_lda_model_1kgrk_numtopics2_numpasses1_nobelow20_noabove0.1_tokmin3_tokmax20_docmin50_deaccentFalse.model ...\n",
      "... for word intrusion testing ...\n"
     ]
    },
    {
     "ename": "FileNotFoundError",
     "evalue": "[Errno 2] No such file or directory: '/home/kyle/cltk_data/user_data/lda_1kgreek/gensim_lda_model_1kgrk_numtopics2_numpasses1_nobelow20_noabove0.1_tokmin3_tokmax20_docmin50_deaccentFalse.model'",
     "output_type": "error",
     "traceback": [
      "\u001b[0;31m---------------------------------------------------------------------------\u001b[0m",
      "\u001b[0;31mFileNotFoundError\u001b[0m                         Traceback (most recent call last)",
      "\u001b[0;32m<ipython-input-17-54081a63f3ac>\u001b[0m in \u001b[0;36m<module>\u001b[0;34m()\u001b[0m\n\u001b[1;32m     12\u001b[0m     \u001b[0mprint\u001b[0m\u001b[0;34m(\u001b[0m\u001b[0;34m'... for word intrusion testing ...'\u001b[0m\u001b[0;34m)\u001b[0m\u001b[0;34m\u001b[0m\u001b[0m\n\u001b[1;32m     13\u001b[0m     \u001b[0mpath_lda\u001b[0m \u001b[0;34m=\u001b[0m \u001b[0mos\u001b[0m\u001b[0;34m.\u001b[0m\u001b[0mpath\u001b[0m\u001b[0;34m.\u001b[0m\u001b[0mjoin\u001b[0m\u001b[0;34m(\u001b[0m\u001b[0mworking_dir\u001b[0m\u001b[0;34m,\u001b[0m \u001b[0mlda_model_name\u001b[0m\u001b[0;34m)\u001b[0m\u001b[0;34m\u001b[0m\u001b[0m\n\u001b[0;32m---> 14\u001b[0;31m     \u001b[0mlda_model\u001b[0m \u001b[0;34m=\u001b[0m \u001b[0mgensim\u001b[0m\u001b[0;34m.\u001b[0m\u001b[0mmodels\u001b[0m\u001b[0;34m.\u001b[0m\u001b[0mLdaMulticore\u001b[0m\u001b[0;34m.\u001b[0m\u001b[0mload\u001b[0m\u001b[0;34m(\u001b[0m\u001b[0mpath_lda\u001b[0m\u001b[0;34m)\u001b[0m\u001b[0;34m\u001b[0m\u001b[0m\n\u001b[0m\u001b[1;32m     15\u001b[0m \u001b[0;34m\u001b[0m\u001b[0m\n\u001b[1;32m     16\u001b[0m     \u001b[0;31m# select top 50 words for each of the LDA topics\u001b[0m\u001b[0;34m\u001b[0m\u001b[0;34m\u001b[0m\u001b[0m\n",
      "\u001b[0;32m~/venv3/lib/python3.6/site-packages/gensim/models/ldamodel.py\u001b[0m in \u001b[0;36mload\u001b[0;34m(cls, fname, *args, **kwargs)\u001b[0m\n\u001b[1;32m   1123\u001b[0m         \"\"\"\n\u001b[1;32m   1124\u001b[0m         \u001b[0mkwargs\u001b[0m\u001b[0;34m[\u001b[0m\u001b[0;34m'mmap'\u001b[0m\u001b[0;34m]\u001b[0m \u001b[0;34m=\u001b[0m \u001b[0mkwargs\u001b[0m\u001b[0;34m.\u001b[0m\u001b[0mget\u001b[0m\u001b[0;34m(\u001b[0m\u001b[0;34m'mmap'\u001b[0m\u001b[0;34m,\u001b[0m \u001b[0;32mNone\u001b[0m\u001b[0;34m)\u001b[0m\u001b[0;34m\u001b[0m\u001b[0m\n\u001b[0;32m-> 1125\u001b[0;31m         \u001b[0mresult\u001b[0m \u001b[0;34m=\u001b[0m \u001b[0msuper\u001b[0m\u001b[0;34m(\u001b[0m\u001b[0mLdaModel\u001b[0m\u001b[0;34m,\u001b[0m \u001b[0mcls\u001b[0m\u001b[0;34m)\u001b[0m\u001b[0;34m.\u001b[0m\u001b[0mload\u001b[0m\u001b[0;34m(\u001b[0m\u001b[0mfname\u001b[0m\u001b[0;34m,\u001b[0m \u001b[0;34m*\u001b[0m\u001b[0margs\u001b[0m\u001b[0;34m,\u001b[0m \u001b[0;34m**\u001b[0m\u001b[0mkwargs\u001b[0m\u001b[0;34m)\u001b[0m\u001b[0;34m\u001b[0m\u001b[0m\n\u001b[0m\u001b[1;32m   1126\u001b[0m \u001b[0;34m\u001b[0m\u001b[0m\n\u001b[1;32m   1127\u001b[0m         \u001b[0;31m# check if `random_state` attribute has been set after main pickle load\u001b[0m\u001b[0;34m\u001b[0m\u001b[0;34m\u001b[0m\u001b[0m\n",
      "\u001b[0;32m~/venv3/lib/python3.6/site-packages/gensim/utils.py\u001b[0m in \u001b[0;36mload\u001b[0;34m(cls, fname, mmap)\u001b[0m\n\u001b[1;32m    269\u001b[0m         \u001b[0mcompress\u001b[0m\u001b[0;34m,\u001b[0m \u001b[0msubname\u001b[0m \u001b[0;34m=\u001b[0m \u001b[0mSaveLoad\u001b[0m\u001b[0;34m.\u001b[0m\u001b[0m_adapt_by_suffix\u001b[0m\u001b[0;34m(\u001b[0m\u001b[0mfname\u001b[0m\u001b[0;34m)\u001b[0m\u001b[0;34m\u001b[0m\u001b[0m\n\u001b[1;32m    270\u001b[0m \u001b[0;34m\u001b[0m\u001b[0m\n\u001b[0;32m--> 271\u001b[0;31m         \u001b[0mobj\u001b[0m \u001b[0;34m=\u001b[0m \u001b[0munpickle\u001b[0m\u001b[0;34m(\u001b[0m\u001b[0mfname\u001b[0m\u001b[0;34m)\u001b[0m\u001b[0;34m\u001b[0m\u001b[0m\n\u001b[0m\u001b[1;32m    272\u001b[0m         \u001b[0mobj\u001b[0m\u001b[0;34m.\u001b[0m\u001b[0m_load_specials\u001b[0m\u001b[0;34m(\u001b[0m\u001b[0mfname\u001b[0m\u001b[0;34m,\u001b[0m \u001b[0mmmap\u001b[0m\u001b[0;34m,\u001b[0m \u001b[0mcompress\u001b[0m\u001b[0;34m,\u001b[0m \u001b[0msubname\u001b[0m\u001b[0;34m)\u001b[0m\u001b[0;34m\u001b[0m\u001b[0m\n\u001b[1;32m    273\u001b[0m         \u001b[0mlogger\u001b[0m\u001b[0;34m.\u001b[0m\u001b[0minfo\u001b[0m\u001b[0;34m(\u001b[0m\u001b[0;34m\"loaded %s\"\u001b[0m\u001b[0;34m,\u001b[0m \u001b[0mfname\u001b[0m\u001b[0;34m)\u001b[0m\u001b[0;34m\u001b[0m\u001b[0m\n",
      "\u001b[0;32m~/venv3/lib/python3.6/site-packages/gensim/utils.py\u001b[0m in \u001b[0;36munpickle\u001b[0;34m(fname)\u001b[0m\n\u001b[1;32m    928\u001b[0m \u001b[0;32mdef\u001b[0m \u001b[0munpickle\u001b[0m\u001b[0;34m(\u001b[0m\u001b[0mfname\u001b[0m\u001b[0;34m)\u001b[0m\u001b[0;34m:\u001b[0m\u001b[0;34m\u001b[0m\u001b[0m\n\u001b[1;32m    929\u001b[0m     \u001b[0;34m\"\"\"Load pickled object from `fname`\"\"\"\u001b[0m\u001b[0;34m\u001b[0m\u001b[0m\n\u001b[0;32m--> 930\u001b[0;31m     \u001b[0;32mwith\u001b[0m \u001b[0msmart_open\u001b[0m\u001b[0;34m(\u001b[0m\u001b[0mfname\u001b[0m\u001b[0;34m,\u001b[0m \u001b[0;34m'rb'\u001b[0m\u001b[0;34m)\u001b[0m \u001b[0;32mas\u001b[0m \u001b[0mf\u001b[0m\u001b[0;34m:\u001b[0m\u001b[0;34m\u001b[0m\u001b[0m\n\u001b[0m\u001b[1;32m    931\u001b[0m         \u001b[0;31m# Because of loading from S3 load can't be used (missing readline in smart_open)\u001b[0m\u001b[0;34m\u001b[0m\u001b[0;34m\u001b[0m\u001b[0m\n\u001b[1;32m    932\u001b[0m         \u001b[0;32mif\u001b[0m \u001b[0msys\u001b[0m\u001b[0;34m.\u001b[0m\u001b[0mversion_info\u001b[0m \u001b[0;34m>\u001b[0m \u001b[0;34m(\u001b[0m\u001b[0;36m3\u001b[0m\u001b[0;34m,\u001b[0m \u001b[0;36m0\u001b[0m\u001b[0;34m)\u001b[0m\u001b[0;34m:\u001b[0m\u001b[0;34m\u001b[0m\u001b[0m\n",
      "\u001b[0;32m~/venv3/lib/python3.6/site-packages/smart_open/smart_open_lib.py\u001b[0m in \u001b[0;36msmart_open\u001b[0;34m(uri, mode, **kw)\u001b[0m\n\u001b[1;32m    138\u001b[0m             \u001b[0;31m# local files -- both read & write supported\u001b[0m\u001b[0;34m\u001b[0m\u001b[0;34m\u001b[0m\u001b[0m\n\u001b[1;32m    139\u001b[0m             \u001b[0;31m# compression, if any, is determined by the filename extension (.gz, .bz2)\u001b[0m\u001b[0;34m\u001b[0m\u001b[0;34m\u001b[0m\u001b[0m\n\u001b[0;32m--> 140\u001b[0;31m             \u001b[0;32mreturn\u001b[0m \u001b[0mfile_smart_open\u001b[0m\u001b[0;34m(\u001b[0m\u001b[0mparsed_uri\u001b[0m\u001b[0;34m.\u001b[0m\u001b[0muri_path\u001b[0m\u001b[0;34m,\u001b[0m \u001b[0mmode\u001b[0m\u001b[0;34m)\u001b[0m\u001b[0;34m\u001b[0m\u001b[0m\n\u001b[0m\u001b[1;32m    141\u001b[0m         \u001b[0;32melif\u001b[0m \u001b[0mparsed_uri\u001b[0m\u001b[0;34m.\u001b[0m\u001b[0mscheme\u001b[0m \u001b[0;32min\u001b[0m \u001b[0;34m(\u001b[0m\u001b[0;34m\"s3\"\u001b[0m\u001b[0;34m,\u001b[0m \u001b[0;34m\"s3n\"\u001b[0m\u001b[0;34m,\u001b[0m \u001b[0;34m\"s3u\"\u001b[0m\u001b[0;34m)\u001b[0m\u001b[0;34m:\u001b[0m\u001b[0;34m\u001b[0m\u001b[0m\n\u001b[1;32m    142\u001b[0m             \u001b[0mkwargs\u001b[0m \u001b[0;34m=\u001b[0m \u001b[0;34m{\u001b[0m\u001b[0;34m}\u001b[0m\u001b[0;34m\u001b[0m\u001b[0m\n",
      "\u001b[0;32m~/venv3/lib/python3.6/site-packages/smart_open/smart_open_lib.py\u001b[0m in \u001b[0;36mfile_smart_open\u001b[0;34m(fname, mode)\u001b[0m\n\u001b[1;32m    642\u001b[0m \u001b[0;34m\u001b[0m\u001b[0m\n\u001b[1;32m    643\u001b[0m     \"\"\"\n\u001b[0;32m--> 644\u001b[0;31m     \u001b[0;32mreturn\u001b[0m \u001b[0mcompression_wrapper\u001b[0m\u001b[0;34m(\u001b[0m\u001b[0mopen\u001b[0m\u001b[0;34m(\u001b[0m\u001b[0mfname\u001b[0m\u001b[0;34m,\u001b[0m \u001b[0mmode\u001b[0m\u001b[0;34m)\u001b[0m\u001b[0;34m,\u001b[0m \u001b[0mfname\u001b[0m\u001b[0;34m,\u001b[0m \u001b[0mmode\u001b[0m\u001b[0;34m)\u001b[0m\u001b[0;34m\u001b[0m\u001b[0m\n\u001b[0m\u001b[1;32m    645\u001b[0m \u001b[0;34m\u001b[0m\u001b[0m\n\u001b[1;32m    646\u001b[0m \u001b[0;34m\u001b[0m\u001b[0m\n",
      "\u001b[0;31mFileNotFoundError\u001b[0m: [Errno 2] No such file or directory: '/home/kyle/cltk_data/user_data/lda_1kgreek/gensim_lda_model_1kgrk_numtopics2_numpasses1_nobelow20_noabove0.1_tokmin3_tokmax20_docmin50_deaccentFalse.model'"
     ]
    }
   ],
   "source": [
    "for num_topics in NUM_TOPICS_LIST:\n",
    "    # load model\n",
    "    lda_model_name = 'gensim_lda_model_1kgrk_numtopics{}_numpasses{}_nobelow{}_noabove{}_tokmin{}_tokmax{}_docmin{}_deaccent{}.model'.format(num_topics, \n",
    "                                                                                                                                           PASSES, \n",
    "                                                                                                                                           no_below, \n",
    "                                                                                                                                           no_above, \n",
    "                                                                                                                                           TOK_MIN, \n",
    "                                                                                                                                           TOK_MAX, \n",
    "                                                                                                                                           DOC_MIN, \n",
    "                                                                                                                                           PREPROCESS_DEACCENT)\n",
    "    print('Loading model: {} ...'.format(lda_model_name))\n",
    "    print('... for word intrusion testing ...')\n",
    "    path_lda = os.path.join(working_dir, lda_model_name)\n",
    "    lda_model = gensim.models.LdaMulticore.load(path_lda)\n",
    "    \n",
    "    # select top 50 words for each of the LDA topics\n",
    "    print('Top 50 words of each LDA model:')\n",
    "    top_words = [[word for word, _ in lda_model.show_topic(topicno, topn=50)] for topicno in range(lda_model.num_topics)]\n",
    "    print(top_words)\n",
    "    print('')\n",
    "\n",
    "    # get all top 50 words in all 20 topics, as one large set\n",
    "    all_words = set(itertools.chain.from_iterable(top_words))\n",
    "    print(\"Can you spot the misplaced word in each topic?\")\n",
    "\n",
    "    # for each topic, replace a word at a different index, to make it more interesting\n",
    "    replace_index = np.random.randint(0, 10, lda_model.num_topics)\n",
    "\n",
    "    replacements = []\n",
    "    for topicno, words in enumerate(top_words):\n",
    "        other_words = all_words.difference(words)\n",
    "        replacement = np.random.choice(list(other_words))\n",
    "        replacements.append((words[replace_index[topicno]], replacement))\n",
    "        words[replace_index[topicno]] = replacement\n",
    "        print(\"%i: %s\" % (topicno, ' '.join(words[:10])))\n",
    "    \n",
    "    print(\"Actual replacements were:\")\n",
    "    print(list(enumerate(replacements)))\n",
    "    print('')"
   ]
  },
  {
   "cell_type": "markdown",
   "metadata": {},
   "source": [
    "## Split doc\n",
    "\n",
    "> We'll split each document into two parts, and check that 1) topics of the first half are similar to topics of the second 2) halves of different documents are mostly dissimilar"
   ]
  },
  {
   "cell_type": "code",
   "execution_count": null,
   "metadata": {
    "collapsed": true
   },
   "outputs": [],
   "source": [
    "# evaluate on 1k documents **not** used in LDA training\n",
    "docs_preprocessed = os.path.expanduser('~/cltk_data/greek/text/tlg/plaintext/')\n",
    "doc_stream = (tokens for _, tokens in iter_docs(docs_preprocessed))  # generator\n",
    "test_docs = list(itertools.islice(doc_stream, 100, 200))  # ['πανυ', 'καλως', ...], [...], ...]"
   ]
  },
  {
   "cell_type": "code",
   "execution_count": null,
   "metadata": {
    "collapsed": true
   },
   "outputs": [],
   "source": [
    "def intra_inter(model, test_docs, num_pairs=10000):\n",
    "    # split each test document into two halves and compute topics for each half\n",
    "    part1 = [model[id2word_map.doc2bow(tokens[: len(tokens) // 2])] for tokens in test_docs]\n",
    "    part2 = [model[id2word_map.doc2bow(tokens[len(tokens) // 2 :])] for tokens in test_docs]\n",
    "    \n",
    "    # print computed similarities (uses cossim)\n",
    "    print(\"average cosine similarity between corresponding parts (higher is better):\")\n",
    "    print(np.mean([gensim.matutils.cossim(p1, p2) for p1, p2 in zip(part1, part2)]))\n",
    "\n",
    "    random_pairs = np.random.randint(0, len(test_docs), size=(num_pairs, 2))\n",
    "    print(\"average cosine similarity between {} random parts (lower is better):\".format(num_pairs))    \n",
    "    print(np.mean([gensim.matutils.cossim(part1[i[0]], part2[i[1]]) for i in random_pairs]))"
   ]
  },
  {
   "cell_type": "code",
   "execution_count": null,
   "metadata": {
    "scrolled": false
   },
   "outputs": [],
   "source": [
    "for num_topics in NUM_TOPICS_LIST:\n",
    "    # load model\n",
    "    lda_model_name = 'gensim_lda_model_1kgrk_numtopics{}_numpasses{}_nobelow{}_noabove{}_tokmin{}_tokmax{}_docmin{}_deaccent{}.model'.format(num_topics, \n",
    "                                                                                                                                           PASSES, \n",
    "                                                                                                                                           no_below, \n",
    "                                                                                                                                           no_above, \n",
    "                                                                                                                                           TOK_MIN, \n",
    "                                                                                                                                           TOK_MAX, \n",
    "                                                                                                                                           DOC_MIN, \n",
    "                                                                                                                                           PREPROCESS_DEACCENT)\n",
    "    print('Loading model: {} ...'.format(lda_model_name))\n",
    "    print('... for testing split document topic matching ...')\n",
    "    path_lda = os.path.join(working_dir, lda_model_name)\n",
    "    lda_model = gensim.models.LdaMulticore.load(path_lda)\n",
    "\n",
    "    print(\"LDA results:\")\n",
    "    # what should num_pairs be?\n",
    "    intra_inter(lda_model, test_docs, num_pairs=total_included_docs)\n",
    "    print('')"
   ]
  },
  {
   "cell_type": "markdown",
   "metadata": {},
   "source": [
    "# Score all docs"
   ]
  },
  {
   "cell_type": "code",
   "execution_count": null,
   "metadata": {
    "collapsed": true
   },
   "outputs": [],
   "source": [
    "id_auth_map = get_id_author()"
   ]
  },
  {
   "cell_type": "code",
   "execution_count": null,
   "metadata": {},
   "outputs": [],
   "source": [
    "# write to file topics for each doc\n",
    "for num_topics in NUM_TOPICS_LIST:\n",
    "    print('num topics', num_topics)\n",
    "    # load model\n",
    "    lda_model_name = 'gensim_lda_model_1kgrk_numtopics{}_numpasses{}_nobelow{}_noabove{}_tokmin{}_tokmax{}_docmin{}_deaccent{}.model'.format(num_topics, \n",
    "                                                                                                                                           PASSES, \n",
    "                                                                                                                                           no_below, \n",
    "                                                                                                                                           no_above, \n",
    "                                                                                                                                           TOK_MIN, \n",
    "                                                                                                                                           TOK_MAX, \n",
    "                                                                                                                                           DOC_MIN, \n",
    "                                                                                                                                           PREPROCESS_DEACCENT)\n",
    "    print('Loading model: {} ...'.format(lda_model_name))\n",
    "    print('... scoring topics of all documents ...')\n",
    "    path_lda = os.path.join(working_dir, lda_model_name)\n",
    "    # https://radimrehurek.com/gensim/models/ldamodel.html#gensim.models.ldamodel.LdaModel.get_document_topics\n",
    "    lda_model = gensim.models.LdaMulticore.load(path_lda)\n",
    "\n",
    "    # mk save path name\n",
    "    scores_name = lda_model_name.rstrip('.model') + '.scores'\n",
    "    scores_path = os.path.join(working_dir, scores_name)\n",
    "    doc_topics = ''\n",
    "    print('Going to write LDA scores for each file at: \"{}\"'.format(scores_path))\n",
    "    for file_name, tokens in iter_docs(docs_preprocessed):\n",
    "        # print(file_name, tokens[:10])  # print the article title and its first ten tokens\n",
    "        # print(file_name)\n",
    "        topic_distribution = str(lda_model[id2word_map.doc2bow(tokens)])\n",
    "        # print(topic_distribution)\n",
    "        \n",
    "        # convert file name to author name, and get epithet\n",
    "        # auth_id = file_name.lstrip('TLG').rstrip('.TXT')  # for TLG\n",
    "        auth_id = file_name.rstrip('.txt')  # for 1K Greek\n",
    "        auth_name = None\n",
    "        auth_epithet = None\n",
    "        # auth_name = id_auth_map[auth_id]  # for TLG\n",
    "        # auth_epithet = str(get_epithet_of_author(auth_id))  # for TLG\n",
    "        \n",
    "        doc_topics += 'file: ' + file_name + '\\n'\n",
    "        doc_topics += 'author: ' + auth_name + '\\n'\n",
    "        doc_topics += 'epithet: ' + auth_epithet + '\\n'\n",
    "        doc_topics += topic_distribution + '\\n\\n'\n",
    "    print('Wrote file to: \"{}\"'.format(scores_path))\n",
    "    with open(scores_path, 'w') as file_open:\n",
    "        file_open.write(doc_topics)\n",
    "    print('')"
   ]
  },
  {
   "cell_type": "code",
   "execution_count": null,
   "metadata": {
    "collapsed": true
   },
   "outputs": [],
   "source": []
  }
 ],
 "metadata": {
  "kernelspec": {
   "display_name": "Python 3",
   "language": "python",
   "name": "python3"
  },
  "language_info": {
   "codemirror_mode": {
    "name": "ipython",
    "version": 3
   },
   "file_extension": ".py",
   "mimetype": "text/x-python",
   "name": "python",
   "nbconvert_exporter": "python",
   "pygments_lexer": "ipython3",
   "version": "3.6.1"
  }
 },
 "nbformat": 4,
 "nbformat_minor": 2
}
