{
 "cells": [
  {
   "cell_type": "markdown",
   "metadata": {},
   "source": [
    "# Setup CLTK and import TLG\n",
    "\n",
    "Follow the [setup instructions from the CLTK tutorial here](https://github.com/cltk/tutorials/blob/master/2%20Import%20corpora.ipynb)."
   ]
  },
  {
   "cell_type": "code",
   "execution_count": 2,
   "metadata": {},
   "outputs": [],
   "source": [
    "from cltk.corpus.utils.importer import CorpusImporter"
   ]
  },
  {
   "cell_type": "code",
   "execution_count": 3,
   "metadata": {
    "collapsed": true
   },
   "outputs": [],
   "source": [
    "my_greek_downloader = CorpusImporter('greek')"
   ]
  },
  {
   "cell_type": "code",
   "execution_count": 3,
   "metadata": {
    "collapsed": true
   },
   "outputs": [],
   "source": [
    "my_greek_downloader.import_corpus('tlg', '~/corpora/TLG_E/')"
   ]
  },
  {
   "cell_type": "markdown",
   "metadata": {},
   "source": [
    "# Import First 1K Greek corpus"
   ]
  },
  {
   "cell_type": "code",
   "execution_count": 4,
   "metadata": {},
   "outputs": [],
   "source": [
    "my_greek_downloader.import_corpus('greek_text_first1kgreek')"
   ]
  },
  {
   "cell_type": "markdown",
   "metadata": {},
   "source": [
    "# Pre-process TLG E corpus\n",
    "\n",
    "## Covert Beta Code to Unicode\n",
    "\n",
    "http://docs.cltk.org/en/latest/greek.html#converting-tlg-texts-with-tlgu"
   ]
  },
  {
   "cell_type": "code",
   "execution_count": 4,
   "metadata": {},
   "outputs": [
    {
     "name": "stdout",
     "output_type": "stream",
     "text": [
      "Do you want to install TLGU?\n",
      "To continue, press Return. To exit, Control-C.\n",
      "\n",
      "Going to run command: cd /home/kyle/cltk_data/greek/software/greek_software_tlgu && make install\n",
      "Could not install without root access. Do you want to install TLGU with sudo?\n",
      "Going to run command: cd /home/kyle/cltk_data/greek/software/greek_software_tlgu && sudo make install\n",
      "To continue, press Return. To exit, Control-C.\n",
      "\n"
     ]
    }
   ],
   "source": [
    "from cltk.corpus.greek.tlgu import TLGU\n",
    "\n",
    "tlgu = TLGU()\n",
    "tlgu.convert_corpus(corpus='tlg')  # writes to: ~/cltk_data/greek/text/tlg/plaintext/"
   ]
  },
  {
   "cell_type": "markdown",
   "metadata": {},
   "source": [
    "## Pre-process 1K Greek TEI corpus"
   ]
  },
  {
   "cell_type": "code",
   "execution_count": 6,
   "metadata": {},
   "outputs": [],
   "source": [
    "# If you get the following error: 'Install `bs4` and `lxml` to parse these TEI files.'\n",
    "# then run: `pip install bs4 lxml`\n",
    "from cltk.corpus.greek.tei import onekgreek_tei_xml_to_text\n",
    "\n",
    "onekgreek_tei_xml_to_text()\n",
    "\n",
    "# plaintext files will be available now at `~/cltk_data/greek/text/greek_text_first1kgreek_plaintext/`"
   ]
  },
  {
   "cell_type": "markdown",
   "metadata": {},
   "source": [
    "## Cleanup texts\n",
    "\n",
    "Overwrite the plaintext files with more aggresive cleanup, but keep periods.\n",
    "\n",
    "http://docs.cltk.org/en/latest/greek.html#text-cleanup"
   ]
  },
  {
   "cell_type": "code",
   "execution_count": 5,
   "metadata": {},
   "outputs": [
    {
     "name": "stdout",
     "output_type": "stream",
     "text": [
      "\r\n",
      "{ΑΠΑΓΧΟΜΕΝΟΣ} \r\n",
      "παράσιτον αὐτόσιτον: αὑτὸν γοῦν τρέφων \r\n",
      "τὰ πλεῖστα συνερανιστὸς εἶ τῷ δεσπότῃ. \r\n",
      "      καὶ σκάφην λαβών τινα \r\n",
      "τῶν ἐσχαριτῶν τῶν καθαρῶν  \r\n",
      "{ΑΠΟΛΕΙΠΟΥΣΑ} \r\n",
      "τὸ γὰρ ἐνδελεχῶς μεθύειν τίν' ἡδονὴν ἔχει, \r\n",
      "ἀποστεροῦντα ζῶνθ' ἑαυτὸν τοῦ φρονεῖν, \r\n",
      "ὃ μέγιστον ἡμῶν ἀγαθὸν ἔσχεν ἡ φύσις; \r\n"
     ]
    }
   ],
   "source": [
    "!head ~/cltk_data/greek/text/tlg/plaintext/TLG0437.TXT"
   ]
  },
  {
   "cell_type": "code",
   "execution_count": 6,
   "metadata": {
    "collapsed": true
   },
   "outputs": [],
   "source": [
    "from cltk.corpus.utils.formatter import tlg_plaintext_cleanup\n",
    "import os"
   ]
  },
  {
   "cell_type": "code",
   "execution_count": 7,
   "metadata": {
    "collapsed": true
   },
   "outputs": [],
   "source": [
    "plaintext_dir = os.path.expanduser('~/cltk_data/greek/text/tlg/plaintext/')\n",
    "files = os.listdir(plaintext_dir)\n",
    "\n",
    "for file in files:\n",
    "    file = os.path.join(plaintext_dir, file)\n",
    "    with open(file) as file_open:\n",
    "        file_read = file_open.read()\n",
    "\n",
    "    clean_text = tlg_plaintext_cleanup(file_read, rm_punctuation=True, rm_periods=False)\n",
    "    clean_text = clean_text.lower()\n",
    "    with open(file, 'w') as file_open:\n",
    "        file_open.write(clean_text)"
   ]
  },
  {
   "cell_type": "code",
   "execution_count": 8,
   "metadata": {},
   "outputs": [
    {
     "name": "stdout",
     "output_type": "stream",
     "text": [
      " παράσιτον αὐτόσιτον αὑτὸν γοῦν τρέφων τὰ πλεῖστα συνερανιστὸς εἶ τῷ δεσπότῃ. καὶ σκάφην λαβών τινα τῶν ἐσχαριτῶν τῶν καθαρῶν τὸ γὰρ ἐνδελεχῶς μεθύειν τίν ἡδονὴν ἔχει ἀποστεροῦντα ζῶνθ ἑαυτὸν τοῦ φρονεῖν ὃ μέγιστον ἡμῶν ἀγαθὸν ἔσχεν ἡ φύσις; πάλιν ἡ τοῦ βίου ὑγρότης με τοῦ σοῦ τέθαιφε τὴν ἀσωτίαν ὑγρότητα γὰρ νῦν προσαγορεύουσίν τινες. λάχης. ἐγὼ δὲ πρὸς σέ. πρόαγε. ποῖ; ὅποι μ ἐρωτᾷς; ὡς φιλουμένην παρ ᾗ τἀπιδόσιμ ἡμῖν ἐστιν ἧς ἐχθὲς πιεῖν κυάθους ἕκαστον ἐβιάσω σὺ δώδεκα. εἰσῆλθεν ἡμίκραιρα τακερὰ δέλφακος ταύτης μὰ τὸν δί οὐχὶ κατέλιπον δ ἐγὼ οὐδέν. καὶ πλεκτάνην στιφρὰν σφόδρ ἐν τούτοις τέ που αἰσχυνόμενον ἧπαρ καπρίσκου σκατοφάγου. ἐγὼ δὲ πρὸς τὰ θερμὰ ταῦθ ὑπερβολῇ τοὺς δακτύλους δήπουθεν ἰδαίους ἔχω καὶ τὸν λάρυγγ ἥδιστα πυριῶ τεμαχίοις. κάμινος οὐκ ἄνθρωπος. χλωρὸν ἐρέβινθόν τινα ἐκοττάβιζον κενὸν ὅλως. τράγημα δὲ ἔστιν πιθήκου τοῦτο δήπου δυστυχοῦς. τὸν πλακοῦντα κόμμιδι οὐ μέλιτι διεκόσμει. παράσιτον αὐτόσιτον αὑτὸν γοῦν τρέφων τὰ πλεῖστα συνερανιστὸς εἶ τῷ δεσπότῃ. καὶ σκάφην λαβών τινα τῶν ἐσχαριτῶν τῶν καθαρῶν. πάλιν ἡ τοῦ βίου ὑγρότης με τοῦ σοῦ τέθαφε τὴν ἀσωτίαν ὑγρότητα γὰρ νῦν προσαγορεύουσιν τινές. τὸ γὰρ ἐνδελεχῶς μεθύειν τίν ἡδονὴν ἔχει ἀποστεροῦντα ζῶνθ ἑαυτὸν τοῦ φρονεῖν ὃ μέγιστον ἡμῶν ἀγαθὸν ἔσχεν ἡ φύσις; λάχης. ἐγὼ δὲ πρὸς σέ. πρόαγε. ποῖ; ὅποι μ ἐρωτᾶς; ὡς φιλουμένην παρ ᾗ τἀπιδόσιμ ἡμῖν ἐστιν ἧς ἐχθὲς πιεῖν κυάθους ἕκαστον ἐβιάσω σὺ δώδεκα. καὶ πλεκτάνην στιφρὰν σφόδρ ἐν τούτοις τέ που αἰσχυνόμενον ἧπαρ καπρίσκου σκατοφάγου. εἰσῆλθεν ἡμίκραιρα τακερὰ δέλφακος ταύτης μὰ τὸν δί οὐχὶ κατέλιπον δ ἐγώ οὐδέν. ἐγὼ δὲ πρὸς τὰ θερμὰ ταῦθ ὑπερβολῇ τοὺς δακτύλους δήπουθεν ἰδαίους ἔχω καὶ τὸν λάρυγγ ἥδιστα πυριῶ τεμαχίοις. κάμινος οὐκ ἄνθρωπος. χλωρὸν ἐρέβινθόν τινα ἐκοττάβιζον κενὸν ὅλως. τράγημα δέ ἔστιν πιθήκου τοῦτο δήπου δυστυχοῦς. τὸν πλακοῦντα κόμμιδι οὐ μέλιτι διεκόσμει. "
     ]
    }
   ],
   "source": [
    "!head ~/cltk_data/greek/text/tlg/plaintext/TLG0437.TXT "
   ]
  }
 ],
 "metadata": {
  "kernelspec": {
   "display_name": "Python 3",
   "language": "python",
   "name": "python3"
  },
  "language_info": {
   "codemirror_mode": {
    "name": "ipython",
    "version": 3
   },
   "file_extension": ".py",
   "mimetype": "text/x-python",
   "name": "python",
   "nbconvert_exporter": "python",
   "pygments_lexer": "ipython3",
   "version": "3.6.1"
  }
 },
 "nbformat": 4,
 "nbformat_minor": 2
}
