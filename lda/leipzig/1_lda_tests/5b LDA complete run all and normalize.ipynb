{
 "cells": [
  {
   "cell_type": "markdown",
   "metadata": {},
   "source": [
    "Following tutorial [\"Topic Modeling for Fun and Profit\"](http://radimrehurek.com/topic_modeling_tutorial/2%20-%20Topic%20Modeling.html)"
   ]
  },
  {
   "cell_type": "code",
   "execution_count": 1,
   "metadata": {},
   "outputs": [
    {
     "name": "stdout",
     "output_type": "stream",
     "text": [
      "Arabic not supported. Install `pyarabic` library to tokenize Arabic.\n"
     ]
    }
   ],
   "source": [
    "import itertools\n",
    "import logging\n",
    "import os\n",
    "import pickle\n",
    "import time\n",
    "\n",
    "from cltk.corpus.greek.tlg.parse_tlg_indices import get_epithets\n",
    "from cltk.corpus.greek.tlg.parse_tlg_indices import get_epithet_of_author\n",
    "from cltk.corpus.greek.tlg.parse_tlg_indices import get_id_author\n",
    "from cltk.corpus.utils.formatter import cltk_normalize\n",
    "from cltk.stop.greek.stops import STOPS_LIST\n",
    "import gensim\n",
    "from gensim.corpora.mmcorpus import MmCorpus\n",
    "from gensim.utils import simple_preprocess\n",
    "import numpy as np"
   ]
  },
  {
   "cell_type": "code",
   "execution_count": 2,
   "metadata": {
    "collapsed": true
   },
   "outputs": [],
   "source": [
    "logging.basicConfig(format='%(levelname)s : %(message)s', level=logging.INFO)\n",
    "logging.root.level = logging.INFO  # ipython sometimes messes up the logging setup; restore"
   ]
  },
  {
   "cell_type": "code",
   "execution_count": 3,
   "metadata": {
    "collapsed": true
   },
   "outputs": [],
   "source": [
    "user_dir = os.path.expanduser('~/cltk_data/user_data/lda_tlg/')\n",
    "try:\n",
    "    os.makedirs(user_dir)\n",
    "except FileExistsError:\n",
    "    pass"
   ]
  },
  {
   "cell_type": "code",
   "execution_count": 4,
   "metadata": {
    "collapsed": true
   },
   "outputs": [],
   "source": [
    "PREPROCESS_DEACCENT = False\n",
    "STOPS_LIST = [simple_preprocess(stop, deacc=PREPROCESS_DEACCENT)[0] for stop in STOPS_LIST if len(simple_preprocess(stop, deacc=PREPROCESS_DEACCENT)) > 0]\n",
    "STOPS_LIST = ['τῆϲ', 'τοῖϲ', 'εἰϲ', 'πρὸϲ', 'τοὺϲ']\n",
    "STOPS_LIST += [\"τηϲ\", \"τοιϲ\", \"εϲτι\", \"προϲ\", \"ειϲ\", \"ταϲ\", \"ωϲ\", \"τουϲ\", \"ξυν\", 'ξὺν', 'πρε']  # useful for after rm accents\n",
    "STOPS_LIST = [cltk_normalize(stop) for stop in STOPS_LIST]"
   ]
  },
  {
   "cell_type": "code",
   "execution_count": 5,
   "metadata": {
    "collapsed": true
   },
   "outputs": [],
   "source": [
    "# TODO: make sure that preprocessing is same for TLGCorpus class and other setups\n",
    "\n",
    "TOK_MIN = 3  # rm words shorter than\n",
    "TOK_MAX = 20  # rm words longer than\n",
    "DOC_MIN = 50  # drop docs shorter than\n",
    "def tokenize(text):\n",
    "    \"\"\"Tokenize and rm stopwords. The Gensim `simple_preprocess` will work fine\n",
    "    here becuase the Greek text has already been aggressively cleaned up.\n",
    "    https://radimrehurek.com/gensim/utils.html#gensim.utils.simple_preprocess\n",
    "    \"\"\"\n",
    "    tokens = [token for token in simple_preprocess(text, deacc=PREPROCESS_DEACCENT, min_len=TOK_MIN, max_len=TOK_MAX)]\n",
    "    return [token for token in tokens if token not in STOPS_LIST]\n",
    "    \n",
    "\n",
    "def iter_tlg(tlg_dir):\n",
    "    \"\"\"Stream TLG doc-by-doc.\"\"\"\n",
    "    file_names = os.listdir(tlg_dir)\n",
    "    for file_name in file_names:\n",
    "        file_path = os.path.join(tlg_dir, file_name)\n",
    "        with open(file_path) as file_open:\n",
    "            file_read = file_open.read()\n",
    "        tokens = tokenize(file_read)\n",
    "        tokens = [cltk_normalize(token) for token in tokens]\n",
    "        # ignore very short docs\n",
    "        # todo: get file length distribution to better know what is short in TLG\n",
    "        if len(tokens) < DOC_MIN:\n",
    "            continue\n",
    "        yield file_name, tokens"
   ]
  },
  {
   "cell_type": "code",
   "execution_count": 6,
   "metadata": {},
   "outputs": [
    {
     "name": "stdout",
     "output_type": "stream",
     "text": [
      "TLG1828.TXT ['παρά', 'αἰγυπτίων', 'γεωμετρεῖν', 'μαθόντα', 'φησὶ', 'παμφίλη', 'πρῶτον', 'καταγράψαι', 'κύκλου', 'τρίγωνον']\n",
      "TLG3088.TXT ['ἑῴας', 'καὶ', 'οὗτος', 'ἀποστατεῖ', 'κατ', 'αὐτοῦ', 'καὶ', 'ὑπερισχύσας', 'βασιλείας', 'ἐπιλαμβάνεται']\n",
      "TLG2005.TXT ['μαρτύριον', 'τοῦ', 'ἁγίου', 'πιονίου', 'τοῦ', 'πρεσβυτέρου', 'καὶ', 'τῶν', 'σὺν', 'αὐτῷ']\n",
      "TLG0036.TXT ['αἰάζω', 'τὸν', 'ἄδωνιν', 'ἀπώλετο', 'καλὸς', 'ἄδωνις', 'ὤλετο', 'καλὸς', 'ἄδωνις', 'ἐπαιάζουσιν']\n",
      "TLG0474.TXT ['ταγηνίας', 'ἤδη', 'τεθέασαι', 'χλιαροὺς', 'σίζοντας', 'ὅταν', 'αὐτοῖσιν', 'ἐπιχέῃς', 'μέλι', 'καὶ']\n",
      "TLG2354.TXT ['διονύσιος', 'πρώτῳ', 'τοῦ', 'κύκλου', 'βύρσαν', 'αὐτὸν', 'ἠμφιέσθαι', 'φησὶ', 'καὶ', 'κύκλῳ']\n",
      "TLG1125.TXT ['κήρυκες', 'ἀνδροτίων', 'πρώτῃ', 'ἀτθίδος', 'κέκροπος', 'γενέσθαι', 'τρεῖς', 'θυγατέρας', 'ἄγραυλον', 'ἄρσην']\n",
      "TLG4293.TXT ['βούλησις', 'ἐπὶ', 'ἀγαθοῦ', 'προαίρεσις', 'ἐπὶ', 'ἀμφοτέρων', 'ἀγαθοῦ', 'καὶ', 'κακοῦ', 'εἰκὼν']\n"
     ]
    }
   ],
   "source": [
    "# Take a look at the docs post-processing\n",
    "# Open corpus iterator\n",
    "tlg_preprocessed = os.path.expanduser('~/cltk_data/greek/text/tlg/plaintext/')\n",
    "stream = iter_tlg(tlg_preprocessed)\n",
    "for title, tokens in itertools.islice(iter_tlg(tlg_preprocessed), 8):\n",
    "    print(title, tokens[:10])  # print the article title and its first ten tokens"
   ]
  },
  {
   "cell_type": "markdown",
   "metadata": {},
   "source": [
    "# Mk word dictionaries"
   ]
  },
  {
   "cell_type": "code",
   "execution_count": 7,
   "metadata": {
    "collapsed": true
   },
   "outputs": [],
   "source": [
    "# Open corpus iterator\n",
    "doc_stream = (tokens for _, tokens in iter_tlg(tlg_preprocessed))"
   ]
  },
  {
   "cell_type": "code",
   "execution_count": 8,
   "metadata": {
    "collapsed": true
   },
   "outputs": [],
   "source": [
    "no_below = 20\n",
    "no_above = 0.1"
   ]
  },
  {
   "cell_type": "code",
   "execution_count": 9,
   "metadata": {},
   "outputs": [
    {
     "name": "stderr",
     "output_type": "stream",
     "text": [
      "INFO : loading Dictionary object from /home/kyle/cltk_data/user_data/lda_tlg/gensim_dict_id2word_tlg_nobelow20_noabove0.1_tokmin3_tokmax20_docmin50_deaccentFalse.dict\n",
      "INFO : loaded /home/kyle/cltk_data/user_data/lda_tlg/gensim_dict_id2word_tlg_nobelow20_noabove0.1_tokmin3_tokmax20_docmin50_deaccentFalse.dict\n"
     ]
    },
    {
     "name": "stdout",
     "output_type": "stream",
     "text": [
      "Dictionary(88039 unique tokens: ['γεωμετρεῖν', 'μαθόντα', 'καταγράψαι', 'ὀρθογώνιον', 'θῦσαι']...)\n"
     ]
    }
   ],
   "source": [
    "# store the dictionary, for future reference\n",
    "dict_name = 'gensim_dict_id2word_tlg_nobelow{}_noabove{}_tokmin{}_tokmax{}_docmin{}_deaccent{}.dict'.format(no_below, \n",
    "                                                                                                            no_above, \n",
    "                                                                                                            TOK_MIN, \n",
    "                                                                                                            TOK_MAX, \n",
    "                                                                                                            DOC_MIN, \n",
    "                                                                                                            PREPROCESS_DEACCENT)\n",
    "dict_path = os.path.join(user_dir, dict_name)\n",
    "\n",
    "try:\n",
    "    id2word_tlg = gensim.corpora.dictionary.Dictionary.load(dict_path)\n",
    "except FileNotFoundError:\n",
    "    t0 = time.time()\n",
    "    # ~4 min on TLG corpus if rm accents; ~w min if not\n",
    "    id2word_tlg = gensim.corpora.Dictionary(doc_stream)\n",
    "    # this cutoff might lose too much info, we'll see\n",
    "    # ignore words that appear in less than 20 documents or more than 10% documents\n",
    "    id2word_tlg.filter_extremes(no_below=no_below, no_above=no_above)\n",
    "    id2word_tlg.save(dict_path)\n",
    "    print('Time to mk new corpus dictionary:', time.time() - t0)\n",
    "print(id2word_tlg)"
   ]
  },
  {
   "cell_type": "markdown",
   "metadata": {},
   "source": [
    "# Mk vectors\n",
    "\n",
    "Now start again with the corpus, turning the actual words into integers from our map."
   ]
  },
  {
   "cell_type": "code",
   "execution_count": 10,
   "metadata": {},
   "outputs": [
    {
     "name": "stdout",
     "output_type": "stream",
     "text": [
      "[(42540, 1)]\n",
      "ποιητικῆς\n"
     ]
    }
   ],
   "source": [
    "# Illustrate what this BoW space looks like with example doc\n",
    "doc = \"περὶ ποιητικῆς αὐτῆς τε καὶ τῶν εἰδῶν αὐτῆς, ἥν τινα δύναμιν ἕκαστον ἔχει, καὶ πῶς δεῖ συνίστασθαι τοὺς μύθους [10] εἰ μέλλει καλῶς ἕξειν ἡ ποίησις, ἔτι δὲ ἐκ πόσων καὶ ποίων ἐστὶ μορίων, ὁμοίως δὲ καὶ περὶ τῶν ἄλλων ὅσα τῆς αὐτῆς ἐστι μεθόδου, λέγωμεν ἀρξάμενοι κατὰ φύσιν πρῶτον ἀπὸ τῶν πρώτων.\"\n",
    "doc = ' '.join(simple_preprocess(doc))\n",
    "bow = id2word_tlg.doc2bow(tokenize(doc))\n",
    "print(bow)  # words both in BoW dict and doc\n",
    "print(id2word_tlg[bow[0][0]])  # map int back to str"
   ]
  },
  {
   "cell_type": "code",
   "execution_count": 11,
   "metadata": {
    "collapsed": true
   },
   "outputs": [],
   "source": [
    "class TLGCorpus(object):\n",
    "    def __init__(self, dump_file, dictionary, clip_docs=None):\n",
    "        \"\"\"Yield each document in turn, as a list of tokens (unicode strings).\n",
    "        \"\"\"\n",
    "        self.dump_file = dump_file\n",
    "        self.dictionary = dictionary\n",
    "        self.clip_docs = clip_docs\n",
    "    \n",
    "    def __iter__(self):\n",
    "        self.titles = []\n",
    "        for title, tokens in itertools.islice(iter_tlg(self.dump_file), self.clip_docs):\n",
    "            self.titles.append(title)\n",
    "            yield self.dictionary.doc2bow(tokens)\n",
    "    \n",
    "    def __len__(self):\n",
    "        return self.clip_docs"
   ]
  },
  {
   "cell_type": "code",
   "execution_count": 12,
   "metadata": {
    "collapsed": true
   },
   "outputs": [],
   "source": [
    "clip_docs_at = 25 # None for final\n",
    "# make the BoW corpus\n",
    "# creates a stream of bag-of-words vectors\n",
    "corpus_bow_tlg = TLGCorpus(tlg_preprocessed, id2word_tlg, clip_docs=clip_docs_at)\n",
    "\n",
    "# reduce corpus size for faster testing\n",
    "#corpus_bow_tlg = gensim.utils.ClippedCorpus(corpus_bow_tlg, 100)\n",
    "\n",
    "# vector = next(iter(corpus_bow_tlg))\n",
    "# print(vector)  # print the first vector in the stream\n",
    "# [(0, 1), (1, 1), (2, 1), ...]\n",
    "\n",
    "# # what is the most common word in that first article?\n",
    "# most_index, most_count = max(vector, key=lambda _tuple: _tuple[1])\n",
    "# print(id2word_tlg[most_index], most_count)  # μιλησιοις 2"
   ]
  },
  {
   "cell_type": "code",
   "execution_count": 13,
   "metadata": {},
   "outputs": [
    {
     "name": "stderr",
     "output_type": "stream",
     "text": [
      "INFO : storing corpus in Matrix Market format to /home/kyle/cltk_data/user_data/lda_tlg/gensim_bow_tlg_nobelow20_noabove0.1_tokmin3_tokmax20_docmin50_deaccentFalse.mm\n",
      "INFO : saving sparse matrix to /home/kyle/cltk_data/user_data/lda_tlg/gensim_bow_tlg_nobelow20_noabove0.1_tokmin3_tokmax20_docmin50_deaccentFalse.mm\n",
      "INFO : PROGRESS: saving document #0\n",
      "INFO : saved 25x65830 matrix, density=2.124% (34950/1645750)\n",
      "INFO : saving MmCorpus index to /home/kyle/cltk_data/user_data/lda_tlg/gensim_bow_tlg_nobelow20_noabove0.1_tokmin3_tokmax20_docmin50_deaccentFalse.mm.index\n"
     ]
    },
    {
     "name": "stdout",
     "output_type": "stream",
     "text": [
      "Time to save BoW space: 8.202030658721924\n"
     ]
    }
   ],
   "source": [
    "# Save BoW\n",
    "# ~4 min on TLG corpus\n",
    "bow_name = 'gensim_bow_tlg_nobelow{}_noabove{}_tokmin{}_tokmax{}_docmin{}_deaccent{}.mm'.format(no_below, \n",
    "                                                                                                no_above, \n",
    "                                                                                                TOK_MIN, \n",
    "                                                                                                TOK_MAX, \n",
    "                                                                                                DOC_MIN, \n",
    "                                                                                                PREPROCESS_DEACCENT)\n",
    "bow_path = os.path.join(user_dir, bow_name)\n",
    "t0 = time.time()\n",
    "gensim.corpora.MmCorpus.serialize(bow_path, corpus_bow_tlg)\n",
    "print('Time to save BoW space:', time.time() - t0)\n",
    "\n",
    "# Later load saved corpus with:\n",
    "# corpus_bow_tlg = gensim.corpora.MmCorpus(bow_path)"
   ]
  },
  {
   "cell_type": "code",
   "execution_count": 14,
   "metadata": {},
   "outputs": [],
   "source": [
    "total_included_docs = len(corpus_bow_tlg.titles)  # used later for testing results"
   ]
  },
  {
   "cell_type": "markdown",
   "metadata": {},
   "source": [
    "# LDA transformation"
   ]
  },
  {
   "cell_type": "code",
   "execution_count": 22,
   "metadata": {},
   "outputs": [],
   "source": [
    "# Quick testing using just a part of the corpus\n",
    "\n",
    "#NUM_TOPICS_LIST = [2, 3, 5, 10, 25, 50, 100]\n",
    "NUM_TOPICS_LIST = [5, 10, 25, 50, 100]\n",
    "NUM_TOPICS_LIST.append(len(get_epithets()))  # mk topics same number as traditional epithets\n",
    "NUM_TOPICS_LIST = sorted(NUM_TOPICS_LIST)\n",
    "PASSES = 1"
   ]
  },
  {
   "cell_type": "code",
   "execution_count": 23,
   "metadata": {},
   "outputs": [
    {
     "name": "stderr",
     "output_type": "stream",
     "text": [
      "INFO : using symmetric alpha at 0.2\n",
      "INFO : using symmetric eta at 1.1358602437556082e-05\n",
      "INFO : using serial LDA version on this node\n"
     ]
    },
    {
     "name": "stdout",
     "output_type": "stream",
     "text": [
      "Beginning training ...\n",
      "... 5 topics and 1 passes ...\n"
     ]
    },
    {
     "name": "stderr",
     "output_type": "stream",
     "text": [
      "INFO : running online LDA training, 5 topics, 1 passes over the supplied corpus of 25 documents, updating every 2000 documents, evaluating every ~25 documents, iterating 50x with a convergence threshold of 0.001000\n",
      "WARNING : too few updates, training might not converge; consider increasing the number of passes or iterations to improve accuracy\n",
      "INFO : training LDA model using 1 processes\n",
      "INFO : PROGRESS: pass 0, dispatched chunk #0 = documents up to #25/25, outstanding queue size 1\n",
      "INFO : topic #0 (0.200): 0.003*\"καῖσαρ\" + 0.002*\"ἵστανται\" + 0.001*\"ἱππεῖς\" + 0.001*\"σχολῶν\" + 0.001*\"ὕπατον\" + 0.001*\"πρεσβευτὰς\" + 0.001*\"βῆλον\" + 0.001*\"πτολεμαῖον\" + 0.001*\"ἀχαιοῖς\" + 0.001*\"βροῦτον\"\n",
      "INFO : topic #1 (0.200): 0.003*\"καῖσαρ\" + 0.002*\"ἵστανται\" + 0.001*\"ἱππεῖς\" + 0.001*\"πρεσβευτὰς\" + 0.001*\"ξὺν\" + 0.001*\"βροῦτος\" + 0.001*\"οὐθὲν\" + 0.001*\"βῆλον\" + 0.001*\"σχολῶν\" + 0.001*\"θεμιστοκλῆς\"\n",
      "INFO : topic #2 (0.200): 0.003*\"καῖσαρ\" + 0.003*\"ἵστανται\" + 0.001*\"σχολῶν\" + 0.001*\"ἱππεῖς\" + 0.001*\"πρεσβευτὰς\" + 0.001*\"βῆλον\" + 0.001*\"ξὺν\" + 0.001*\"ὕπατον\" + 0.001*\"νεῦμα\" + 0.001*\"σῶσον\"\n",
      "INFO : topic #3 (0.200): 0.002*\"καῖσαρ\" + 0.001*\"ἵστανται\" + 0.001*\"ἱππεῖς\" + 0.001*\"πρεσβευτὰς\" + 0.001*\"βῆλον\" + 0.001*\"ξὺν\" + 0.001*\"σχολῶν\" + 0.001*\"βροῦτος\" + 0.001*\"ὕπατος\" + 0.001*\"ὕπατον\"\n",
      "INFO : topic #4 (0.200): 0.001*\"καῖσαρ\" + 0.001*\"ἵστανται\" + 0.001*\"ἱππεῖς\" + 0.001*\"σχολῶν\" + 0.001*\"βροῦτος\" + 0.001*\"πρεσβευτὰς\" + 0.001*\"ὕπατος\" + 0.001*\"οὐθὲν\" + 0.001*\"βροῦτον\" + 0.001*\"βῆλον\"\n",
      "INFO : topic diff=3.319860, rho=1.000000\n",
      "INFO : -10.778 per-word bound, 1756.4 perplexity estimate based on a held-out corpus of 25 documents with 113957 words\n",
      "INFO : storing corpus in Matrix Market format to /home/kyle/cltk_data/user_data/lda_tlg/gensim_lda_space_tlg_numtopics5_numpasses1_nobelow20_noabove0.1_tokmin3_tokmax20_docmin50_deaccentFalse.mm\n",
      "INFO : saving sparse matrix to /home/kyle/cltk_data/user_data/lda_tlg/gensim_lda_space_tlg_numtopics5_numpasses1_nobelow20_noabove0.1_tokmin3_tokmax20_docmin50_deaccentFalse.mm\n",
      "INFO : PROGRESS: saving document #0\n",
      "INFO : saved 25x5 matrix, density=37.600% (47/125)\n",
      "INFO : saving MmCorpus index to /home/kyle/cltk_data/user_data/lda_tlg/gensim_lda_space_tlg_numtopics5_numpasses1_nobelow20_noabove0.1_tokmin3_tokmax20_docmin50_deaccentFalse.mm.index\n",
      "INFO : saving LdaState object under /home/kyle/cltk_data/user_data/lda_tlg/gensim_lda_model_tlg_numtopics5_numpasses1_nobelow20_noabove0.1_tokmin3_tokmax20_docmin50_deaccentFalse.model.state, separately None\n",
      "INFO : saved /home/kyle/cltk_data/user_data/lda_tlg/gensim_lda_model_tlg_numtopics5_numpasses1_nobelow20_noabove0.1_tokmin3_tokmax20_docmin50_deaccentFalse.model.state\n",
      "INFO : saving LdaMulticore object under /home/kyle/cltk_data/user_data/lda_tlg/gensim_lda_model_tlg_numtopics5_numpasses1_nobelow20_noabove0.1_tokmin3_tokmax20_docmin50_deaccentFalse.model, separately ['expElogbeta', 'sstats']\n",
      "INFO : storing np array 'expElogbeta' to /home/kyle/cltk_data/user_data/lda_tlg/gensim_lda_model_tlg_numtopics5_numpasses1_nobelow20_noabove0.1_tokmin3_tokmax20_docmin50_deaccentFalse.model.expElogbeta.npy\n",
      "INFO : not storing attribute state\n",
      "INFO : not storing attribute id2word\n",
      "INFO : not storing attribute dispatcher\n",
      "INFO : saved /home/kyle/cltk_data/user_data/lda_tlg/gensim_lda_model_tlg_numtopics5_numpasses1_nobelow20_noabove0.1_tokmin3_tokmax20_docmin50_deaccentFalse.model\n",
      "INFO : using symmetric alpha at 0.1\n",
      "INFO : using symmetric eta at 1.1358602437556082e-05\n",
      "INFO : using serial LDA version on this node\n"
     ]
    },
    {
     "name": "stdout",
     "output_type": "stream",
     "text": [
      "Time to train LDA model space: 24.330283403396606\n",
      "Beginning training ...\n",
      "... 10 topics and 1 passes ...\n"
     ]
    },
    {
     "name": "stderr",
     "output_type": "stream",
     "text": [
      "INFO : running online LDA training, 10 topics, 1 passes over the supplied corpus of 25 documents, updating every 2000 documents, evaluating every ~25 documents, iterating 50x with a convergence threshold of 0.001000\n",
      "WARNING : too few updates, training might not converge; consider increasing the number of passes or iterations to improve accuracy\n",
      "INFO : training LDA model using 1 processes\n",
      "INFO : PROGRESS: pass 0, dispatched chunk #0 = documents up to #25/25, outstanding queue size 1\n",
      "INFO : topic #6 (0.100): 0.002*\"καῖσαρ\" + 0.001*\"ἵστανται\" + 0.001*\"ἱππεῖς\" + 0.001*\"σχολῶν\" + 0.001*\"βῆλον\" + 0.001*\"ὕπατον\" + 0.001*\"βροῦτος\" + 0.001*\"πρεσβευτὰς\" + 0.001*\"οὐθὲν\" + 0.001*\"ξὺν\"\n",
      "INFO : topic #2 (0.100): 0.002*\"ἵστανται\" + 0.002*\"καῖσαρ\" + 0.001*\"ἱππεῖς\" + 0.001*\"πρεσβευτὰς\" + 0.001*\"βῆλον\" + 0.001*\"σχολῶν\" + 0.001*\"νεῦμα\" + 0.001*\"πτολεμαῖον\" + 0.001*\"σῶσον\" + 0.001*\"ἰουστινιανοῦ\"\n",
      "INFO : topic #7 (0.100): 0.004*\"ἵστανται\" + 0.003*\"καῖσαρ\" + 0.001*\"ἱππεῖς\" + 0.001*\"πρεσβευτὰς\" + 0.001*\"σχολῶν\" + 0.001*\"βῆλον\" + 0.001*\"ξὺν\" + 0.001*\"σῶσον\" + 0.001*\"πρεσβευτῶν\" + 0.001*\"ὕπατος\"\n",
      "INFO : topic #0 (0.100): 0.003*\"καῖσαρ\" + 0.001*\"ἱππεῖς\" + 0.001*\"ἵστανται\" + 0.001*\"πρεσβευτὰς\" + 0.001*\"βροῦτος\" + 0.001*\"σχολῶν\" + 0.001*\"ὕπατον\" + 0.001*\"ὕπατος\" + 0.001*\"βροῦτον\" + 0.001*\"ἀχαιοῖς\"\n",
      "INFO : topic #1 (0.100): 0.003*\"καῖσαρ\" + 0.002*\"ἵστανται\" + 0.001*\"πρεσβευτὰς\" + 0.001*\"βῆλον\" + 0.001*\"ἱππεῖς\" + 0.001*\"σχολῶν\" + 0.001*\"ὕπατον\" + 0.001*\"ξὺν\" + 0.001*\"οὐθὲν\" + 0.001*\"βροῦτος\"\n",
      "INFO : topic diff=6.932761, rho=1.000000\n",
      "INFO : -11.599 per-word bound, 3101.8 perplexity estimate based on a held-out corpus of 25 documents with 113957 words\n",
      "INFO : storing corpus in Matrix Market format to /home/kyle/cltk_data/user_data/lda_tlg/gensim_lda_space_tlg_numtopics10_numpasses1_nobelow20_noabove0.1_tokmin3_tokmax20_docmin50_deaccentFalse.mm\n",
      "INFO : saving sparse matrix to /home/kyle/cltk_data/user_data/lda_tlg/gensim_lda_space_tlg_numtopics10_numpasses1_nobelow20_noabove0.1_tokmin3_tokmax20_docmin50_deaccentFalse.mm\n",
      "INFO : PROGRESS: saving document #0\n",
      "INFO : saved 25x10 matrix, density=16.400% (41/250)\n",
      "INFO : saving MmCorpus index to /home/kyle/cltk_data/user_data/lda_tlg/gensim_lda_space_tlg_numtopics10_numpasses1_nobelow20_noabove0.1_tokmin3_tokmax20_docmin50_deaccentFalse.mm.index\n",
      "INFO : saving LdaState object under /home/kyle/cltk_data/user_data/lda_tlg/gensim_lda_model_tlg_numtopics10_numpasses1_nobelow20_noabove0.1_tokmin3_tokmax20_docmin50_deaccentFalse.model.state, separately None\n",
      "INFO : saved /home/kyle/cltk_data/user_data/lda_tlg/gensim_lda_model_tlg_numtopics10_numpasses1_nobelow20_noabove0.1_tokmin3_tokmax20_docmin50_deaccentFalse.model.state\n",
      "INFO : saving LdaMulticore object under /home/kyle/cltk_data/user_data/lda_tlg/gensim_lda_model_tlg_numtopics10_numpasses1_nobelow20_noabove0.1_tokmin3_tokmax20_docmin50_deaccentFalse.model, separately ['expElogbeta', 'sstats']\n",
      "INFO : storing np array 'expElogbeta' to /home/kyle/cltk_data/user_data/lda_tlg/gensim_lda_model_tlg_numtopics10_numpasses1_nobelow20_noabove0.1_tokmin3_tokmax20_docmin50_deaccentFalse.model.expElogbeta.npy\n",
      "INFO : not storing attribute state\n",
      "INFO : not storing attribute id2word\n",
      "INFO : not storing attribute dispatcher\n",
      "INFO : saved /home/kyle/cltk_data/user_data/lda_tlg/gensim_lda_model_tlg_numtopics10_numpasses1_nobelow20_noabove0.1_tokmin3_tokmax20_docmin50_deaccentFalse.model\n",
      "INFO : using symmetric alpha at 0.04\n",
      "INFO : using symmetric eta at 1.1358602437556082e-05\n",
      "INFO : using serial LDA version on this node\n"
     ]
    },
    {
     "name": "stdout",
     "output_type": "stream",
     "text": [
      "Time to train LDA model space: 32.89586019515991\n",
      "Beginning training ...\n",
      "... 25 topics and 1 passes ...\n"
     ]
    },
    {
     "name": "stderr",
     "output_type": "stream",
     "text": [
      "INFO : running online LDA training, 25 topics, 1 passes over the supplied corpus of 25 documents, updating every 2000 documents, evaluating every ~25 documents, iterating 50x with a convergence threshold of 0.001000\n",
      "WARNING : too few updates, training might not converge; consider increasing the number of passes or iterations to improve accuracy\n",
      "INFO : training LDA model using 1 processes\n",
      "INFO : PROGRESS: pass 0, dispatched chunk #0 = documents up to #25/25, outstanding queue size 1\n",
      "INFO : topic #6 (0.040): 0.003*\"καῖσαρ\" + 0.002*\"ἵστανται\" + 0.001*\"σχολῶν\" + 0.001*\"ἱππεῖς\" + 0.001*\"ξὺν\" + 0.001*\"πρεσβευτὰς\" + 0.001*\"βῆλον\" + 0.001*\"σῶσον\" + 0.001*\"ἰσραὴλ\" + 0.001*\"μιχαὴλ\"\n",
      "INFO : topic #17 (0.040): 0.002*\"καῖσαρ\" + 0.002*\"ἵστανται\" + 0.001*\"βροῦτος\" + 0.001*\"ἱππεῖς\" + 0.001*\"ξὺν\" + 0.001*\"πρεσβευτὰς\" + 0.001*\"ὕπατον\" + 0.001*\"βῆλον\" + 0.001*\"φρουρὰν\" + 0.001*\"σχολῶν\"\n",
      "INFO : topic #23 (0.040): 0.002*\"καῖσαρ\" + 0.001*\"ἵστανται\" + 0.001*\"ἱππεῖς\" + 0.001*\"οὐθὲν\" + 0.001*\"σχολῶν\" + 0.001*\"βῆλον\" + 0.001*\"βροῦτον\" + 0.001*\"πρεσβευτὰς\" + 0.001*\"ξὺν\" + 0.001*\"βροῦτος\"\n",
      "INFO : topic #20 (0.040): 0.002*\"καῖσαρ\" + 0.002*\"ἵστανται\" + 0.001*\"ἱππεῖς\" + 0.001*\"σχολῶν\" + 0.001*\"πρεσβευτὰς\" + 0.001*\"οὐθὲν\" + 0.001*\"ὕπατον\" + 0.001*\"βῆλον\" + 0.001*\"κηροὺς\" + 0.001*\"ὑπολαβὼν\"\n",
      "INFO : topic #5 (0.040): 0.002*\"καῖσαρ\" + 0.002*\"ἵστανται\" + 0.001*\"σχολῶν\" + 0.001*\"ἱππεῖς\" + 0.001*\"πρεσβευτὰς\" + 0.001*\"βῆλον\" + 0.001*\"ὕπατος\" + 0.001*\"κηροὺς\" + 0.001*\"νεῦμα\" + 0.001*\"ξὺν\"\n",
      "INFO : topic diff=18.717759, rho=1.000000\n",
      "INFO : -14.448 per-word bound, 22357.8 perplexity estimate based on a held-out corpus of 25 documents with 113957 words\n",
      "INFO : storing corpus in Matrix Market format to /home/kyle/cltk_data/user_data/lda_tlg/gensim_lda_space_tlg_numtopics25_numpasses1_nobelow20_noabove0.1_tokmin3_tokmax20_docmin50_deaccentFalse.mm\n",
      "INFO : saving sparse matrix to /home/kyle/cltk_data/user_data/lda_tlg/gensim_lda_space_tlg_numtopics25_numpasses1_nobelow20_noabove0.1_tokmin3_tokmax20_docmin50_deaccentFalse.mm\n",
      "INFO : PROGRESS: saving document #0\n",
      "INFO : saved 25x25 matrix, density=6.080% (38/625)\n",
      "INFO : saving MmCorpus index to /home/kyle/cltk_data/user_data/lda_tlg/gensim_lda_space_tlg_numtopics25_numpasses1_nobelow20_noabove0.1_tokmin3_tokmax20_docmin50_deaccentFalse.mm.index\n",
      "INFO : saving LdaState object under /home/kyle/cltk_data/user_data/lda_tlg/gensim_lda_model_tlg_numtopics25_numpasses1_nobelow20_noabove0.1_tokmin3_tokmax20_docmin50_deaccentFalse.model.state, separately None\n",
      "INFO : saved /home/kyle/cltk_data/user_data/lda_tlg/gensim_lda_model_tlg_numtopics25_numpasses1_nobelow20_noabove0.1_tokmin3_tokmax20_docmin50_deaccentFalse.model.state\n",
      "INFO : saving LdaMulticore object under /home/kyle/cltk_data/user_data/lda_tlg/gensim_lda_model_tlg_numtopics25_numpasses1_nobelow20_noabove0.1_tokmin3_tokmax20_docmin50_deaccentFalse.model, separately ['expElogbeta', 'sstats']\n",
      "INFO : storing np array 'expElogbeta' to /home/kyle/cltk_data/user_data/lda_tlg/gensim_lda_model_tlg_numtopics25_numpasses1_nobelow20_noabove0.1_tokmin3_tokmax20_docmin50_deaccentFalse.model.expElogbeta.npy\n",
      "INFO : not storing attribute state\n",
      "INFO : not storing attribute id2word\n",
      "INFO : not storing attribute dispatcher\n",
      "INFO : saved /home/kyle/cltk_data/user_data/lda_tlg/gensim_lda_model_tlg_numtopics25_numpasses1_nobelow20_noabove0.1_tokmin3_tokmax20_docmin50_deaccentFalse.model\n",
      "INFO : using symmetric alpha at 0.02\n",
      "INFO : using symmetric eta at 1.1358602437556082e-05\n",
      "INFO : using serial LDA version on this node\n"
     ]
    },
    {
     "name": "stdout",
     "output_type": "stream",
     "text": [
      "Time to train LDA model space: 45.17950201034546\n",
      "Beginning training ...\n",
      "... 50 topics and 1 passes ...\n"
     ]
    },
    {
     "name": "stderr",
     "output_type": "stream",
     "text": [
      "INFO : running online LDA training, 50 topics, 1 passes over the supplied corpus of 25 documents, updating every 2000 documents, evaluating every ~25 documents, iterating 50x with a convergence threshold of 0.001000\n",
      "WARNING : too few updates, training might not converge; consider increasing the number of passes or iterations to improve accuracy\n",
      "INFO : training LDA model using 1 processes\n",
      "INFO : PROGRESS: pass 0, dispatched chunk #0 = documents up to #25/25, outstanding queue size 1\n",
      "INFO : topic #16 (0.020): 0.002*\"καῖσαρ\" + 0.002*\"ἵστανται\" + 0.001*\"ἐθνικὸν\" + 0.001*\"πρεσβευτὰς\" + 0.001*\"ὕπατον\" + 0.001*\"βῆλον\" + 0.001*\"ἱππεῖς\" + 0.001*\"σχολῶν\" + 0.001*\"περικλῆς\" + 0.001*\"ὕπατος\"\n",
      "INFO : topic #6 (0.020): 0.002*\"καῖσαρ\" + 0.002*\"ἵστανται\" + 0.001*\"σχολῶν\" + 0.001*\"ἱππεῖς\" + 0.001*\"βῆλον\" + 0.001*\"ξὺν\" + 0.001*\"βροῦτον\" + 0.001*\"πρεσβευτὰς\" + 0.001*\"ὑπολαβὼν\" + 0.001*\"βροῦτος\"\n",
      "INFO : topic #11 (0.020): 0.002*\"ἵστανται\" + 0.002*\"καῖσαρ\" + 0.001*\"ἱππεῖς\" + 0.001*\"βῆλον\" + 0.001*\"ὕπατον\" + 0.001*\"σχολῶν\" + 0.001*\"κριτὴν\" + 0.001*\"πρεσβευτὰς\" + 0.001*\"ὕπατος\" + 0.001*\"βροῦτον\"\n",
      "INFO : topic #25 (0.020): 0.002*\"καῖσαρ\" + 0.002*\"ἵστανται\" + 0.001*\"πρεσβευτὰς\" + 0.001*\"ὕπατον\" + 0.001*\"σχολῶν\" + 0.001*\"ἱππεῖς\" + 0.001*\"βῆλον\" + 0.001*\"ξὺν\" + 0.001*\"νεῦμα\" + 0.001*\"οὐθὲν\"\n",
      "INFO : topic #19 (0.020): 0.003*\"καῖσαρ\" + 0.002*\"ἵστανται\" + 0.001*\"ἱππεῖς\" + 0.001*\"σχολῶν\" + 0.001*\"πρεσβευτὰς\" + 0.001*\"ὑπολαβὼν\" + 0.001*\"οὐθὲν\" + 0.001*\"βροῦτος\" + 0.001*\"βῆλον\" + 0.001*\"ξὺν\"\n",
      "INFO : topic diff=39.167175, rho=1.000000\n",
      "INFO : -19.315 per-word bound, 652395.9 perplexity estimate based on a held-out corpus of 25 documents with 113957 words\n",
      "INFO : storing corpus in Matrix Market format to /home/kyle/cltk_data/user_data/lda_tlg/gensim_lda_space_tlg_numtopics50_numpasses1_nobelow20_noabove0.1_tokmin3_tokmax20_docmin50_deaccentFalse.mm\n",
      "INFO : saving sparse matrix to /home/kyle/cltk_data/user_data/lda_tlg/gensim_lda_space_tlg_numtopics50_numpasses1_nobelow20_noabove0.1_tokmin3_tokmax20_docmin50_deaccentFalse.mm\n",
      "INFO : PROGRESS: saving document #0\n",
      "INFO : saved 25x50 matrix, density=3.680% (46/1250)\n",
      "INFO : saving MmCorpus index to /home/kyle/cltk_data/user_data/lda_tlg/gensim_lda_space_tlg_numtopics50_numpasses1_nobelow20_noabove0.1_tokmin3_tokmax20_docmin50_deaccentFalse.mm.index\n",
      "INFO : saving LdaState object under /home/kyle/cltk_data/user_data/lda_tlg/gensim_lda_model_tlg_numtopics50_numpasses1_nobelow20_noabove0.1_tokmin3_tokmax20_docmin50_deaccentFalse.model.state, separately None\n",
      "INFO : saved /home/kyle/cltk_data/user_data/lda_tlg/gensim_lda_model_tlg_numtopics50_numpasses1_nobelow20_noabove0.1_tokmin3_tokmax20_docmin50_deaccentFalse.model.state\n",
      "INFO : saving LdaMulticore object under /home/kyle/cltk_data/user_data/lda_tlg/gensim_lda_model_tlg_numtopics50_numpasses1_nobelow20_noabove0.1_tokmin3_tokmax20_docmin50_deaccentFalse.model, separately ['expElogbeta', 'sstats']\n",
      "INFO : storing np array 'expElogbeta' to /home/kyle/cltk_data/user_data/lda_tlg/gensim_lda_model_tlg_numtopics50_numpasses1_nobelow20_noabove0.1_tokmin3_tokmax20_docmin50_deaccentFalse.model.expElogbeta.npy\n",
      "INFO : not storing attribute state\n",
      "INFO : not storing attribute id2word\n",
      "INFO : not storing attribute dispatcher\n",
      "INFO : saved /home/kyle/cltk_data/user_data/lda_tlg/gensim_lda_model_tlg_numtopics50_numpasses1_nobelow20_noabove0.1_tokmin3_tokmax20_docmin50_deaccentFalse.model\n",
      "INFO : using symmetric alpha at 0.01818181818181818\n",
      "INFO : using symmetric eta at 1.1358602437556082e-05\n",
      "INFO : using serial LDA version on this node\n"
     ]
    },
    {
     "name": "stdout",
     "output_type": "stream",
     "text": [
      "Time to train LDA model space: 76.87505435943604\n",
      "Beginning training ...\n",
      "... 55 topics and 1 passes ...\n"
     ]
    },
    {
     "name": "stderr",
     "output_type": "stream",
     "text": [
      "INFO : running online LDA training, 55 topics, 1 passes over the supplied corpus of 25 documents, updating every 2000 documents, evaluating every ~25 documents, iterating 50x with a convergence threshold of 0.001000\n",
      "WARNING : too few updates, training might not converge; consider increasing the number of passes or iterations to improve accuracy\n",
      "INFO : training LDA model using 1 processes\n",
      "INFO : PROGRESS: pass 0, dispatched chunk #0 = documents up to #25/25, outstanding queue size 1\n",
      "INFO : topic #24 (0.018): 0.002*\"καῖσαρ\" + 0.002*\"ἵστανται\" + 0.001*\"πρεσβευτὰς\" + 0.001*\"σχολῶν\" + 0.001*\"ὕπατον\" + 0.001*\"βῆλον\" + 0.001*\"νεῦμα\" + 0.001*\"ἱππεῖς\" + 0.001*\"πρεσβευτῶν\" + 0.001*\"στρατῷ\"\n",
      "INFO : topic #10 (0.018): 0.002*\"καῖσαρ\" + 0.002*\"ἵστανται\" + 0.001*\"σχολῶν\" + 0.001*\"ἱππεῖς\" + 0.001*\"πρεσβευτὰς\" + 0.001*\"ἰδεῶν\" + 0.001*\"βῆλον\" + 0.001*\"σῶσον\" + 0.001*\"ὕπατον\" + 0.001*\"βροῦτον\"\n",
      "INFO : topic #43 (0.018): 0.002*\"καῖσαρ\" + 0.002*\"ἵστανται\" + 0.001*\"ἱππεῖς\" + 0.001*\"ἄδωνιν\" + 0.001*\"ἄδωνις\" + 0.001*\"βροῦτος\" + 0.001*\"οὐθὲν\" + 0.001*\"νιν\" + 0.001*\"σχολῶν\" + 0.001*\"ὕπατον\"\n",
      "INFO : topic #41 (0.018): 0.003*\"καῖσαρ\" + 0.002*\"ἵστανται\" + 0.001*\"ἱππεῖς\" + 0.001*\"βροῦτος\" + 0.001*\"πρεσβευτὰς\" + 0.001*\"βῆλον\" + 0.001*\"οὐθὲν\" + 0.001*\"βροῦτον\" + 0.001*\"φρουρὰν\" + 0.001*\"σχολῶν\"\n",
      "INFO : topic #28 (0.018): 0.002*\"καῖσαρ\" + 0.002*\"ἵστανται\" + 0.001*\"ἱππεῖς\" + 0.001*\"πρεσβευτὰς\" + 0.001*\"βροῦτος\" + 0.001*\"οὐθὲν\" + 0.001*\"βῆλον\" + 0.001*\"ξὺν\" + 0.001*\"ὕπατον\" + 0.001*\"σχολῶν\"\n",
      "INFO : topic diff=43.316652, rho=1.000000\n",
      "INFO : -20.483 per-word bound, 1465319.4 perplexity estimate based on a held-out corpus of 25 documents with 113957 words\n",
      "INFO : storing corpus in Matrix Market format to /home/kyle/cltk_data/user_data/lda_tlg/gensim_lda_space_tlg_numtopics55_numpasses1_nobelow20_noabove0.1_tokmin3_tokmax20_docmin50_deaccentFalse.mm\n",
      "INFO : saving sparse matrix to /home/kyle/cltk_data/user_data/lda_tlg/gensim_lda_space_tlg_numtopics55_numpasses1_nobelow20_noabove0.1_tokmin3_tokmax20_docmin50_deaccentFalse.mm\n",
      "INFO : PROGRESS: saving document #0\n",
      "INFO : saved 25x55 matrix, density=3.782% (52/1375)\n",
      "INFO : saving MmCorpus index to /home/kyle/cltk_data/user_data/lda_tlg/gensim_lda_space_tlg_numtopics55_numpasses1_nobelow20_noabove0.1_tokmin3_tokmax20_docmin50_deaccentFalse.mm.index\n",
      "INFO : saving LdaState object under /home/kyle/cltk_data/user_data/lda_tlg/gensim_lda_model_tlg_numtopics55_numpasses1_nobelow20_noabove0.1_tokmin3_tokmax20_docmin50_deaccentFalse.model.state, separately None\n",
      "INFO : saved /home/kyle/cltk_data/user_data/lda_tlg/gensim_lda_model_tlg_numtopics55_numpasses1_nobelow20_noabove0.1_tokmin3_tokmax20_docmin50_deaccentFalse.model.state\n",
      "INFO : saving LdaMulticore object under /home/kyle/cltk_data/user_data/lda_tlg/gensim_lda_model_tlg_numtopics55_numpasses1_nobelow20_noabove0.1_tokmin3_tokmax20_docmin50_deaccentFalse.model, separately ['expElogbeta', 'sstats']\n",
      "INFO : storing np array 'expElogbeta' to /home/kyle/cltk_data/user_data/lda_tlg/gensim_lda_model_tlg_numtopics55_numpasses1_nobelow20_noabove0.1_tokmin3_tokmax20_docmin50_deaccentFalse.model.expElogbeta.npy\n",
      "INFO : not storing attribute state\n",
      "INFO : not storing attribute id2word\n",
      "INFO : not storing attribute dispatcher\n",
      "INFO : saved /home/kyle/cltk_data/user_data/lda_tlg/gensim_lda_model_tlg_numtopics55_numpasses1_nobelow20_noabove0.1_tokmin3_tokmax20_docmin50_deaccentFalse.model\n",
      "INFO : using symmetric alpha at 0.01\n",
      "INFO : using symmetric eta at 1.1358602437556082e-05\n",
      "INFO : using serial LDA version on this node\n"
     ]
    },
    {
     "name": "stdout",
     "output_type": "stream",
     "text": [
      "Time to train LDA model space: 80.9849042892456\n",
      "Beginning training ...\n",
      "... 100 topics and 1 passes ...\n"
     ]
    },
    {
     "name": "stderr",
     "output_type": "stream",
     "text": [
      "INFO : running online LDA training, 100 topics, 1 passes over the supplied corpus of 25 documents, updating every 2000 documents, evaluating every ~25 documents, iterating 50x with a convergence threshold of 0.001000\n",
      "WARNING : too few updates, training might not converge; consider increasing the number of passes or iterations to improve accuracy\n",
      "INFO : training LDA model using 1 processes\n",
      "INFO : PROGRESS: pass 0, dispatched chunk #0 = documents up to #25/25, outstanding queue size 1\n",
      "INFO : topic #4 (0.010): 0.003*\"καῖσαρ\" + 0.002*\"ἵστανται\" + 0.001*\"πρεσβευτὰς\" + 0.001*\"ἱππεῖς\" + 0.001*\"ξὺν\" + 0.001*\"βροῦτος\" + 0.001*\"βῆλον\" + 0.001*\"βροῦτον\" + 0.001*\"σῶσον\" + 0.001*\"σχολῶν\"\n",
      "INFO : topic #48 (0.010): 0.002*\"καῖσαρ\" + 0.001*\"ἵστανται\" + 0.001*\"σχολῶν\" + 0.001*\"ἱππεῖς\" + 0.001*\"ξὺν\" + 0.001*\"βῆλον\" + 0.001*\"βροῦτον\" + 0.001*\"πρεσβευτὰς\" + 0.001*\"βροῦτος\" + 0.001*\"ὕπατον\"\n",
      "INFO : topic #20 (0.010): 0.003*\"καῖσαρ\" + 0.002*\"ἵστανται\" + 0.001*\"ἱππεῖς\" + 0.001*\"πρεσβευτὰς\" + 0.001*\"σχολῶν\" + 0.001*\"κηροὺς\" + 0.001*\"βῆλον\" + 0.001*\"σῶσον\" + 0.001*\"ἰουστινιανοῦ\" + 0.001*\"βροῦτον\"\n",
      "INFO : topic #64 (0.010): 0.003*\"ἵστανται\" + 0.003*\"καῖσαρ\" + 0.002*\"πρεσβευτὰς\" + 0.001*\"ἱππεῖς\" + 0.001*\"σχολῶν\" + 0.001*\"ξὺν\" + 0.001*\"βῆλον\" + 0.001*\"μιχαὴλ\" + 0.001*\"ὕπατον\" + 0.001*\"ἀντωνῖνος\"\n",
      "INFO : topic #79 (0.010): 0.002*\"ἵστανται\" + 0.002*\"καῖσαρ\" + 0.001*\"βῆλον\" + 0.001*\"σχολῶν\" + 0.001*\"ξὺν\" + 0.001*\"νεῦμα\" + 0.001*\"πρεσβευτὰς\" + 0.001*\"ὕπατον\" + 0.001*\"πτολεμαῖον\" + 0.001*\"ἱππεῖς\"\n",
      "INFO : topic diff=80.853080, rho=1.000000\n",
      "INFO : -29.237 per-word bound, 632818546.4 perplexity estimate based on a held-out corpus of 25 documents with 113957 words\n",
      "INFO : storing corpus in Matrix Market format to /home/kyle/cltk_data/user_data/lda_tlg/gensim_lda_space_tlg_numtopics100_numpasses1_nobelow20_noabove0.1_tokmin3_tokmax20_docmin50_deaccentFalse.mm\n",
      "INFO : saving sparse matrix to /home/kyle/cltk_data/user_data/lda_tlg/gensim_lda_space_tlg_numtopics100_numpasses1_nobelow20_noabove0.1_tokmin3_tokmax20_docmin50_deaccentFalse.mm\n",
      "INFO : PROGRESS: saving document #0\n",
      "INFO : saved 25x100 matrix, density=2.560% (64/2500)\n",
      "INFO : saving MmCorpus index to /home/kyle/cltk_data/user_data/lda_tlg/gensim_lda_space_tlg_numtopics100_numpasses1_nobelow20_noabove0.1_tokmin3_tokmax20_docmin50_deaccentFalse.mm.index\n",
      "INFO : saving LdaState object under /home/kyle/cltk_data/user_data/lda_tlg/gensim_lda_model_tlg_numtopics100_numpasses1_nobelow20_noabove0.1_tokmin3_tokmax20_docmin50_deaccentFalse.model.state, separately None\n",
      "INFO : saved /home/kyle/cltk_data/user_data/lda_tlg/gensim_lda_model_tlg_numtopics100_numpasses1_nobelow20_noabove0.1_tokmin3_tokmax20_docmin50_deaccentFalse.model.state\n",
      "INFO : saving LdaMulticore object under /home/kyle/cltk_data/user_data/lda_tlg/gensim_lda_model_tlg_numtopics100_numpasses1_nobelow20_noabove0.1_tokmin3_tokmax20_docmin50_deaccentFalse.model, separately ['expElogbeta', 'sstats']\n",
      "INFO : storing np array 'expElogbeta' to /home/kyle/cltk_data/user_data/lda_tlg/gensim_lda_model_tlg_numtopics100_numpasses1_nobelow20_noabove0.1_tokmin3_tokmax20_docmin50_deaccentFalse.model.expElogbeta.npy\n",
      "INFO : not storing attribute state\n",
      "INFO : not storing attribute id2word\n",
      "INFO : not storing attribute dispatcher\n",
      "INFO : saved /home/kyle/cltk_data/user_data/lda_tlg/gensim_lda_model_tlg_numtopics100_numpasses1_nobelow20_noabove0.1_tokmin3_tokmax20_docmin50_deaccentFalse.model\n"
     ]
    },
    {
     "name": "stdout",
     "output_type": "stream",
     "text": [
      "Time to train LDA model space: 130.2624135017395\n"
     ]
    }
   ],
   "source": [
    "for num_topics in NUM_TOPICS_LIST:\n",
    "    print('Beginning training ...')\n",
    "    print('... {} topics and {} passes ...'.format(num_topics, PASSES))\n",
    "    t0 = time.time()\n",
    "    lda_model = gensim.models.LdaMulticore(corpus_bow_tlg, num_topics=num_topics, id2word=id2word_tlg, passes=PASSES)\n",
    "    \n",
    "    # save LDA vector space\n",
    "    lda_space_name = 'gensim_lda_space_tlg_numtopics{}_numpasses{}_nobelow{}_noabove{}_tokmin{}_tokmax{}_docmin{}_deaccent{}.mm'.format(num_topics, \n",
    "                                                                                                                                        PASSES, \n",
    "                                                                                                                                        no_below, \n",
    "                                                                                                                                        no_above, \n",
    "                                                                                                                                        TOK_MIN, \n",
    "                                                                                                                                        TOK_MAX, \n",
    "                                                                                                                                        DOC_MIN, \n",
    "                                                                                                                                        PREPROCESS_DEACCENT)\n",
    "    path_lda = os.path.join(user_dir, lda_space_name)\n",
    "    gensim.corpora.MmCorpus.serialize(path_lda, lda_model[corpus_bow_tlg])\n",
    "    \n",
    "    # save model\n",
    "    lda_model_name = 'gensim_lda_model_tlg_numtopics{}_numpasses{}_nobelow{}_noabove{}_tokmin{}_tokmax{}_docmin{}_deaccent{}.model'.format(num_topics, \n",
    "                                                                                                                                           PASSES, \n",
    "                                                                                                                                           no_below, \n",
    "                                                                                                                                           no_above, \n",
    "                                                                                                                                           TOK_MIN, \n",
    "                                                                                                                                           TOK_MAX, \n",
    "                                                                                                                                           DOC_MIN, \n",
    "                                                                                                                                           PREPROCESS_DEACCENT)\n",
    "    path_lda = os.path.join(user_dir, lda_model_name)\n",
    "    lda_model.save(path_lda)\n",
    "    print('Time to train LDA model space:', time.time() - t0)"
   ]
  },
  {
   "cell_type": "code",
   "execution_count": 24,
   "metadata": {
    "collapsed": true
   },
   "outputs": [],
   "source": [
    "# # Examples of how to use the model\n",
    "# lda_model.print_topics(-1)  # print a few most important words for each LDA topic\n",
    "# # transform text into the bag-of-words space\n",
    "# bow_vector = id2word_tlg.doc2bow(tokenize(doc))\n",
    "# print([(id2word_tlg[id], count) for id, count in bow_vector])\n",
    "\n",
    "# # transform into LDA space\n",
    "# lda_vector = lda_model[bow_vector]\n",
    "# print(lda_vector)\n",
    "\n",
    "# # print the document's single most prominent LDA topic\n",
    "# print(lda_model.print_topic(max(lda_vector, key=lambda item: item[1])[0]))"
   ]
  },
  {
   "cell_type": "markdown",
   "metadata": {},
   "source": [
    "# Evaluation"
   ]
  },
  {
   "cell_type": "markdown",
   "metadata": {},
   "source": [
    "## Word intrusion\n",
    "\n",
    "> For each trained topic, they take its first ten words, then substitute one of them with another, randomly chosen word (intruder!) and see whether a human can reliably tell which one it was. If so, the trained topic is topically coherent (good); if not, the topic has no discernible theme (bad)"
   ]
  },
  {
   "cell_type": "code",
   "execution_count": 25,
   "metadata": {},
   "outputs": [
    {
     "name": "stderr",
     "output_type": "stream",
     "text": [
      "INFO : loading LdaMulticore object from /home/kyle/cltk_data/user_data/lda_tlg/gensim_lda_model_tlg_numtopics5_numpasses1_nobelow20_noabove0.1_tokmin3_tokmax20_docmin50_deaccentFalse.model\n",
      "INFO : loading expElogbeta from /home/kyle/cltk_data/user_data/lda_tlg/gensim_lda_model_tlg_numtopics5_numpasses1_nobelow20_noabove0.1_tokmin3_tokmax20_docmin50_deaccentFalse.model.expElogbeta.npy with mmap=None\n",
      "INFO : setting ignored attribute state to None\n",
      "INFO : setting ignored attribute id2word to None\n",
      "INFO : setting ignored attribute dispatcher to None\n",
      "INFO : loaded /home/kyle/cltk_data/user_data/lda_tlg/gensim_lda_model_tlg_numtopics5_numpasses1_nobelow20_noabove0.1_tokmin3_tokmax20_docmin50_deaccentFalse.model\n",
      "INFO : loading LdaMulticore object from /home/kyle/cltk_data/user_data/lda_tlg/gensim_lda_model_tlg_numtopics5_numpasses1_nobelow20_noabove0.1_tokmin3_tokmax20_docmin50_deaccentFalse.model.state\n",
      "INFO : loaded /home/kyle/cltk_data/user_data/lda_tlg/gensim_lda_model_tlg_numtopics5_numpasses1_nobelow20_noabove0.1_tokmin3_tokmax20_docmin50_deaccentFalse.model.state\n",
      "INFO : loading LdaMulticore object from /home/kyle/cltk_data/user_data/lda_tlg/gensim_lda_model_tlg_numtopics10_numpasses1_nobelow20_noabove0.1_tokmin3_tokmax20_docmin50_deaccentFalse.model\n",
      "INFO : loading expElogbeta from /home/kyle/cltk_data/user_data/lda_tlg/gensim_lda_model_tlg_numtopics10_numpasses1_nobelow20_noabove0.1_tokmin3_tokmax20_docmin50_deaccentFalse.model.expElogbeta.npy with mmap=None\n",
      "INFO : setting ignored attribute state to None\n",
      "INFO : setting ignored attribute id2word to None\n",
      "INFO : setting ignored attribute dispatcher to None\n",
      "INFO : loaded /home/kyle/cltk_data/user_data/lda_tlg/gensim_lda_model_tlg_numtopics10_numpasses1_nobelow20_noabove0.1_tokmin3_tokmax20_docmin50_deaccentFalse.model\n",
      "INFO : loading LdaMulticore object from /home/kyle/cltk_data/user_data/lda_tlg/gensim_lda_model_tlg_numtopics10_numpasses1_nobelow20_noabove0.1_tokmin3_tokmax20_docmin50_deaccentFalse.model.state\n",
      "INFO : loaded /home/kyle/cltk_data/user_data/lda_tlg/gensim_lda_model_tlg_numtopics10_numpasses1_nobelow20_noabove0.1_tokmin3_tokmax20_docmin50_deaccentFalse.model.state\n"
     ]
    },
    {
     "name": "stdout",
     "output_type": "stream",
     "text": [
      "Loading model: gensim_lda_model_tlg_numtopics5_numpasses1_nobelow20_noabove0.1_tokmin3_tokmax20_docmin50_deaccentFalse.model ...\n",
      "... for word intrusion testing ...\n",
      "Top 50 words of each LDA model:\n",
      "[['καῖσαρ', 'ἵστανται', 'ἱππεῖς', 'σχολῶν', 'ὕπατον', 'πρεσβευτὰς', 'βῆλον', 'πτολεμαῖον', 'ἀχαιοῖς', 'βροῦτον', 'φρουρὰν', 'οὐθὲν', 'πρεσβευτῶν', 'ἰδεῶν', 'ἔπραττεν', 'νεῦμα', 'ἀντωνῖνος', 'σῶσον', 'περικλῆς', 'βροῦτος', 'θεμιστοκλῆς', 'κηροὺς', 'ξὺν', 'ὕπατος', 'γαλατῶν', 'ὑπολαβὼν', 'ἰουστινιανοῦ', 'ᾤοντο', 'ἀχαιοὺς', 'ἥδιστον', 'σπαρτιατῶν', 'ἔννοιαι', 'λυκοῦργος', 'βοῆς', 'σπονδῶν', 'εὐμενῆ', 'στρατηγοῖς', 'παρακαλεῖν', 'ἅγιε', 'ἀπολιπεῖν', 'σιωπῆς', 'ὕπατοι', 'τελεῖται', 'δελφοὺς', 'ἄρατον', 'περιορᾶν', 'βασιλικοὶ', 'στρατῷ', 'μεταβολαῖς', 'κωνσταντῖνος'], ['καῖσαρ', 'ἵστανται', 'ἱππεῖς', 'πρεσβευτὰς', 'ξὺν', 'βροῦτος', 'οὐθὲν', 'βῆλον', 'σχολῶν', 'θεμιστοκλῆς', 'τελεῖται', 'σῶσον', 'πτολεμαῖον', 'βροῦτον', 'ὕπατον', 'κηροὺς', 'σαρακηνῶν', 'ὑπολαβὼν', 'ὕπατος', 'πρεσβευτῶν', 'λυκοῦργος', 'ἀχαιοῖς', 'κῦρον', 'ἄρατος', 'ἔπεμψαν', 'περικλῆς', 'ἰσραὴλ', 'ἀπῄει', 'γαλατῶν', 'ᾤοντο', 'στρατῷ', 'παιδιᾶς', 'ἥδιστον', 'νεῦμα', 'ὁμαλῶς', 'ἰουστινιανοῦ', 'εὐμενὴς', 'φρουρὰν', 'αἰτωλῶν', 'ἀχαιοὺς', 'μιχαὴλ', 'δοκοῦντος', 'ᾔτει', 'σπονδῶν', 'ἀντωνῖνος', 'κεφ', 'ὥρμησε', 'σπαρτιατῶν', 'ναυσὶ', 'ἄτταλον'], ['καῖσαρ', 'ἵστανται', 'σχολῶν', 'ἱππεῖς', 'πρεσβευτὰς', 'βῆλον', 'ξὺν', 'ὕπατον', 'νεῦμα', 'σῶσον', 'βροῦτος', 'ἰουστινιανοῦ', 'βροῦτον', 'κηροὺς', 'ὕπατος', 'φρουρὰν', 'ἔπεμψαν', 'στρατῷ', 'πτολεμαῖον', 'οὐθὲν', 'αἰτωλῶν', 'ἀντωνῖνος', 'πρεσβευτῶν', 'κωνσταντῖνος', 'ἀχαιοὺς', 'ἀπῄει', 'ἀχαιοῖς', 'σπονδῶν', 'ὑπολαβὼν', 'σπαρτιατῶν', 'ἐπανῆλθεν', 'ᾤοντο', 'τελεῖται', 'ἔπραττεν', 'ἔπαρχος', 'ᾔτει', 'δεξιῷ', 'μιχαὴλ', 'πρεσβευτὴν', 'φοροῦντες', 'ἅγιε', 'ὥρμησε', 'σαρακηνῶν', 'κῦρον', 'ἄρατος', 'προσκαλεῖται', 'παῦλον', 'φορῶν', 'ἐπιφανῶν', 'χαλκῆς'], ['καῖσαρ', 'ἵστανται', 'ἱππεῖς', 'πρεσβευτὰς', 'βῆλον', 'ξὺν', 'σχολῶν', 'βροῦτος', 'ὕπατος', 'ὕπατον', 'οὐθὲν', 'βροῦτον', 'θεμιστοκλῆς', 'ἄρατος', 'κηροὺς', 'ᾤοντο', 'ἀχαιοῖς', 'σπονδῶν', 'νεῦμα', 'στρατῷ', 'ἥδιστον', 'σῴζειν', 'ἐπανῆλθεν', 'ὑπολαβὼν', 'ἔπεμψαν', 'κῦρον', 'ἀπῄει', 'πτολεμαῖον', 'ἰσραὴλ', 'ἰουστινιανοῦ', 'μιχαὴλ', 'δαυὶδ', 'πρεσβευτὴν', 'λυκοῦργος', 'σῶσον', 'ἀντωνῖνος', 'περσεὺς', 'αἰτωλῶν', 'μηθὲν', 'περικλῆς', 'δελφοὺς', 'ὥρμησε', 'σῴζεσθαι', 'εὐμενὴς', 'ἰδεῶν', 'σαρακηνῶν', 'δωρεὰς', 'παιδιᾶς', 'τελεῖται', 'κεφ'], ['καῖσαρ', 'ἵστανται', 'ἱππεῖς', 'σχολῶν', 'βροῦτος', 'πρεσβευτὰς', 'ὕπατος', 'οὐθὲν', 'βροῦτον', 'βῆλον', 'ἄρατος', 'ὑπολαβὼν', 'σῶσον', 'ὕπατον', 'στρατῷ', 'περικλῆς', 'ξὺν', 'ἀπῄει', 'ἀχαιοῖς', 'ἰδεῶν', 'κηροὺς', 'φρουρὰν', 'ᾤοντο', 'θεμιστοκλῆς', 'δοκοῦντος', 'σπαρτιατῶν', 'πτολεμαῖον', 'κῶλα', 'μηθὲν', 'θηβαῖοι', 'στρατηγοῖς', 'ἰουστινιανοῦ', 'μιχαὴλ', 'ἐπιφανῶν', 'ἔπεμψαν', 'πρεσβευτῶν', 'κῦρον', 'εὐμενὴς', 'λυκοῦργος', 'ἥδιστον', 'πρεσβευτὴν', 'παρακαλεῖν', 'κῶλον', 'αἰτωλῶν', 'ἀντωνῖνος', 'δελφοὺς', 'ἔννοιαι', 'εὐμενῆ', 'νεῦμα', 'ὕπατοι']]\n",
      "\n",
      "Can you spot the misplaced word in each topic?\n",
      "0: καῖσαρ ἵστανται ἱππεῖς σχολῶν ὕπατον πρεσβευτὰς δεξιῷ πτολεμαῖον ἀχαιοῖς βροῦτον\n",
      "1: καῖσαρ ἵστανται ἱππεῖς πρεσβευτὰς ξὺν βροῦτος οὐθὲν βῆλον σχολῶν ὕπατοι\n",
      "2: καῖσαρ ἵστανται δαυὶδ ἱππεῖς πρεσβευτὰς βῆλον ξὺν ὕπατον νεῦμα σῶσον\n",
      "3: καῖσαρ ἵστανται μεταβολαῖς πρεσβευτὰς βῆλον ξὺν σχολῶν βροῦτος ὕπατος ὕπατον\n",
      "4: δωρεὰς ἵστανται ἱππεῖς σχολῶν βροῦτος πρεσβευτὰς ὕπατος οὐθὲν βροῦτον βῆλον\n",
      "Actual replacements were:\n",
      "[(0, ('βῆλον', 'δεξιῷ')), (1, ('θεμιστοκλῆς', 'ὕπατοι')), (2, ('σχολῶν', 'δαυὶδ')), (3, ('ἱππεῖς', 'μεταβολαῖς')), (4, ('καῖσαρ', 'δωρεὰς'))]\n",
      "\n",
      "Loading model: gensim_lda_model_tlg_numtopics10_numpasses1_nobelow20_noabove0.1_tokmin3_tokmax20_docmin50_deaccentFalse.model ...\n",
      "... for word intrusion testing ...\n"
     ]
    },
    {
     "name": "stderr",
     "output_type": "stream",
     "text": [
      "INFO : loading LdaMulticore object from /home/kyle/cltk_data/user_data/lda_tlg/gensim_lda_model_tlg_numtopics25_numpasses1_nobelow20_noabove0.1_tokmin3_tokmax20_docmin50_deaccentFalse.model\n",
      "INFO : loading expElogbeta from /home/kyle/cltk_data/user_data/lda_tlg/gensim_lda_model_tlg_numtopics25_numpasses1_nobelow20_noabove0.1_tokmin3_tokmax20_docmin50_deaccentFalse.model.expElogbeta.npy with mmap=None\n",
      "INFO : setting ignored attribute state to None\n",
      "INFO : setting ignored attribute id2word to None\n",
      "INFO : setting ignored attribute dispatcher to None\n",
      "INFO : loaded /home/kyle/cltk_data/user_data/lda_tlg/gensim_lda_model_tlg_numtopics25_numpasses1_nobelow20_noabove0.1_tokmin3_tokmax20_docmin50_deaccentFalse.model\n",
      "INFO : loading LdaMulticore object from /home/kyle/cltk_data/user_data/lda_tlg/gensim_lda_model_tlg_numtopics25_numpasses1_nobelow20_noabove0.1_tokmin3_tokmax20_docmin50_deaccentFalse.model.state\n",
      "INFO : loaded /home/kyle/cltk_data/user_data/lda_tlg/gensim_lda_model_tlg_numtopics25_numpasses1_nobelow20_noabove0.1_tokmin3_tokmax20_docmin50_deaccentFalse.model.state\n"
     ]
    },
    {
     "name": "stdout",
     "output_type": "stream",
     "text": [
      "Top 50 words of each LDA model:\n",
      "[['καῖσαρ', 'ἱππεῖς', 'ἵστανται', 'πρεσβευτὰς', 'βροῦτος', 'σχολῶν', 'ὕπατον', 'ὕπατος', 'βροῦτον', 'ἀχαιοῖς', 'βῆλον', 'οὐθὲν', 'ξὺν', 'πτολεμαῖον', 'περικλῆς', 'ἄρατος', 'ὑπολαβὼν', 'ἔπεμψαν', 'ᾤοντο', 'θεμιστοκλῆς', 'νεῦμα', 'λυκοῦργος', 'φρουρὰν', 'σῶσον', 'στρατῷ', 'ἥδιστον', 'πρεσβευτὴν', 'εὐμενὴς', 'ἰδεῶν', 'δελφοὺς', 'ὕπνους', 'μηθὲν', 'ἐπανελθὼν', 'πρεσβευτῶν', 'ἀπῄει', 'ἔναγχος', 'κηροὺς', 'γαλατῶν', 'κῦρον', 'ἰουστινιανοῦ', 'ἀντωνῖνος', 'ἔννοιαι', 'ἄρατον', 'ἀπολιπεῖν', 'ἐπιφανῶν', 'σπαρτιατῶν', 'κωνσταντῖνος', 'ἔπραττεν', 'κατεῖχε', 'φανερὸς'], ['καῖσαρ', 'ἵστανται', 'πρεσβευτὰς', 'βῆλον', 'ἱππεῖς', 'σχολῶν', 'ὕπατον', 'ξὺν', 'οὐθὲν', 'βροῦτος', 'ἰουστινιανοῦ', 'στρατῷ', 'κηροὺς', 'νεῦμα', 'ἄρατος', 'φρουρὰν', 'θεμιστοκλῆς', 'πρεσβευτῶν', 'ὑπολαβὼν', 'ᾤοντο', 'βροῦτον', 'σῶσον', 'τελεῖται', 'ὕπατος', 'ἀπῄει', 'ἀχαιοῖς', 'φοροῦντες', 'ἐπανῆλθεν', 'κῦρον', 'σπαρτιατῶν', 'πτολεμαῖον', 'ἔπεμψαν', 'περικλῆς', 'ἰουστινιανὸς', 'περσεὺς', 'λυκοῦργος', 'αἰτωλῶν', 'σπονδῶν', 'μιχαὴλ', 'τοῦρκοι', 'κεφ', 'γαλατῶν', 'ἔναγχος', 'ἰδεῶν', 'ἀχαιοὺς', 'σιωπῆς', 'ἀντωνῖνος', 'ᾔτει', 'χαλκῆς', 'παρακαλεῖν'], ['ἵστανται', 'καῖσαρ', 'ἱππεῖς', 'πρεσβευτὰς', 'βῆλον', 'σχολῶν', 'νεῦμα', 'πτολεμαῖον', 'σῶσον', 'ἰουστινιανοῦ', 'θεμιστοκλῆς', 'βροῦτον', 'ἀχαιοῖς', 'ἄρατος', 'φρουρὰν', 'ὕπατον', 'κηροὺς', 'ὕπατος', 'τελεῖται', 'ξὺν', 'ὑπολαβὼν', 'βροῦτος', 'οὐθὲν', 'σπαρτιατῶν', 'ᾤοντο', 'ἔπραττεν', 'ἀχαιοὺς', 'ἀντωνῖνος', 'ἐπανῆλθεν', 'πρεσβευτῶν', 'περικλῆς', 'ἅγιε', 'σαρακηνῶν', 'κῦρον', 'ἔννοιαι', 'στρατῷ', 'στρατηγοῖς', 'κεφ', 'προσκυνεῖ', 'λυκοῦργος', 'περσεὺς', 'φοροῦντες', 'μηθὲν', 'πολιτικὸς', 'ἰδεῶν', 'δοκοῦντος', 'παιδιᾶς', 'ᾔτει', 'εὐμενῆ', 'κωνσταντῖνος'], ['καῖσαρ', 'ἵστανται', 'ἱππεῖς', 'πρεσβευτὰς', 'οὐθὲν', 'βροῦτον', 'ὕπατον', 'ἰσραὴλ', 'ὕπατος', 'θεμιστοκλῆς', 'ὑπολαβὼν', 'βῆλον', 'νεῦμα', 'σῶσον', 'βροῦτος', 'ἀχαιοῖς', 'σχολῶν', 'ἥδιστον', 'ἔπεμψαν', 'ἰουστινιανοῦ', 'ἰδεῶν', 'λυκοῦργος', 'ξὺν', 'ἀντωνῖνος', 'κῦρον', 'πτολεμαῖον', 'παιδιᾶς', 'φρουρὰν', 'μηθὲν', 'ἔπραττεν', 'περικλῆς', 'στρατῷ', 'σπαρτιατῶν', 'δαυὶδ', 'δοκοῦντος', 'ἀχαιοὺς', 'σῴζειν', 'δημαγωγῶν', 'κῶλα', 'κηροὺς', 'ἀπολιπεῖν', 'κεφ', 'ἔννοιαι', 'τελεῖται', 'περσεὺς', 'ᾤοντο', 'σπονδῶν', 'φανερὸς', 'πρεσβευτῶν', 'παρεῖχον'], ['καῖσαρ', 'ἵστανται', 'πρεσβευτὰς', 'ἱππεῖς', 'βῆλον', 'βροῦτος', 'σχολῶν', 'ξὺν', 'βροῦτον', 'ὕπατον', 'οὐθὲν', 'σῶσον', 'πρεσβευτῶν', 'πτολεμαῖον', 'ἰδεῶν', 'κηροὺς', 'φρουρὰν', 'σπονδῶν', 'αἰτωλῶν', 'ἀπῄει', 'στρατῷ', 'τελεῖται', 'ἰουστινιανοῦ', 'νεῦμα', 'μιχαὴλ', 'ἔννοιαι', 'ὕπατος', 'ἐπανῆλθεν', 'ὑπολαβὼν', 'ἔπραττεν', 'ἰσραὴλ', 'περικλῆς', 'στρατηγοῖς', 'κεφ', 'ἔπεμψαν', 'ἀχαιοῖς', 'κωνσταντῖνος', 'ἔπαρχος', 'παῦλον', 'δεξιῷ', 'δαυὶδ', 'κῶλα', 'σαρακηνῶν', 'πρεσβευτὴν', 'ᾤοντο', 'σπαρτιατῶν', 'ἀχαιοὺς', 'εὐμενὴς', 'τοῦρκοι', 'ἅγιε'], ['καῖσαρ', 'ἵστανται', 'ἱππεῖς', 'πρεσβευτὰς', 'σχολῶν', 'βῆλον', 'βροῦτος', 'βροῦτον', 'ἀντωνῖνος', 'ὕπατον', 'ἔπεμψαν', 'κηροὺς', 'περικλῆς', 'ξὺν', 'ὕπατος', 'οὐθὲν', 'λυκοῦργος', 'σῶσον', 'ὑπολαβὼν', 'φρουρὰν', 'εὐμενῆ', 'παρακαλεῖν', 'αἰτωλῶν', 'σπαρτιατῶν', 'ἄρατος', 'ἐπιφανῶν', 'ἥδιστον', 'στρατῷ', 'πρεσβευτὴν', 'γαλατῶν', 'ἀχαιοὺς', 'σαρακηνῶν', 'πτολεμαῖον', 'ἀχαιοῖς', 'πρεσβευτῶν', 'νεῦμα', 'περιορᾶν', 'κωνσταντῖνος', 'ἀπῄει', 'δαυὶδ', 'ἰουστινιανοῦ', 'μηθὲν', 'φανερὸς', 'δελφοὺς', 'σπονδῶν', 'ἰδεῶν', 'δωρεὰς', 'ἤθει', 'ἔπραττεν', 'δοκοῦντος'], ['καῖσαρ', 'ἵστανται', 'ἱππεῖς', 'σχολῶν', 'βῆλον', 'ὕπατον', 'βροῦτος', 'πρεσβευτὰς', 'οὐθὲν', 'ξὺν', 'φρουρὰν', 'σῶσον', 'βροῦτον', 'ὑπολαβὼν', 'νεῦμα', 'θεμιστοκλῆς', 'κηροὺς', 'ὕπατος', 'σαρακηνῶν', 'ᾤοντο', 'στρατηγοῖς', 'περικλῆς', 'ἥδιστον', 'πτολεμαῖον', 'δοκοῦντος', 'μηθὲν', 'ναυσὶ', 'εὐμενὴς', 'ἀντωνῖνος', 'λυκοῦργος', 'σπαρτιατῶν', 'πρεσβευτῶν', 'ἀπῄει', 'τελεῖται', 'αἰτωλῶν', 'ἔπεμψαν', 'δωρεὰς', 'ἐπιφανῶν', 'ὥρμησε', 'παιδιᾶς', 'διαφυγεῖν', 'κῦρον', 'γαλατῶν', 'μιχαὴλ', 'στρατῷ', 'ὕβρει', 'ἀπολιπεῖν', 'ἄρατος', 'παρακαλεῖν', 'ἀχαιοῖς'], ['ἵστανται', 'καῖσαρ', 'ἱππεῖς', 'πρεσβευτὰς', 'σχολῶν', 'βῆλον', 'ξὺν', 'σῶσον', 'πρεσβευτῶν', 'ὕπατος', 'κηροὺς', 'βροῦτον', 'ἀχαιοῖς', 'πτολεμαῖον', 'σπονδῶν', 'νεῦμα', 'ὕπατον', 'στρατῷ', 'κωνσταντῖνος', 'ἰουστινιανοῦ', 'βροῦτος', 'οὐθὲν', 'φρουρὰν', 'ἀπῄει', 'ἀχαιοὺς', 'ἀντωνῖνος', 'λιτῆς', 'ἅγιε', 'ἔπεμψαν', 'σαρακηνῶν', 'αἰτωλῶν', 'μιχαὴλ', 'ἐπανῆλθεν', 'κεφ', 'ὥρμησε', 'ὑπολαβὼν', 'ἄρατος', 'βασιλικοὶ', 'λυκοῦργος', 'μηθὲν', 'δεξιῷ', 'προσκυνεῖ', 'χαλκῆς', 'ἄτταλον', 'κῦρον', 'ὕπατοι', 'πρεσβευτὴν', 'σπαρτιατῶν', 'ᾔτει', 'ἔπραττεν'], ['καῖσαρ', 'ἵστανται', 'σχολῶν', 'ἱππεῖς', 'ξὺν', 'βροῦτος', 'οὐθὲν', 'πρεσβευτὰς', 'ὕπατος', 'πτολεμαῖον', 'βροῦτον', 'ᾤοντο', 'βῆλον', 'σῶσον', 'ἥδιστον', 'ἀχαιοῖς', 'κηροὺς', 'κῦρον', 'τελεῖται', 'ἔπεμψαν', 'θεμιστοκλῆς', 'ὑπολαβὼν', 'φρουρὰν', 'ὕπατον', 'ἀντωνῖνος', 'ἰδεῶν', 'μιχαὴλ', 'ἄρατος', 'στρατῷ', 'σπονδῶν', 'ἀπῄει', 'ἀχαιοὺς', 'ἔπραττεν', 'ἰουστινιανοῦ', 'ἅγιε', 'αἰτωλῶν', 'περικλῆς', 'δοκοῦντος', 'νεῦμα', 'φοροῦντες', 'πρεσβευτῶν', 'πρεσβευτὴν', 'σπαρτιατῶν', 'ἤθει', 'παιδιᾶς', 'στρατηγοῖς', 'ἄρατον', 'γαλατῶν', 'ὥρμησε', 'κατεῖχε'], ['καῖσαρ', 'ἵστανται', 'ἱππεῖς', 'ὕπατον', 'ξὺν', 'σχολῶν', 'βῆλον', 'πρεσβευτὰς', 'ὕπατος', 'βροῦτος', 'πτολεμαῖον', 'οὐθὲν', 'βροῦτον', 'ἀχαιοῖς', 'περικλῆς', 'ᾤοντο', 'θεμιστοκλῆς', 'σαρακηνῶν', 'ἀντωνῖνος', 'ὑπολαβὼν', 'ἰουστινιανοῦ', 'στρατῷ', 'σῶσον', 'ἐπανῆλθεν', 'ἔπεμψαν', 'σπαρτιατῶν', 'πρεσβευτὴν', 'νεῦμα', 'αἰτωλῶν', 'κηροὺς', 'λυκοῦργος', 'πρεσβευτῶν', 'δοκοῦντος', 'παῦλον', 'ἄρατος', 'ὕπνους', 'μιχαὴλ', 'τελεῖται', 'ἰσραὴλ', 'ὥρμησε', 'ὁμαλῶς', 'στρατηγοῖς', 'κῦρον', 'φρουρὰν', 'ἰδεῶν', 'ἀπῄει', 'μεταβολαῖς', 'ἐπιφανῶν', 'ἔλαθε', 'εὐμενὴς']]\n",
      "\n",
      "Can you spot the misplaced word in each topic?\n",
      "0: καῖσαρ ἱππεῖς ἵστανται πρεσβευτὰς βροῦτος σχολῶν ὕπατοι ὕπατος βροῦτον ἀχαιοῖς\n",
      "1: καῖσαρ ἵστανται πρεσβευτὰς βῆλον ἱππεῖς σχολῶν ἤθει ξὺν οὐθὲν βροῦτος\n",
      "2: ἵστανται καῖσαρ πρεσβευτὴν πρεσβευτὰς βῆλον σχολῶν νεῦμα πτολεμαῖον σῶσον ἰουστινιανοῦ\n",
      "3: καῖσαρ ἵστανται ᾔτει πρεσβευτὰς οὐθὲν βροῦτον ὕπατον ἰσραὴλ ὕπατος θεμιστοκλῆς\n",
      "4: καῖσαρ παρεῖχον πρεσβευτὰς ἱππεῖς βῆλον βροῦτος σχολῶν ξὺν βροῦτον ὕπατον\n",
      "5: καῖσαρ ἵστανται ἄρατον πρεσβευτὰς σχολῶν βῆλον βροῦτος βροῦτον ἀντωνῖνος ὕπατον\n",
      "6: καῖσαρ ἵστανται ἱππεῖς σχολῶν βῆλον ὕπατον βροῦτος πρεσβευτὰς ἅγιε ξὺν\n",
      "7: ἵστανται καῖσαρ ἱππεῖς πρεσβευτὰς σχολῶν βῆλον ξὺν σῶσον πρεσβευτῶν περιορᾶν\n",
      "8: καῖσαρ ἵστανται σχολῶν ἱππεῖς ξὺν βροῦτος οὐθὲν πρεσβευτὰς βασιλικοὶ πτολεμαῖον\n",
      "9: καῖσαρ ἵστανται ἱππεῖς ὕπατον ξὺν σχολῶν παρεῖχον πρεσβευτὰς ὕπατος βροῦτος\n",
      "Actual replacements were:\n",
      "[(0, ('ὕπατον', 'ὕπατοι')), (1, ('ὕπατον', 'ἤθει')), (2, ('ἱππεῖς', 'πρεσβευτὴν')), (3, ('ἱππεῖς', 'ᾔτει')), (4, ('ἵστανται', 'παρεῖχον')), (5, ('ἱππεῖς', 'ἄρατον')), (6, ('οὐθὲν', 'ἅγιε')), (7, ('ὕπατος', 'περιορᾶν')), (8, ('ὕπατος', 'βασιλικοὶ')), (9, ('βῆλον', 'παρεῖχον'))]\n",
      "\n",
      "Loading model: gensim_lda_model_tlg_numtopics25_numpasses1_nobelow20_noabove0.1_tokmin3_tokmax20_docmin50_deaccentFalse.model ...\n",
      "... for word intrusion testing ...\n"
     ]
    },
    {
     "name": "stderr",
     "output_type": "stream",
     "text": [
      "INFO : loading LdaMulticore object from /home/kyle/cltk_data/user_data/lda_tlg/gensim_lda_model_tlg_numtopics50_numpasses1_nobelow20_noabove0.1_tokmin3_tokmax20_docmin50_deaccentFalse.model\n"
     ]
    },
    {
     "name": "stdout",
     "output_type": "stream",
     "text": [
      "Top 50 words of each LDA model:\n",
      "[['ἵστανται', 'καῖσαρ', 'ἱππεῖς', 'πρεσβευτὰς', 'βροῦτος', 'σχολῶν', 'ὕπατον', 'φρουρὰν', 'βροῦτον', 'σῶσον', 'οὐθὲν', 'βῆλον', 'ἀχαιοὺς', 'πρεσβευτῶν', 'κηροὺς', 'ἀντωνῖνος', 'ξὺν', 'ὕπατος', 'ἔπεμψαν', 'νεῦμα', 'ἀχαιοῖς', 'ᾤοντο', 'φοροῦντες', 'ἄδωνις', 'τελεῖται', 'θεμιστοκλῆς', 'ἄδωνιν', 'πτολεμαῖον', 'αἰτωλῶν', 'στρατῷ', 'ἰσραὴλ', 'ἰουστινιανοῦ', 'κῦρον', 'ἥδιστον', 'περιορᾶν', 'κεφ', 'ἴστρον', 'ἀπολιπεῖν', 'ὑπολαβὼν', 'ἐπανελθὼν', 'σπαρτιατῶν', 'ἀπῄει', 'ἡττηθεὶς', 'ἄρατος', 'παρακαλεῖν', 'σπονδῶν', 'λυκοῦργος', 'διαφυγεῖν', 'νιν', 'σαρακηνῶν'], ['ἵστανται', 'καῖσαρ', 'ἱππεῖς', 'πρεσβευτὰς', 'βῆλον', 'ὕπατον', 'σχολῶν', 'ξὺν', 'βροῦτος', 'οὐθὲν', 'σῶσον', 'ὕπατος', 'νεῦμα', 'ἰουστινιανοῦ', 'βροῦτον', 'πρεσβευτῶν', 'κωνσταντῖνος', 'σαρακηνῶν', 'ἔπεμψαν', 'κηροὺς', 'ἀντωνῖνος', 'πτολεμαῖον', 'τελεῖται', 'ἀχαιοὺς', 'περσεὺς', 'ἐπανῆλθεν', 'φρουρὰν', 'πρεσβευτὴν', 'ᾤοντο', 'ἰουστινιανὸς', 'στρατῷ', 'ἅγιε', 'μιχαὴλ', 'αἰτωλῶν', 'ἀπῄει', 'κῦρον', 'ἀχαιοῖς', 'ἔπραττεν', 'δελφοὺς', 'ὕπατοι', 'σπονδῶν', 'ἥδιστον', 'δωρεὰς', 'θεμιστοκλῆς', 'λυκοῦργος', 'σπαρτιατῶν', 'ἄρατος', 'γαλατῶν', 'δοκοῦντος', 'λιτῆς'], ['καῖσαρ', 'ἱππεῖς', 'ἵστανται', 'βροῦτος', 'ὕπατον', 'οὐθὲν', 'θεμιστοκλῆς', 'ὕπατος', 'λυκοῦργος', 'σχολῶν', 'σπαρτιατῶν', 'ἀχαιοῖς', 'περικλῆς', 'βῆλον', 'ἄρατος', 'βροῦτον', 'ᾤοντο', 'ἥδιστον', 'ὥρμησε', 'ἀντωνῖνος', 'πτολεμαῖον', 'σπονδῶν', 'φανερὸς', 'στρατηγοῖς', 'ὑπολαβὼν', 'ἐπιφανῶν', 'σιωπῆς', 'δημαγωγῶν', 'ἐπανῆλθεν', 'μηθὲν', 'φρουρὰν', 'πολιτικὸς', 'εὐμενῆ', 'ὕπνους', 'ἔναγχος', 'ἀχαιοὺς', 'κῦρον', 'ᾔτει', 'ἤθει', 'πρεσβευτὰς', 'πεζοὺς', 'στρατῷ', 'σῴζεσθαι', 'δοκοῦντος', 'παιδιᾶς', 'ὕβρει', 'ξὺν', 'ἄρατον', 'ὄσιριν', 'ὄψον'], ['καῖσαρ', 'ἵστανται', 'ἱππεῖς', 'πρεσβευτὰς', 'βῆλον', 'οὐθὲν', 'ὕπατον', 'πτολεμαῖον', 'βροῦτος', 'θεμιστοκλῆς', 'σχολῶν', 'ξὺν', 'σῶσον', 'στρατῷ', 'ὑπολαβὼν', 'βροῦτον', 'φρουρὰν', 'ἰουστινιανοῦ', 'ἀχαιοῖς', 'ὕπατος', 'λυδῶν', 'κηροὺς', 'αἰτωλῶν', 'σπαρτιατῶν', 'ἄρατος', 'ᾤοντο', 'δοκοῦντος', 'τελεῖται', 'λυκοῦργος', 'ἐπανελθὼν', 'νεῦμα', 'κῦρον', 'ἥδιστον', 'περσεὺς', 'ὥρμησε', 'ἀχαιοὺς', 'σπονδῶν', 'ἔπεμψαν', 'περιορᾶν', 'παρακαλεῖν', 'στρατηγοῖς', 'ᾔτει', 'ἰδεῶν', 'κεφ', 'εὐμενὴς', 'κωνσταντῖνος', 'σαρακηνῶν', 'ἔπραττεν', 'πρεσβευτῶν', 'ἅγιε'], ['καῖσαρ', 'ἵστανται', 'ἱππεῖς', 'βροῦτος', 'βροῦτον', 'βῆλον', 'πτολεμαῖον', 'ὕπατος', 'πρεσβευτὰς', 'ξὺν', 'οὐθὲν', 'ὕπατον', 'ἔπεμψαν', 'ἄρατος', 'στρατῷ', 'ὑπολαβὼν', 'νεῦμα', 'πρεσβευτῶν', 'ἰουστινιανοῦ', 'θεμιστοκλῆς', 'πρεσβευτὴν', 'σχολῶν', 'ἀχαιοῖς', 'φρουρὰν', 'κηροὺς', 'σπαρτιατῶν', 'κῦρον', 'δελφοὺς', 'αἰτωλῶν', 'ἐπιφανῶν', 'μηθὲν', 'λυκοῦργος', 'ἀπῄει', 'ἀχαιοὺς', 'ὥρμησε', 'περικλῆς', 'ἥδιστον', 'ᾤοντο', 'τελεῖται', 'σῶσον', 'δημαγωγῶν', 'στρατηγοῖς', 'γαλατῶν', 'ὕβρει', 'ἀπολιπεῖν', 'δαρεῖον', 'εὐμενὴς', 'ἔλαθε', 'κεφ', 'διαφυγεῖν'], ['καῖσαρ', 'ἵστανται', 'σχολῶν', 'ἱππεῖς', 'πρεσβευτὰς', 'βῆλον', 'ὕπατος', 'κηροὺς', 'νεῦμα', 'ξὺν', 'βροῦτος', 'σῶσον', 'πρεσβευτῶν', 'ὕπατον', 'βροῦτον', 'σαρακηνῶν', 'πτολεμαῖον', 'ἰουστινιανοῦ', 'τελεῖται', 'ἅγιε', 'ἀχαιοῖς', 'φοροῦντες', 'λιτῆς', 'κεφ', 'κωνσταντῖνος', 'στρατῷ', 'ἀντωνῖνος', 'ἰουστινιανὸς', 'ἅγια', 'ἔπεμψαν', 'ἀχαιοὺς', 'ἀπῄει', 'βασιλικὰ', 'χαλκῆς', 'φρουρὰν', 'οὐθὲν', 'κῦρον', 'προσκαλεῖται', 'ναυσὶ', 'ὑπολαβὼν', 'βασιλικοὶ', 'εἴθισται', 'προσκυνεῖ', 'σπονδῶν', 'δεξιῷ', 'αἰτωλῶν', 'προσκυνοῦσιν', 'γαλατῶν', 'ἰδεῶν', 'οὔννων'], ['καῖσαρ', 'ἵστανται', 'σχολῶν', 'ἱππεῖς', 'ξὺν', 'πρεσβευτὰς', 'βῆλον', 'σῶσον', 'ἰσραὴλ', 'μιχαὴλ', 'ἀχαιοῖς', 'βροῦτος', 'πτολεμαῖον', 'βροῦτον', 'κηροὺς', 'οὐθὲν', 'δαυὶδ', 'ὕπατον', 'πρεσβευτῶν', 'τοῦρκοι', 'φρουρὰν', 'ὕπατος', 'νεῦμα', 'θεμιστοκλῆς', 'στρατῷ', 'ὑπολαβὼν', 'ᾤοντο', 'περικλῆς', 'τελεῖται', 'ἔπεμψαν', 'ἰουστινιανοῦ', 'στρατηγοῖς', 'ἀπῄει', 'ἀχαιοὺς', 'λυκοῦργος', 'γαλατῶν', 'δοκοῦντος', 'ἄτταλον', 'ἰδεῶν', 'ἔννοιαι', 'ἤθει', 'κῦρον', 'κομνηνὸς', 'ᾔτει', 'αἰτωλῶν', 'παρακαλεῖν', 'ἅγιε', 'ἥδιστον', 'βασιλικὰ', 'σιωπῆς'], ['καῖσαρ', 'ἵστανται', 'σχολῶν', 'ἱππεῖς', 'βῆλον', 'ξὺν', 'πρεσβευτὰς', 'ὕπατον', 'σῶσον', 'μιχαὴλ', 'φρουρὰν', 'ἀχαιοῖς', 'ἀπῄει', 'βροῦτος', 'στρατῷ', 'κριτὴν', 'ὕπατος', 'ὑπολαβὼν', 'βροῦτον', 'ἔννοιαι', 'νεῦμα', 'κηροὺς', 'ἔπεμψαν', 'πτολεμαῖον', 'πρεσβευτὴν', 'σπονδῶν', 'κῦρον', 'τοῦρκοι', 'κελτῶν', 'πρεσβευτῶν', 'θεμιστοκλῆς', 'ἰουστινιανοῦ', 'δωρεὰς', 'αἰτωλῶν', 'σπαρτιατῶν', 'τελεῖται', 'κομνηνὸς', 'ἅγιε', 'ἐπανῆλθεν', 'δοχῆς', 'κωνσταντῖνος', 'οὐθὲν', 'ἀχαιοὺς', 'δοκοῦντος', 'βασιλικοὶ', 'περιβολὴν', 'ἔπραττεν', 'κῶλα', 'ἰουστινιανὸς', 'ἀντωνῖνος'], ['καῖσαρ', 'ἵστανται', 'ἱππεῖς', 'σχολῶν', 'πρεσβευτὰς', 'βροῦτον', 'ὕπατον', 'οὐθὲν', 'βῆλον', 'ὑπολαβὼν', 'ξὺν', 'ἰδεῶν', 'στρατῷ', 'βροῦτος', 'πτολεμαῖον', 'ἐπανῆλθεν', 'περικλῆς', 'ὕπατος', 'σῶσον', 'λυκοῦργος', 'ἄρατος', 'τελεῖται', 'πρεσβευτῶν', 'θεμιστοκλῆς', 'φρουρὰν', 'ἀχαιοῖς', 'ᾤοντο', 'ἰουστινιανοῦ', 'ἀπολιπεῖν', 'παῦλον', 'ἥδιστον', 'ἤθει', 'ἔπεμψαν', 'κηροὺς', 'ἔννοιαι', 'ἔπραττεν', 'δοκοῦντος', 'σπονδῶν', 'νεῦμα', 'σπαρτιατῶν', 'παιδιᾶς', 'εὐμενὴς', 'ἀπῄει', 'ἀντωνῖνος', 'σαρακηνῶν', 'φανερὸς', 'κῶλα', 'παρεῖχον', 'ἅγιε', 'κῦρον'], ['καῖσαρ', 'ἵστανται', 'πρεσβευτὰς', 'σῶσον', 'σχολῶν', 'ἱππεῖς', 'νεῦμα', 'βῆλον', 'ξὺν', 'ὕπατον', 'κηροὺς', 'πρεσβευτῶν', 'ἀντωνῖνος', 'ὕπατος', 'τελεῖται', 'οὐθὲν', 'ἰουστινιανοῦ', 'αἰτωλῶν', 'ἰσραὴλ', 'περσεὺς', 'ἔπεμψαν', 'πρεσβευτὴν', 'πτολεμαῖον', 'κωνσταντῖνος', 'βασιλικοὶ', 'ἰδεῶν', 'κεφ', 'φοροῦντες', 'μιχαὴλ', 'κῦρον', 'δοχῆς', 'ὑπολαβὼν', 'χαλκῆς', 'σαρακηνῶν', 'δαυὶδ', 'ἐπιτελεῖται', 'ἔπαρχος', 'ἔφασκε', 'στρατῷ', 'κῶλα', 'φρουρὰν', 'βροῦτος', 'ἀχαιοῖς', 'ἔπραττεν', 'βροῦτον', 'γαλατῶν', 'ἄτταλον', 'σπονδῶν', 'λιτῆς', 'ἰουστινιανὸς'], ['καῖσαρ', 'ἵστανται', 'ἰδεῶν', 'ἰσραὴλ', 'σχολῶν', 'ἔννοιαι', 'κῶλον', 'ἱππεῖς', 'ξὺν', 'βῆλον', 'ὕπατον', 'βροῦτος', 'σῶσον', 'βροῦτον', 'δαυὶδ', 'πρεσβευτὰς', 'κῶλα', 'οἴκαδ', 'οὐθὲν', 'τεχνικὸς', 'περιβολῆς', 'ἀντωνῖνος', 'πτολεμαῖον', 'ἀχαιοῖς', 'περιβολὴν', 'νεῦμα', 'στρατῷ', 'λυκοῦργος', 'καταβαλὼν', 'παῦλον', 'φρουρὰν', 'ὕπατος', 'ὑπολαβὼν', 'ἐπανῆλθεν', 'αἰτωλῶν', 'ᾤοντο', 'ἅγιε', 'γαλατῶν', 'δοκοῦντος', 'πολιτικῆς', 'ἔπαρχος', 'θεμιστοκλῆς', 'εὐμενὴς', 'περικλῆς', 'ἄρατος', 'εὐμενῆ', 'ἔπραττεν', 'κῦρον', 'σαρακηνῶν', 'πρεσβευτὴν'], ['καῖσαρ', 'ἵστανται', 'πρεσβευτὰς', 'ἱππεῖς', 'βῆλον', 'κηροὺς', 'σχολῶν', 'σῶσον', 'ξὺν', 'νεῦμα', 'ὕπατος', 'οὐθὲν', 'βροῦτος', 'φρουρὰν', 'κωνσταντῖνος', 'στρατῷ', 'σπονδῶν', 'ἰουστινιανοῦ', 'ὕπατον', 'ἀχαιοῖς', 'βροῦτον', 'πρεσβευτῶν', 'πτολεμαῖον', 'ἔπεμψαν', 'γαλατῶν', 'ὑπολαβὼν', 'χαλκῆς', 'κῦρον', 'πρεσβευτὴν', 'ῥωμαῖον', 'ἅγιε', 'ᾤοντο', 'ἄρατος', 'ἰουστινιανὸς', 'ᾔτει', 'βασιλικοὶ', 'ἀχαιοὺς', 'τελεῖται', 'θεμιστοκλῆς', 'περσεὺς', 'αἰτωλῶν', 'ἔπραττεν', 'ἐπανῆλθεν', 'συγκλητικῶν', 'μηθὲν', 'ἀντωνῖνος', 'στρατηγοῖς', 'ἀπῄει', 'φανερὸς', 'σαρακηνῶν'], ['καῖσαρ', 'ἵστανται', 'πρεσβευτὰς', 'βῆλον', 'βροῦτον', 'ξὺν', 'ἱππεῖς', 'ἰδεῶν', 'σχολῶν', 'κηροὺς', 'βροῦτος', 'ἀντωνῖνος', 'ὕπατος', 'νεῦμα', 'ὕπατον', 'φρουρὰν', 'σῶσον', 'ἰουστινιανοῦ', 'οὐθὲν', 'πτολεμαῖον', 'γαλατῶν', 'ἄρατος', 'ᾤοντο', 'ἀπῄει', 'κῦρον', 'ἔπεμψαν', 'ἀχαιοῖς', 'ἀπολιπεῖν', 'πρεσβευτῶν', 'θεμιστοκλῆς', 'ἔννοιαι', 'ὕπατοι', 'ἅγιε', 'σαρακηνῶν', 'ἰσραὴλ', 'κῶλα', 'φανερὸς', 'κῶλον', 'λυκοῦργος', 'δαυὶδ', 'τελεῖται', 'σπαρτιατῶν', 'κωνσταντῖνος', 'εὐμενὴς', 'αἰτωλῶν', 'δοκοῦντος', 'φοροῦντες', 'κεφ', 'περικλῆς', 'πεζῶν'], ['καῖσαρ', 'ἵστανται', 'ἱππεῖς', 'βροῦτος', 'βροῦτον', 'θεμιστοκλῆς', 'φρουρὰν', 'βῆλον', 'ὕπατον', 'ὕπατος', 'σχολῶν', 'οὐθὲν', 'σῶσον', 'ὑπολαβὼν', 'ἄρατος', 'ἰδεῶν', 'ἥδιστον', 'πτολεμαῖον', 'σπαρτιατῶν', 'πρεσβευτὰς', 'νεῦμα', 'ἀχαιοῖς', 'δοκοῦντος', 'στρατηγοῖς', 'ξὺν', 'πρεσβευτῶν', 'σῴζειν', 'στρατῷ', 'ἐπιφανῶν', 'παιδιᾶς', 'κῶλα', 'κηροὺς', 'ἔπραττεν', 'ᾤοντο', 'λυκοῦργος', 'ἔννοιαι', 'ἀπῄει', 'περικλῆς', 'βοῆς', 'δημαγωγῶν', 'τελεῖται', 'σῴζεσθαι', 'ἤθει', 'μεταβολαῖς', 'ἰουστινιανοῦ', 'σαρακηνῶν', 'ἄρατον', 'ὥρμησε', 'ᾔτει', 'ὕπνους'], ['καῖσαρ', 'ἵστανται', 'ἱππεῖς', 'πρεσβευτὰς', 'ὕπατος', 'σχολῶν', 'ἰσραὴλ', 'ὕπατον', 'βῆλον', 'οὐθὲν', 'ἀχαιοῖς', 'βροῦτος', 'πτολεμαῖον', 'ξὺν', 'ὑπολαβὼν', 'δαυὶδ', 'περικλῆς', 'βροῦτον', 'ἰουστινιανοῦ', 'θεμιστοκλῆς', 'ἰδεῶν', 'πρεσβευτῶν', 'λυκοῦργος', 'ἥδιστον', 'ἐθνικὸν', 'νεῦμα', 'κηροὺς', 'σπαρτιατῶν', 'ἔπεμψαν', 'σπονδῶν', 'πρεσβευτὴν', 'ᾤοντο', 'τελεῖται', 'κῶλα', 'ἕκτῃ', 'ἔπραττεν', 'σῶσον', 'μηθὲν', 'εὐμενὴς', 'αἰτωλῶν', 'στρατῷ', 'ἀντωνῖνος', 'γαλατῶν', 'εὐμενῆ', 'σαρακηνῶν', 'ἀχαιοὺς', 'στρατηγοῖς', 'φοροῦντες', 'φρουρὰν', 'ἐπανῆλθεν'], ['καῖσαρ', 'ἵστανται', 'ἱππεῖς', 'σχολῶν', 'ὕπατον', 'βροῦτον', 'πρεσβευτὰς', 'βροῦτος', 'ἀντωνῖνος', 'βῆλον', 'ξὺν', 'νεῦμα', 'σῶσον', 'ἰουστινιανοῦ', 'οὐθὲν', 'σπαρτιατῶν', 'ἀχαιοῖς', 'τελεῖται', 'ἄρατος', 'μιχαὴλ', 'ᾔτει', 'ᾤοντο', 'ἀπῄει', 'ὕπατος', 'πτολεμαῖον', 'κηροὺς', 'κῦρον', 'ἰδεῶν', 'σαρακηνῶν', 'στρατηγοῖς', 'αἴθραν', 'φρουρὰν', 'μηθὲν', 'θεμιστοκλῆς', 'δοκοῦντος', 'στρατῷ', 'πρεσβευτῶν', 'γαλατῶν', 'ὑπολαβὼν', 'ἔπεμψαν', 'βοῆς', 'δελφοὺς', 'περικλῆς', 'ἐπανῆλθεν', 'τοῦρκοι', 'ὥρμησε', 'σπονδῶν', 'περσεὺς', 'ὕπνους', 'αἰτωλῶν'], ['καῖσαρ', 'ἵστανται', 'ἱππεῖς', 'βροῦτος', 'οὐθὲν', 'βροῦτον', 'σχολῶν', 'ὕπατον', 'ὕπατος', 'βῆλον', 'πρεσβευτὰς', 'θεμιστοκλῆς', 'πτολεμαῖον', 'λυκοῦργος', 'περικλῆς', 'ξὺν', 'ἀχαιοῖς', 'ὑπολαβὼν', 'παιδιᾶς', 'ἄρατος', 'ἐπανῆλθεν', 'μηθὲν', 'δοκοῦντος', 'ὥρμησε', 'ᾤοντο', 'ἔπεμψαν', 'στρατηγοῖς', 'στρατῷ', 'ἀπῄει', 'εὐμενῆ', 'κρατῆρα', 'δελφοὺς', 'θηβαῖοι', 'ναυσὶ', 'ἔπραττεν', 'ἰουστινιανοῦ', 'δημαγωγῶν', 'ὕπνους', 'σῴζεσθαι', 'φρουρὰν', 'διαφυγεῖν', 'ἐμπεδοκλῆς', 'ἀπολιπεῖν', 'ἔναγχος', 'ἥδιστον', 'ἤθει', 'νεῦμα', 'κῦρον', 'βοῆς', 'δαυὶδ'], ['καῖσαρ', 'ἵστανται', 'βροῦτος', 'ἱππεῖς', 'ξὺν', 'πρεσβευτὰς', 'ὕπατον', 'βῆλον', 'φρουρὰν', 'σχολῶν', 'οὐθὲν', 'ἀχαιοῖς', 'βροῦτον', 'στρατῷ', 'κῦρον', 'πτολεμαῖον', 'ᾤοντο', 'σῶσον', 'σπονδῶν', 'ἰδεῶν', 'ἀντωνῖνος', 'πρεσβευτῶν', 'νεῦμα', 'ἔπεμψαν', 'ὕπατος', 'ὥρμησε', 'δελφοὺς', 'γαλατῶν', 'σαρακηνῶν', 'ἰουστινιανοῦ', 'τελεῖται', 'κωνσταντῖνος', 'ἀπολιπεῖν', 'ἔπραττεν', 'ἔννοιαι', 'ἥδιστον', 'εὐμενῆ', 'μηθὲν', 'κῶλα', 'κατεῖχε', 'ἔλαθε', 'παιδιᾶς', 'θεμιστοκλῆς', 'δεξιῷ', 'κηροὺς', 'ὑπολαβὼν', 'ἔναγχος', 'σῴζεσθαι', 'ἐπανῆλθεν', 'ἐπιφανῶν'], ['καῖσαρ', 'ἵστανται', 'ἱππεῖς', 'βῆλον', 'πτολεμαῖον', 'πρεσβευτὰς', 'ὕπατον', 'σχολῶν', 'βροῦτος', 'βροῦτον', 'ξὺν', 'ἀχαιοὺς', 'οὐθὲν', 'νεῦμα', 'ἀντωνῖνος', 'σῶσον', 'ἄρατος', 'ὕπατος', 'θεμιστοκλῆς', 'ὑπολαβὼν', 'ἀχαιοῖς', 'φρουρὰν', 'στρατῷ', 'τελεῖται', 'πρεσβευτῶν', 'κηροὺς', 'ᾤοντο', 'ἥδιστον', 'σπαρτιατῶν', 'περικλῆς', 'γαλατῶν', 'ἔπραττεν', 'δωρεὰς', 'ἐπιφανῶν', 'ἄρατον', 'ἄδωνις', 'ἰουστινιανοῦ', 'περσεὺς', 'βοῆς', 'ἔπεμψαν', 'δελφοὺς', 'στρατηγοῖς', 'ἅγιε', 'κωνσταντῖνος', 'αἰτωλῶν', 'λυκοῦργος', 'εὐμενῆ', 'ὁμαλῶς', 'παρακαλεῖν', 'μηθὲν'], ['καῖσαρ', 'ἵστανται', 'ξὺν', 'πρεσβευτὰς', 'σχολῶν', 'ἱππεῖς', 'ἀπῄει', 'βῆλον', 'βροῦτος', 'μιχαὴλ', 'ὕπατον', 'βροῦτον', 'ἀχαιοῖς', 'σῶσον', 'κομνηνὸς', 'ὕπατος', 'πτολεμαῖον', 'φρουρὰν', 'θεμιστοκλῆς', 'περικλῆς', 'στρατῷ', 'κηροὺς', 'ἀντωνῖνος', 'ᾤοντο', 'ὑπολαβὼν', 'ἥδιστον', 'ἄρατος', 'ἔπεμψαν', 'ἰουστινιανοῦ', 'τοῦρκοι', 'αἰτωλῶν', 'ἐπανελθὼν', 'ἔπραττεν', 'σπαρτιατῶν', 'ἰουδαῖοι', 'δωρεὰς', 'οὐθὲν', 'πρεσβευτῶν', 'σαρακηνῶν', 'μηθὲν', 'ὕπνους', 'σπονδῶν', 'νεῦμα', 'ναυσὶ', 'ὥρμησε', 'πρεσβευτὴν', 'συγκλητικῶν', 'βοῆς', 'πεζοὺς', 'περιορᾶν'], ['καῖσαρ', 'ἵστανται', 'ἱππεῖς', 'σχολῶν', 'πρεσβευτὰς', 'οὐθὲν', 'ὕπατον', 'βῆλον', 'κηροὺς', 'ὑπολαβὼν', 'σῶσον', 'πτολεμαῖον', 'ὕπατος', 'βροῦτος', 'βροῦτον', 'ξὺν', 'ἀχαιοῖς', 'στρατῷ', 'περικλῆς', 'πρεσβευτῶν', 'ἔπεμψαν', 'ἄρατος', 'κεφ', 'θεμιστοκλῆς', 'ἰουστινιανοῦ', 'ἔπραττεν', 'ἐπανῆλθεν', 'γαλατῶν', 'ᾤοντο', 'μιχαὴλ', 'ἰδεῶν', 'πρεσβευτὴν', 'ἥδιστον', 'δωρεὰς', 'νεῦμα', 'παιδιᾶς', 'λυκοῦργος', 'αἰτωλῶν', 'τελεῖται', 'ἀπολιπεῖν', 'εὐμενῆ', 'χαλκῆς', 'προσκαλεῖται', 'κῦρον', 'ἔπαρχος', 'παῦλον', 'ἀντωνῖνος', 'φρουρὰν', 'ναυσὶ', 'εὐμενὴς'], ['καῖσαρ', 'ἵστανται', 'ἱππεῖς', 'βῆλον', 'πρεσβευτὰς', 'οὐθὲν', 'σχολῶν', 'βροῦτος', 'ξὺν', 'ὕπατον', 'κηροὺς', 'πτολεμαῖον', 'ὕπατος', 'ἀχαιοῖς', 'σπαρτιατῶν', 'ᾤοντο', 'ἀντωνῖνος', 'βροῦτον', 'θεμιστοκλῆς', 'ἰουστινιανοῦ', 'περικλῆς', 'ἔπεμψαν', 'φρουρὰν', 'πρεσβευτῶν', 'ἰδεῶν', 'σπονδῶν', 'ἄρατος', 'σαρακηνῶν', 'ἔπραττεν', 'σῶσον', 'ὑπολαβὼν', 'πρεσβευτὴν', 'στρατῷ', 'κωνσταντῖνος', 'βοῆς', 'μηθὲν', 'εὐμενὴς', 'αἰτωλῶν', 'ὁμαλῶς', 'ἐπιφανῶν', 'ἀπῄει', 'παιδιᾶς', 'γαλατῶν', 'ἀχαιοὺς', 'τελεῖται', 'ἔπεμπε', 'ἐπανῆλθεν', 'λυκοῦργος', 'νεῦμα', 'δοκοῦντος'], ['καῖσαρ', 'ἵστανται', 'ἱππεῖς', 'βροῦτος', 'πρεσβευτὰς', 'βροῦτον', 'σχολῶν', 'οὐθὲν', 'ὕπατον', 'πτολεμαῖον', 'ἀπῄει', 'βῆλον', 'ᾤοντο', 'ἰουστινιανοῦ', 'ἄρατος', 'ὑπολαβὼν', 'ὕπατος', 'κηροὺς', 'κῦρον', 'ἀχαιοῖς', 'φρουρὰν', 'στρατηγοῖς', 'μηθὲν', 'ξὺν', 'παιδιᾶς', 'περικλῆς', 'στρατῷ', 'περιορᾶν', 'σῶσον', 'νεῦμα', 'ἄρατον', 'ἀχαιοὺς', 'ὥρμησε', 'σπαρτιατῶν', 'ἔπεμψαν', 'κατεῖχε', 'θεμιστοκλῆς', 'ἥδιστον', 'ἀπολιπεῖν', 'γαλατῶν', 'ναυσὶ', 'καταβὰς', 'μιχαὴλ', 'εὐμενὴς', 'εὐμενῆ', 'ἐπιφανῶν', 'δημαγωγῶν', 'ἀγῶσι', 'ναυσὶν', 'σαρακηνῶν'], ['καῖσαρ', 'ἵστανται', 'ἱππεῖς', 'οὐθὲν', 'σχολῶν', 'βῆλον', 'βροῦτον', 'πρεσβευτὰς', 'ξὺν', 'βροῦτος', 'πρεσβευτῶν', 'ὑπολαβὼν', 'σῶσον', 'ἀχαιοῖς', 'ὕπατος', 'ἰουστινιανοῦ', 'ἀντωνῖνος', 'ᾤοντο', 'ἄρατος', 'περικλῆς', 'ἔπραττεν', 'ὕπατον', 'κηροὺς', 'ἔπεμψαν', 'θεμιστοκλῆς', 'πτολεμαῖον', 'τελεῖται', 'λυκοῦργος', 'ἥδιστον', 'νεῦμα', 'φρουρὰν', 'σπαρτιατῶν', 'σπονδῶν', 'πεζῶν', 'στρατῷ', 'σῴζειν', 'κεφ', 'ἀχαιοὺς', 'εὐμενὴς', 'παρακαλεῖν', 'πρεσβευτὴν', 'κῦρον', 'ἀπολιπεῖν', 'ὁμαλῶς', 'παιδιᾶς', 'ἐπιφανῶν', 'ἐπανῆλθεν', 'φανερὸς', 'σῴζεσθαι', 'μηθὲν'], ['καῖσαρ', 'ἵστανται', 'πρεσβευτὰς', 'σχολῶν', 'βῆλον', 'ἱππεῖς', 'βροῦτον', 'ξὺν', 'νεῦμα', 'οὐθὲν', 'ὑπολαβὼν', 'βροῦτος', 'περικλῆς', 'κηροὺς', 'φρουρὰν', 'ὕπατος', 'σῶσον', 'πτολεμαῖον', 'σπονδῶν', 'ἰουστινιανοῦ', 'ἀχαιοῖς', 'μιχαὴλ', 'ὕπατον', 'πρεσβευτῶν', 'κεφ', 'ἔπεμψαν', 'ἄρατος', 'ἀπῄει', 'θεμιστοκλῆς', 'ἀχαιοὺς', 'ἐπανῆλθεν', 'κομνηνὸς', 'ἥδιστον', 'κωνσταντῖνος', 'ἄρατον', 'κῦρον', 'σαρακηνῶν', 'πρεσβευτὴν', 'ὕπατοι', 'ἐπιφανῶν', 'λυκοῦργος', 'ᾤοντο', 'σπαρτιατῶν', 'ὕπνους', 'αἰτωλῶν', 'ᾔτει', 'παιδιᾶς', 'προσκυνεῖ', 'στρατῷ', 'ἅγιε']]\n",
      "\n",
      "Can you spot the misplaced word in each topic?\n",
      "0: ἵστανται καῖσαρ ἱππεῖς ἅγιε βροῦτος σχολῶν ὕπατον φρουρὰν βροῦτον σῶσον\n",
      "1: ἵστανται καῖσαρ ἱππεῖς πρεσβευτὰς βῆλον ὕπατον σχολῶν ξὺν παρακαλεῖν οὐθὲν\n",
      "2: καῖσαρ ἱππεῖς ἵστανται βροῦτος ὕπατον οὐθὲν θεμιστοκλῆς ὕπατος ἰσραὴλ σχολῶν\n",
      "3: καῖσαρ ἵστανται ἱππεῖς πρεσβευτὰς κατεῖχε οὐθὲν ὕπατον πτολεμαῖον βροῦτος θεμιστοκλῆς\n",
      "4: καῖσαρ ἵστανται ἱππεῖς βροῦτος βροῦτον βῆλον πτολεμαῖον ῥωμαῖον πρεσβευτὰς ξὺν\n",
      "5: καῖσαρ ἵστανται σχολῶν ἱππεῖς πρεσβευτὰς βῆλον ὕπατος κηροὺς νεῦμα ἄρατον\n",
      "6: καῖσαρ ἵστανται σχολῶν φοροῦντες ξὺν πρεσβευτὰς βῆλον σῶσον ἰσραὴλ μιχαὴλ\n",
      "7: καῖσαρ ἵστανται σχολῶν ἱππεῖς βῆλον ἰσραὴλ πρεσβευτὰς ὕπατον σῶσον μιχαὴλ\n",
      "8: περιβολῆς ἵστανται ἱππεῖς σχολῶν πρεσβευτὰς βροῦτον ὕπατον οὐθὲν βῆλον ὑπολαβὼν\n",
      "9: καῖσαρ ἵστανται πρεσβευτὰς σῶσον σχολῶν ἱππεῖς νεῦμα βῆλον εἴθισται ὕπατον\n",
      "10: καῖσαρ ἵστανται ἰδεῶν ἰσραὴλ σχολῶν ἔννοιαι κῶλον ἱππεῖς ἔπεμπε βῆλον\n",
      "11: καῖσαρ κῶλον πρεσβευτὰς ἱππεῖς βῆλον κηροὺς σχολῶν σῶσον ξὺν νεῦμα\n",
      "12: καῖσαρ ἵστανται δεξιῷ βῆλον βροῦτον ξὺν ἱππεῖς ἰδεῶν σχολῶν κηροὺς\n",
      "13: καῖσαρ ἵστανται περιβολῆς βροῦτος βροῦτον θεμιστοκλῆς φρουρὰν βῆλον ὕπατον ὕπατος\n",
      "14: καῖσαρ ἵστανται ἱππεῖς πρεσβευτὰς ὕπατος σχολῶν ἰσραὴλ ἄρατος βῆλον οὐθὲν\n",
      "15: καῖσαρ ἵστανται ἱππεῖς σχολῶν ὕπατον ἄτταλον πρεσβευτὰς βροῦτος ἀντωνῖνος βῆλον\n",
      "16: καῖσαρ οὔννων ἱππεῖς βροῦτος οὐθὲν βροῦτον σχολῶν ὕπατον ὕπατος βῆλον\n",
      "17: καῖσαρ ἵστανται βροῦτος ἱππεῖς ξὺν πρεσβευτὰς ὕπατον βῆλον περιβολῆς σχολῶν\n",
      "18: καῖσαρ ἵστανται ἱππεῖς βῆλον πτολεμαῖον πρεσβευτὰς καταβαλὼν σχολῶν βροῦτος βροῦτον\n",
      "19: καῖσαρ ἵστανται ξὺν πρεσβευτὰς σχολῶν ἱππεῖς ἀπῄει βῆλον βροῦτος ὁμαλῶς\n",
      "20: αἴθραν ἵστανται ἱππεῖς σχολῶν πρεσβευτὰς οὐθὲν ὕπατον βῆλον κηροὺς ὑπολαβὼν\n",
      "21: καῖσαρ ἵστανται ἱππεῖς βῆλον πρεσβευτὰς δαρεῖον σχολῶν βροῦτος ξὺν ὕπατον\n",
      "22: καῖσαρ ἵστανται ἱππεῖς βροῦτος πρεσβευτὰς βροῦτον κρατῆρα οὐθὲν ὕπατον πτολεμαῖον\n",
      "23: καῖσαρ ἵστανται ἱππεῖς οὐθὲν σχολῶν βῆλον βροῦτον πρεσβευτὰς κωνσταντῖνος βροῦτος\n",
      "24: καῖσαρ ἵστανται πρεσβευτὰς σχολῶν βῆλον ἱππεῖς βασιλικὰ ξὺν νεῦμα οὐθὲν\n",
      "Actual replacements were:\n",
      "[(0, ('πρεσβευτὰς', 'ἅγιε')), (1, ('βροῦτος', 'παρακαλεῖν')), (2, ('λυκοῦργος', 'ἰσραὴλ')), (3, ('βῆλον', 'κατεῖχε')), (4, ('ὕπατος', 'ῥωμαῖον')), (5, ('ξὺν', 'ἄρατον')), (6, ('ἱππεῖς', 'φοροῦντες')), (7, ('ξὺν', 'ἰσραὴλ')), (8, ('καῖσαρ', 'περιβολῆς')), (9, ('ξὺν', 'εἴθισται')), (10, ('ξὺν', 'ἔπεμπε')), (11, ('ἵστανται', 'κῶλον')), (12, ('πρεσβευτὰς', 'δεξιῷ')), (13, ('ἱππεῖς', 'περιβολῆς')), (14, ('ὕπατον', 'ἄρατος')), (15, ('βροῦτον', 'ἄτταλον')), (16, ('ἵστανται', 'οὔννων')), (17, ('φρουρὰν', 'περιβολῆς')), (18, ('ὕπατον', 'καταβαλὼν')), (19, ('μιχαὴλ', 'ὁμαλῶς')), (20, ('καῖσαρ', 'αἴθραν')), (21, ('οὐθὲν', 'δαρεῖον')), (22, ('σχολῶν', 'κρατῆρα')), (23, ('ξὺν', 'κωνσταντῖνος')), (24, ('βροῦτον', 'βασιλικὰ'))]\n",
      "\n",
      "Loading model: gensim_lda_model_tlg_numtopics50_numpasses1_nobelow20_noabove0.1_tokmin3_tokmax20_docmin50_deaccentFalse.model ...\n",
      "... for word intrusion testing ...\n"
     ]
    },
    {
     "name": "stderr",
     "output_type": "stream",
     "text": [
      "INFO : loading expElogbeta from /home/kyle/cltk_data/user_data/lda_tlg/gensim_lda_model_tlg_numtopics50_numpasses1_nobelow20_noabove0.1_tokmin3_tokmax20_docmin50_deaccentFalse.model.expElogbeta.npy with mmap=None\n",
      "INFO : setting ignored attribute state to None\n",
      "INFO : setting ignored attribute id2word to None\n",
      "INFO : setting ignored attribute dispatcher to None\n",
      "INFO : loaded /home/kyle/cltk_data/user_data/lda_tlg/gensim_lda_model_tlg_numtopics50_numpasses1_nobelow20_noabove0.1_tokmin3_tokmax20_docmin50_deaccentFalse.model\n",
      "INFO : loading LdaMulticore object from /home/kyle/cltk_data/user_data/lda_tlg/gensim_lda_model_tlg_numtopics50_numpasses1_nobelow20_noabove0.1_tokmin3_tokmax20_docmin50_deaccentFalse.model.state\n",
      "INFO : loaded /home/kyle/cltk_data/user_data/lda_tlg/gensim_lda_model_tlg_numtopics50_numpasses1_nobelow20_noabove0.1_tokmin3_tokmax20_docmin50_deaccentFalse.model.state\n"
     ]
    },
    {
     "name": "stdout",
     "output_type": "stream",
     "text": [
      "Top 50 words of each LDA model:\n"
     ]
    },
    {
     "name": "stderr",
     "output_type": "stream",
     "text": [
      "INFO : loading LdaMulticore object from /home/kyle/cltk_data/user_data/lda_tlg/gensim_lda_model_tlg_numtopics55_numpasses1_nobelow20_noabove0.1_tokmin3_tokmax20_docmin50_deaccentFalse.model\n",
      "INFO : loading expElogbeta from /home/kyle/cltk_data/user_data/lda_tlg/gensim_lda_model_tlg_numtopics55_numpasses1_nobelow20_noabove0.1_tokmin3_tokmax20_docmin50_deaccentFalse.model.expElogbeta.npy with mmap=None\n",
      "INFO : setting ignored attribute state to None\n",
      "INFO : setting ignored attribute id2word to None\n",
      "INFO : setting ignored attribute dispatcher to None\n",
      "INFO : loaded /home/kyle/cltk_data/user_data/lda_tlg/gensim_lda_model_tlg_numtopics55_numpasses1_nobelow20_noabove0.1_tokmin3_tokmax20_docmin50_deaccentFalse.model\n",
      "INFO : loading LdaMulticore object from /home/kyle/cltk_data/user_data/lda_tlg/gensim_lda_model_tlg_numtopics55_numpasses1_nobelow20_noabove0.1_tokmin3_tokmax20_docmin50_deaccentFalse.model.state\n",
      "INFO : loaded /home/kyle/cltk_data/user_data/lda_tlg/gensim_lda_model_tlg_numtopics55_numpasses1_nobelow20_noabove0.1_tokmin3_tokmax20_docmin50_deaccentFalse.model.state\n"
     ]
    },
    {
     "name": "stdout",
     "output_type": "stream",
     "text": [
      "[['καῖσαρ', 'ἵστανται', 'ἱππεῖς', 'πρεσβευτὰς', 'ἰδεῶν', 'βῆλον', 'ἔννοιαι', 'σχολῶν', 'σῶσον', 'βροῦτος', 'κῶλα', 'κηροὺς', 'πτολεμαῖον', 'κωνσταντῖνος', 'οὐθὲν', 'βροῦτον', 'πρεσβευτῶν', 'ξὺν', 'περιβολῆς', 'νεῦμα', 'ἄρατος', 'ἀντωνῖνος', 'ὕπατον', 'δοκοῦντος', 'ὑπολαβὼν', 'ἀχαιοῖς', 'κῶλον', 'τεχνικὸς', 'ὕπατος', 'ἔπραττεν', 'περικλῆς', 'ἰουστινιανοῦ', 'ἐπανῆλθεν', 'ἥδιστον', 'σαρακηνῶν', 'πολιτικὸν', 'ᾔτει', 'ἀχαιοὺς', 'ἀπῄει', 'κῦρον', 'στρατῷ', 'προσκυνεῖ', 'πρεσβευτὴν', 'σπαρτιατῶν', 'αἰτωλῶν', 'περσεὺς', 'θεμιστοκλῆς', 'ᾤοντο', 'λυκοῦργος', 'ἔπεμψαν'], ['καῖσαρ', 'ἵστανται', 'πρεσβευτὰς', 'ἱππεῖς', 'σχολῶν', 'ξὺν', 'βροῦτος', 'πτολεμαῖον', 'οἴκαδ', 'ὕπατον', 'ὕπατος', 'βῆλον', 'βροῦτον', 'φρουρὰν', 'σῶσον', 'κηροὺς', 'ἀπῄει', 'ἀχαιοῖς', 'καταβαλὼν', 'νεῦμα', 'ᾤοντο', 'μιχαὴλ', 'πρεσβευτὴν', 'ἔπεμψαν', 'οὐθὲν', 'θεμιστοκλῆς', 'ἰουδαῖοι', 'ἀχαιοὺς', 'στρατῷ', 'σαρακηνῶν', 'ὑπολαβὼν', 'ὥρμησε', 'σπονδῶν', 'ναυσὶ', 'τουτονὶ', 'λυκοῦργος', 'ἀσελγῶς', 'περικλῆς', 'ἐνδελεχῶς', 'τελεῖται', 'στρατηγοῖς', 'ἥδιστον', 'τοῦρκοι', 'ἰουστινιανοῦ', 'αἰτωλῶν', 'σπαρτιατῶν', 'ἔπραττεν', 'καθολικῆς', 'δυναστῶν', 'πρεσβευτῶν'], ['καῖσαρ', 'ἵστανται', 'ἰσραὴλ', 'πρεσβευτὰς', 'ἱππεῖς', 'σῶσον', 'σχολῶν', 'στρατῷ', 'ὕπατος', 'οὐθὲν', 'βροῦτον', 'βῆλον', 'κηροὺς', 'βροῦτος', 'ἄρατος', 'πτολεμαῖον', 'ὕπατον', 'ὑπολαβὼν', 'ἀχαιοὺς', 'κῦρον', 'πρεσβευτῶν', 'ξὺν', 'δαυὶδ', 'ἀχαιοῖς', 'ἔπεμψαν', 'ᾤοντο', 'νεῦμα', 'πρεσβευτὴν', 'δοκοῦντος', 'ἰδεῶν', 'ἅγιε', 'γαλατῶν', 'παιδιᾶς', 'κωνσταντῖνος', 'ἰουστινιανοῦ', 'ἀπολιπεῖν', 'βοῆς', 'στρατηγοῖς', 'σπονδῶν', 'ἀπῄει', 'θεμιστοκλῆς', 'κεφ', 'φανερὸς', 'ἔπραττεν', 'σπαρτιατῶν', 'συνῆλθον', 'πολιτικὸς', 'ὥρμησαν', 'φρουρὰν', 'σαρακηνῶν'], ['καῖσαρ', 'ἵστανται', 'ἱππεῖς', 'οὐθὲν', 'βροῦτον', 'βροῦτος', 'σχολῶν', 'ὕπατον', 'περικλῆς', 'πρεσβευτὰς', 'ὕπατος', 'λυδῶν', 'ξὺν', 'ἀπῄει', 'βῆλον', 'φρουρὰν', 'σπαρτιατῶν', 'κοῦφα', 'νεῦμα', 'χεροῖν', 'ὑπολαβὼν', 'ἀχαιοῖς', 'πτολεμαῖον', 'ἄρατος', 'ἅλλεται', 'ἀμνοὶ', 'ᾤοντο', 'θεμιστοκλῆς', 'ὥρμησε', 'σῶσον', 'ἀχαιοὺς', 'στρατῷ', 'κηροὺς', 'πρεσβευτῶν', 'ἰσραὴλ', 'λυκοῦργος', 'πρεσβευτὴν', 'κῦρον', 'ἥδιστον', 'κατεῖχε', 'στρατηγοῖς', 'ναυσὶ', 'ἐπιφανῶν', 'σῴζειν', 'μηθὲν', 'τοῦρκοι', 'εὐμενῆ', 'ἔπεμψαν', 'ἰουστινιανοῦ', 'μιχαὴλ'], ['καῖσαρ', 'ἵστανται', 'βῆλον', 'πρεσβευτὰς', 'σχολῶν', 'ἱππεῖς', 'ξὺν', 'σῶσον', 'ὕπατος', 'βροῦτον', 'νεῦμα', 'οὐθὲν', 'βροῦτος', 'ὕπατον', 'φρουρὰν', 'ἰουστινιανοῦ', 'ἔπεμψαν', 'ἀντωνῖνος', 'πρεσβευτῶν', 'σαρακηνῶν', 'στρατῷ', 'γαλατῶν', 'κηροὺς', 'δαυὶδ', 'σπονδῶν', 'ὕπνους', 'ᾤοντο', 'ἔπαρχος', 'ἀχαιοὺς', 'ἰουστινιανὸς', 'λιτῆς', 'ἔπεμπε', 'ἅγιε', 'δωρεὰς', 'συγκλητικῶν', 'ὥρμησαν', 'κῦρον', 'ἀπῄει', 'αἰτωλῶν', 'ὑπολαβὼν', 'κωνσταντῖνος', 'τελεῖται', 'ἱππικὸν', 'θεμιστοκλῆς', 'ἀχαιοῖς', 'στρατηγοῖς', 'ἄρατον', 'ἥδιστον', 'πτολεμαῖον', 'ἀπολιπεῖν'], ['καῖσαρ', 'ἵστανται', 'ἱππεῖς', 'βῆλον', 'πρεσβευτὰς', 'οὐθὲν', 'ὕπατον', 'βροῦτος', 'κηροὺς', 'σῶσον', 'σχολῶν', 'ἀντωνῖνος', 'θεμιστοκλῆς', 'ἄρατος', 'ἰουστινιανοῦ', 'ξὺν', 'ὕπατος', 'φρουρὰν', 'περικλῆς', 'πρεσβευτῶν', 'πτολεμαῖον', 'περσεὺς', 'βροῦτον', 'ἀχαιοῖς', 'ἔπεμψαν', 'τελεῖται', 'στρατηγοῖς', 'ὑπολαβὼν', 'ἔπραττεν', 'ᾤοντο', 'στρατῷ', 'πρεσβευτὴν', 'γαλατῶν', 'μεταβολαῖς', 'νεῦμα', 'λυκοῦργος', 'αἰτωλῶν', 'ἐπανῆλθεν', 'δεξιῷ', 'κῦρον', 'μηθὲν', 'φοροῦντες', 'σπαρτιᾶται', 'κωνσταντῖνος', 'παιδιᾶς', 'ἀπῄει', 'σῴζεσθαι', 'συχνοὺς', 'εὐμενὴς', 'ὥρμησε'], ['καῖσαρ', 'ἵστανται', 'σχολῶν', 'ἱππεῖς', 'βῆλον', 'ξὺν', 'βροῦτον', 'πρεσβευτὰς', 'ὑπολαβὼν', 'βροῦτος', 'ὕπατον', 'οὐθὲν', 'ὕπατος', 'φρουρὰν', 'ἀντωνῖνος', 'πτολεμαῖον', 'ἰουστινιανοῦ', 'ἀχαιοῖς', 'νεῦμα', 'στρατῷ', 'τελεῖται', 'σῶσον', 'θεμιστοκλῆς', 'κεφ', 'ἔπεμψαν', 'κωνσταντῖνος', 'κηροὺς', 'πρεσβευτῶν', 'περσεὺς', 'σπονδῶν', 'κῦρον', 'ἅγιε', 'γαλατῶν', 'ἄρατος', 'ὕπατοι', 'ἀχαιοὺς', 'σπαρτιατῶν', 'ἐπανῆλθεν', 'φορῶν', 'ᾤοντο', 'ἀπῄει', 'μιχαὴλ', 'πρεσβευτὴν', 'εὐμενῆ', 'περικλῆς', 'χαλκῆς', 'εὐμενὴς', 'ᾔτει', 'χρυσῆς', 'σαρακηνῶν'], ['καῖσαρ', 'ἵστανται', 'ἱππεῖς', 'οὐθὲν', 'πρεσβευτὰς', 'ὕπατον', 'ξὺν', 'βῆλον', 'βροῦτος', 'βροῦτον', 'ὕπατος', 'σχολῶν', 'θεμιστοκλῆς', 'σῶσον', 'κηροὺς', 'ἀχαιοῖς', 'φρουρὰν', 'ᾤοντο', 'πρεσβευτῶν', 'ὑπολαβὼν', 'πτολεμαῖον', 'ἰουστινιανοῦ', 'ἔπραττεν', 'στρατῷ', 'ἀντωνῖνος', 'σπαρτιατῶν', 'στρατηγοῖς', 'γαλατῶν', 'ἐπανῆλθεν', 'κωνσταντῖνος', 'πρεσβευτὴν', 'ἄρατος', 'νεῦμα', 'ἀπολιπεῖν', 'ἥδιστον', 'περικλῆς', 'παιδιᾶς', 'ἀπῄει', 'παρακαλεῖν', 'λιτῆς', 'ἔπεμψαν', 'τελεῖται', 'μηθὲν', 'ἔλαθε', 'δελφοὺς', 'σπονδῶν', 'λυκοῦργος', 'ὥρμησε', 'ἐπανελθὼν', 'ἀχαιοὺς'], ['καῖσαρ', 'ἵστανται', 'πρεσβευτὰς', 'ἱππεῖς', 'βροῦτον', 'βροῦτος', 'σχολῶν', 'ὕπατος', 'βῆλον', 'ξὺν', 'πτολεμαῖον', 'ᾤοντο', 'θεμιστοκλῆς', 'ἰδεῶν', 'ὑπολαβὼν', 'φρουρὰν', 'σῶσον', 'πρεσβευτῶν', 'ἔπεμψαν', 'αἰτιατικῇ', 'ὕπατον', 'ἀττικοὶ', 'ἀπῄει', 'νεῦμα', 'ἄρατος', 'στρατῷ', 'κηροὺς', 'οὐθὲν', 'παθητικῶς', 'ὥρμησαν', 'σαρακηνῶν', 'σπαρτιατῶν', 'ἀχαιοῖς', 'τελεῖται', 'στρατηγοῖς', 'περικλῆς', 'παρακαλεῖν', 'μηθὲν', 'ἀντωνῖνος', 'μιχαὴλ', 'ὥρμησε', 'αἰτωλῶν', 'πολιτικῆς', 'ἔπραττεν', 'ἔννοιαι', 'σιωπῆς', 'εὐμενὴς', 'προῆλθε', 'δοκοῦντος', 'σπονδῶν'], ['ἵστανται', 'καῖσαρ', 'πρεσβευτὰς', 'ἱππεῖς', 'ὕπατον', 'βῆλον', 'νεῦμα', 'οὐθὲν', 'σχολῶν', 'σῶσον', 'ἀντωνῖνος', 'πτολεμαῖον', 'ὕπατος', 'πρεσβευτῶν', 'ξὺν', 'ἰδεῶν', 'αἰτωλῶν', 'βροῦτος', 'ὑπολαβὼν', 'κεφ', 'κηροὺς', 'κῦρον', 'ἔννοιαι', 'ἐπιφανῶν', 'ἰουστινιανοῦ', 'ᾤοντο', 'σπονδῶν', 'κῶλον', 'ἔπεμψαν', 'περιβολῆς', 'ἀχαιοὺς', 'τελεῖται', 'ἥδιστον', 'ἀχαιοῖς', 'δαυὶδ', 'πρεσβευτὴν', 'θεμιστοκλῆς', 'στρατῷ', 'ἰσραὴλ', 'φρουρὰν', 'βροῦτον', 'βασιλικοὶ', 'παρεῖχον', 'ἄρατος', 'ὕπατοι', 'γαλατῶν', 'περσεὺς', 'ᾔτει', 'περιβολὴν', 'δοχῆς'], ['καῖσαρ', 'ἵστανται', 'ξὺν', 'πρεσβευτὰς', 'σχολῶν', 'ἱππεῖς', 'βροῦτος', 'φρουρὰν', 'βῆλον', 'μιχαὴλ', 'βροῦτον', 'τοῦρκοι', 'οὐθὲν', 'ἀπῄει', 'ὕπατον', 'κῦρον', 'κηροὺς', 'ᾤοντο', 'ἀχαιοῖς', 'ἅγιε', 'ἰουστινιανοῦ', 'νεῦμα', 'περικλῆς', 'σπαρτιατῶν', 'σπονδῶν', 'στρατῷ', 'τελεῖται', 'πρεσβευτῶν', 'ἔπεμψαν', 'σῶσον', 'ὑπολαβὼν', 'ὕπατος', 'κομνηνὸς', 'ἄρατος', 'ἥδιστον', 'πτολεμαῖον', 'βοῆς', 'στρατηγοῖς', 'θεμιστοκλῆς', 'σιωπῆς', 'διελθὼν', 'ἐπανῆλθεν', 'ὕπνους', 'ἔλαθε', 'ἰουστινιανὸς', 'ἀπολιπεῖν', 'κωνσταντῖνος', 'σαρακηνῶν', 'πρεσβευτὴν', 'δημαγωγῶν'], ['ἵστανται', 'καῖσαρ', 'ἱππεῖς', 'βῆλον', 'ὕπατον', 'σχολῶν', 'κριτὴν', 'πρεσβευτὰς', 'ὕπατος', 'βροῦτον', 'κελτῶν', 'ἰδεῶν', 'ἀντιφῶν', 'ξὺν', 'νεῦμα', 'σῶσον', 'φρουρὰν', 'αἰτωλῶν', 'ποιητὰς', 'ἀχαιοῖς', 'ἀντιφῶντος', 'βροῦτος', 'ἰουστινιανοῦ', 'οὐθὲν', 'κῦρον', 'κηροὺς', 'ἀπολειφθεὶς', 'περικλῆς', 'ὑπολαβὼν', 'προσλαβεῖν', 'ἀντωνῖνος', 'πτολεμαῖον', 'δοκοῦντος', 'φαγὼν', 'θεμιστοκλῆς', 'δικαστὴν', 'μηθὲν', 'λαθὼν', 'πρεσβευτῶν', 'ἥδεσθαι', 'ὕπατοι', 'ἅγιε', 'κωνσταντῖνος', 'ἔπεμψαν', 'τελεῖται', 'ἄδωνις', 'περιττοὺς', 'ἄρατος', 'ᾤοντο', 'σπονδῶν'], ['καῖσαρ', 'ἵστανται', 'ἱππεῖς', 'οὐθὲν', 'ξὺν', 'βροῦτος', 'πρεσβευτὰς', 'βροῦτον', 'σχολῶν', 'βῆλον', 'θεμιστοκλῆς', 'περικλῆς', 'πτολεμαῖον', 'ἀπῄει', 'στρατῷ', 'ὕπατον', 'ὕπατος', 'ὑπολαβὼν', 'μιχαὴλ', 'ἥδιστον', 'εὐμενῆ', 'ἄρατος', 'νεῦμα', 'σπαρτιατῶν', 'παιδιᾶς', 'μηθὲν', 'σαρακηνῶν', 'ἀχαιοῖς', 'φρουρὰν', 'κομνηνὸς', 'τελεῖται', 'βοῆς', 'εὐμενὴς', 'παῦλον', 'σῴζειν', 'ἀχαιοὺς', 'σπονδῶν', 'ὥρμησε', 'εἴα', 'λυκοῦργος', 'ᾔτει', 'κωνσταντῖνος', 'ἀπολιπεῖν', 'ἔπεμψαν', 'κηροὺς', 'πρεσβευτῶν', 'σῶσον', 'ᾤοντο', 'ἤθει', 'ὁμαλῶς'], ['ἵστανται', 'καῖσαρ', 'σχολῶν', 'ἱππεῖς', 'πρεσβευτὰς', 'ἀντιφῶν', 'βῆλον', 'κηροὺς', 'νεῦμα', 'βροῦτος', 'σῶσον', 'ὕπατον', 'πρεσβευτῶν', 'πτολεμαῖον', 'ἀντιφῶντος', 'βροῦτον', 'ἀντωνῖνος', 'ὕπατος', 'οὐθὲν', 'ξὺν', 'ἔπεμψαν', 'ἀχαιοῖς', 'ἀχαιοὺς', 'φοροῦντες', 'εὐμενῆ', 'σπονδῶν', 'ἰουστινιανὸς', 'κῦρον', 'ἅγιε', 'ἰουστινιανοῦ', 'φρουρὰν', 'ἥδεσθαι', 'στρατῷ', 'λιτῆς', 'πολιτικῆς', 'τελεῖται', 'δελφοὺς', 'δοκοῦντος', 'βασιλικοὶ', 'κεφ', 'παιδιᾶς', 'ὑπολαβὼν', 'ᾤοντο', 'ὁμαλῶς', 'ἔπεμπε', 'ἄρατος', 'περικλῆς', 'κωνσταντῖνος', 'ὕπατοι', 'συμφορᾷ'], ['καῖσαρ', 'ἵστανται', 'ἱππεῖς', 'σχολῶν', 'πρεσβευτὰς', 'βροῦτος', 'ξὺν', 'βροῦτον', 'βῆλον', 'ἀπῄει', 'πτολεμαῖον', 'σῶσον', 'ὕπατος', 'ἀχαιοῖς', 'οὐθὲν', 'ὕπατον', 'ἄρατος', 'στρατῷ', 'ἥδιστον', 'εὐμενὴς', 'ἰουστινιανοῦ', 'λυκοῦργος', 'μιχαὴλ', 'σαρακηνῶν', 'νεῦμα', 'φρουρὰν', 'στρατηγοῖς', 'δοκοῦντος', 'κωνσταντῖνος', 'ὑπολαβὼν', 'βοῆς', 'θεμιστοκλῆς', 'βασιλικοὶ', 'ἔπραττεν', 'δημαγωγῶν', 'ᾤοντο', 'φανερὸς', 'ἀντωνῖνος', 'τοῦρκοι', 'κῦρον', 'αἰτωλῶν', 'ἰδεῶν', 'ἀχαιοὺς', 'ἐπιφανῶν', 'παῦλον', 'ᾔτει', 'δαυὶδ', 'ἐπανῆλθεν', 'πρεσβευτῶν', 'σπαρτιατῶν'], ['καῖσαρ', 'ἵστανται', 'ἱππεῖς', 'βροῦτος', 'ὕπατον', 'βροῦτον', 'πρεσβευτὰς', 'οὐθὲν', 'βῆλον', 'ὕπατος', 'θεμιστοκλῆς', 'ᾤοντο', 'ἀχαιοῖς', 'πτολεμαῖον', 'ὑπολαβὼν', 'σχολῶν', 'ἔπεμψαν', 'ἄρατος', 'κηροὺς', 'ἀπολιπεῖν', 'λυκοῦργος', 'περικλῆς', 'φρουρὰν', 'εὐμενὴς', 'ἰουστινιανοῦ', 'νεῦμα', 'ἥδιστον', 'ἀχαιοὺς', 'πρεσβευτῶν', 'σῴζειν', 'σῶσον', 'παρακαλεῖν', 'ὄσιριν', 'ἔννοιαι', 'σπονδῶν', 'ἡγοῦντο', 'ὕπνους', 'σπαρτιατῶν', 'παθητικῶς', 'εἴα', 'καταβαλεῖν', 'κῦρον', 'μηθὲν', 'περσεὺς', 'ὁμαλῶς', 'ξὺν', 'σιωπῆς', 'τελεῖται', 'περιορᾶν', 'ναυσὶ'], ['καῖσαρ', 'ἵστανται', 'ἐθνικὸν', 'πρεσβευτὰς', 'ὕπατον', 'βῆλον', 'ἱππεῖς', 'σχολῶν', 'περικλῆς', 'ὕπατος', 'κηροὺς', 'σῶσον', 'βροῦτον', 'ἰουστινιανοῦ', 'ξὺν', 'βροῦτος', 'ὑπολαβὼν', 'ἀχαιοῖς', 'ἀντωνῖνος', 'λυκοῦργος', 'ἕκτῃ', 'τελεῖται', 'οὐθὲν', 'σπαρτιατῶν', 'θεμιστοκλῆς', 'ᾔτει', 'ναυσὶ', 'πτολεμαῖον', 'πρεσβευτῶν', 'δελφοὺς', 'νεῦμα', 'στρατῷ', 'ἔπεμψαν', 'ἄρατος', 'εὔμολπον', 'ἀπῄει', 'ἥδιστον', 'εὐμενὴς', 'περικλεῖ', 'περσεὺς', 'εὐμενῆ', 'μηθὲν', 'ᾤοντο', 'φορῶν', 'ἔπραττεν', 'δοκοῦντος', 'ὕπατοι', 'ἐπιτελεῖται', 'ἀχαιοὺς', 'ἅγιε'], ['καῖσαρ', 'ἵστανται', 'σχολῶν', 'ἱππεῖς', 'βῆλον', 'ὕπατον', 'βροῦτος', 'ἀχαιοῖς', 'ξὺν', 'μιχαὴλ', 'ἀπῄει', 'πρεσβευτὰς', 'βροῦτον', 'σπονδῶν', 'ᾤοντο', 'παῦλον', 'θεμιστοκλῆς', 'πτολεμαῖον', 'ἀντωνῖνος', 'σῶσον', 'ἔπαρχος', 'ἐπιφανῶν', 'ἄρατος', 'ἔπραττεν', 'φρουρὰν', 'λυκοῦργος', 'περικλῆς', 'ἔπεμψαν', 'κηροὺς', 'πρεσβευτῶν', 'ἰουστινιανοῦ', 'ἅγιε', 'πρεσβευτὴν', 'τοῦρκοι', 'οὐθὲν', 'νεῦμα', 'αἰτωλῶν', 'στρατηγοῖς', 'ὕπατος', 'σπαρτιατῶν', 'ἐπανῆλθεν', 'ἐπιτελεῖται', 'ἥδιστον', 'μηθὲν', 'στρατῷ', 'ἄρατον', 'συγκλητικῶν', 'εὐμενῆ', 'σαρακηνῶν', 'δημαγωγῶν'], ['καῖσαρ', 'ἵστανται', 'πρεσβευτὰς', 'σχολῶν', 'ἱππεῖς', 'κηροὺς', 'ἰουστινιανοῦ', 'τελεῖται', 'στρατῷ', 'πρεσβευτῶν', 'ὕπατον', 'βροῦτον', 'βῆλον', 'πτολεμαῖον', 'οὐθὲν', 'παῦλον', 'ὑπολαβὼν', 'φρουρὰν', 'βροῦτος', 'κωνσταντῖνος', 'ξὺν', 'σῶσον', 'σαρακηνῶν', 'ἀχαιοῖς', 'ἀντωνῖνος', 'κεφ', 'περικλῆς', 'ἔπραττεν', 'ἰδεῶν', 'πρεσβευτὴν', 'νεῦμα', 'σπονδῶν', 'ἔννοιαι', 'ὕπατοι', 'θεμιστοκλῆς', 'ὕπατος', 'ἔπεμψαν', 'παρακαλεῖν', 'ἔπαρχος', 'ἀχαιοὺς', 'εὐμενὴς', 'κῦρον', 'ἰουστινιανὸς', 'ἄρατος', 'χαλκῆς', 'δαυὶδ', 'γαλατῶν', 'σπαρτιατῶν', 'ἰσραὴλ', 'ἥδιστον'], ['καῖσαρ', 'ἵστανται', 'ἱππεῖς', 'σχολῶν', 'πρεσβευτὰς', 'ὑπολαβὼν', 'οὐθὲν', 'βροῦτος', 'βῆλον', 'ξὺν', 'ἰδεῶν', 'βροῦτον', 'κηροὺς', 'ὕπατον', 'ἀχαιοῖς', 'ἰουστινιανοῦ', 'περικλῆς', 'σῶσον', 'νεῦμα', 'ἔννοιαι', 'ἐπιφανῶν', 'ἄρατος', 'κῶλα', 'πρεσβευτῶν', 'ᾤοντο', 'στρατηγοῖς', 'σπαρτιατῶν', 'ὕπατος', 'σπονδῶν', 'ἔπεμψαν', 'ἄτταλον', 'παιδιᾶς', 'ἄρατον', 'λιτῆς', 'ἀντωνῖνος', 'κῦρον', 'τελεῖται', 'φοροῦντες', 'φρουρὰν', 'δαυὶδ', 'δοκοῦντος', 'κῶλον', 'ἔπεμπε', 'ἔναγχος', 'πτολεμαῖον', 'ἐπανελθὼν', 'σῴζεσθαι', 'μιχαὴλ', 'περσεὺς', 'ναυσὶ'], ['ἵστανται', 'καῖσαρ', 'πρεσβευτὰς', 'ἱππεῖς', 'σχολῶν', 'βροῦτον', 'βῆλον', 'οὐθὲν', 'ὕπατον', 'πρεσβευτῶν', 'κηροὺς', 'σῶσον', 'νεῦμα', 'ἰουστινιανοῦ', 'βροῦτος', 'ὕπατος', 'φρουρὰν', 'ἀχαιοῖς', 'πρεσβευτὴν', 'ἔπεμψαν', 'περικλῆς', 'ἀχαιοὺς', 'πτολεμαῖον', 'ξὺν', 'τελεῖται', 'κῦρον', 'θεμιστοκλῆς', 'ὑπολαβὼν', 'ἀντωνῖνος', 'στρατῷ', 'γαλατῶν', 'εἴθισται', 'περσεὺς', 'κωνσταντῖνος', 'σπαρτιατῶν', 'λυκοῦργος', 'μηθὲν', 'ὥρμησε', 'σπονδῶν', 'ἰουστινιανὸς', 'σαρακηνῶν', 'ἤθει', 'δελφοὺς', 'δαυὶδ', 'φοροῦντες', 'ἔλαθε', 'ἔπραττεν', 'πολιτικὸς', 'ἅγιε', 'ἔννοιαι'], ['καῖσαρ', 'ἵστανται', 'ἱππεῖς', 'βροῦτος', 'σχολῶν', 'ὕπατον', 'θεμιστοκλῆς', 'πρεσβευτὰς', 'ξὺν', 'βροῦτον', 'οὐθὲν', 'σπαρτιατῶν', 'ἀχαιοῖς', 'ὥρμησε', 'φρουρὰν', 'ἀπῄει', 'ᾤοντο', 'ἄρατος', 'βῆλον', 'ὕπατος', 'ἰδεῶν', 'περικλῆς', 'πτολεμαῖον', 'κῶλα', 'λυκοῦργος', 'ἔπεμψαν', 'ἀπολιπεῖν', 'ἀντωνῖνος', 'παιδιᾶς', 'ὁμαλῶς', 'ὕβρει', 'κῶλον', 'ἔλαθε', 'δοκοῦντος', 'ἐπιφανῶν', 'αἰτωλῶν', 'τελεῖται', 'παρεῖχον', 'μηθὲν', 'διατριβὰς', 'ἐπανῆλθεν', 'σιωπῆς', 'ἔννοιαι', 'ἀχαιοὺς', 'μεταβολαῖς', 'πολιτικῆς', 'πρεσβευτῶν', 'σῴζειν', 'ἐμπεδοκλῆς', 'ἄρατον'], ['καῖσαρ', 'ἵστανται', 'ἱππεῖς', 'σχολῶν', 'οὐθὲν', 'ξὺν', 'βροῦτος', 'βῆλον', 'βροῦτον', 'ἀχαιοῖς', 'πρεσβευτὰς', 'ὕπατος', 'ὕπατον', 'πτολεμαῖον', 'μυσῶν', 'ἔννοιαι', 'φρουρὰν', 'κῶλα', 'θεμιστοκλῆς', 'σπαρτιατῶν', 'νεῦμα', 'φῄς', 'αὐτοῖσιν', 'ἄρατος', 'ἔπεμψαν', 'στρατῷ', 'ἥδιστον', 'ὥρμησε', 'ναυσὶ', 'αἰτωλῶν', 'περικλῆς', 'δοκοῦντος', 'σῶσον', 'κῦρον', 'μηθὲν', 'ὑπολαβὼν', 'λυκοῦργος', 'ᾤοντο', 'ἀπῄει', 'μιχαὴλ', 'ἀπολιπεῖν', 'ἔναγχος', 'παιδιᾶς', 'εὐμενὴς', 'ὕβρει', 'ἤθει', 'ἀχαιοὺς', 'ἐμπεδοκλῆς', 'τελεῖται', 'ἐπανῆλθεν'], ['καῖσαρ', 'ἵστανται', 'σχολῶν', 'πρεσβευτὰς', 'ἱππεῖς', 'βῆλον', 'βροῦτον', 'ξὺν', 'ὑπολαβὼν', 'πτολεμαῖον', 'ἰουστινιανοῦ', 'σῶσον', 'κηροὺς', 'νεῦμα', 'φρουρὰν', 'ὕπατον', 'ὕπατος', 'βροῦτος', 'περικλῆς', 'ἀντωνῖνος', 'ἀχαιοῖς', 'ἄρατος', 'ἔπεμψαν', 'πρεσβευτῶν', 'αἰτωλῶν', 'στρατῷ', 'σαρακηνῶν', 'τελεῖται', 'ἀχαιοὺς', 'ἅγιε', 'οὐθὲν', 'γαλατῶν', 'θεμιστοκλῆς', 'ᾤοντο', 'κεφ', 'πρεσβευτὴν', 'ἥδιστον', 'ἀπῄει', 'ἰουστινιανὸς', 'κῦρον', 'ἔπραττεν', 'ὕπνους', 'ἐπιτελεῖται', 'σῴζειν', 'ἐπιφανῶν', 'ὥρμησε', 'λιτῆς', 'παρακαλεῖν', 'ὕπατοι', 'ἀπολιπεῖν'], ['καῖσαρ', 'ἵστανται', 'ἱππεῖς', 'σχολῶν', 'πρεσβευτὰς', 'ξὺν', 'κηροὺς', 'ἄδωνις', 'ὕπατος', 'βῆλον', 'νεῦμα', 'πτολεμαῖον', 'σῶσον', 'βροῦτος', 'πρεσβευτῶν', 'ὕπατον', 'ἔπεμψαν', 'ἰδεῶν', 'ἄδωνιν', 'βροῦτον', 'ἀχαιοῖς', 'ὑπολαβὼν', 'κωνσταντῖνος', 'οὐθὲν', 'ἀντωνῖνος', 'στρατῷ', 'γαλατῶν', 'μιχαὴλ', 'ἰουστινιανοῦ', 'θεμιστοκλῆς', 'τοῦρκοι', 'ἥδιστον', 'ἐπιφανῶν', 'αἰαῖ', 'ναυσὶ', 'βασιλικοὶ', 'φρουρὰν', 'ἄρατον', 'ἔννοιαι', 'ὕπατοι', 'νιν', 'ἔπαρχος', 'ἔρωτες', 'κῶλα', 'φοροῦντες', 'φανερὸς', 'κεφ', 'ἰσραὴλ', 'ἐπανῆλθεν', 'προσκυνεῖ'], ['καῖσαρ', 'ἵστανται', 'πρεσβευτὰς', 'ὕπατον', 'σχολῶν', 'ἱππεῖς', 'βῆλον', 'ξὺν', 'νεῦμα', 'οὐθὲν', 'ἰουστινιανοῦ', 'ἀντωνῖνος', 'ὕπατος', 'φρουρὰν', 'βροῦτος', 'ἰδεῶν', 'σῶσον', 'ὑπολαβὼν', 'ἀχαιοῖς', 'αἰτωλῶν', 'πτολεμαῖον', 'ἔννοιαι', 'ἔπεμψαν', 'βροῦτον', 'λυκοῦργος', 'κηροὺς', 'ᾤοντο', 'ἄρατος', 'σπαρτιατῶν', 'μιχαὴλ', 'κεφ', 'στρατῷ', 'ἀπῄει', 'πρεσβευτῶν', 'ἐπιφανῶν', 'θεμιστοκλῆς', 'ᾔτει', 'τελεῖται', 'κωνσταντῖνος', 'τοῦρκοι', 'μηθὲν', 'παιδιᾶς', 'εὐμενῆ', 'κῦρον', 'βοῆς', 'κῶλα', 'ἀπολιπεῖν', 'θηβαῖοι', 'κῶλον', 'διελθὼν'], ['καῖσαρ', 'ἵστανται', 'ἄδωνις', 'ἱππεῖς', 'νιν', 'ξὺν', 'ἄδωνιν', 'βροῦτος', 'σχολῶν', 'βῆλον', 'ὕπατον', 'ἔρωτες', 'πρεσβευτὰς', 'αἰαῖ', 'ἀχαιοῖς', 'ἰδεῶν', 'πρεσβευτῶν', 'πτολεμαῖον', 'οὐθὲν', 'ᾤοντο', 'κηροὺς', 'κῦρον', 'φρουρὰν', 'ὕπατος', 'ἔπραττεν', 'ἰουστινιανοῦ', 'ἔννοιαι', 'τᾶς', 'ἄρατος', 'σῶσον', 'βροῦτον', 'γαλατῶν', 'τελεῖται', 'στρατῷ', 'κοιτῶνι', 'νεῦμα', 'περικλῆς', 'ἅγιε', 'ἀπῄει', 'ἐπανῆλθεν', 'ὑπολαβὼν', 'σπονδῶν', 'στρατηγοῖς', 'ἥδιστον', 'σπαρτιατῶν', 'λυκοῦργος', 'ἔπεμψαν', 'κωνσταντῖνος', 'δωρεὰς', 'κῶλα'], ['καῖσαρ', 'ἵστανται', 'σχολῶν', 'ἱππεῖς', 'ξὺν', 'πρεσβευτὰς', 'βῆλον', 'οὐθὲν', 'ὕπατος', 'πτολεμαῖον', 'πρεσβευτῶν', 'βροῦτος', 'σῶσον', 'ἔπεμψαν', 'στρατῷ', 'ἰδεῶν', 'σαρακηνῶν', 'κηροὺς', 'ἀντωνῖνος', 'τελεῖται', 'βροῦτον', 'θεμιστοκλῆς', 'ὕπατον', 'μιχαὴλ', 'ἀχαιοῖς', 'ἰουστινιανοῦ', 'ἀπῄει', 'ἐπανῆλθεν', 'σπονδῶν', 'φρουρὰν', 'νεῦμα', 'λυκοῦργος', 'στρατηγοῖς', 'αἰτωλῶν', 'ἀχαιοὺς', 'κεφ', 'ἄρατος', 'δωρεὰς', 'κῦρον', 'παιδιᾶς', 'ἰσραὴλ', 'λιτῆς', 'κατεῖχε', 'ἥδιστον', 'ἐπανελθὼν', 'δαυὶδ', 'βασιλικοὶ', 'τοῦρκοι', 'ἔννοιαι', 'ἐπιφανῶν'], ['καῖσαρ', 'ἵστανται', 'βῆλον', 'ἱππεῖς', 'πρεσβευτὰς', 'ὕπατον', 'σχολῶν', 'σῶσον', 'ὕπατος', 'ἀχαιοῖς', 'οὐθὲν', 'ξὺν', 'πτολεμαῖον', 'πρεσβευτῶν', 'κηροὺς', 'βροῦτον', 'βροῦτος', 'δωρεὰς', 'αἰτωλῶν', 'ᾤοντο', 'ἀπῄει', 'ἔπεμψαν', 'παῦλον', 'μιχαὴλ', 'νεῦμα', 'ἔπραττεν', 'ἥδιστον', 'πρεσβευτὴν', 'κῦρον', 'τελεῖται', 'ἄρατος', 'ὑπολαβὼν', 'ἰουστινιανοῦ', 'σπονδῶν', 'φρουρὰν', 'ἔπαρχος', 'σαρακηνῶν', 'κεφ', 'δεξιῷ', 'στρατῷ', 'ἔναγχος', 'ἰσραὴλ', 'μεταβολαῖς', 'εὐμενὴς', 'κατεῖχε', 'ἄδωνις', 'παρακαλεῖν', 'ἰουστινιανὸς', 'λυκοῦργος', 'φορῶν'], ['καῖσαρ', 'ἵστανται', 'ἱππεῖς', 'ὕπατος', 'πρεσβευτὰς', 'βῆλον', 'βροῦτον', 'βροῦτος', 'ὕπατον', 'φρουρὰν', 'ἀντωνῖνος', 'οὐθὲν', 'ἄρατος', 'κηροὺς', 'νεῦμα', 'ξὺν', 'στρατῷ', 'πτολεμαῖον', 'ἔπεμψαν', 'θεμιστοκλῆς', 'ἰουστινιανοῦ', 'σπονδῶν', 'σπαρτιατῶν', 'σχολῶν', 'λυκοῦργος', 'ὑπολαβὼν', 'ἰουδαῖοι', 'σῶσον', 'κατεῖχε', 'σαρακηνῶν', 'τελεῖται', 'ἔπραττεν', 'φοροῦντες', 'πρεσβευτῶν', 'ἰδεῶν', 'γαλατῶν', 'περικλῆς', 'κῦρον', 'ᾤοντο', 'ἐπιφανῶν', 'δοκοῦντος', 'ἔπαρχος', 'ὥρμησαν', 'ἥδιστον', 'ἔντευξιν', 'δωρεὰς', 'ἰσραὴλ', 'ἀπολιπεῖν', 'ἀχαιοῖς', 'ὕπατοι'], ['καῖσαρ', 'ἵστανται', 'ἱππεῖς', 'βῆλον', 'βροῦτον', 'βροῦτος', 'οὐθὲν', 'ὕπατον', 'ὕπατος', 'ἄρατος', 'θηβαῖοι', 'θεμιστοκλῆς', 'φρουρὰν', 'ὑπολαβὼν', 'σχολῶν', 'πρεσβευτὰς', 'ἰδεῶν', 'λυκοῦργος', 'περικλῆς', 'πτολεμαῖον', 'κῶλον', 'ἀχαιοῖς', 'στρατῷ', 'ἐπιφανῶν', 'ναυσὶ', 'ἔπεμψαν', 'δοκοῦντος', 'ἔννοιαι', 'ἔπραττεν', 'πρεσβευτῶν', 'κῶλα', 'ὕπνους', 'δημαγωγῶν', 'ἤθει', 'σπαρτιατῶν', 'θῦσαι', 'ἅπασαι', 'εὐμενῆ', 'συνῆλθον', 'περιορᾶν', 'ἥδιστον', 'ἄρατον', 'ἐπανῆλθεν', 'περιβολῆς', 'ξὺν', 'ἰουστινιανοῦ', 'σῶσον', 'δωρεὰς', 'φανερὸς', 'παιδιᾶς'], ['καῖσαρ', 'ἵστανται', 'ἱππεῖς', 'βροῦτος', 'βῆλον', 'ὕπατον', 'σχολῶν', 'θεμιστοκλῆς', 'πρεσβευτὰς', 'ἀχαιοῖς', 'ὕπατος', 'πτολεμαῖον', 'ἰσραὴλ', 'βροῦτον', 'ἄρατος', 'σῶσον', 'ὑπολαβὼν', 'σπονδῶν', 'ξὺν', 'ἀντωνῖνος', 'στρατῷ', 'νεῦμα', 'σπαρτιατῶν', 'οὐθὲν', 'φρουρὰν', 'ἰουστινιανοῦ', 'πρεσβευτῶν', 'λυκοῦργος', 'σαρακηνῶν', 'ἥδιστον', 'δωρεὰς', 'εὐμενῆ', 'αἰτωλῶν', 'ἀχαιοὺς', 'ἐπανῆλθεν', 'ἐπιφανῶν', 'ἔπαρχος', 'κηροὺς', 'ἔννοιαι', 'περικλῆς', 'μηθὲν', 'δελφοὺς', 'ἀπολιπεῖν', 'πολιτικὸς', 'ἄρατον', 'ᾤοντο', 'ὕπνους', 'παιδιᾶς', 'ἅγιε', 'δαυὶδ'], ['καῖσαρ', 'ἱππεῖς', 'ἵστανται', 'κρατῆρα', 'οὐθὲν', 'ἴφικλος', 'ὑπολαβὼν', 'βροῦτος', 'ὕπατον', 'πρεσβευτὰς', 'ἄρατος', 'βροῦτον', 'σχολῶν', 'ἥδιστον', 'σπαρτιατῶν', 'φρουρὰν', 'περικλῆς', 'θεμιστοκλῆς', 'δοκοῦντος', 'ἀχαιοὺς', 'ἰδεῶν', 'ἀπῄει', 'παιδιᾶς', 'μηθὲν', 'ᾤοντο', 'ξὺν', 'καταβαλὼν', 'σῶσον', 'στρατῷ', 'ἀργυροῦν', 'περιορᾶν', 'πτολεμαῖον', 'ἔπεμψαν', 'ὕπατος', 'νεῦμα', 'ἀντιφῶν', 'λυκοῦργος', 'ἀχαιοῖς', 'πρᾴως', 'κῦρον', 'ἀντιφῶντος', 'συνῆλθον', 'βῆλον', 'σῴζεσθαι', 'φθονερὸν', 'διαβολῆς', 'ἔπραττεν', 'πεζῶν', 'ἄρατον', 'ἥδιστα'], ['καῖσαρ', 'ἱππεῖς', 'ἵστανται', 'βῆλον', 'σχολῶν', 'ξὺν', 'βροῦτον', 'κηροὺς', 'βροῦτος', 'πτολεμαῖον', 'ἰδεῶν', 'σῶσον', 'ἰουστινιανοῦ', 'πρεσβευτὰς', 'ὕπατον', 'περικλῆς', 'φρουρὰν', 'ὕπατος', 'λυκοῦργος', 'ἄρατος', 'στρατῷ', 'ἀντωνῖνος', 'δοκοῦντος', 'παιδιᾶς', 'ἀχαιοῖς', 'ὑπολαβὼν', 'οὐθὲν', 'νεῦμα', 'ἀπῄει', 'εὐμενὴς', 'ἔννοιαι', 'πρεσβευτῶν', 'σαρακηνῶν', 'πεζῶν', 'ἀντιφῶντος', 'θεμιστοκλῆς', 'πολιτικὸν', 'ἔπεμψαν', 'ἐπανῆλθεν', 'κῶλα', 'τελεῖται', 'ὕπατοι', 'ἀχαιοὺς', 'ἕκτῃ', 'ᾤοντο', 'σπονδῶν', 'στρατηγοῖς', 'ἀπολιπεῖν', 'γαλατῶν', 'μιχαὴλ'], ['ἵστανται', 'καῖσαρ', 'πρεσβευτὰς', 'βῆλον', 'σῶσον', 'σχολῶν', 'νεῦμα', 'ἱππεῖς', 'βροῦτος', 'ξὺν', 'ἀχαιοῖς', 'πτολεμαῖον', 'ἰουστινιανοῦ', 'ὕπατος', 'οὐθὲν', 'ὕπατον', 'κηροὺς', 'πρεσβευτῶν', 'στρατῷ', 'τελεῖται', 'ἔπεμψαν', 'αἰτωλῶν', 'πρεσβευτὴν', 'ἀχαιοὺς', 'ἄτταλον', 'σαρακηνῶν', 'περσεὺς', 'ὑπολαβὼν', 'κῦρον', 'σπονδῶν', 'ἀντωνῖνος', 'βροῦτον', 'ἀπῄει', 'χαλκῆς', 'ἐπανῆλθεν', 'ἰουστινιανὸς', 'ἅγιε', 'κελτῶν', 'ἐπιτελεῖται', 'ᾔτει', 'ἔπραττεν', 'βασιλικοὶ', 'στρατηγοῦντος', 'φρουρὰν', 'δεξιῷ', 'κριτὴν', 'φοροῦντες', 'δωρεὰς', 'κωνσταντῖνος', 'ἄρατος'], ['καῖσαρ', 'ἱππεῖς', 'ἵστανται', 'παῦλον', 'βροῦτον', 'κιθαιρὼν', 'ὕπατον', 'ὕπατος', 'ἰσραὴλ', 'οὐθὲν', 'πρεσβευτὰς', 'βροῦτος', 'ἐπανῆλθεν', 'θεμιστοκλῆς', 'σχολῶν', 'ἔπεσε', 'ἔπαρχος', 'ἄρατος', 'ὥρμησε', 'λυκοῦργος', 'ἀντωνῖνος', 'ἁμαρτωλῶν', 'σῴζειν', 'ἥδιστον', 'πτολεμαῖον', 'ἀχαιοῖς', 'σπαρτιατῶν', 'φανερὸς', 'σῶσον', 'ᾤοντο', 'ὑπολαβὼν', 'μηθὲν', 'ἐπιφανῶν', 'βῆλον', 'φρουρὰν', 'ἔπραττεν', 'δημαγωγῶν', 'δοκοῦντος', 'ὁμαλῶς', 'περικλῆς', 'εὐμενῆ', 'ἀπῄει', 'ἔγημε', 'δωρεὰς', 'κῦρον', 'εὐμενὴς', 'δαυὶδ', 'στρατῷ', 'ἀχαιοὺς', 'ᾔτει'], ['ἵστανται', 'καῖσαρ', 'ἱππεῖς', 'πρεσβευτὰς', 'φθονερὸν', 'βῆλον', 'οὐθὲν', 'νεῦμα', 'ἀχαιοῖς', 'κηροὺς', 'πτολεμαῖον', 'σχολῶν', 'βροῦτος', 'βροῦτον', 'στρατῷ', 'ἀργυροῦν', 'σῶσον', 'ὑπολαβὼν', 'ἀντωνῖνος', 'ξὺν', 'ὕπατον', 'ἰσραὴλ', 'ἐπανῆλθεν', 'ἰουστινιανοῦ', 'κεφ', 'προκοπῆς', 'ᾤοντο', 'πρεσβευτῶν', 'ὕπατος', 'φρουρὰν', 'ἔφασκε', 'τελεῖται', 'φοροῦντες', 'σαρακηνῶν', 'θεμιστοκλῆς', 'αἰτωλῶν', 'ἔπεμψαν', 'δοχῆς', 'σπονδῶν', 'ἔπραττεν', 'κῦρον', 'πολιτικὸς', 'ἄρατος', 'δαυὶδ', 'ἀχαιοὺς', 'ἀφειδῶς', 'ἀγκῶνι', 'περικλῆς', 'λυκοῦργος', 'ἴστρον'], ['καῖσαρ', 'ἵστανται', 'ἐθνικὸν', 'πρεσβευτὰς', 'σχολῶν', 'ἱππεῖς', 'βῆλον', 'ἕκτῃ', 'ξὺν', 'περικλῆς', 'εὔμολπον', 'ὕπατος', 'βροῦτος', 'ὕπατον', 'σῶσον', 'λυκοῦργος', 'πτολεμαῖον', 'ἰουστινιανοῦ', 'ἔπεμψαν', 'ἐπανῆλθεν', 'ᾤοντο', 'ἀχαιοὺς', 'περικλεῖ', 'σαρακηνῶν', 'κηροὺς', 'βροῦτον', 'οὐθὲν', 'νεῦμα', 'πρεσβευτῶν', 'δελφοὺς', 'κῦρον', 'κωνσταντῖνος', 'ἰσραὴλ', 'σπονδῶν', 'φρουρὰν', 'τελεῖται', 'ὑπολαβὼν', 'γαλατῶν', 'πρεσβευτὴν', 'ἥδιστον', 'ἀχαιοῖς', 'ἀντωνῖνος', 'ἄρατος', 'τοῦρκοι', 'ᾔτει', 'πεζῶν', 'ἐπιφανῶν', 'ἔπραττεν', 'ὕπατοι', 'στρατηγοῖς'], ['καῖσαρ', 'ἵστανται', 'ἱππεῖς', 'σχολῶν', 'πρεσβευτὰς', 'βῆλον', 'ξὺν', 'ὕπατος', 'οὐθὲν', 'τελεῖται', 'βροῦτον', 'βροῦτος', 'ὕπατον', 'κηροὺς', 'ἰουστινιανοῦ', 'ὑπολαβὼν', 'στρατῷ', 'πρεσβευτῶν', 'σῶσον', 'σπονδῶν', 'φρουρὰν', 'νεῦμα', 'πτολεμαῖον', 'ἀχαιοὺς', 'ἀπῄει', 'θεμιστοκλῆς', 'κῦρον', 'ἄρατος', 'αἰτωλῶν', 'φοροῦντες', 'μιχαὴλ', 'ἐπιφανῶν', 'ἀχαιοῖς', 'ἀντωνῖνος', 'λυκοῦργος', 'ἔπραττεν', 'ᾤοντο', 'ἔπαρχος', 'τοῦρκοι', 'γαλατῶν', 'δοκοῦντος', 'περιορᾶν', 'σπαρτιατῶν', 'ᾔτει', 'προσκυνεῖ', 'ἐπανῆλθεν', 'μηθὲν', 'δελφοὺς', 'κατεῖχε', 'κωνσταντῖνος'], ['ἵστανται', 'καῖσαρ', 'πρεσβευτὰς', 'σχολῶν', 'βῆλον', 'σῶσον', 'ὕπατον', 'ἱππεῖς', 'νεῦμα', 'ξὺν', 'κηροὺς', 'πτολεμαῖον', 'βροῦτος', 'πρεσβευτῶν', 'ἀχαιοῖς', 'ὕπατος', 'στρατῷ', 'οὐθὲν', 'πρεσβευτὴν', 'κωνσταντῖνος', 'ἰουστινιανοῦ', 'ἀντωνῖνος', 'κεφ', 'αἰτωλῶν', 'βροῦτον', 'σαρακηνῶν', 'σπονδῶν', 'λιτῆς', 'ἀχαιοὺς', 'φρουρὰν', 'ἰουστινιανὸς', 'γαλατῶν', 'τελεῖται', 'ἅγιε', 'ἄρατος', 'βασιλικοὶ', 'εἴθισται', 'φοροῦντες', 'ἔπραττεν', 'προσκυνεῖ', 'λυκοῦργος', 'ἔδοσαν', 'κῦρον', 'ὑπολαβὼν', 'ἰδεῶν', 'μιχαὴλ', 'εὐμενὴς', 'μηθὲν', 'ἔπεμψαν', 'δελφοὺς'], ['καῖσαρ', 'ἵστανται', 'ἱππεῖς', 'ἰουδαῖοι', 'σχολῶν', 'πτολεμαῖον', 'ἡρῴδης', 'βροῦτος', 'πρεσβευτὰς', 'βροῦτον', 'ξὺν', 'σταυρὸν', 'μαθηταὶ', 'μνημεῖον', 'ὕπατον', 'θεμιστοκλῆς', 'ᾤοντο', 'λυκοῦργος', 'οὐθὲν', 'ὑπολαβὼν', 'ἄρατος', 'δῦναι', 'ἰερουσαλὴμ', 'γραμματεῖς', 'φρουρὰν', 'ἀχαιοῖς', 'ἔθηκαν', 'ἴδετε', 'ὕπατος', 'βῆλον', 'κῦρον', 'ἔπραττεν', 'σῶσον', 'μηθὲν', 'στρατῷ', 'περικλῆς', 'εἰσῆλθον', 'ἰωσὴφ', 'μιχαὴλ', 'ἥδιστον', 'ἰσραὴλ', 'ὥρμησε', 'κελεῦσαι', 'δελφοὺς', 'ἀπῄει', 'βοῆς', 'εὐμενὴς', 'λαῷ', 'ἰουστινιανοῦ', 'παρακαλεῖν'], ['καῖσαρ', 'ἵστανται', 'ἱππεῖς', 'πρεσβευτὰς', 'βροῦτος', 'βῆλον', 'βροῦτον', 'σχολῶν', 'ὕπατος', 'λυκοῦργος', 'σπαρτιατῶν', 'σῶσον', 'πτολεμαῖον', 'ξὺν', 'θεμιστοκλῆς', 'οὐθὲν', 'περικλῆς', 'ὕπατον', 'ᾤοντο', 'ἔπεμψαν', 'πρεσβευτῶν', 'κηροὺς', 'σπονδῶν', 'στρατῷ', 'ἄρατον', 'ἀχαιοῖς', 'ἐπιφανῶν', 'ἤθει', 'ἰδεῶν', 'παιδιᾶς', 'ἔπεμπε', 'δελφοὺς', 'αἰτωλῶν', 'ὁμαλῶς', 'στρατηγοῖς', 'εὐμενῆ', 'ἀχαιοὺς', 'πεζῶν', 'πολιτικὸς', 'ἔπραττεν', 'φρουρὰν', 'ἐπανῆλθεν', 'πολιτικῆς', 'δωρεὰς', 'εὐμενὴς', 'μηθὲν', 'ἰουστινιανοῦ', 'ὑπολαβὼν', 'ᾔτει', 'διαβολὴν'], ['καῖσαρ', 'ἵστανται', 'πρεσβευτὰς', 'ἱππεῖς', 'αἴθραν', 'ὕπατος', 'βροῦτον', 'σχολῶν', 'βροῦτος', 'πρεσβευτῶν', 'βῆλον', 'ἀχαιοῖς', 'ὕπατον', 'ἔπεμψαν', 'οὐθὲν', 'ἀντωνῖνος', 'στρατῷ', 'πτολεμαῖον', 'ἰουστινιανοῦ', 'ἰδεῶν', 'ὀστῶν', 'ξὺν', 'κηροὺς', 'τελεῖται', 'ἔννοιαι', 'σῶσον', 'ἅγιε', 'ὀρφεὺς', 'θεμιστοκλῆς', 'ὑπολαβὼν', 'ᾤοντο', 'κωνσταντῖνος', 'ναυσὶ', 'νεῦμα', 'ἥδιστον', 'κεφ', 'κῦρον', 'φρουρὰν', 'ἄρατος', 'ἀχαιοὺς', 'αἰτωλῶν', 'ἤθει', 'παιδιᾶς', 'ὕπατοι', 'περικλῆς', 'πρεσβευτὴν', 'στρατηγοῖς', 'λυκοῦργος', 'ἔλαθε', 'δοκοῦντος'], ['καῖσαρ', 'ἵστανται', 'ἱππεῖς', 'πρεσβευτὰς', 'σχολῶν', 'βῆλον', 'ἰδεῶν', 'ξὺν', 'ὕπατον', 'πτολεμαῖον', 'οὐθὲν', 'κῶλα', 'ὕπατος', 'σῶσον', 'ἰουστινιανοῦ', 'τεχνικὸς', 'κηροὺς', 'κῶλον', 'πρεσβευτῶν', 'περιβολῆς', 'βροῦτον', 'νεῦμα', 'φρουρὰν', 'θεμιστοκλῆς', 'τελεῖται', 'ἔννοιαι', 'φοροῦντες', 'πρεσβευτὴν', 'αἰτωλῶν', 'βροῦτος', 'ὑπολαβὼν', 'ἀχαιοῖς', 'ἀχαιοὺς', 'ὕπατοι', 'σπονδῶν', 'βασιλικοὶ', 'σαρακηνῶν', 'δοκοῦντος', 'περσεὺς', 'λυκοῦργος', 'κεφ', 'στρατῷ', 'ἔπραττεν', 'ἐπανῆλθεν', 'περικλῆς', 'περιβολὴν', 'ᾔτει', 'ἥδιστον', 'ἔπεμψαν', 'πολιτικὸς'], ['καῖσαρ', 'ἱππεῖς', 'ἵστανται', 'οὐθὲν', 'βῆλον', 'πρεσβευτὰς', 'σχολῶν', 'ὕπατον', 'βροῦτος', 'ὕπατος', 'βροῦτον', 'ᾤοντο', 'πτολεμαῖον', 'περικλῆς', 'ἔπεμψαν', 'ἄρατος', 'φρουρὰν', 'θεμιστοκλῆς', 'σῶσον', 'νεῦμα', 'ἐπανῆλθεν', 'εὐμενῆ', 'ἀχαιοῖς', 'ᾔτει', 'ἥδιστον', 'λυκοῦργος', 'πολιτικὸς', 'ἀντωνῖνος', 'κῦρον', 'κηροὺς', 'ξὺν', 'στρατῷ', 'στρατηγοῖς', 'δοκοῦντος', 'πρεσβευτῶν', 'ἐπιφανῶν', 'σπονδῶν', 'ἤθει', 'σπαρτιατῶν', 'παρακαλεῖν', 'φοροῦντες', 'ἀπῄει', 'τελεῖται', 'ἄρατον', 'διαφυγεῖν', 'γαλατῶν', 'ὑπολαβὼν', 'ἀχαιοὺς', 'συγκλητικῶν', 'μεταβολαῖς'], ['καῖσαρ', 'ἵστανται', 'ἱππεῖς', 'σχολῶν', 'ξὺν', 'πρεσβευτὰς', 'βῆλον', 'ὕπατος', 'ὑπολαβὼν', 'σῶσον', 'ὕπατον', 'πτολεμαῖον', 'νεῦμα', 'ἰδεῶν', 'σπαρτιατῶν', 'βροῦτος', 'φρουρὰν', 'βροῦτον', 'οὐθὲν', 'θεμιστοκλῆς', 'ἀντωνῖνος', 'κῦρον', 'ἥδιστον', 'ᾤοντο', 'κηροὺς', 'ἔννοιαι', 'πρεσβευτῶν', 'ἰουστινιανοῦ', 'ἀχαιοῖς', 'στρατῷ', 'παρακαλεῖν', 'ἔπεμψαν', 'ἀπῄει', 'παιδιᾶς', 'αἰτωλῶν', 'ἰσραὴλ', 'πρεσβευτὴν', 'κῶλα', 'δοκοῦντος', 'ἀπολιπεῖν', 'μιχαὴλ', 'εὐμενὴς', 'ὥρμησαν', 'ἄρατος', 'ἐπιφανῶν', 'εὐμενῆ', 'δωρεὰς', 'ἀχαιοὺς', 'ἤθει', 'περικλῆς'], ['καῖσαρ', 'ἵστανται', 'ἱππεῖς', 'πρεσβευτὰς', 'βῆλον', 'ἄδωνις', 'σχολῶν', 'οὐθὲν', 'ἄδωνιν', 'ὕπατον', 'βροῦτος', 'ξὺν', 'νιν', 'σῶσον', 'πρεσβευτῶν', 'πτολεμαῖον', 'ὕπατος', 'νεῦμα', 'ἔπεμψαν', 'ἀντωνῖνος', 'τελεῖται', 'φρουρὰν', 'ἀχαιοῖς', 'δαυὶδ', 'ᾤοντο', 'θεμιστοκλῆς', 'ὑπολαβὼν', 'περσεὺς', 'κηροὺς', 'ἄρατος', 'σπαρτιατῶν', 'λυκοῦργος', 'αἰαῖ', 'ἰουστινιανοῦ', 'κῦρον', 'στρατῷ', 'ἐπανῆλθεν', 'βροῦτον', 'ἀπολιπεῖν', 'ἐπιφανῶν', 'ἀχαιοὺς', 'γαλατῶν', 'φανερὸς', 'σπονδῶν', 'ἄτταλον', 'ἰουστινιανὸς', 'εὐμενῆ', 'περικλῆς', 'ἰσραὴλ', 'σαρακηνῶν'], ['καῖσαρ', 'ἵστανται', 'ἱππεῖς', 'βροῦτος', 'οὐθὲν', 'βῆλον', 'βροῦτον', 'ἀχαιοῖς', 'ὕπατον', 'σχολῶν', 'ἥδιστον', 'πτολεμαῖον', 'ὑπολαβὼν', 'ᾤοντο', 'πρεσβευτὰς', 'θεμιστοκλῆς', 'περικλῆς', 'ἔπεμψαν', 'φανερὸς', 'μηθὲν', 'παιδιᾶς', 'ἐπανῆλθεν', 'λυκοῦργος', 'ἄρατος', 'σῴζεσθαι', 'στρατῷ', 'ἀπολιπεῖν', 'ὁμαλῶς', 'δοκοῦντος', 'ὕπνους', 'ᾔτει', 'ναυσὶ', 'ὕβρει', 'ἰδεῶν', 'ὄψον', 'πρεσβευτὴν', 'ὥρμησε', 'ἤθει', 'σπαρτιατῶν', 'πρεσβευτῶν', 'κῦρον', 'σιωπῆς', 'στρατηγοῖς', 'ἄρατον', 'φρουρὰν', 'γαλατῶν', 'ἰουστινιανοῦ', 'θηβαῖοι', 'δωρεὰς', 'ἅγιε'], ['καῖσαρ', 'ἵστανται', 'σχολῶν', 'ἱππεῖς', 'ξὺν', 'βῆλον', 'νεῦμα', 'πρεσβευτὰς', 'σῶσον', 'ἰουστινιανοῦ', 'κηροὺς', 'πρεσβευτῶν', 'στρατῷ', 'σαρακηνῶν', 'ὕπατον', 'κωνσταντῖνος', 'μιχαὴλ', 'βροῦτος', 'πτολεμαῖον', 'ὑπολαβὼν', 'ἔπεμψαν', 'τελεῖται', 'ὕπατος', 'οὐθὲν', 'χαλκῆς', 'κεφ', 'ἀχαιοῖς', 'λιτῆς', 'πρεσβευτὴν', 'φρουρὰν', 'ἅγιε', 'προσκαλεῖται', 'τοῦρκοι', 'ἀπῄει', 'σπονδῶν', 'ἔπραττεν', 'ἄτταλον', 'κῦρον', 'ἥδιστον', 'σπαρτιατῶν', 'βροῦτον', 'προσκυνεῖ', 'περσεὺς', 'συγκλητικῶν', 'ἐπανῆλθεν', 'ᾤοντο', 'φοροῦντες', 'εὐμενὴς', 'ἀντωνῖνος', 'δελφοὺς'], ['καῖσαρ', 'ἵστανται', 'ἱππεῖς', 'σχολῶν', 'πρεσβευτὰς', 'βῆλον', 'βροῦτον', 'βροῦτος', 'οὐθὲν', 'ξὺν', 'θεμιστοκλῆς', 'ὑπολαβὼν', 'ἀχαιοῖς', 'σῶσον', 'κηροὺς', 'ἀπῄει', 'ὕπατον', 'ᾤοντο', 'ἐπιφανῶν', 'σπαρτιατῶν', 'λυκοῦργος', 'ὕπατος', 'φρουρὰν', 'στρατῷ', 'πτολεμαῖον', 'κομνηνὸς', 'στρατηγοῖς', 'ὥρμησε', 'ἰουστινιανοῦ', 'γαλατῶν', 'αἰτωλῶν', 'περικλῆς', 'ἔναγχος', 'πρεσβευτῶν', 'δοκοῦντος', 'σαρακηνῶν', 'θηβαῖοι', 'ἐπανελθὼν', 'ἔπεμψαν', 'εὐμενῆ', 'μηθὲν', 'πολεμικῶν', 'κῦρον', 'ἅγιε', 'ἤθει', 'περιορᾶν', 'ἥδιστον', 'σπονδῶν', 'ναυσὶ', 'ἔπραττεν']]\n",
      "\n",
      "Can you spot the misplaced word in each topic?\n",
      "0: καῖσαρ ἵστανται ἱππεῖς πρεσβευτὰς ἰδεῶν βῆλον ἔννοιαι σχολῶν ἰουστινιανὸς βροῦτος\n",
      "1: καῖσαρ ἵστανται ἔλαθε ἱππεῖς σχολῶν ξὺν βροῦτος πτολεμαῖον οἴκαδ ὕπατον\n",
      "2: καῖσαρ ἵστανται ἰσραὴλ πρεσβευτὰς ἱππεῖς σῶσον γραμματεῖς στρατῷ ὕπατος οὐθὲν\n",
      "3: καῖσαρ ἵστανται ἱππεῖς οὐθὲν βροῦτον βροῦτος σχολῶν ὕπατον περικλῆς αἰτιατικῇ\n",
      "4: καῖσαρ πολιτικὸς βῆλον πρεσβευτὰς σχολῶν ἱππεῖς ξὺν σῶσον ὕπατος βροῦτον\n",
      "5: καῖσαρ ἵστανται ἱππεῖς βῆλον πρεσβευτὰς οὐθὲν ὕπατον βροῦτος κηροὺς πολιτικῆς\n",
      "6: καῖσαρ ἵστανται σχολῶν δαυὶδ βῆλον ξὺν βροῦτον πρεσβευτὰς ὑπολαβὼν βροῦτος\n",
      "7: συχνοὺς ἵστανται ἱππεῖς οὐθὲν πρεσβευτὰς ὕπατον ξὺν βῆλον βροῦτος βροῦτον\n",
      "8: καῖσαρ ἵστανται πρεσβευτὰς ἀπολειφθεὶς βροῦτον βροῦτος σχολῶν ὕπατος βῆλον ξὺν\n",
      "9: ἵστανται καῖσαρ πρεσβευτὰς ἱππεῖς ὕπατον πεζῶν νεῦμα οὐθὲν σχολῶν σῶσον\n",
      "10: καταβαλὼν ἵστανται ξὺν πρεσβευτὰς σχολῶν ἱππεῖς βροῦτος φρουρὰν βῆλον μιχαὴλ\n",
      "11: ἵστανται καῖσαρ ἱππεῖς ὀρφεὺς ὕπατον σχολῶν κριτὴν πρεσβευτὰς ὕπατος βροῦτον\n",
      "12: καῖσαρ ἵστανται ἱππεῖς οὐθὲν ξὺν βροῦτος πρεσβευτὰς στρατηγοῖς σχολῶν βῆλον\n",
      "13: ἵστανται καῖσαρ σχολῶν πεζῶν πρεσβευτὰς ἀντιφῶν βῆλον κηροὺς νεῦμα βροῦτος\n",
      "14: καῖσαρ ἵστανται ἱππεῖς σχολῶν κῶλον βροῦτος ξὺν βροῦτον βῆλον ἀπῄει\n",
      "15: καῖσαρ ἵστανται ἱππεῖς ᾔτει ὕπατον βροῦτον πρεσβευτὰς οὐθὲν βῆλον ὕπατος\n",
      "16: καῖσαρ ἵστανται ἐθνικὸν πρεσβευτὰς οἴκαδ βῆλον ἱππεῖς σχολῶν περικλῆς ὕπατος\n",
      "17: καῖσαρ ἵστανται σχολῶν ἱππεῖς βῆλον ὕπατον βροῦτος θηβαῖοι ξὺν μιχαὴλ\n",
      "18: καῖσαρ ἵστανται πρεσβευτὰς σχολῶν ἱππεῖς κηροὺς αἰτωλῶν τελεῖται στρατῷ πρεσβευτῶν\n",
      "19: καῖσαρ ἵστανται ἱππεῖς σχολῶν πρεσβευτὰς ὑπολαβὼν οὐθὲν ᾔτει βῆλον ξὺν\n",
      "20: ἵστανται καῖσαρ πρεσβευτὰς αἰτωλῶν σχολῶν βροῦτον βῆλον οὐθὲν ὕπατον πρεσβευτῶν\n",
      "21: καῖσαρ ἵστανται ἱππεῖς ἐνδελεχῶς σχολῶν ὕπατον θεμιστοκλῆς πρεσβευτὰς ξὺν βροῦτον\n",
      "22: συμφορᾷ ἵστανται ἱππεῖς σχολῶν οὐθὲν ξὺν βροῦτος βῆλον βροῦτον ἀχαιοῖς\n",
      "23: καῖσαρ ἵστανται σχολῶν πρεσβευτὰς δοκοῦντος βῆλον βροῦτον ξὺν ὑπολαβὼν πτολεμαῖον\n",
      "24: καῖσαρ ἵστανται ἱππεῖς σχολῶν πρεσβευτὰς ξὺν λυδῶν ἄδωνις ὕπατος βῆλον\n",
      "25: καῖσαρ ἵστανται πρεσβευτὰς ὕπατον δωρεὰς ἱππεῖς βῆλον ξὺν νεῦμα οὐθὲν\n",
      "26: παῦλον ἵστανται ἄδωνις ἱππεῖς νιν ξὺν ἄδωνιν βροῦτος σχολῶν βῆλον\n",
      "27: καῖσαρ ἵστανται σχολῶν ἱππεῖς ξὺν πρεσβευτὰς κρατῆρα οὐθὲν ὕπατος πτολεμαῖον\n",
      "28: καῖσαρ ἵστανται βῆλον ἱππεῖς πρεσβευτὰς μυσῶν σχολῶν σῶσον ὕπατος ἀχαιοῖς\n",
      "29: καῖσαρ ἵστανται λιτῆς ὕπατος πρεσβευτὰς βῆλον βροῦτον βροῦτος ὕπατον φρουρὰν\n",
      "30: καῖσαρ ἵστανται ἱππεῖς συμφορᾷ βροῦτον βροῦτος οὐθὲν ὕπατον ὕπατος ἄρατος\n",
      "31: καῖσαρ ἵστανται ἱππεῖς περικλεῖ βῆλον ὕπατον σχολῶν θεμιστοκλῆς πρεσβευτὰς ἀχαιοῖς\n",
      "32: καῖσαρ ἱππεῖς ἵστανται εὐμενὴς οὐθὲν ἴφικλος ὑπολαβὼν βροῦτος ὕπατον πρεσβευτὰς\n",
      "33: καῖσαρ φαγὼν ἵστανται βῆλον σχολῶν ξὺν βροῦτον κηροὺς βροῦτος πτολεμαῖον\n",
      "34: ἵστανται καῖσαρ πρεσβευτὰς βῆλον σῶσον σχολῶν νεῦμα ἱππεῖς βροῦτος ἔπαρχος\n",
      "35: καῖσαρ ἱππεῖς ἵστανται παῦλον βροῦτον πρεσβευτῶν ὕπατον ὕπατος ἰσραὴλ οὐθὲν\n",
      "36: ἵστανται καῖσαρ ἱππεῖς δικαστὴν φθονερὸν βῆλον οὐθὲν νεῦμα ἀχαιοῖς κηροὺς\n",
      "37: καῖσαρ ἵστανται ἐθνικὸν δαυὶδ σχολῶν ἱππεῖς βῆλον ἕκτῃ ξὺν περικλῆς\n",
      "38: κελεῦσαι ἵστανται ἱππεῖς σχολῶν πρεσβευτὰς βῆλον ξὺν ὕπατος οὐθὲν τελεῖται\n",
      "39: ἵστανται καῖσαρ πρεσβευτὰς σχολῶν βῆλον σῶσον συμφορᾷ ἱππεῖς νεῦμα ξὺν\n",
      "40: καῖσαρ ἵστανται ἱππεῖς ἰουδαῖοι σχολῶν πτολεμαῖον ἡρῴδης βροῦτος σῴζεσθαι βροῦτον\n",
      "41: καῖσαρ ἵστανται ἱππεῖς πρεσβευτὰς ἔρωτες βῆλον βροῦτον σχολῶν ὕπατος λυκοῦργος\n",
      "42: καῖσαρ ἵστανται πρεσβευτὰς ἱππεῖς αἴθραν ὕπατος βροῦτον ἄδωνις βροῦτος πρεσβευτῶν\n",
      "43: καῖσαρ ἵστανται ἱππεῖς πρεσβευτὰς σχολῶν βῆλον ἰδεῶν ξὺν ὕπατον οἴκαδ\n",
      "44: καῖσαρ ἱππεῖς περσεὺς οὐθὲν βῆλον πρεσβευτὰς σχολῶν ὕπατον βροῦτος ὕπατος\n",
      "45: πολιτικῆς ἵστανται ἱππεῖς σχολῶν ξὺν πρεσβευτὰς βῆλον ὕπατος ὑπολαβὼν σῶσον\n",
      "46: αἴθραν ἵστανται ἱππεῖς πρεσβευτὰς βῆλον ἄδωνις σχολῶν οὐθὲν ἄδωνιν ὕπατον\n",
      "47: καῖσαρ ἵστανται ἱππεῖς βροῦτος οὐθὲν ἐθνικὸν βροῦτον ἀχαιοῖς ὕπατον σχολῶν\n",
      "48: καῖσαρ ἵστανται σχολῶν ἱππεῖς λυδῶν βῆλον νεῦμα πρεσβευτὰς σῶσον ἰουστινιανοῦ\n",
      "49: καῖσαρ ἵστανται ἱππεῖς σχολῶν εὐμενὴς βῆλον βροῦτον βροῦτος οὐθὲν ξὺν\n",
      "Actual replacements were:\n",
      "[(0, ('σῶσον', 'ἰουστινιανὸς')), (1, ('πρεσβευτὰς', 'ἔλαθε')), (2, ('σχολῶν', 'γραμματεῖς')), (3, ('πρεσβευτὰς', 'αἰτιατικῇ')), (4, ('ἵστανται', 'πολιτικὸς')), (5, ('σῶσον', 'πολιτικῆς')), (6, ('ἱππεῖς', 'δαυὶδ')), (7, ('καῖσαρ', 'συχνοὺς')), (8, ('ἱππεῖς', 'ἀπολειφθεὶς')), (9, ('βῆλον', 'πεζῶν')), (10, ('καῖσαρ', 'καταβαλὼν')), (11, ('βῆλον', 'ὀρφεὺς')), (12, ('βροῦτον', 'στρατηγοῖς')), (13, ('ἱππεῖς', 'πεζῶν')), (14, ('πρεσβευτὰς', 'κῶλον')), (15, ('βροῦτος', 'ᾔτει')), (16, ('ὕπατον', 'οἴκαδ')), (17, ('ἀχαιοῖς', 'θηβαῖοι')), (18, ('ἰουστινιανοῦ', 'αἰτωλῶν')), (19, ('βροῦτος', 'ᾔτει')), (20, ('ἱππεῖς', 'αἰτωλῶν')), (21, ('βροῦτος', 'ἐνδελεχῶς')), (22, ('καῖσαρ', 'συμφορᾷ')), (23, ('ἱππεῖς', 'δοκοῦντος')), (24, ('κηροὺς', 'λυδῶν')), (25, ('σχολῶν', 'δωρεὰς')), (26, ('καῖσαρ', 'παῦλον')), (27, ('βῆλον', 'κρατῆρα')), (28, ('ὕπατον', 'μυσῶν')), (29, ('ἱππεῖς', 'λιτῆς')), (30, ('βῆλον', 'συμφορᾷ')), (31, ('βροῦτος', 'περικλεῖ')), (32, ('κρατῆρα', 'εὐμενὴς')), (33, ('ἱππεῖς', 'φαγὼν')), (34, ('ξὺν', 'ἔπαρχος')), (35, ('κιθαιρὼν', 'πρεσβευτῶν')), (36, ('πρεσβευτὰς', 'δικαστὴν')), (37, ('πρεσβευτὰς', 'δαυὶδ')), (38, ('καῖσαρ', 'κελεῦσαι')), (39, ('ὕπατον', 'συμφορᾷ')), (40, ('πρεσβευτὰς', 'σῴζεσθαι')), (41, ('βροῦτος', 'ἔρωτες')), (42, ('σχολῶν', 'ἄδωνις')), (43, ('πτολεμαῖον', 'οἴκαδ')), (44, ('ἵστανται', 'περσεὺς')), (45, ('καῖσαρ', 'πολιτικῆς')), (46, ('καῖσαρ', 'αἴθραν')), (47, ('βῆλον', 'ἐθνικὸν')), (48, ('ξὺν', 'λυδῶν')), (49, ('πρεσβευτὰς', 'εὐμενὴς'))]\n",
      "\n",
      "Loading model: gensim_lda_model_tlg_numtopics55_numpasses1_nobelow20_noabove0.1_tokmin3_tokmax20_docmin50_deaccentFalse.model ...\n",
      "... for word intrusion testing ...\n"
     ]
    },
    {
     "name": "stdout",
     "output_type": "stream",
     "text": [
      "Top 50 words of each LDA model:\n"
     ]
    },
    {
     "name": "stderr",
     "output_type": "stream",
     "text": [
      "INFO : loading LdaMulticore object from /home/kyle/cltk_data/user_data/lda_tlg/gensim_lda_model_tlg_numtopics100_numpasses1_nobelow20_noabove0.1_tokmin3_tokmax20_docmin50_deaccentFalse.model\n",
      "INFO : loading expElogbeta from /home/kyle/cltk_data/user_data/lda_tlg/gensim_lda_model_tlg_numtopics100_numpasses1_nobelow20_noabove0.1_tokmin3_tokmax20_docmin50_deaccentFalse.model.expElogbeta.npy with mmap=None\n",
      "INFO : setting ignored attribute state to None\n",
      "INFO : setting ignored attribute id2word to None\n",
      "INFO : setting ignored attribute dispatcher to None\n",
      "INFO : loaded /home/kyle/cltk_data/user_data/lda_tlg/gensim_lda_model_tlg_numtopics100_numpasses1_nobelow20_noabove0.1_tokmin3_tokmax20_docmin50_deaccentFalse.model\n",
      "INFO : loading LdaMulticore object from /home/kyle/cltk_data/user_data/lda_tlg/gensim_lda_model_tlg_numtopics100_numpasses1_nobelow20_noabove0.1_tokmin3_tokmax20_docmin50_deaccentFalse.model.state\n"
     ]
    },
    {
     "name": "stdout",
     "output_type": "stream",
     "text": [
      "[['καῖσαρ', 'ἵστανται', 'ἱππεῖς', 'σχολῶν', 'βροῦτος', 'μυσῶν', 'οὐθὲν', 'καθολικῆς', 'φῄς', 'αὐτοῖσιν', 'βῆλον', 'ἰουδαῖοι', 'φρουρὰν', 'ὕπατος', 'πρεσβευτὰς', 'σαοὺλ', 'βροῦτον', 'ὕπατον', 'θεμιστοκλῆς', 'σαμουὴλ', 'ὑπολαβὼν', 'ξὺν', 'ἰδεῶν', 'ἀχαιοῖς', 'χριστιανοὺς', 'ἀπῄει', 'ἔννοιαι', 'νεῦμα', 'χριστιανὸς', 'σπαρτιατῶν', 'ἰησοῦν', 'ἥδιστον', 'ἀναγαγεῖν', 'ἔπραττεν', 'ἀντωνῖνος', 'σῶσον', 'κηροὺς', 'ἵππαρχος', 'θῦσαι', 'στρατῷ', 'ἔπεμψαν', 'πτολεμαῖον', 'μιχαὴλ', 'κωνσταντῖνος', 'οἴδατε', 'σπονδῶν', 'ᾤοντο', 'περικλῆς', 'ἤθει', 'δελφοὺς'], ['καῖσαρ', 'ἵστανται', 'ἱππεῖς', 'πρεσβευτὰς', 'σχολῶν', 'ξὺν', 'ὕπατον', 'βῆλον', 'βροῦτον', 'βροῦτος', 'ὑπολαβὼν', 'φρουρὰν', 'ὕπατος', 'πτολεμαῖον', 'οὐθὲν', 'θεμιστοκλῆς', 'μιχαὴλ', 'ἀχαιοῖς', 'ἀπῄει', 'σῶσον', 'τελεῖται', 'σπαρτιατῶν', 'λυκοῦργος', 'πρεσβευτῶν', 'ᾤοντο', 'ἥδιστον', 'νεῦμα', 'κηροὺς', 'ἔπεμψαν', 'περιορᾶν', 'κομνηνὸς', 'ἰσραὴλ', 'περικλῆς', 'ἄρατος', 'ἰουστινιανοῦ', 'παρακαλεῖν', 'εὐμενῆ', 'ἐπιφανῶν', 'κῦρον', 'διαφυγεῖν', 'ἐπανῆλθεν', 'ἀχαιοὺς', 'στρατῷ', 'τοῦρκοι', 'ὥρμησε', 'δεξιῷ', 'περσεὺς', 'εὐμενὴς', 'αἰτωλῶν', 'σαρακηνῶν'], ['καῖσαρ', 'ἵστανται', 'πρεσβευτὰς', 'βῆλον', 'σχολῶν', 'ἱππεῖς', 'ξὺν', 'σῶσον', 'πρεσβευτῶν', 'πτολεμαῖον', 'οὐθὲν', 'ὕπατος', 'ἰουστινιανοῦ', 'νεῦμα', 'ἀντωνῖνος', 'σαρακηνῶν', 'ὕπατον', 'κεφ', 'αἰτωλῶν', 'τελεῖται', 'ἅγιε', 'κηροὺς', 'σπονδῶν', 'βροῦτον', 'στρατῷ', 'φοροῦντες', 'ᾤοντο', 'πρεσβευτὴν', 'μιχαὴλ', 'ἰουστινιανὸς', 'ἐπανῆλθεν', 'ἀχαιοὺς', 'περικλῆς', 'λιτῆς', 'κωνσταντῖνος', 'βροῦτος', 'προσκαλεῖται', 'ἐπιτελεῖται', 'ἀχαιοῖς', 'φρουρὰν', 'μηθὲν', 'ἔπεμψαν', 'ὑπολαβὼν', 'ἔπαρχος', 'χαλκῆς', 'δοχῆς', 'ἔπεμπε', 'ἔπραττεν', 'ἐπανελθὼν', 'περσεὺς'], ['καῖσαρ', 'ἵστανται', 'ἱππεῖς', 'βῆλον', 'πρεσβευτὰς', 'σχολῶν', 'κηροὺς', 'οὐθὲν', 'ὑπολαβὼν', 'βροῦτος', 'βροῦτον', 'ὕπατον', 'φρουρὰν', 'ἰουστινιανοῦ', 'θεμιστοκλῆς', 'σῶσον', 'αἰτωλῶν', 'ἀχαιοῖς', 'πρεσβευτῶν', 'ἔπραττεν', 'ἄρατος', 'ξὺν', 'ἥδιστον', 'ἔπεμψαν', 'ὕπατος', 'τελεῖται', 'λυκοῦργος', 'ᾤοντο', 'πτολεμαῖον', 'πρεσβευτὴν', 'νεῦμα', 'ἀχαιοὺς', 'στρατῷ', 'στρατηγοῖς', 'σπαρτιατῶν', 'ὥρμησε', 'κωνσταντῖνος', 'ἰδεῶν', 'ἐπανῆλθεν', 'ἅγιε', 'κῦρον', 'σπονδῶν', 'περικλῆς', 'ὕπνους', 'ὕπατοι', 'ᾔτει', 'ἐπιφανῶν', 'δοκοῦντος', 'μηθὲν', 'παιδιᾶς'], ['καῖσαρ', 'ἵστανται', 'ἱππεῖς', 'πρεσβευτὰς', 'ξὺν', 'σχολῶν', 'βῆλον', 'ὕπατος', 'βροῦτον', 'ὕπατον', 'βροῦτος', 'οὐθὲν', 'θεμιστοκλῆς', 'πτολεμαῖον', 'ἀχαιοῖς', 'ἥδιστον', 'σῶσον', 'ἀπῄει', 'ἔπεμψαν', 'φρουρὰν', 'θηβαῖοι', 'στρατῷ', 'πρεσβευτῶν', 'περικλῆς', 'κηροὺς', 'πρεσβευτὴν', 'κατεῖχε', 'ὑπολαβὼν', 'ναυσὶ', 'ἅπασαι', 'ἔπεμπε', 'κῦρον', 'ἅγιε', 'ἄρατος', 'αἰτωλῶν', 'νεῦμα', 'ὥρμησε', 'τελεῖται', 'λυκοῦργος', 'σπαρτιατῶν', 'θῦσαι', 'ᾤοντο', 'ἐπιφανῶν', 'ἐπανῆλθεν', 'σπονδῶν', 'ἀχαιοὺς', 'κωνσταντῖνος', 'εὐμενῆ', 'αἴνιγμα', 'ἰδεῶν'], ['καῖσαρ', 'ἵστανται', 'ἱππεῖς', 'βροῦτος', 'βροῦτον', 'σχολῶν', 'ὕπατον', 'πρεσβευτὰς', 'ὕπατος', 'πτολεμαῖον', 'οὐθὲν', 'βῆλον', 'σῶσον', 'ἄρατος', 'ξὺν', 'σπαρτιατῶν', 'ὑπολαβὼν', 'νεῦμα', 'ἰουστινιανοῦ', 'φρουρὰν', 'θεμιστοκλῆς', 'λυκοῦργος', 'σαρακηνῶν', 'περικλῆς', 'κηροὺς', 'ἥδιστον', 'πρεσβευτῶν', 'ἐπανῆλθεν', 'δημαγωγῶν', 'παρακαλεῖν', 'ἅγιε', 'ἀχαιοῖς', 'ᾤοντο', 'ὕπνους', 'κῦρον', 'γαλατῶν', 'εὐμενὴς', 'ἀπῄει', 'ἔπραττεν', 'κεφ', 'αἰτωλῶν', 'ὥρμησε', 'στρατῷ', 'ἀντωνῖνος', 'ἐπανελθὼν', 'ἀχαιοὺς', 'παιδιᾶς', 'διελθὼν', 'δωρεὰς', 'ἔλαθε'], ['καῖσαρ', 'ἱππεῖς', 'ἵστανται', 'βροῦτος', 'οὐθὲν', 'βροῦτον', 'θεμιστοκλῆς', 'πρεσβευτὰς', 'ὕπατον', 'ὕπατος', 'δοκοῦντος', 'ὑπολαβὼν', 'ἄρατος', 'λυκοῦργος', 'βῆλον', 'παιδιᾶς', 'ἥδιστον', 'σχολῶν', 'φρουρὰν', 'ἰδεῶν', 'εὐμενῆ', 'περικλῆς', 'σπαρτιατῶν', 'σῴζεσθαι', 'σῴζειν', 'δημαγωγῶν', 'πτολεμαῖον', 'ἀχαιοῖς', 'ὁμαλῶς', 'μηθὲν', 'σιωπῆς', 'ναυσὶ', 'στρατηγοῖς', 'ὥρμησε', 'δελφοὺς', 'αἰτωλῶν', 'ἐμπεδοκλῆς', 'θηβαῖοι', 'φανερὸς', 'ᾤοντο', 'κῦρον', 'ἀπῄει', 'διαφυγεῖν', 'ἐπιφανῶν', 'ἀχαιοὺς', 'πρᾴως', 'ἀπολιπεῖν', 'ἔπραττεν', 'δραχμὰς', 'ἡγοῦντο'], ['καῖσαρ', 'ἵστανται', 'ἱππεῖς', 'πρεσβευτὰς', 'σχολῶν', 'βῆλον', 'βροῦτος', 'οὐθὲν', 'ὕπατον', 'ἔπεμψαν', 'ἰσραὴλ', 'ὑπολαβὼν', 'βροῦτον', 'κηροὺς', 'πτολεμαῖον', 'ξὺν', 'σῶσον', 'σπαρτιατῶν', 'στρατῷ', 'ἤθει', 'φρουρὰν', 'ἀχαιοῖς', 'θεμιστοκλῆς', 'ὕπατος', 'ἀπολιπεῖν', 'μηθὲν', 'τελεῖται', 'νεῦμα', 'παιδιᾶς', 'ἀχαιοὺς', 'δαυὶδ', 'εὐμενῆ', 'ᾤοντο', 'ἔπραττεν', 'πρεσβευτὴν', 'ἐπανῆλθεν', 'πρεσβευτῶν', 'ἀπῄει', 'ἔναγχος', 'κατεῖχε', 'γαλατῶν', 'ἐπιφανῶν', 'ἥδιστον', 'περικλῆς', 'ὕπνους', 'ναυσὶ', 'ἄρατος', 'ἰουστινιανὸς', 'δελφοὺς', 'ἀντωνῖνος'], ['ἵστανται', 'καῖσαρ', 'αἴθραν', 'ἱππεῖς', 'κρατῆρα', 'ἴφικλος', 'πρεσβευτὰς', 'σχολῶν', 'βῆλον', 'ὀστῶν', 'ὀρφεὺς', 'ὕπατον', 'πτολεμαῖον', 'βροῦτος', 'ὕπατος', 'ᾤοντο', 'σῶσον', 'ἰσραὴλ', 'δαυὶδ', 'καταβαλὼν', 'πρεσβευτῶν', 'ἀχαιοῖς', 'οὐθὲν', 'ἔπεμψαν', 'λυδῶν', 'βροῦτον', 'στρατηγοῖς', 'ἄρατος', 'στρατῷ', 'φανερὸς', 'κηροὺς', 'ἰουστινιανοῦ', 'σπαρτιατῶν', 'ξὺν', 'περικλῆς', 'πρεσβευτὴν', 'ᾔδεσαν', 'στρατειῶν', 'νεῦμα', 'φυλακὴ', 'ὑπολαβὼν', 'γαλατῶν', 'φρουρὰν', 'θεμιστοκλῆς', 'ἀχαιοὺς', 'περσεὺς', 'αἰτωλῶν', 'κῦρον', 'σπονδῶν', 'ἀντεῖχον'], ['ἵστανται', 'καῖσαρ', 'βῆλον', 'σχολῶν', 'πρεσβευτὰς', 'σῶσον', 'ἱππεῖς', 'κηροὺς', 'νεῦμα', 'φρουρὰν', 'ὕπατον', 'ἀχαιοῖς', 'στρατῷ', 'πρεσβευτῶν', 'οὐθὲν', 'ἰουστινιανοῦ', 'βροῦτος', 'ἔπεμψαν', 'βροῦτον', 'γαλατῶν', 'ἀντωνῖνος', 'ὕπατος', 'ἀχαιοὺς', 'κωνσταντῖνος', 'πτολεμαῖον', 'τελεῖται', 'ξὺν', 'σπαρτιατῶν', 'αἰτωλῶν', 'κεφ', 'ἅγιε', 'φοροῦντες', 'δοχῆς', 'ἐπιφανῶν', 'παρακαλεῖν', 'ἔπραττεν', 'ὑπολαβὼν', 'ἰουστινιανὸς', 'θεμιστοκλῆς', 'ᾔτει', 'περικλῆς', 'χαλκῆς', 'λιτῆς', 'σπονδῶν', 'ἔπεμπε', 'περσεὺς', 'κῦρον', 'ἐπανῆλθεν', 'διελθὼν', 'ᾤοντο'], ['καῖσαρ', 'ἵστανται', 'σχολῶν', 'ἱππεῖς', 'πρεσβευτὰς', 'ἰδεῶν', 'βῆλον', 'σῶσον', 'ὕπατον', 'βροῦτον', 'κηροὺς', 'βροῦτος', 'ἀχαιοῖς', 'ἔννοιαι', 'ὕπατος', 'ἰουστινιανοῦ', 'ὑπολαβὼν', 'λυκοῦργος', 'στρατῷ', 'πρεσβευτῶν', 'γαλατῶν', 'νεῦμα', 'ἔπραττεν', 'σπονδῶν', 'ἐπιφανῶν', 'τελεῖται', 'ξὺν', 'ᾤοντο', 'ἥδιστον', 'πτολεμαῖον', 'περικλῆς', 'ἔπεμψαν', 'αἰτωλῶν', 'οὐθὲν', 'ἀχαιοὺς', 'κῶλον', 'φρουρὰν', 'σπαρτιατῶν', 'κῦρον', 'περιβολὴν', 'κῶλα', 'στρατηγοῖς', 'ἄρατον', 'περσεὺς', 'μηθὲν', 'ἐπανῆλθεν', 'πολιτικὸν', 'πρεσβευτὴν', 'βασιλικοὶ', 'πολιτικῆς'], ['καῖσαρ', 'ἱππεῖς', 'ἵστανται', 'ξὺν', 'βῆλον', 'ἀπῄει', 'σχολῶν', 'οὐθὲν', 'ὕπατον', 'ὕπατος', 'ᾤοντο', 'βροῦτος', 'ὑπολαβὼν', 'ἔπεμψαν', 'θεμιστοκλῆς', 'ἀχαιοῖς', 'πτολεμαῖον', 'περικλῆς', 'ἀχαιοὺς', 'ἄρατος', 'στρατῷ', 'πρεσβευτὰς', 'μηθὲν', 'λυκοῦργος', 'παιδιᾶς', 'βροῦτον', 'σιωπῆς', 'στρατηγοῖς', 'πρεσβευτῶν', 'ἐμπεδοκλῆς', 'σπαρτιατῶν', 'ὕπνους', 'σαρακηνῶν', 'ὥρμησαν', 'ἐπιφανῶν', 'κωνσταντῖνος', 'φρουρὰν', 'ᾔτει', 'περιορᾶν', 'γαλατῶν', 'ἀντωνῖνος', 'μεταβολαῖς', 'ἐπανῆλθεν', 'ἥδιστον', 'εὐμενῆ', 'ἤθει', 'μιχαὴλ', 'κῦρον', 'ἐπανελθὼν', 'δελφοὺς'], ['καῖσαρ', 'ἵστανται', 'ἱππεῖς', 'βῆλον', 'ξὺν', 'σχολῶν', 'ὕπατος', 'πρεσβευτὰς', 'βροῦτος', 'βροῦτον', 'ὕπατον', 'οὐθὲν', 'ἰουστινιανοῦ', 'στρατῷ', 'σπονδῶν', 'πτολεμαῖον', 'τελεῖται', 'κηροὺς', 'περσεὺς', 'ἀχαιοῖς', 'αἰτωλῶν', 'νεῦμα', 'σῶσον', 'ᾔτει', 'φρουρὰν', 'ἐπιφανῶν', 'ἔπραττεν', 'ἄρατος', 'ἀντωνῖνος', 'λυκοῦργος', 'βοῆς', 'κῦρον', 'ἥδιστον', 'κωνσταντῖνος', 'ἔπεμψαν', 'πρεσβευτὴν', 'κεφ', 'ἀπῄει', 'παιδιᾶς', 'ὑπολαβὼν', 'ᾤοντο', 'ὕπατοι', 'πρεσβευτῶν', 'περικλῆς', 'ἀφειδῶς', 'σῴζειν', 'γαλατῶν', 'σαρακηνῶν', 'σιωπῆς', 'μηθὲν'], ['καῖσαρ', 'ἵστανται', 'πρεσβευτὰς', 'ξὺν', 'βῆλον', 'οὐθὲν', 'ἱππεῖς', 'ὕπατον', 'σχολῶν', 'βροῦτον', 'ὕπατος', 'νεῦμα', 'πτολεμαῖον', 'βροῦτος', 'θεμιστοκλῆς', 'φρουρὰν', 'ἀχαιοῖς', 'ναυσὶ', 'σῶσον', 'ἰουστινιανοῦ', 'πρεσβευτῶν', 'ἀπῄει', 'ἄρατος', 'περικλῆς', 'λυκοῦργος', 'ἔπεμψαν', 'κηροὺς', 'σπονδῶν', 'γαλατῶν', 'μηθὲν', 'στρατῷ', 'σπαρτιατῶν', 'ἐπανῆλθεν', 'κῦρον', 'ἀπολιπεῖν', 'ὁμαλῶς', 'ἥδιστον', 'κατεῖχε', 'φανερὸς', 'εὐμενῆ', 'ἀχαιοὺς', 'ὑπολαβὼν', 'ἰδεῶν', 'ᾤοντο', 'τελεῖται', 'πρεσβευτὴν', 'περσεὺς', 'βοῆς', 'κωνσταντῖνος', 'ὥρμησε'], ['καῖσαρ', 'ἵστανται', 'ἱππεῖς', 'ξὺν', 'σχολῶν', 'κομνηνὸς', 'ἀπῄει', 'βροῦτος', 'βροῦτον', 'πρεσβευτὰς', 'μιχαὴλ', 'θεμιστοκλῆς', 'βῆλον', 'ἀχαιοῖς', 'σῶσον', 'τοῦρκοι', 'παῦλον', 'οὐθὲν', 'κηροὺς', 'φρουρὰν', 'σπονδῶν', 'ὕπατον', 'κῦρον', 'ὑπολαβὼν', 'ἔπεμψαν', 'πρεσβευτῶν', 'ἰουστινιανοῦ', 'ἔπραττεν', 'περικλῆς', 'ἄρατος', 'ἐπανῆλθεν', 'ἅγιε', 'προσκαλεῖται', 'εὐμενῆ', 'κρατοῦντα', 'ᾤοντο', 'πτολεμαῖον', 'ᾔτει', 'αἰτωλῶν', 'δοκοῦντος', 'μηθὲν', 'λυκοῦργος', 'σαρακηνῶν', 'στρατῷ', 'θηβαῖοι', 'ναυσὶ', 'παρακαλεῖν', 'παιδιᾶς', 'εὐμενὴς', 'ἥδιστον'], ['ἵστανται', 'καῖσαρ', 'πρεσβευτὰς', 'σχολῶν', 'βῆλον', 'ἱππεῖς', 'ξὺν', 'σῶσον', 'οὐθὲν', 'νεῦμα', 'ὕπατος', 'βροῦτον', 'πτολεμαῖον', 'ὕπατον', 'ἀχαιοῖς', 'φρουρὰν', 'κηροὺς', 'φοροῦντες', 'βροῦτος', 'αἰτωλῶν', 'θεμιστοκλῆς', 'στρατῷ', 'κεφ', 'χαλκῆς', 'σαρακηνῶν', 'ἰουστινιανοῦ', 'ἀργυροῦν', 'ἀπῄει', 'σπονδῶν', 'πρεσβευτῶν', 'ὑπολαβὼν', 'ἀχαιοὺς', 'ἔπεμψαν', 'πρεσβευτὴν', 'εἴθισται', 'ὕπνους', 'μιχαὴλ', 'ἄρατον', 'ἅγιε', 'ᾤοντο', 'ἅγια', 'κωνσταντῖνος', 'εὐμενῆ', 'ἔφασκε', 'ἄτταλον', 'ᾔτει', 'ἰουστινιανὸς', 'γαλατῶν', 'ἔναγχος', 'μηθὲν'], ['καῖσαρ', 'ἵστανται', 'ἱππεῖς', 'οὐθὲν', 'βροῦτος', 'ὕπατον', 'σχολῶν', 'ᾤοντο', 'βροῦτον', 'ξὺν', 'πρεσβευτὰς', 'ἔννοιαι', 'ὕπατος', 'ἀπῄει', 'παιδιᾶς', 'ἥδιστον', 'ἄρατος', 'πτολεμαῖον', 'θεμιστοκλῆς', 'ἔπραττεν', 'περικλῆς', 'ὑπολαβὼν', 'λυκοῦργος', 'ναυσὶ', 'στρατηγοῖς', 'βῆλον', 'διαφυγεῖν', 'περιορᾶν', 'σῴζεσθαι', 'ὥρμησε', 'κῶλα', 'ἀχαιοῖς', 'ἀχαιοὺς', 'σπαρτιατῶν', 'νεῦμα', 'παρακαλεῖν', 'στρατῷ', 'σῴζειν', 'ἤθει', 'ἔπεμψαν', 'δημαγωγῶν', 'εὐμενὴς', 'πολιτικὸς', 'δοκοῦντος', 'ἰδεῶν', 'σπαρτιᾶται', 'ὕβρει', 'ὁμαλῶς', 'ὕπνους', 'γαλατῶν'], ['καῖσαρ', 'ἵστανται', 'ἱππεῖς', 'ξὺν', 'πρεσβευτὰς', 'σχολῶν', 'βῆλον', 'πτολεμαῖον', 'ὕπατον', 'ὕπατος', 'βροῦτος', 'ἀπῄει', 'ἀντωνῖνος', 'ἀχαιοῖς', 'νεῦμα', 'πρεσβευτῶν', 'φρουρὰν', 'οὐθὲν', 'σπονδῶν', 'τοῦρκοι', 'περικλῆς', 'μιχαὴλ', 'τελεῖται', 'ἰουστινιανοῦ', 'σῶσον', 'κηροὺς', 'κωνσταντῖνος', 'λιτῆς', 'ὑπολαβὼν', 'στρατῷ', 'ἅγιε', 'παῦλον', 'αἰτωλῶν', 'σαρακηνῶν', 'στρατηγοῖς', 'ἔπαρχος', 'δαυὶδ', 'κῦρον', 'ᾤοντο', 'κομνηνὸς', 'παρακαλεῖν', 'ἔπεμψαν', 'ᾔτει', 'σπαρτιατῶν', 'βροῦτον', 'ἔπραττεν', 'ἄρατος', 'ἰσραὴλ', 'ἐπανῆλθεν', 'ἱππικὸν'], ['καῖσαρ', 'ἵστανται', 'σχολῶν', 'ἱππεῖς', 'ἔννοιαι', 'ἰδεῶν', 'κῶλα', 'βῆλον', 'ξὺν', 'οὐθὲν', 'ὕπατον', 'βροῦτον', 'θεμιστοκλῆς', 'νεῦμα', 'βροῦτος', 'ὕπατος', 'πρεσβευτὰς', 'σῶσον', 'κηροὺς', 'ἔπεμψαν', 'φρουρὰν', 'πτολεμαῖον', 'περιβολὴν', 'περιβολῆς', 'κῶλον', 'ἀντωνῖνος', 'στρατῷ', 'κῦρον', 'γαλατῶν', 'ἅγιε', 'ἀπῄει', 'ἄρατος', 'ἰουστινιανοῦ', 'κωνσταντῖνος', 'τεχνικὸς', 'μιχαὴλ', 'ἀχαιοῖς', 'πολιτικῆς', 'περικλῆς', 'σπονδῶν', 'ἀχαιοὺς', 'πρεσβευτὴν', 'ὑπολαβὼν', 'ἤθει', 'σπαρτιατῶν', 'ᾤοντο', 'λυκοῦργος', 'πολιτικὸν', 'ἄρατον', 'δοκοῦντος'], ['καῖσαρ', 'ἵστανται', 'βῆλον', 'ἀντιφῶν', 'ἀντιφῶντος', 'ἱππεῖς', 'πρεσβευτὰς', 'ὕπατον', 'ξὺν', 'σχολῶν', 'σῶσον', 'ἀντωνῖνος', 'νεῦμα', 'ἰουστινιανοῦ', 'κηροὺς', 'βροῦτος', 'οὐθὲν', 'πτολεμαῖον', 'ἀχαιοῖς', 'παῦλον', 'ἔπεμψαν', 'τελεῖται', 'ἔπραττεν', 'ὕπατος', 'φρουρὰν', 'πρεσβευτῶν', 'ᾤοντο', 'εὐμενὴς', 'ἔπαρχος', 'μιχαὴλ', 'ἀχαιοὺς', 'κεφ', 'στρατῷ', 'σπονδῶν', 'θεμιστοκλῆς', 'περσεὺς', 'κωνσταντῖνος', 'βροῦτον', 'ἥδεσθαι', 'περικλῆς', 'γαλατῶν', 'ἀφειδῶς', 'αἰτωλῶν', 'δελφοὺς', 'πρεσβευτὴν', 'ἐπανῆλθεν', 'σαρακηνῶν', 'ἄρατος', 'ρων', 'ἐπιφανῶν'], ['ἵστανται', 'καῖσαρ', 'ἱππεῖς', 'σχολῶν', 'πρεσβευτὰς', 'βῆλον', 'στρατῷ', 'ξὺν', 'ὕπατος', 'βροῦτος', 'ὕπατον', 'ἀχαιοῖς', 'σῶσον', 'νεῦμα', 'πρεσβευτῶν', 'τελεῖται', 'ἰουστινιανοῦ', 'ἀντωνῖνος', 'ἄρατος', 'ᾤοντο', 'ὑπολαβὼν', 'βροῦτον', 'οὐθὲν', 'πτολεμαῖον', 'ἰσραὴλ', 'περιορᾶν', 'φρουρὰν', 'περικλῆς', 'γαλατῶν', 'ἰουστινιανὸς', 'ἀπολιπεῖν', 'σαρακηνῶν', 'ἤθει', 'ἔναγχος', 'ἔπεμψαν', 'παιδιᾶς', 'κῦρον', 'πρεσβευτὴν', 'αἰτωλῶν', 'παρακαλεῖν', 'φανερὸς', 'ἔπραττεν', 'φοροῦντες', 'εὐμενῆ', 'ὕπνους', 'κηροὺς', 'ἄτταλον', 'ἐπιφανῶν', 'ἅγιε', 'σπονδῶν'], ['καῖσαρ', 'ἵστανται', 'ἱππεῖς', 'βροῦτος', 'πρεσβευτὰς', 'αἰτιατικῇ', 'βροῦτον', 'σχολῶν', 'φρουρὰν', 'ὕπατον', 'θεμιστοκλῆς', 'ὑπολαβὼν', 'οὐθὲν', 'σῶσον', 'βῆλον', 'ὕπατος', 'ἀττικοὶ', 'παθητικῶς', 'ἔπεμψαν', 'ἰδεῶν', 'ξὺν', 'περικλῆς', 'νεῦμα', 'ὥρμησε', 'ἀχαιοῖς', 'πτολεμαῖον', 'πρεσβευτῶν', 'ᾤοντο', 'κηροὺς', 'ἐνεργητικῶς', 'ἄρατος', 'ὄψον', 'προῆλθε', 'γενικῇ', 'λυκοῦργος', 'μηθὲν', 'ἀντωνῖνος', 'συγκλητικῶν', 'μιχαὴλ', 'εὐμενὴς', 'ἀχαιοὺς', 'περιορᾶν', 'παιδιᾶς', 'ᾔτει', 'κῦρον', 'σπαρτιατῶν', 'πολιτικῆς', 'κῶλα', 'διελθὼν', 'σῴζειν'], ['καῖσαρ', 'ἱππεῖς', 'ἵστανται', 'βροῦτος', 'πρεσβευτὰς', 'βροῦτον', 'σχολῶν', 'ἥδιστον', 'ἔννοιαι', 'θεμιστοκλῆς', 'ἰδεῶν', 'ἀχαιοῖς', 'δοκοῦντος', 'βῆλον', 'ὑπολαβὼν', 'στρατηγοῖς', 'κῶλον', 'ἔπεμψαν', 'τεχνικὸς', 'ὕπατον', 'κῶλα', 'λυκοῦργος', 'περικλῆς', 'κηροὺς', 'ἐπιφανῶν', 'σῶσον', 'ᾤοντο', 'σῴζεσθαι', 'φρουρὰν', 'ξὺν', 'ἀντωνῖνος', 'νεῦμα', 'ἰουστινιανοῦ', 'περιβολῆς', 'τελεῖται', 'πεζοὺς', 'γαλατῶν', 'ἄρατος', 'στρατῷ', 'πολιτικὸς', 'πτολεμαῖον', 'παιδιᾶς', 'οὐθὲν', 'πολιτικὸν', 'ἀχαιοὺς', 'ἀπῄει', 'κῦρον', 'ὕπατος', 'περιβολὴν', 'ἀπολιπεῖν'], ['ἵστανται', 'καῖσαρ', 'πρεσβευτὰς', 'ξὺν', 'σχολῶν', 'βῆλον', 'ἱππεῖς', 'κιθαιρὼν', 'σῶσον', 'νεῦμα', 'ὕπατον', 'ἰουστινιανοῦ', 'πρεσβευτῶν', 'πτολεμαῖον', 'κηροὺς', 'κωνσταντῖνος', 'μιχαὴλ', 'ἀντωνῖνος', 'σαρακηνῶν', 'ἀπῄει', 'τελεῖται', 'στρατῷ', 'ὕπατος', 'ἔπεμψαν', 'βροῦτον', 'σπονδῶν', 'λιτῆς', 'ἀχαιοῖς', 'βροῦτος', 'ὑπολαβὼν', 'γαλατῶν', 'φρουρὰν', 'ᾔτει', 'ἔπεσε', 'ἔγημε', 'οὐθὲν', 'ἄρατος', 'περικλῆς', 'ἔναγχος', 'ᾤοντο', 'ἀχαιοὺς', 'τοῦρκοι', 'ἔπραττεν', 'χαλκῆς', 'εἴθισται', 'ἥδιστον', 'κομνηνὸς', 'ἄτταλον', 'ἰουστινιανὸς', 'κῦρον'], ['καῖσαρ', 'ἵστανται', 'πρεσβευτὰς', 'σχολῶν', 'ὕπατον', 'βῆλον', 'νεῦμα', 'ἱππεῖς', 'πρεσβευτῶν', 'στρατῷ', 'σῶσον', 'ὕπατος', 'ξὺν', 'βροῦτον', 'πτολεμαῖον', 'ἀχαιοῖς', 'ἀντωνῖνος', 'φρουρὰν', 'ἰουστινιανοῦ', 'κηροὺς', 'σπαρτιατῶν', 'ᾤοντο', 'θεμιστοκλῆς', 'πρεσβευτὴν', 'ὑπολαβὼν', 'ἔπεμψαν', 'οὐθὲν', 'σπονδῶν', 'βροῦτος', 'κωνσταντῖνος', 'κῦρον', 'αἰτωλῶν', 'περικλῆς', 'τελεῖται', 'ἔπραττεν', 'περσεὺς', 'ὕπατοι', 'ἀχαιοὺς', 'δεξιῷ', 'ἰουστινιανὸς', 'ἥδιστον', 'εἴθισται', 'ἄρατον', 'ἀπῄει', 'φοροῦντες', 'ἐπιφανῶν', 'δωρεὰς', 'μαξιμῖνος', 'ἔπαρχος', 'περιορᾶν'], ['καῖσαρ', 'ἵστανται', 'ἱππεῖς', 'σχολῶν', 'βῆλον', 'βροῦτος', 'πρεσβευτὰς', 'πρεσβευτῶν', 'βροῦτον', 'οὐθὲν', 'νεῦμα', 'ξὺν', 'ἰδεῶν', 'ἰουστινιανοῦ', 'ὕπατος', 'πτολεμαῖον', 'ἔννοιαι', 'ὑπολαβὼν', 'ὕπατον', 'ἔπεμψαν', 'ἀχαιοὺς', 'μιχαὴλ', 'θεμιστοκλῆς', 'σῶσον', 'ἀχαιοῖς', 'τοῦρκοι', 'ἀντωνῖνος', 'ἀπῄει', 'στρατῷ', 'παρακαλεῖν', 'ἄρατος', 'κηροὺς', 'μηθὲν', 'πρεσβευτὴν', 'φοροῦντες', 'περσεὺς', 'δωρεὰς', 'ἥδιστον', 'περικλῆς', 'ἀπολιπεῖν', 'τελεῖται', 'κῦρον', 'ἄρατον', 'ἐπανῆλθεν', 'ἅγιε', 'λιτῆς', 'περιβολῆς', 'σπονδῶν', 'γαλατῶν', 'ἔπεμπε'], ['καῖσαρ', 'ἵστανται', 'ἄδωνις', 'νιν', 'ἱππεῖς', 'ἄδωνιν', 'πρεσβευτὰς', 'βῆλον', 'αἰαῖ', 'ἔρωτες', 'ξὺν', 'οὐθὲν', 'βροῦτος', 'βροῦτον', 'ὕπατον', 'ἀχαιοῖς', 'νεῦμα', 'ἄρατος', 'ὑπολαβὼν', 'ἰδεῶν', 'σχολῶν', 'ἀπῄει', 'περικλῆς', 'κηροὺς', 'πτολεμαῖον', 'ἥδιστον', 'πρεσβευτῶν', 'ὕπατος', 'σαρακηνῶν', 'θεμιστοκλῆς', 'ἅγιε', 'τᾶς', 'ἀντωνῖνος', 'κεφ', 'ἐπανῆλθεν', 'στρατηγοῖς', 'ἤθει', 'κῦρον', 'σπαρτιατῶν', 'ἔπεμψαν', 'τελεῖται', 'τοῦρκοι', 'κατεῖχε', 'σῶσον', 'σιωπῆς', 'ἔπραττεν', 'μιχαὴλ', 'ἔννοιαι', 'πρεσβευτὴν', 'στρατῷ'], ['καῖσαρ', 'ἵστανται', 'ἱππεῖς', 'σχολῶν', 'ξὺν', 'βῆλον', 'οὐθὲν', 'πρεσβευτὰς', 'ὕπατος', 'ἀντωνῖνος', 'πτολεμαῖον', 'ἰουστινιανοῦ', 'ὕπατον', 'βροῦτος', 'ὑπολαβὼν', 'βροῦτον', 'θεμιστοκλῆς', 'ἄρατος', 'μιχαὴλ', 'φρουρὰν', 'ἀπῄει', 'κηροὺς', 'στρατηγοῖς', 'στρατῷ', 'κωνσταντῖνος', 'σῶσον', 'ἀχαιοὺς', 'ἀχαιοῖς', 'σιωπῆς', 'κῦρον', 'ἐπανῆλθεν', 'πρεσβευτῶν', 'ᾤοντο', 'περικλῆς', 'ἐπιφανῶν', 'τελεῖται', 'νεῦμα', 'ὥρμησε', 'σπαρτιατῶν', 'γαλατῶν', 'ἔπραττεν', 'λυκοῦργος', 'μηθὲν', 'ἔπεμψαν', 'δωρεὰς', 'εὐμενὴς', 'ναυσὶ', 'δελφοὺς', 'τοῦρκοι', 'ἔπεμπον'], ['καῖσαρ', 'ἵστανται', 'ἱππεῖς', 'πρεσβευτὰς', 'βροῦτος', 'οὐθὲν', 'βῆλον', 'ξὺν', 'ὕπατον', 'σχολῶν', 'βροῦτον', 'πτολεμαῖον', 'μιχαὴλ', 'ὕπατος', 'νεῦμα', 'σῶσον', 'περικλῆς', 'στρατῷ', 'γαλατῶν', 'τελεῖται', 'ἀπῄει', 'στρατηγοῖς', 'κηροὺς', 'ἀντωνῖνος', 'κωνσταντῖνος', 'ὑπολαβὼν', 'ἄρατος', 'δοκοῦντος', 'ᾤοντο', 'αἰτωλῶν', 'παιδιᾶς', 'φρουρὰν', 'ἰουστινιανοῦ', 'ἀχαιοὺς', 'σαρακηνῶν', 'δελφοὺς', 'σπονδῶν', 'ἤθει', 'περσεὺς', 'ἀχαιοῖς', 'δαυὶδ', 'ἰσραὴλ', 'πρεσβευτὴν', 'ἄτταλον', 'κῦρον', 'πολιτικὸς', 'μηθὲν', 'ὥρμησε', 'λυκοῦργος', 'ἰδεῶν'], ['καῖσαρ', 'ἵστανται', 'κριτὴν', 'κελτῶν', 'πρεσβευτὰς', 'ἰδεῶν', 'βῆλον', 'εὐφυῆ', 'ποιητὰς', 'ἀπολειφθεὶς', 'σχολῶν', 'δικαστὴν', 'προσλαβεῖν', 'φαγὼν', 'περιττοὺς', 'ἀντιφῶν', 'ὕπατον', 'ξὺν', 'ἱππεῖς', 'ἀντωνῖνος', 'ὕπατος', 'πτολεμαῖον', 'βροῦτον', 'βροῦτος', 'ἔννοιαι', 'ἀντιφῶντος', 'ἀγχοῦ', 'κηροὺς', 'ἀχαιοῖς', 'οὐθὲν', 'κῶλα', 'σῶσον', 'ἰουστινιανοῦ', 'φρουρὰν', 'πρεσβευτῶν', 'σαρακηνῶν', 'τἀγαθὰ', 'περιβολῆς', 'ἔπεμψαν', 'σπονδῶν', 'λυσιτελὲς', 'θεμιστοκλῆς', 'στρατῷ', 'ἁφὴν', 'παῦλον', 'τελεῖται', 'περιβολὴν', 'πολιτικὸς', 'γεῦσιν', 'ὄσφρησιν'], ['ἵστανται', 'καῖσαρ', 'ἱππεῖς', 'ὕπατον', 'πρεσβευτὰς', 'σχολῶν', 'βῆλον', 'βροῦτος', 'βροῦτον', 'πτολεμαῖον', 'ὕπατος', 'ξὺν', 'ὑπολαβὼν', 'κηροὺς', 'σπαρτιατῶν', 'πρεσβευτῶν', 'οὐθὲν', 'ἔπραττεν', 'ἔπεμψαν', 'ἀχαιοῖς', 'τελεῖται', 'νεῦμα', 'ἄρατος', 'σαρακηνῶν', 'θεμιστοκλῆς', 'ἥδιστον', 'περικλῆς', 'σῶσον', 'λυκοῦργος', 'ἀχαιοὺς', 'εὐμενῆ', 'κῦρον', 'στρατῷ', 'ᾤοντο', 'ἀντωνῖνος', 'δοκοῦντος', 'ναυσὶ', 'προσκυνεῖ', 'ἐπιφανῶν', 'εὐμενὴς', 'ἀπῄει', 'βασιλικοὶ', 'ἰουστινιανοῦ', 'κωνσταντῖνος', 'περσεὺς', 'αἰτωλῶν', 'μεταβολαῖς', 'ὁπλιτῶν', 'σπονδῶν', 'παιδιᾶς'], ['καῖσαρ', 'ἱππεῖς', 'ἵστανται', 'βροῦτος', 'ὕπατος', 'σχολῶν', 'πρεσβευτὰς', 'θεμιστοκλῆς', 'ἄρατος', 'οὐθὲν', 'βροῦτον', 'ξὺν', 'παιδιᾶς', 'ἀχαιοῖς', 'ὕπατον', 'σπαρτιατῶν', 'πτολεμαῖον', 'ὑπολαβὼν', 'ἰουστινιανοῦ', 'περικλῆς', 'βῆλον', 'ᾤοντο', 'ὁμαλῶς', 'λυκοῦργος', 'ἐπιφανῶν', 'νεῦμα', 'πρεσβευτῶν', 'δωρεὰς', 'ἐπανῆλθεν', 'φρουρὰν', 'αἰτωλῶν', 'κηροὺς', 'ἤθει', 'σῶσον', 'ὥρμησε', 'περιορᾶν', 'σιωπῆς', 'σῴζεσθαι', 'δημαγωγῶν', 'εὐμενὴς', 'μηθὲν', 'στρατῷ', 'πρεσβευτὴν', 'μεταβολαῖς', 'ἔναγχος', 'γαλατῶν', 'εὐμενῆ', 'ἀπολιπεῖν', 'διαβολὴν', 'δελφοὺς'], ['καῖσαρ', 'ἵστανται', 'ἱππεῖς', 'πρεσβευτὰς', 'σχολῶν', 'βροῦτον', 'ξὺν', 'βροῦτος', 'ὕπατον', 'πτολεμαῖον', 'σῶσον', 'φρουρὰν', 'βῆλον', 'στρατῷ', 'ἀχαιοῖς', 'ὕπατος', 'οὐθὲν', 'σπαρτιατῶν', 'ἥδιστον', 'μεταβολαῖς', 'ᾤοντο', 'μιχαὴλ', 'ἀπῄει', 'πρεσβευτῶν', 'ἀντωνῖνος', 'κῦρον', 'κηροὺς', 'νεῦμα', 'λυκοῦργος', 'κωνσταντῖνος', 'μηθὲν', 'ἀπολιπεῖν', 'θεμιστοκλῆς', 'περικλῆς', 'ἔπεμψαν', 'ὥρμησε', 'ὕπατοι', 'ἄρατος', 'διελθὼν', 'εὐμενῆ', 'ἔφυγε', 'ὑπολαβὼν', 'ἰουστινιανοῦ', 'ᾔτει', 'ἔλαθε', 'στρατηγοῖς', 'ἅγιε', 'σαρακηνῶν', 'ἔδοσαν', 'ἄρατον'], ['καῖσαρ', 'ἵστανται', 'ἱππεῖς', 'πρεσβευτὰς', 'βροῦτος', 'ὕπατον', 'βῆλον', 'οὐθὲν', 'βροῦτον', 'ξὺν', 'σχολῶν', 'ἀπῄει', 'ἄρατος', 'φρουρὰν', 'παῦλον', 'ὥρμησε', 'δελφοὺς', 'σῶσον', 'ᾤοντο', 'στρατηγοῖς', 'ὕπατος', 'θεμιστοκλῆς', 'ἔπεμψαν', 'φανερὸς', 'στρατῷ', 'ἥδιστον', 'πτολεμαῖον', 'εὐμενὴς', 'ἀπολιπεῖν', 'ἐπανῆλθεν', 'γαλατῶν', 'ἔπαρχος', 'τελεῖται', 'δημαγωγῶν', 'ἀχαιοῖς', 'ὑπολαβὼν', 'κηροὺς', 'μηθὲν', 'σαρακηνῶν', 'δαυὶδ', 'σπαρτιατῶν', 'ὕβρει', 'ἰσραὴλ', 'δωρεὰς', 'πρεσβευτῶν', 'βοῆς', 'σῴζεσθαι', 'μιχαὴλ', 'τοῦρκοι', 'νεῦμα'], ['καῖσαρ', 'ἵστανται', 'βῆλον', 'ἱππεῖς', 'πρεσβευτὰς', 'σχολῶν', 'ὕπατος', 'βροῦτος', 'σῶσον', 'ἀχαιοῖς', 'ἰουδαῖοι', 'νεῦμα', 'λυδῶν', 'βροῦτον', 'κηροὺς', 'πρεσβευτῶν', 'φρουρὰν', 'τελεῖται', 'χεροῖν', 'ὕπατον', 'κοῦφα', 'οὐθὲν', 'ἀντωνῖνος', 'ἄρατος', 'ἰουστινιανοῦ', 'σπονδῶν', 'ὑπολαβὼν', 'ἅλλεται', 'ἀμνοὶ', 'σπαρτιατῶν', 'ἀχαιοὺς', 'θεμιστοκλῆς', 'κωνσταντῖνος', 'στρατῷ', 'ἔπεμψαν', 'πτολεμαῖον', 'λυκοῦργος', 'ὕπνους', 'περικλῆς', 'πρεσβευτὴν', 'μηθὲν', 'ἥδιστον', 'ὕπατοι', 'ἔπεμπε', 'αἰτωλῶν', 'ἀπολιπεῖν', 'μνημεῖον', 'ἰσραὴλ', 'πολιτικὸς', 'ἔπραττεν'], ['καῖσαρ', 'ἱππεῖς', 'ἵστανται', 'ἰσραὴλ', 'βροῦτος', 'ἄδωνις', 'βροῦτον', 'σχολῶν', 'οὐθὲν', 'πρεσβευτὰς', 'ἄδωνιν', 'νιν', 'ὑπολαβὼν', 'ὕπατον', 'βῆλον', 'ξὺν', 'περικλῆς', 'αἰτιατικῇ', 'σῶσον', 'αἰαῖ', 'ἰδεῶν', 'φρουρὰν', 'ἀχαιοῖς', 'δοκοῦντος', 'ὕπατος', 'δαυὶδ', 'κῦρον', 'θεμιστοκλῆς', 'γαλατῶν', 'κηροὺς', 'ἐνεργητικῶς', 'παιδιᾶς', 'ἄρατος', 'στρατηγοῖς', 'ἥδιστον', 'ἔρωτες', 'πτολεμαῖον', 'ᾤοντο', 'παῦλον', 'νεῦμα', 'σπαρτιατῶν', 'ἄρατον', 'ἰουδαῖοι', 'παθητικῶς', 'κῶλον', 'ἀπῄει', 'κῶλα', 'στρατῷ', 'ἐπανῆλθεν', 'ναυσὶ'], ['καῖσαρ', 'ἐθνικὸν', 'ἱππεῖς', 'ἵστανται', 'ἕκτῃ', 'εὔμολπον', 'περικλῆς', 'πρεσβευτὰς', 'ὑπολαβὼν', 'ὕπατον', 'βῆλον', 'σχολῶν', 'περικλεῖ', 'βροῦτος', 'βροῦτον', 'ὕπατος', 'λυκοῦργος', 'παῦλον', 'ἰσραὴλ', 'δελφοὺς', 'ἦρχον', 'ᾤοντο', 'σῶσον', 'νεῦμα', 'φρουρὰν', 'θεμιστοκλῆς', 'πτολεμαῖον', 'οὐθὲν', 'ἱστορικὸς', 'ἀττικὴν', 'συγγραφῇ', 'ξὺν', 'στρατηγοῖς', 'πειραιεῖ', 'θηβαῖοι', 'ἔπεμψαν', 'σπαρτιατῶν', 'ἐπανῆλθεν', 'κηροὺς', 'ἀπιστεῖν', 'ἀποβαλεῖν', 'κῦρον', 'στρατῷ', 'εὐμενὴς', 'γαλατῶν', 'βοιωτῶν', 'δαυὶδ', 'βοῆς', 'σῴζεσθαι', 'ἀχαιοὺς'], ['καῖσαρ', 'ἵστανται', 'ἰδεῶν', 'ἱππεῖς', 'πρεσβευτὰς', 'σχολῶν', 'ξὺν', 'ὕπατον', 'κηροὺς', 'ἔννοιαι', 'ὕπατος', 'ἀχαιοῖς', 'πτολεμαῖον', 'σῶσον', 'βῆλον', 'βροῦτος', 'ᾤοντο', 'νεῦμα', 'κῶλα', 'ἰσραὴλ', 'ἰουστινιανοῦ', 'οὐθὲν', 'πρεσβευτῶν', 'ἀντιφῶν', 'περιβολὴν', 'φρουρὰν', 'βροῦτον', 'ἀντωνῖνος', 'περιβολῆς', 'δαυὶδ', 'ἀντιφῶντος', 'δοκοῦντος', 'μιχαὴλ', 'κῦρον', 'ἐπανῆλθεν', 'ἀχαιοὺς', 'ἔπραττεν', 'ἥδιστον', 'στρατῷ', 'σαρακηνῶν', 'σπονδῶν', 'μηθὲν', 'ἄρατος', 'ἰουστινιανὸς', 'κεφ', 'τεχνικὸς', 'πολιτικὸς', 'ἅγιε', 'κῶλον', 'ὑπολαβὼν'], ['καῖσαρ', 'ἵστανται', 'σχολῶν', 'ἱππεῖς', 'ξὺν', 'κηροὺς', 'πρεσβευτὰς', 'ὕπατον', 'βροῦτος', 'ὕπατος', 'βῆλον', 'σῶσον', 'θεμιστοκλῆς', 'βροῦτον', 'ἄρατος', 'παῦλον', 'νεῦμα', 'ἔπεμψαν', 'πρεσβευτῶν', 'οὐθὲν', 'πρεσβευτὴν', 'ἔπαρχος', 'πτολεμαῖον', 'φρουρὰν', 'ἀπῄει', 'ὑπολαβὼν', 'λυκοῦργος', 'ἀχαιοῖς', 'περικλῆς', 'δωρεὰς', 'ἰουστινιανοῦ', 'ἰουδαῖοι', 'ᾤοντο', 'εὐμενὴς', 'ἀντωνῖνος', 'κατεῖχε', 'σπαρτιατῶν', 'γαλατῶν', 'ὕπνους', 'ἔλαθε', 'εἰσῆλθον', 'ἔπραττεν', 'στρατῷ', 'σταυρὸν', 'ὥρμησε', 'ἀπολιπεῖν', 'ἥδιστον', 'κῦρον', 'αἰτωλῶν', 'σιωπῆς'], ['καῖσαρ', 'ἵστανται', 'πρεσβευτὰς', 'βῆλον', 'παῦλον', 'ἱππεῖς', 'σχολῶν', 'ἰσραὴλ', 'ἔπαρχος', 'νεῦμα', 'ὕπατον', 'σῶσον', 'βροῦτος', 'ἀντωνῖνος', 'ἀχαιοῖς', 'ξὺν', 'οὐθὲν', 'κηροὺς', 'κῦρον', 'βροῦτον', 'πτολεμαῖον', 'φρουρὰν', 'ὕπατος', 'πρεσβευτῶν', 'στρατῷ', 'ᾤοντο', 'ἐπανῆλθεν', 'κοιτῶνι', 'ἀχαιοὺς', 'σαρακηνῶν', 'δαυὶδ', 'ἥδιστον', 'ἔπεμψαν', 'λυκοῦργος', 'ἰουστινιανοῦ', 'εἰωθὸς', 'ἅγιε', 'περσεὺς', 'γαλατῶν', 'ἐπιφανῶν', 'αἰτωλῶν', 'κωνσταντῖνος', 'ὑπολαβὼν', 'εἴθισται', 'κεφ', 'προσκυνεῖ', 'σῴζειν', 'θεμιστοκλῆς', 'μιχαὴλ', 'σπονδῶν'], ['ἵστανται', 'καῖσαρ', 'ἱππεῖς', 'σχολῶν', 'σῶσον', 'πρεσβευτὰς', 'κηροὺς', 'βροῦτον', 'οὐθὲν', 'βῆλον', 'πτολεμαῖον', 'ὕπατον', 'ξὺν', 'τελεῖται', 'ὑπολαβὼν', 'ἀχαιοῖς', 'περικλῆς', 'νεῦμα', 'ὕπατος', 'βροῦτος', 'ἰουστινιανοῦ', 'θεμιστοκλῆς', 'φρουρὰν', 'σπονδῶν', 'ᾤοντο', 'ἔπεμψαν', 'ἀντωνῖνος', 'κῦρον', 'ἄρατος', 'ἐπανῆλθεν', 'λυκοῦργος', 'σπαρτιατῶν', 'αἰτωλῶν', 'ᾔτει', 'ὕπατοι', 'φανερὸς', 'στρατηγοῖς', 'βασιλικοὶ', 'στρατῷ', 'κωνσταντῖνος', 'ἔντευξιν', 'ἰουστινιανὸς', 'συγκλητικῶν', 'παῦλον', 'δημαγωγῶν', 'ἅγιε', 'μηθὲν', 'παιδιᾶς', 'πρεσβευτὴν', 'περσεὺς'], ['καῖσαρ', 'ἵστανται', 'ἱππεῖς', 'βροῦτος', 'πρεσβευτὰς', 'βῆλον', 'οὐθὲν', 'βροῦτον', 'φρουρὰν', 'σχολῶν', 'λυκοῦργος', 'ὕπατον', 'ἀχαιοῖς', 'θεμιστοκλῆς', 'νεῦμα', 'πτολεμαῖον', 'ὕπατος', 'ἰουστινιανοῦ', 'στρατῷ', 'παιδιᾶς', 'ἀντωνῖνος', 'ᾤοντο', 'περικλῆς', 'πρεσβευτῶν', 'στρατηγοῖς', 'κηροὺς', 'ἰδεῶν', 'ὑπολαβὼν', 'δοκοῦντος', 'σῶσον', 'ἄρατος', 'πρεσβευτὴν', 'μηθὲν', 'κῶλα', 'ἀχαιοὺς', 'περσεὺς', 'ἀφειδῶς', 'πεζῶν', 'σαρακηνῶν', 'πολιτικῆς', 'ἀπολιπεῖν', 'ἐπανῆλθεν', 'ἔννοιαι', 'κῦρον', 'ἰσραὴλ', 'φανερὸς', 'ξὺν', 'εὐμενὴς', 'ἤθει', 'ἔπραττεν'], ['ἵστανται', 'καῖσαρ', 'βῆλον', 'ἱππεῖς', 'σχολῶν', 'πρεσβευτὰς', 'σῶσον', 'ξὺν', 'ἰουστινιανοῦ', 'ὕπατος', 'οὐθὲν', 'κηροὺς', 'ὕπατον', 'νεῦμα', 'τελεῖται', 'δαυὶδ', 'ἰσραὴλ', 'βροῦτος', 'πτολεμαῖον', 'ἀντωνῖνος', 'ᾤοντο', 'αἰτωλῶν', 'ἔπεμψαν', 'πρεσβευτὴν', 'κεφ', 'ἐπιτελεῖται', 'γαλατῶν', 'ἀπῄει', 'ἀχαιοὺς', 'βασιλικοὶ', 'περσεὺς', 'κωνσταντῖνος', 'σπονδῶν', 'ἔπραττεν', 'φρουρὰν', 'ἅγιε', 'εἴθισται', 'ναυσὶ', 'στρατῷ', 'λιτῆς', 'περικλῆς', 'ἄτταλον', 'σαρακηνῶν', 'λυκοῦργος', 'θεμιστοκλῆς', 'βροῦτον', 'ἰδεῶν', 'πρεσβευτῶν', 'ἀχαιοῖς', 'ὕπνους'], ['καῖσαρ', 'ἵστανται', 'ἱππεῖς', 'ἄδωνιν', 'ἄδωνις', 'βροῦτος', 'οὐθὲν', 'νιν', 'σχολῶν', 'ὕπατον', 'ὕπατος', 'βῆλον', 'αἰαῖ', 'πτολεμαῖον', 'στρατῷ', 'λυκοῦργος', 'ξὺν', 'ἄρατος', 'πρεσβευτὰς', 'ἰδεῶν', 'δοκοῦντος', 'στρατηγοῖς', 'ὑπολαβὼν', 'ἔπεμψαν', 'βροῦτον', 'κηροὺς', 'ἔννοιαι', 'φρουρὰν', 'ἀχαιοῖς', 'ἔρωτες', 'δαυὶδ', 'ᾤοντο', 'ἰουστινιανοῦ', 'σῶσον', 'ἀντωνῖνος', 'σπαρτιατῶν', 'κῶλα', 'γαλατῶν', 'διαβολὴν', 'ᾔτει', 'κῶλον', 'ἥδιστον', 'ἰουστινιανὸς', 'μεταβολαῖς', 'ἔλαθε', 'κατεῖχε', 'αἰτωλῶν', 'νεῦμα', 'πολιτικοῦ', 'σαρακηνῶν'], ['ἵστανται', 'καῖσαρ', 'σχολῶν', 'βῆλον', 'ξὺν', 'πτολεμαῖον', 'πρεσβευτὰς', 'ἰουστινιανοῦ', 'ἱππεῖς', 'ἀντωνῖνος', 'ὕπατον', 'κηροὺς', 'ὕπατος', 'στρατῷ', 'βροῦτος', 'σῶσον', 'τοῦρκοι', 'φρουρὰν', 'αἰτωλῶν', 'νεῦμα', 'τελεῖται', 'βροῦτον', 'ἔπεμψαν', 'ἰδεῶν', 'σαρακηνῶν', 'πρεσβευτῶν', 'σπονδῶν', 'ἰουστινιανὸς', 'ἀπῄει', 'κωνσταντῖνος', 'βασιλικοὶ', 'κεφ', 'κῶλα', 'ἀχαιοῖς', 'μιχαὴλ', 'περσεὺς', 'οὐθὲν', 'ἀχαιοὺς', 'γαλατῶν', 'ἅγιε', 'μαξιμῖνος', 'ἐπανῆλθεν', 'ᾔτει', 'πρεσβευτὴν', 'προσκυνεῖ', 'ἄτταλον', 'κῦρον', 'φοροῦντες', 'ἔννοιαι', 'βασιλικὰ'], ['ἵστανται', 'καῖσαρ', 'πρεσβευτὰς', 'βῆλον', 'ἱππεῖς', 'σχολῶν', 'ξὺν', 'ὕπατος', 'ὕπατον', 'σῶσον', 'ἰουστινιανοῦ', 'βροῦτος', 'κηροὺς', 'ἀχαιοῖς', 'βροῦτον', 'νεῦμα', 'πτολεμαῖον', 'ἔπεμψαν', 'οὐθὲν', 'πρεσβευτῶν', 'σαρακηνῶν', 'ὑπολαβὼν', 'κεφ', 'κῦρον', 'στρατῷ', 'λυκοῦργος', 'ἄρατος', 'πρεσβευτὴν', 'ᾤοντο', 'κωνσταντῖνος', 'ἀντωνῖνος', 'θεμιστοκλῆς', 'ἔπραττεν', 'παῦλον', 'σπονδῶν', 'τελεῖται', 'σπαρτιατῶν', 'στρατηγοῖς', 'ἀχαιοὺς', 'αἰτωλῶν', 'χαλκῆς', 'βασιλικοὶ', 'μηθὲν', 'φοροῦντες', 'ἐπανῆλθεν', 'κοιτῶνι', 'φρουρὰν', 'ἔπαρχος', 'φορῶν', 'ὕπατοι'], ['καῖσαρ', 'ἵστανται', 'σχολῶν', 'ξὺν', 'ἱππεῖς', 'βῆλον', 'πρεσβευτὰς', 'ὕπατος', 'ὕπατον', 'οὐθὲν', 'νεῦμα', 'μιχαὴλ', 'ἀπῄει', 'ἀχαιοῖς', 'ὑπολαβὼν', 'σῶσον', 'πτολεμαῖον', 'πρεσβευτῶν', 'σπονδῶν', 'βροῦτος', 'θεμιστοκλῆς', 'βροῦτον', 'ᾤοντο', 'ἰουστινιανοῦ', 'ὥρμησε', 'σιωπῆς', 'ἐπιφανῶν', 'τελεῖται', 'ἔπεμψαν', 'ᾔτει', 'σαρακηνῶν', 'φρουρὰν', 'κατεῖχε', 'κηροὺς', 'σπαρτιατῶν', 'λυκοῦργος', 'περικλῆς', 'ἐπανῆλθεν', 'κῦρον', 'ἥδιστον', 'ὕβρει', 'στρατῷ', 'εὐμενὴς', 'πρεσβευτὴν', 'αἰτωλῶν', 'ἀχαιοὺς', 'φοροῦντες', 'κομνηνὸς', 'ἀπολιπεῖν', 'χαλκῆς'], ['καῖσαρ', 'ἱππεῖς', 'βροῦτον', 'οὐθὲν', 'ἵστανται', 'βροῦτος', 'βῆλον', 'ἄρατος', 'ἥδιστον', 'πρεσβευτὰς', 'θεμιστοκλῆς', 'ἰσραὴλ', 'ὕπατος', 'ὑπολαβὼν', 'φρουρὰν', 'στρατῷ', 'πτολεμαῖον', 'ᾤοντο', 'περικλῆς', 'κῦρον', 'ἰουστινιανοῦ', 'ὕπατον', 'δοκοῦντος', 'σῴζειν', 'ἔπραττεν', 'δαυὶδ', 'ἐμπεδοκλῆς', 'στρατηγοῖς', 'ἐπανῆλθεν', 'νεῦμα', 'ὕπνους', 'ἀπολιπεῖν', 'ἰδεῶν', 'ὁπλιτῶν', 'σπονδῶν', 'μηθὲν', 'ὥρμησε', 'σῶσον', 'πρεσβευτῶν', 'φανερὸς', 'ἀχαιοῖς', 'ὕπατοι', 'εὐμενῆ', 'σπαρτιατῶν', 'ἄρατον', 'σχολῶν', 'ξὺν', 'ἀγῶσι', 'ἐπανελθὼν', 'ἀντωνῖνος'], ['καῖσαρ', 'ἵστανται', 'ἱππεῖς', 'ἔννοιαι', 'βροῦτος', 'ἰδεῶν', 'κῶλον', 'πρεσβευτὰς', 'ἄδωνις', 'ὕπατον', 'κῶλα', 'βῆλον', 'ἀχαιοῖς', 'βροῦτον', 'τεχνικὸς', 'οὐθὲν', 'σχολῶν', 'ὑπολαβὼν', 'σῶσον', 'ὕπατος', 'ἔπεμψαν', 'πτολεμαῖον', 'δοκοῦντος', 'περιβολῆς', 'σπαρτιατῶν', 'φρουρὰν', 'ἥδιστον', 'περικλῆς', 'ἄδωνιν', 'ξὺν', 'κῦρον', 'ᾤοντο', 'κηροὺς', 'πρεσβευτῶν', 'ἀπολιπεῖν', 'ᾔτει', 'θεμιστοκλῆς', 'ἤθει', 'νεῦμα', 'περιβολὴν', 'ἀκμὴ', 'παρακαλεῖν', 'ὥρμησε', 'πολιτικοῦ', 'στρατῷ', 'στρατηγοῖς', 'λυκοῦργος', 'ἰουστινιανοῦ', 'τελεῖται', 'μεταβολαῖς'], ['καῖσαρ', 'ἱππεῖς', 'ἵστανται', 'πρεσβευτὰς', 'βροῦτον', 'σχολῶν', 'βροῦτος', 'οὐθὲν', 'ὕπατον', 'θεμιστοκλῆς', 'πτολεμαῖον', 'ἀχαιοῖς', 'ὕπατος', 'ἄρατος', 'ᾤοντο', 'στρατῷ', 'βῆλον', 'περικλῆς', 'φρουρὰν', 'ὑπολαβὼν', 'ξὺν', 'σπαρτιατῶν', 'σῴζειν', 'ἰσραὴλ', 'ἀπῄει', 'ἔπραττεν', 'κηροὺς', 'σαρακηνῶν', 'νεῦμα', 'κῦρον', 'βοῆς', 'σῶσον', 'παιδιᾶς', 'λυκοῦργος', 'ὥρμησε', 'ἄρατον', 'ἐπιφανῶν', 'ᾔτει', 'ἰδεῶν', 'ἐπανῆλθεν', 'ἀντωνῖνος', 'δελφοὺς', 'στρατηγοῖς', 'γαλατῶν', 'σπονδῶν', 'πολιτικὸς', 'ἔπεμψαν', 'σῴζεσθαι', 'τελεῖται', 'ἥδιστον'], ['καῖσαρ', 'ἵστανται', 'ἱππεῖς', 'οἴκαδ', 'βροῦτος', 'καταβαλὼν', 'ὕπατον', 'τουτονὶ', 'οὐθὲν', 'πρεσβευτὰς', 'ἐνδελεχῶς', 'ξὺν', 'βῆλον', 'ἀσελγῶς', 'πτολεμαῖον', 'φρουρὰν', 'φθονερὸν', 'θεμιστοκλῆς', 'περικλῆς', 'ὑπολαβὼν', 'σχολῶν', 'εὕρημα', 'βροῦτον', 'εὐτρεπεῖς', 'πρᾶγμ', 'γυναῖκ', 'σαπρὸν', 'ἐξεμεῖ', 'τιμῶσα', 'ἄπροικον', 'πενιχρὰν', 'ἀργυροῦν', 'ἀχαιοῖς', 'ᾤοντο', 'ἀπῄει', 'δυναστῶν', 'νεῦμα', 'σῶσον', 'ὕπατος', 'λυκοῦργος', 'ἄρατος', 'ὕπνους', 'στρατῷ', 'δωρεὰς', 'ἤθει', 'εὐμενῆ', 'στρατηγοῖς', 'δοκοῦντος', 'βοῆς', 'ὥρμησε'], ['καῖσαρ', 'ἵστανται', 'οὐθὲν', 'ἱππεῖς', 'σχολῶν', 'ειν', 'ξὺν', 'βῆλον', 'πρεσβευτὰς', 'βροῦτος', 'τωι', 'ὕπατον', 'ρος', 'βροῦτον', 'κον', 'τηι', 'προς', 'αυτ', 'ινα', 'ἀχαιοῖς', 'φρουρὰν', 'ἰσραὴλ', 'ἰουστινιανοῦ', 'ὑπολαβὼν', 'ᾤοντο', 'σῶσον', 'ὕπατος', 'θεμιστοκλῆς', 'στρατῷ', 'μιχαὴλ', 'κηροὺς', 'πρεσβευτῶν', 'εὐμενὴς', 'αἰτωλῶν', 'ἄρατος', 'διαγωγῆς', 'ἀχαιοὺς', 'νεῦμα', 'τελεῖται', 'ἀντωνῖνος', 'ταὐτοῦ', 'πτολεμαῖον', 'σπαρτιατῶν', 'ἀπῄει', 'πλανᾶσθαι', 'λυκοῦργος', 'ὥρμησε', 'κῦρον', 'ἐπιφανῶν', 'τοῦρκοι'], ['καῖσαρ', 'ἵστανται', 'ἱππεῖς', 'σχολῶν', 'πρεσβευτὰς', 'οὐθὲν', 'βῆλον', 'βροῦτον', 'ἰδεῶν', 'φρουρὰν', 'ἔπεμψαν', 'θεμιστοκλῆς', 'ὕπατον', 'πτολεμαῖον', 'ἄρατος', 'ξὺν', 'σῶσον', 'νεῦμα', 'δοκοῦντος', 'ἀχαιοῖς', 'ἀχαιοὺς', 'κηροὺς', 'ᾤοντο', 'βροῦτος', 'ἰουστινιανοῦ', 'ἔννοιαι', 'ἀντωνῖνος', 'κῶλα', 'ὕπατος', 'αἰτωλῶν', 'κῶλον', 'πρεσβευτῶν', 'κῦρον', 'ἥδιστον', 'ὑπολαβὼν', 'σπαρτιατῶν', 'περιβολῆς', 'ἔπραττεν', 'εὐμενὴς', 'στρατῷ', 'λυκοῦργος', 'μηθὲν', 'τεχνικὸς', 'ναυσὶ', 'τελεῖται', 'σπονδῶν', 'δοχῆς', 'κωνσταντῖνος', 'διαφυγεῖν', 'ἄρατον'], ['ἵστανται', 'καῖσαρ', 'πρεσβευτὰς', 'ἱππεῖς', 'ὕπατον', 'σχολῶν', 'βῆλον', 'πτολεμαῖον', 'σῶσον', 'ἰουστινιανοῦ', 'ἀντιφῶν', 'πρεσβευτῶν', 'νεῦμα', 'κηροὺς', 'ἰδεῶν', 'ὕπατος', 'στρατῷ', 'βροῦτος', 'οὐθὲν', 'ἔπεμψαν', 'κῦρον', 'σπονδῶν', 'φρουρὰν', 'ἀντιφῶντος', 'φοροῦντες', 'σαρακηνῶν', 'ξὺν', 'ὑπολαβὼν', 'ἀντωνῖνος', 'ἅγιε', 'ἰουστινιανὸς', 'τελεῖται', 'ἀχαιοῖς', 'ἀχαιοὺς', 'ἥδεσθαι', 'ἄτταλον', 'κῶλα', 'περικλῆς', 'κεφ', 'ὥρμησαν', 'μηθὲν', 'βροῦτον', 'ὥρμησε', 'διαφυγεῖν', 'κυριακῇ', 'ἐθνικὸν', 'λυκοῦργος', 'ἀντιφῶντα', 'λιτῆς', 'φορῶν'], ['καῖσαρ', 'ἵστανται', 'πρεσβευτὰς', 'σχολῶν', 'βῆλον', 'ἱππεῖς', 'ὕπατον', 'σῶσον', 'ξὺν', 'οὐθὲν', 'ὕπατος', 'βροῦτον', 'κηροὺς', 'βροῦτος', 'νεῦμα', 'ἀχαιοῖς', 'πτολεμαῖον', 'ἰουστινιανοῦ', 'πρεσβευτῶν', 'σαρακηνῶν', 'στρατῷ', 'ἀντωνῖνος', 'πρεσβευτὴν', 'ἄρατος', 'ὑπολαβὼν', 'τελεῖται', 'χαλκῆς', 'σπαρτιατῶν', 'ἅγιε', 'αἰτωλῶν', 'ἀχαιοὺς', 'προσκυνεῖ', 'ἰουστινιανὸς', 'κῦρον', 'κωνσταντῖνος', 'ἔπεμψαν', 'εἴθισται', 'ἔπεμπε', 'προσκαλεῖται', 'εὐμενῆ', 'ἅγια', 'γαλατῶν', 'κελτῶν', 'ἔπεμπον', 'λυκοῦργος', 'φρουρὰν', 'θεμιστοκλῆς', 'ἴστρον', 'δοκοῦντος', 'κεφ']]\n",
      "\n",
      "Can you spot the misplaced word in each topic?\n",
      "0: καῖσαρ ἵστανται ἱππεῖς σχολῶν βροῦτος μυσῶν οὐθὲν ἀγχοῦ φῄς αὐτοῖσιν\n",
      "1: καῖσαρ ἵστανται περιβολὴν πρεσβευτὰς σχολῶν ξὺν ὕπατον βῆλον βροῦτον βροῦτος\n",
      "2: εὐτρεπεῖς ἵστανται πρεσβευτὰς βῆλον σχολῶν ἱππεῖς ξὺν σῶσον πρεσβευτῶν πτολεμαῖον\n",
      "3: καῖσαρ ἵστανται ἱππεῖς βῆλον πρεσβευτὰς ὥρμησαν κηροὺς οὐθὲν ὑπολαβὼν βροῦτος\n",
      "4: καῖσαρ ἵστανται ἱππεῖς πρεσβευτὰς ξὺν σχολῶν βῆλον ὕπατος βροῦτον κριτὴν\n",
      "5: εὐμενῆ ἵστανται ἱππεῖς βροῦτος βροῦτον σχολῶν ὕπατον πρεσβευτὰς ὕπατος πτολεμαῖον\n",
      "6: καῖσαρ ἱππεῖς ἵστανται βροῦτος οὐθὲν ὕπατοι θεμιστοκλῆς πρεσβευτὰς ὕπατον ὕπατος\n",
      "7: καῖσαρ ἵστανται ἱππεῖς πρεσβευτὰς σχολῶν βῆλον βροῦτος οὐθὲν ἐνεργητικῶς ἔπεμψαν\n",
      "8: ἵστανται καῖσαρ αἴθραν ἱππεῖς κρατῆρα μνημεῖον πρεσβευτὰς σχολῶν βῆλον ὀστῶν\n",
      "9: ἵστανται καῖσαρ βῆλον σχολῶν φθονερὸν σῶσον ἱππεῖς κηροὺς νεῦμα φρουρὰν\n",
      "10: καῖσαρ ἵστανται σχολῶν ἱππεῖς πρεσβευτὰς ἰδεῶν βῆλον σῶσον μυσῶν βροῦτον\n",
      "11: καῖσαρ ἱππεῖς ὀρφεὺς ξὺν βῆλον ἀπῄει σχολῶν οὐθὲν ὕπατον ὕπατος\n",
      "12: καῖσαρ ἵστανται ἀντιφῶν βῆλον ξὺν σχολῶν ὕπατος πρεσβευτὰς βροῦτος βροῦτον\n",
      "13: καῖσαρ ἵστανται πρεσβευτὰς ξὺν βῆλον οὐθὲν ἱππεῖς ὕπατον ὀρφεὺς βροῦτον\n",
      "14: καῖσαρ ἵστανται ἱππεῖς ξὺν σχολῶν κομνηνὸς ἀπῄει τωι βροῦτον πρεσβευτὰς\n",
      "15: ἵστανται καῖσαρ πρεσβευτὰς σχολῶν ἀντωνῖνος ἱππεῖς ξὺν σῶσον οὐθὲν νεῦμα\n",
      "16: καῖσαρ ἵστανται ἱππεῖς οὐθὲν ἱππικὸν ὕπατον σχολῶν ᾤοντο βροῦτον ξὺν\n",
      "17: καῖσαρ ἵστανται ἱππεῖς ξὺν πρεσβευτὰς σχολῶν βῆλον πτολεμαῖον ὕπατον ὁπλιτῶν\n",
      "18: καῖσαρ ἵστανται σχολῶν ἱππεῖς ἰησοῦν ἰδεῶν κῶλα βῆλον ξὺν οὐθὲν\n",
      "19: καῖσαρ ἵστανται βῆλον ἀντιφῶν ἀντιφῶντος ἱππεῖς πρεσβευτὰς ὕπατον τηι σχολῶν\n",
      "20: ἵστανται καῖσαρ ἱππεῖς σχολῶν πρεσβευτὰς βῆλον στρατῷ ξὺν ὕπατος περσεὺς\n",
      "21: ἐπανῆλθεν ἵστανται ἱππεῖς βροῦτος πρεσβευτὰς αἰτιατικῇ βροῦτον σχολῶν φρουρὰν ὕπατον\n",
      "22: καῖσαρ κοῦφα ἵστανται βροῦτος πρεσβευτὰς βροῦτον σχολῶν ἥδιστον ἔννοιαι θεμιστοκλῆς\n",
      "23: ἵστανται καῖσαρ πρεσβευτὰς ξὺν σχολῶν ἔλαθε ἱππεῖς κιθαιρὼν σῶσον νεῦμα\n",
      "24: καῖσαρ ἵστανται πρεσβευτὰς σχολῶν ὕπατον βῆλον κατεῖχε ἱππεῖς πρεσβευτῶν στρατῷ\n",
      "25: καῖσαρ ἵστανται ἱππεῖς εὐμενῆ βῆλον βροῦτος πρεσβευτὰς πρεσβευτῶν βροῦτον οὐθὲν\n",
      "26: καῖσαρ ἵστανται ἄδωνις νιν ἱππεῖς ἄδωνιν πρεσβευτὰς βῆλον σπονδῶν ἔρωτες\n",
      "27: καῖσαρ ἵστανται ἱππεῖς σχολῶν ξὺν βῆλον οὐθὲν γενικῇ ὕπατος ἀντωνῖνος\n",
      "28: καῖσαρ ἵστανται ἱππεῖς πρεσβευτὰς βροῦτος καθολικῆς βῆλον ξὺν ὕπατον σχολῶν\n",
      "29: καῖσαρ ἵστανται κριτὴν κελτῶν πρεσβευτὰς ἰδεῶν βῆλον εὐφυῆ προς ἀπολειφθεὶς\n",
      "30: ἵστανται καῖσαρ ἱππεῖς ὕπατον πρεσβευτὰς σχολῶν βῆλον βροῦτος βροῦτον εἰωθὸς\n",
      "31: καῖσαρ ἱππεῖς ἵστανται βροῦτος ὕπατος σχολῶν πρεσβευτὰς παρακαλεῖν ἄρατος οὐθὲν\n",
      "32: ἀποβαλεῖν ἵστανται ἱππεῖς πρεσβευτὰς σχολῶν βροῦτον ξὺν βροῦτος ὕπατον πτολεμαῖον\n",
      "33: καῖσαρ ἵστανται ἱππεῖς πρεσβευτὰς ἀγχοῦ ὕπατον βῆλον οὐθὲν βροῦτον ξὺν\n",
      "34: γενικῇ ἵστανται βῆλον ἱππεῖς πρεσβευτὰς σχολῶν ὕπατος βροῦτος σῶσον ἀχαιοῖς\n",
      "35: καῖσαρ ἱππεῖς ἵστανται ἰσραὴλ βροῦτος ἄδωνις ἅγιε σχολῶν οὐθὲν πρεσβευτὰς\n",
      "36: καῖσαρ ἐθνικὸν ἱππεῖς ἵστανται σταυρὸν εὔμολπον περικλῆς πρεσβευτὰς ὑπολαβὼν ὕπατον\n",
      "37: καῖσαρ ἵστανται σῴζεσθαι ἱππεῖς πρεσβευτὰς σχολῶν ξὺν ὕπατον κηροὺς ἔννοιαι\n",
      "38: καῖσαρ ἵστανται σχολῶν ἱππεῖς ξὺν κηροὺς πρεσβευτὰς ἐπανῆλθεν βροῦτος ὕπατος\n",
      "39: καῖσαρ ἵστανται πρεσβευτὰς βῆλον παῦλον ἱππεῖς σχολῶν ἰσραὴλ ἔπαρχος ἐνεργητικῶς\n",
      "40: ἵστανται λιτῆς ἱππεῖς σχολῶν σῶσον πρεσβευτὰς κηροὺς βροῦτον οὐθὲν βῆλον\n",
      "41: καῖσαρ ἀναγαγεῖν ἱππεῖς βροῦτος πρεσβευτὰς βῆλον οὐθὲν βροῦτον φρουρὰν σχολῶν\n",
      "42: ἵστανται κῦρον βῆλον ἱππεῖς σχολῶν πρεσβευτὰς σῶσον ξὺν ἰουστινιανοῦ ὕπατος\n",
      "43: καῖσαρ ἵστανται ἱππεῖς ἄδωνιν ἄδωνις βροῦτος οὐθὲν ἐξεμεῖ σχολῶν ὕπατον\n",
      "44: ἵστανται ἦρχον σχολῶν βῆλον ξὺν πτολεμαῖον πρεσβευτὰς ἰουστινιανοῦ ἱππεῖς ἀντωνῖνος\n",
      "45: ἵστανται καῖσαρ χριστιανὸς βῆλον ἱππεῖς σχολῶν ξὺν ὕπατος ὕπατον σῶσον\n",
      "46: κοιτῶνι ἵστανται σχολῶν ξὺν ἱππεῖς βῆλον πρεσβευτὰς ὕπατος ὕπατον οὐθὲν\n",
      "47: καῖσαρ ἐξεμεῖ βροῦτον οὐθὲν ἵστανται βροῦτος βῆλον ἄρατος ἥδιστον πρεσβευτὰς\n",
      "48: καῖσαρ ἰουστινιανὸς ἱππεῖς ἔννοιαι βροῦτος ἰδεῶν κῶλον πρεσβευτὰς ἄδωνις ὕπατον\n",
      "49: καῖσαρ ἱππεῖς ἵστανται πρεσβευτὰς βροῦτον σχολῶν βροῦτος ἀπολιπεῖν ὕπατον θεμιστοκλῆς\n",
      "50: καῖσαρ ἵστανται ἱππεῖς σιωπῆς βροῦτος καταβαλὼν ὕπατον τουτονὶ οὐθὲν πρεσβευτὰς\n",
      "51: καῖσαρ ἵστανται οὐθὲν ἱππεῖς σχολῶν ἅπασαι ξὺν βῆλον πρεσβευτὰς βροῦτος\n",
      "52: καῖσαρ μιχαὴλ ἱππεῖς σχολῶν πρεσβευτὰς οὐθὲν βῆλον βροῦτον ἰδεῶν φρουρὰν\n",
      "53: ἵστανται καῖσαρ πρεσβευτὰς ἱππεῖς ὕπατον σχολῶν βῆλον εἰσῆλθον σῶσον ἰουστινιανοῦ\n",
      "54: καῖσαρ ἵστανται πρεσβευτὰς σχολῶν βῆλον ἱππεῖς ὕπατον τᾶς ξὺν οὐθὲν\n",
      "Actual replacements were:\n",
      "[(0, ('καθολικῆς', 'ἀγχοῦ')), (1, ('ἱππεῖς', 'περιβολὴν')), (2, ('καῖσαρ', 'εὐτρεπεῖς')), (3, ('σχολῶν', 'ὥρμησαν')), (4, ('ὕπατον', 'κριτὴν')), (5, ('καῖσαρ', 'εὐμενῆ')), (6, ('βροῦτον', 'ὕπατοι')), (7, ('ὕπατον', 'ἐνεργητικῶς')), (8, ('ἴφικλος', 'μνημεῖον')), (9, ('πρεσβευτὰς', 'φθονερὸν')), (10, ('ὕπατον', 'μυσῶν')), (11, ('ἵστανται', 'ὀρφεὺς')), (12, ('ἱππεῖς', 'ἀντιφῶν')), (13, ('σχολῶν', 'ὀρφεὺς')), (14, ('βροῦτος', 'τωι')), (15, ('βῆλον', 'ἀντωνῖνος')), (16, ('βροῦτος', 'ἱππικὸν')), (17, ('ὕπατος', 'ὁπλιτῶν')), (18, ('ἔννοιαι', 'ἰησοῦν')), (19, ('ξὺν', 'τηι')), (20, ('βροῦτος', 'περσεὺς')), (21, ('καῖσαρ', 'ἐπανῆλθεν')), (22, ('ἱππεῖς', 'κοῦφα')), (23, ('βῆλον', 'ἔλαθε')), (24, ('νεῦμα', 'κατεῖχε')), (25, ('σχολῶν', 'εὐμενῆ')), (26, ('αἰαῖ', 'σπονδῶν')), (27, ('πρεσβευτὰς', 'γενικῇ')), (28, ('οὐθὲν', 'καθολικῆς')), (29, ('ποιητὰς', 'προς')), (30, ('πτολεμαῖον', 'εἰωθὸς')), (31, ('θεμιστοκλῆς', 'παρακαλεῖν')), (32, ('καῖσαρ', 'ἀποβαλεῖν')), (33, ('βροῦτος', 'ἀγχοῦ')), (34, ('καῖσαρ', 'γενικῇ')), (35, ('βροῦτον', 'ἅγιε')), (36, ('ἕκτῃ', 'σταυρὸν')), (37, ('ἰδεῶν', 'σῴζεσθαι')), (38, ('ὕπατον', 'ἐπανῆλθεν')), (39, ('νεῦμα', 'ἐνεργητικῶς')), (40, ('καῖσαρ', 'λιτῆς')), (41, ('ἵστανται', 'ἀναγαγεῖν')), (42, ('καῖσαρ', 'κῦρον')), (43, ('νιν', 'ἐξεμεῖ')), (44, ('καῖσαρ', 'ἦρχον')), (45, ('πρεσβευτὰς', 'χριστιανὸς')), (46, ('καῖσαρ', 'κοιτῶνι')), (47, ('ἱππεῖς', 'ἐξεμεῖ')), (48, ('ἵστανται', 'ἰουστινιανὸς')), (49, ('οὐθὲν', 'ἀπολιπεῖν')), (50, ('οἴκαδ', 'σιωπῆς')), (51, ('ειν', 'ἅπασαι')), (52, ('ἵστανται', 'μιχαὴλ')), (53, ('πτολεμαῖον', 'εἰσῆλθον')), (54, ('σῶσον', 'τᾶς'))]\n",
      "\n",
      "Loading model: gensim_lda_model_tlg_numtopics100_numpasses1_nobelow20_noabove0.1_tokmin3_tokmax20_docmin50_deaccentFalse.model ...\n",
      "... for word intrusion testing ...\n"
     ]
    },
    {
     "name": "stderr",
     "output_type": "stream",
     "text": [
      "INFO : loaded /home/kyle/cltk_data/user_data/lda_tlg/gensim_lda_model_tlg_numtopics100_numpasses1_nobelow20_noabove0.1_tokmin3_tokmax20_docmin50_deaccentFalse.model.state\n"
     ]
    },
    {
     "name": "stdout",
     "output_type": "stream",
     "text": [
      "Top 50 words of each LDA model:\n",
      "[['καῖσαρ', 'ἵστανται', 'πρεσβευτὰς', 'σχολῶν', 'ἱππεῖς', 'ξὺν', 'βῆλον', 'κηροὺς', 'σῶσον', 'θεᾶς', 'παῦλον', 'βροῦτος', 'ὕπατος', 'ὕπατον', 'βροῦτον', 'ἰουστινιανοῦ', 'ἀχαιοῖς', 'οὐθὲν', 'τελεῖται', 'πτολεμαῖον', 'αἰτιατικῇ', 'πρεσβευτῶν', 'αἰτωλῶν', 'ψιλοῦται', 'ἔπαρχος', 'στρατῷ', 'σπονδῶν', 'νεῦμα', 'γενικῇ', 'θεμιστοκλῆς', 'σαρακηνῶν', 'ἀχαιοὺς', 'ἀττικοὶ', 'νηῶν', 'φρουρὰν', 'ἔπεμψαν', 'ἰσραὴλ', 'γαλατῶν', 'ἀντωνῖνος', 'περικλῆς', 'σπαρτιατῶν', 'κεφ', 'κοιτῶνι', 'φοροῦντες', 'δεξιῷ', 'μιχαὴλ', 'χαλκῆς', 'γεννῶ', 'πρεσβευτὴν', 'ἔντευξιν'], ['καῖσαρ', 'ἵστανται', 'ἱππεῖς', 'πρεσβευτὰς', 'σχολῶν', 'ὕπατον', 'οὐθὲν', 'βροῦτον', 'βροῦτος', 'σῶσον', 'ὑπολαβὼν', 'ἰδεῶν', 'κῶλα', 'θεμιστοκλῆς', 'φρουρὰν', 'βῆλον', 'πτολεμαῖον', 'ἀντωνῖνος', 'σπαρτιατῶν', 'ὕπατος', 'νεῦμα', 'κηροὺς', 'ἔννοιαι', 'ᾤοντο', 'ἀχαιοῖς', 'μηθὲν', 'ἄρατος', 'ξὺν', 'τελεῖται', 'λυκοῦργος', 'στρατῷ', 'περικλῆς', 'σιωπῆς', 'κῶλον', 'πρεσβευτῶν', 'τεχνικὸς', 'περιβολῆς', 'ἰουστινιανοῦ', 'δοκοῦντος', 'ἰουστινιανὸς', 'περιβολὴν', 'πολιτικὸς', 'ναυσὶ', 'εὐμενὴς', 'ὕπατοι', 'ἥδιστον', 'γαλατῶν', 'ἐπιφανῶν', 'περιορᾶν', 'κῦρον'], ['καῖσαρ', 'ἵστανται', 'ἱππεῖς', 'σχολῶν', 'βροῦτον', 'ξὺν', 'πρεσβευτὰς', 'βροῦτος', 'βῆλον', 'φρουρὰν', 'ἀπῄει', 'ἀχαιοῖς', 'ὕπατον', 'οὐθὲν', 'κηροὺς', 'ὕπατος', 'πτολεμαῖον', 'περικλῆς', 'ἄρατος', 'ὑπολαβὼν', 'δοκοῦντος', 'θεμιστοκλῆς', 'νεῦμα', 'σπαρτιατῶν', 'ἀντωνῖνος', 'ᾤοντο', 'σῶσον', 'λυκοῦργος', 'ἔπεμψαν', 'ἀπολιπεῖν', 'ἥδιστον', 'στρατῷ', 'στρατηγοῖς', 'κῦρον', 'σπαρτιᾶται', 'πρεσβευτῶν', 'φανερὸς', 'εὐμενὴς', 'θηβαῖοι', 'ὕπατοι', 'διαφυγεῖν', 'μηθὲν', 'εὐμενῆ', 'γαλατῶν', 'σπονδῶν', 'κῶλα', 'μιχαὴλ', 'ἔλαθε', 'ἔπραττεν', 'παρακαλεῖν'], ['καῖσαρ', 'ἵστανται', 'σχολῶν', 'βῆλον', 'ἱππεῖς', 'οὐθὲν', 'ξὺν', 'πρεσβευτὰς', 'πτολεμαῖον', 'σῶσον', 'ὕπατον', 'νεῦμα', 'ἰουστινιανοῦ', 'κεφ', 'ἀχαιοῖς', 'πρεσβευτῶν', 'ὑπολαβὼν', 'στρατῷ', 'ὕπατος', 'βροῦτος', 'κηροὺς', 'πρεσβευτὴν', 'σπονδῶν', 'ἅγιε', 'αἰτωλῶν', 'σαρακηνῶν', 'ἔπραττεν', 'βροῦτον', 'ἀντωνῖνος', 'βασιλικοὶ', 'τελεῖται', 'ἰουστινιανὸς', 'ἄτταλον', 'ὕπατοι', 'χαλκῆς', 'ᾤοντο', 'κῦρον', 'κωνσταντῖνος', 'φρουρὰν', 'ἔπεμψαν', 'μηθὲν', 'θεμιστοκλῆς', 'λιτῆς', 'συνῆλθον', 'περικλῆς', 'ἄρατος', 'προσκυνεῖ', 'βασιλικὰ', 'σπαρτιατῶν', 'γαλατῶν'], ['καῖσαρ', 'ἵστανται', 'πρεσβευτὰς', 'ἱππεῖς', 'ξὺν', 'βροῦτος', 'βῆλον', 'βροῦτον', 'σῶσον', 'σχολῶν', 'ἀχαιοῖς', 'ὕπατον', 'ᾤοντο', 'γαλατῶν', 'θεμιστοκλῆς', 'ὕπατος', 'τελεῖται', 'ἔπεμψαν', 'πρεσβευτῶν', 'σπονδῶν', 'πτολεμαῖον', 'λυκοῦργος', 'ἀντωνῖνος', 'ἄρατος', 'ἰουστινιανοῦ', 'οὐθὲν', 'κηροὺς', 'φρουρὰν', 'αἰτωλῶν', 'νεῦμα', 'ὑπολαβὼν', 'περικλῆς', 'εὐμενὴς', 'ἔπραττεν', 'δοκοῦντος', 'στρατῷ', 'ἀχαιοὺς', 'ἅγιε', 'εὐμενῆ', 'παιδιᾶς', 'κεφ', 'δωρεὰς', 'κῦρον', 'κωνσταντῖνος', 'μιχαὴλ', 'περσεὺς', 'χρυσῆς', 'ἀπολιπεῖν', 'σῴζειν', 'σῴζεσθαι'], ['ἱππεῖς', 'καῖσαρ', 'ἵστανται', 'σχολῶν', 'πρεσβευτὰς', 'βροῦτον', 'ἀντιφῶν', 'βροῦτος', 'ὕπατον', 'θεμιστοκλῆς', 'στρατῷ', 'ὕπατος', 'ὑπολαβὼν', 'οὐθὲν', 'ᾤοντο', 'ἀχαιοῖς', 'σῶσον', 'τελεῖται', 'ἰδεῶν', 'ξὺν', 'ἄρατος', 'κηροὺς', 'κῦρον', 'νεῦμα', 'βῆλον', 'πρεσβευτῶν', 'λυκοῦργος', 'ἥδεσθαι', 'ἐπανῆλθεν', 'σπονδῶν', 'ἰουστινιανοῦ', 'ὥρμησε', 'ἀντιφῶντος', 'βασιλικοὶ', 'αἰτωλῶν', 'πτολεμαῖον', 'μηθὲν', 'ἀπολιπεῖν', 'γαλατῶν', 'δαυὶδ', 'ἔπεμψαν', 'ἔπραττεν', 'ἅγιε', 'δοκοῦντος', 'εὐμενῆ', 'φρουρὰν', 'σπαρτιατῶν', 'στρατηγοῖς', 'σῴζειν', 'φανερὸς'], ['καῖσαρ', 'ἵστανται', 'ἱππεῖς', 'σχολῶν', 'πρεσβευτὰς', 'βῆλον', 'ξὺν', 'βροῦτος', 'ἰουστινιανοῦ', 'ὕπατος', 'ἀπῄει', 'ἀντωνῖνος', 'ὕπατον', 'οὐθὲν', 'βροῦτον', 'ὑπολαβὼν', 'σῶσον', 'κηροὺς', 'θεμιστοκλῆς', 'πρεσβευτῶν', 'πτολεμαῖον', 'τοῦρκοι', 'πρεσβευτὴν', 'σαρακηνῶν', 'στρατῷ', 'ἀχαιοῖς', 'μιχαὴλ', 'νεῦμα', 'περικλῆς', 'ᾔτει', 'ἔπεμψαν', 'κατεῖχε', 'ἥδιστον', 'στρατηγοῖς', 'δωρεὰς', 'κῦρον', 'ἀχαιοὺς', 'κομνηνὸς', 'λυκοῦργος', 'ἐπανῆλθεν', 'κωνσταντῖνος', 'ἔναγχος', 'ἄρατος', 'ἐξῄει', 'σπονδῶν', 'φρουρὰν', 'ὕπνους', 'σῴζεσθαι', 'ὕπατοι', 'ὥρμησε'], ['καῖσαρ', 'ἱππεῖς', 'ἵστανται', 'οὐθὲν', 'βροῦτος', 'βῆλον', 'ὕπατον', 'σχολῶν', 'ἀπῄει', 'σπαρτιατῶν', 'ὕπατος', 'πρεσβευτὰς', 'βροῦτον', 'εὐμενὴς', 'ἀχαιοῖς', 'λυκοῦργος', 'θεμιστοκλῆς', 'ξὺν', 'ὑπολαβὼν', 'ἥδιστον', 'ᾤοντο', 'δοκοῦντος', 'γαλατῶν', 'ἔπεμψαν', 'ἐπιφανῶν', 'πτολεμαῖον', 'φρουρὰν', 'ἀπολιπεῖν', 'βοῆς', 'σῶσον', 'σπονδῶν', 'νεῦμα', 'σῴζεσθαι', 'περιορᾶν', 'ἄρατος', 'κῦρον', 'ὥρμησαν', 'περικλῆς', 'πρεσβευτῶν', 'σῴζειν', 'ἀντωνῖνος', 'ὁμαλῶς', 'ὥρμησε', 'στρατῷ', 'σαρακηνῶν', 'δελφοὺς', 'πρᾴως', 'ἰδεῶν', 'στρατηγοῖς', 'σιωπῆς'], ['καῖσαρ', 'ἵστανται', 'πρεσβευτὰς', 'βῆλον', 'ἱππεῖς', 'νεῦμα', 'σχολῶν', 'ὕπατον', 'πρεσβευτῶν', 'πτολεμαῖον', 'κηροὺς', 'σῶσον', 'ἀντωνῖνος', 'ὕπατος', 'βροῦτον', 'βροῦτος', 'ἰουστινιανοῦ', 'πρεσβευτὴν', 'ὑπολαβὼν', 'στρατῷ', 'θεμιστοκλῆς', 'κῦρον', 'ἀχαιοῖς', 'ἔπραττεν', 'φρουρὰν', 'τελεῖται', 'ἅγιε', 'ἔπαρχος', 'ᾤοντο', 'ξὺν', 'χαλκῆς', 'οὐθὲν', 'φοροῦντες', 'σπαρτιατῶν', 'αἰτωλῶν', 'ἀχαιοὺς', 'κωνσταντῖνος', 'ἰουστινιανὸς', 'προσκυνεῖ', 'δωρεὰς', 'ἔπεμψαν', 'περσεὺς', 'περικλῆς', 'κεφ', 'σπονδῶν', 'ὥρμησε', 'κοιτῶνι', 'δελφοὺς', 'ἄρατος', 'σαρακηνῶν'], ['καῖσαρ', 'ἵστανται', 'οἴκαδ', 'ἱππεῖς', 'πρεσβευτὰς', 'αἰτιατικῇ', 'βῆλον', 'ὕπατον', 'καταβαλὼν', 'εὕρημα', 'βροῦτον', 'ἀσελγῶς', 'σαπρὸν', 'πρᾶγμ', 'ἐνδελεχῶς', 'τουτονὶ', 'ἄπροικον', 'γυναῖκ', 'πενιχρὰν', 'ἐξεμεῖ', 'τιμῶσα', 'ἀττικοὶ', 'σχολῶν', 'εὐτρεπεῖς', 'βροῦτος', 'κηροὺς', 'παθητικῶς', 'ἐνεργητικῶς', 'σῶσον', 'πτολεμαῖον', 'νεῦμα', 'στρατῷ', 'ξὺν', 'ὕπατος', 'δυναστῶν', 'γενικῇ', 'ἰουστινιανοῦ', 'περικλῆς', 'αἰτωλῶν', 'πρεσβευτῶν', 'φρουρὰν', 'θεμιστοκλῆς', 'ἀχαιοῖς', 'οὐθὲν', 'ἀστῶν', 'ἀχαιοὺς', 'ὥρμησε', 'ἰουστινιανὸς', 'χαλκῆς', 'ἀντωνῖνος'], ['καῖσαρ', 'ἵστανται', 'πρεσβευτὰς', 'ἱππεῖς', 'βῆλον', 'ὕπατον', 'βροῦτος', 'οὐθὲν', 'σχολῶν', 'βροῦτον', 'ὕπατος', 'σπαρτιατῶν', 'σῶσον', 'φρουρὰν', 'ἀχαιοῖς', 'νεῦμα', 'θεμιστοκλῆς', 'ὑπολαβὼν', 'ἀντωνῖνος', 'στρατῷ', 'ξὺν', 'πρεσβευτὴν', 'ἐπιφανῶν', 'ναυσὶ', 'ἔπραττεν', 'ἰουστινιανοῦ', 'περικλῆς', 'πτολεμαῖον', 'ᾤοντο', 'ἀχαιοὺς', 'ἄρατος', 'κηροὺς', 'ἔπεμψαν', 'στρατηγοῖς', 'λιτῆς', 'λυκοῦργος', 'δελφοὺς', 'σῴζειν', 'ὥρμησε', 'εὐμενὴς', 'δημαγωγῶν', 'ἐπανῆλθεν', 'σπονδῶν', 'ὁμαλῶς', 'περσεὺς', 'ἀπολιπεῖν', 'παρακαλεῖν', 'αἰτωλῶν', 'κῦρον', 'σιωπῆς'], ['καῖσαρ', 'ἵστανται', 'ἱππεῖς', 'πρεσβευτὰς', 'ἰσραὴλ', 'βροῦτος', 'βῆλον', 'σῶσον', 'δαυὶδ', 'ἡγοῦ', 'εὐεργετεῖν', 'θεμιστοκλῆς', 'σχολῶν', 'βροῦτον', 'ὕπατος', 'ξὺν', 'οὐθὲν', 'στρατῷ', 'ὕπατον', 'ἔπεμψαν', 'νεῦμα', 'ὑπολαβὼν', 'ἰουστινιανοῦ', 'κοσμεῖν', 'φρουρὰν', 'σπαρτιατῶν', 'σπουδαῖος', 'πτολεμαῖον', 'ᾤοντο', 'εὔνουν', 'λυκοῦργος', 'κοσμεῖ', 'ἀχαιοῖς', 'δημαγωγῶν', 'εὔνοια', 'αἰτωλῶν', 'κηροὺς', 'περικλῆς', 'ἄρατον', 'παιδιᾶς', 'ἐπιφανῶν', 'γαλατῶν', 'ἄρατος', 'ἐπανῆλθεν', 'ἀπολιπεῖν', 'αὔταρκες', 'κῦρον', 'ἀπειλὴν', 'μᾶρκος', 'δελφοὺς'], ['καῖσαρ', 'ἵστανται', 'ἱππεῖς', 'πρεσβευτὰς', 'βῆλον', 'βροῦτος', 'σχολῶν', 'ὕπατον', 'οὐθὲν', 'φρουρὰν', 'πτολεμαῖον', 'νεῦμα', 'βροῦτον', 'ὑπολαβὼν', 'ξὺν', 'ἔπραττεν', 'περικλῆς', 'αἰτωλῶν', 'ὕπατος', 'σῶσον', 'ἀχαιοῖς', 'κηροὺς', 'θεμιστοκλῆς', 'κῦρον', 'ἰουστινιανοῦ', 'στρατῷ', 'εὐμενὴς', 'ἔπεμψαν', 'εὐμενῆ', 'τελεῖται', 'ἥδιστον', 'ἄρατος', 'σπαρτιατῶν', 'ἐπιφανῶν', 'λυκοῦργος', 'πρεσβευτῶν', 'πρεσβευτὴν', 'ᾤοντο', 'ἀχαιοὺς', 'δεξιῷ', 'ἐπανῆλθεν', 'σῴζειν', 'σπονδῶν', 'φοροῦντες', 'φανερὸς', 'κεφ', 'γαλατῶν', 'κατεῖχε', 'στρατηγοῖς', 'ἀπολιπεῖν'], ['αἴθραν', 'καῖσαρ', 'ἵστανται', 'ὀστῶν', 'ὀρφεὺς', 'ἱππεῖς', 'βροῦτος', 'βῆλον', 'λυδῶν', 'στρατειῶν', 'πτολεμαῖον', 'φυλακὴ', 'ἰσραὴλ', 'ἀφῖχθαι', 'χρησμοῖς', 'σχολῶν', 'μελισσῶν', 'γενεᾷ', 'ἑκαταῖος', 'ἥρωα', 'ὁμηρικὸν', 'συμφυὲς', 'ἕλκους', 'θεὰ', 'κατῴκησε', 'ἄρνα', 'δημοφῶντα', 'θεμιστοκλῆς', 'ὦρσε', 'ἱστοροῦντα', 'συνῆκται', 'τρωικοῦ', 'ἔχεν', 'ἀσκληπιὸς', 'ἔμπεδον', 'ἄργον', 'ἱστοροῦνται', 'ἰνδικοῦ', 'ὤρεξε', 'ἄρξωνται', 'ἵει', 'ὑγιασθῆναι', 'ὀφθαλμοῖσιν', 'ξὺν', 'ὑπολαβὼν', 'ἄρατος', 'περικλῆς', 'σῶσον', 'οὐθὲν', 'βροῦτον'], ['καῖσαρ', 'ἵστανται', 'ἱππεῖς', 'πρεσβευτὰς', 'σχολῶν', 'βροῦτον', 'ξὺν', 'βῆλον', 'ἀντιφῶντος', 'ἀντιφῶν', 'ὕπατον', 'οὐθὲν', 'ἀπῄει', 'βροῦτος', 'ὕπατος', 'σῶσον', 'νεῦμα', 'ᾤοντο', 'ἔννοιαι', 'ὑπολαβὼν', 'πρεσβευτῶν', 'μιχαὴλ', 'κηροὺς', 'ἰδεῶν', 'φρουρὰν', 'ἀχαιοῖς', 'κῦρον', 'πτολεμαῖον', 'στρατῷ', 'ἄρατος', 'δοκοῦντος', 'ἀχαιοὺς', 'σαρακηνῶν', 'λυκοῦργος', 'θεμιστοκλῆς', 'περικλῆς', 'μηθὲν', 'ἰουστινιανὸς', 'ἔπραττεν', 'σπονδῶν', 'σπαρτιατῶν', 'κατεῖχε', 'κῶλα', 'ἔπεμψαν', 'ἀντωνῖνος', 'κωνσταντῖνος', 'εὐμενῆ', 'ναυσὶ', 'κῶλον', 'προσκυνεῖ'], ['ἵστανται', 'καῖσαρ', 'σχολῶν', 'ἱππεῖς', 'πρεσβευτὰς', 'βῆλον', 'νεῦμα', 'ἄδωνις', 'ξὺν', 'νιν', 'κηροὺς', 'σῶσον', 'τελεῖται', 'αἰαῖ', 'ἰουστινιανοῦ', 'ὕπατος', 'ἀντωνῖνος', 'ἄδωνιν', 'πτολεμαῖον', 'βροῦτον', 'ἔρωτες', 'οὐθὲν', 'ὕπατον', 'πρεσβευτῶν', 'σαρακηνῶν', 'ἀχαιοῖς', 'κωνσταντῖνος', 'ὑπολαβὼν', 'ἅγιε', 'βροῦτος', 'αἰτωλῶν', 'λιτῆς', 'χαλκῆς', 'κῦρον', 'ἔπεμψαν', 'ἐπιφανῶν', 'μιχαὴλ', 'πρεσβευτὴν', 'φρουρὰν', 'ἄρατος', 'ἀχαιοὺς', 'σπονδῶν', 'προσκυνεῖ', 'ἰουστινιανὸς', 'βασιλικοὶ', 'περσεὺς', 'δαυὶδ', 'στρατῷ', 'εὐμενῆ', 'ἐπιτελεῖται'], ['καῖσαρ', 'ἱππεῖς', 'ἵστανται', 'αἰτιατικῇ', 'παθητικῶς', 'βροῦτον', 'ἀττικοὶ', 'οὐθὲν', 'βροῦτος', 'ἀχαιοῖς', 'ἀπῄει', 'θεμιστοκλῆς', 'ξὺν', 'βῆλον', 'πρεσβευτὰς', 'γενικῇ', 'ἐνεργητικὴν', 'ὕπατον', 'πρεσβευτῶν', 'πτολεμαῖον', 'ἐνεργητικῶς', 'σχολῶν', 'σπαρτιατῶν', 'ἄρατος', 'περικλῆς', 'παραιτεῖσθαι', 'ὕπατος', 'φρουρὰν', 'ᾤοντο', 'ἄγω', 'νεῦμα', 'μεγαρεῖς', 'στρατῷ', 'σαρακηνῶν', 'ὕπνους', 'προῆλθε', 'κωνσταντῖνος', 'ἔπεμψαν', 'ἥδιστον', 'δεῖνος', 'παιδιᾶς', 'κῦρον', 'ἔλαθε', 'παθητικὴν', 'μεταβολαῖς', 'ἐπανῆλθεν', 'παρακαλεῖν', 'ὑπολαβὼν', 'δοκοῦντος', 'μιχαὴλ'], ['καῖσαρ', 'ἱππεῖς', 'ἵστανται', 'βροῦτος', 'πρεσβευτὰς', 'βῆλον', 'ὕπατος', 'ὕπατον', 'ἄρατος', 'βροῦτον', 'στρατῷ', 'οὐθὲν', 'σῶσον', 'θεμιστοκλῆς', 'πτολεμαῖον', 'ἀχαιοῖς', 'νεῦμα', 'σχολῶν', 'περικλῆς', 'λυκοῦργος', 'ᾤοντο', 'ξὺν', 'πρεσβευτῶν', 'ἐπιφανῶν', 'ὑπολαβὼν', 'φρουρὰν', 'κηροὺς', 'παρακαλεῖν', 'ὕπατοι', 'δοκοῦντος', 'ἔπεμψαν', 'ἀντωνῖνος', 'ὕπνους', 'σπαρτιατῶν', 'ὥρμησε', 'ἰουστινιανοῦ', 'εὐμενῆ', 'ἔπραττεν', 'ἥδιστον', 'ἐπανῆλθεν', 'ἔναγχος', 'ἀχαιοὺς', 'σαρακηνῶν', 'ἀπολιπεῖν', 'εὐμενὴς', 'ἄρατον', 'ἅγιε', 'φανερὸς', 'ἔλαθε', 'περσεὺς'], ['καῖσαρ', 'ἵστανται', 'ἄδωνις', 'νιν', 'ἄδωνιν', 'πρεσβευτὰς', 'σχολῶν', 'αἰαῖ', 'ἱππεῖς', 'βῆλον', 'ὕπατον', 'ξὺν', 'ἔρωτες', 'κηροὺς', 'ὄλβιος', 'βροῦτον', 'φρουρὰν', 'ἰουστινιανοῦ', 'ἀχαιοῖς', 'ἀντωνῖνος', 'ἰσραὴλ', 'οὐθὲν', 'βροῦτος', 'στρατῷ', 'σῶσον', 'ὕπατος', 'νεῦμα', 'ἔπεμψαν', 'τελεῖται', 'αἰτωλῶν', 'τᾶς', 'ἅγιε', 'ἰδεῶν', 'κωνσταντῖνος', 'μιχαὴλ', 'τῆνον', 'γαλατῶν', 'πρεσβευτῶν', 'κεφ', 'πτολεμαῖον', 'σπονδῶν', 'ᾤοντο', 'ἀχαιοὺς', 'θεμιστοκλῆς', 'ἀπῄει', 'κῦρον', 'σαρακηνῶν', 'δοκοῦντος', 'ἐπανῆλθεν', 'βασιλικοὶ'], ['καῖσαρ', 'ἵστανται', 'ἰδεῶν', 'πρεσβευτὰς', 'ἱππεῖς', 'ὕπατον', 'βροῦτος', 'ἔννοιαι', 'σχολῶν', 'βροῦτον', 'κηροὺς', 'πτολεμαῖον', 'φρουρὰν', 'ξὺν', 'κῶλα', 'βῆλον', 'ἀντιφῶντος', 'ὕπατος', 'δοκοῦντος', 'ἀχαιοῖς', 'ἥδιστον', 'κῦρον', 'κῶλον', 'ὑπολαβὼν', 'σῶσον', 'πρεσβευτῶν', 'ἀντιφῶν', 'τεχνικὸς', 'κωνσταντῖνος', 'ἄρατος', 'περιβολῆς', 'στρατῷ', 'θεμιστοκλῆς', 'ἐπιφανῶν', 'πολιτικὸς', 'ἀχαιοὺς', 'αἰτωλῶν', 'πολιτικῆς', 'σπονδῶν', 'ἰουστινιανοῦ', 'κεφ', 'περικλῆς', 'εὐμενὴς', 'ἅγιε', 'εὐμενῆ', 'τελεῖται', 'ᾤοντο', 'οὐθὲν', 'σῴζειν', 'σαρακηνῶν'], ['καῖσαρ', 'ἵστανται', 'ἱππεῖς', 'πρεσβευτὰς', 'σχολῶν', 'κηροὺς', 'βῆλον', 'σῶσον', 'ἰουστινιανοῦ', 'βροῦτον', 'τελεῖται', 'οὐθὲν', 'ὕπατον', 'στρατῷ', 'ξὺν', 'ἀχαιοῖς', 'πρεσβευτῶν', 'πτολεμαῖον', 'ἔπεμψαν', 'ἅγιε', 'βροῦτος', 'ὕπατος', 'κῦρον', 'νεῦμα', 'σπονδῶν', 'σαρακηνῶν', 'ἰδεῶν', 'ᾤοντο', 'ὑπολαβὼν', 'κωνσταντῖνος', 'φρουρὰν', 'ἀχαιοὺς', 'μηθὲν', 'εἴθισται', 'θεμιστοκλῆς', 'διελθὼν', 'ἔπραττεν', 'δελφοὺς', 'εὐμενὴς', 'λυκοῦργος', 'πρεσβευτὴν', 'ἥδιστον', 'ἔννοιαι', 'ἐπιτελεῖται', 'κῶλα', 'φοροῦντες', 'αἰτωλῶν', 'κεφ', 'προσκαλεῖται', 'στρατηγοῖς'], ['ἵστανται', 'καῖσαρ', 'ἐθνικὸν', 'σχολῶν', 'πρεσβευτὰς', 'λυδῶν', 'βῆλον', 'ξὺν', 'χεροῖν', 'σῶσον', 'ἕκτῃ', 'κοῦφα', 'ἀμνοὶ', 'ἅλλεται', 'εὔμολπον', 'ὕπατον', 'ἱππεῖς', 'μιχαὴλ', 'νεῦμα', 'περικλῆς', 'κηροὺς', 'ὕπατος', 'τοῦρκοι', 'ἀπῄει', 'πρεσβευτῶν', 'πτολεμαῖον', 'στρατῷ', 'λυκοῦργος', 'σαρακηνῶν', 'δελφοὺς', 'βροῦτος', 'πρεσβευτὴν', 'αἰτωλῶν', 'φρουρὰν', 'λιτῆς', 'ἀντωνῖνος', 'πειραιεῖ', 'ὑπολαβὼν', 'οὐθὲν', 'κομνηνὸς', 'βροῦτον', 'ἄτταλον', 'γαλατῶν', 'ἰουστινιανοῦ', 'ἅγιε', 'σπονδῶν', 'ἀχαιοὺς', 'ἀχαιοῖς', 'περικλεῖ', 'ὕπατοι'], ['καῖσαρ', 'ἵστανται', 'ἱππεῖς', 'ὕπατον', 'σχολῶν', 'βῆλον', 'ξὺν', 'κωνσταντῖνος', 'σῶσον', 'οὐθὲν', 'πρεσβευτὰς', 'ὕπατος', 'στρατῷ', 'κηροὺς', 'πτολεμαῖον', 'βροῦτος', 'φρουρὰν', 'ἔπεμψαν', 'ᾤοντο', 'θεμιστοκλῆς', 'μιχαὴλ', 'ἀντωνῖνος', 'βροῦτον', 'ἄρατος', 'λυκοῦργος', 'ἀχαιοῖς', 'ὕπατοι', 'ἀπολιπεῖν', 'πρεσβευτῶν', 'ἀπῄει', 'νεῦμα', 'ὑπολαβὼν', 'πρεσβευτὴν', 'στρατηγοῖς', 'γαλατῶν', 'σαρακηνῶν', 'σπαρτιατῶν', 'ἔπραττεν', 'ἔπεμπε', 'τελεῖται', 'τοῦρκοι', 'μηθὲν', 'παιδιᾶς', 'σπονδῶν', 'ἥδιστον', 'δωρεὰς', 'πολεμικῶν', 'ἀφειδῶς', 'ἐπιφανῶν', 'εὐμενὴς'], ['καῖσαρ', 'ἵστανται', 'ἰουδαῖοι', 'ἱππεῖς', 'ἡρῴδης', 'πρεσβευτὰς', 'σχολῶν', 'μνημεῖον', 'ἰερουσαλὴμ', 'σταυρὸν', 'μαθηταὶ', 'ἴδετε', 'γραμματεῖς', 'δῦναι', 'ἔθηκαν', 'οὐθὲν', 'βροῦτον', 'βῆλον', 'ἰσραὴλ', 'βροῦτος', 'ἀντιφῶν', 'ξὺν', 'πτολεμαῖον', 'ἔπεμψαν', 'σῶσον', 'ἀντιφῶντος', 'λαῷ', 'ἰωσὴφ', 'δαυὶδ', 'εἰσῆλθον', 'ὕπατον', 'θεμιστοκλῆς', 'οὐρανοὺς', 'ᾤοντο', 'ὑπολαβὼν', 'στρατῷ', 'κελεῦσαι', 'ἰουστινιανοῦ', 'ὕπατος', 'ἐφοβοῦντο', 'ἐνεγκὼν', 'ἑστῶτες', 'ἴδωσιν', 'ᾔτησε', 'ἔζη', 'περικλῆς', 'ὄρθρου', 'ἐμπρῆσαι', 'πρεσβευτῶν', 'νεῦμα'], ['καῖσαρ', 'ξὺν', 'σχολῶν', 'τοῦρκοι', 'ἵστανται', 'μιχαὴλ', 'κομνηνὸς', 'ἀπῄει', 'ἱππεῖς', 'πρεσβευτὰς', 'κομνηνὸν', 'ὕπατος', 'σῶσον', 'κηροὺς', 'ἀντωνῖνος', 'βροῦτος', 'βῆλον', 'κωνσταντῖνος', 'φρουρὰν', 'βροῦτον', 'ἐξῄει', 'ὕπατον', 'ἰουστινιανοῦ', 'στρατῷ', 'κρατοῦντα', 'κομνηνῷ', 'διελθὼν', 'πτολεμαῖον', 'ἔσπευδεν', 'σπονδῶν', 'θεμιστοκλῆς', 'ᾤοντο', 'οὐθὲν', 'ἀχαιοὺς', 'ᾔτει', 'περιῄει', 'ἐπειρῶντο', 'ἀχαιοῖς', 'πρεσβευτὴν', 'πρεσβευτῶν', 'ἔπεμψαν', 'κῶλα', 'προσεποιεῖτο', 'ἄρατος', 'τελεῖται', 'ὑπολαβὼν', 'νεῦμα', 'ἰδεῶν', 'ἔφθη', 'αἰτωλῶν'], ['καῖσαρ', 'ἵστανται', 'πρεσβευτὰς', 'ἱππεῖς', 'σχολῶν', 'βῆλον', 'νεῦμα', 'κηροὺς', 'στρατῷ', 'πρεσβευτῶν', 'βροῦτος', 'ξὺν', 'θεμιστοκλῆς', 'ὕπατος', 'σπαρτιατῶν', 'ἀντωνῖνος', 'ὕπατον', 'σῶσον', 'ἰουστινιανοῦ', 'οὐθὲν', 'ἔπεμψαν', 'φρουρὰν', 'ἅγιε', 'τελεῖται', 'δοκοῦντος', 'σαρακηνῶν', 'ἥδιστον', 'ἰδεῶν', 'σῴζειν', 'χαλκῆς', 'κεφ', 'ἔπραττεν', 'πολιτικὸς', 'κωνσταντῖνος', 'πτολεμαῖον', 'ἄρατος', 'μιχαὴλ', 'ἀχαιοῖς', 'πρεσβευτὴν', 'διαφυγεῖν', 'μηθὲν', 'ᾤοντο', 'ἔννοιαι', 'βασιλικοὶ', 'κῶλον', 'ᾔτει', 'βροῦτον', 'περικλῆς', 'εὐμενὴς', 'ναυσὶ'], ['καῖσαρ', 'ἵστανται', 'μυσῶν', 'φῄς', 'αὐτοῖσιν', 'ξὺν', 'πρεσβευτὰς', 'ἱππεῖς', 'ὕπατον', 'βῆλον', 'σχολῶν', 'βροῦτος', 'ἔπεμψαν', 'πτολεμαῖον', 'οὐθὲν', 'ἄδωνις', 'ὕπατος', 'φρουρὰν', 'κηροὺς', 'βροῦτον', 'ᾤοντο', 'σπονδῶν', 'ἔρωτες', 'πρεσβευτῶν', 'ἀχαιοῖς', 'τελεῖται', 'ἰουστινιανοῦ', 'κωνσταντῖνος', 'κῦρον', 'νεῦμα', 'θεμιστοκλῆς', 'ἄδωνιν', 'ἅγιε', 'σῶσον', 'ἀχαιοὺς', 'ἀπῄει', 'περσεὺς', 'ἄρατος', 'νιν', 'κεφ', 'σαρακηνῶν', 'ὕπατοι', 'ἐπανῆλθεν', 'στρατῷ', 'ἀντωνῖνος', 'πρεσβευτὴν', 'σπαρτιατῶν', 'μηθὲν', 'μιχαὴλ', 'ἥδιστον'], ['καῖσαρ', 'ἵστανται', 'ἱππεῖς', 'σχολῶν', 'βῆλον', 'πρεσβευτὰς', 'ὕπατον', 'βροῦτος', 'ὕπατος', 'φρουρὰν', 'πτολεμαῖον', 'κηροὺς', 'νεῦμα', 'οὐθὲν', 'ἀντωνῖνος', 'ἀχαιοῖς', 'ξὺν', 'βροῦτον', 'ἰουστινιανοῦ', 'τελεῖται', 'στρατῷ', 'δαυὶδ', 'ἥδιστον', 'ἀχαιοὺς', 'περικλῆς', 'ἰσραὴλ', 'ᾤοντο', 'σῶσον', 'πρεσβευτῶν', 'πρεσβευτὴν', 'ἔπραττεν', 'ἔπεμψαν', 'θεμιστοκλῆς', 'σπονδῶν', 'γαλατῶν', 'ὥρμησε', 'λυκοῦργος', 'δελφοὺς', 'σαρακηνῶν', 'ἄρατον', 'ἐπανῆλθεν', 'σπαρτιατῶν', 'ἀπῄει', 'περσεὺς', 'κῦρον', 'δωρεὰς', 'κωνσταντῖνος', 'ἰδεῶν', 'ἀπολιπεῖν', 'χαλκῆς'], ['καῖσαρ', 'ἵστανται', 'ἱππεῖς', 'αἰτιατικῇ', 'ὕπατον', 'πρεσβευτὰς', 'βῆλον', 'βροῦτον', 'ἰδεῶν', 'οὐθὲν', 'σχολῶν', 'ὕπατος', 'ξὺν', 'θεμιστοκλῆς', 'πτολεμαῖον', 'ἰουστινιανοῦ', 'σῶσον', 'κῶλα', 'ὑπολαβὼν', 'βροῦτος', 'πρεσβευτὴν', 'ἐνεργητικῶς', 'γενικῇ', 'νεῦμα', 'ἔννοιαι', 'ᾤοντο', 'κηροὺς', 'στρατῷ', 'πρεσβευτῶν', 'ἔπεμψαν', 'ἀχαιοῖς', 'παθητικῶς', 'περιβολὴν', 'κωνσταντῖνος', 'ἀττικοὶ', 'ἥδιστον', 'κῶλον', 'γαλατῶν', 'τελεῖται', 'περικλῆς', 'αἰτωλῶν', 'ἄγω', 'φρουρὰν', 'ἀχαιοὺς', 'προσκαλεῖται', 'σπονδῶν', 'ἐπανῆλθεν', 'κῦρον', 'δελφοὺς', 'ἄρατος'], ['καῖσαρ', 'ἵστανται', 'ἱππεῖς', 'βροῦτος', 'οὐθὲν', 'πρεσβευτὰς', 'ἰσραὴλ', 'βῆλον', 'βροῦτον', 'ὑπολαβὼν', 'ὕπατος', 'ἀχαιοῖς', 'σχολῶν', 'ᾤοντο', 'πτολεμαῖον', 'ὕπατον', 'δαυὶδ', 'ἥδιστον', 'ἰδεῶν', 'φρουρὰν', 'στρατῷ', 'θεμιστοκλῆς', 'κῦρον', 'σπαρτιατῶν', 'ἀπολιπεῖν', 'σπονδῶν', 'εὐμενὴς', 'ἐπιφανῶν', 'σῴζεσθαι', 'ἔναγχος', 'κῶλα', 'πρεσβευτῶν', 'ἄρατον', 'δοκοῦντος', 'ἔπεμψαν', 'παιδιᾶς', 'λυκοῦργος', 'φανερὸς', 'ὥρμησε', 'ἀπῄει', 'σῴζειν', 'σιωπῆς', 'ἄρατος', 'μᾶρκος', 'περικλῆς', 'πρεσβευτὴν', 'ἡγοῦντο', 'κατεῖχε', 'ἐπανελθὼν', 'ἤθει'], ['καῖσαρ', 'ἵστανται', 'ξὺν', 'ἱππεῖς', 'σχολῶν', 'τοῦρκοι', 'πρεσβευτὰς', 'οὐθὲν', 'ὕπατος', 'κομνηνὸς', 'βροῦτος', 'βῆλον', 'ἀπῄει', 'ὕπατον', 'πρεσβευτῶν', 'μιχαὴλ', 'ἀντωνῖνος', 'ἀχαιοῖς', 'κηροὺς', 'κωνσταντῖνος', 'σπονδῶν', 'ἰδεῶν', 'σῶσον', 'φρουρὰν', 'λυκοῦργος', 'ἔπραττεν', 'ᾔτει', 'στρατῷ', 'πτολεμαῖον', 'νεῦμα', 'ὑπολαβὼν', 'ἔφθη', 'ἰουστινιανοῦ', 'βροῦτον', 'ᾤοντο', 'σαρακηνῶν', 'θεμιστοκλῆς', 'σπαρτιατῶν', 'δωρεὰς', 'στρατηγοῖς', 'ἔπαρχος', 'ἄρατος', 'ἔπεμψαν', 'κεφ', 'δοκοῦντος', 'κρατοῦντα', 'χαλκῆς', 'συχνοὺς', 'εὐμενὴς', 'λιτῆς'], ['καῖσαρ', 'ἵστανται', 'σχολῶν', 'ἱππεῖς', 'βῆλον', 'πρεσβευτὰς', 'ξὺν', 'ἀχαιοῖς', 'νεῦμα', 'σῶσον', 'ὕπατον', 'οὐθὲν', 'κηροὺς', 'ἰουστινιανοῦ', 'πρεσβευτῶν', 'βροῦτος', 'πτολεμαῖον', 'μιχαὴλ', 'βροῦτον', 'ἀπῄει', 'κελτῶν', 'ὑπολαβὼν', 'κριτὴν', 'ἰσραὴλ', 'γαλατῶν', 'τοῦρκοι', 'φρουρὰν', 'κωνσταντῖνος', 'ἐπανῆλθεν', 'ὕπατος', 'ἀχαιοὺς', 'ἔπραττεν', 'ἔπεμψαν', 'ᾔτει', 'ᾤοντο', 'σαρακηνῶν', 'σπονδῶν', 'παιδιᾶς', 'κῦρον', 'κεφ', 'προσλαβεῖν', 'δαυὶδ', 'ἄρατος', 'τελεῖται', 'αἰτωλῶν', 'ἰουστινιανὸς', 'σπαρτιατῶν', 'βασιλικοὶ', 'δικαστὴν', 'ἅγιε'], ['ἵστανται', 'καῖσαρ', 'σχολῶν', 'πρεσβευτὰς', 'βῆλον', 'σῶσον', 'ἰουστινιανοῦ', 'ὕπατον', 'ἱππεῖς', 'ξὺν', 'κηροὺς', 'πτολεμαῖον', 'σπονδῶν', 'νεῦμα', 'ὕπατος', 'πρεσβευτῶν', 'τελεῖται', 'οὐθὲν', 'ἀχαιοὺς', 'ἀχαιοῖς', 'ἀντωνῖνος', 'στρατῷ', 'βροῦτος', 'ὑπολαβὼν', 'ἰουστινιανὸς', 'ἔπεμψαν', 'φορῶν', 'περσεὺς', 'φρουρὰν', 'ἅγιε', 'κῦρον', 'ἰδεῶν', 'σαρακηνῶν', 'γαλατῶν', 'κωνσταντῖνος', 'ἄτταλον', 'ἔννοιαι', 'εἴθισται', 'κῶλα', 'περικλῆς', 'ἐπανῆλθεν', 'κοιτῶνι', 'δοχῆς', 'χαλκῆς', 'ἄρατος', 'βασιλικὰ', 'βροῦτον', 'ἥδιστον', 'αἰτωλῶν', 'κυριακῇ'], ['καῖσαρ', 'κρατῆρα', 'ἴφικλος', 'ἱππεῖς', 'ἵστανται', 'πρεσβευτὰς', 'βροῦτος', 'σχολῶν', 'βῆλον', 'ὕπατον', 'ὑπολαβὼν', 'οὐθὲν', 'καταβαλὼν', 'ἀντεῖχον', 'ὕπατος', 'πτολεμαῖον', 'ὤμοσεν', 'ὑπεξελθεῖν', 'ᾔδεσαν', 'χρησμῷ', 'ἱερεῖα', 'ἐρασθεῖσα', 'πολιορκοῦντι', 'ἰσραὴλ', 'φανῶσιν', 'ἐγκρατεῖς', 'τροφοῦ', 'ξὺν', 'λευκοὶ', 'δαιτὸς', 'πρεσβευτῶν', 'ἀντωνῖνος', 'βροῦτον', 'νεῦμα', 'ἔπεμψαν', 'αἰτωλῶν', 'θεμιστοκλῆς', 'μηθὲν', 'ἅγιε', 'φρουρὰν', 'δελφοὺς', 'χαλκῆς', 'ἰουστινιανοῦ', 'ἀχαιοὺς', 'στρατῷ', 'πρεσβευτὴν', 'σπονδῶν', 'κεφ', 'δαυὶδ', 'ἰδεῶν'], ['ἵστανται', 'καῖσαρ', 'παῦλον', 'βῆλον', 'πρεσβευτὰς', 'σχολῶν', 'ἔπαρχος', 'σῶσον', 'ξὺν', 'πρεσβευτῶν', 'ἱππεῖς', 'ἁμαρτωλῶν', 'ἰουστινιανοῦ', 'κοιτῶνι', 'ὕπατον', 'νεῦμα', 'στρατῷ', 'κηροὺς', 'σαρακηνῶν', 'ἀχαιοὺς', 'ὕπατος', 'ἔκτοτε', 'πτολεμαῖον', 'ἀχαιοῖς', 'μιχαὴλ', 'βασιλικοὶ', 'βροῦτος', 'σπονδῶν', 'κωνσταντῖνος', 'λιτῆς', 'ἰσραὴλ', 'πρεσβευτὴν', 'τοῦρκοι', 'ἅγιε', 'αἰνεῖτε', 'κεφ', 'ἐντολὰς', 'χρυσῆς', 'αἴτησιν', 'τελεῖται', 'δοχῆς', 'ἔπεμψαν', 'φρουρὰν', 'οὐθὲν', 'ἀντωνῖνος', 'χαρὰ', 'κοιτῶνα', 'ἐπανῆλθεν', 'ἔχαιρον', 'διελθὼν'], ['καῖσαρ', 'ἵστανται', 'ἱππεῖς', 'πρεσβευτὰς', 'βροῦτος', 'σχολῶν', 'βῆλον', 'οὐθὲν', 'ὕπατος', 'πτολεμαῖον', 'βροῦτον', 'ὕπατον', 'ξὺν', 'ἀντωνῖνος', 'νεῦμα', 'ἐθνικὸν', 'θεμιστοκλῆς', 'ἄρατος', 'ᾤοντο', 'σπαρτιατῶν', 'περικλῆς', 'στρατῷ', 'ὑπολαβὼν', 'σῶσον', 'ἀχαιοῖς', 'ἰδεῶν', 'σπονδῶν', 'κηροὺς', 'δελφοὺς', 'ὥρμησε', 'λυκοῦργος', 'φρουρὰν', 'ἔπεμψαν', 'παρακαλεῖν', 'ἕκτῃ', 'ἰουστινιανοῦ', 'ἀπολιπεῖν', 'ναυσὶ', 'κατεῖχε', 'πρεσβευτῶν', 'ἐπιφανῶν', 'κῦρον', 'φανερὸς', 'ὁμαλῶς', 'ᾔτει', 'ἅγιε', 'σιωπῆς', 'ἀχαιοὺς', 'γαλατῶν', 'περσεὺς'], ['καῖσαρ', 'ἵστανται', 'ἱππεῖς', 'βροῦτος', 'ὕπατον', 'σχολῶν', 'βῆλον', 'πρεσβευτὰς', 'πτολεμαῖον', 'ὕπατος', 'ἥδιστον', 'βροῦτον', 'κηροὺς', 'ἀχαιοῖς', 'σῶσον', 'θεμιστοκλῆς', 'ᾤοντο', 'περικλῆς', 'στρατῷ', 'σπαρτιατῶν', 'ὑπολαβὼν', 'οὐθὲν', 'φρουρὰν', 'ἰδεῶν', 'ἔπραττεν', 'δοκοῦντος', 'σπονδῶν', 'ἀντωνῖνος', 'ἄρατος', 'σαρακηνῶν', 'νεῦμα', 'περιορᾶν', 'ξὺν', 'πρεσβευτῶν', 'ἔπεμψαν', 'ἰουστινιανοῦ', 'ἀπῄει', 'ἀχαιοὺς', 'στρατηγοῖς', 'μηθὲν', 'ἔννοιαι', 'ῥωμαῖον', 'γαλατῶν', 'ναυσὶ', 'διαφυγεῖν', 'κῶλα', 'λυκοῦργος', 'ἰσραὴλ', 'περσεὺς', 'ᾔτει'], ['καῖσαρ', 'ἵστανται', 'ἱππεῖς', 'βροῦτον', 'οὐθὲν', 'βῆλον', 'βροῦτος', 'ὕπατον', 'ἀχαιοῖς', 'πρεσβευτὰς', 'ὕπατος', 'σχολῶν', 'θεμιστοκλῆς', 'ὑπολαβὼν', 'ξὺν', 'φρουρὰν', 'σπονδῶν', 'πτολεμαῖον', 'ἔπεμψαν', 'σῶσον', 'ἔπραττεν', 'κεφ', 'ἀχαιοὺς', 'πρεσβευτῶν', 'κῦρον', 'ἀντωνῖνος', 'κηροὺς', 'στρατῷ', 'ναυσὶ', 'ἰουστινιανοῦ', 'λυκοῦργος', 'ὥρμησε', 'σπαρτιατῶν', 'δωρεὰς', 'γαλατῶν', 'ἄρατος', 'στρατηγοῖς', 'περσεὺς', 'τελεῖται', 'μηθὲν', 'φανερὸς', 'νεῦμα', 'ἐπανῆλθεν', 'εὔνους', 'κωνσταντῖνος', 'ἔλαθε', 'σαρακηνῶν', 'ἔντευξιν', 'αἰτωλῶν', 'δαρεῖον'], ['καῖσαρ', 'ἵστανται', 'ἱππεῖς', 'πρεσβευτὰς', 'σχολῶν', 'βῆλον', 'ξὺν', 'βροῦτον', 'βροῦτος', 'πτολεμαῖον', 'ἀντωνῖνος', 'ὕπατον', 'σῶσον', 'νεῦμα', 'ὕπατος', 'οὐθὲν', 'ἰουστινιανοῦ', 'ὑπολαβὼν', 'κηροὺς', 'πρεσβευτῶν', 'λυκοῦργος', 'θεμιστοκλῆς', 'ἀχαιοὺς', 'κῦρον', 'ἔπεμψαν', 'κεφ', 'φοροῦντες', 'ἀχαιοῖς', 'ἀπῄει', 'σαρακηνῶν', 'τελεῖται', 'σπαρτιατῶν', 'ἐπιφανῶν', 'ἔπραττεν', 'παρακαλεῖν', 'ἀφειδῶς', 'διελθὼν', 'ὥρμησε', 'ᾤοντο', 'πρεσβευτὴν', 'περικλῆς', 'βασιλικοὶ', 'ὕπνους', 'ἄρατος', 'ναυσὶ', 'στρατηγοῖς', 'ἐπανελθὼν', 'γαλατῶν', 'ἤθει', 'εὐμενὴς'], ['καῖσαρ', 'ἵστανται', 'ἱππεῖς', 'σχολῶν', 'βῆλον', 'ἰδεῶν', 'πρεσβευτὰς', 'βροῦτος', 'ἰσραὴλ', 'δαυὶδ', 'νεῦμα', 'ξὺν', 'ἄρατος', 'ὕπατον', 'στρατῷ', 'ὑπολαβὼν', 'βροῦτον', 'ᾤοντο', 'οὐθὲν', 'θεμιστοκλῆς', 'ἀχαιοῖς', 'ἀντωνῖνος', 'πτολεμαῖον', 'ἐπανῆλθεν', 'σῶσον', 'ὥρμησε', 'πρεσβευτῶν', 'σπαρτιατῶν', 'κῶλα', 'λυκοῦργος', 'ἥδιστον', 'δοκοῦντος', 'ἀπῄει', 'φρουρὰν', 'πρεσβευτὴν', 'ἔπραττεν', 'δωρεὰς', 'στρατηγοῖς', 'εὐμενῆ', 'περικλῆς', 'ὕπατος', 'ἐπιφανῶν', 'περιβολῆς', 'σῴζεσθαι', 'ἔννοιαι', 'περιβολὴν', 'σπονδῶν', 'συνῆλθον', 'αἰτωλῶν', 'ἔπεμψαν'], ['καῖσαρ', 'ἵστανται', 'κριτὴν', 'ἱππεῖς', 'βῆλον', 'κελτῶν', 'ἀπολειφθεὶς', 'ποιητὰς', 'εὐφυῆ', 'νεῦμα', 'φαγὼν', 'σχολῶν', 'περιττοὺς', 'ἀντωνῖνος', 'πρεσβευτὰς', 'δικαστὴν', 'ξὺν', 'προσλαβεῖν', 'φρουρὰν', 'ἔπεμψαν', 'ὕπατον', 'ἀχαιοῖς', 'οὐθὲν', 'βροῦτος', 'κῦρον', 'πτολεμαῖον', 'τελεῖται', 'κηροὺς', 'σῶσον', 'ἰουστινιανοῦ', 'πρεσβευτῶν', 'ἄρατος', 'ἀπολιπεῖν', 'ᾤοντο', 'ὕπατος', 'σαρακηνῶν', 'ᾔτει', 'ὑπολαβὼν', 'πρεσβευτὴν', 'περικλῆς', 'ἀπῄει', 'στρατῷ', 'κωνσταντῖνος', 'γαλατῶν', 'λυσιτελὲς', 'αἰτωλῶν', 'ἀγχοῦ', 'γεῦσιν', 'ἁφὴν', 'θεμιστοκλῆς'], ['καῖσαρ', 'ἵστανται', 'πρεσβευτὰς', 'ἱππεῖς', 'ἀντιφῶν', 'βῆλον', 'ἀντιφῶντος', 'σχολῶν', 'βροῦτος', 'ὕπατον', 'κῶλα', 'ὕπατος', 'φρουρὰν', 'ἰουστινιανοῦ', 'ἥδεσθαι', 'πολιτικὸς', 'βροῦτον', 'ἰδεῶν', 'ἀχαιοῖς', 'ἔννοιαι', 'πτολεμαῖον', 'οὐθὲν', 'ὑπολαβὼν', 'ᾤοντο', 'θεμιστοκλῆς', 'κηροὺς', 'σῶσον', 'ξὺν', 'ἔπραττεν', 'ἀπῄει', 'δοκοῦντος', 'κῦρον', 'ἔπεμψαν', 'στρατῷ', 'γαλατῶν', 'σηπεδὼν', 'μηθὲν', 'περικλῆς', 'νεῦμα', 'πρεσβευτὴν', 'κωνσταντῖνος', 'ἥδιστον', 'τεχνικὸς', 'ἀντωνῖνος', 'ἐπανῆλθεν', 'περιβολὴν', 'περσεὺς', 'σπονδῶν', 'ἡδοναὶ', 'στρατηγοῖς'], ['καῖσαρ', 'ἵστανται', 'ἱππεῖς', 'ἀντιφῶντος', 'ἀντιφῶν', 'βροῦτος', 'θεμιστοκλῆς', 'οὐθὲν', 'σχολῶν', 'ὕπατον', 'ὑπολαβὼν', 'πτολεμαῖον', 'βροῦτον', 'σπαρτιατῶν', 'ξὺν', 'ἄρατος', 'ᾤοντο', 'φρουρὰν', 'ὕπατος', 'βῆλον', 'περιορᾶν', 'ἀχαιοῖς', 'ἀπολιπεῖν', 'ἀπῄει', 'πρεσβευτὰς', 'ἔπεμψαν', 'ἄρατον', 'περικλῆς', 'παιδιᾶς', 'ἰσραὴλ', 'ἥδεσθαι', 'δοκοῦντος', 'ἀπιστεῖν', 'ἥδιστον', 'λυκοῦργος', 'σιωπῆς', 'ὥρμησε', 'εὐμενὴς', 'ᾔτει', 'σῶσον', 'ἀχαιοὺς', 'μηθὲν', 'φανερὸς', 'διαφυγεῖν', 'ἐπανῆλθεν', 'κηροὺς', 'ἐμπεδοκλῆς', 'δελφοὺς', 'παρακαλεῖν', 'στρατῷ'], ['καῖσαρ', 'ἵστανται', 'παῦλον', 'ἱππεῖς', 'οὐθὲν', 'βροῦτος', 'ὕπατον', 'ἀντιφῶν', 'πρεσβευτὰς', 'ἀντωνῖνος', 'ἔπαρχος', 'σχολῶν', 'πτολεμαῖον', 'βροῦτον', 'ἀντιφῶντος', 'ἰδεῶν', 'ἁμαρτωλῶν', 'τωι', 'ὕπατος', 'ξὺν', 'θεμιστοκλῆς', 'ἀχαιοῖς', 'ειν', 'βῆλον', 'ὑπολαβὼν', 'κοιτῶνι', 'σῶσον', 'ρος', 'ἔπεμψαν', 'προς', 'ἰουστινιανοῦ', 'νεῦμα', 'ἄρατος', 'σπονδῶν', 'ἐπανῆλθεν', 'ἔννοιαι', 'ταὐτοῦ', 'περικλῆς', 'δοκοῦντος', 'ἀπολιπεῖν', 'δωρεὰς', 'αυτ', 'τηι', 'φρουρὰν', 'κον', 'περιβολῆς', 'κῶλα', 'ἀπῄει', 'κηροὺς', 'ἤθει'], ['καῖσαρ', 'ἵστανται', 'ἱππεῖς', 'βροῦτος', 'ἰσραὴλ', 'σχολῶν', 'ξὺν', 'πρεσβευτὰς', 'οὐθὲν', 'δαυὶδ', 'βροῦτον', 'ὕπατος', 'ἄρατος', 'μιχαὴλ', 'ὑπολαβὼν', 'ὕπατον', 'ᾤοντο', 'θεμιστοκλῆς', 'βῆλον', 'λυκοῦργος', 'παιδιᾶς', 'φρουρὰν', 'ἀπῄει', 'στρατηγοῖς', 'σῶσον', 'πρεσβευτῶν', 'πτολεμαῖον', 'φανερὸς', 'κῦρον', 'ἀπολιπεῖν', 'μηθὲν', 'κηροὺς', 'ᾔτει', 'κομνηνὸς', 'ἥδιστον', 'εὐμενὴς', 'δημαγωγῶν', 'ἰουστινιανοῦ', 'πρᾴως', 'ἀχαιοὺς', 'ἀχαιοῖς', 'ἐπιφανῶν', 'κωνσταντῖνος', 'ὥρμησε', 'ἔπεμψαν', 'σῴζειν', 'ἐμπεδοκλῆς', 'διαβολὴν', 'δοκοῦντος', 'σπονδῶν'], ['καῖσαρ', 'ἵστανται', 'ἱππεῖς', 'πρεσβευτὰς', 'βῆλον', 'βροῦτος', 'οὐθὲν', 'σχολῶν', 'κηροὺς', 'σῶσον', 'πρεσβευτῶν', 'ἰδεῶν', 'ὕπατον', 'βροῦτον', 'ξὺν', 'νεῦμα', 'θεμιστοκλῆς', 'ἔννοιαι', 'ἔπαρχος', 'ἔπραττεν', 'ὕπατος', 'πολιτικὸν', 'ὑπολαβὼν', 'ἰουστινιανοῦ', 'ἀχαιοῖς', 'παῦλον', 'στρατῷ', 'ἰσραὴλ', 'μηθὲν', 'τελεῖται', 'ἄρατος', 'πτολεμαῖον', 'ἀντωνῖνος', 'περιβολῆς', 'σπαρτιατῶν', 'φρουρὰν', 'δαυὶδ', 'εὐμενὴς', 'ᾤοντο', 'κῶλα', 'κωνσταντῖνος', 'παιδιᾶς', 'κοιτῶνι', 'ἐντολὰς', 'φοροῦντες', 'ναυσὶ', 'ἐπανῆλθεν', 'περιβολὴν', 'εὐμενῆ', 'ἔπεμψαν'], ['καῖσαρ', 'ἱππεῖς', 'βροῦτος', 'ἵστανται', 'ἰδεῶν', 'βροῦτον', 'κῶλον', 'ἔννοιαι', 'οὐθὲν', 'ἥδιστον', 'ὕπατον', 'ὕπατος', 'θεμιστοκλῆς', 'σχολῶν', 'περικλῆς', 'ᾤοντο', 'περιβολῆς', 'φρουρὰν', 'ὑπολαβὼν', 'ἀντωνῖνος', 'μηθὲν', 'κῶλα', 'τεχνικὸς', 'δοκοῦντος', 'παιδιᾶς', 'ἐπανῆλθεν', 'ἤθει', 'βῆλον', 'λυκοῦργος', 'ὁμαλῶς', 'περιβολὴν', 'ἀχαιοῖς', 'ὄσιριν', 'δημαγωγῶν', 'πρεσβευτὰς', 'ὥρμησε', 'πολιτικὸς', 'στρατηγοῖς', 'ῥυθμὸς', 'στρατῷ', 'μεταβολαῖς', 'ἔλαθε', 'ἔπεμψαν', 'ἀγῶσι', 'ἄρατος', 'νεῦμα', 'ξὺν', 'ἀπῄει', 'ἔναγχος', 'εὐμενὴς'], ['καῖσαρ', 'ἱππεῖς', 'ἵστανται', 'οὐθὲν', 'βροῦτον', 'ἐθνικὸν', 'πρεσβευτὰς', 'βροῦτος', 'ὕπατον', 'βῆλον', 'σχολῶν', 'ὑπολαβὼν', 'περικλῆς', 'ἕκτῃ', 'πτολεμαῖον', 'πρεσβευτῶν', 'θεμιστοκλῆς', 'ἐπανῆλθεν', 'σῶσον', 'ἔννοιαι', 'ἰδεῶν', 'λυκοῦργος', 'ἐπιφανῶν', 'φρουρὰν', 'ἔπραττεν', 'ξὺν', 'εὔμολπον', 'ὕπατος', 'ᾤοντο', 'κῶλα', 'σιωπῆς', 'ἔλαθε', 'ἔπεμψαν', 'ἀντωνῖνος', 'εὐμενῆ', 'ἥδιστον', 'ἀχαιοῖς', 'γαλατῶν', 'κῶλον', 'ὁμαλῶς', 'σῴζειν', 'σπαρτιατῶν', 'δοκοῦντος', 'φανερὸς', 'θηβαῖοι', 'ἄρατος', 'ἐμπεδοκλῆς', 'παρακαλεῖν', 'ὕβρει', 'βοῆς'], ['καῖσαρ', 'ἵστανται', 'σχολῶν', 'ἱππεῖς', 'ξὺν', 'βῆλον', 'βροῦτον', 'πρεσβευτὰς', 'βροῦτος', 'ὕπατον', 'πτολεμαῖον', 'ἀπῄει', 'κηροὺς', 'σῶσον', 'ὕπατος', 'πρεσβευτῶν', 'νεῦμα', 'στρατῷ', 'ἰδεῶν', 'ἔπεμψαν', 'μιχαὴλ', 'φρουρὰν', 'ἔννοιαι', 'οὐθὲν', 'σαρακηνῶν', 'ἀντωνῖνος', 'ἀχαιοῖς', 'ἥδιστον', 'θεμιστοκλῆς', 'ἀχαιοὺς', 'περσεὺς', 'ἰουστινιανοῦ', 'τοῦρκοι', 'σπονδῶν', 'φανερὸς', 'τελεῖται', 'περικλῆς', 'ἅγιε', 'στρατηγοῖς', 'κωνσταντῖνος', 'ἐπανελθὼν', 'χαλκῆς', 'ὕπατοι', 'κεφ', 'ἔπραττεν', 'λιτῆς', 'ᾔτει', 'λυκοῦργος', 'ἄρατος', 'πολιτικῆς'], ['καῖσαρ', 'ἵστανται', 'ὕπατον', 'ἱππεῖς', 'σχολῶν', 'παῦλον', 'βῆλον', 'οὐθὲν', 'πρεσβευτὰς', 'ξὺν', 'βροῦτον', 'πτολεμαῖον', 'βροῦτος', 'σῶσον', 'ὕπατος', 'ᾤοντο', 'ἁμαρτωλῶν', 'κοιτῶνι', 'ἔπαρχος', 'κηροὺς', 'στρατῷ', 'τελεῖται', 'ἀπῄει', 'σπονδῶν', 'φρουρὰν', 'ἥδιστον', 'προσκαλεῖται', 'πρεσβευτῶν', 'ὑπολαβὼν', 'ἄρατος', 'ἀχαιοὺς', 'εὐμενὴς', 'ἰουστινιανοῦ', 'μηθὲν', 'ἀντωνῖνος', 'λιτῆς', 'ἐπιφανῶν', 'σπαρτιατῶν', 'ἅγιε', 'λυκοῦργος', 'ἔναγχος', 'περικλῆς', 'αἰτωλῶν', 'νεῦμα', 'ἰουστινιανὸς', 'ἐπανῆλθεν', 'στρατηγοῦντος', 'θεμιστοκλῆς', 'κῦρον', 'πρεσβευτὴν'], ['καῖσαρ', 'ἵστανται', 'πρεσβευτὰς', 'ἱππεῖς', 'ἰδεῶν', 'βῆλον', 'σχολῶν', 'κῶλα', 'ξὺν', 'ἔννοιαι', 'ὕπατον', 'πτολεμαῖον', 'ὕπατος', 'σῶσον', 'κῶλον', 'κηροὺς', 'βροῦτον', 'ᾤοντο', 'τεχνικὸς', 'βροῦτος', 'νεῦμα', 'ἀπῄει', 'ἀχαιοῖς', 'θεμιστοκλῆς', 'περιβολῆς', 'σαρακηνῶν', 'ὥρμησε', 'ἄρατος', 'ἔπεμψαν', 'σῴζειν', 'λυκοῦργος', 'φρουρὰν', 'οὐθὲν', 'δοκοῦντος', 'στρατῷ', 'σπαρτιατῶν', 'τελεῖται', 'πολιτικῆς', 'εὐμενὴς', 'περιβολὴν', 'αἰτωλῶν', 'ἡττηθεὶς', 'ἰουστινιανοῦ', 'πολιτικὸς', 'λιτῆς', 'ἐπιβολῆς', 'πολιτικὸν', 'ὑπολαβὼν', 'φορῶν', 'ἔπραττεν'], ['καῖσαρ', 'ἵστανται', 'ἱππεῖς', 'ἰδεῶν', 'ἀντιφῶν', 'ἔννοιαι', 'ἀντιφῶντος', 'πρεσβευτὰς', 'βροῦτον', 'κῶλα', 'πτολεμαῖον', 'ὕπατον', 'βῆλον', 'οὐθὲν', 'σχολῶν', 'ὕπατος', 'περιβολῆς', 'ἥδεσθαι', 'φρουρὰν', 'ἀργυροῦν', 'βροῦτος', 'ἀχαιοῖς', 'τεχνικὸς', 'ὑπολαβὼν', 'κῶλον', 'ἰουστινιανοῦ', 'ἄρατος', 'σπονδῶν', 'ᾤοντο', 'δοκοῦντος', 'πρεσβευτῶν', 'στρατηγοῖς', 'ἔπεμψαν', 'περιβολὴν', 'ἐπιφανῶν', 'περικλῆς', 'φθονερὸν', 'νεῦμα', 'λυκοῦργος', 'ἀντωνῖνος', 'κῦρον', 'σῶσον', 'λαθὼν', 'ρων', 'κηροὺς', 'ξὺν', 'ὕπνους', 'θεμιστοκλῆς', 'ἀχαιοὺς', 'ἀπολιπεῖν'], ['καῖσαρ', 'ἱππεῖς', 'ἵστανται', 'σχολῶν', 'ὕπατον', 'βῆλον', 'βροῦτον', 'βροῦτος', 'οὐθὲν', 'ἄρατος', 'ἀχαιοῖς', 'φρουρὰν', 'ὑπολαβὼν', 'πρεσβευτὰς', 'ξὺν', 'κῦρον', 'ὕπατος', 'θεμιστοκλῆς', 'περικλῆς', 'σῶσον', 'στρατῷ', 'ὥρμησε', 'μηθὲν', 'ἔπεμψαν', 'νεῦμα', 'ἥδιστον', 'κηροὺς', 'δοκοῦντος', 'παιδιᾶς', 'ἀπολιπεῖν', 'ἔναγχος', 'ᾔτει', 'ἔπραττεν', 'εὐμενῆ', 'βοῆς', 'πρεσβευτῶν', 'σπονδῶν', 'πτολεμαῖον', 'ἤθει', 'διαφυγεῖν', 'δημαγωγῶν', 'ἐπιφανῶν', 'ναυσὶ', 'ἐμπεδοκλῆς', 'εὐμενὴς', 'παρακαλεῖν', 'ἀπῄει', 'ἀχαιοὺς', 'ἄρατον', 'σπαρτιατῶν'], ['καῖσαρ', 'ἵστανται', 'ἱππεῖς', 'ὕπατον', 'πρεσβευτὰς', 'βροῦτος', 'οὐθὲν', 'σχολῶν', 'ἄρατος', 'βροῦτον', 'πτολεμαῖον', 'φρουρὰν', 'βῆλον', 'ὑπολαβὼν', 'ἥδιστον', 'ἀχαιοῖς', 'στρατῷ', 'σπαρτιατῶν', 'σῶσον', 'ὥρμησε', 'ἐπιφανῶν', 'ὕπατος', 'ἀντωνῖνος', 'λυκοῦργος', 'περικλῆς', 'ἰουστινιανοῦ', 'θεμιστοκλῆς', 'κῦρον', 'περιορᾶν', 'ξὺν', 'ἰδεῶν', 'κῶλον', 'κηροὺς', 'ἔννοιαι', 'μηθὲν', 'ἔπεμψαν', 'δοκοῦντος', 'δωρεὰς', 'στρατηγοῖς', 'ἀπῄει', 'νεῦμα', 'σῴζεσθαι', 'ᾤοντο', 'παιδιᾶς', 'παρακαλεῖν', 'ναυσὶ', 'εὐμενὴς', 'πολιτικὸς', 'ἱστοροῦσιν', 'εὐμενῆ'], ['ἵστανται', 'καῖσαρ', 'πρεσβευτὰς', 'ἱππεῖς', 'σῶσον', 'βῆλον', 'σχολῶν', 'πτολεμαῖον', 'στρατῷ', 'κηροὺς', 'πρεσβευτῶν', 'ἰδεῶν', 'ἰουστινιανοῦ', 'βροῦτος', 'παῦλον', 'θεμιστοκλῆς', 'οὐθὲν', 'τελεῖται', 'ὕπατος', 'ἅγιε', 'κῦρον', 'ξὺν', 'σαρακηνῶν', 'βροῦτον', 'ἀντωνῖνος', 'λιτῆς', 'νεῦμα', 'ᾤοντο', 'ἐπανῆλθεν', 'πρεσβευτὴν', 'κῶλα', 'κωνσταντῖνος', 'αἰτωλῶν', 'ὕπατον', 'λυκοῦργος', 'ἔπεμψαν', 'ἀχαιοὺς', 'ἄτταλον', 'σπονδῶν', 'ὥρμησαν', 'ἰσραὴλ', 'ὑπολαβὼν', 'ἀπολιπεῖν', 'ἥδιστον', 'σπαρτιατῶν', 'εὐμενὴς', 'φρουρὰν', 'ἔπαρχος', 'ὕπατοι', 'γαλατῶν'], ['καῖσαρ', 'ἵστανται', 'βροῦτος', 'βῆλον', 'ἱππεῖς', 'θηβαῖοι', 'ὕπατος', 'θῦσαι', 'πρεσβευτὰς', 'οὐθὲν', 'ἅπασαι', 'βροῦτον', 'τοῖον', 'αἴνιγμα', 'ἔφορον', 'εἰκοστῷ', 'κυζικηνὸς', 'αὖτε', 'δυσφοροῦντα', 'τριακοστῷ', 'γεωμετρεῖν', 'κωμικοῦ', 'πεντηκοστὴν', 'ἔασιν', 'εἶς', 'πτολεμαῖον', 'ἐοῦσαι', 'λευκαὶ', 'ὕπατον', 'σχολῶν', 'λυκοῦργος', 'ἀχαιοῖς', 'σῶσον', 'ξὺν', 'ἄρατος', 'φρουρὰν', 'ἥδιστον', 'κῦρον', 'ὑπολαβὼν', 'μηθὲν', 'κηροὺς', 'νεῦμα', 'περικλῆς', 'σπαρτιατῶν', 'γαλατῶν', 'ἰουστινιανοῦ', 'φοροῦντες', 'παρακαλεῖν', 'θεμιστοκλῆς', 'τελεῖται'], ['καῖσαρ', 'ἱππεῖς', 'ἵστανται', 'βροῦτος', 'ὕπατος', 'περικλῆς', 'οὐθὲν', 'ὕπατον', 'βροῦτον', 'σχολῶν', 'λυκοῦργος', 'ἐθνικὸν', 'ἕκτῃ', 'πρεσβευτὰς', 'βῆλον', 'φρουρὰν', 'ξὺν', 'ἀχαιοῖς', 'πτολεμαῖον', 'ἄρατος', 'ἀπολιπεῖν', 'σπαρτιατῶν', 'ᾤοντο', 'παιδιᾶς', 'στρατηγοῖς', 'δελφοὺς', 'κῦρον', 'ἥδιστον', 'μηθὲν', 'ἰδεῶν', 'εὐμενῆ', 'ὑπολαβὼν', 'θεμιστοκλῆς', 'ἰουστινιανοῦ', 'στρατῷ', 'θηβαῖοι', 'ἄρατον', 'δοκοῦντος', 'ἔπεμψαν', 'ἀχαιοὺς', 'ὕβρει', 'αἰτωλῶν', 'βοῆς', 'ἔννοιαι', 'ἔπραττεν', 'δημαγωγῶν', 'περιορᾶν', 'ἐπανῆλθεν', 'πρεσβευτὴν', 'σῴζεσθαι'], ['ἄδωνις', 'ἄδωνιν', 'νιν', 'καῖσαρ', 'ἔρωτες', 'αἰαῖ', 'ἵστανται', 'ἱππεῖς', 'βροῦτον', 'τᾶς', 'ἰσραὴλ', 'πρεσβευτὰς', 'βῆλον', 'ὄλβιος', 'ἀπῄει', 'ἔννοιαι', 'οὐθὲν', 'δαυὶδ', 'ὕπατον', 'σπαρτιατῶν', 'σχολῶν', 'ὕπατος', 'τῆνον', 'κῶλον', 'βροῦτος', 'ἀχαιοῖς', 'ἰδεῶν', 'ᾤοντο', 'στρατῷ', 'εὐμενὴς', 'παιδιᾶς', 'ἐπὴν', 'ὤλετο', 'περιβολῆς', 'πτολεμαῖον', 'κῶλα', 'ἥδιστον', 'λυκοῦργος', 'ἤθει', 'ὑπολαβὼν', 'ξὺν', 'ἄρατος', 'σῴζειν', 'ναυσὶ', 'νεῦμα', 'φρουρὰν', 'ἄρατον', 'ἄλγος', 'σῶσον', 'ἀπολιπεῖν'], ['καῖσαρ', 'ἵστανται', 'ἱππεῖς', 'ξὺν', 'σχολῶν', 'πρεσβευτὰς', 'βροῦτον', 'μιχαὴλ', 'βροῦτος', 'βῆλον', 'ἀπῄει', 'πτολεμαῖον', 'σῶσον', 'οὐθὲν', 'ἰδεῶν', 'ἀχαιοῖς', 'ὕπατον', 'σπονδῶν', 'σπαρτιατῶν', 'ἰουστινιανοῦ', 'κηροὺς', 'φρουρὰν', 'περικλῆς', 'γαλατῶν', 'τελεῖται', 'ἀχαιοὺς', 'ἔπεμψαν', 'ᾤοντο', 'νεῦμα', 'λυκοῦργος', 'κομνηνὸς', 'στρατηγοῖς', 'ὁμαλῶς', 'κῦρον', 'ἀπολιπεῖν', 'ἄρατος', 'σιωπῆς', 'ἥδιστον', 'στρατῷ', 'εὐμενὴς', 'ἀντωνῖνος', 'παρακαλεῖν', 'τοῦρκοι', 'φανερὸς', 'ἰσραὴλ', 'σαρακηνῶν', 'ὕπατος', 'πρεσβευτῶν', 'θεμιστοκλῆς', 'κατεῖχε'], ['καῖσαρ', 'ἱππεῖς', 'ἵστανται', 'οὐθὲν', 'βροῦτος', 'βροῦτον', 'ὕπατον', 'βῆλον', 'περικλῆς', 'σπαρτιατῶν', 'ἥδιστον', 'πρεσβευτὰς', 'ἄρατος', 'σχολῶν', 'ἀχαιοῖς', 'πτολεμαῖον', 'λυκοῦργος', 'στρατηγοῖς', 'φρουρὰν', 'ὥρμησε', 'θεμιστοκλῆς', 'παιδιᾶς', 'ὕπατος', 'κῦρον', 'ἀχαιοὺς', 'κηροὺς', 'ξὺν', 'ᾤοντο', 'ὁμαλῶς', 'δοκοῦντος', 'ὑπολαβὼν', 'ἄρατον', 'ἔναγχος', 'εὐμενῆ', 'στρατῷ', 'ἔπεμψαν', 'εὐμενὴς', 'ὄσιριν', 'εἴα', 'ἰδεῶν', 'ναυσὶ', 'ἐμπεδοκλῆς', 'δελφοὺς', 'σῴζεσθαι', 'ὕπατοι', 'δημαγωγῶν', 'ἐπανῆλθεν', 'γαλατῶν', 'ἰουστινιανοῦ', 'σῴζειν'], ['ἵστανται', 'καῖσαρ', 'ἱππεῖς', 'πρεσβευτὰς', 'σχολῶν', 'ξὺν', 'βῆλον', 'βροῦτος', 'ἰδεῶν', 'σῶσον', 'οὐθὲν', 'ἀχαιοῖς', 'ἔννοιαι', 'μιχαὴλ', 'ἰουστινιανοῦ', 'τοῦρκοι', 'ἀπῄει', 'ὕπατον', 'βροῦτον', 'ἥδιστον', 'νεῦμα', 'φρουρὰν', 'ὕπατος', 'κηροὺς', 'στρατῷ', 'σαρακηνῶν', 'πρεσβευτῶν', 'ὑπολαβὼν', 'ἔπεμψαν', 'περιβολῆς', 'κεφ', 'τελεῖται', 'κωνσταντῖνος', 'δοκοῦντος', 'σπαρτιατῶν', 'πτολεμαῖον', 'ᾤοντο', 'κῶλα', 'ἀχαιοὺς', 'περιβολὴν', 'στρατηγοῖς', 'διελθὼν', 'ἀντωνῖνος', 'περσεὺς', 'εὐμενὴς', 'ἐπιφανῶν', 'λυκοῦργος', 'ἀπολιπεῖν', 'κῶλον', 'προσκυνεῖ'], ['καῖσαρ', 'ἱππεῖς', 'ἵστανται', 'βροῦτος', 'θεμιστοκλῆς', 'πρεσβευτὰς', 'οὐθὲν', 'περικλῆς', 'σχολῶν', 'ὕπατος', 'ὑπολαβὼν', 'ἀπῄει', 'ἥδιστον', 'ὕπατον', 'ἄρατος', 'σπαρτιατῶν', 'ξὺν', 'φρουρὰν', 'παιδιᾶς', 'κῦρον', 'βροῦτον', 'βῆλον', 'ἔπεμψαν', 'λυκοῦργος', 'στρατῷ', 'ὁμαλῶς', 'παρακαλεῖν', 'δημαγωγῶν', 'ἀχαιοῖς', 'δοκοῦντος', 'ἀπολιπεῖν', 'ἔναγχος', 'ἀντωνῖνος', 'ᾤοντο', 'πτολεμαῖον', 'ἰουστινιανοῦ', 'στρατηγοῖς', 'σιωπῆς', 'πεζῶν', 'κηροὺς', 'αἰτωλῶν', 'δαυὶδ', 'ὕπνους', 'ἐπιφανῶν', 'μιχαὴλ', 'ὕβρει', 'μεταβολαῖς', 'σῴζεσθαι', 'πρεσβευτῶν', 'νεῦμα'], ['καῖσαρ', 'ἱππεῖς', 'ἵστανται', 'βροῦτος', 'ὑπολαβὼν', 'οὐθὲν', 'ὕπατος', 'φρουρὰν', 'βροῦτον', 'ὕπατον', 'ἄρατος', 'πρεσβευτὰς', 'ᾤοντο', 'θεμιστοκλῆς', 'περικλῆς', 'λυκοῦργος', 'σπαρτιατῶν', 'στρατηγοῖς', 'σχολῶν', 'ἀπῄει', 'σῴζεσθαι', 'παιδιᾶς', 'μηθὲν', 'βοῆς', 'σιωπῆς', 'διατριβὴν', 'ἐμπεδοκλῆς', 'δημαγωγῶν', 'ἀχαιοῖς', 'πολιτικῆς', 'μιχαὴλ', 'ξὺν', 'σῴζειν', 'ἐπιφανῶν', 'δοκοῦντος', 'ὁμαλῶς', 'ἥδιστον', 'σῶσον', 'ἔπεμπε', 'περιορᾶν', 'ἰσραὴλ', 'ἐπανῆλθεν', 'ἀχαιοὺς', 'τελεῖται', 'ἔπεμψαν', 'παρακαλεῖν', 'μεταβολαῖς', 'ἤθει', 'εὐμενὴς', 'βῆλον'], ['καῖσαρ', 'ἵστανται', 'ἱππεῖς', 'πρεσβευτὰς', 'ἰσραὴλ', 'ὕπατον', 'σχολῶν', 'βροῦτον', 'ἀχαιοῖς', 'βροῦτος', 'πτολεμαῖον', 'ἄρατος', 'νεῦμα', 'ᾤοντο', 'ὑπολαβὼν', 'οὐθὲν', 'δαυὶδ', 'ἐπανῆλθεν', 'περικλῆς', 'σπαρτιατῶν', 'σῶσον', 'ἔπεμψαν', 'βῆλον', 'ἰουδαῖοι', 'κηροὺς', 'θεμιστοκλῆς', 'πρεσβευτῶν', 'ἰουστινιανοῦ', 'παιδιᾶς', 'αἰτιατικῇ', 'στρατῷ', 'ᾔτει', 'ἄρατον', 'φρουρὰν', 'δημαγωγῶν', 'ὕπατος', 'ἀπολιπεῖν', 'ἔπραττεν', 'τελεῖται', 'ἀχαιοὺς', 'ἤθει', 'εὐμενὴς', 'ἀντωνῖνος', 'ἥδιστον', 'ὕπνους', 'φανερὸς', 'διατριβῆς', 'ξὺν', 'κατεῖχε', 'μηθὲν'], ['ἵστανται', 'καῖσαρ', 'πρεσβευτὰς', 'ἱππεῖς', 'σχολῶν', 'ξὺν', 'βῆλον', 'μιχαὴλ', 'ὕπατον', 'ἀντωνῖνος', 'ἀπῄει', 'πρεσβευτῶν', 'βροῦτος', 'σῶσον', 'ὕπατος', 'ἰουστινιανοῦ', 'στρατῷ', 'τοῦρκοι', 'φρουρὰν', 'κωνσταντῖνος', 'βροῦτον', 'πτολεμαῖον', 'γαλατῶν', 'κηροὺς', 'ὑπολαβὼν', 'ἀχαιοῖς', 'θεμιστοκλῆς', 'κομνηνὸς', 'ὥρμησε', 'αἰτωλοὺς', 'περσεὺς', 'προσκαλεῖται', 'νεῦμα', 'ἔπαρχος', 'σπονδῶν', 'προσκυνεῖ', 'κεφ', 'ᾤοντο', 'φοροῦντες', 'σαρακηνῶν', 'ᾔτει', 'στρατηγοῖς', 'τελεῖται', 'ἔπραττεν', 'κῦρον', 'ἀχαιοὺς', 'αἰτωλῶν', 'περικλῆς', 'ἐπιφανῶν', 'ἔπεμψαν'], ['καῖσαρ', 'ἵστανται', 'ἰδεῶν', 'ἱππεῖς', 'πρεσβευτὰς', 'σχολῶν', 'κῶλον', 'εὔνους', 'ἔννοιαι', 'βῆλον', 'κῶλα', 'ὕπατον', 'περιβολῆς', 'σῶσον', 'θεᾶς', 'οὐθὲν', 'στερητικοῦ', 'βροῦτος', 'περιβολὴν', 'πτολεμαῖον', 'νηῶν', 'ἰουστινιανοῦ', 'τεχνικὸς', 'ἐπιθυμῶ', 'ἀχαιοῖς', 'βροῦτον', 'κτητικὸν', 'νεῦμα', 'ἔπεμψαν', 'κηροὺς', 'θεμιστοκλῆς', 'ὕπατος', 'ἔπραττεν', 'αἰτωλῶν', 'στρατῷ', 'ξὺν', 'ἄσιος', 'πρεσβευτῶν', 'ἄρατος', 'αἰτιατικῇ', 'λαῖλαψ', 'ἥσυχος', 'ῥυθμὸς', 'ἀκμὴ', 'γεννῶ', 'ἀντωνῖνος', 'ἥδιστον', 'αἰδοῦμαι', 'ἅγιε', 'δᾴδων'], ['καῖσαρ', 'ἵστανται', 'πρεσβευτὰς', 'ἱππεῖς', 'βῆλον', 'ἀχαιοῖς', 'ὕπατος', 'θεμιστοκλῆς', 'βροῦτος', 'σχολῶν', 'βροῦτον', 'ὕπατον', 'ἄρατος', 'πτολεμαῖον', 'κηροὺς', 'οὐθὲν', 'περικλῆς', 'πρεσβευτῶν', 'ὑπολαβὼν', 'ἔπραττεν', 'ἔπεμψαν', 'σπαρτιατῶν', 'στρατηγοῖς', 'σῶσον', 'ξὺν', 'ἥδιστον', 'στρατῷ', 'ἀντωνῖνος', 'σπονδῶν', 'ὁμαλῶς', 'ἰουστινιανοῦ', 'αἰτωλῶν', 'ἔναγχος', 'λυκοῦργος', 'δημαγωγῶν', 'ἤθει', 'φρουρὰν', 'δελφοὺς', 'συγκλητικῶν', 'ἐπιφανῶν', 'μηθὲν', 'ὥρμησαν', 'εὐμενὴς', 'ᾤοντο', 'ἀπῄει', 'βασιλικοὶ', 'ἄρατον', 'κωνσταντῖνος', 'ὕπνους', 'πρᾴως'], ['καῖσαρ', 'ἵστανται', 'ἱππεῖς', 'βῆλον', 'πρεσβευτὰς', 'ὕπατος', 'σχολῶν', 'βροῦτος', 'ἰδεῶν', 'ὑπολαβὼν', 'σῶσον', 'ὕπατον', 'οὐθὲν', 'κηροὺς', 'τελεῖται', 'βροῦτον', 'φρουρὰν', 'ἔννοιαι', 'κωνσταντῖνος', 'πρεσβευτῶν', 'ἄρατος', 'ξὺν', 'ἀχαιοῖς', 'αἰτωλῶν', 'κῦρον', 'περιβολῆς', 'ᾤοντο', 'περιβολὴν', 'νεῦμα', 'θεμιστοκλῆς', 'πτολεμαῖον', 'γαλατῶν', 'κῶλα', 'εὐμενῆ', 'ἤθει', 'ἀντωνῖνος', 'περσεὺς', 'λυκοῦργος', 'πρεσβευτὴν', 'στρατηγοῖς', 'μηθὲν', 'ἔπεμψαν', 'τεχνικὸς', 'πολιτικῆς', 'σπαρτιατῶν', 'κῶλον', 'ἥδιστον', 'στρατῷ', 'πολιτικὸς', 'κεφ'], ['καῖσαρ', 'ἵστανται', 'ἱππεῖς', 'σχολῶν', 'φρουρὰν', 'πρεσβευτὰς', 'ὕπατον', 'κηροὺς', 'πτολεμαῖον', 'βροῦτον', 'βῆλον', 'ἰουστινιανοῦ', 'ἀχαιοῖς', 'ξὺν', 'ὕπατος', 'βροῦτος', 'ἰδεῶν', 'ἄρατος', 'πρεσβευτῶν', 'θεμιστοκλῆς', 'ὑπολαβὼν', 'λυκοῦργος', 'οὐθὲν', 'ἔπεμψαν', 'σῶσον', 'ἔννοιαι', 'ἀντωνῖνος', 'κεφ', 'ἔπραττεν', 'στρατηγοῖς', 'περικλῆς', 'ἀχαιοὺς', 'στρατῷ', 'κῦρον', 'νεῦμα', 'διελθὼν', 'ὕπνους', 'τελεῖται', 'μηθὲν', 'ἅγιε', 'αἰτωλῶν', 'φοροῦντες', 'ἀπῄει', 'δωρεὰς', 'ὥρμησε', 'ναυσὶ', 'ἐπιφανῶν', 'ἐπανελθὼν', 'ᾔτει', 'κῶλον'], ['καῖσαρ', 'ἵστανται', 'ἱππεῖς', 'πρεσβευτὰς', 'σχολῶν', 'βῆλον', 'ξὺν', 'βροῦτος', 'ὕπατος', 'βροῦτον', 'ὕπατον', 'φρουρὰν', 'οὐθὲν', 'πρεσβευτῶν', 'σῶσον', 'ἔπεμψαν', 'κωνσταντῖνος', 'ἀχαιοῖς', 'θεμιστοκλῆς', 'ὑπολαβὼν', 'ᾤοντο', 'νεῦμα', 'πρεσβευτὴν', 'ἥδιστον', 'ἔπραττεν', 'ἰσραὴλ', 'δελφοὺς', 'πτολεμαῖον', 'μηθὲν', 'ἀντωνῖνος', 'στρατῷ', 'λυκοῦργος', 'κῦρον', 'φοροῦντες', 'ἀπῄει', 'στρατηγοῖς', 'δοκοῦντος', 'αἰτωλῶν', 'ἀχαιοὺς', 'σπονδῶν', 'δαυὶδ', 'σῴζειν', 'εὐμενῆ', 'ἄρατος', 'θηβαῖοι', 'εἴθισται', 'συγκλητικῶν', 'ὕπνους', 'περικλῆς', 'παιδιᾶς'], ['καῖσαρ', 'ἵστανται', 'ἱππεῖς', 'βροῦτον', 'βῆλον', 'βροῦτος', 'σχολῶν', 'λυκοῦργος', 'οὐθὲν', 'θεμιστοκλῆς', 'ἰδεῶν', 'σπαρτιατῶν', 'πρεσβευτὰς', 'πτολεμαῖον', 'περικλῆς', 'ὕπατος', 'κηροὺς', 'κῶλα', 'ἔννοιαι', 'νεῦμα', 'ἔπεμψαν', 'ἥδιστον', 'φρουρὰν', 'φανερὸς', 'ὑπολαβὼν', 'ὕπατον', 'κῦρον', 'ἀχαιοῖς', 'ᾤοντο', 'ξὺν', 'ἤθει', 'γαλατῶν', 'ὕβρει', 'ἄρατος', 'τελεῖται', 'πρεσβευτῶν', 'περιβολῆς', 'διαφυγεῖν', 'θηβαῖοι', 'μηθὲν', 'σῶσον', 'στρατηγοῖς', 'παιδιᾶς', 'ἄρατον', 'πεζοὺς', 'σαρακηνῶν', 'ἐπανῆλθεν', 'ἀπῄει', 'ἀχαιοὺς', 'ὁμαλῶς'], ['ἵστανται', 'φθονερὸν', 'καῖσαρ', 'ἀργυροῦν', 'οὐθὲν', 'προκοπῆς', 'ἀγκῶνι', 'πρεσβευτὰς', 'ἱππεῖς', 'ᾅδου', 'διατριβαῖς', 'βροῦτος', 'ἥδιστα', 'ἄφρονι', 'βροῦτον', 'ἐπιθυμιῶν', 'συγγραφὴν', 'μῦς', 'ψευδοῦς', 'βῆλον', 'καρποῦσθαι', 'ζητοῦντας', 'πονηροῖς', 'ὄλβια', 'δοῖεν', 'περιπατητικὸς', 'γραμματικοὺς', 'πλακοῦντα', 'καθορᾶν', 'μῦν', 'ἔοικας', 'τοκῆες', 'πονοῦντες', 'ὅρμον', 'ὄψον', 'ὑπολαβὼν', 'ὕπατος', 'ἰσραὴλ', 'ἀχαιοῖς', 'εἴα', 'πλανῶνται', 'ξὺν', 'χαλκῆν', 'ἔφασκε', 'σχολῶν', 'κηροὺς', 'ἔπεμψαν', 'ὕπατον', 'ᾤοντο', 'ἀχαιοὺς'], ['καῖσαρ', 'ἵστανται', 'ἱππεῖς', 'πρεσβευτὰς', 'ξὺν', 'σχολῶν', 'σῶσον', 'φρουρὰν', 'ὕπατον', 'βῆλον', 'βροῦτον', 'βροῦτος', 'ὑπολαβὼν', 'νεῦμα', 'ὕπατος', 'κηροὺς', 'ἰουστινιανοῦ', 'τελεῖται', 'ἄρατος', 'γαλατῶν', 'σαρακηνῶν', 'θεμιστοκλῆς', 'ἐπανῆλθεν', 'ἔπεμψαν', 'ἀπῄει', 'λυκοῦργος', 'στρατῷ', 'ὥρμησε', 'πτολεμαῖον', 'μιχαὴλ', 'ᾤοντο', 'περικλῆς', 'κεφ', 'σπαρτιατῶν', 'ἄρατον', 'ἅγιε', 'βοῆς', 'πρεσβευτῶν', 'βασιλικοὶ', 'οὐθὲν', 'ἔπραττεν', 'πρεσβευτὴν', 'δελφοὺς', 'σπονδῶν', 'ἰουστινιανὸς', 'κῦρον', 'ᾔτει', 'κωνσταντῖνος', 'δοκοῦντος', 'ἐπιφανῶν'], ['καῖσαρ', 'ἱππεῖς', 'ἵστανται', 'οὐθὲν', 'ὕπατον', 'βροῦτον', 'βροῦτος', 'σῶσον', 'πρεσβευτὰς', 'κηροὺς', 'ἰδεῶν', 'καθολικῆς', 'πτολεμαῖον', 'βῆλον', 'φθονερὸν', 'ἀχαιοῖς', 'σχολῶν', 'ξὺν', 'περικλῆς', 'ᾤοντο', 'ἔπεμψαν', 'δοκοῦντος', 'νεῦμα', 'ἰουδαῖοι', 'τελεῖται', 'ἄρατος', 'ὑπολαβὼν', 'ναυσὶ', 'ἀναγαγεῖν', 'χριστιανοὺς', 'ἥδιστον', 'φρουρὰν', 'ὕπατος', 'προκοπῆς', 'στρατῷ', 'ἔπραττεν', 'εὐμενῆ', 'ἰουστινιανοῦ', 'θεμιστοκλῆς', 'πρεσβευτῶν', 'σαοὺλ', 'ἔννοιαι', 'ὕπνους', 'σαμουὴλ', 'χριστιανὸς', 'ἀντωνῖνος', 'λυκοῦργος', 'κῶλα', 'ἀπῄει', 'αἰτωλῶν'], ['ἵστανται', 'καῖσαρ', 'πρεσβευτὰς', 'ἱππεῖς', 'σχολῶν', 'σῶσον', 'βῆλον', 'βροῦτος', 'ὕπατον', 'βροῦτον', 'πρεσβευτῶν', 'πτολεμαῖον', 'ξὺν', 'ἀντωνῖνος', 'ἔπεμψαν', 'νεῦμα', 'ὑπολαβὼν', 'ὕπατος', 'φρουρὰν', 'οὐθὲν', 'τελεῖται', 'ἰουστινιανοῦ', 'αἰτωλῶν', 'ἄρατος', 'ἀχαιοῖς', 'ἰδεῶν', 'ἀχαιοὺς', 'δωρεὰς', 'στρατῷ', 'ᾤοντο', 'φοροῦντες', 'κωνσταντῖνος', 'κηροὺς', 'κῦρον', 'θεμιστοκλῆς', 'ἅγιε', 'παρακαλεῖν', 'σπονδῶν', 'κυριακῇ', 'ἰουστινιανὸς', 'κεφ', 'προσκαλεῖται', 'ὥρμησαν', 'περιορᾶν', 'ἄτταλον', 'χαλκῆς', 'ἔπραττεν', 'σαρακηνῶν', 'δοχῆς', 'στρατηγοῖς'], ['καῖσαρ', 'ἵστανται', 'πρεσβευτὰς', 'ἱππεῖς', 'σχολῶν', 'ὕπατος', 'βῆλον', 'ἄδωνις', 'οὐθὲν', 'βροῦτον', 'ξὺν', 'στρατῷ', 'πτολεμαῖον', 'ἄδωνιν', 'αἰτωλῶν', 'σῶσον', 'ὕπατον', 'πρεσβευτῶν', 'ἀχαιοῖς', 'νεῦμα', 'ἄρατος', 'νιν', 'αἰαῖ', 'κηροὺς', 'γαλατῶν', 'ἰδεῶν', 'ἔπραττεν', 'σπαρτιατῶν', 'ἀντωνῖνος', 'περικλῆς', 'ἔπεμψαν', 'θεμιστοκλῆς', 'ἥδιστον', 'τελεῖται', 'ἔρωτες', 'ἔννοιαι', 'λυκοῦργος', 'βροῦτος', 'ἀχαιοὺς', 'ἀπῄει', 'φρουρὰν', 'φοροῦντες', 'ἰουστινιανοῦ', 'ἅγιε', 'ὑπολαβὼν', 'ὥρμησαν', 'κῶλα', 'κῦρον', 'φανερὸς', 'ἤθει'], ['ἵστανται', 'καῖσαρ', 'ἱππεῖς', 'ὕπατον', 'πρεσβευτὰς', 'σχολῶν', 'βῆλον', 'πτολεμαῖον', 'νεῦμα', 'ὑπολαβὼν', 'οὐθὲν', 'σῶσον', 'ἰουστινιανοῦ', 'κηροὺς', 'βροῦτος', 'φρουρὰν', 'βροῦτον', 'ὕπατος', 'ξὺν', 'πρεσβευτῶν', 'λυκοῦργος', 'ᾔτει', 'γαλατῶν', 'σπαρτιατῶν', 'κωνσταντῖνος', 'βασιλικοὶ', 'κῦρον', 'τελεῖται', 'ᾤοντο', 'ἀχαιοῖς', 'ὥρμησε', 'ἄρατος', 'περικλῆς', 'σπονδῶν', 'ἐπιφανῶν', 'ἀπῄει', 'περσεὺς', 'ἀντωνῖνος', 'σαρακηνῶν', 'αἰτωλῶν', 'ἔπραττεν', 'πρεσβευτὴν', 'ἔπεμψαν', 'φοροῦντες', 'παιδιᾶς', 'δοκοῦντος', 'στρατῷ', 'ἄρατον', 'ὁμαλῶς', 'εἴθισται'], ['καῖσαρ', 'ἵστανται', 'ἱππεῖς', 'σχολῶν', 'ἰσραὴλ', 'πρεσβευτὰς', 'ξὺν', 'δαυὶδ', 'βροῦτος', 'νεῦμα', 'ὕπατον', 'βῆλον', 'ἀχαιοῖς', 'πτολεμαῖον', 'κηροὺς', 'οὐθὲν', 'ὕπατος', 'κῦρον', 'σῶσον', 'θεμιστοκλῆς', 'μιχαὴλ', 'ἀπῄει', 'βροῦτον', 'ἔπραττεν', 'ἰουστινιανοῦ', 'ἔπεμψαν', 'πρεσβευτῶν', 'εὐμενῆ', 'δοκοῦντος', 'φρουρὰν', 'ἅγιε', 'ὑπολαβὼν', 'δωρεὰς', 'πεζῶν', 'ὥρμησε', 'ᾤοντο', 'κεφ', 'περιορᾶν', 'ἀχαιοὺς', 'σπαρτιατῶν', 'ἐπανῆλθεν', 'ἔναγχος', 'σπονδῶν', 'γαλατῶν', 'μηθὲν', 'ἀπολιπεῖν', 'ᾔτει', 'περικλῆς', 'λυκοῦργος', 'ναυσὶ'], ['καῖσαρ', 'ἵστανται', 'ἱππεῖς', 'πρεσβευτὰς', 'βῆλον', 'σχολῶν', 'ὕπατον', 'βροῦτον', 'βροῦτος', 'ἰουστινιανοῦ', 'νεῦμα', 'σῶσον', 'ἀχαιοῖς', 'κηροὺς', 'ὕπατος', 'ᾤοντο', 'περικλῆς', 'πτολεμαῖον', 'ἀντωνῖνος', 'ξὺν', 'ὑπολαβὼν', 'οὐθὲν', 'στρατῷ', 'πρεσβευτῶν', 'φρουρὰν', 'τελεῖται', 'σπαρτιατῶν', 'ὕπατοι', 'αἰτωλῶν', 'ἄτταλον', 'σπονδῶν', 'ἄρατος', 'ἔπραττεν', 'βασιλικοὶ', 'κῦρον', 'ὕπνους', 'μηθὲν', 'θεμιστοκλῆς', 'λυκοῦργος', 'παῦλον', 'πρεσβευτὴν', 'γαλατῶν', 'εὐμενῆ', 'ἔναγχος', 'ἔπεμψαν', 'ἅγιε', 'παρακαλεῖν', 'παιδιᾶς', 'σαρακηνῶν', 'στρατηγοῖς'], ['ἵστανται', 'καῖσαρ', 'βῆλον', 'σχολῶν', 'ξὺν', 'νεῦμα', 'πρεσβευτὰς', 'ὕπατον', 'πτολεμαῖον', 'ἱππεῖς', 'κηροὺς', 'σῶσον', 'ἀντωνῖνος', 'πρεσβευτῶν', 'ὕπατος', 'αἰτωλῶν', 'ἀχαιοῖς', 'ἰουστινιανοῦ', 'βροῦτος', 'σπονδῶν', 'ἔπεμψαν', 'κῦρον', 'ᾤοντο', 'βροῦτον', 'προσκυνεῖ', 'ἰδεῶν', 'σαρακηνῶν', 'ἅγιε', 'φρουρὰν', 'φοροῦντες', 'ἔννοιαι', 'χαλκῆς', 'στρατῷ', 'οὐθὲν', 'πρεσβευτὴν', 'τελεῖται', 'δαυὶδ', 'μιχαὴλ', 'ἀχαιοὺς', 'κῶλα', 'ἔπραττεν', 'περικλῆς', 'ἰουστινιανὸς', 'δοκοῦντος', 'ἀπῄει', 'στρατηγοῖς', 'ὕπατοι', 'ἅγια', 'κωνσταντῖνος', 'ὑπολαβὼν'], ['καῖσαρ', 'ἵστανται', 'ἱππεῖς', 'πρεσβευτὰς', 'βῆλον', 'σχολῶν', 'οὐθὲν', 'ὕπατον', 'σῶσον', 'ὕπατος', 'βροῦτον', 'κηροὺς', 'ὑπολαβὼν', 'ἀχαιοῖς', 'βροῦτος', 'ἔπεμψαν', 'ἰουστινιανοῦ', 'ξὺν', 'αἰτωλῶν', 'φοροῦντες', 'ἀχαιοὺς', 'κῦρον', 'τελεῖται', 'ἐπανῆλθεν', 'στρατῷ', 'θεμιστοκλῆς', 'σαρακηνῶν', 'πτολεμαῖον', 'ἔπραττεν', 'λυκοῦργος', 'ἄρατον', 'στρατηγοῖς', 'περικλῆς', 'νεῦμα', 'φρουρὰν', 'ἄρατος', 'ἰουστινιανὸς', 'ἥδιστον', 'παιδιᾶς', 'κῶλα', 'ᾤοντο', 'ἅγιε', 'σπονδῶν', 'σπαρτιατῶν', 'ἰδεῶν', 'περσεὺς', 'εὐμενῆ', 'βασιλικὰ', 'κατεῖχε', 'ἔλαθε'], ['καῖσαρ', 'ἵστανται', 'σχολῶν', 'ξὺν', 'ἱππεῖς', 'βῆλον', 'πρεσβευτὰς', 'μιχαὴλ', 'κηροὺς', 'νεῦμα', 'σῶσον', 'πτολεμαῖον', 'βροῦτος', 'τελεῖται', 'ὕπατος', 'ἀχαιοὺς', 'ἀχαιοῖς', 'βροῦτον', 'ἰουστινιανοῦ', 'πρεσβευτὴν', 'ὕπατον', 'αἰτωλῶν', 'κεφ', 'σαρακηνῶν', 'ἰδεῶν', 'τοῦρκοι', 'πρεσβευτῶν', 'δοκοῦντος', 'κωνσταντῖνος', 'κῦρον', 'σπονδῶν', 'βασιλικοὶ', 'ᾔτει', 'θεμιστοκλῆς', 'χαλκῆς', 'ἥδιστον', 'στρατηγοῖς', 'περσεὺς', 'φοροῦντες', 'κομνηνὸς', 'πολιτικῆς', 'λιτῆς', 'φρουρὰν', 'ἐπιτελεῖται', 'ῥωμαϊκῆς', 'στρατῷ', 'εὐμενὴς', 'ᾤοντο', 'γαλατῶν', 'οὐθὲν'], ['καῖσαρ', 'ἵστανται', 'ἱππεῖς', 'βροῦτος', 'βροῦτον', 'βῆλον', 'σχολῶν', 'πρεσβευτὰς', 'οὐθὲν', 'παθητικῶς', 'ἄρατος', 'παιδιᾶς', 'νεῦμα', 'ἀχαιοῖς', 'ὕπατον', 'ὕπατος', 'περικλῆς', 'φρουρὰν', 'ἥδιστον', 'πρεσβευτῶν', 'σῶσον', 'αἰτιατικῇ', 'θεμιστοκλῆς', 'ξὺν', 'στρατηγοῖς', 'προῆλθε', 'ἐπανῆλθεν', 'γενικῇ', 'ἐνεργητικῶς', 'ἰουστινιανοῦ', 'εὐμενῆ', 'ὑπολαβὼν', 'σπαρτιατῶν', 'κεφ', 'στρατηγοῦντος', 'ἀπολιπεῖν', 'δοκοῦντος', 'κηροὺς', 'ᾤοντο', 'πρεσβευτὴν', 'ἀττικοὶ', 'σπονδῶν', 'γαλατῶν', 'παρακαλεῖν', 'αἰτωλῶν', 'στρατῷ', 'ἔπεμψαν', 'βοῆς', 'ὥρμησε', 'ἐμπεδοκλῆς'], ['ἵστανται', 'καῖσαρ', 'ἱππεῖς', 'σχολῶν', 'βῆλον', 'ἰσραὴλ', 'πρεσβευτὰς', 'πτολεμαῖον', 'ἔπεμψαν', 'βροῦτον', 'ὑπολαβὼν', 'ᾤοντο', 'ἄρατος', 'περικλῆς', 'κηροὺς', 'οὐθὲν', 'ὕπατος', 'φρουρὰν', 'κῦρον', 'ἔννοιαι', 'ἀχαιοῖς', 'ἰδεῶν', 'βροῦτος', 'ἤθει', 'περιορᾶν', 'κῶλον', 'σπαρτιατῶν', 'ὕπατον', 'αἰτωλῶν', 'μηθὲν', 'ἰουστινιανοῦ', 'νεῦμα', 'δαυὶδ', 'ἀχαιοὺς', 'περιβολῆς', 'ὁμαλῶς', 'πρεσβευτῶν', 'στρατῷ', 'ξὺν', 'θεμιστοκλῆς', 'σαρακηνῶν', 'εὐμενῆ', 'παιδιᾶς', 'ναυσὶ', 'διαβολὴν', 'σπονδῶν', 'πρεσβευτὴν', 'ἐπιφανῶν', 'περσεὺς', 'μεταβολαῖς'], ['ἵστανται', 'καῖσαρ', 'ἱππεῖς', 'πρεσβευτὰς', 'βροῦτος', 'οὐθὲν', 'ὕπατος', 'βῆλον', 'ὕπατον', 'ἰουστινιανοῦ', 'βροῦτον', 'σχολῶν', 'κηροὺς', 'ξὺν', 'πρεσβευτῶν', 'ᾤοντο', 'ἀχαιοῖς', 'σῶσον', 'πτολεμαῖον', 'τελεῖται', 'σπονδῶν', 'ἀχαιοὺς', 'ἄρατος', 'ἔπραττεν', 'ἔπεμψαν', 'νεῦμα', 'πρεσβευτὴν', 'ἥδιστον', 'περιορᾶν', 'ἅγιε', 'ἄρατον', 'δοκοῦντος', 'ἐπανῆλθεν', 'δωρεὰς', 'ὑπολαβὼν', 'περσεὺς', 'λυκοῦργος', 'θεμιστοκλῆς', 'φρουρὰν', 'παρακαλεῖν', 'ἔπαρχος', 'φοροῦντες', 'εὐμενὴς', 'ἀντωνῖνος', 'ἐπανελθὼν', 'στρατῷ', 'ὁμαλῶς', 'προσκυνεῖ', 'ᾔτει', 'σαρακηνῶν'], ['ἵστανται', 'καῖσαρ', 'ἱππεῖς', 'πρεσβευτὰς', 'βῆλον', 'σχολῶν', 'ὕπατος', 'ἰουστινιανοῦ', 'θεμιστοκλῆς', 'σῶσον', 'βροῦτος', 'ἀχαιοῖς', 'οὐθὲν', 'βροῦτον', 'πρεσβευτῶν', 'ἰσραὴλ', 'ὕπατον', 'νεῦμα', 'κῦρον', 'στρατῷ', 'πτολεμαῖον', 'ξὺν', 'σπονδῶν', 'ὑπολαβὼν', 'αἰτωλῶν', 'ἐπανῆλθεν', 'σπαρτιατῶν', 'ἔπεμψαν', 'ἔναγχος', 'δαυὶδ', 'ἄρατος', 'κηροὺς', 'εὐμενὴς', 'ᾤοντο', 'ἀχαιοὺς', 'κεφ', 'φρουρὰν', 'σῴζεσθαι', 'ἅγιε', 'πρεσβευτὴν', 'ἔπραττεν', 'γαλατῶν', 'ὕπνους', 'μηθὲν', 'περικλῆς', 'δοκοῦντος', 'τελεῖται', 'εὐμενῆ', 'σῴζειν', 'ἥδιστον'], ['καῖσαρ', 'ἵστανται', 'ἱππεῖς', 'ξὺν', 'βῆλον', 'ὕπατον', 'πρεσβευτὰς', 'σχολῶν', 'φρουρὰν', 'ὑπολαβὼν', 'βροῦτος', 'νεῦμα', 'βροῦτον', 'πτολεμαῖον', 'πρεσβευτῶν', 'οὐθὲν', 'σῶσον', 'ἄρατος', 'θεμιστοκλῆς', 'ᾤοντο', 'κηροὺς', 'μιχαὴλ', 'ἔπεμψαν', 'στρατῷ', 'ἀντωνῖνος', 'τελεῖται', 'φανερὸς', 'ἰδεῶν', 'ἐπανῆλθεν', 'σαρακηνῶν', 'ναυσὶ', 'ἀχαιοῖς', 'ἀπῄει', 'λυκοῦργος', 'πρεσβευτὴν', 'ἔπραττεν', 'ἀχαιοὺς', 'κεφ', 'ὕβρει', 'γαλατῶν', 'μηθὲν', 'ἥδιστον', 'ἔπεμπε', 'κωνσταντῖνος', 'δοκοῦντος', 'περσεὺς', 'ὥρμησε', 'ὕπατος', 'κῶλα', 'παρακαλεῖν'], ['καῖσαρ', 'ἵστανται', 'ἱππεῖς', 'πρεσβευτὰς', 'ξὺν', 'σχολῶν', 'ἀπῄει', 'ἀχαιοῖς', 'βῆλον', 'ὕπατον', 'κηροὺς', 'πτολεμαῖον', 'βροῦτον', 'οὐθὲν', 'ἰουστινιανοῦ', 'πρεσβευτῶν', 'σῶσον', 'τελεῖται', 'σαρακηνῶν', 'νεῦμα', 'ἐπανῆλθεν', 'στρατῷ', 'τοῦρκοι', 'βροῦτος', 'κωνσταντῖνος', 'ὕπατος', 'σπαρτιατῶν', 'φρουρὰν', 'ἀντωνῖνος', 'ἔπεμψαν', 'ἀχαιοὺς', 'κομνηνὸς', 'σπονδῶν', 'περικλῆς', 'βασιλικοὶ', 'ἐπιφανῶν', 'στρατηγοῖς', 'πρεσβευτὴν', 'μιχαὴλ', 'θεμιστοκλῆς', 'συγκλητικῶν', 'ᾤοντο', 'ὕπνους', 'ὑπολαβὼν', 'φοροῦντες', 'σῴζεσθαι', 'δωρεὰς', 'ἔναγχος', 'ἔπραττεν', 'προσκυνεῖ'], ['καῖσαρ', 'ἵστανται', 'πρεσβευτὰς', 'παῦλον', 'βῆλον', 'σχολῶν', 'χριστιανὸς', 'καθολικῆς', 'σαμουὴλ', 'ξὺν', 'σῶσον', 'νεῦμα', 'σαοὺλ', 'ἱππεῖς', 'βροῦτος', 'ὕπατον', 'ἵππαρχος', 'ἰουδαῖοι', 'οὐθὲν', 'ὕπατος', 'χριστιανοὺς', 'ἔπαρχος', 'ἰησοῦν', 'ἔπεμψαν', 'κηροὺς', 'φρουρὰν', 'βροῦτον', 'ἀχαιοὺς', 'θεμιστοκλῆς', 'ἔμειναν', 'ἀναγαγεῖν', 'πρεσβευτῶν', 'σατανᾶς', 'στρατῷ', 'σαρακηνῶν', 'αἰτωλῶν', 'κῦρον', 'ἄρατος', 'μεταγαγεῖν', 'οἴδατε', 'κοιτῶνι', 'ἀχαιοῖς', 'χρυσῇ', 'ἅγιε', 'ἁμαρτωλῶν', 'ὑπολαβὼν', 'μαθηταὶ', 'τελεῖται', 'πτολεμαῖον', 'κωνσταντῖνος'], ['καῖσαρ', 'ἵστανται', 'ἱππεῖς', 'πρεσβευτὰς', 'ὕπατος', 'οὐθὲν', 'σχολῶν', 'βροῦτος', 'φρουρὰν', 'ἄρατος', 'βροῦτον', 'ὑπολαβὼν', 'πτολεμαῖον', 'βῆλον', 'ὕπατον', 'νεῦμα', 'περικλῆς', 'λυκοῦργος', 'ᾤοντο', 'ἐπανῆλθεν', 'πολιτικῆς', 'κηροὺς', 'ἐπιφανῶν', 'ἀντωνῖνος', 'μηθὲν', 'παρακαλεῖν', 'σαρακηνῶν', 'ναυσὶ', 'ξὺν', 'ὁμαλῶς', 'ἔπραττεν', 'σῶσον', 'ἰουστινιανοῦ', 'γαλατῶν', 'πρεσβευτῶν', 'σπαρτιατῶν', 'ὕπνους', 'καταβαλὼν', 'κῦρον', 'ἀπολιπεῖν', 'ὥρμησε', 'ἔπεμψαν', 'ἀχαιοῖς', 'τελεῖται', 'ὕπατοι', 'οἴκαδ', 'θεμιστοκλῆς', 'σῴζειν', 'ἰδεῶν', 'εὐμενῆ'], ['ἵστανται', 'καῖσαρ', 'βῆλον', 'ἐθνικὸν', 'ξὺν', 'ἱππεῖς', 'νεῦμα', 'σχολῶν', 'σῶσον', 'πρεσβευτῶν', 'πρεσβευτὰς', 'κηροὺς', 'ὕπατον', 'ἰουστινιανοῦ', 'ἕκτῃ', 'ὕπατος', 'αἰτωλῶν', 'βροῦτος', 'πτολεμαῖον', 'πρεσβευτὴν', 'ἀχαιοῖς', 'τελεῖται', 'σαρακηνῶν', 'φρουρὰν', 'ἔπεμψαν', 'ἀντωνῖνος', 'οὐθὲν', 'κωνσταντῖνος', 'περσεὺς', 'περικλῆς', 'ὑπολαβὼν', 'κυριακῇ', 'στρατῷ', 'ἅγιε', 'θεμιστοκλῆς', 'λυκοῦργος', 'κεφ', 'πολιτικῆς', 'ἄτταλον', 'γαλατῶν', 'κῦρον', 'ἦρχον', 'χαλκῆς', 'προσκυνεῖ', 'βροῦτον', 'περικλεῖ', 'ᾤοντο', 'σπονδῶν', 'ἰουστινιανὸς', 'αἰτωλοὺς'], ['καῖσαρ', 'ἵστανται', 'ἱππεῖς', 'πρεσβευτὰς', 'σχολῶν', 'ὕπατος', 'βῆλον', 'ἰδεῶν', 'βροῦτος', 'οὐθὲν', 'ἔννοιαι', 'βροῦτον', 'σῶσον', 'ξὺν', 'κῶλα', 'ὑπολαβὼν', 'κηροὺς', 'πρεσβευτῶν', 'λυκοῦργος', 'νεῦμα', 'ἀχαιοῖς', 'στρατῷ', 'ἔπεμψαν', 'ὕπατον', 'περικλῆς', 'ἔπραττεν', 'ἀντωνῖνος', 'κῶλον', 'δοκοῦντος', 'πτολεμαῖον', 'φανερὸς', 'ναυσὶ', 'ὥρμησε', 'ἰουστινιανοῦ', 'ἥδιστον', 'ᾔτει', 'πολιτικὸς', 'θεμιστοκλῆς', 'περιβολὴν', 'ἤθει', 'μιχαὴλ', 'σαρακηνῶν', 'κῦρον', 'εὐμενὴς', 'πρεσβευτὴν', 'ἐπιφανῶν', 'ἄρατον', 'ἀχαιοὺς', 'φρουρὰν', 'σπαρτιατῶν'], ['καῖσαρ', 'ἵστανται', 'ἱππεῖς', 'βῆλον', 'σχολῶν', 'ὕπατον', 'πρεσβευτὰς', 'ὕπατος', 'ἀχαιοῖς', 'βροῦτος', 'κηροὺς', 'ἄρατος', 'οὐθὲν', 'πτολεμαῖον', 'περικλῆς', 'νεῦμα', 'βροῦτον', 'ἰουστινιανοῦ', 'σῶσον', 'σπαρτιατῶν', 'πρεσβευτῶν', 'φρουρὰν', 'ᾤοντο', 'ὑπολαβὼν', 'σπονδῶν', 'θεμιστοκλῆς', 'στρατῷ', 'ἐπιφανῶν', 'ἔπεμψαν', 'λυκοῦργος', 'ἥδιστον', 'πρεσβευτὴν', 'ἀντωνῖνος', 'μηθὲν', 'σῴζειν', 'στρατηγοῖς', 'τελεῖται', 'ἔπραττεν', 'ξὺν', 'σταυρὸν', 'ἰουδαῖοι', 'σαρακηνῶν', 'ναυσὶ', 'παιδιᾶς', 'κῦρον', 'ἅγιε', 'ἀχαιοὺς', 'ἐπανῆλθεν', 'ὁμαλῶς', 'χαλκῆς'], ['καῖσαρ', 'ἵστανται', 'πρεσβευτὰς', 'ἱππεῖς', 'ὕπατος', 'ξὺν', 'ὕπατον', 'βροῦτον', 'οὐθὲν', 'βῆλον', 'ἀντωνῖνος', 'σχολῶν', 'κηροὺς', 'περικλῆς', 'σῶσον', 'πρεσβευτῶν', 'βροῦτος', 'πτολεμαῖον', 'ἰουδαῖοι', 'στρατῷ', 'ἰουστινιανοῦ', 'ἐπιφανῶν', 'ὑπολαβὼν', 'ἐπανῆλθεν', 'θεμιστοκλῆς', 'ἄρατος', 'κῶλον', 'κῶλα', 'ἔννοιαι', 'φρουρὰν', 'ἀπῄει', 'λυκοῦργος', 'καθολικῆς', 'ἰδεῶν', 'αἰτωλῶν', 'ἀχαιοὺς', 'ᾤοντο', 'ἀχαιοῖς', 'νεῦμα', 'ἥδιστον', 'σπαρτιατῶν', 'δοκοῦντος', 'κῦρον', 'ἅγιε', 'ὥρμησε', 'ἔπεμψαν', 'σαοὺλ', 'μιχαὴλ', 'ἰσραὴλ', 'κωνσταντῖνος'], ['καῖσαρ', 'ἵστανται', 'ἱππεῖς', 'ξὺν', 'σχολῶν', 'ἀπῄει', 'κομνηνὸς', 'πρεσβευτὰς', 'μιχαὴλ', 'τοῦρκοι', 'παῦλον', 'βῆλον', 'περικλῆς', 'ἰσραὴλ', 'οὐθὲν', 'ὕπατος', 'ἔπαρχος', 'βροῦτος', 'ἁμαρτωλῶν', 'ὕπατον', 'φρουρὰν', 'κομνηνὸν', 'βροῦτον', 'δαυὶδ', 'ῥωμαϊκῆς', 'τελεῖται', 'σαρακηνῶν', 'κρατοῦντα', 'σπαρτιατῶν', 'πτολεμαῖον', 'ᾤοντο', 'ἄρατος', 'σῶσον', 'κηροὺς', 'λυκοῦργος', 'κοιτῶνι', 'ἔπραττεν', 'θεμιστοκλῆς', 'κομνηνῷ', 'ἐπιφανῶν', 'ἀντωνῖνος', 'ἐπανῆλθεν', 'εὐμενῆ', 'ἔφθη', 'ἔκτοτε', 'ἔσπευδεν', 'στρατῷ', 'ἀχαιοῖς', 'κωνσταντῖνος', 'ὥρμησε'], ['καῖσαρ', 'ἵστανται', 'ἱππεῖς', 'οὐθὲν', 'σχολῶν', 'ειν', 'ξὺν', 'πρεσβευτὰς', 'ινα', 'βροῦτος', 'αυτ', 'τωι', 'ἀντωνῖνος', 'ρος', 'βῆλον', 'κον', 'ὕπατος', 'φρουρὰν', 'τηι', 'προς', 'πτολεμαῖον', 'ἀπῄει', 'μιχαὴλ', 'βροῦτον', 'μηθὲν', 'ὕπατον', 'ἔπεμψαν', 'κομνηνὸς', 'κῦρον', 'ἀχαιοῖς', 'σαρακηνῶν', 'ἥδιστον', 'αἰτωλῶν', 'κηροὺς', 'νεῦμα', 'ἰουστινιανοῦ', 'τελεῖται', 'σῶσον', 'ᾤοντο', 'περικλῆς', 'συχνοὺς', 'σπονδῶν', 'λαθὼν', 'δαυὶδ', 'ὥρμησε', 'λυκοῦργος', 'ᾔτει', 'σιωπῆς', 'μοχθηρῶς', 'τοῦρκοι'], ['ἵστανται', 'καῖσαρ', 'βῆλον', 'πρεσβευτὰς', 'ἱππεῖς', 'σχολῶν', 'ὕπατον', 'βροῦτος', 'νεῦμα', 'σῶσον', 'βροῦτον', 'στρατῷ', 'ὕπατος', 'ὑπολαβὼν', 'ξὺν', 'πρεσβευτῶν', 'περικλῆς', 'ἀντωνῖνος', 'ἰουστινιανοῦ', 'ἀχαιοὺς', 'θεμιστοκλῆς', 'ἀχαιοῖς', 'φρουρὰν', 'πτολεμαῖον', 'κεφ', 'ἅγιε', 'κηροὺς', 'οὐθὲν', 'ᾤοντο', 'σπονδῶν', 'τελεῖται', 'φοροῦντες', 'ἰουστινιανὸς', 'γαλατῶν', 'μαξιμῖνος', 'ἄρατος', 'αἰτωλῶν', 'ἀπῄει', 'ὥρμησε', 'ἐπανῆλθεν', 'ἰδεῶν', 'ἔπεμψαν', 'δαρεῖον', 'ὕπατοι', 'σαρακηνῶν', 'κῦρον', 'δεξιῷ', 'κωνσταντῖνος', 'ἔπραττε', 'μηθὲν'], ['καῖσαρ', 'ἵστανται', 'ἱππεῖς', 'οὐθὲν', 'πρεσβευτὰς', 'βῆλον', 'βροῦτος', 'σχολῶν', 'ὕπατος', 'θεμιστοκλῆς', 'ξὺν', 'ἀχαιοῖς', 'πτολεμαῖον', 'νεῦμα', 'ᾤοντο', 'ὕπατον', 'κηροὺς', 'ἔπεμψαν', 'σῶσον', 'λυκοῦργος', 'κῦρον', 'ἀντωνῖνος', 'παρακαλεῖν', 'στρατηγοῖς', 'διαφυγεῖν', 'ἄρατος', 'ὑπολαβὼν', 'δοκοῦντος', 'στρατῷ', 'φρουρὰν', 'πολιτικῆς', 'βροῦτον', 'περικλῆς', 'σπονδῶν', 'βοῆς', 'δελφοὺς', 'ἰουστινιανοῦ', 'σπαρτιατῶν', 'ἀπῄει', 'ἐπιφανῶν', 'δωρεὰς', 'ὥρμησε', 'ἰδεῶν', 'πρεσβευτὴν', 'αἰτωλῶν', 'παιδιᾶς', 'ἥδιστον', 'ὕβρει', 'σαρακηνῶν', 'ὁμαλῶς'], ['ἵστανται', 'καῖσαρ', 'κιθαιρὼν', 'ξὺν', 'πρεσβευτὰς', 'βῆλον', 'ἱππεῖς', 'σχολῶν', 'σῶσον', 'ἀχαιοῖς', 'ἔπεσε', 'ἔγημε', 'ἰουστινιανοῦ', 'γῆμαι', 'κατενεχθεὶς', 'εὐπρεποῦς', 'ἐμπεσοῦσα', 'σφαγῆναι', 'νεῦμα', 'βροῦτον', 'κιθαιρῶνος', 'σαρακηνῶν', 'ἔβαλεν', 'παχὺς', 'ἀποτυχοῦσα', 'βοιωτοῦ', 'ἀδικεῖται', 'καταπληκτικὸν', 'αἶνος', 'κηροὺς', 'βοιωτὸς', 'ὕπατον', 'κωνσταντῖνος', 'βροῦτος', 'μιχαὴλ', 'οὐθὲν', 'πτολεμαῖον', 'ἀπῄει', 'ὕπατος', 'ᾤοντο', 'ἀντωνῖνος', 'αἰτωλῶν', 'στρατῷ', 'ἀχαιοὺς', 'πρεσβευτῶν', 'κεφ', 'ἐπανῆλθεν', 'ἄρατος', 'γαλατῶν', 'ἰδεῶν'], ['καῖσαρ', 'ἵστανται', 'σχολῶν', 'πρεσβευτὰς', 'βῆλον', 'ἱππεῖς', 'οὐθὲν', 'πτολεμαῖον', 'ξὺν', 'ὕπατος', 'ὕπατον', 'λυκοῦργος', 'τελεῖται', 'ὑπολαβὼν', 'σῶσον', 'φρουρὰν', 'βροῦτος', 'βροῦτον', 'ἔπεμψαν', 'ἰουστινιανοῦ', 'δοκοῦντος', 'κηροὺς', 'νεῦμα', 'ἀχαιοῖς', 'θεμιστοκλῆς', 'αἰτωλῶν', 'ἄρατος', 'ἐπανῆλθεν', 'σιωπῆς', 'σπαρτιατῶν', 'ᾤοντο', 'παιδιᾶς', 'ἥδιστον', 'ἅγιε', 'πρεσβευτὴν', 'κῦρον', 'χρυσῆς', 'σπονδῶν', 'ἔδοσαν', 'κεφ', 'ἀχαιοὺς', 'περσεὺς', 'ὥρμησε', 'περικλῆς', 'δεξιῷ', 'βοῆς', 'ἐπιφανῶν', 'διελθὼν', 'στρατηγοῖς', 'σαρακηνῶν']]\n",
      "\n",
      "Can you spot the misplaced word in each topic?\n",
      "0: καῖσαρ ἑκαταῖος πρεσβευτὰς σχολῶν ἱππεῖς ξὺν βῆλον κηροὺς σῶσον θεᾶς\n",
      "1: στρατηγοῖς ἵστανται ἱππεῖς πρεσβευτὰς σχολῶν ὕπατον οὐθὲν βροῦτον βροῦτος σῶσον\n",
      "2: καῖσαρ ἵστανται ἱππεῖς ᾔδεσαν βροῦτον ξὺν πρεσβευτὰς βροῦτος βῆλον φρουρὰν\n",
      "3: καῖσαρ ἵστανται σχολῶν κατῴκησε ἱππεῖς οὐθὲν ξὺν πρεσβευτὰς πτολεμαῖον σῶσον\n",
      "4: καῖσαρ λαθὼν πρεσβευτὰς ἱππεῖς ξὺν βροῦτος βῆλον βροῦτον σῶσον σχολῶν\n",
      "5: ἱππεῖς καῖσαρ δῦναι σχολῶν πρεσβευτὰς βροῦτον ἀντιφῶν βροῦτος ὕπατον θεμιστοκλῆς\n",
      "6: καῖσαρ αἰδοῦμαι ἱππεῖς σχολῶν πρεσβευτὰς βῆλον ξὺν βροῦτος ἰουστινιανοῦ ὕπατος\n",
      "7: καῖσαρ ἱππεῖς ἀντιφῶν οὐθὲν βροῦτος βῆλον ὕπατον σχολῶν ἀπῄει σπαρτιατῶν\n",
      "8: καῖσαρ ἵστανται πενιχρὰν βῆλον ἱππεῖς νεῦμα σχολῶν ὕπατον πρεσβευτῶν πτολεμαῖον\n",
      "9: χαρὰ ἵστανται οἴκαδ ἱππεῖς πρεσβευτὰς αἰτιατικῇ βῆλον ὕπατον καταβαλὼν εὕρημα\n",
      "10: καῖσαρ ἵστανται πρεσβευτὰς ἱππεῖς βῆλον ὕπατον βροῦτος οὐθὲν σχολῶν κον\n",
      "11: καῖσαρ ἵστανται ἱππεῖς γραμματεῖς ἰσραὴλ βροῦτος βῆλον σῶσον δαυὶδ ἡγοῦ\n",
      "12: καῖσαρ ἔπραττε ἱππεῖς πρεσβευτὰς βῆλον βροῦτος σχολῶν ὕπατον οὐθὲν φρουρὰν\n",
      "13: αἴθραν καῖσαρ ἵστανται ὀστῶν ὀρφεὺς ἱππεῖς βροῦτος βῆλον θεᾶς στρατειῶν\n",
      "14: καῖσαρ ἵστανται ἱππεῖς πρεσβευτὰς ἀγχοῦ βροῦτον ξὺν βῆλον ἀντιφῶντος ἀντιφῶν\n",
      "15: ἵστανται καῖσαρ σχολῶν ἱππεῖς πρεσβευτὰς βῆλον νεῦμα ἄδωνις ξὺν λευκοὶ\n",
      "16: καῖσαρ ἱππεῖς ἵστανται ἥρωα παθητικῶς βροῦτον ἀττικοὶ οὐθὲν βροῦτος ἀχαιοῖς\n",
      "17: λαῷ ἱππεῖς ἵστανται βροῦτος πρεσβευτὰς βῆλον ὕπατος ὕπατον ἄρατος βροῦτον\n",
      "18: καῖσαρ ἵστανται ἄδωνις νιν ἄδωνιν πρεσβευτὰς σχολῶν σαοὺλ ἱππεῖς βῆλον\n",
      "19: χριστιανὸς ἵστανται ἰδεῶν πρεσβευτὰς ἱππεῖς ὕπατον βροῦτος ἔννοιαι σχολῶν βροῦτον\n",
      "20: καῖσαρ ἵστανται παιδιᾶς πρεσβευτὰς σχολῶν κηροὺς βῆλον σῶσον ἰουστινιανοῦ βροῦτον\n",
      "21: ἵστανται καῖσαρ ἐθνικὸν σχολῶν ἄργον λυδῶν βῆλον ξὺν χεροῖν σῶσον\n",
      "22: καῖσαρ ἵστανται ἱππεῖς ὕπατον σχολῶν βῆλον ξὺν κωνσταντῖνος γεννῶ οὐθὲν\n",
      "23: καῖσαρ ἵστανται ἰουδαῖοι ἱππεῖς ἡρῴδης οἴδατε σχολῶν μνημεῖον ἰερουσαλὴμ σταυρὸν\n",
      "24: καῖσαρ ξὺν σχολῶν προσκαλεῖται ἵστανται μιχαὴλ κομνηνὸς ἀπῄει ἱππεῖς πρεσβευτὰς\n",
      "25: ρων ἵστανται πρεσβευτὰς ἱππεῖς σχολῶν βῆλον νεῦμα κηροὺς στρατῷ πρεσβευτῶν\n",
      "26: καῖσαρ ἵστανται μυσῶν φῄς αὐτοῖσιν ξὺν πρεσβευτὰς ἱππεῖς ὕπατον σταυρὸν\n",
      "27: καῖσαρ ἵστανται ἱππεῖς σχολῶν βῆλον πρεσβευτὰς ὕπατον βροῦτος ἐθνικὸν φρουρὰν\n",
      "28: καῖσαρ ἵστανται ἱππεῖς αἰτιατικῇ ὕπατον πρεσβευτὰς βῆλον ἔρωτες ἰδεῶν οὐθὲν\n",
      "29: καῖσαρ ἵστανται ἱππεῖς βροῦτος οὐθὲν πρεσβευτὰς ἰσραὴλ πολιτικὸν βροῦτον ὑπολαβὼν\n",
      "30: καῖσαρ ἵστανται ξὺν ἱππεῖς περικλῆς τοῦρκοι πρεσβευτὰς οὐθὲν ὕπατος κομνηνὸς\n",
      "31: καῖσαρ ἵστανται σχολῶν ἱππεῖς βῆλον πρεσβευτὰς σφαγῆναι ἀχαιοῖς νεῦμα σῶσον\n",
      "32: ἵστανται ἐνεργητικὴν σχολῶν πρεσβευτὰς βῆλον σῶσον ἰουστινιανοῦ ὕπατον ἱππεῖς ξὺν\n",
      "33: καῖσαρ κρατῆρα ἴφικλος αὔταρκες ἵστανται πρεσβευτὰς βροῦτος σχολῶν βῆλον ὕπατον\n",
      "34: αὔταρκες καῖσαρ παῦλον βῆλον πρεσβευτὰς σχολῶν ἔπαρχος σῶσον ξὺν πρεσβευτῶν\n",
      "35: καῖσαρ ἵστανται ἱππεῖς πρεσβευτὰς βροῦτος ὄψον βῆλον οὐθὲν ὕπατος πτολεμαῖον\n",
      "36: καῖσαρ ἵστανται ἱππεῖς βροῦτος ὕπατον κοῦφα βῆλον πρεσβευτὰς πτολεμαῖον ὕπατος\n",
      "37: καῖσαρ ἵστανται ἱππεῖς βροῦτον οὐθὲν βῆλον βροῦτος μεταβολαῖς ἀχαιοῖς πρεσβευτὰς\n",
      "38: καῖσαρ ἵστανται ἱππεῖς πρεσβευτὰς σχολῶν βῆλον ξὺν βροῦτον βροῦτος σατανᾶς\n",
      "39: ὤμοσεν ἵστανται ἱππεῖς σχολῶν βῆλον ἰδεῶν πρεσβευτὰς βροῦτος ἰσραὴλ δαυὶδ\n",
      "40: καῖσαρ ἵστανται κριτὴν ἱππεῖς ἐπιφανῶν κελτῶν ἀπολειφθεὶς ποιητὰς εὐφυῆ νεῦμα\n",
      "41: καῖσαρ ἵστανται σατανᾶς ἱππεῖς ἀντιφῶν βῆλον ἀντιφῶντος σχολῶν βροῦτος ὕπατον\n",
      "42: καῖσαρ συγκλητικῶν ἱππεῖς ἀντιφῶντος ἀντιφῶν βροῦτος θεμιστοκλῆς οὐθὲν σχολῶν ὕπατον\n",
      "43: καῖσαρ ἵστανται παῦλον ἱππεῖς προκοπῆς βροῦτος ὕπατον ἀντιφῶν πρεσβευτὰς ἀντωνῖνος\n",
      "44: καῖσαρ ἵστανται ἱππεῖς βροῦτος ἰσραὴλ σχολῶν ξὺν πρεσβευτὰς τωι δαυὶδ\n",
      "45: καῖσαρ ἵστανται ἱππεῖς σταυρὸν βῆλον βροῦτος οὐθὲν σχολῶν κηροὺς σῶσον\n",
      "46: καῖσαρ ἱππεῖς βροῦτος ἵστανται ἰδεῶν βροῦτον κῶλον ἔννοιαι οὐθὲν ἕλκους\n",
      "47: ἔναγχος ἱππεῖς ἵστανται οὐθὲν βροῦτον ἐθνικὸν πρεσβευτὰς βροῦτος ὕπατον βῆλον\n",
      "48: καῖσαρ ἵστανται σχολῶν ἱππεῖς ξὺν βασιλικὰ βροῦτον πρεσβευτὰς βροῦτος ὕπατον\n",
      "49: καῖσαρ ἵστανται ὕπατον ἱππεῖς σχολῶν παῦλον βῆλον οὐθὲν αἴτησιν ξὺν\n",
      "50: καῖσαρ ἵστανται χρησμῷ ἱππεῖς ἰδεῶν βῆλον σχολῶν κῶλα ξὺν ἔννοιαι\n",
      "51: καῖσαρ ἵστανται ἱππεῖς ἰδεῶν ἀντιφῶν ἔννοιαι ἐντολὰς πρεσβευτὰς βροῦτον κῶλα\n",
      "52: καῖσαρ ἱππεῖς ἵστανται σχολῶν ὕπατον βῆλον βροῦτον βροῦτος πονοῦντες ἄρατος\n",
      "53: καῖσαρ ἵστανται ἱππεῖς ὕπατον θῦσαι βροῦτος οὐθὲν σχολῶν ἄρατος βροῦτον\n",
      "54: ἵστανται καῖσαρ πρεσβευτὰς ἔκτοτε σῶσον βῆλον σχολῶν πτολεμαῖον στρατῷ κηροὺς\n",
      "55: καῖσαρ ἵστανται ἔοικας βῆλον ἱππεῖς θηβαῖοι ὕπατος θῦσαι πρεσβευτὰς οὐθὲν\n",
      "56: καῖσαρ ἱππεῖς ἵστανται βροῦτος ὕπατος περικλῆς οὐθὲν ὕπατον βροῦτον πονηροῖς\n",
      "57: παθητικῶς ἄδωνιν νιν καῖσαρ ἔρωτες αἰαῖ ἵστανται ἱππεῖς βροῦτον τᾶς\n",
      "58: καῖσαρ ἵστανται ἱππεῖς ἐξῄει σχολῶν πρεσβευτὰς βροῦτον μιχαὴλ βροῦτος βῆλον\n",
      "59: σφαγῆναι ἱππεῖς ἵστανται οὐθὲν βροῦτος βροῦτον ὕπατον βῆλον περικλῆς σπαρτιατῶν\n",
      "60: ἵστανται καῖσαρ ἱππεῖς πρεσβευτὰς σχολῶν ξὺν βῆλον βροῦτος ἰδεῶν προσλαβεῖν\n",
      "61: καῖσαρ ἱππεῖς ἵστανται ἅλλεται θεμιστοκλῆς πρεσβευτὰς οὐθὲν περικλῆς σχολῶν ὕπατος\n",
      "62: καῖσαρ ἱππεῖς κομνηνὸν βροῦτος ὑπολαβὼν οὐθὲν ὕπατος φρουρὰν βροῦτον ὕπατον\n",
      "63: καῖσαρ ἵστανται ἱππεῖς πρεσβευτὰς ἰσραὴλ ὕπατον εὕρημα βροῦτον ἀχαιοῖς βροῦτος\n",
      "64: σαπρὸν καῖσαρ πρεσβευτὰς ἱππεῖς σχολῶν ξὺν βῆλον μιχαὴλ ὕπατον ἀντωνῖνος\n",
      "65: καῖσαρ ἵστανται πολιτικῆς ἱππεῖς πρεσβευτὰς σχολῶν κῶλον εὔνους ἔννοιαι βῆλον\n",
      "66: καῖσαρ ἵστανται πρεσβευτὰς ἱππεῖς βῆλον χρυσῆς ὕπατος θεμιστοκλῆς βροῦτος σχολῶν\n",
      "67: καῖσαρ ἵστανται ἱππεῖς βῆλον πρεσβευτὰς ὕπατος σχολῶν βροῦτος κοσμεῖ ὑπολαβὼν\n",
      "68: καῖσαρ ἵστανται ἱππεῖς σχολῶν φρουρὰν βασιλικὰ ὕπατον κηροὺς πτολεμαῖον βροῦτον\n",
      "69: ἔχεν ἵστανται ἱππεῖς πρεσβευτὰς σχολῶν βῆλον ξὺν βροῦτος ὕπατος βροῦτον\n",
      "70: ζητοῦντας ἵστανται ἱππεῖς βροῦτον βῆλον βροῦτος σχολῶν λυκοῦργος οὐθὲν θεμιστοκλῆς\n",
      "71: ἵστανται φθονερὸν καῖσαρ ἀργυροῦν οὐθὲν προκοπῆς ἀγκῶνι πρεσβευτὰς σαρακηνῶν ᾅδου\n",
      "72: καῖσαρ ἵστανται ἱερεῖα πρεσβευτὰς ξὺν σχολῶν σῶσον φρουρὰν ὕπατον βῆλον\n",
      "73: καῖσαρ ἱππεῖς ἵστανται οὐθὲν ὕπατον βροῦτον βροῦτος ἔφορον πρεσβευτὰς κηροὺς\n",
      "74: ἵστανται καῖσαρ πρεσβευτὰς ἱππεῖς σχολῶν σῶσον βῆλον ναυσὶ ὕπατον βροῦτον\n",
      "75: καῖσαρ ἵστανται ἵππαρχος ἱππεῖς σχολῶν ὕπατος βῆλον ἄδωνις οὐθὲν βροῦτον\n",
      "76: ἵστανται καῖσαρ ἱππεῖς ὕπατον πρεσβευτὰς σχολῶν τιμῶσα πτολεμαῖον νεῦμα ὑπολαβὼν\n",
      "77: καῖσαρ ἵστανται ἱππεῖς τᾶς ἰσραὴλ πρεσβευτὰς ξὺν δαυὶδ βροῦτος νεῦμα\n",
      "78: συγκλητικῶν ἵστανται ἱππεῖς πρεσβευτὰς βῆλον σχολῶν ὕπατον βροῦτον βροῦτος ἰουστινιανοῦ\n",
      "79: ἵστανται καῖσαρ βῆλον σχολῶν ξὺν τριακοστῷ πρεσβευτὰς ὕπατον πτολεμαῖον ἱππεῖς\n",
      "80: καῖσαρ ἵστανται ἱππεῖς πρεσβευτὰς βῆλον σχολῶν στερητικοῦ ὕπατον σῶσον ὕπατος\n",
      "81: καῖσαρ προκοπῆς σχολῶν ξὺν ἱππεῖς βῆλον πρεσβευτὰς μιχαὴλ κηροὺς νεῦμα\n",
      "82: ὕπνους ἵστανται ἱππεῖς βροῦτος βροῦτον βῆλον σχολῶν πρεσβευτὰς οὐθὲν παθητικῶς\n",
      "83: ἵστανται καῖσαρ ἱππεῖς σχολῶν λυσιτελὲς ἰσραὴλ πρεσβευτὰς πτολεμαῖον ἔπεμψαν βροῦτον\n",
      "84: ἵστανται καῖσαρ ἱππεῖς πρεσβευτὰς βροῦτος οὐθὲν ὕπατος λευκαὶ ὕπατον ἰουστινιανοῦ\n",
      "85: καθολικῆς καῖσαρ ἱππεῖς πρεσβευτὰς βῆλον σχολῶν ὕπατος ἰουστινιανοῦ θεμιστοκλῆς σῶσον\n",
      "86: καῖσαρ ἵστανται ἱππεῖς ἰωσὴφ βῆλον ὕπατον πρεσβευτὰς σχολῶν φρουρὰν ὑπολαβὼν\n",
      "87: καῖσαρ ἵστανται ἱππεῖς ἑκαταῖος ξὺν σχολῶν ἀπῄει ἀχαιοῖς βῆλον ὕπατον\n",
      "88: καῖσαρ διατριβὴν πρεσβευτὰς παῦλον βῆλον σχολῶν χριστιανὸς καθολικῆς σαμουὴλ ξὺν\n",
      "89: καῖσαρ ἵστανται ἱππεῖς πρεσβευτὰς ὕπατος οὐθὲν σχολῶν βροῦτος φρουρὰν ὀφθαλμοῖσιν\n",
      "90: ἵστανται καῖσαρ βῆλον σπαρτιᾶται ξὺν ἱππεῖς νεῦμα σχολῶν σῶσον πρεσβευτῶν\n",
      "91: καῖσαρ ἵστανται ἱππεῖς πρεσβευτὰς σχολῶν ὕπατος περιπατητικὸς ἰδεῶν βροῦτος οὐθὲν\n",
      "92: καῖσαρ ἵστανται ἕκτῃ βῆλον σχολῶν ὕπατον πρεσβευτὰς ὕπατος ἀχαιοῖς βροῦτος\n",
      "93: καῖσαρ ἵστανται πρεσβευτὰς τουτονὶ ὕπατος ξὺν ὕπατον βροῦτον οὐθὲν βῆλον\n",
      "94: καῖσαρ ἵστανται ἱππεῖς ξὺν σχολῶν ρος κομνηνὸς πρεσβευτὰς μιχαὴλ τοῦρκοι\n",
      "95: καῖσαρ ἵστανται ἱππεῖς οὐθὲν σχολῶν ειν διελθὼν πρεσβευτὰς ινα βροῦτος\n",
      "96: ἵστανται καῖσαρ βῆλον κῶλα ἱππεῖς σχολῶν ὕπατον βροῦτος νεῦμα σῶσον\n",
      "97: καῖσαρ ἵστανται λαῖλαψ οὐθὲν πρεσβευτὰς βῆλον βροῦτος σχολῶν ὕπατος θεμιστοκλῆς\n",
      "98: ἵστανται καῖσαρ κιθαιρὼν ξὺν πρεσβευτὰς βῆλον ἱππεῖς σχολῶν μελισσῶν ἀχαιοῖς\n",
      "99: καῖσαρ ἵστανται σχολῶν πρεσβευτὰς βῆλον ὁμαλῶς οὐθὲν πτολεμαῖον ξὺν ὕπατος\n",
      "Actual replacements were:\n",
      "[(0, ('ἵστανται', 'ἑκαταῖος')), (1, ('καῖσαρ', 'στρατηγοῖς')), (2, ('σχολῶν', 'ᾔδεσαν')), (3, ('βῆλον', 'κατῴκησε')), (4, ('ἵστανται', 'λαθὼν')), (5, ('ἵστανται', 'δῦναι')), (6, ('ἵστανται', 'αἰδοῦμαι')), (7, ('ἵστανται', 'ἀντιφῶν')), (8, ('πρεσβευτὰς', 'πενιχρὰν')), (9, ('καῖσαρ', 'χαρὰ')), (10, ('βροῦτον', 'κον')), (11, ('πρεσβευτὰς', 'γραμματεῖς')), (12, ('ἵστανται', 'ἔπραττε')), (13, ('λυδῶν', 'θεᾶς')), (14, ('σχολῶν', 'ἀγχοῦ')), (15, ('νιν', 'λευκοὶ')), (16, ('αἰτιατικῇ', 'ἥρωα')), (17, ('καῖσαρ', 'λαῷ')), (18, ('αἰαῖ', 'σαοὺλ')), (19, ('καῖσαρ', 'χριστιανὸς')), (20, ('ἱππεῖς', 'παιδιᾶς')), (21, ('πρεσβευτὰς', 'ἄργον')), (22, ('σῶσον', 'γεννῶ')), (23, ('πρεσβευτὰς', 'οἴδατε')), (24, ('τοῦρκοι', 'προσκαλεῖται')), (25, ('καῖσαρ', 'ρων')), (26, ('βῆλον', 'σταυρὸν')), (27, ('ὕπατος', 'ἐθνικὸν')), (28, ('βροῦτον', 'ἔρωτες')), (29, ('βῆλον', 'πολιτικὸν')), (30, ('σχολῶν', 'περικλῆς')), (31, ('ξὺν', 'σφαγῆναι')), (32, ('καῖσαρ', 'ἐνεργητικὴν')), (33, ('ἱππεῖς', 'αὔταρκες')), (34, ('ἵστανται', 'αὔταρκες')), (35, ('σχολῶν', 'ὄψον')), (36, ('σχολῶν', 'κοῦφα')), (37, ('ὕπατον', 'μεταβολαῖς')), (38, ('πτολεμαῖον', 'σατανᾶς')), (39, ('καῖσαρ', 'ὤμοσεν')), (40, ('βῆλον', 'ἐπιφανῶν')), (41, ('πρεσβευτὰς', 'σατανᾶς')), (42, ('ἵστανται', 'συγκλητικῶν')), (43, ('οὐθὲν', 'προκοπῆς')), (44, ('οὐθὲν', 'τωι')), (45, ('πρεσβευτὰς', 'σταυρὸν')), (46, ('ἥδιστον', 'ἕλκους')), (47, ('καῖσαρ', 'ἔναγχος')), (48, ('βῆλον', 'βασιλικὰ')), (49, ('πρεσβευτὰς', 'αἴτησιν')), (50, ('πρεσβευτὰς', 'χρησμῷ')), (51, ('ἀντιφῶντος', 'ἐντολὰς')), (52, ('οὐθὲν', 'πονοῦντες')), (53, ('πρεσβευτὰς', 'θῦσαι')), (54, ('ἱππεῖς', 'ἔκτοτε')), (55, ('βροῦτος', 'ἔοικας')), (56, ('σχολῶν', 'πονηροῖς')), (57, ('ἄδωνις', 'παθητικῶς')), (58, ('ξὺν', 'ἐξῄει')), (59, ('καῖσαρ', 'σφαγῆναι')), (60, ('σῶσον', 'προσλαβεῖν')), (61, ('βροῦτος', 'ἅλλεται')), (62, ('ἵστανται', 'κομνηνὸν')), (63, ('σχολῶν', 'εὕρημα')), (64, ('ἵστανται', 'σαπρὸν')), (65, ('ἰδεῶν', 'πολιτικῆς')), (66, ('ἀχαιοῖς', 'χρυσῆς')), (67, ('ἰδεῶν', 'κοσμεῖ')), (68, ('πρεσβευτὰς', 'βασιλικὰ')), (69, ('καῖσαρ', 'ἔχεν')), (70, ('καῖσαρ', 'ζητοῦντας')), (71, ('ἱππεῖς', 'σαρακηνῶν')), (72, ('ἱππεῖς', 'ἱερεῖα')), (73, ('σῶσον', 'ἔφορον')), (74, ('βροῦτος', 'ναυσὶ')), (75, ('πρεσβευτὰς', 'ἵππαρχος')), (76, ('βῆλον', 'τιμῶσα')), (77, ('σχολῶν', 'τᾶς')), (78, ('καῖσαρ', 'συγκλητικῶν')), (79, ('νεῦμα', 'τριακοστῷ')), (80, ('οὐθὲν', 'στερητικοῦ')), (81, ('ἵστανται', 'προκοπῆς')), (82, ('καῖσαρ', 'ὕπνους')), (83, ('βῆλον', 'λυσιτελὲς')), (84, ('βῆλον', 'λευκαὶ')), (85, ('ἵστανται', 'καθολικῆς')), (86, ('ξὺν', 'ἰωσὴφ')), (87, ('πρεσβευτὰς', 'ἑκαταῖος')), (88, ('ἵστανται', 'διατριβὴν')), (89, ('ἄρατος', 'ὀφθαλμοῖσιν')), (90, ('ἐθνικὸν', 'σπαρτιᾶται')), (91, ('βῆλον', 'περιπατητικὸς')), (92, ('ἱππεῖς', 'ἕκτῃ')), (93, ('ἱππεῖς', 'τουτονὶ')), (94, ('ἀπῄει', 'ρος')), (95, ('ξὺν', 'διελθὼν')), (96, ('πρεσβευτὰς', 'κῶλα')), (97, ('ἱππεῖς', 'λαῖλαψ')), (98, ('σῶσον', 'μελισσῶν')), (99, ('ἱππεῖς', 'ὁμαλῶς'))]\n",
      "\n"
     ]
    }
   ],
   "source": [
    "for num_topics in NUM_TOPICS_LIST:\n",
    "    # load model\n",
    "    lda_model_name = 'gensim_lda_model_tlg_numtopics{}_numpasses{}_nobelow{}_noabove{}_tokmin{}_tokmax{}_docmin{}_deaccent{}.model'.format(num_topics, \n",
    "                                                                                                                                           PASSES, \n",
    "                                                                                                                                           no_below, \n",
    "                                                                                                                                           no_above, \n",
    "                                                                                                                                           TOK_MIN, \n",
    "                                                                                                                                           TOK_MAX, \n",
    "                                                                                                                                           DOC_MIN, \n",
    "                                                                                                                                           PREPROCESS_DEACCENT)\n",
    "    print('Loading model: {} ...'.format(lda_model_name))\n",
    "    print('... for word intrusion testing ...')\n",
    "    path_lda = os.path.join(user_dir, lda_model_name)\n",
    "    lda_model = gensim.models.LdaMulticore.load(path_lda)\n",
    "    \n",
    "    # select top 50 words for each of the LDA topics\n",
    "    print('Top 50 words of each LDA model:')\n",
    "    top_words = [[word for word, _ in lda_model.show_topic(topicno, topn=50)] for topicno in range(lda_model.num_topics)]\n",
    "    print(top_words)\n",
    "    print('')\n",
    "\n",
    "    # get all top 50 words in all 20 topics, as one large set\n",
    "    all_words = set(itertools.chain.from_iterable(top_words))\n",
    "    print(\"Can you spot the misplaced word in each topic?\")\n",
    "\n",
    "    # for each topic, replace a word at a different index, to make it more interesting\n",
    "    replace_index = np.random.randint(0, 10, lda_model.num_topics)\n",
    "\n",
    "    replacements = []\n",
    "    for topicno, words in enumerate(top_words):\n",
    "        other_words = all_words.difference(words)\n",
    "        replacement = np.random.choice(list(other_words))\n",
    "        replacements.append((words[replace_index[topicno]], replacement))\n",
    "        words[replace_index[topicno]] = replacement\n",
    "        print(\"%i: %s\" % (topicno, ' '.join(words[:10])))\n",
    "    \n",
    "    print(\"Actual replacements were:\")\n",
    "    print(list(enumerate(replacements)))\n",
    "    print('')"
   ]
  },
  {
   "cell_type": "markdown",
   "metadata": {},
   "source": [
    "## Split doc\n",
    "\n",
    "> We'll split each document into two parts, and check that 1) topics of the first half are similar to topics of the second 2) halves of different documents are mostly dissimilar"
   ]
  },
  {
   "cell_type": "code",
   "execution_count": 26,
   "metadata": {
    "collapsed": true
   },
   "outputs": [],
   "source": [
    "# evaluate on 1k documents **not** used in LDA training\n",
    "tlg_preprocessed = os.path.expanduser('~/cltk_data/greek/text/tlg/plaintext/')\n",
    "doc_stream = (tokens for _, tokens in iter_tlg(tlg_preprocessed))  # generator\n",
    "test_docs = list(itertools.islice(doc_stream, 100, 200))  # ['πανυ', 'καλως', ...], [...], ...]"
   ]
  },
  {
   "cell_type": "code",
   "execution_count": 27,
   "metadata": {
    "collapsed": true
   },
   "outputs": [],
   "source": [
    "def intra_inter(model, test_docs, num_pairs=10000):\n",
    "    # split each test document into two halves and compute topics for each half\n",
    "    part1 = [model[id2word_tlg.doc2bow(tokens[: len(tokens) // 2])] for tokens in test_docs]\n",
    "    part2 = [model[id2word_tlg.doc2bow(tokens[len(tokens) // 2 :])] for tokens in test_docs]\n",
    "    \n",
    "    # print computed similarities (uses cossim)\n",
    "    print(\"average cosine similarity between corresponding parts (higher is better):\")\n",
    "    print(np.mean([gensim.matutils.cossim(p1, p2) for p1, p2 in zip(part1, part2)]))\n",
    "\n",
    "    random_pairs = np.random.randint(0, len(test_docs), size=(num_pairs, 2))\n",
    "    print(\"average cosine similarity between {} random parts (lower is better):\".format(num_pairs))    \n",
    "    print(np.mean([gensim.matutils.cossim(part1[i[0]], part2[i[1]]) for i in random_pairs]))"
   ]
  },
  {
   "cell_type": "code",
   "execution_count": 28,
   "metadata": {
    "scrolled": false
   },
   "outputs": [
    {
     "name": "stderr",
     "output_type": "stream",
     "text": [
      "INFO : loading LdaMulticore object from /home/kyle/cltk_data/user_data/lda_tlg/gensim_lda_model_tlg_numtopics5_numpasses1_nobelow20_noabove0.1_tokmin3_tokmax20_docmin50_deaccentFalse.model\n",
      "INFO : loading expElogbeta from /home/kyle/cltk_data/user_data/lda_tlg/gensim_lda_model_tlg_numtopics5_numpasses1_nobelow20_noabove0.1_tokmin3_tokmax20_docmin50_deaccentFalse.model.expElogbeta.npy with mmap=None\n",
      "INFO : setting ignored attribute state to None\n",
      "INFO : setting ignored attribute id2word to None\n",
      "INFO : setting ignored attribute dispatcher to None\n",
      "INFO : loaded /home/kyle/cltk_data/user_data/lda_tlg/gensim_lda_model_tlg_numtopics5_numpasses1_nobelow20_noabove0.1_tokmin3_tokmax20_docmin50_deaccentFalse.model\n",
      "INFO : loading LdaMulticore object from /home/kyle/cltk_data/user_data/lda_tlg/gensim_lda_model_tlg_numtopics5_numpasses1_nobelow20_noabove0.1_tokmin3_tokmax20_docmin50_deaccentFalse.model.state\n",
      "INFO : loaded /home/kyle/cltk_data/user_data/lda_tlg/gensim_lda_model_tlg_numtopics5_numpasses1_nobelow20_noabove0.1_tokmin3_tokmax20_docmin50_deaccentFalse.model.state\n"
     ]
    },
    {
     "name": "stdout",
     "output_type": "stream",
     "text": [
      "Loading model: gensim_lda_model_tlg_numtopics5_numpasses1_nobelow20_noabove0.1_tokmin3_tokmax20_docmin50_deaccentFalse.model ...\n",
      "... for testing split document topic matching ...\n",
      "LDA results:\n"
     ]
    },
    {
     "name": "stderr",
     "output_type": "stream",
     "text": [
      "INFO : loading LdaMulticore object from /home/kyle/cltk_data/user_data/lda_tlg/gensim_lda_model_tlg_numtopics10_numpasses1_nobelow20_noabove0.1_tokmin3_tokmax20_docmin50_deaccentFalse.model\n",
      "INFO : loading expElogbeta from /home/kyle/cltk_data/user_data/lda_tlg/gensim_lda_model_tlg_numtopics10_numpasses1_nobelow20_noabove0.1_tokmin3_tokmax20_docmin50_deaccentFalse.model.expElogbeta.npy with mmap=None\n",
      "INFO : setting ignored attribute state to None\n",
      "INFO : setting ignored attribute id2word to None\n",
      "INFO : setting ignored attribute dispatcher to None\n",
      "INFO : loaded /home/kyle/cltk_data/user_data/lda_tlg/gensim_lda_model_tlg_numtopics10_numpasses1_nobelow20_noabove0.1_tokmin3_tokmax20_docmin50_deaccentFalse.model\n",
      "INFO : loading LdaMulticore object from /home/kyle/cltk_data/user_data/lda_tlg/gensim_lda_model_tlg_numtopics10_numpasses1_nobelow20_noabove0.1_tokmin3_tokmax20_docmin50_deaccentFalse.model.state\n",
      "INFO : loaded /home/kyle/cltk_data/user_data/lda_tlg/gensim_lda_model_tlg_numtopics10_numpasses1_nobelow20_noabove0.1_tokmin3_tokmax20_docmin50_deaccentFalse.model.state\n"
     ]
    },
    {
     "name": "stdout",
     "output_type": "stream",
     "text": [
      "average cosine similarity between corresponding parts (higher is better):\n",
      "0.631612277794\n",
      "average cosine similarity between 25 random parts (lower is better):\n",
      "0.558231977741\n",
      "\n",
      "Loading model: gensim_lda_model_tlg_numtopics10_numpasses1_nobelow20_noabove0.1_tokmin3_tokmax20_docmin50_deaccentFalse.model ...\n",
      "... for testing split document topic matching ...\n",
      "LDA results:\n"
     ]
    },
    {
     "name": "stderr",
     "output_type": "stream",
     "text": [
      "INFO : loading LdaMulticore object from /home/kyle/cltk_data/user_data/lda_tlg/gensim_lda_model_tlg_numtopics25_numpasses1_nobelow20_noabove0.1_tokmin3_tokmax20_docmin50_deaccentFalse.model\n",
      "INFO : loading expElogbeta from /home/kyle/cltk_data/user_data/lda_tlg/gensim_lda_model_tlg_numtopics25_numpasses1_nobelow20_noabove0.1_tokmin3_tokmax20_docmin50_deaccentFalse.model.expElogbeta.npy with mmap=None\n",
      "INFO : setting ignored attribute state to None\n",
      "INFO : setting ignored attribute id2word to None\n",
      "INFO : setting ignored attribute dispatcher to None\n",
      "INFO : loaded /home/kyle/cltk_data/user_data/lda_tlg/gensim_lda_model_tlg_numtopics25_numpasses1_nobelow20_noabove0.1_tokmin3_tokmax20_docmin50_deaccentFalse.model\n",
      "INFO : loading LdaMulticore object from /home/kyle/cltk_data/user_data/lda_tlg/gensim_lda_model_tlg_numtopics25_numpasses1_nobelow20_noabove0.1_tokmin3_tokmax20_docmin50_deaccentFalse.model.state\n",
      "INFO : loaded /home/kyle/cltk_data/user_data/lda_tlg/gensim_lda_model_tlg_numtopics25_numpasses1_nobelow20_noabove0.1_tokmin3_tokmax20_docmin50_deaccentFalse.model.state\n"
     ]
    },
    {
     "name": "stdout",
     "output_type": "stream",
     "text": [
      "average cosine similarity between corresponding parts (higher is better):\n",
      "0.628015450172\n",
      "average cosine similarity between 25 random parts (lower is better):\n",
      "0.572953679521\n",
      "\n",
      "Loading model: gensim_lda_model_tlg_numtopics25_numpasses1_nobelow20_noabove0.1_tokmin3_tokmax20_docmin50_deaccentFalse.model ...\n",
      "... for testing split document topic matching ...\n",
      "LDA results:\n"
     ]
    },
    {
     "name": "stderr",
     "output_type": "stream",
     "text": [
      "INFO : loading LdaMulticore object from /home/kyle/cltk_data/user_data/lda_tlg/gensim_lda_model_tlg_numtopics50_numpasses1_nobelow20_noabove0.1_tokmin3_tokmax20_docmin50_deaccentFalse.model\n",
      "INFO : loading expElogbeta from /home/kyle/cltk_data/user_data/lda_tlg/gensim_lda_model_tlg_numtopics50_numpasses1_nobelow20_noabove0.1_tokmin3_tokmax20_docmin50_deaccentFalse.model.expElogbeta.npy with mmap=None\n",
      "INFO : setting ignored attribute state to None\n",
      "INFO : setting ignored attribute id2word to None\n",
      "INFO : setting ignored attribute dispatcher to None\n",
      "INFO : loaded /home/kyle/cltk_data/user_data/lda_tlg/gensim_lda_model_tlg_numtopics50_numpasses1_nobelow20_noabove0.1_tokmin3_tokmax20_docmin50_deaccentFalse.model\n",
      "INFO : loading LdaMulticore object from /home/kyle/cltk_data/user_data/lda_tlg/gensim_lda_model_tlg_numtopics50_numpasses1_nobelow20_noabove0.1_tokmin3_tokmax20_docmin50_deaccentFalse.model.state\n",
      "INFO : loaded /home/kyle/cltk_data/user_data/lda_tlg/gensim_lda_model_tlg_numtopics50_numpasses1_nobelow20_noabove0.1_tokmin3_tokmax20_docmin50_deaccentFalse.model.state\n"
     ]
    },
    {
     "name": "stdout",
     "output_type": "stream",
     "text": [
      "average cosine similarity between corresponding parts (higher is better):\n",
      "0.648220892717\n",
      "average cosine similarity between 25 random parts (lower is better):\n",
      "0.560887151209\n",
      "\n",
      "Loading model: gensim_lda_model_tlg_numtopics50_numpasses1_nobelow20_noabove0.1_tokmin3_tokmax20_docmin50_deaccentFalse.model ...\n",
      "... for testing split document topic matching ...\n",
      "LDA results:\n"
     ]
    },
    {
     "name": "stderr",
     "output_type": "stream",
     "text": [
      "INFO : loading LdaMulticore object from /home/kyle/cltk_data/user_data/lda_tlg/gensim_lda_model_tlg_numtopics55_numpasses1_nobelow20_noabove0.1_tokmin3_tokmax20_docmin50_deaccentFalse.model\n",
      "INFO : loading expElogbeta from /home/kyle/cltk_data/user_data/lda_tlg/gensim_lda_model_tlg_numtopics55_numpasses1_nobelow20_noabove0.1_tokmin3_tokmax20_docmin50_deaccentFalse.model.expElogbeta.npy with mmap=None\n",
      "INFO : setting ignored attribute state to None\n",
      "INFO : setting ignored attribute id2word to None\n",
      "INFO : setting ignored attribute dispatcher to None\n",
      "INFO : loaded /home/kyle/cltk_data/user_data/lda_tlg/gensim_lda_model_tlg_numtopics55_numpasses1_nobelow20_noabove0.1_tokmin3_tokmax20_docmin50_deaccentFalse.model\n",
      "INFO : loading LdaMulticore object from /home/kyle/cltk_data/user_data/lda_tlg/gensim_lda_model_tlg_numtopics55_numpasses1_nobelow20_noabove0.1_tokmin3_tokmax20_docmin50_deaccentFalse.model.state\n",
      "INFO : loaded /home/kyle/cltk_data/user_data/lda_tlg/gensim_lda_model_tlg_numtopics55_numpasses1_nobelow20_noabove0.1_tokmin3_tokmax20_docmin50_deaccentFalse.model.state\n"
     ]
    },
    {
     "name": "stdout",
     "output_type": "stream",
     "text": [
      "average cosine similarity between corresponding parts (higher is better):\n",
      "0.630689727998\n",
      "average cosine similarity between 25 random parts (lower is better):\n",
      "0.464149373272\n",
      "\n",
      "Loading model: gensim_lda_model_tlg_numtopics55_numpasses1_nobelow20_noabove0.1_tokmin3_tokmax20_docmin50_deaccentFalse.model ...\n",
      "... for testing split document topic matching ...\n",
      "LDA results:\n"
     ]
    },
    {
     "name": "stderr",
     "output_type": "stream",
     "text": [
      "INFO : loading LdaMulticore object from /home/kyle/cltk_data/user_data/lda_tlg/gensim_lda_model_tlg_numtopics100_numpasses1_nobelow20_noabove0.1_tokmin3_tokmax20_docmin50_deaccentFalse.model\n",
      "INFO : loading expElogbeta from /home/kyle/cltk_data/user_data/lda_tlg/gensim_lda_model_tlg_numtopics100_numpasses1_nobelow20_noabove0.1_tokmin3_tokmax20_docmin50_deaccentFalse.model.expElogbeta.npy with mmap=None\n",
      "INFO : setting ignored attribute state to None\n",
      "INFO : setting ignored attribute id2word to None\n",
      "INFO : setting ignored attribute dispatcher to None\n",
      "INFO : loaded /home/kyle/cltk_data/user_data/lda_tlg/gensim_lda_model_tlg_numtopics100_numpasses1_nobelow20_noabove0.1_tokmin3_tokmax20_docmin50_deaccentFalse.model\n",
      "INFO : loading LdaMulticore object from /home/kyle/cltk_data/user_data/lda_tlg/gensim_lda_model_tlg_numtopics100_numpasses1_nobelow20_noabove0.1_tokmin3_tokmax20_docmin50_deaccentFalse.model.state\n"
     ]
    },
    {
     "name": "stdout",
     "output_type": "stream",
     "text": [
      "average cosine similarity between corresponding parts (higher is better):\n",
      "0.61991447499\n",
      "average cosine similarity between 25 random parts (lower is better):\n",
      "0.501790390945\n",
      "\n",
      "Loading model: gensim_lda_model_tlg_numtopics100_numpasses1_nobelow20_noabove0.1_tokmin3_tokmax20_docmin50_deaccentFalse.model ...\n",
      "... for testing split document topic matching ...\n"
     ]
    },
    {
     "name": "stderr",
     "output_type": "stream",
     "text": [
      "INFO : loaded /home/kyle/cltk_data/user_data/lda_tlg/gensim_lda_model_tlg_numtopics100_numpasses1_nobelow20_noabove0.1_tokmin3_tokmax20_docmin50_deaccentFalse.model.state\n"
     ]
    },
    {
     "name": "stdout",
     "output_type": "stream",
     "text": [
      "LDA results:\n",
      "average cosine similarity between corresponding parts (higher is better):\n",
      "0.585477666014\n",
      "average cosine similarity between 25 random parts (lower is better):\n",
      "0.417533334337\n",
      "\n"
     ]
    }
   ],
   "source": [
    "for num_topics in NUM_TOPICS_LIST:\n",
    "    # load model\n",
    "    lda_model_name = 'gensim_lda_model_tlg_numtopics{}_numpasses{}_nobelow{}_noabove{}_tokmin{}_tokmax{}_docmin{}_deaccent{}.model'.format(num_topics, \n",
    "                                                                                                                                           PASSES, \n",
    "                                                                                                                                           no_below, \n",
    "                                                                                                                                           no_above, \n",
    "                                                                                                                                           TOK_MIN, \n",
    "                                                                                                                                           TOK_MAX, \n",
    "                                                                                                                                           DOC_MIN, \n",
    "                                                                                                                                           PREPROCESS_DEACCENT)\n",
    "    print('Loading model: {} ...'.format(lda_model_name))\n",
    "    print('... for testing split document topic matching ...')\n",
    "    path_lda = os.path.join(user_dir, lda_model_name)\n",
    "    lda_model = gensim.models.LdaMulticore.load(path_lda)\n",
    "\n",
    "    print(\"LDA results:\")\n",
    "    # what should num_pairs be?\n",
    "    intra_inter(lda_model, test_docs, num_pairs=total_included_docs)\n",
    "    print('')"
   ]
  },
  {
   "cell_type": "markdown",
   "metadata": {},
   "source": [
    "# Score all docs"
   ]
  },
  {
   "cell_type": "code",
   "execution_count": 29,
   "metadata": {
    "collapsed": true
   },
   "outputs": [],
   "source": [
    "id_auth_map = get_id_author()"
   ]
  },
  {
   "cell_type": "code",
   "execution_count": null,
   "metadata": {},
   "outputs": [],
   "source": [
    "# write to file topics for each doc\n",
    "for num_topics in NUM_TOPICS_LIST:\n",
    "    print('num topics', num_topics)\n",
    "    # load model\n",
    "    lda_model_name = 'gensim_lda_model_tlg_numtopics{}_numpasses{}_nobelow{}_noabove{}_tokmin{}_tokmax{}_docmin{}_deaccent{}.model'.format(num_topics, \n",
    "                                                                                                                                           PASSES, \n",
    "                                                                                                                                           no_below, \n",
    "                                                                                                                                           no_above, \n",
    "                                                                                                                                           TOK_MIN, \n",
    "                                                                                                                                           TOK_MAX, \n",
    "                                                                                                                                           DOC_MIN, \n",
    "                                                                                                                                           PREPROCESS_DEACCENT)\n",
    "    print('Loading model: {} ...'.format(lda_model_name))\n",
    "    print('... scoring topics of all TLG documents ...')\n",
    "    path_lda = os.path.join(user_dir, lda_model_name)\n",
    "    # https://radimrehurek.com/gensim/models/ldamodel.html#gensim.models.ldamodel.LdaModel.get_document_topics\n",
    "    lda_model = gensim.models.LdaMulticore.load(path_lda)\n",
    "\n",
    "    # mk save path name\n",
    "    scores_name = lda_model_name.rstrip('.model') + '.scores'\n",
    "    scores_path = os.path.join(user_dir, scores_name)\n",
    "    doc_topics = ''\n",
    "    for file_name, tokens in iter_tlg(tlg_preprocessed):\n",
    "        # print(file_name, tokens[:10])  # print the article title and its first ten tokens\n",
    "        # print(file_name)\n",
    "        topic_distribution = str(lda_model[id2word_tlg.doc2bow(tokens)])\n",
    "        # print(topic_distribution)\n",
    "        \n",
    "        # convert file name to author name, and get epithet\n",
    "        auth_id = file_name.lstrip('TLG').rstrip('.TXT')\n",
    "        auth_name = id_auth_map[auth_id]\n",
    "        auth_epithet = str(get_epithet_of_author(auth_id))\n",
    "        \n",
    "        doc_topics += 'file: ' + file_name + '\\n'\n",
    "        doc_topics += 'author: ' + auth_name + '\\n'\n",
    "        doc_topics += 'epithet: ' + auth_epithet + '\\n'\n",
    "        doc_topics += topic_distribution + '\\n\\n'\n",
    "    print('Writing file to: \"{}\"'.format(scores_path))\n",
    "    with open(scores_path, 'w') as file_open:\n",
    "        file_open.write(doc_topics)\n",
    "    print('')"
   ]
  },
  {
   "cell_type": "code",
   "execution_count": null,
   "metadata": {
    "collapsed": true
   },
   "outputs": [],
   "source": []
  }
 ],
 "metadata": {
  "kernelspec": {
   "display_name": "Python 3",
   "language": "python",
   "name": "python3"
  },
  "language_info": {
   "codemirror_mode": {
    "name": "ipython",
    "version": 3
   },
   "file_extension": ".py",
   "mimetype": "text/x-python",
   "name": "python",
   "nbconvert_exporter": "python",
   "pygments_lexer": "ipython3",
   "version": "3.6.1"
  }
 },
 "nbformat": 4,
 "nbformat_minor": 2
}
