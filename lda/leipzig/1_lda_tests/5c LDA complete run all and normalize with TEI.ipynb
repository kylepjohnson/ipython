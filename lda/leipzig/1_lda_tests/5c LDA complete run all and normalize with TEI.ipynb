{
 "cells": [
  {
   "cell_type": "markdown",
   "metadata": {},
   "source": [
    "Following tutorial [\"Topic Modeling for Fun and Profit\"](http://radimrehurek.com/topic_modeling_tutorial/2%20-%20Topic%20Modeling.html)"
   ]
  },
  {
   "cell_type": "code",
   "execution_count": 6,
   "metadata": {},
   "outputs": [],
   "source": [
    "import itertools\n",
    "import logging\n",
    "import os\n",
    "import pickle\n",
    "import time\n",
    "\n",
    "from cltk.corpus.greek.tlg.parse_tlg_indices import get_epithets\n",
    "from cltk.corpus.greek.tlg.parse_tlg_indices import get_epithet_of_author\n",
    "from cltk.corpus.greek.tlg.parse_tlg_indices import get_id_author\n",
    "from cltk.corpus.utils.formatter import cltk_normalize\n",
    "from cltk.stop.greek.stops import STOPS_LIST\n",
    "import gensim\n",
    "from gensim.corpora.mmcorpus import MmCorpus\n",
    "from gensim.utils import simple_preprocess\n",
    "import numpy as np"
   ]
  },
  {
   "cell_type": "code",
   "execution_count": 7,
   "metadata": {
    "collapsed": true
   },
   "outputs": [],
   "source": [
    "logging.basicConfig(format='%(levelname)s : %(message)s', level=logging.INFO)\n",
    "logging.root.level = logging.INFO  # ipython sometimes messes up the logging setup; restore"
   ]
  },
  {
   "cell_type": "code",
   "execution_count": 8,
   "metadata": {
    "collapsed": true
   },
   "outputs": [],
   "source": [
    "user_dir = os.path.expanduser('~/cltk_data/user_data/lda_1kgreek/')\n",
    "try:\n",
    "    os.makedirs(user_dir)\n",
    "except FileExistsError:\n",
    "    pass"
   ]
  },
  {
   "cell_type": "code",
   "execution_count": 9,
   "metadata": {
    "collapsed": true
   },
   "outputs": [],
   "source": [
    "PREPROCESS_DEACCENT = False\n",
    "STOPS_LIST = [simple_preprocess(stop, deacc=PREPROCESS_DEACCENT)[0] for stop in STOPS_LIST if len(simple_preprocess(stop, deacc=PREPROCESS_DEACCENT)) > 0]\n",
    "STOPS_LIST = ['τῆϲ', 'τοῖϲ', 'εἰϲ', 'πρὸϲ', 'τοὺϲ']\n",
    "STOPS_LIST += [\"τηϲ\", \"τοιϲ\", \"εϲτι\", \"προϲ\", \"ειϲ\", \"ταϲ\", \"ωϲ\", \"τουϲ\", \"ξυν\", 'ξὺν', 'πρε', 'ἀλλ']  # useful for after rm accents\n",
    "STOPS_LIST = [cltk_normalize(stop) for stop in STOPS_LIST]"
   ]
  },
  {
   "cell_type": "code",
   "execution_count": 10,
   "metadata": {
    "collapsed": true
   },
   "outputs": [],
   "source": [
    "# TODO: make sure that preprocessing is same for TLGCorpus class and other setups\n",
    "\n",
    "TOK_MIN = 3  # rm words shorter than\n",
    "TOK_MAX = 20  # rm words longer than\n",
    "DOC_MIN = 50  # drop docs shorter than\n",
    "def tokenize(text):\n",
    "    \"\"\"Tokenize and rm stopwords. The Gensim `simple_preprocess` will work fine\n",
    "    here becuase the Greek text has already been aggressively cleaned up.\n",
    "    https://radimrehurek.com/gensim/utils.html#gensim.utils.simple_preprocess\n",
    "    \"\"\"\n",
    "    tokens = [token for token in simple_preprocess(text, deacc=PREPROCESS_DEACCENT, min_len=TOK_MIN, max_len=TOK_MAX)]\n",
    "    return [token for token in tokens if token not in STOPS_LIST]\n",
    "    \n",
    "\n",
    "#! todo: strip ascii\n",
    "def iter_tlg(tlg_dir):\n",
    "    \"\"\"Stream TLG doc-by-doc.\"\"\"\n",
    "    file_names = os.listdir(tlg_dir)\n",
    "    for file_name in file_names:\n",
    "        file_path = os.path.join(tlg_dir, file_name)\n",
    "        with open(file_path) as file_open:\n",
    "            file_read = file_open.read()\n",
    "        tokens = tokenize(file_read)\n",
    "        tokens = [cltk_normalize(token) for token in tokens]\n",
    "        # ignore very short docs\n",
    "        # todo: get file length distribution to better know what is short in TLG\n",
    "        if len(tokens) < DOC_MIN:\n",
    "            continue\n",
    "        yield file_name, tokens"
   ]
  },
  {
   "cell_type": "code",
   "execution_count": 11,
   "metadata": {},
   "outputs": [
    {
     "name": "stdout",
     "output_type": "stream",
     "text": [
      "tlg4102.tlg006.opp-grc1.txt ['supplementum', 'varietas', 'lectionis', 'catenam', 'evangelium', 'catenae', 'novum', 'testamentum', 'university', 'leipzig']\n",
      "tlg2200.tlg00518.opp-grc1.txt ['declamatio', 'libanius', 'richard', 'foerster', 'university', 'leipzig', 'european', 'social', 'fund', 'saxony']\n",
      "tlg0062.tlg050.1st1K-grc1.txt ['deorum', 'concilium', 'lucianus', 'samosatenus', 'harmon', 'harvard', 'library', 'arcadia', 'fund', 'gregory']\n",
      "tlg2959.tlg011.opp-ger1.txt ['genesim', 'catenis', 'methodius', 'nathanael', 'bonwetsch', 'university', 'leipzig', 'european', 'social', 'fund']\n",
      "tlg2000.tlg001.opp-grc2.txt ['enneades', 'plotinus', 'richard', 'volkmann', 'google', 'digital', 'humanities', 'award', 'gregory', 'crane']\n",
      "tlg0057.tlg014.1st1K-grc1.txt ['nervorum', 'dissectione', 'galen', 'karl', 'gottlob', 'kühn', 'andrew', 'mellon', 'foundation', 'published']\n",
      "tlg0086.tlg042.1st1K-grc1.txt ['somno', 'vigilia', 'aristotle', 'immanuel', 'bekker', 'andrew', 'mellon', 'foundation', 'digital', 'divide']\n",
      "tlg0057.tlg031.1st1K-grc1.txt ['usu', 'pulsuum', 'galen', 'karl', 'gottlob', 'kühn', 'andrew', 'mellon', 'foundation', 'published']\n"
     ]
    }
   ],
   "source": [
    "# Take a look at the docs post-processing\n",
    "# Open corpus iterator\n",
    "# docs_path_rel'~/cltk_data/greek/text/tlg/plaintext/'  # for tlg\n",
    "docs_path_rel = '~/cltk_data/greek/text/greek_text_first1kgreek_plaintext/'\n",
    "docs_preprocessed = os.path.expanduser(docs_path_rel)\n",
    "stream = iter_tlg(docs_preprocessed)\n",
    "for title, tokens in itertools.islice(iter_tlg(docs_preprocessed), 8):\n",
    "    print(title, tokens[:10])  # print the article title and its first ten tokens"
   ]
  },
  {
   "cell_type": "markdown",
   "metadata": {},
   "source": [
    "# Mk word dictionaries"
   ]
  },
  {
   "cell_type": "code",
   "execution_count": 12,
   "metadata": {
    "collapsed": true
   },
   "outputs": [],
   "source": [
    "# Open corpus iterator\n",
    "doc_stream = (tokens for _, tokens in iter_tlg(docs_preprocessed))"
   ]
  },
  {
   "cell_type": "code",
   "execution_count": 13,
   "metadata": {
    "collapsed": true
   },
   "outputs": [],
   "source": [
    "no_below = 20\n",
    "no_above = 0.1"
   ]
  },
  {
   "cell_type": "code",
   "execution_count": 14,
   "metadata": {},
   "outputs": [
    {
     "name": "stderr",
     "output_type": "stream",
     "text": [
      "INFO : loading Dictionary object from /home/kyle/cltk_data/user_data/lda_1kgreek/gensim_dict_id2word_1kgrk_nobelow20_noabove0.1_tokmin3_tokmax20_docmin50_deaccentFalse.dict\n",
      "INFO : adding document #0 to Dictionary(0 unique tokens: [])\n",
      "INFO : built Dictionary(878943 unique tokens: ['supplementum', 'varietas', 'lectionis', 'catenam', 'evangelium']...) from 676 documents (total 16765179 corpus positions)\n",
      "INFO : discarding 854231 tokens: [('varietas', 15), ('lectionis', 16), ('catenam', 4), ('university', 667), ('leipzig', 661), ('european', 345), ('social', 345), ('fund', 422), ('saxony', 345), ('gregory', 649)]...\n",
      "INFO : keeping 24712 tokens which were in no less than 20 and no more than 67 (=10.0%) documents\n",
      "INFO : resulting dictionary: Dictionary(24712 unique tokens: ['supplementum', 'evangelium', 'catenae', 'novum', 'testamentum']...)\n",
      "INFO : saving Dictionary object under /home/kyle/cltk_data/user_data/lda_1kgreek/gensim_dict_id2word_1kgrk_nobelow20_noabove0.1_tokmin3_tokmax20_docmin50_deaccentFalse.dict, separately None\n",
      "INFO : saved /home/kyle/cltk_data/user_data/lda_1kgreek/gensim_dict_id2word_1kgrk_nobelow20_noabove0.1_tokmin3_tokmax20_docmin50_deaccentFalse.dict\n"
     ]
    },
    {
     "name": "stdout",
     "output_type": "stream",
     "text": [
      "Time to mk new corpus dictionary: 83.08647394180298\n",
      "Dictionary(24712 unique tokens: ['supplementum', 'evangelium', 'catenae', 'novum', 'testamentum']...)\n"
     ]
    }
   ],
   "source": [
    "# store the dictionary, for future reference\n",
    "dict_name = 'gensim_dict_id2word_1kgrk_nobelow{}_noabove{}_tokmin{}_tokmax{}_docmin{}_deaccent{}.dict'.format(no_below, \n",
    "                                                                                                            no_above, \n",
    "                                                                                                            TOK_MIN, \n",
    "                                                                                                            TOK_MAX, \n",
    "                                                                                                            DOC_MIN, \n",
    "                                                                                                            PREPROCESS_DEACCENT)\n",
    "dict_path = os.path.join(user_dir, dict_name)\n",
    "\n",
    "try:\n",
    "    id2word_tlg = gensim.corpora.dictionary.Dictionary.load(dict_path)\n",
    "except FileNotFoundError:\n",
    "    t0 = time.time()\n",
    "    # ~4 min on TLG corpus if rm accents; ~w min if not\n",
    "    id2word_tlg = gensim.corpora.Dictionary(doc_stream)\n",
    "    # this cutoff might lose too much info, we'll see\n",
    "    # ignore words that appear in less than 20 documents or more than 10% documents\n",
    "    id2word_tlg.filter_extremes(no_below=no_below, no_above=no_above)\n",
    "    id2word_tlg.save(dict_path)\n",
    "    print('Time to mk new corpus dictionary:', time.time() - t0)\n",
    "print(id2word_tlg)"
   ]
  },
  {
   "cell_type": "markdown",
   "metadata": {},
   "source": [
    "# Mk vectors\n",
    "\n",
    "Now start again with the corpus, turning the actual words into integers from our map."
   ]
  },
  {
   "cell_type": "code",
   "execution_count": 15,
   "metadata": {},
   "outputs": [
    {
     "name": "stdout",
     "output_type": "stream",
     "text": [
      "[(2822, 1), (6358, 1)]\n",
      "ποίησις\n"
     ]
    }
   ],
   "source": [
    "# Illustrate what this BoW space looks like with example doc\n",
    "doc = \"περὶ ποιητικῆς αὐτῆς τε καὶ τῶν εἰδῶν αὐτῆς, ἥν τινα δύναμιν ἕκαστον ἔχει, καὶ πῶς δεῖ συνίστασθαι τοὺς μύθους [10] εἰ μέλλει καλῶς ἕξειν ἡ ποίησις, ἔτι δὲ ἐκ πόσων καὶ ποίων ἐστὶ μορίων, ὁμοίως δὲ καὶ περὶ τῶν ἄλλων ὅσα τῆς αὐτῆς ἐστι μεθόδου, λέγωμεν ἀρξάμενοι κατὰ φύσιν πρῶτον ἀπὸ τῶν πρώτων.\"\n",
    "doc = ' '.join(simple_preprocess(doc))\n",
    "bow = id2word_tlg.doc2bow(tokenize(doc))\n",
    "print(bow)  # words both in BoW dict and doc\n",
    "print(id2word_tlg[bow[0][0]])  # map int back to str"
   ]
  },
  {
   "cell_type": "code",
   "execution_count": 16,
   "metadata": {
    "collapsed": true
   },
   "outputs": [],
   "source": [
    "class TLGCorpus(object):\n",
    "    def __init__(self, dump_file, dictionary, clip_docs=None):\n",
    "        \"\"\"Yield each document in turn, as a list of tokens (unicode strings).\n",
    "        \"\"\"\n",
    "        self.dump_file = dump_file\n",
    "        self.dictionary = dictionary\n",
    "        self.clip_docs = clip_docs\n",
    "    \n",
    "    def __iter__(self):\n",
    "        self.titles = []\n",
    "        for title, tokens in itertools.islice(iter_tlg(self.dump_file), self.clip_docs):\n",
    "            self.titles.append(title)\n",
    "            yield self.dictionary.doc2bow(tokens)\n",
    "    \n",
    "    def __len__(self):\n",
    "        return self.clip_docs"
   ]
  },
  {
   "cell_type": "code",
   "execution_count": 17,
   "metadata": {
    "collapsed": true
   },
   "outputs": [],
   "source": [
    "clip_docs_at = 25 # None for final\n",
    "# make the BoW corpus\n",
    "# creates a stream of bag-of-words vectors\n",
    "corpus_bow_tlg = TLGCorpus(docs_preprocessed, id2word_tlg, clip_docs=clip_docs_at)\n",
    "\n",
    "# reduce corpus size for faster testing\n",
    "#corpus_bow_tlg = gensim.utils.ClippedCorpus(corpus_bow_tlg, 100)\n",
    "\n",
    "# vector = next(iter(corpus_bow_tlg))\n",
    "# print(vector)  # print the first vector in the stream\n",
    "# [(0, 1), (1, 1), (2, 1), ...]\n",
    "\n",
    "# # what is the most common word in that first article?\n",
    "# most_index, most_count = max(vector, key=lambda _tuple: _tuple[1])\n",
    "# print(id2word_tlg[most_index], most_count)  # μιλησιοις 2"
   ]
  },
  {
   "cell_type": "code",
   "execution_count": 18,
   "metadata": {},
   "outputs": [
    {
     "name": "stderr",
     "output_type": "stream",
     "text": [
      "INFO : storing corpus in Matrix Market format to /home/kyle/cltk_data/user_data/lda_1kgreek/gensim_bow_1kgrk_nobelow20_noabove0.1_tokmin3_tokmax20_docmin50_deaccentFalse.mm\n",
      "INFO : saving sparse matrix to /home/kyle/cltk_data/user_data/lda_1kgreek/gensim_bow_1kgrk_nobelow20_noabove0.1_tokmin3_tokmax20_docmin50_deaccentFalse.mm\n",
      "INFO : PROGRESS: saving document #0\n",
      "INFO : saved 25x17096 matrix, density=6.529% (27903/427400)\n",
      "INFO : saving MmCorpus index to /home/kyle/cltk_data/user_data/lda_1kgreek/gensim_bow_1kgrk_nobelow20_noabove0.1_tokmin3_tokmax20_docmin50_deaccentFalse.mm.index\n"
     ]
    },
    {
     "name": "stdout",
     "output_type": "stream",
     "text": [
      "Time to save BoW space: 2.873065710067749\n"
     ]
    }
   ],
   "source": [
    "# Save BoW\n",
    "# ~4 min on TLG corpus\n",
    "bow_name = 'gensim_bow_1kgrk_nobelow{}_noabove{}_tokmin{}_tokmax{}_docmin{}_deaccent{}.mm'.format(no_below, \n",
    "                                                                                                no_above, \n",
    "                                                                                                TOK_MIN, \n",
    "                                                                                                TOK_MAX, \n",
    "                                                                                                DOC_MIN, \n",
    "                                                                                                PREPROCESS_DEACCENT)\n",
    "bow_path = os.path.join(user_dir, bow_name)\n",
    "t0 = time.time()\n",
    "gensim.corpora.MmCorpus.serialize(bow_path, corpus_bow_tlg)\n",
    "print('Time to save BoW space:', time.time() - t0)\n",
    "\n",
    "# Later load saved corpus with:\n",
    "# corpus_bow_tlg = gensim.corpora.MmCorpus(bow_path)"
   ]
  },
  {
   "cell_type": "code",
   "execution_count": 19,
   "metadata": {
    "collapsed": true
   },
   "outputs": [],
   "source": [
    "total_included_docs = len(corpus_bow_tlg.titles)  # used later for testing results"
   ]
  },
  {
   "cell_type": "markdown",
   "metadata": {},
   "source": [
    "# LDA transformation"
   ]
  },
  {
   "cell_type": "code",
   "execution_count": 20,
   "metadata": {
    "collapsed": true
   },
   "outputs": [],
   "source": [
    "# Quick testing using just a part of the corpus\n",
    "\n",
    "NUM_TOPICS_LIST = [2, 3, 5, 10, 25, 50, 100]\n",
    "NUM_TOPICS_LIST.append(len(get_epithets()))  # mk topics same number as traditional epithets\n",
    "NUM_TOPICS_LIST = sorted(NUM_TOPICS_LIST)\n",
    "PASSES = 1"
   ]
  },
  {
   "cell_type": "code",
   "execution_count": 21,
   "metadata": {},
   "outputs": [
    {
     "name": "stderr",
     "output_type": "stream",
     "text": [
      "INFO : using symmetric alpha at 0.5\n",
      "INFO : using symmetric eta at 4.046617028164455e-05\n",
      "INFO : using serial LDA version on this node\n"
     ]
    },
    {
     "name": "stdout",
     "output_type": "stream",
     "text": [
      "Beginning training ...\n",
      "... 2 topics and 1 passes ...\n"
     ]
    },
    {
     "name": "stderr",
     "output_type": "stream",
     "text": [
      "INFO : running online LDA training, 2 topics, 1 passes over the supplied corpus of 25 documents, updating every 2000 documents, evaluating every ~25 documents, iterating 50x with a convergence threshold of 0.001000\n",
      "WARNING : too few updates, training might not converge; consider increasing the number of passes or iterations to improve accuracy\n",
      "INFO : training LDA model using 1 processes\n",
      "INFO : PROGRESS: pass 0, dispatched chunk #0 = documents up to #25/25, outstanding queue size 1\n",
      "INFO : topic #0 (0.500): 0.003*\"und\" + 0.002*\"das\" + 0.002*\"πεπερασμένον\" + 0.002*\"nicht\" + 0.002*\"ἀπείρου\" + 0.002*\"aristoteles\" + 0.002*\"κινοῦντος\" + 0.001*\"μεταβάλλον\" + 0.001*\"def\" + 0.001*\"ist\"\n",
      "INFO : topic #1 (0.500): 0.003*\"πεπερασμένον\" + 0.003*\"def\" + 0.003*\"ἀπείρου\" + 0.002*\"κινοῦντος\" + 0.002*\"εὔδημος\" + 0.002*\"μεταβάλλον\" + 0.002*\"aristoteles\" + 0.002*\"mrg\" + 0.002*\"κινουμένῳ\" + 0.002*\"αὐτοκίνητον\"\n",
      "INFO : topic diff=1.142663, rho=1.000000\n",
      "INFO : -9.531 per-word bound, 739.6 perplexity estimate based on a held-out corpus of 25 documents with 78324 words\n",
      "INFO : storing corpus in Matrix Market format to /home/kyle/cltk_data/user_data/lda_1kgreek/gensim_lda_space_1kgrk_numtopics2_numpasses1_nobelow20_noabove0.1_tokmin3_tokmax20_docmin50_deaccentFalse.mm\n",
      "INFO : saving sparse matrix to /home/kyle/cltk_data/user_data/lda_1kgreek/gensim_lda_space_1kgrk_numtopics2_numpasses1_nobelow20_noabove0.1_tokmin3_tokmax20_docmin50_deaccentFalse.mm\n",
      "INFO : PROGRESS: saving document #0\n",
      "INFO : saved 25x2 matrix, density=68.000% (34/50)\n",
      "INFO : saving MmCorpus index to /home/kyle/cltk_data/user_data/lda_1kgreek/gensim_lda_space_1kgrk_numtopics2_numpasses1_nobelow20_noabove0.1_tokmin3_tokmax20_docmin50_deaccentFalse.mm.index\n",
      "INFO : saving LdaState object under /home/kyle/cltk_data/user_data/lda_1kgreek/gensim_lda_model_1kgrk_numtopics2_numpasses1_nobelow20_noabove0.1_tokmin3_tokmax20_docmin50_deaccentFalse.model.state, separately None\n",
      "INFO : saved /home/kyle/cltk_data/user_data/lda_1kgreek/gensim_lda_model_1kgrk_numtopics2_numpasses1_nobelow20_noabove0.1_tokmin3_tokmax20_docmin50_deaccentFalse.model.state\n",
      "INFO : saving LdaMulticore object under /home/kyle/cltk_data/user_data/lda_1kgreek/gensim_lda_model_1kgrk_numtopics2_numpasses1_nobelow20_noabove0.1_tokmin3_tokmax20_docmin50_deaccentFalse.model, separately ['expElogbeta', 'sstats']\n",
      "INFO : storing np array 'expElogbeta' to /home/kyle/cltk_data/user_data/lda_1kgreek/gensim_lda_model_1kgrk_numtopics2_numpasses1_nobelow20_noabove0.1_tokmin3_tokmax20_docmin50_deaccentFalse.model.expElogbeta.npy\n",
      "INFO : not storing attribute dispatcher\n",
      "INFO : not storing attribute state\n",
      "INFO : not storing attribute id2word\n",
      "INFO : saved /home/kyle/cltk_data/user_data/lda_1kgreek/gensim_lda_model_1kgrk_numtopics2_numpasses1_nobelow20_noabove0.1_tokmin3_tokmax20_docmin50_deaccentFalse.model\n",
      "INFO : using symmetric alpha at 0.3333333333333333\n",
      "INFO : using symmetric eta at 4.046617028164455e-05\n",
      "INFO : using serial LDA version on this node\n"
     ]
    },
    {
     "name": "stdout",
     "output_type": "stream",
     "text": [
      "Time to train LDA model space: 8.970294952392578\n",
      "Beginning training ...\n",
      "... 3 topics and 1 passes ...\n"
     ]
    },
    {
     "name": "stderr",
     "output_type": "stream",
     "text": [
      "INFO : running online LDA training, 3 topics, 1 passes over the supplied corpus of 25 documents, updating every 2000 documents, evaluating every ~25 documents, iterating 50x with a convergence threshold of 0.001000\n",
      "WARNING : too few updates, training might not converge; consider increasing the number of passes or iterations to improve accuracy\n",
      "INFO : training LDA model using 1 processes\n",
      "INFO : PROGRESS: pass 0, dispatched chunk #0 = documents up to #25/25, outstanding queue size 1\n",
      "INFO : topic #0 (0.333): 0.005*\"und\" + 0.003*\"def\" + 0.002*\"πεπερασμένον\" + 0.002*\"nicht\" + 0.002*\"das\" + 0.002*\"ist\" + 0.002*\"ἀπείρου\" + 0.002*\"κινοῦντος\" + 0.002*\"μεταβάλλον\" + 0.002*\"προσεχῶς\"\n",
      "INFO : topic #1 (0.333): 0.003*\"ἀπείρου\" + 0.003*\"πεπερασμένον\" + 0.003*\"κινοῦντος\" + 0.002*\"mrg\" + 0.002*\"εὔδημος\" + 0.002*\"aristoteles\" + 0.002*\"def\" + 0.002*\"vulg\" + 0.002*\"ἠρεμεῖ\" + 0.002*\"κινουμένῳ\"\n",
      "INFO : topic #2 (0.333): 0.003*\"πεπερασμένον\" + 0.002*\"def\" + 0.002*\"aristoteles\" + 0.002*\"μεταβάλλον\" + 0.002*\"ἀπείρου\" + 0.002*\"κινοῦντος\" + 0.002*\"und\" + 0.002*\"αὐτοκίνητον\" + 0.001*\"προσεχῶς\" + 0.001*\"cet\"\n",
      "INFO : topic diff=1.451915, rho=1.000000\n",
      "INFO : -9.724 per-word bound, 845.5 perplexity estimate based on a held-out corpus of 25 documents with 78324 words\n",
      "INFO : storing corpus in Matrix Market format to /home/kyle/cltk_data/user_data/lda_1kgreek/gensim_lda_space_1kgrk_numtopics3_numpasses1_nobelow20_noabove0.1_tokmin3_tokmax20_docmin50_deaccentFalse.mm\n",
      "INFO : saving sparse matrix to /home/kyle/cltk_data/user_data/lda_1kgreek/gensim_lda_space_1kgrk_numtopics3_numpasses1_nobelow20_noabove0.1_tokmin3_tokmax20_docmin50_deaccentFalse.mm\n",
      "INFO : PROGRESS: saving document #0\n",
      "INFO : saved 25x3 matrix, density=52.000% (39/75)\n",
      "INFO : saving MmCorpus index to /home/kyle/cltk_data/user_data/lda_1kgreek/gensim_lda_space_1kgrk_numtopics3_numpasses1_nobelow20_noabove0.1_tokmin3_tokmax20_docmin50_deaccentFalse.mm.index\n",
      "INFO : saving LdaState object under /home/kyle/cltk_data/user_data/lda_1kgreek/gensim_lda_model_1kgrk_numtopics3_numpasses1_nobelow20_noabove0.1_tokmin3_tokmax20_docmin50_deaccentFalse.model.state, separately None\n",
      "INFO : saved /home/kyle/cltk_data/user_data/lda_1kgreek/gensim_lda_model_1kgrk_numtopics3_numpasses1_nobelow20_noabove0.1_tokmin3_tokmax20_docmin50_deaccentFalse.model.state\n",
      "INFO : saving LdaMulticore object under /home/kyle/cltk_data/user_data/lda_1kgreek/gensim_lda_model_1kgrk_numtopics3_numpasses1_nobelow20_noabove0.1_tokmin3_tokmax20_docmin50_deaccentFalse.model, separately ['expElogbeta', 'sstats']\n",
      "INFO : storing np array 'expElogbeta' to /home/kyle/cltk_data/user_data/lda_1kgreek/gensim_lda_model_1kgrk_numtopics3_numpasses1_nobelow20_noabove0.1_tokmin3_tokmax20_docmin50_deaccentFalse.model.expElogbeta.npy\n",
      "INFO : not storing attribute dispatcher\n",
      "INFO : not storing attribute state\n",
      "INFO : not storing attribute id2word\n",
      "INFO : saved /home/kyle/cltk_data/user_data/lda_1kgreek/gensim_lda_model_1kgrk_numtopics3_numpasses1_nobelow20_noabove0.1_tokmin3_tokmax20_docmin50_deaccentFalse.model\n",
      "INFO : using symmetric alpha at 0.2\n",
      "INFO : using symmetric eta at 4.046617028164455e-05\n",
      "INFO : using serial LDA version on this node\n"
     ]
    },
    {
     "name": "stdout",
     "output_type": "stream",
     "text": [
      "Time to train LDA model space: 8.65969181060791\n",
      "Beginning training ...\n",
      "... 5 topics and 1 passes ...\n"
     ]
    },
    {
     "name": "stderr",
     "output_type": "stream",
     "text": [
      "INFO : running online LDA training, 5 topics, 1 passes over the supplied corpus of 25 documents, updating every 2000 documents, evaluating every ~25 documents, iterating 50x with a convergence threshold of 0.001000\n",
      "WARNING : too few updates, training might not converge; consider increasing the number of passes or iterations to improve accuracy\n",
      "INFO : training LDA model using 1 processes\n",
      "INFO : PROGRESS: pass 0, dispatched chunk #0 = documents up to #25/25, outstanding queue size 1\n",
      "INFO : topic #0 (0.200): 0.003*\"und\" + 0.003*\"πεπερασμένον\" + 0.002*\"ἀπείρου\" + 0.002*\"def\" + 0.002*\"μεταβάλλον\" + 0.002*\"aristoteles\" + 0.002*\"mon\" + 0.002*\"κινοῦντος\" + 0.002*\"κινουμένῳ\" + 0.002*\"προσεχῶς\"\n",
      "INFO : topic #1 (0.200): 0.003*\"πεπερασμένον\" + 0.002*\"μεταβάλλον\" + 0.002*\"ἀπείρου\" + 0.002*\"κινοῦντος\" + 0.002*\"aristoteles\" + 0.002*\"def\" + 0.002*\"mrg\" + 0.002*\"vulg\" + 0.002*\"εὔδημος\" + 0.001*\"αὐτοκίνητον\"\n",
      "INFO : topic #2 (0.200): 0.005*\"und\" + 0.003*\"das\" + 0.003*\"nicht\" + 0.002*\"def\" + 0.002*\"ἀπείρου\" + 0.002*\"πεπερασμένον\" + 0.002*\"κινοῦντος\" + 0.002*\"von\" + 0.002*\"ist\" + 0.002*\"abbrev\"\n",
      "INFO : topic #3 (0.200): 0.003*\"πεπερασμένον\" + 0.003*\"def\" + 0.003*\"ἀπείρου\" + 0.002*\"κινοῦντος\" + 0.002*\"mrg\" + 0.002*\"μεταβάλλον\" + 0.002*\"εὔδημος\" + 0.002*\"und\" + 0.002*\"νόησις\" + 0.002*\"κινουμένῳ\"\n",
      "INFO : topic #4 (0.200): 0.003*\"πεπερασμένον\" + 0.002*\"def\" + 0.002*\"εὔδημος\" + 0.002*\"ἀπείρου\" + 0.002*\"aristoteles\" + 0.002*\"mrg\" + 0.002*\"κινοῦντος\" + 0.002*\"vulg\" + 0.002*\"προσεχῶς\" + 0.002*\"αὐτοκίνητον\"\n",
      "INFO : topic diff=2.180525, rho=1.000000\n",
      "INFO : -10.117 per-word bound, 1110.2 perplexity estimate based on a held-out corpus of 25 documents with 78324 words\n",
      "INFO : storing corpus in Matrix Market format to /home/kyle/cltk_data/user_data/lda_1kgreek/gensim_lda_space_1kgrk_numtopics5_numpasses1_nobelow20_noabove0.1_tokmin3_tokmax20_docmin50_deaccentFalse.mm\n",
      "INFO : saving sparse matrix to /home/kyle/cltk_data/user_data/lda_1kgreek/gensim_lda_space_1kgrk_numtopics5_numpasses1_nobelow20_noabove0.1_tokmin3_tokmax20_docmin50_deaccentFalse.mm\n",
      "INFO : PROGRESS: saving document #0\n",
      "INFO : saved 25x5 matrix, density=30.400% (38/125)\n",
      "INFO : saving MmCorpus index to /home/kyle/cltk_data/user_data/lda_1kgreek/gensim_lda_space_1kgrk_numtopics5_numpasses1_nobelow20_noabove0.1_tokmin3_tokmax20_docmin50_deaccentFalse.mm.index\n",
      "INFO : saving LdaState object under /home/kyle/cltk_data/user_data/lda_1kgreek/gensim_lda_model_1kgrk_numtopics5_numpasses1_nobelow20_noabove0.1_tokmin3_tokmax20_docmin50_deaccentFalse.model.state, separately None\n",
      "INFO : saved /home/kyle/cltk_data/user_data/lda_1kgreek/gensim_lda_model_1kgrk_numtopics5_numpasses1_nobelow20_noabove0.1_tokmin3_tokmax20_docmin50_deaccentFalse.model.state\n",
      "INFO : saving LdaMulticore object under /home/kyle/cltk_data/user_data/lda_1kgreek/gensim_lda_model_1kgrk_numtopics5_numpasses1_nobelow20_noabove0.1_tokmin3_tokmax20_docmin50_deaccentFalse.model, separately ['expElogbeta', 'sstats']\n",
      "INFO : storing np array 'expElogbeta' to /home/kyle/cltk_data/user_data/lda_1kgreek/gensim_lda_model_1kgrk_numtopics5_numpasses1_nobelow20_noabove0.1_tokmin3_tokmax20_docmin50_deaccentFalse.model.expElogbeta.npy\n",
      "INFO : not storing attribute dispatcher\n",
      "INFO : not storing attribute state\n",
      "INFO : not storing attribute id2word\n",
      "INFO : saved /home/kyle/cltk_data/user_data/lda_1kgreek/gensim_lda_model_1kgrk_numtopics5_numpasses1_nobelow20_noabove0.1_tokmin3_tokmax20_docmin50_deaccentFalse.model\n",
      "INFO : using symmetric alpha at 0.1\n",
      "INFO : using symmetric eta at 4.046617028164455e-05\n",
      "INFO : using serial LDA version on this node\n"
     ]
    },
    {
     "name": "stdout",
     "output_type": "stream",
     "text": [
      "Time to train LDA model space: 10.812721490859985\n",
      "Beginning training ...\n",
      "... 10 topics and 1 passes ...\n"
     ]
    },
    {
     "name": "stderr",
     "output_type": "stream",
     "text": [
      "INFO : running online LDA training, 10 topics, 1 passes over the supplied corpus of 25 documents, updating every 2000 documents, evaluating every ~25 documents, iterating 50x with a convergence threshold of 0.001000\n",
      "WARNING : too few updates, training might not converge; consider increasing the number of passes or iterations to improve accuracy\n",
      "INFO : training LDA model using 1 processes\n",
      "INFO : PROGRESS: pass 0, dispatched chunk #0 = documents up to #25/25, outstanding queue size 1\n",
      "INFO : topic #8 (0.100): 0.003*\"und\" + 0.003*\"πεπερασμένον\" + 0.002*\"def\" + 0.002*\"das\" + 0.002*\"aristoteles\" + 0.002*\"κινοῦντος\" + 0.002*\"vulg\" + 0.002*\"ἀπείρου\" + 0.002*\"mrg\" + 0.002*\"μεταβάλλον\"\n",
      "INFO : topic #4 (0.100): 0.010*\"und\" + 0.006*\"nicht\" + 0.006*\"mon\" + 0.005*\"das\" + 0.004*\"auch\" + 0.004*\"ist\" + 0.004*\"aber\" + 0.003*\"den\" + 0.003*\"von\" + 0.003*\"πεπερασμένον\"\n",
      "INFO : topic #9 (0.100): 0.003*\"πεπερασμένον\" + 0.003*\"ἀπείρου\" + 0.002*\"def\" + 0.002*\"κινοῦντος\" + 0.002*\"aristoteles\" + 0.002*\"μεταβάλλον\" + 0.002*\"mrg\" + 0.002*\"νόησις\" + 0.001*\"εὔδημος\" + 0.001*\"διαιρετόν\"\n",
      "INFO : topic #7 (0.100): 0.004*\"πεπερασμένον\" + 0.004*\"κινοῦντος\" + 0.003*\"def\" + 0.003*\"ἀπείρου\" + 0.003*\"μεταβάλλον\" + 0.003*\"aristoteles\" + 0.003*\"mrg\" + 0.002*\"προσεχῶς\" + 0.002*\"αὐτοκίνητον\" + 0.002*\"εὔδημος\"\n",
      "INFO : topic #6 (0.100): 0.003*\"πεπερασμένον\" + 0.003*\"mrg\" + 0.003*\"ἀπείρου\" + 0.002*\"προσεχῶς\" + 0.002*\"def\" + 0.002*\"κινουμένῳ\" + 0.002*\"vulg\" + 0.002*\"κινοῦντος\" + 0.002*\"μεταβάλλον\" + 0.002*\"εὔδημος\"\n",
      "INFO : topic diff=4.306739, rho=1.000000\n",
      "INFO : -11.012 per-word bound, 2064.7 perplexity estimate based on a held-out corpus of 25 documents with 78324 words\n",
      "INFO : storing corpus in Matrix Market format to /home/kyle/cltk_data/user_data/lda_1kgreek/gensim_lda_space_1kgrk_numtopics10_numpasses1_nobelow20_noabove0.1_tokmin3_tokmax20_docmin50_deaccentFalse.mm\n",
      "INFO : saving sparse matrix to /home/kyle/cltk_data/user_data/lda_1kgreek/gensim_lda_space_1kgrk_numtopics10_numpasses1_nobelow20_noabove0.1_tokmin3_tokmax20_docmin50_deaccentFalse.mm\n",
      "INFO : PROGRESS: saving document #0\n",
      "INFO : saved 25x10 matrix, density=18.400% (46/250)\n",
      "INFO : saving MmCorpus index to /home/kyle/cltk_data/user_data/lda_1kgreek/gensim_lda_space_1kgrk_numtopics10_numpasses1_nobelow20_noabove0.1_tokmin3_tokmax20_docmin50_deaccentFalse.mm.index\n",
      "INFO : saving LdaState object under /home/kyle/cltk_data/user_data/lda_1kgreek/gensim_lda_model_1kgrk_numtopics10_numpasses1_nobelow20_noabove0.1_tokmin3_tokmax20_docmin50_deaccentFalse.model.state, separately None\n",
      "INFO : saved /home/kyle/cltk_data/user_data/lda_1kgreek/gensim_lda_model_1kgrk_numtopics10_numpasses1_nobelow20_noabove0.1_tokmin3_tokmax20_docmin50_deaccentFalse.model.state\n",
      "INFO : saving LdaMulticore object under /home/kyle/cltk_data/user_data/lda_1kgreek/gensim_lda_model_1kgrk_numtopics10_numpasses1_nobelow20_noabove0.1_tokmin3_tokmax20_docmin50_deaccentFalse.model, separately ['expElogbeta', 'sstats']\n",
      "INFO : storing np array 'expElogbeta' to /home/kyle/cltk_data/user_data/lda_1kgreek/gensim_lda_model_1kgrk_numtopics10_numpasses1_nobelow20_noabove0.1_tokmin3_tokmax20_docmin50_deaccentFalse.model.expElogbeta.npy\n",
      "INFO : not storing attribute dispatcher\n",
      "INFO : not storing attribute state\n",
      "INFO : not storing attribute id2word\n",
      "INFO : saved /home/kyle/cltk_data/user_data/lda_1kgreek/gensim_lda_model_1kgrk_numtopics10_numpasses1_nobelow20_noabove0.1_tokmin3_tokmax20_docmin50_deaccentFalse.model\n",
      "INFO : using symmetric alpha at 0.04\n",
      "INFO : using symmetric eta at 4.046617028164455e-05\n",
      "INFO : using serial LDA version on this node\n"
     ]
    },
    {
     "name": "stdout",
     "output_type": "stream",
     "text": [
      "Time to train LDA model space: 13.826842069625854\n",
      "Beginning training ...\n",
      "... 25 topics and 1 passes ...\n"
     ]
    },
    {
     "name": "stderr",
     "output_type": "stream",
     "text": [
      "INFO : running online LDA training, 25 topics, 1 passes over the supplied corpus of 25 documents, updating every 2000 documents, evaluating every ~25 documents, iterating 50x with a convergence threshold of 0.001000\n",
      "WARNING : too few updates, training might not converge; consider increasing the number of passes or iterations to improve accuracy\n",
      "INFO : training LDA model using 1 processes\n",
      "INFO : PROGRESS: pass 0, dispatched chunk #0 = documents up to #25/25, outstanding queue size 1\n",
      "INFO : topic #1 (0.040): 0.003*\"ἀπείρου\" + 0.002*\"πεπερασμένον\" + 0.002*\"def\" + 0.002*\"und\" + 0.002*\"κινοῦντος\" + 0.002*\"aristoteles\" + 0.002*\"abbrev\" + 0.002*\"mrg\" + 0.002*\"προσεχῶς\" + 0.002*\"νόησις\"\n",
      "INFO : topic #0 (0.040): 0.004*\"πεπερασμένον\" + 0.003*\"ἀπείρου\" + 0.003*\"μεταβάλλον\" + 0.003*\"def\" + 0.002*\"aristoteles\" + 0.002*\"mrg\" + 0.002*\"προσεχῶς\" + 0.002*\"κινοῦντος\" + 0.002*\"ἀπείρῳ\" + 0.002*\"διαιρετὸν\"\n",
      "INFO : topic #18 (0.040): 0.003*\"πεπερασμένον\" + 0.002*\"def\" + 0.002*\"aristoteles\" + 0.002*\"εὔδημος\" + 0.002*\"νόησις\" + 0.002*\"κινοῦντος\" + 0.001*\"προσεχῶς\" + 0.001*\"ἀπείρου\" + 0.001*\"ἠρεμεῖ\" + 0.001*\"μεταβάλλον\"\n",
      "INFO : topic #22 (0.040): 0.003*\"πεπερασμένον\" + 0.002*\"def\" + 0.002*\"mrg\" + 0.002*\"ἀπείρου\" + 0.002*\"μεταβάλλον\" + 0.002*\"aristoteles\" + 0.002*\"κινοῦντος\" + 0.002*\"κινουμένῳ\" + 0.002*\"εὔδημος\" + 0.001*\"στερήσεως\"\n",
      "INFO : topic #17 (0.040): 0.006*\"und\" + 0.004*\"das\" + 0.003*\"nicht\" + 0.002*\"ist\" + 0.002*\"μεταβάλλον\" + 0.002*\"def\" + 0.002*\"aber\" + 0.002*\"πεπερασμένον\" + 0.002*\"von\" + 0.002*\"aristoteles\"\n",
      "INFO : topic diff=11.704352, rho=1.000000\n",
      "INFO : -14.042 per-word bound, 16864.1 perplexity estimate based on a held-out corpus of 25 documents with 78324 words\n",
      "INFO : storing corpus in Matrix Market format to /home/kyle/cltk_data/user_data/lda_1kgreek/gensim_lda_space_1kgrk_numtopics25_numpasses1_nobelow20_noabove0.1_tokmin3_tokmax20_docmin50_deaccentFalse.mm\n",
      "INFO : saving sparse matrix to /home/kyle/cltk_data/user_data/lda_1kgreek/gensim_lda_space_1kgrk_numtopics25_numpasses1_nobelow20_noabove0.1_tokmin3_tokmax20_docmin50_deaccentFalse.mm\n",
      "INFO : PROGRESS: saving document #0\n",
      "INFO : saved 25x25 matrix, density=7.200% (45/625)\n",
      "INFO : saving MmCorpus index to /home/kyle/cltk_data/user_data/lda_1kgreek/gensim_lda_space_1kgrk_numtopics25_numpasses1_nobelow20_noabove0.1_tokmin3_tokmax20_docmin50_deaccentFalse.mm.index\n",
      "INFO : saving LdaState object under /home/kyle/cltk_data/user_data/lda_1kgreek/gensim_lda_model_1kgrk_numtopics25_numpasses1_nobelow20_noabove0.1_tokmin3_tokmax20_docmin50_deaccentFalse.model.state, separately None\n",
      "INFO : saved /home/kyle/cltk_data/user_data/lda_1kgreek/gensim_lda_model_1kgrk_numtopics25_numpasses1_nobelow20_noabove0.1_tokmin3_tokmax20_docmin50_deaccentFalse.model.state\n",
      "INFO : saving LdaMulticore object under /home/kyle/cltk_data/user_data/lda_1kgreek/gensim_lda_model_1kgrk_numtopics25_numpasses1_nobelow20_noabove0.1_tokmin3_tokmax20_docmin50_deaccentFalse.model, separately ['expElogbeta', 'sstats']\n",
      "INFO : storing np array 'expElogbeta' to /home/kyle/cltk_data/user_data/lda_1kgreek/gensim_lda_model_1kgrk_numtopics25_numpasses1_nobelow20_noabove0.1_tokmin3_tokmax20_docmin50_deaccentFalse.model.expElogbeta.npy\n",
      "INFO : not storing attribute dispatcher\n",
      "INFO : not storing attribute state\n",
      "INFO : not storing attribute id2word\n",
      "INFO : saved /home/kyle/cltk_data/user_data/lda_1kgreek/gensim_lda_model_1kgrk_numtopics25_numpasses1_nobelow20_noabove0.1_tokmin3_tokmax20_docmin50_deaccentFalse.model\n",
      "INFO : using symmetric alpha at 0.02\n",
      "INFO : using symmetric eta at 4.046617028164455e-05\n",
      "INFO : using serial LDA version on this node\n"
     ]
    },
    {
     "name": "stdout",
     "output_type": "stream",
     "text": [
      "Time to train LDA model space: 16.23465394973755\n",
      "Beginning training ...\n",
      "... 50 topics and 1 passes ...\n"
     ]
    },
    {
     "name": "stderr",
     "output_type": "stream",
     "text": [
      "INFO : running online LDA training, 50 topics, 1 passes over the supplied corpus of 25 documents, updating every 2000 documents, evaluating every ~25 documents, iterating 50x with a convergence threshold of 0.001000\n",
      "WARNING : too few updates, training might not converge; consider increasing the number of passes or iterations to improve accuracy\n",
      "INFO : training LDA model using 1 processes\n",
      "INFO : PROGRESS: pass 0, dispatched chunk #0 = documents up to #25/25, outstanding queue size 1\n",
      "INFO : topic #48 (0.020): 0.003*\"πεπερασμένον\" + 0.003*\"def\" + 0.002*\"κινοῦντος\" + 0.002*\"aristoteles\" + 0.002*\"προσεχῶς\" + 0.002*\"ἀπείρου\" + 0.002*\"und\" + 0.002*\"εὔδημος\" + 0.002*\"μεταβάλλον\" + 0.002*\"mrg\"\n",
      "INFO : topic #31 (0.020): 0.005*\"und\" + 0.003*\"das\" + 0.003*\"πεπερασμένον\" + 0.003*\"nicht\" + 0.002*\"def\" + 0.002*\"ist\" + 0.002*\"μεταβάλλον\" + 0.002*\"den\" + 0.002*\"εὔδημος\" + 0.002*\"aristoteles\"\n",
      "INFO : topic #23 (0.020): 0.002*\"νόησις\" + 0.002*\"πεπερασμένον\" + 0.001*\"def\" + 0.001*\"κινοῦντος\" + 0.001*\"ἀπείρου\" + 0.001*\"mrg\" + 0.001*\"φλεγμονῆς\" + 0.001*\"εὔδημος\" + 0.001*\"μεταβάλλον\" + 0.001*\"ἐγρηγορέναι\"\n",
      "INFO : topic #33 (0.020): 0.003*\"πεπερασμένον\" + 0.003*\"κινοῦντος\" + 0.003*\"ἀπείρου\" + 0.003*\"cet\" + 0.002*\"aristoteles\" + 0.002*\"μεταβάλλον\" + 0.002*\"κινουμένῳ\" + 0.002*\"mrg\" + 0.002*\"def\" + 0.002*\"εὔδημος\"\n",
      "INFO : topic #36 (0.020): 0.003*\"πεπερασμένον\" + 0.003*\"def\" + 0.002*\"ἀπείρου\" + 0.002*\"μεταβάλλον\" + 0.002*\"mrg\" + 0.002*\"aristoteles\" + 0.002*\"προσεχῶς\" + 0.002*\"κινοῦντος\" + 0.002*\"κινουμένῳ\" + 0.002*\"νόησις\"\n",
      "INFO : topic diff=25.079214, rho=1.000000\n",
      "INFO : -19.008 per-word bound, 527359.0 perplexity estimate based on a held-out corpus of 25 documents with 78324 words\n",
      "INFO : storing corpus in Matrix Market format to /home/kyle/cltk_data/user_data/lda_1kgreek/gensim_lda_space_1kgrk_numtopics50_numpasses1_nobelow20_noabove0.1_tokmin3_tokmax20_docmin50_deaccentFalse.mm\n",
      "INFO : saving sparse matrix to /home/kyle/cltk_data/user_data/lda_1kgreek/gensim_lda_space_1kgrk_numtopics50_numpasses1_nobelow20_noabove0.1_tokmin3_tokmax20_docmin50_deaccentFalse.mm\n",
      "INFO : PROGRESS: saving document #0\n",
      "INFO : saved 25x48 matrix, density=5.083% (61/1200)\n",
      "INFO : saving MmCorpus index to /home/kyle/cltk_data/user_data/lda_1kgreek/gensim_lda_space_1kgrk_numtopics50_numpasses1_nobelow20_noabove0.1_tokmin3_tokmax20_docmin50_deaccentFalse.mm.index\n",
      "INFO : saving LdaState object under /home/kyle/cltk_data/user_data/lda_1kgreek/gensim_lda_model_1kgrk_numtopics50_numpasses1_nobelow20_noabove0.1_tokmin3_tokmax20_docmin50_deaccentFalse.model.state, separately None\n",
      "INFO : saved /home/kyle/cltk_data/user_data/lda_1kgreek/gensim_lda_model_1kgrk_numtopics50_numpasses1_nobelow20_noabove0.1_tokmin3_tokmax20_docmin50_deaccentFalse.model.state\n",
      "INFO : saving LdaMulticore object under /home/kyle/cltk_data/user_data/lda_1kgreek/gensim_lda_model_1kgrk_numtopics50_numpasses1_nobelow20_noabove0.1_tokmin3_tokmax20_docmin50_deaccentFalse.model, separately ['expElogbeta', 'sstats']\n",
      "INFO : storing np array 'expElogbeta' to /home/kyle/cltk_data/user_data/lda_1kgreek/gensim_lda_model_1kgrk_numtopics50_numpasses1_nobelow20_noabove0.1_tokmin3_tokmax20_docmin50_deaccentFalse.model.expElogbeta.npy\n",
      "INFO : not storing attribute dispatcher\n",
      "INFO : not storing attribute state\n",
      "INFO : not storing attribute id2word\n",
      "INFO : saved /home/kyle/cltk_data/user_data/lda_1kgreek/gensim_lda_model_1kgrk_numtopics50_numpasses1_nobelow20_noabove0.1_tokmin3_tokmax20_docmin50_deaccentFalse.model\n",
      "INFO : using symmetric alpha at 0.01818181818181818\n",
      "INFO : using symmetric eta at 4.046617028164455e-05\n",
      "INFO : using serial LDA version on this node\n"
     ]
    },
    {
     "name": "stdout",
     "output_type": "stream",
     "text": [
      "Time to train LDA model space: 25.56251335144043\n",
      "Beginning training ...\n",
      "... 55 topics and 1 passes ...\n"
     ]
    },
    {
     "name": "stderr",
     "output_type": "stream",
     "text": [
      "INFO : running online LDA training, 55 topics, 1 passes over the supplied corpus of 25 documents, updating every 2000 documents, evaluating every ~25 documents, iterating 50x with a convergence threshold of 0.001000\n",
      "WARNING : too few updates, training might not converge; consider increasing the number of passes or iterations to improve accuracy\n",
      "INFO : training LDA model using 1 processes\n",
      "INFO : PROGRESS: pass 0, dispatched chunk #0 = documents up to #25/25, outstanding queue size 1\n",
      "INFO : topic #18 (0.018): 0.002*\"πεπερασμένον\" + 0.002*\"macl\" + 0.002*\"νόησις\" + 0.001*\"μεταβάλλον\" + 0.001*\"mrg\" + 0.001*\"def\" + 0.001*\"ἀπείρου\" + 0.001*\"aristoteles\" + 0.001*\"φλεβοτομίας\" + 0.001*\"εὔδημος\"\n",
      "INFO : topic #15 (0.018): 0.004*\"und\" + 0.003*\"πεπερασμένον\" + 0.002*\"das\" + 0.002*\"def\" + 0.002*\"φλεβοτομίας\" + 0.002*\"ἀπείρου\" + 0.001*\"aristoteles\" + 0.001*\"κινοῦντος\" + 0.001*\"von\" + 0.001*\"ist\"\n",
      "INFO : topic #48 (0.018): 0.005*\"und\" + 0.004*\"nicht\" + 0.004*\"das\" + 0.003*\"den\" + 0.003*\"πεπερασμένον\" + 0.002*\"von\" + 0.002*\"aber\" + 0.002*\"sie\" + 0.002*\"ist\" + 0.002*\"auch\"\n",
      "INFO : topic #29 (0.018): 0.004*\"πεπερασμένον\" + 0.003*\"def\" + 0.002*\"μεταβάλλον\" + 0.002*\"ἀπείρου\" + 0.002*\"aristoteles\" + 0.002*\"εὔδημος\" + 0.002*\"κινοῦντος\" + 0.002*\"προσεχῶς\" + 0.002*\"cet\" + 0.002*\"mrg\"\n",
      "INFO : topic #35 (0.018): 0.003*\"πεπερασμένον\" + 0.003*\"und\" + 0.003*\"ἀπείρου\" + 0.002*\"def\" + 0.002*\"μεταβάλλον\" + 0.002*\"aristoteles\" + 0.002*\"vulg\" + 0.002*\"das\" + 0.002*\"αὐτοκίνητον\" + 0.002*\"κινοῦντος\"\n",
      "INFO : topic diff=27.802656, rho=1.000000\n",
      "INFO : -20.035 per-word bound, 1074496.5 perplexity estimate based on a held-out corpus of 25 documents with 78324 words\n",
      "INFO : storing corpus in Matrix Market format to /home/kyle/cltk_data/user_data/lda_1kgreek/gensim_lda_space_1kgrk_numtopics55_numpasses1_nobelow20_noabove0.1_tokmin3_tokmax20_docmin50_deaccentFalse.mm\n",
      "INFO : saving sparse matrix to /home/kyle/cltk_data/user_data/lda_1kgreek/gensim_lda_space_1kgrk_numtopics55_numpasses1_nobelow20_noabove0.1_tokmin3_tokmax20_docmin50_deaccentFalse.mm\n",
      "INFO : PROGRESS: saving document #0\n",
      "INFO : saved 25x54 matrix, density=4.222% (57/1350)\n",
      "INFO : saving MmCorpus index to /home/kyle/cltk_data/user_data/lda_1kgreek/gensim_lda_space_1kgrk_numtopics55_numpasses1_nobelow20_noabove0.1_tokmin3_tokmax20_docmin50_deaccentFalse.mm.index\n",
      "INFO : saving LdaState object under /home/kyle/cltk_data/user_data/lda_1kgreek/gensim_lda_model_1kgrk_numtopics55_numpasses1_nobelow20_noabove0.1_tokmin3_tokmax20_docmin50_deaccentFalse.model.state, separately None\n",
      "INFO : saved /home/kyle/cltk_data/user_data/lda_1kgreek/gensim_lda_model_1kgrk_numtopics55_numpasses1_nobelow20_noabove0.1_tokmin3_tokmax20_docmin50_deaccentFalse.model.state\n",
      "INFO : saving LdaMulticore object under /home/kyle/cltk_data/user_data/lda_1kgreek/gensim_lda_model_1kgrk_numtopics55_numpasses1_nobelow20_noabove0.1_tokmin3_tokmax20_docmin50_deaccentFalse.model, separately ['expElogbeta', 'sstats']\n",
      "INFO : storing np array 'expElogbeta' to /home/kyle/cltk_data/user_data/lda_1kgreek/gensim_lda_model_1kgrk_numtopics55_numpasses1_nobelow20_noabove0.1_tokmin3_tokmax20_docmin50_deaccentFalse.model.expElogbeta.npy\n",
      "INFO : not storing attribute dispatcher\n",
      "INFO : not storing attribute state\n",
      "INFO : not storing attribute id2word\n",
      "INFO : saved /home/kyle/cltk_data/user_data/lda_1kgreek/gensim_lda_model_1kgrk_numtopics55_numpasses1_nobelow20_noabove0.1_tokmin3_tokmax20_docmin50_deaccentFalse.model\n",
      "INFO : using symmetric alpha at 0.01\n",
      "INFO : using symmetric eta at 4.046617028164455e-05\n",
      "INFO : using serial LDA version on this node\n"
     ]
    },
    {
     "name": "stdout",
     "output_type": "stream",
     "text": [
      "Time to train LDA model space: 24.77016019821167\n",
      "Beginning training ...\n",
      "... 100 topics and 1 passes ...\n"
     ]
    },
    {
     "name": "stderr",
     "output_type": "stream",
     "text": [
      "INFO : running online LDA training, 100 topics, 1 passes over the supplied corpus of 25 documents, updating every 2000 documents, evaluating every ~25 documents, iterating 50x with a convergence threshold of 0.001000\n",
      "WARNING : too few updates, training might not converge; consider increasing the number of passes or iterations to improve accuracy\n",
      "INFO : training LDA model using 1 processes\n",
      "INFO : PROGRESS: pass 0, dispatched chunk #0 = documents up to #25/25, outstanding queue size 1\n",
      "INFO : topic #53 (0.010): 0.003*\"πεπερασμένον\" + 0.002*\"und\" + 0.002*\"κινοῦντος\" + 0.002*\"das\" + 0.002*\"def\" + 0.002*\"κινουμένῳ\" + 0.002*\"νόησις\" + 0.002*\"nicht\" + 0.001*\"μεταβάλλον\" + 0.001*\"εὔδημος\"\n",
      "INFO : topic #23 (0.010): 0.004*\"πεπερασμένον\" + 0.003*\"ἀπείρου\" + 0.003*\"κινοῦντος\" + 0.003*\"def\" + 0.003*\"μεταβάλλον\" + 0.002*\"aristoteles\" + 0.002*\"mrg\" + 0.002*\"προσεχῶς\" + 0.002*\"pseudo\" + 0.002*\"εὔδημος\"\n",
      "INFO : topic #97 (0.010): 0.004*\"πεπερασμένον\" + 0.003*\"κινοῦντος\" + 0.003*\"ἀπείρου\" + 0.003*\"def\" + 0.002*\"προσεχῶς\" + 0.002*\"mrg\" + 0.002*\"aristoteles\" + 0.002*\"αὐτοκίνητον\" + 0.002*\"εὔδημος\" + 0.002*\"μεταβάλλον\"\n",
      "INFO : topic #42 (0.010): 0.003*\"πεπερασμένον\" + 0.003*\"φλεβοτομίας\" + 0.003*\"ἀπείρου\" + 0.003*\"def\" + 0.002*\"mrg\" + 0.002*\"κινοῦντος\" + 0.002*\"μεταβάλλον\" + 0.002*\"aristoteles\" + 0.002*\"κινουμένῳ\" + 0.002*\"προσεχῶς\"\n",
      "INFO : topic #69 (0.010): 0.007*\"und\" + 0.004*\"nicht\" + 0.003*\"das\" + 0.003*\"sie\" + 0.003*\"von\" + 0.003*\"den\" + 0.002*\"ist\" + 0.002*\"auch\" + 0.002*\"ἀλλʼ\" + 0.002*\"aber\"\n",
      "INFO : topic diff=53.330441, rho=1.000000\n",
      "INFO : -28.875 per-word bound, 492382335.2 perplexity estimate based on a held-out corpus of 25 documents with 78324 words\n",
      "INFO : storing corpus in Matrix Market format to /home/kyle/cltk_data/user_data/lda_1kgreek/gensim_lda_space_1kgrk_numtopics100_numpasses1_nobelow20_noabove0.1_tokmin3_tokmax20_docmin50_deaccentFalse.mm\n",
      "INFO : saving sparse matrix to /home/kyle/cltk_data/user_data/lda_1kgreek/gensim_lda_space_1kgrk_numtopics100_numpasses1_nobelow20_noabove0.1_tokmin3_tokmax20_docmin50_deaccentFalse.mm\n",
      "INFO : PROGRESS: saving document #0\n",
      "INFO : saved 25x100 matrix, density=3.520% (88/2500)\n",
      "INFO : saving MmCorpus index to /home/kyle/cltk_data/user_data/lda_1kgreek/gensim_lda_space_1kgrk_numtopics100_numpasses1_nobelow20_noabove0.1_tokmin3_tokmax20_docmin50_deaccentFalse.mm.index\n",
      "INFO : saving LdaState object under /home/kyle/cltk_data/user_data/lda_1kgreek/gensim_lda_model_1kgrk_numtopics100_numpasses1_nobelow20_noabove0.1_tokmin3_tokmax20_docmin50_deaccentFalse.model.state, separately None\n",
      "INFO : saved /home/kyle/cltk_data/user_data/lda_1kgreek/gensim_lda_model_1kgrk_numtopics100_numpasses1_nobelow20_noabove0.1_tokmin3_tokmax20_docmin50_deaccentFalse.model.state\n",
      "INFO : saving LdaMulticore object under /home/kyle/cltk_data/user_data/lda_1kgreek/gensim_lda_model_1kgrk_numtopics100_numpasses1_nobelow20_noabove0.1_tokmin3_tokmax20_docmin50_deaccentFalse.model, separately ['expElogbeta', 'sstats']\n",
      "INFO : storing np array 'expElogbeta' to /home/kyle/cltk_data/user_data/lda_1kgreek/gensim_lda_model_1kgrk_numtopics100_numpasses1_nobelow20_noabove0.1_tokmin3_tokmax20_docmin50_deaccentFalse.model.expElogbeta.npy\n",
      "INFO : not storing attribute dispatcher\n",
      "INFO : not storing attribute state\n",
      "INFO : not storing attribute id2word\n",
      "INFO : saved /home/kyle/cltk_data/user_data/lda_1kgreek/gensim_lda_model_1kgrk_numtopics100_numpasses1_nobelow20_noabove0.1_tokmin3_tokmax20_docmin50_deaccentFalse.model\n"
     ]
    },
    {
     "name": "stdout",
     "output_type": "stream",
     "text": [
      "Time to train LDA model space: 38.82135248184204\n"
     ]
    }
   ],
   "source": [
    "for num_topics in NUM_TOPICS_LIST:\n",
    "    print('Beginning training ...')\n",
    "    print('... {} topics and {} passes ...'.format(num_topics, PASSES))\n",
    "    t0 = time.time()\n",
    "    lda_model = gensim.models.LdaMulticore(corpus_bow_tlg, num_topics=num_topics, id2word=id2word_tlg, passes=PASSES)\n",
    "    \n",
    "    # save LDA vector space\n",
    "    lda_space_name = 'gensim_lda_space_1kgrk_numtopics{}_numpasses{}_nobelow{}_noabove{}_tokmin{}_tokmax{}_docmin{}_deaccent{}.mm'.format(num_topics, \n",
    "                                                                                                                                        PASSES, \n",
    "                                                                                                                                        no_below, \n",
    "                                                                                                                                        no_above, \n",
    "                                                                                                                                        TOK_MIN, \n",
    "                                                                                                                                        TOK_MAX, \n",
    "                                                                                                                                        DOC_MIN, \n",
    "                                                                                                                                        PREPROCESS_DEACCENT)\n",
    "    path_lda = os.path.join(user_dir, lda_space_name)\n",
    "    gensim.corpora.MmCorpus.serialize(path_lda, lda_model[corpus_bow_tlg])\n",
    "    \n",
    "    # save model\n",
    "    lda_model_name = 'gensim_lda_model_1kgrk_numtopics{}_numpasses{}_nobelow{}_noabove{}_tokmin{}_tokmax{}_docmin{}_deaccent{}.model'.format(num_topics, \n",
    "                                                                                                                                           PASSES, \n",
    "                                                                                                                                           no_below, \n",
    "                                                                                                                                           no_above, \n",
    "                                                                                                                                           TOK_MIN, \n",
    "                                                                                                                                           TOK_MAX, \n",
    "                                                                                                                                           DOC_MIN, \n",
    "                                                                                                                                           PREPROCESS_DEACCENT)\n",
    "    path_lda = os.path.join(user_dir, lda_model_name)\n",
    "    lda_model.save(path_lda)\n",
    "    print('Time to train LDA model space:', time.time() - t0)"
   ]
  },
  {
   "cell_type": "code",
   "execution_count": 22,
   "metadata": {
    "collapsed": true
   },
   "outputs": [],
   "source": [
    "# # Examples of how to use the model\n",
    "# lda_model.print_topics(-1)  # print a few most important words for each LDA topic\n",
    "# # transform text into the bag-of-words space\n",
    "# bow_vector = id2word_tlg.doc2bow(tokenize(doc))\n",
    "# print([(id2word_tlg[id], count) for id, count in bow_vector])\n",
    "\n",
    "# # transform into LDA space\n",
    "# lda_vector = lda_model[bow_vector]\n",
    "# print(lda_vector)\n",
    "\n",
    "# # print the document's single most prominent LDA topic\n",
    "# print(lda_model.print_topic(max(lda_vector, key=lambda item: item[1])[0]))"
   ]
  },
  {
   "cell_type": "markdown",
   "metadata": {},
   "source": [
    "# Evaluation"
   ]
  },
  {
   "cell_type": "markdown",
   "metadata": {},
   "source": [
    "## Word intrusion\n",
    "\n",
    "> For each trained topic, they take its first ten words, then substitute one of them with another, randomly chosen word (intruder!) and see whether a human can reliably tell which one it was. If so, the trained topic is topically coherent (good); if not, the topic has no discernible theme (bad)"
   ]
  },
  {
   "cell_type": "code",
   "execution_count": 23,
   "metadata": {},
   "outputs": [
    {
     "name": "stderr",
     "output_type": "stream",
     "text": [
      "INFO : loading LdaMulticore object from /home/kyle/cltk_data/user_data/lda_1kgreek/gensim_lda_model_1kgrk_numtopics2_numpasses1_nobelow20_noabove0.1_tokmin3_tokmax20_docmin50_deaccentFalse.model\n",
      "INFO : loading expElogbeta from /home/kyle/cltk_data/user_data/lda_1kgreek/gensim_lda_model_1kgrk_numtopics2_numpasses1_nobelow20_noabove0.1_tokmin3_tokmax20_docmin50_deaccentFalse.model.expElogbeta.npy with mmap=None\n",
      "INFO : setting ignored attribute dispatcher to None\n",
      "INFO : setting ignored attribute state to None\n",
      "INFO : setting ignored attribute id2word to None\n",
      "INFO : loaded /home/kyle/cltk_data/user_data/lda_1kgreek/gensim_lda_model_1kgrk_numtopics2_numpasses1_nobelow20_noabove0.1_tokmin3_tokmax20_docmin50_deaccentFalse.model\n",
      "INFO : loading LdaMulticore object from /home/kyle/cltk_data/user_data/lda_1kgreek/gensim_lda_model_1kgrk_numtopics2_numpasses1_nobelow20_noabove0.1_tokmin3_tokmax20_docmin50_deaccentFalse.model.state\n",
      "INFO : loaded /home/kyle/cltk_data/user_data/lda_1kgreek/gensim_lda_model_1kgrk_numtopics2_numpasses1_nobelow20_noabove0.1_tokmin3_tokmax20_docmin50_deaccentFalse.model.state\n",
      "INFO : loading LdaMulticore object from /home/kyle/cltk_data/user_data/lda_1kgreek/gensim_lda_model_1kgrk_numtopics3_numpasses1_nobelow20_noabove0.1_tokmin3_tokmax20_docmin50_deaccentFalse.model\n",
      "INFO : loading expElogbeta from /home/kyle/cltk_data/user_data/lda_1kgreek/gensim_lda_model_1kgrk_numtopics3_numpasses1_nobelow20_noabove0.1_tokmin3_tokmax20_docmin50_deaccentFalse.model.expElogbeta.npy with mmap=None\n",
      "INFO : setting ignored attribute dispatcher to None\n",
      "INFO : setting ignored attribute state to None\n",
      "INFO : setting ignored attribute id2word to None\n",
      "INFO : loaded /home/kyle/cltk_data/user_data/lda_1kgreek/gensim_lda_model_1kgrk_numtopics3_numpasses1_nobelow20_noabove0.1_tokmin3_tokmax20_docmin50_deaccentFalse.model\n",
      "INFO : loading LdaMulticore object from /home/kyle/cltk_data/user_data/lda_1kgreek/gensim_lda_model_1kgrk_numtopics3_numpasses1_nobelow20_noabove0.1_tokmin3_tokmax20_docmin50_deaccentFalse.model.state\n",
      "INFO : loaded /home/kyle/cltk_data/user_data/lda_1kgreek/gensim_lda_model_1kgrk_numtopics3_numpasses1_nobelow20_noabove0.1_tokmin3_tokmax20_docmin50_deaccentFalse.model.state\n",
      "INFO : loading LdaMulticore object from /home/kyle/cltk_data/user_data/lda_1kgreek/gensim_lda_model_1kgrk_numtopics5_numpasses1_nobelow20_noabove0.1_tokmin3_tokmax20_docmin50_deaccentFalse.model\n",
      "INFO : loading expElogbeta from /home/kyle/cltk_data/user_data/lda_1kgreek/gensim_lda_model_1kgrk_numtopics5_numpasses1_nobelow20_noabove0.1_tokmin3_tokmax20_docmin50_deaccentFalse.model.expElogbeta.npy with mmap=None\n",
      "INFO : setting ignored attribute dispatcher to None\n",
      "INFO : setting ignored attribute state to None\n",
      "INFO : setting ignored attribute id2word to None\n",
      "INFO : loaded /home/kyle/cltk_data/user_data/lda_1kgreek/gensim_lda_model_1kgrk_numtopics5_numpasses1_nobelow20_noabove0.1_tokmin3_tokmax20_docmin50_deaccentFalse.model\n",
      "INFO : loading LdaMulticore object from /home/kyle/cltk_data/user_data/lda_1kgreek/gensim_lda_model_1kgrk_numtopics5_numpasses1_nobelow20_noabove0.1_tokmin3_tokmax20_docmin50_deaccentFalse.model.state\n",
      "INFO : loaded /home/kyle/cltk_data/user_data/lda_1kgreek/gensim_lda_model_1kgrk_numtopics5_numpasses1_nobelow20_noabove0.1_tokmin3_tokmax20_docmin50_deaccentFalse.model.state\n",
      "INFO : loading LdaMulticore object from /home/kyle/cltk_data/user_data/lda_1kgreek/gensim_lda_model_1kgrk_numtopics10_numpasses1_nobelow20_noabove0.1_tokmin3_tokmax20_docmin50_deaccentFalse.model\n",
      "INFO : loading expElogbeta from /home/kyle/cltk_data/user_data/lda_1kgreek/gensim_lda_model_1kgrk_numtopics10_numpasses1_nobelow20_noabove0.1_tokmin3_tokmax20_docmin50_deaccentFalse.model.expElogbeta.npy with mmap=None\n",
      "INFO : setting ignored attribute dispatcher to None\n",
      "INFO : setting ignored attribute state to None\n",
      "INFO : setting ignored attribute id2word to None\n",
      "INFO : loaded /home/kyle/cltk_data/user_data/lda_1kgreek/gensim_lda_model_1kgrk_numtopics10_numpasses1_nobelow20_noabove0.1_tokmin3_tokmax20_docmin50_deaccentFalse.model\n",
      "INFO : loading LdaMulticore object from /home/kyle/cltk_data/user_data/lda_1kgreek/gensim_lda_model_1kgrk_numtopics10_numpasses1_nobelow20_noabove0.1_tokmin3_tokmax20_docmin50_deaccentFalse.model.state\n"
     ]
    },
    {
     "name": "stdout",
     "output_type": "stream",
     "text": [
      "Loading model: gensim_lda_model_1kgrk_numtopics2_numpasses1_nobelow20_noabove0.1_tokmin3_tokmax20_docmin50_deaccentFalse.model ...\n",
      "... for word intrusion testing ...\n",
      "Top 50 words of each LDA model:\n",
      "[['und', 'das', 'πεπερασμένον', 'nicht', 'ἀπείρου', 'aristoteles', 'κινοῦντος', 'μεταβάλλον', 'def', 'ist', 'mrg', 'προσεχῶς', 'νόησις', 'vulg', 'cet', 'aber', 'den', 'κινουμένῳ', 'ἀπείρῳ', 'von', 'ἠρεμεῖ', 'simpl', 'στερήσεως', 'ἠρεμία', 'εὔδημος', 'vgl', 'κατηγορίαις', 'auch', 'αὐτοκίνητον', 'sich', 'sie', 'διαιρετόν', 'κινήσεται', 'ἀίδιος', 'wie', 'νόησιν', 'φλεβοτομίας', 'κινούντων', 'κινοῖτο', 'κινηθήσεται', 'διαιρετὸν', 'ἐντελεχείᾳ', 'iterat', 'φυσικοῦ', 'ἐναντίαι', 'νοητοῦ', 'wenn', 'φθορά', 'ἀμερὲς', 'πέρατι'], ['πεπερασμένον', 'def', 'ἀπείρου', 'κινοῦντος', 'εὔδημος', 'μεταβάλλον', 'aristoteles', 'mrg', 'κινουμένῳ', 'αὐτοκίνητον', 'προσεχῶς', 'und', 'vulg', 'διαιρετὸν', 'ἠρεμεῖ', 'ἀδιαίρετον', 'στερήσεως', 'ἀλλοιώσεως', 'phys', 'διαιρετόν', 'νόησις', 'ἠρεμία', 'πεπερασμένα', 'ἀπείρῳ', 'ταὐτομάτου', 'ἀναξαγόρας', 'mon', 'καθόσον', 'ἠρεμοῦν', 'ἐναντίωσις', 'ἀμερὲς', 'κινοῖτο', 'ἠρεμίας', 'κατηγορίαις', 'φθορά', 'simpl', 'πέρατι', 'κινηθήσεται', 'ἀμερῶν', 'κινῆται', 'φυσικοῦ', 'κινοῦντα', 'κίνησίς', 'abbrev', 'ἐναντίαι', 'παρμενίδης', 'νόησιν', 'μεγεθῶν', 'ἠρεμίαν', 'ἀίδιος']]\n",
      "\n",
      "Can you spot the misplaced word in each topic?\n",
      "0: und das πεπερασμένον nicht ἠρεμίας aristoteles κινοῦντος μεταβάλλον def ist\n",
      "1: πεπερασμένον def ἀπείρου φλεβοτομίας εὔδημος μεταβάλλον aristoteles mrg κινουμένῳ αὐτοκίνητον\n",
      "Actual replacements were:\n",
      "[(0, ('ἀπείρου', 'ἠρεμίας')), (1, ('κινοῦντος', 'φλεβοτομίας'))]\n",
      "\n",
      "Loading model: gensim_lda_model_1kgrk_numtopics3_numpasses1_nobelow20_noabove0.1_tokmin3_tokmax20_docmin50_deaccentFalse.model ...\n",
      "... for word intrusion testing ...\n",
      "Top 50 words of each LDA model:\n",
      "[['und', 'def', 'πεπερασμένον', 'nicht', 'das', 'ist', 'ἀπείρου', 'κινοῦντος', 'μεταβάλλον', 'προσεχῶς', 'εὔδημος', 'κινουμένῳ', 'aber', 'mrg', 'mon', 'von', 'den', 'νόησις', 'aristoteles', 'auch', 'ἠρεμία', 'αὐτοκίνητον', 'διαιρετὸν', 'vulg', 'ἀπείρῳ', 'sie', 'vgl', 'ταὐτομάτου', 'ἀλλοιώσεως', 'ein', 'wie', 'sich', 'κινοῖτο', 'διαιρετόν', 'πέρατι', 'στερήσεως', 'ἀδιαίρετον', 'ἀμερὲς', 'ἀναξαγόρας', 'ἠρεμεῖ', 'wenn', 'καθόσον', 'κατηγορίαις', 'πεπερασμένα', 'κινοῦντα', 'phys', 'durch', 'sind', 'ἠρεμοῦν', 'mit'], ['ἀπείρου', 'πεπερασμένον', 'κινοῦντος', 'mrg', 'εὔδημος', 'aristoteles', 'def', 'vulg', 'ἠρεμεῖ', 'κινουμένῳ', 'μεταβάλλον', 'στερήσεως', 'αὐτοκίνητον', 'προσεχῶς', 'simpl', 'διαιρετὸν', 'ἀδιαίρετον', 'ἀπείρῳ', 'ἠρεμίας', 'κατηγορίαις', 'ἠρεμία', 'νόησις', 'und', 'κινῆται', 'διαιρετόν', 'φυσικοῦ', 'κινηθήσεται', 'ἀίδιος', 'ἐντελεχείᾳ', 'ταὐτομάτου', 'ἐναντίωσις', 'exc', 'πεπερασμένα', 'ἀμερὲς', 'ἠρεμίαν', 'ἀλλοιώσεως', 'ἀναξαγόρας', 'ἀλλοιώσεις', 'κινοῖτο', 'ἐναντίαι', 'παρμενίδης', 'φθορά', 'κινήσεται', 'καθόσον', 'ἀμερῶν', 'κινοῦντα', 'μεγεθῶν', 'ἠρεμοῦν', 'πέρατι', 'κίνησίς'], ['πεπερασμένον', 'def', 'aristoteles', 'μεταβάλλον', 'ἀπείρου', 'κινοῦντος', 'und', 'αὐτοκίνητον', 'προσεχῶς', 'cet', 'mrg', 'νόησις', 'das', 'εὔδημος', 'κινουμένῳ', 'vulg', 'nicht', 'simpl', 'ἀπείρῳ', 'στερήσεως', 'διαιρετόν', 'abbrev', 'ἠρεμεῖ', 'ἠρεμία', 'φθορά', 'ἀλλοιώσεως', 'ἀναξαγόρας', 'κινήσεται', 'νόησιν', 'iterat', 'phys', 'κατηγορίαις', 'διαιρετὸν', 'ἀδιαίρετον', 'πεπερασμένα', 'κίνησίς', 'ἠρεμοῦν', 'καθόσον', 'κινούντων', 'ἐναντίαι', 'ἐναντίωσις', 'ἐπιχείρημα', 'κομήτης', 'κινοῖτο', 'φυσικοῦ', 'ἀμερὲς', 'sie', 'κινηθήσεται', 'πέρατι', 'κέντρου']]\n",
      "\n",
      "Can you spot the misplaced word in each topic?\n",
      "0: und def πεπερασμένον nicht das ist ἐναντίωσις κινοῦντος μεταβάλλον προσεχῶς\n",
      "1: κομήτης πεπερασμένον κινοῦντος mrg εὔδημος aristoteles def vulg ἠρεμεῖ κινουμένῳ\n",
      "2: πεπερασμένον def aristoteles μεταβάλλον ἀπείρου κινοῦντος mon αὐτοκίνητον προσεχῶς cet\n",
      "Actual replacements were:\n",
      "[(0, ('ἀπείρου', 'ἐναντίωσις')), (1, ('ἀπείρου', 'κομήτης')), (2, ('und', 'mon'))]\n",
      "\n",
      "Loading model: gensim_lda_model_1kgrk_numtopics5_numpasses1_nobelow20_noabove0.1_tokmin3_tokmax20_docmin50_deaccentFalse.model ...\n",
      "... for word intrusion testing ...\n",
      "Top 50 words of each LDA model:\n",
      "[['und', 'πεπερασμένον', 'ἀπείρου', 'def', 'μεταβάλλον', 'aristoteles', 'mon', 'κινοῦντος', 'κινουμένῳ', 'προσεχῶς', 'mrg', 'vulg', 'das', 'ἠρεμεῖ', 'στερήσεως', 'διαιρετὸν', 'εὔδημος', 'ἀπείρῳ', 'simpl', 'nicht', 'διαιρετόν', 'ἠρεμία', 'ἐναντίωσις', 'ἀδιαίρετον', 'ταὐτομάτου', 'ἀναξαγόρας', 'κατηγορίαις', 'πέρατι', 'ἀλλοιώσεως', 'ἀίδιος', 'αὐτοκίνητον', 'νόησις', 'φυσικοῦ', 'phys', 'πεπερασμένα', 'ἐναντίαι', 'μεγεθῶν', 'κινούντων', 'ἐντελεχείᾳ', 'ἀμερὲς', 'κινήσεται', 'aber', 'auch', 'κίνησίς', 'ist', 'den', 'φθορά', 'τμῆμα', 'κινοῖτο', 'κινηθήσεται'], ['πεπερασμένον', 'μεταβάλλον', 'ἀπείρου', 'κινοῦντος', 'aristoteles', 'def', 'mrg', 'vulg', 'εὔδημος', 'αὐτοκίνητον', 'und', 'στερήσεως', 'κινουμένῳ', 'προσεχῶς', 'cet', 'ἠρεμεῖ', 'ἀπείρῳ', 'νόησις', 'κατηγορίαις', 'ἀναξαγόρας', 'simpl', 'διαιρετὸν', 'ἀδιαίρετον', 'φθορά', 'νόησιν', 'πεπερασμένα', 'das', 'κινοῦντα', 'phys', 'iterat', 'ἠρεμία', 'ἠρεμίας', 'κινοῖτο', 'ταὐτομάτου', 'κινηθήσεται', 'ἀλλοιώσεως', 'ἠρεμοῦν', 'φυσικοῦ', 'παρμενίδης', 'νοητῷ', 'nicht', 'πέρατι', 'exc', 'κινήσεται', 'κίνησίς', 'κινούντων', 'ἐπιχείρημα', 'διαιρετόν', 'ὑπέκκαυμα', 'καθόσον'], ['und', 'das', 'nicht', 'def', 'ἀπείρου', 'πεπερασμένον', 'κινοῦντος', 'von', 'ist', 'abbrev', 'aber', 'aristoteles', 'προσεχῶς', 'vgl', 'κινουμένῳ', 'den', 'sie', 'ἠρεμία', 'mrg', 'εὔδημος', 'μεταβάλλον', 'auch', 'ἠρεμεῖ', 'ἀπείρῳ', 'αὐτοκίνητον', 'vulg', 'νόησις', 'στερήσεως', 'κινήσεται', 'durch', 'κινηθήσεται', 'phys', 'nun', 'ἀλλοιώσεως', 'sich', 'ἀμερὲς', 'νόησιν', 'wenn', 'διαιρετόν', 'ἠρεμίαν', 'διαιρετὸν', 'ἀίδιος', 'κινοῦντα', 'φθορά', 'ein', 'sind', 'φυσικοῦ', 'ἐνεργεία', 'ἐναντίαι', 'wie'], ['πεπερασμένον', 'def', 'ἀπείρου', 'κινοῦντος', 'mrg', 'μεταβάλλον', 'εὔδημος', 'und', 'νόησις', 'κινουμένῳ', 'aristoteles', 'αὐτοκίνητον', 'προσεχῶς', 'ἠρεμεῖ', 'διαιρετὸν', 'ἀδιαίρετον', 'διαιρετόν', 'στερήσεως', 'ἠρεμία', 'nicht', 'καθόσον', 'simpl', 'κινοῖτο', 'ταὐτομάτου', 'vulg', 'κατηγορίαις', 'ἀπείρῳ', 'das', 'ist', 'ἀναξαγόρας', 'ἀμερὲς', 'παρμενίδης', 'νόησιν', 'ἀλλοιώσεως', 'ἀμερῶν', 'κίνησίς', 'ἐντελεχείᾳ', 'ἠρεμοῦν', 'κινῆται', 'νοητοῦ', 'phys', 'iterat', 'ἐκινεῖτο', 'φθορά', 'ἠρεμίας', 'ἄπειρόν', 'ἐναντίωσις', 'κινηθήσεται', 'πεπερασμένα', 'νοητῷ'], ['πεπερασμένον', 'def', 'εὔδημος', 'ἀπείρου', 'aristoteles', 'mrg', 'κινοῦντος', 'vulg', 'προσεχῶς', 'αὐτοκίνητον', 'κινουμένῳ', 'cet', 'μεταβάλλον', 'νόησις', 'ἀπείρῳ', 'ἠρεμίας', 'πεπερασμένα', 'ἀδιαίρετον', 'ἀλλοιώσεως', 'διαιρετόν', 'ἠρεμεῖ', 'ἠρεμία', 'διαιρετὸν', 'ἀλλʼ', 'στερήσεως', 'und', 'ἠρεμοῦν', 'κατηγορίαις', 'κινοῖτο', 'iterat', 'κινοῦντα', 'κινούντων', 'simpl', 'ἐναντίωσις', 'κινηθήσεται', 'κινῆται', 'ἀμερὲς', 'ἀναξαγόρας', 'καθόσον', 'ἠρεμίαν', 'ἐναντίαι', 'φθορά', 'φυσικοῦ', 'ταὐτομάτου', 'νόησιν', 'πέρατι', 'exc', 'nicht', 'ἀίδιος', 'τιμαίῳ']]\n",
      "\n",
      "Can you spot the misplaced word in each topic?\n",
      "0: und πεπερασμένον ἀπείρου def μεταβάλλον aristoteles mon κινοῦντος κινουμένῳ iterat\n",
      "1: πεπερασμένον μεταβάλλον ἀπείρου κινοῦντος aristoteles def mrg vulg εὔδημος ἐκινεῖτο\n",
      "2: und das nicht def ἀπείρου πεπερασμένον κινοῦντος von νοητοῦ abbrev\n",
      "3: πεπερασμένον def ἀπείρου κινοῦντος mrg μεταβάλλον εὔδημος und νόησις κινοῦντα\n",
      "4: πεπερασμένον def εὔδημος ἀπείρου aristoteles παρμενίδης κινοῦντος vulg προσεχῶς αὐτοκίνητον\n",
      "Actual replacements were:\n",
      "[(0, ('προσεχῶς', 'iterat')), (1, ('αὐτοκίνητον', 'ἐκινεῖτο')), (2, ('ist', 'νοητοῦ')), (3, ('κινουμένῳ', 'κινοῦντα')), (4, ('mrg', 'παρμενίδης'))]\n",
      "\n",
      "Loading model: gensim_lda_model_1kgrk_numtopics10_numpasses1_nobelow20_noabove0.1_tokmin3_tokmax20_docmin50_deaccentFalse.model ...\n",
      "... for word intrusion testing ...\n"
     ]
    },
    {
     "name": "stderr",
     "output_type": "stream",
     "text": [
      "INFO : loaded /home/kyle/cltk_data/user_data/lda_1kgreek/gensim_lda_model_1kgrk_numtopics10_numpasses1_nobelow20_noabove0.1_tokmin3_tokmax20_docmin50_deaccentFalse.model.state\n",
      "INFO : loading LdaMulticore object from /home/kyle/cltk_data/user_data/lda_1kgreek/gensim_lda_model_1kgrk_numtopics25_numpasses1_nobelow20_noabove0.1_tokmin3_tokmax20_docmin50_deaccentFalse.model\n",
      "INFO : loading expElogbeta from /home/kyle/cltk_data/user_data/lda_1kgreek/gensim_lda_model_1kgrk_numtopics25_numpasses1_nobelow20_noabove0.1_tokmin3_tokmax20_docmin50_deaccentFalse.model.expElogbeta.npy with mmap=None\n",
      "INFO : setting ignored attribute dispatcher to None\n",
      "INFO : setting ignored attribute state to None\n",
      "INFO : setting ignored attribute id2word to None\n",
      "INFO : loaded /home/kyle/cltk_data/user_data/lda_1kgreek/gensim_lda_model_1kgrk_numtopics25_numpasses1_nobelow20_noabove0.1_tokmin3_tokmax20_docmin50_deaccentFalse.model\n",
      "INFO : loading LdaMulticore object from /home/kyle/cltk_data/user_data/lda_1kgreek/gensim_lda_model_1kgrk_numtopics25_numpasses1_nobelow20_noabove0.1_tokmin3_tokmax20_docmin50_deaccentFalse.model.state\n",
      "INFO : loaded /home/kyle/cltk_data/user_data/lda_1kgreek/gensim_lda_model_1kgrk_numtopics25_numpasses1_nobelow20_noabove0.1_tokmin3_tokmax20_docmin50_deaccentFalse.model.state\n",
      "INFO : loading LdaMulticore object from /home/kyle/cltk_data/user_data/lda_1kgreek/gensim_lda_model_1kgrk_numtopics50_numpasses1_nobelow20_noabove0.1_tokmin3_tokmax20_docmin50_deaccentFalse.model\n",
      "INFO : loading expElogbeta from /home/kyle/cltk_data/user_data/lda_1kgreek/gensim_lda_model_1kgrk_numtopics50_numpasses1_nobelow20_noabove0.1_tokmin3_tokmax20_docmin50_deaccentFalse.model.expElogbeta.npy with mmap=None\n",
      "INFO : setting ignored attribute dispatcher to None\n",
      "INFO : setting ignored attribute state to None\n",
      "INFO : setting ignored attribute id2word to None\n",
      "INFO : loaded /home/kyle/cltk_data/user_data/lda_1kgreek/gensim_lda_model_1kgrk_numtopics50_numpasses1_nobelow20_noabove0.1_tokmin3_tokmax20_docmin50_deaccentFalse.model\n",
      "INFO : loading LdaMulticore object from /home/kyle/cltk_data/user_data/lda_1kgreek/gensim_lda_model_1kgrk_numtopics50_numpasses1_nobelow20_noabove0.1_tokmin3_tokmax20_docmin50_deaccentFalse.model.state\n",
      "INFO : loaded /home/kyle/cltk_data/user_data/lda_1kgreek/gensim_lda_model_1kgrk_numtopics50_numpasses1_nobelow20_noabove0.1_tokmin3_tokmax20_docmin50_deaccentFalse.model.state\n"
     ]
    },
    {
     "name": "stdout",
     "output_type": "stream",
     "text": [
      "Top 50 words of each LDA model:\n",
      "[['abbrev', 'πεπερασμένον', 'def', 'εὔδημος', 'ἀπείρου', 'μεταβάλλον', 'κινοῦντος', 'mrg', 'νόησις', 'aristoteles', 'κινουμένῳ', 'προσεχῶς', 'ἀπείρῳ', 'νόησιν', 'ἠρεμεῖ', 'vulg', 'στερήσεως', 'αὐτοκίνητον', 'ἀίδιος', 'νοητῷ', 'διαιρετὸν', 'κινηθήσεται', 'φθορά', 'πέρατι', 'ἀλλοιώσεως', 'κινήσεται', 'καθόσον', 'ἀλλοιώσεις', 'εὐδαιμονεῖν', 'ἀλλοιοῦσθαι', 'ἀδιαίρετον', 'ἠρεμία', 'κατηγορίαις', 'φυσικοῦ', 'τιμαίῳ', 'simpl', 'ἀναξαγόρας', 'κινοῖτο', 'ταὐτομάτου', 'διαιρετόν', 'φλεβοτομίας', 'ἐναντίωσις', 'phys', 'πάθημα', 'iterat', 'ἠρεμίας', 'τοσόνδε', 'exc', 'ἠρεμοῦν', 'κέντρου'], ['und', 'def', 'πεπερασμένον', 'aristoteles', 'κινοῦντος', 'εὔδημος', 'νόησις', 'ἀπείρου', 'αὐτοκίνητον', 'ἠρεμεῖ', 'mrg', 'μεταβάλλον', 'στερήσεως', 'κινουμένῳ', 'προσεχῶς', 'vulg', 'das', 'ἠρεμία', 'διαιρετὸν', 'φθορά', 'nicht', 'διαιρετόν', 'κινούντων', 'ἀπείρῳ', 'ἀλλοιώσεως', 'ist', 'ἀναξαγόρας', 'κατηγορίαις', 'ἀμερὲς', 'phys', 'ἐναντίωσις', 'κινοῦντα', 'κινηθήσεται', 'ἠρεμοῦν', 'superscr', 'ἀίδιος', 'νόησιν', 'φυσικοῦ', 'ἀδιαίρετον', 'κινήσεται', 'παρμενίδης', 'πέρατι', 'κινῆται', 'νοητῷ', 'simpl', 'aber', 'νοητοῦ', 'πεπερασμένα', 'ταὐτομάτου', 'macl'], ['cet', 'πεπερασμένον', 'ἀπείρου', 'def', 'vulg', 'aristoteles', 'μεταβάλλον', 'κινοῦντος', 'εὔδημος', 'κινουμένῳ', 'προσεχῶς', 'mrg', 'αὐτοκίνητον', 'ἠρεμεῖ', 'simpl', 'διαιρετὸν', 'κινηθήσεται', 'pal', 'abbrev', 'ταὐτομάτου', 'ἀμερὲς', 'ἀπείρῳ', 'ἀδιαίρετον', 'φθορά', 'ἀλλʼ', 'διαιρετόν', 'πεπερασμένα', 'ἀλλοιώσεως', 'νόησις', 'ἠρεμία', 'ἀίδιος', 'κατηγορίαις', 'στερήσεως', 'hab', 'phys', 'ἠρεμίας', 'κίνησίς', 'φλεβοτομίας', 'κεκινῆσθαι', 'ἠρεμοῦν', 'ἐναντίαι', 'κόμην', 'κινῆται', 'ἠρεμίαν', 'ἐπʼ', 'παρμενίδης', 'κινήσεται', 'κομήτης', 'ἀναξαγόρας', 'ἐντελεχείᾳ'], ['und', 'def', 'ἀπείρου', 'μεταβάλλον', 'aristoteles', 'πεπερασμένον', 'εὔδημος', 'κινουμένῳ', 'das', 'nicht', 'κινοῦντος', 'νόησις', 'προσεχῶς', 'mrg', 'αὐτοκίνητον', 'ist', 'ἀπείρῳ', 'ἠρεμεῖ', 'στερήσεως', 'vulg', 'κατηγορίαις', 'ἠρεμία', 'νόησιν', 'ἀδιαίρετον', 'simpl', 'διαιρετὸν', 'aber', 'ἀλλοιώσεως', 'ἠρεμίας', 'ἐναντίωσις', 'ταὐτομάτου', 'ἠρεμοῦν', 'διαιρετόν', 'καθόσον', 'κινοῖτο', 'ἀίδιος', 'von', 'κινήσεται', 'ἀναξαγόρας', 'ἐκινεῖτο', 'τοσόνδε', 'sie', 'πέρατι', 'vgl', 'ἐντελεχείᾳ', 'κινητικὸν', 'τμῆμα', 'ἀλλοιοῦσθαι', 'ζήνωνος', 'ἐναντίαι'], ['und', 'nicht', 'mon', 'das', 'auch', 'ist', 'aber', 'den', 'von', 'πεπερασμένον', 'sie', 'vgl', 'ἀπείρου', 'sich', 'wie', 'wenn', 'durch', 'κινοῦντος', 'ein', 'nun', 'mit', 'mrg', 'haben', 'was', 'hat', 'def', 'wird', 'μεταβάλλον', 'νόησις', 'sind', 'sondern', 'κινουμένῳ', 'προσεχῶς', 'εὔδημος', 'ἠρεμία', 'werden', 'ἀπείρῳ', 'auf', 'aristoteles', 'ἠρεμεῖ', 'vulg', 'ἀλλοιώσεως', 'damit', 'αὐτοκίνητον', 'ἠρεμίαν', 'iterat', 'διαιρετόν', 'simpl', 'νόησιν', 'στερήσεως'], ['def', 'μεταβάλλον', 'πεπερασμένον', 'κινοῦντος', 'ἀπείρου', 'aristoteles', 'εὔδημος', 'κινουμένῳ', 'στερήσεως', 'αὐτοκίνητον', 'νόησις', 'ἀδιαίρετον', 'mrg', 'προσεχῶς', 'vulg', 'ἠρεμία', 'πλανωμένων', 'καθόσον', 'ἠρεμίας', 'ἀναθυμιάσεως', 'ἀπείρῳ', 'κατηγορίαις', 'ἠρεμεῖ', 'simpl', 'νοητῷ', 'πεπερασμένα', 'νόησιν', 'ἀναξαγόρας', 'πέρατι', 'φθορά', 'τιμαίῳ', 'ἐναντίωσις', 'ἀμερὲς', 'φυσικοῦ', 'κόμην', 'κινοῖτο', 'κινοῦντα', 'νοητοῦ', 'ταὐτομάτου', 'κομήτης', 'ὑπέκκαυμα', 'ἀλλοιώσεως', 'ἐντελέχεια', 'κινήσεται', 'διαιρετὸν', 'und', 'εὐδαιμονεῖν', 'διαιρετόν', 'ὄψεων', 'κινούντων'], ['πεπερασμένον', 'mrg', 'ἀπείρου', 'προσεχῶς', 'def', 'κινουμένῳ', 'vulg', 'κινοῦντος', 'μεταβάλλον', 'εὔδημος', 'αὐτοκίνητον', 'aristoteles', 'ἠρεμία', 'ἀπείρῳ', 'ἠρεμεῖ', 'διαιρετόν', 'simpl', 'ταὐτομάτου', 'στερήσεως', 'διαιρετὸν', 'πεπερασμένα', 'κινοῖτο', 'νόησις', 'ἀδιαίρετον', 'ἀλλοιώσεως', 'ἐναντίαι', 'ἀίδιος', 'ἄπειρόν', 'ἠρεμοῦν', 'κινηθήσεται', 'ἀμερὲς', 'ἀναξαγόρας', 'ἠρεμίας', 'καθόσον', 'κινούντων', 'κινοῦντα', 'κατηγορίαις', 'phys', 'superscr', 'πέρατι', 'κινῆται', 'ἐντελεχείᾳ', 'κίνησίς', 'κινητὸν', 'φυσικοῦ', 'exc', 'ἀντίφασιν', 'ἡμίση', 'iterat', 'ἐπιχείρημα'], ['πεπερασμένον', 'κινοῦντος', 'def', 'ἀπείρου', 'μεταβάλλον', 'aristoteles', 'mrg', 'προσεχῶς', 'αὐτοκίνητον', 'εὔδημος', 'κινουμένῳ', 'vulg', 'διαιρετὸν', 'ἠρεμεῖ', 'πεπερασμένα', 'στερήσεως', 'ἀπείρῳ', 'ἀδιαίρετον', 'ἠρεμία', 'κινοῖτο', 'κατηγορίαις', 'ἐναντίωσις', 'ἀμερὲς', 'phys', 'ἀναξαγόρας', 'ἐντελεχείᾳ', 'ἐναντίαι', 'simpl', 'διαιρετόν', 'κινήσεται', 'ἀλλοιώσεως', 'πέρατι', 'καθόσον', 'παρμενίδης', 'iterat', 'und', 'φυσικοῦ', 'ἀίδιος', 'κίνησίς', 'κινοῦντα', 'ἐπιχείρημα', 'exc', 'ἠρεμοῦν', 'κινούντων', 'ταὐτομάτου', 'ἐνεργεία', 'φθορά', 'κινητὸν', 'κινητικὸν', 'ἠρεμίαν'], ['und', 'πεπερασμένον', 'def', 'das', 'aristoteles', 'κινοῦντος', 'vulg', 'ἀπείρου', 'mrg', 'μεταβάλλον', 'εὔδημος', 'ist', 'nicht', 'von', 'den', 'ἠρεμεῖ', 'κινουμένῳ', 'vgl', 'προσεχῶς', 'στερήσεως', 'sie', 'διαιρετὸν', 'αὐτοκίνητον', 'ἀναξαγόρας', 'ἠρεμία', 'ἀπείρῳ', 'aber', 'ἀδιαίρετον', 'κατηγορίαις', 'auch', 'simpl', 'διαιρετόν', 'νόησις', 'καθόσον', 'cet', 'phys', 'ἠρεμοῦν', 'ἀλλοιώσεως', 'ein', 'wenn', 'φυσικοῦ', 'κινήσεται', 'κινοῦντα', 'sich', 'φθορά', 'ἄπειρόν', 'ταὐτομάτου', 'mit', 'κινούντων', 'ἡμίση'], ['πεπερασμένον', 'ἀπείρου', 'def', 'κινοῦντος', 'aristoteles', 'μεταβάλλον', 'mrg', 'νόησις', 'εὔδημος', 'διαιρετόν', 'vulg', 'προσεχῶς', 'διαιρετὸν', 'στερήσεως', 'ἀλλʼ', 'ἠρεμεῖ', 'αὐτοκίνητον', 'κινουμένῳ', 'κατηγορίαις', 'ἠρεμία', 'ἀλλοιώσεως', 'ἀδιαίρετον', 'simpl', 'κινηθήσεται', 'νοητῷ', 'καθόσον', 'ἀπείρῳ', 'iterat', 'πεπερασμένα', 'ταὐτομάτου', 'ἠρεμίαν', 'ἠρεμίας', 'νοητοῦ', 'und', 'ἀναξαγόρας', 'ἀμερῶν', 'μεγεθῶν', 'ἐναντίαι', 'κινήσεται', 'κέντρου', 'ζήνωνος', 'νόησιν', 'ἀμερὲς', 'κινῆται', 'exc', 'κινοῦντα', 'ἐντελεχείᾳ', 'phys', 'πέρατι', 'κίνησίς']]\n",
      "\n",
      "Can you spot the misplaced word in each topic?\n",
      "0: abbrev πεπερασμένον def εὔδημος κόμην μεταβάλλον κινοῦντος mrg νόησις aristoteles\n",
      "1: und def πεπερασμένον κομήτης κινοῦντος εὔδημος νόησις ἀπείρου αὐτοκίνητον ἠρεμεῖ\n",
      "2: cet πεπερασμένον ἀπείρου def vulg aristoteles μεταβάλλον κινοῦντος ὄψεων κινουμένῳ\n",
      "3: κομήτης def ἀπείρου μεταβάλλον aristoteles πεπερασμένον εὔδημος κινουμένῳ das nicht\n",
      "4: und nicht mon das τοσόνδε ist aber den von πεπερασμένον\n",
      "5: def μεταβάλλον πεπερασμένον κινοῦντος ἀπείρου aristoteles sondern κινουμένῳ στερήσεως αὐτοκίνητον\n",
      "6: κομήτης mrg ἀπείρου προσεχῶς def κινουμένῳ vulg κινοῦντος μεταβάλλον εὔδημος\n",
      "7: πεπερασμένον κινοῦντος def ἀπείρου μεταβάλλον aristoteles mrg προσεχῶς αὐτοκίνητον wie\n",
      "8: und πεπερασμένον def das aristoteles κινοῦντος vulg ἀπείρου mrg φλεβοτομίας\n",
      "9: πεπερασμένον ἀπείρου ἐνεργεία κινοῦντος aristoteles μεταβάλλον mrg νόησις εὔδημος διαιρετόν\n",
      "Actual replacements were:\n",
      "[(0, ('ἀπείρου', 'κόμην')), (1, ('aristoteles', 'κομήτης')), (2, ('εὔδημος', 'ὄψεων')), (3, ('und', 'κομήτης')), (4, ('auch', 'τοσόνδε')), (5, ('εὔδημος', 'sondern')), (6, ('πεπερασμένον', 'κομήτης')), (7, ('εὔδημος', 'wie')), (8, ('μεταβάλλον', 'φλεβοτομίας')), (9, ('def', 'ἐνεργεία'))]\n",
      "\n",
      "Loading model: gensim_lda_model_1kgrk_numtopics25_numpasses1_nobelow20_noabove0.1_tokmin3_tokmax20_docmin50_deaccentFalse.model ...\n",
      "... for word intrusion testing ...\n",
      "Top 50 words of each LDA model:\n",
      "[['πεπερασμένον', 'ἀπείρου', 'μεταβάλλον', 'def', 'aristoteles', 'mrg', 'προσεχῶς', 'κινοῦντος', 'ἀπείρῳ', 'διαιρετὸν', 'αὐτοκίνητον', 'vulg', 'στερήσεως', 'νόησις', 'ἠρεμεῖ', 'εὔδημος', 'κίνησίς', 'simpl', 'ἠρεμία', 'κινουμένῳ', 'ἀδιαίρετον', 'κατηγορίαις', 'ἀναξαγόρας', 'ἐντελεχείᾳ', 'κινούντων', 'φυσικοῦ', 'phys', 'ἠρεμοῦν', 'κινοῦντα', 'πέρατι', 'κινοῖτο', 'διαιρετόν', 'πεπερασμένα', 'ταὐτομάτου', 'προυπάρχειν', 'ἄπειρόν', 'ἠρεμίας', 'ζήνωνος', 'ἐπιχείρημα', 'ἐναντίωσις', 'ἀίδιος', 'παρμενίδης', 'κινήσεται', 'μεταβάλλοντος', 'καθόσον', 'ἐναντίαι', 'ἀμερὲς', 'iterat', 'σύνθετα', 'νόησιν'], ['ἀπείρου', 'πεπερασμένον', 'def', 'und', 'κινοῦντος', 'aristoteles', 'abbrev', 'mrg', 'προσεχῶς', 'νόησις', 'εὔδημος', 'αὐτοκίνητον', 'μεταβάλλον', 'κινουμένῳ', 'ἠρεμία', 'ἀπείρῳ', 'στερήσεως', 'ἠρεμεῖ', 'nicht', 'das', 'κινοῖτο', 'διαιρετὸν', 'ἠρεμοῦν', 'εὐδαιμονεῖν', 'κίνησίς', 'κατηγορίαις', 'ἀδιαίρετον', 'ἀμερὲς', 'ἀναξαγόρας', 'ἐναντίωσις', 'καθόσον', 'κινηθήσεται', 'ist', 'ἀλλοιώσεως', 'vulg', 'φυσικοῦ', 'διαιρετόν', 'νοητῷ', 'νόησιν', 'κινήσεται', 'κινοῦντα', 'ἀίδιος', 'ἐναντίαι', 'iterat', 'simpl', 'ταὐτομάτου', 'φθορά', 'vgl', 'παρμενίδης', 'πέρατι'], ['cet', 'und', 'πεπερασμένον', 'κινουμένῳ', 'ἀπείρου', 'nicht', 'aristoteles', 'vulg', 'def', 'εὔδημος', 'das', 'ἀλλʼ', 'κινοῦντος', 'mrg', 'ἠρεμεῖ', 'aber', 'pal', 'μεταβάλλον', 'νόησις', 'ἐναντίωσις', 'προσεχῶς', 'διαιρετόν', 'ἀπείρῳ', 'αὐτοκίνητον', 'ἀλλοιώσεως', 'ist', 'ἠρεμία', 'auch', 'κινοῖτο', 'von', 'hab', 'sie', 'ἀδιαίρετον', 'στερήσεως', 'κινήσεται', 'διαιρετὸν', 'simpl', 'den', 'πεπερασμένα', 'iterat', 'καθόσον', 'νοητῷ', 'λίμνην', 'ἀναξαγόρας', 'φθορά', 'ἠρεμίας', 'ἐπιχείρημα', 'phys', 'νόησιν', 'vgl'], ['ἀπείρου', 'def', 'mrg', 'πεπερασμένον', 'κινοῦντος', 'αὐτοκίνητον', 'νόησις', 'εὔδημος', 'aristoteles', 'ἠρεμεῖ', 'μεταβάλλον', 'προσεχῶς', 'ἠρεμία', 'νόησιν', 'κινουμένῳ', 'διαιρετὸν', 'φλεβοτομίας', 'στερήσεως', 'κινοῖτο', 'phys', 'vulg', 'κινήσεται', 'ταὐτομάτου', 'ἀναξαγόρας', 'διαιρετόν', 'ἠρεμοῦν', 'κατηγορίαις', 'ἀπείρῳ', 'πεπερασμένα', 'ἀδιαίρετον', 'δικασταί', 'ἐναντίωσις', 'καθόσον', 'ἐναντίαι', 'ἀλλʼ', 'ἠρεμίας', 'simpl', 'ἀλλοιοῦσθαι', 'κέντρου', 'exc', 'ἄπειρόν', 'ἀλλοιώσεως', 'ἀίδιος', 'ἐπιχείρημα', 'κομήτης', 'ἠρεμίαν', 'σύνθετα', 'ὑπέκκαυμα', 'κίνησίς', 'κινούντων'], ['πεπερασμένον', 'def', 'aristoteles', 'ἀπείρου', 'mrg', 'ζεῦ', 'εὔδημος', 'κινοῦντος', 'μεταβάλλον', 'νόησις', 'αὐτοκίνητον', 'ἀπείρῳ', 'κινουμένῳ', 'προσεχῶς', 'ἠρεμεῖ', 'ἠρεμία', 'διαιρετόν', 'simpl', 'στερήσεως', 'vulg', 'κατηγορίαις', 'ἀλλοιώσεως', 'ταὐτομάτου', 'κινηθήσεται', 'νοητῷ', 'τοσόνδε', 'ἐναντίωσις', 'κομήτης', 'διαιρετὸν', 'φθορά', 'νόησιν', 'iterat', 'ἠρεμίαν', 'ἀναθυμιάσεως', 'κινοῦντα', 'ἀναξαγόρας', 'ἀίδιος', 'ἐντελεχείᾳ', 'ἀδιαίρετον', 'ἠρεμίας', 'ἀμερὲς', 'ἠρεμοῦν', 'παρμενίδης', 'κινούντων', 'φυσικοῦ', 'κίνησίς', 'κέντρου', 'ἄπειρόν', 'ἐναντίαι', 'ὄψεων'], ['def', 'κινοῦντος', 'πεπερασμένον', 'ἀπείρου', 'vulg', 'εὔδημος', 'cet', 'κινουμένῳ', 'mrg', 'αὐτοκίνητον', 'ἠρεμεῖ', 'μεταβάλλον', 'aristoteles', 'προσεχῶς', 'στερήσεως', 'νόησις', 'simpl', 'διαιρετόν', 'ἀπείρῳ', 'ἀλλοιώσεως', 'ἠρεμία', 'πεπερασμένα', 'ἀδιαίρετον', 'ἀλλʼ', 'διαιρετὸν', 'ἐναντίαι', 'ἀμερὲς', 'κατηγορίαις', 'πέρατι', 'φθορά', 'κινήσεται', 'ἀναξαγόρας', 'κινηθήσεται', 'ἠρεμίας', 'phys', 'ἐναντίωσις', 'ἠρεμίαν', 'κινοῖτο', 'iterat', 'ἀίδιος', 'ἠρεμοῦν', 'ἐντελεχείᾳ', 'κινούντων', 'ἀλλοιοῦσθαι', 'κινητικὸν', 'καθόσον', 'εὐδαιμονεῖν', 'ἀμερῶν', 'κίνησίς', 'ζήνωνος'], ['mon', 'abbrev', 'πεπερασμένον', 'def', 'ἀπείρου', 'μεταβάλλον', 'mrg', 'νόησις', 'aristoteles', 'κινοῦντος', 'ἠρεμεῖ', 'cet', 'εὔδημος', 'κινουμένῳ', 'vulg', 'προσεχῶς', 'νόησιν', 'var', 'αὐτοκίνητον', 'στερήσεως', 'simpl', 'phys', 'ἀπείρῳ', 'macl', 'καθόσον', 'διαιρετὸν', 'ἀλλοιώσεως', 'κατηγορίαις', 'ἐναντίαι', 'ἠρεμίαν', 'κινοῦντα', 'φθορά', 'νοητῷ', 'ἀναξαγόρας', 'κομήτης', 'ἠρεμία', 'κινούντων', 'ἠρεμοῦν', 'πέρατι', 'διαιρετόν', 'νοητοῦ', 'κινηθήσεται', 'συζυγία', 'ἀλλοιοῦσθαι', 'ἀίδιος', 'κίνησίς', 'ἐναντίωσις', 'ἐκινεῖτο', 'ἠρεμίας', 'ποιότητες'], ['und', 'das', 'nicht', 'ist', 'πεπερασμένον', 'def', 'auch', 'ἀπείρου', 'mrg', 'μεταβάλλον', 'κινοῦντος', 'aber', 'den', 'προσεχῶς', 'von', 'εὔδημος', 'aristoteles', 'vgl', 'sie', 'κινουμένῳ', 'στερήσεως', 'ein', 'sind', 'sich', 'ἠρεμεῖ', 'διαιρετὸν', 'durch', 'wenn', 'ἀλλοιώσεως', 'vulg', 'wie', 'ἠρεμία', 'ἀναξαγόρας', 'νόησις', 'κατηγορίαις', 'αὐτοκίνητον', 'ἀπείρῳ', 'sondern', 'διαιρετόν', 'mit', 'κινούντων', 'κινήσεται', 'nun', 'wird', 'haben', 'κινηθήσεται', 'ταὐτομάτου', 'ἀδιαίρετον', 'καθόσον', 'φθορά'], ['und', 'das', 'nicht', 'ist', 'von', 'sie', 'den', 'aber', 'auch', 'durch', 'wenn', 'sich', 'vgl', 'mit', 'nun', 'sind', 'wie', 'ἀπείρου', 'μεταβάλλον', 'πεπερασμένον', 'def', 'sondern', 'werden', 'haben', 'was', 'mrg', 'hat', 'ein', 'wird', 'auf', 'damit', 'προσεχῶς', 'στερήσεως', 'κινοῦντος', 'vulg', 'aristoteles', 'εὔδημος', 'ἀπείρῳ', 'act', 'ich', 'νόησις', 'κινουμένῳ', 'noch', 'αὐτοκίνητον', 'als', 'über', 'oder', 'διαιρετὸν', 'eine', 'einem'], ['πεπερασμένον', 'κινοῦντος', 'def', 'aristoteles', 'μεταβάλλον', 'mrg', 'εὔδημος', 'ἀπείρου', 'κινουμένῳ', 'ἠρεμεῖ', 'στερήσεως', 'προσεχῶς', 'αὐτοκίνητον', 'ἀπείρῳ', 'vulg', 'ἀλλοιώσεως', 'ἀδιαίρετον', 'simpl', 'διαιρετὸν', 'φθορά', 'πέρατι', 'κινηθήσεται', 'ἠρεμία', 'ἀναξαγόρας', 'κατηγορίαις', 'φυσικοῦ', 'phys', 'ἠρεμοῦν', 'ἐναντίωσις', 'ταὐτομάτου', 'διαιρετόν', 'καθόσον', 'κομήτης', 'κίνησίς', 'ἠρεμίαν', 'κινῆται', 'κέντρου', 'ἠρεμίας', 'iterat', 'ἐπιχείρημα', 'κινοῖτο', 'τμῆμα', 'ἄπειρόν', 'ὄψεων', 'μεγεθῶν', 'ἐντελεχείᾳ', 'ὁρισμὸν', 'ἀίδιος', 'κινητὸν', 'ἀλλοιοῦσθαι'], ['mon', 'def', 'πεπερασμένον', 'ἀπείρου', 'μεταβάλλον', 'aristoteles', 'προσεχῶς', 'mrg', 'εὔδημος', 'κινοῦντος', 'ἠρεμεῖ', 'νόησις', 'κινουμένῳ', 'στερήσεως', 'κατηγορίαις', 'vulg', 'αὐτοκίνητον', 'πέρατι', 'κινῆται', 'ἀναξαγόρας', 'ἀδιαίρετον', 'διαιρετὸν', 'phys', 'ἠρεμία', 'φθορά', 'κινοῖτο', 'πεπερασμένα', 'ἐναντίαι', 'νόησιν', 'κινηθήσεται', 'ἀμερὲς', 'ἀπείρῳ', 'ἀλλοιώσεως', 'ἠρεμίαν', 'ἀίδιος', 'φυσικοῦ', 'νοητῷ', 'ταὐτομάτου', 'ὑψίστου', 'ἠρεμοῦν', 'διαιρετόν', 'simpl', 'macl', 'καθόσον', 'κινητικὸν', 'ἔναντι', 'ἐντελεχείᾳ', 'iterat', 'κίνησίς', 'κέντρου'], ['ἀπείρου', 'πεπερασμένον', 'def', 'κινοῦντος', 'μεταβάλλον', 'εὔδημος', 'aristoteles', 'αὐτοκίνητον', 'ἠρεμεῖ', 'mrg', 'vulg', 'διαιρετὸν', 'ἠρεμία', 'ἀπείρῳ', 'ἀναξαγόρας', 'κινουμένῳ', 'macl', 'κινοῖτο', 'προσεχῶς', 'διαιρετόν', 'ἀδιαίρετον', 'ἐναντίαι', 'κίνησίς', 'στερήσεως', 'ἐναντίωσις', 'νόησις', 'κατηγορίαις', 'ταὐτομάτου', 'πέρατι', 'ἀλλοιώσεως', 'ἠρεμίας', 'πεπερασμένα', 'ἀίδιος', 'cet', 'κινήσεται', 'ζήνωνος', 'ἐντελεχείᾳ', 'simpl', 'τμῆμα', 'καθόσον', 'ἀμερῶν', 'ἐκινεῖτο', 'φλεβοτομίας', 'ἀμερὲς', 'ἀμερῆ', 'iterat', 'κινούντων', 'φθορά', 'ἄπειρόν', 'ὁρισμὸν'], ['ἀπείρου', 'def', 'vulg', 'πεπερασμένον', 'κινοῦντος', 'προσεχῶς', 'aristoteles', 'εὔδημος', 'νόησις', 'mrg', 'μεταβάλλον', 'κινουμένῳ', 'αὐτοκίνητον', 'στερήσεως', 'διαιρετὸν', 'ξενίας', 'gasda', 'δημοσθένης', 'vab', 'ἠρεμία', 'ἀμερὲς', 'ἀλλοιώσεως', 'ἐναντίωσις', 'ἀδιαίρετον', 'κινοῖτο', 'ἀναξαγόρας', 'phys', 'φυσικοῦ', 'φλεβοτομίας', 'ἠρεμίας', 'ἀπείρῳ', 'ἠρεμεῖ', 'πεπερασμένα', 'διαιρετόν', 'und', 'νοητοῦ', 'κατηγορίαις', 'exc', 'νόησιν', 'κινούντων', 'iterat', 'φθορά', 'ἐπιχείρημα', 'φίλιππος', 'ἐνεργεία', 'simpl', 'παρμενίδης', 'ἀμερῶν', 'κινηθήσεται', 'ἀναθυμιάσεως'], ['und', 'das', 'nicht', 'ist', 'den', 'aber', 'vgl', 'auch', 'von', 'sie', 'wie', 'πεπερασμένον', 'ein', 'sind', 'wenn', 'hat', 'sich', 'mit', 'cet', 'wird', 'nun', 'durch', 'mrg', 'ἀπείρου', 'haben', 'εὔδημος', 'sondern', 'def', 'was', 'werden', 'auf', 'κινοῦντος', 'κινουμένῳ', 'μεταβάλλον', 'vulg', 'aristoteles', 'damit', 'oder', 'act', 'αὐτοκίνητον', 'kor', 'ἠρεμία', 'vor', 'ταὐτομάτου', 'noch', 'ἠρεμεῖ', 'als', 'στερήσεως', 'ὑψίστου', 'προσεχῶς'], ['πεπερασμένον', 'ἀπείρου', 'def', 'μεταβάλλον', 'cet', 'κινοῦντος', 'aristoteles', 'προσεχῶς', 'νόησις', 'κινουμένῳ', 'vulg', 'εὔδημος', 'αὐτοκίνητον', 'mrg', 'διαιρετόν', 'στερήσεως', 'ὑπέκκαυμα', 'κομήτης', 'simpl', 'und', 'ὄψεων', 'ἀπείρῳ', 'ἀναξαγόρας', 'κόμην', 'ἠρεμεῖ', 'iterat', 'κινοῖτο', 'νόησιν', 'φθορά', 'ἀδιαίρετον', 'ἠρεμίας', 'κινηθήσεται', 'κατηγορίαις', 'κέντρου', 'ἀμερὲς', 'ἀναθυμιάσεως', 'διαιρετὸν', 'ἀλλʼ', 'πλανωμένων', 'ἠρεμία', 'καθόσον', 'νέφη', 'πέρατι', 'κινούντων', 'ἐνεργεία', 'phys', 'ἀλλοιώσεως', 'ἐντελεχείᾳ', 'ἠρεμοῦν', 'τιμαίῳ'], ['und', 'κινοῦντος', 'def', 'πεπερασμένον', 'ἀπείρου', 'nicht', 'mrg', 'ist', 'das', 'μεταβάλλον', 'aristoteles', 'εὔδημος', 'προσεχῶς', 'κινουμένῳ', 'vulg', 'aber', 'von', 'auch', 'πεπερασμένα', 'simpl', 'στερήσεως', 'sich', 'vgl', 'κατηγορίαις', 'den', 'ἀδιαίρετον', 'sie', 'ἀπείρῳ', 'κινοῖτο', 'ταὐτομάτου', 'αὐτοκίνητον', 'ἠρεμία', 'κινούντων', 'wie', 'κινηθήσεται', 'ἀμερὲς', 'ἀλλοιώσεως', 'διαιρετὸν', 'καθόσον', 'τμῆμα', 'διαιρετόν', 'ἠρεμεῖ', 'ἐναντίαι', 'ἠρεμίας', 'ἀίδιος', 'ἀναξαγόρας', 'ein', 'φθορά', 'κινῆται', 'ἄπειρόν'], ['κινοῦντος', 'πεπερασμένον', 'ἀπείρου', 'def', 'mrg', 'aristoteles', 'μεταβάλλον', 'κινουμένῳ', 'εὔδημος', 'αὐτοκίνητον', 'κινοῦντα', 'ἠρεμεῖ', 'προσεχῶς', 'στερήσεως', 'ἀπείρῳ', 'vulg', 'ἠρεμία', 'ἀρτηρίαις', 'σφυγμῶν', 'νόησις', 'ἠρεμοῦν', 'διαιρετόν', 'ἀναξαγόρας', 'ἀδιαίρετον', 'κατηγορίαις', 'κινοῖτο', 'simpl', 'ἀλλοιώσεως', 'κινηθήσεται', 'φθορά', 'νόησιν', 'ταὐτομάτου', 'κινούντων', 'διαιρετὸν', 'ἐναντίωσις', 'ἀίδιος', 'καθόσον', 'φυσικοῦ', 'πεπερασμένα', 'φλεβοτομίας', 'ἀμερὲς', 'νοητῷ', 'προυπάρχειν', 'κινῆται', 'ἐντελέχεια', 'ἀρτηρίαι', 'phys', 'ἠρεμίας', 'ἠρεμίαν', 'ἐναντίωσιν'], ['und', 'das', 'nicht', 'ist', 'μεταβάλλον', 'def', 'aber', 'πεπερασμένον', 'von', 'aristoteles', 'κινουμένῳ', 'ἀπείρου', 'auch', 'vgl', 'εὔδημος', 'κινοῦντος', 'sie', 'προσεχῶς', 'wie', 'mrg', 'sich', 'διαιρετόν', 'den', 'νόησις', 'ein', 'mit', 'στερήσεως', 'αὐτοκίνητον', 'durch', 'wenn', 'ἀδιαίρετον', 'nun', 'simpl', 'διαιρετὸν', 'sind', 'ἠρεμία', 'wird', 'ταὐτομάτου', 'was', 'καθόσον', 'ἠρεμεῖ', 'hat', 'κατηγορίαις', 'ἠρεμίαν', 'ἀπείρῳ', 'ἐπιχείρημα', 'ἀναξαγόρας', 'vulg', 'sondern', 'ἐναντίαι'], ['πεπερασμένον', 'def', 'aristoteles', 'εὔδημος', 'νόησις', 'κινοῦντος', 'προσεχῶς', 'ἀπείρου', 'ἠρεμεῖ', 'μεταβάλλον', 'und', 'nicht', 'κινουμένῳ', 'das', 'ἠρεμία', 'mrg', 'αὐτοκίνητον', 'ἀίδιος', 'vulg', 'ἀδιαίρετον', 'ταὐτομάτου', 'κινοῖτο', 'στερήσεως', 'ἀναξαγόρας', 'κινηθήσεται', 'νοητῷ', 'ἀπείρῳ', 'νόησιν', 'ἀμερὲς', 'πέρατι', 'ἐπιχείρημα', 'διαιρετὸν', 'φθορά', 'κίνησίς', 'ἀλλοιώσεως', 'κέντρου', 'νοητοῦ', 'κατηγορίαις', 'διαιρετόν', 'κινήσεται', 'ἠρεμίας', 'simpl', 'κινῆται', 'ἀμερῶν', 'ist', 'phys', 'ἄπειρόν', 'ἐντελεχείᾳ', 'κομήτης', 'ἠρεμίαν'], ['und', 'πεπερασμένον', 'ἀπείρου', 'das', 'nicht', 'ist', 'κινοῦντος', 'aristoteles', 'εὔδημος', 'μεταβάλλον', 'aber', 'mrg', 'def', 'προσεχῶς', 'vgl', 'αὐτοκίνητον', 'den', 'κινουμένῳ', 'von', 'wie', 'auch', 'sich', 'sie', 'vulg', 'ἠρεμία', 'ἀπείρῳ', 'ἀλλοιώσεως', 'διαιρετὸν', 'στερήσεως', 'ἠρεμεῖ', 'mit', 'ein', 'ἀναξαγόρας', 'κατηγορίαις', 'sind', 'ἠρεμίαν', 'simpl', 'διαιρετόν', 'durch', 'nun', 'iterat', 'hat', 'ἠρεμοῦν', 'phys', 'κομήτης', 'κινοῦντα', 'ἐναντίαι', 'ἀλλοιοῦσθαι', 'wird', 'φθορά'], ['πεπερασμένον', 'def', 'κινοῦντος', 'μεταβάλλον', 'aristoteles', 'ἀπείρου', 'εὔδημος', 'κινουμένῳ', 'mrg', 'διαιρετὸν', 'ἀδιαίρετον', 'vulg', 'ἠρεμεῖ', 'ἠρεμία', 'νόησις', 'αὐτοκίνητον', 'προσεχῶς', 'ἀπείρῳ', 'στερήσεως', 'ἀναξαγόρας', 'ἀλλοιώσεως', 'ἠρεμίας', 'simpl', 'διαιρετόν', 'κατηγορίαις', 'καθόσον', 'ταὐτομάτου', 'κινήσεται', 'ἐναντίωσις', 'πεπερασμένα', 'ἀμερὲς', 'ἀίδιος', 'φυσικῷ', 'νόησιν', 'ἐναντίαι', 'παρμενίδης', 'κινοῦντα', 'iterat', 'πέρατι', 'κινῆται', 'phys', 'κινοῖτο', 'ἄπειρόν', 'ἠρεμοῦν', 'ἐντελεχείᾳ', 'ἐνεργεία', 'ἡμίση', 'φυσικοῦ', 'ἀλλοιοῦσθαι', 'ἀλλʼ'], ['ἀπείρου', 'πεπερασμένον', 'κινοῦντος', 'def', 'aristoteles', 'εὔδημος', 'προσεχῶς', 'μεταβάλλον', 'mrg', 'ἠρεμία', 'κινουμένῳ', 'vulg', 'αὐτοκίνητον', 'und', 'ἀπείρῳ', 'ἠρεμεῖ', 'διαιρετὸν', 'simpl', 'πεπερασμένα', 'ταὐτομάτου', 'νόησις', 'καθόσον', 'ἀλλοιώσεως', 'φυσικοῦ', 'στερήσεως', 'ἀδιαίρετον', 'διαιρετόν', 'κινοῦντα', 'ἐναντίωσις', 'νόησιν', 'ἠρεμοῦν', 'κινοῖτο', 'ἀίδιος', 'κατηγορίαις', 'κίνησίς', 'προυπάρχειν', 'ἐντελεχείᾳ', 'κινηθήσεται', 'ἀμερῶν', 'κινήσεται', 'nicht', 'das', 'μεγεθῶν', 'exc', 'ἐντελέχεια', 'ζήνωνος', 'τιμαίῳ', 'κινητὸν', 'ἐκινεῖτο', 'φθορά'], ['πεπερασμένον', 'def', 'mrg', 'ἀπείρου', 'μεταβάλλον', 'aristoteles', 'κινοῦντος', 'κινουμένῳ', 'εὔδημος', 'στερήσεως', 'νόησις', 'προσεχῶς', 'ἠρεμοῦν', 'αὐτοκίνητον', 'ἀδιαίρετον', 'vulg', 'mon', 'ἠρεμεῖ', 'διαιρετόν', 'διαιρετὸν', 'κινηθήσεται', 'ἐνεργεία', 'πεπερασμένα', 'κινοῖτο', 'νοητῷ', 'ἠρεμία', 'φθορά', 'ἀναξαγόρας', 'simpl', 'ἀπείρῳ', 'ἠρεμίας', 'νόησιν', 'κινήσεται', 'ἀμερὲς', 'κινούντων', 'κίνησίς', 'ἐναντίαι', 'ἀλλοιώσεως', 'κόμην', 'ἐναντίωσις', 'φυσικοῦ', 'πέρατι', 'κινοῦντα', 'κινῆται', 'μεγεθῶν', 'κομήτης', 'ἀλλοιώσεις', 'εὐδαιμονεῖν', 'ὑπέκκαυμα', 'ἐπιχείρημα'], ['πεπερασμένον', 'ἀπείρου', 'mrg', 'κινοῦντος', 'προσεχῶς', 'κινουμένῳ', 'def', 'εὔδημος', 'vulg', 'μεταβάλλον', 'ἀπείρῳ', 'νόησις', 'ἠρεμία', 'αὐτοκίνητον', 'κατηγορίαις', 'ἠρεμεῖ', 'aristoteles', 'στερήσεως', 'simpl', 'διαιρετὸν', 'phys', 'διαιρετόν', 'ταὐτομάτου', 'ἀλλοιώσεως', 'ἀδιαίρετον', 'φθορά', 'πεπερασμένα', 'καθόσον', 'ἠρεμίας', 'iterat', 'ἀίδιος', 'πέρατι', 'κινηθήσεται', 'ἀμερὲς', 'ἐναντίωσις', 'ἠρεμίαν', 'ἄπειρόν', 'ἀναξαγόρας', 'σύνθετα', 'ἠρεμοῦν', 'ἐντελεχείᾳ', 'νόησιν', 'ἐκινεῖτο', 'τοσόνδε', 'κινούντων', 'ζήνωνος', 'ἐνεργεία', 'φυσικοῦ', 'φυσικῷ', 'κινῆται'], ['πεπερασμένον', 'def', 'ἀπείρου', 'aristoteles', 'vulg', 'μεταβάλλον', 'κινοῦντος', 'προσεχῶς', 'κινουμένῳ', 'mrg', 'αὐτοκίνητον', 'ἠρεμεῖ', 'εὔδημος', 'κινήσεται', 'ταὐτομάτου', 'νόησις', 'διαιρετὸν', 'ἀπείρῳ', 'ἀδιαίρετον', 'πεπερασμένα', 'phys', 'διαιρετόν', 'στερήσεως', 'ἀμερὲς', 'simpl', 'κατηγορίαις', 'ἐναντίαι', 'κινηθήσεται', 'ἀίδιος', 'κινῆται', 'πέρατι', 'ἀλλοιώσεως', 'μεγεθῶν', 'ἠρεμίας', 'exc', 'ἐπιχείρημα', 'φθορά', 'φυσικοῦ', 'κινοῦντα', 'iterat', 'ἀναξαγόρας', 'ἠρεμίαν', 'ἠρεμοῦν', 'κινούντων', 'ζήνωνος', 'ἀλλοιώσεις', 'ἠρεμία', 'κινοῖτο', 'φθειρόμενον', 'superscr']]\n",
      "\n",
      "Can you spot the misplaced word in each topic?\n",
      "0: vor ἀπείρου μεταβάλλον def aristoteles mrg προσεχῶς κινοῦντος ἀπείρῳ διαιρετὸν\n",
      "1: ἀπείρου πεπερασμένον def und κινοῦντος aristoteles eine mrg προσεχῶς νόησις\n",
      "2: cet und πεπερασμένον κινουμένῳ ἀπείρου nicht aristoteles vulg def ἠρεμοῦν\n",
      "3: ἀπείρου def mrg ἀρτηρίαι κινοῦντος αὐτοκίνητον νόησις εὔδημος aristoteles ἠρεμεῖ\n",
      "4: πεπερασμένον def aristoteles ἀπείρου mrg ζεῦ εὔδημος ὁρισμὸν μεταβάλλον νόησις\n",
      "5: def κινοῦντος πεπερασμένον ἀπείρου vulg εὔδημος cet κινουμένῳ mrg als\n",
      "6: mon abbrev πεπερασμένον def ἔναντι μεταβάλλον mrg νόησις aristoteles κινοῦντος\n",
      "7: und das nicht ist πεπερασμένον def auch ἀμερῶν mrg μεταβάλλον\n",
      "8: und das nicht ist simpl sie den aber auch durch\n",
      "9: πεπερασμένον κινοῦντος def aristoteles durch mrg εὔδημος ἀπείρου κινουμένῳ ἠρεμεῖ\n",
      "10: mon def πεπερασμένον ἀπείρου ἐκινεῖτο aristoteles προσεχῶς mrg εὔδημος κινοῦντος\n",
      "11: ἀπείρου πεπερασμένον def δικασταί μεταβάλλον εὔδημος aristoteles αὐτοκίνητον ἠρεμεῖ mrg\n",
      "12: ἀπείρου def superscr πεπερασμένον κινοῦντος προσεχῶς aristoteles εὔδημος νόησις mrg\n",
      "13: und ἐναντίωσις nicht ist den aber vgl auch von sie\n",
      "14: πεπερασμένον ἀπείρου def μεταβάλλον cet κινοῦντος aristoteles προσεχῶς νόησις ἀίδιος\n",
      "15: und κινοῦντος def πεπερασμένον νόησις nicht mrg ist das μεταβάλλον\n",
      "16: κινοῦντος πεπερασμένον ἀπείρου def mrg aristoteles μεταβάλλον τοσόνδε εὔδημος αὐτοκίνητον\n",
      "17: und das nicht ist μεταβάλλον ἀλλοιώσεως aber πεπερασμένον von aristoteles\n",
      "18: πεπερασμένον def aristoteles εὔδημος νόησις κινοῦντος προσεχῶς macl ἠρεμεῖ μεταβάλλον\n",
      "19: und auf ἀπείρου das nicht ist κινοῦντος aristoteles εὔδημος μεταβάλλον\n",
      "20: πεπερασμένον def κομήτης μεταβάλλον aristoteles ἀπείρου εὔδημος κινουμένῳ mrg διαιρετὸν\n",
      "21: ἀπείρου πεπερασμένον κινοῦντος def aristoteles εὔδημος προσεχῶς ὑψίστου mrg ἠρεμία\n",
      "22: πεπερασμένον def mrg ἀπείρου μεταβάλλον aristoteles ἠρεμίαν κινουμένῳ εὔδημος στερήσεως\n",
      "23: πεπερασμένον ἀπείρου mrg κινοῦντος προσεχῶς κινουμένῳ def εὔδημος vulg den\n",
      "24: πεπερασμένον def νοητῷ aristoteles vulg μεταβάλλον κινοῦντος προσεχῶς κινουμένῳ mrg\n",
      "Actual replacements were:\n",
      "[(0, ('πεπερασμένον', 'vor')), (1, ('abbrev', 'eine')), (2, ('εὔδημος', 'ἠρεμοῦν')), (3, ('πεπερασμένον', 'ἀρτηρίαι')), (4, ('κινοῦντος', 'ὁρισμὸν')), (5, ('αὐτοκίνητον', 'als')), (6, ('ἀπείρου', 'ἔναντι')), (7, ('ἀπείρου', 'ἀμερῶν')), (8, ('von', 'simpl')), (9, ('μεταβάλλον', 'durch')), (10, ('μεταβάλλον', 'ἐκινεῖτο')), (11, ('κινοῦντος', 'δικασταί')), (12, ('vulg', 'superscr')), (13, ('das', 'ἐναντίωσις')), (14, ('κινουμένῳ', 'ἀίδιος')), (15, ('ἀπείρου', 'νόησις')), (16, ('κινουμένῳ', 'τοσόνδε')), (17, ('def', 'ἀλλοιώσεως')), (18, ('ἀπείρου', 'macl')), (19, ('πεπερασμένον', 'auf')), (20, ('κινοῦντος', 'κομήτης')), (21, ('μεταβάλλον', 'ὑψίστου')), (22, ('κινοῦντος', 'ἠρεμίαν')), (23, ('μεταβάλλον', 'den')), (24, ('ἀπείρου', 'νοητῷ'))]\n",
      "\n",
      "Loading model: gensim_lda_model_1kgrk_numtopics50_numpasses1_nobelow20_noabove0.1_tokmin3_tokmax20_docmin50_deaccentFalse.model ...\n",
      "... for word intrusion testing ...\n"
     ]
    },
    {
     "name": "stderr",
     "output_type": "stream",
     "text": [
      "INFO : loading LdaMulticore object from /home/kyle/cltk_data/user_data/lda_1kgreek/gensim_lda_model_1kgrk_numtopics55_numpasses1_nobelow20_noabove0.1_tokmin3_tokmax20_docmin50_deaccentFalse.model\n",
      "INFO : loading expElogbeta from /home/kyle/cltk_data/user_data/lda_1kgreek/gensim_lda_model_1kgrk_numtopics55_numpasses1_nobelow20_noabove0.1_tokmin3_tokmax20_docmin50_deaccentFalse.model.expElogbeta.npy with mmap=None\n",
      "INFO : setting ignored attribute dispatcher to None\n",
      "INFO : setting ignored attribute state to None\n",
      "INFO : setting ignored attribute id2word to None\n",
      "INFO : loaded /home/kyle/cltk_data/user_data/lda_1kgreek/gensim_lda_model_1kgrk_numtopics55_numpasses1_nobelow20_noabove0.1_tokmin3_tokmax20_docmin50_deaccentFalse.model\n",
      "INFO : loading LdaMulticore object from /home/kyle/cltk_data/user_data/lda_1kgreek/gensim_lda_model_1kgrk_numtopics55_numpasses1_nobelow20_noabove0.1_tokmin3_tokmax20_docmin50_deaccentFalse.model.state\n",
      "INFO : loaded /home/kyle/cltk_data/user_data/lda_1kgreek/gensim_lda_model_1kgrk_numtopics55_numpasses1_nobelow20_noabove0.1_tokmin3_tokmax20_docmin50_deaccentFalse.model.state\n"
     ]
    },
    {
     "name": "stdout",
     "output_type": "stream",
     "text": [
      "Top 50 words of each LDA model:\n",
      "[['cet', 'ἀπείρου', 'πεπερασμένον', 'aristoteles', 'def', 'κινοῦντος', 'εὔδημος', 'vulg', 'μεταβάλλον', 'κινουμένῳ', 'νόησις', 'προσεχῶς', 'mrg', 'διαιρετόν', 'simpl', 'ἠρεμεῖ', 'ἀπείρῳ', 'αὐτοκίνητον', 'ἠρεμία', 'ἀρτηρίαις', 'σφυγμῶν', 'νόησιν', 'διαιρετὸν', 'στερήσεως', 'hab', 'ἀναξαγόρας', 'ἀλλοιώσεως', 'ἀδιαίρετον', 'νοητοῦ', 'κινοῖτο', 'ἀλλʼ', 'πέρατι', 'pal', 'κινούντων', 'ἀμερὲς', 'καθόσον', 'ἠρεμοῦν', 'πεπερασμένα', 'ἐπʼ', 'φλεγμονῆς', 'ἀρτηρίαι', 'κινηθήσεται', 'κατηγορίαις', 'ἀλλοιοῦσθαι', 'νοητῷ', 'ἐνεργεία', 'κινήσεται', 'φθορά', 'ἠρεμίαν', 'ἄπειρόν'], ['mon', 'var', 'πεπερασμένον', 'aristoteles', 'ἀπείρου', 'def', 'μεταβάλλον', 'κινουμένῳ', 'κινοῦντος', 'εὔδημος', 'αὐτοκίνητον', 'macl', 'ferr', 'προσεχῶς', 'ἠρεμεῖ', 'mrg', 'στερήσεως', 'κατηγορίαις', 'simpl', 'διαιρετόν', 'ἠρεμία', 'ἀδιαίρετον', 'ξένους', 'ἀπείρῳ', 'μάνθανε', 'ἀίδιος', 'πειρῶ', 'pseudo', 'σιγᾶν', 'πέρατι', 'vulg', 'καθόσον', 'κινήσεται', 'ἠρεμοῦν', 'ταὐτομάτου', 'ἀμερὲς', 'ἀλλοιώσεως', 'κινούντων', 'κινῆται', 'bva', 'διαιρετὸν', 'κινοῦντα', 'κινοῖτο', 'πεπερασμένα', 'ἐντελεχείᾳ', 'ἀμερῶν', 'ἐναντίωσις', 'riv', 'φυσικῷ', 'exc'], ['cet', 'πεπερασμένον', 'def', 'vulg', 'κινοῦντος', 'ἀπείρου', 'aristoteles', 'εὔδημος', 'μεταβάλλον', 'προσεχῶς', 'und', 'ἠρεμεῖ', 'κινουμένῳ', 'pal', 'mrg', 'στερήσεως', 'νόησις', 'αὐτοκίνητον', 'ἀπείρῳ', 'ἠρεμία', 'ἐντελεχείᾳ', 'ἀναξαγόρας', 'κινηθήσεται', 'διαιρετὸν', 'hab', 'ταὐτομάτου', 'φυσικοῦ', 'das', 'ἀλλοιώσεως', 'καθόσον', 'ἀμερὲς', 'κινοῖτο', 'phys', 'ἀίδιος', 'διαιρετόν', 'ἀλλοιοῦσθαι', 'ἀδιαίρετον', 'nicht', 'ἐναντίωσις', 'εὐδαιμονεῖν', 'κινοῦντα', 'πεπερασμένα', 'ἀφίκετο', 'ἐπʼ', 'ἐναντίαι', 'κινήσεται', 'ἀμερῶν', 'simpl', 'φθορά', 'ἐπιχείρημα'], ['def', 'κινοῦντος', 'ἀπείρου', 'aristoteles', 'μεταβάλλον', 'πεπερασμένον', 'κινουμένῳ', 'αὐτοκίνητον', 'νόησις', 'ἠρεμία', 'ἠρεμεῖ', 'προσεχῶς', 'εὔδημος', 'mrg', 'νοητῷ', 'διαιρετὸν', 'ἀδιαίρετον', 'νόησιν', 'ἀλλοιώσεως', 'στερήσεως', 'vab', 'ἀπείρῳ', 'κατηγορίαις', 'simpl', 'ξενίας', 'πεπερασμένα', 'κινοῦντα', 'διαιρετόν', 'δημοσθένης', 'phys', 'ἠρεμίας', 'κινήσεται', 'πέρατι', 'vulg', 'gasda', 'ἀίδιος', 'ὑψίστου', 'ἀμερὲς', 'ἀναξαγόρας', 'τιμαίῳ', 'φθορά', 'κινούντων', 'κίνησίς', 'ἐναντίαι', 'φλεβοτομίας', 'πεπερασμένου', 'ὑπέκκαυμα', 'ἀιδίου', 'φλεγμονῆς', 'καθόσον'], ['πεπερασμένον', 'ἀπείρου', 'mrg', 'μεταβάλλον', 'αὐτοκίνητον', 'κινοῦντος', 'προσεχῶς', 'aristoteles', 'def', 'vulg', 'εὔδημος', 'simpl', 'κινουμένῳ', 'ἀπείρῳ', 'ἠρεμία', 'στερήσεως', 'ἠρεμεῖ', 'διαιρετὸν', 'ἐναντίαι', 'κομήτης', 'διαιρετόν', 'νόησις', 'ἠρεμοῦν', 'und', 'κινοῖτο', 'ἀίδιος', 'φυσικοῦ', 'ἐναντίωσις', 'ἄπειρόν', 'κίνησίς', 'κινήσεται', 'πεπερασμένα', 'ἀδιαίρετον', 'φθορά', 'κατηγορίαις', 'phys', 'ἐντελεχείᾳ', 'φθειρόμενον', 'ταὐτομάτου', 'κινούντων', 'ἀναξαγόρας', 'ἀναθυμιάσεως', 'ἀμερὲς', 'κόμην', 'ὁρισμὸν', 'ἀλλοιοῦσθαι', 'προυπάρχειν', 'iterat', 'κινηθήσεται', 'τμῆμα'], ['und', 'nicht', 'das', 'ist', 'von', 'den', 'aber', 'vgl', 'auch', 'wie', 'sie', 'ein', 'nun', 'sind', 'sich', 'wenn', 'mit', 'haben', 'πεπερασμένον', 'durch', 'hat', 'sondern', 'wird', 'ἀπείρου', 'def', 'auf', 'μεταβάλλον', 'werden', 'aristoteles', 'κινοῦντος', 'νόησις', 'was', 'vor', 'oder', 'εὔδημος', 'noch', 'ihm', 'damit', 'über', 'act', 'προσεχῶς', 'als', 'αὐτοκίνητον', 'κινουμένῳ', 'ἀδιαίρετον', 'wegen', 'διαιρετὸν', 'mrg', 'πέρατι', 'symp'], ['abbrev', 'cet', 'πεπερασμένον', 'ἀπείρου', 'def', 'εὔδημος', 'κινοῦντος', 'μεταβάλλον', 'νόησις', 'κινουμένῳ', 'aristoteles', 'vulg', 'προσεχῶς', 'φλεβοτομίας', 'αὐτοκίνητον', 'ἠρεμεῖ', 'πεπερασμένα', 'mrg', 'ἀπείρῳ', 'anonymus', 'ἠρεμία', 'διαιρετὸν', 'ἀναξαγόρας', 'στερήσεως', 'simpl', 'ἀλλοιώσεως', 'καθόσον', 'διαιρετόν', 'ἀδιαίρετον', 'νόησιν', 'κινήσεται', 'ταὐτομάτου', 'κινοῖτο', 'ἐντελεχείᾳ', 'κατηγορίαις', 'ἀίδιος', 'κινούντων', 'ξενίας', 'ἐναντίωσις', 'κινοῦντα', 'ἐναντίαι', 'ἐντελέχεια', 'ἀμερὲς', 'ἄπειρόν', 'κίνησίς', 'φθορά', 'κινηθήσεται', 'μεγεθῶν', 'παρμενίδης', 'φυσικοῦ'], ['κινουμένῳ', 'und', 'πεπερασμένον', 'ἀπείρου', 'aristoteles', 'def', 'μεταβάλλον', 'mrg', 'κινοῦντος', 'προσεχῶς', 'εὔδημος', 'vulg', 'στερήσεως', 'nicht', 'διαιρετὸν', 'ἠρεμεῖ', 'das', 'αὐτοκίνητον', 'ἀπείρῳ', 'ist', 'simpl', 'νόησις', 'ταὐτομάτου', 'πέρατι', 'ἀλλοιώσεως', 'den', 'ἀδιαίρετον', 'κατηγορίαις', 'ἐναντίωσις', 'von', 'ἠρεμίας', 'ἐντελεχείᾳ', 'ἀμερὲς', 'διαιρετόν', 'φυσικοῦ', 'sie', 'phys', 'κινήσεται', 'ἠρεμοῦν', 'ἠρεμία', 'ἐναντίαι', 'κινοῖτο', 'ὑψίστου', 'φθορά', 'καθόσον', 'ἠρεμίαν', 'aber', 'ἐνεργεία', 'exc', 'auch'], ['ἀλλʼ', 'def', 'πεπερασμένον', 'ἀπείρου', 'κινοῦντος', 'aristoteles', 'εὔδημος', 'αἰσθητήριον', 'μεταβάλλον', 'προσεχῶς', 'mrg', 'κινουμένῳ', 'ὀσμῆς', 'vulg', 'und', 'αὐτοκίνητον', 'νόησις', 'στερήσεως', 'καθʼ', 'ἁπτῶν', 'ἠρεμία', 'ἀπείρῳ', 'διαιρετόν', 'νόησιν', 'οὔτʼ', 'διαιρετὸν', 'ἀλλοιώσεως', 'ἐναντίωσις', 'ἀναξαγόρας', 'simpl', 'ἀδιαίρετον', 'ὑπέκκαυμα', 'νοητοῦ', 'ἠρεμεῖ', 'κομήτης', 'κίνησίς', 'αἰσθητηρίου', 'πεπερασμένα', 'κινήσεται', 'ἐναντίαι', 'ἐντελέχεια', 'νοητῷ', 'ταὐτομάτου', 'αἰσθητικόν', 'ἠρεμίας', 'φυσικοῦ', 'κινῆται', 'ἀοράτου', 'ὀσμὴ', 'κατηγορίαις'], ['und', 'nicht', 'das', 'ist', 'cet', 'auch', 'aber', 'vgl', 'den', 'sie', 'von', 'πεπερασμένον', 'sind', 'ein', 'κινοῦντος', 'def', 'wenn', 'sich', 'wie', 'mit', 'durch', 'vulg', 'hat', 'was', 'sondern', 'wird', 'μεταβάλλον', 'werden', 'ἀπείρου', 'mrg', 'haben', 'προσεχῶς', 'aristoteles', 'hab', 'νόησις', 'auf', 'κινουμένῳ', 'pal', 'nun', 'ἠρεμεῖ', 'ἀπείρῳ', 'act', 'διαιρετὸν', 'als', 'οὐδʼ', 'oder', 'simpl', 'λίμνην', 'ταὐτομάτου', 'ἀδιαίρετον'], ['πεπερασμένον', 'def', 'ἀπείρου', 'vulg', 'cet', 'μεταβάλλον', 'εὔδημος', 'aristoteles', 'νόησις', 'προσεχῶς', 'mrg', 'ἀλλʼ', 'αὐτοκίνητον', 'κινοῦντος', 'ἠρεμεῖ', 'κατηγορίαις', 'κινουμένῳ', 'στερήσεως', 'ἀμερὲς', 'διαιρετόν', 'ἠρεμία', 'πεπερασμένα', 'νόησιν', 'ἠρεμίαν', 'ταὐτομάτου', 'pal', 'καθόσον', 'simpl', 'iterat', 'ἐναντίωσις', 'διαιρετὸν', 'ὄψεων', 'ἐκινεῖτο', 'ἐπιχείρημα', 'κέντρου', 'εὐδαιμονεῖν', 'ἀναξαγόρας', 'κινοῦντα', 'κινῆται', 'ἐπʼ', 'ἀλλοιώσεις', 'αἰσθητῷ', 'phys', 'ἠρεμοῦν', 'κινήσεται', 'ἀιδίου', 'φθορά', 'ἀμερῆ', 'κινοῖτο', 'ὁρισμὸν'], ['πεπερασμένον', 'aristoteles', 'def', 'mrg', 'ἀπείρου', 'κινοῦντος', 'εὔδημος', 'μεταβάλλον', 'ἠρεμεῖ', 'διαιρετὸν', 'αὐτοκίνητον', 'κινουμένῳ', 'ἀπείρῳ', 'στερήσεως', 'προσεχῶς', 'διαιρετόν', 'vulg', 'ἠρεμία', 'κατηγορίαις', 'simpl', 'ἀμερὲς', 'κινήσεται', 'ταὐτομάτου', 'κινηθήσεται', 'ἐναντίαι', 'ἠρεμίαν', 'ἠρεμίας', 'ἀναξαγόρας', 'νόησις', 'κινοῖτο', 'ἀλλοιώσεως', 'ἀίδιος', 'φθορά', 'ἀμερῶν', 'κινῆται', 'καθόσον', 'πεπερασμένα', 'κινούντων', 'πέρατι', 'ἠρεμοῦν', 'phys', 'ἐναντίωσις', 'ἀδιαίρετον', 'φυσικοῦ', 'ὁρισμὸν', 'κίνησίς', 'ἄπειρόν', 'κινοῦντα', 'μεγεθῶν', 'ἀντίφασιν'], ['def', 'ἀπείρου', 'πεπερασμένον', 'προσεχῶς', 'κινοῦντος', 'mrg', 'aristoteles', 'μεταβάλλον', 'κινουμένῳ', 'ἀπείρῳ', 'συζυγία', 'στερήσεως', 'ἠρεμεῖ', 'νόησις', 'εὔδημος', 'ἠρεμία', 'αὐτοκίνητον', 'ἀναξαγόρας', 'ἠρεμοῦν', 'κατηγορίαις', 'διαιρετὸν', 'φυσικοῦ', 'διαιρετόν', 'simpl', 'νόησιν', 'phys', 'κινήσεται', 'ἀλλοιώσεως', 'ἀίδιος', 'ζήνωνος', 'καθόσον', 'ἐναντίαι', 'κινηθήσεται', 'ἀδιαίρετον', 'vulg', 'πέρατι', 'ταὐτομάτου', 'πεπερασμένα', 'ἐπιχείρημα', 'φθορά', 'κινητὸν', 'νωτιαίου', 'ἀμερὲς', 'τοσόνδε', 'iterat', 'macl', 'ἠρεμίας', 'ἀπουσία', 'ἐντελεχείᾳ', 'κινοῦντα'], ['und', 'πεπερασμένον', 'ἀπείρου', 'κινοῦντος', 'mrg', 'nicht', 'ἠρεμεῖ', 'aristoteles', 'προσεχῶς', 'ist', 'μεταβάλλον', 'aber', 'εὔδημος', 'von', 'das', 'δικασταί', 'def', 'νόησις', 'ἀναθυμιάσεως', 'διαιρετὸν', 'ἀλλʼ', 'αὐτοκίνητον', 'auch', 'στερήσεως', 'ἀναθυμίασις', 'κομήτης', 'κινουμένῳ', 'simpl', 'vulg', 'κινοῖτο', 'νοητῷ', 'φθορά', 'den', 'ἠρεμία', 'iterat', 'phys', 'φλεβοτομίας', 'vgl', 'sich', 'ἀδιαίρετον', 'ἀναξαγόρας', 'ἀπείρῳ', 'ἐναντίωσις', 'διαιρετόν', 'πότερα', 'wie', 'κίνησίς', 'νόησιν', 'καθόσον', 'πεπερασμένα'], ['und', 'πεπερασμένον', 'das', 'ἀπείρου', 'nicht', 'def', 'μεταβάλλον', 'aber', 'κινοῦντος', 'ist', 'vulg', 'προσεχῶς', 'den', 'αὐτοκίνητον', 'auch', 'εὔδημος', 'mrg', 'von', 'sie', 'ἠρεμεῖ', 'wie', 'aristoteles', 'κινουμένῳ', 'ἀπείρῳ', 'sich', 'στερήσεως', 'ἀδιαίρετον', 'wenn', 'durch', 'vgl', 'cet', 'κινοῖτο', 'κινηθήσεται', 'πεπερασμένα', 'διαιρετόν', 'διαιρετὸν', 'mit', 'ἠρεμία', 'ein', 'κινῆται', 'ἐναντίωσις', 'nun', 'phys', 'ἐντελεχείᾳ', 'ἠρεμίας', 'κατηγορίαις', 'φυσικοῦ', 'καθόσον', 'ἐναντίαι', 'simpl'], ['πεπερασμένον', 'ἀπείρου', 'mrg', 'κινοῦντος', 'aristoteles', 'def', 'νόησις', 'vulg', 'εὔδημος', 'κινουμένῳ', 'αὐτοκίνητον', 'συζυγία', 'προσεχῶς', 'μεταβάλλον', 'ἠρεμεῖ', 'διαιρετόν', 'διαιρετὸν', 'στερήσεως', 'ἀπείρῳ', 'φθορά', 'ἠρεμία', 'ἀναξαγόρας', 'phys', 'κινηθήσεται', 'simpl', 'κατηγορίαις', 'ἀδιαίρετον', 'ἠρεμίας', 'ἀμερὲς', 'νωτιαίου', 'ἐναντίωσις', 'πεπερασμένα', 'iterat', 'κινοῦντα', 'ἀλλοιώσεως', 'νόησιν', 'ἐντελεχείᾳ', 'καθόσον', 'ἐναντίαι', 'πέρατι', 'ἐπιχείρημα', 'ἀλλοιώσεις', 'νοητῷ', 'κινήσεται', 'κινοῖτο', 'ἀίδιος', 'σύνθετα', 'κίνησίς', 'ἀιδίου', 'εὐδαιμονεῖν'], ['πεπερασμένον', 'ἀπείρου', 'def', 'κινοῦντος', 'μεταβάλλον', 'αὐτοκίνητον', 'aristoteles', 'στερήσεως', 'προσεχῶς', 'κινουμένῳ', 'mrg', 'ἠρεμεῖ', 'ταὐτομάτου', 'εὔδημος', 'vulg', 'simpl', 'νόησιν', 'κέντρου', 'ἠρεμία', 'νόησις', 'διαιρετὸν', 'ἀναθυμιάσεως', 'κατηγορίαις', 'ἐνεργεία', 'ἀναξαγόρας', 'κινηθήσεται', 'διαιρετόν', 'ἠρεμίας', 'κινήσεται', 'ἀίδιος', 'ἀλλοιώσεως', 'κινοῖτο', 'exc', 'ἀδιαίρετον', 'ἐναντίωσις', 'ἐντελεχείᾳ', 'ἀπείρῳ', 'phys', 'ἀλλοιοῦσθαι', 'πεπερασμένα', 'ὄψεων', 'φθορά', 'ἠρεμοῦν', 'πέρατι', 'κινῆται', 'ἀλλοιώσεις', 'καθόσον', 'προυπάρχειν', 'κόμην', 'κίνησίς'], ['πεπερασμένον', 'μεταβάλλον', 'κινοῦντος', 'mrg', 'def', 'ἀπείρου', 'aristoteles', 'vulg', 'macl', 'ἀλλʼ', 'κινουμένῳ', 'νόησις', 'αὐτοκίνητον', 'cet', 'und', 'εὔδημος', 'φλὲψ', 'προσεχῶς', 'émile', 'δικασταί', 'riv', 'ἀπείρῳ', 'ταὐτομάτου', 'διαιρετόν', 'hippocrates', 'κινούντων', 'καθόσον', 'littré', 'πεπερασμένα', 'ἠρεμία', 'νόησιν', 'φλεβοτομίας', 'ἠρεμεῖ', 'κινηθήσεται', 'διαιρετὸν', 'στερήσεως', 'ferr', 'ἀμερὲς', 'ἀίδιος', 'πέρατι', 'ἐπίπεδον', 'κομήτης', 'κοιλίης', 'φυσικοῦ', 'ἀλλοιώσεως', 'καλέουσι', 'κόμην', 'bva', 'φθορά', 'κατηγορίαις'], ['und', 'das', 'nicht', 'ist', 'auch', 'von', 'aber', 'vgl', 'πεπερασμένον', 'νόησις', 'def', 'sie', 'wenn', 'wie', 'den', 'κινοῦντος', 'durch', 'ἀπείρου', 'ein', 'sich', 'aristoteles', 'mit', 'hat', 'εὔδημος', 'nun', 'μεταβάλλον', 'mrg', 'κινουμένῳ', 'sind', 'wird', 'werden', 'προσεχῶς', 'ἠρεμεῖ', 'νόησιν', 'ἀπείρῳ', 'haben', 'vulg', 'στερήσεως', 'νοητῷ', 'αὐτοκίνητον', 'was', 'φθορά', 'sondern', 'ἠρεμία', 'νοητοῦ', 'simpl', 'damit', 'συζυγία', 'ταὐτομάτου', 'ἀμερῶν'], ['ἀπείρου', 'def', 'φύσιος', 'πεπερασμένον', 'κινοῦντος', 'μάθησις', 'ὁκοῖον', 'προσεχῶς', 'mrg', 'μεταβάλλον', 'ἠρεμεῖ', 'τῇσι', 'εὔδημος', 'aristoteles', 'αὐτοκίνητον', 'ἀτρεκέως', 'κινουμένῳ', 'hippocrates', 'διαιρετὸν', 'émile', 'littré', 'στερήσεως', 'ἠρεμία', 'ἀλλοιώσεως', 'ἀπείρῳ', 'ὑπέκκαυμα', 'ἠρεμίας', 'πεπερασμένα', 'ἀναξαγόρας', 'vulg', 'phys', 'κομήτης', 'νόησις', 'ἀδιαίρετον', 'νόησιν', 'ἠρεμοῦν', 'κόμην', 'ἐναντίαι', 'προυπάρχειν', 'πλανωμένων', 'ἐναντίωσις', 'καθόσον', 'simpl', 'πέρατι', 'iterat', 'κινοῦντα', 'φθορά', 'κατηγορίαις', 'ἀστέρα', 'ἐκινεῖτο'], ['πεπερασμένον', 'ἀπείρου', 'κινοῦντος', 'φλεβοτομίας', 'aristoteles', 'def', 'mrg', 'μεταβάλλον', 'εὔδημος', 'vulg', 'προσεχῶς', 'κινουμένῳ', 'ἀπείρῳ', 'ἀδιαίρετον', 'ἠρεμία', 'διαιρετόν', 'αὐτοκίνητον', 'ἠρεμεῖ', 'κατηγορίαις', 'στερήσεως', 'simpl', 'διαιρετὸν', 'καθόσον', 'ἀμερὲς', 'κενώσεως', 'ἀλλοιώσεως', 'ἐπιχείρημα', 'und', 'πεπερασμένα', 'φυσικοῦ', 'μεγεθῶν', 'κινήσεται', 'κινούντων', 'κινοῖτο', 'κινηθήσεται', 'phys', 'φθορά', 'iterat', 'ἠρεμοῦν', 'κινοῦντα', 'ἀίδιος', 'ἀμερῆ', 'ταὐτομάτου', 'ἐναντίωσις', 'ἀμερῶν', 'φλεβοτομεῖν', 'κίνησίς', 'ἀναξαγόρας', 'νόησις', 'παρμενίδης'], ['und', 'das', 'nicht', 'den', 'von', 'ist', 'aristoteles', 'ἀπείρου', 'sie', 'vgl', 'sich', 'κινοῦντος', 'πεπερασμένον', 'aber', 'auch', 'mit', 'def', 'προσεχῶς', 'mrg', 'ein', 'haben', 'sind', 'durch', 'wenn', 'εὔδημος', 'κινουμένῳ', 'νόησις', 'hat', 'was', 'μεταβάλλον', 'ἀπείρῳ', 'wird', 'wie', 'ἠρεμεῖ', 'sondern', 'αὐτοκίνητον', 'vulg', 'nun', 'simpl', 'στερήσεως', 'ἠρεμία', 'damit', 'ἀδιαίρετον', 'νόησιν', 'werden', 'phys', 'ἀλλοιώσεως', 'διαιρετὸν', 'act', 'ἠρεμίας'], ['und', 'πεπερασμένον', 'nicht', 'das', 'ἀπείρου', 'def', 'vgl', 'aber', 'μεταβάλλον', 'κινοῦντος', 'den', 'εὔδημος', 'ist', 'κινουμένῳ', 'προσεχῶς', 'von', 'aristoteles', 'αὐτοκίνητον', 'διαιρετὸν', 'στερήσεως', 'auch', 'wie', 'ein', 'ταὐτομάτου', 'sich', 'mrg', 'wenn', 'vulg', 'ἀλλοιώσεως', 'sie', 'mit', 'ἠρεμία', 'πεπερασμένα', 'διαιρετόν', 'durch', 'ἠρεμεῖ', 'ἀναξαγόρας', 'ἠρεμοῦν', 'φυσικοῦ', 'hat', 'ἀπείρῳ', 'ἀίδιος', 'κινοῦντα', 'πέρατι', 'sondern', 'κατηγορίαις', 'sind', 'phys', 'κινῆται', 'simpl'], ['νόησις', 'πεπερασμένον', 'def', 'κινοῦντος', 'ἀπείρου', 'mrg', 'φλεγμονῆς', 'εὔδημος', 'μεταβάλλον', 'ἐγρηγορέναι', 'κόμην', 'διαιρετὸν', 'στερήσεως', 'ἀπείρῳ', 'aristoteles', 'ἠρεμεῖ', 'κομήτης', 'αὐτοκίνητον', 'κινουμένῳ', 'vulg', 'ἀλλʼ', 'ἀναθυμίασις', 'ὑπέκκαυμα', 'νόησιν', 'νοητῷ', 'νοητοῦ', 'κέντρου', 'πλανωμένων', 'ἀδιαίρετον', 'ἀμερὲς', 'ἀναθυμιάσεως', 'ἀλλοιώσεως', 'προσεχῶς', 'ἠρεμία', 'αἰσθητικοῦ', 'ἀκτίνων', 'simpl', 'κινηθήσεται', 'πεπερασμένα', 'φθορά', 'ὄψεων', 'ἠρεμοῦν', 'ἀναξαγόρας', 'κινοῖτο', 'ταὐτομάτου', 'κινήσεται', 'ἐγρήγορσις', 'σύνθετα', 'κινούντων', 'διαιρετόν'], ['ζεῦ', 'but', 'lucian', 'vulg', 'κινοῦντος', 'πεπερασμένον', 'def', 'from', 'μεταβάλλον', 'ἀπείρου', 'εὔδημος', 'was', 'mrg', 'νόησις', 'κινουμένῳ', 'only', 'aristoteles', 'αὐτοκίνητον', 'προσεχῶς', 'κενὰ', 'pseudo', 'ἀλλοιώσεως', 'them', 'ἠρεμεῖ', 'had', 'ἠρεμία', 'θήλειαι', 'ἐγρηγορέναι', 'him', 'στερήσεως', 'ἐναντίαι', 'καθόσον', 'mss', 'κινοῖτο', 'that', 'διαιρετόν', 'ἀδιαίρετον', 'κατηγορίαις', 'διαιρετὸν', 'ἠρεμοῦν', 'μετέχουσιν', 'ἀμερὲς', 'simpl', 'ταῦρος', 'τιμαίῳ', 'other', 'κινηθήσεται', 'κίνησίς', 'ταὐτομάτου', 'μῶμος'], ['und', 'das', 'nicht', 'ist', 'den', 'von', 'aber', 'ἀπείρου', 'auch', 'def', 'wenn', 'μεταβάλλον', 'mrg', 'κινοῦντος', 'durch', 'πεπερασμένον', 'sie', 'wie', 'vgl', 'sich', 'nun', 'προσεχῶς', 'sind', 'mit', 'ξενίας', 'aristoteles', 'στερήσεως', 'wird', 'φλεβοτομίας', 'αὐτοκίνητον', 'ἠρεμία', 'εὔδημος', 'διαιρετόν', 'κινουμένῳ', 'vab', 'ein', 'simpl', 'haben', 'ἀλλοιώσεως', 'vulg', 'κατηγορίαις', 'was', 'διαιρετὸν', 'auf', 'δημοσθένης', 'hat', 'κινοῖτο', 'καθόσον', 'ἀδιαίρετον', 'werden'], ['πεπερασμένον', 'def', 'ἀπείρου', 'κινοῦντος', 'μεταβάλλον', 'εὔδημος', 'mrg', 'προσεχῶς', 'στερήσεως', 'aristoteles', 'ἀπείρῳ', 'αὐτοκίνητον', 'διαιρετὸν', 'simpl', 'κινουμένῳ', 'διαιρετόν', 'ἠρεμία', 'vulg', 'ἐναντίωσις', 'φθορά', 'und', 'πέρατι', 'ἀδιαίρετον', 'ἠρεμεῖ', 'φυσικοῦ', 'καθόσον', 'ἐναντίαι', 'κινήσεται', 'ἀίδιος', 'ἀμερὲς', 'ἠρεμίας', 'κίνησίς', 'κινῆται', 'iterat', 'phys', 'κινοῖτο', 'κινηθήσεται', 'κατηγορίαις', 'ἀλλοιώσεως', 'ἐνεργεία', 'νόησις', 'κεκινῆσθαι', 'ἀναξαγόρας', 'ἠρεμίαν', 'ἐπιχείρημα', 'πεπερασμένα', 'ἐκινεῖτο', 'ἀμερῶν', 'ταὐτομάτου', 'προυπάρχειν'], ['def', 'πεπερασμένον', 'ἀπείρου', 'κινοῦντος', 'μεταβάλλον', 'mrg', 'αὐτοκίνητον', 'κινουμένῳ', 'εὔδημος', 'vulg', 'aristoteles', 'προσεχῶς', 'στερήσεως', 'ἠρεμία', 'ἀπείρῳ', 'διαιρετὸν', 'ἀδιαίρετον', 'ἠρεμεῖ', 'νόησις', 'κατηγορίαις', 'simpl', 'πεπερασμένα', 'κίνησίς', 'ταὐτομάτου', 'ἠρεμοῦν', 'φθορά', 'κινοῖτο', 'διαιρετόν', 'ἀμερὲς', 'παρμενίδης', 'ἐναντίαι', 'πέρατι', 'ἐναντίωσις', 'νόησιν', 'phys', 'ἠρεμίας', 'κεκινῆσθαι', 'κινοῦντα', 'ἀλλοιώσεως', 'ἀναξαγόρας', 'καθόσον', 'ἐντελεχείᾳ', 'ἀπουσία', 'exc', 'κινούντων', 'iterat', 'μεγεθῶν', 'τμῆμα', 'φυσικοῦ', 'ἀμερῶν'], ['πεπερασμένον', 'cet', 'mrg', 'aristoteles', 'ἀπείρου', 'κινοῦντος', 'vulg', 'ἀλλʼ', 'def', 'εὔδημος', 'μεταβάλλον', 'ἠρεμεῖ', 'στερήσεως', 'κινουμένῳ', 'αὐτοκίνητον', 'κατηγορίαις', 'ἀίδιος', 'ἀδιαίρετον', 'διαιρετὸν', 'ἠρεμία', 'ἀπείρῳ', 'simpl', 'προσεχῶς', 'πέρατι', 'καθόσον', 'συζυγία', 'ἠρεμίας', 'φθορά', 'κινήσεται', 'πεπερασμένα', 'κινοῖτο', 'κίνησίς', 'phys', 'κινοῦντα', 'ἠρεμίαν', 'ἀλλοιώσεως', 'φυσικοῦ', 'ταὐτομάτου', 'ἐντελέχεια', 'ἐνεργεία', 'ὁρισμὸν', 'διαιρετόν', 'ἐναντίαι', 'παρμενίδης', 'ἀναξαγόρας', 'iterat', 'pal', 'νόησις', 'ἐπιχείρημα', 'ἀμερὲς'], ['und', 'nicht', 'das', 'πεπερασμένον', 'ist', 'def', 'aber', 'auch', 'κινοῦντος', 'den', 'von', 'mrg', 'vulg', 'ἀπείρου', 'sie', 'μεταβάλλον', 'νόησις', 'εὔδημος', 'aristoteles', 'κινουμένῳ', 'mit', 'vgl', 'durch', 'διαιρετὸν', 'cet', 'ein', 'nun', 'hat', 'sich', 'ἠρεμεῖ', 'στερήσεως', 'πεπερασμένα', 'sind', 'αὐτοκίνητον', 'ἠρεμίας', 'wie', 'ἀλλοιώσεως', 'προσεχῶς', 'νόησιν', 'ἠρεμία', 'werden', 'κινοῖτο', 'simpl', 'wird', 'wenn', 'phys', 'κατηγορίαις', 'διαιρετόν', 'was', 'haben'], ['πεπερασμένον', 'ἀπείρου', 'def', 'κινουμένῳ', 'κινοῦντος', 'μεταβάλλον', 'aristoteles', 'mrg', 'προσεχῶς', 'αὐτοκίνητον', 'vulg', 'εὔδημος', 'κομήτης', 'ἀπείρῳ', 'ἀδιαίρετον', 'ἠρεμεῖ', 'simpl', 'ὑπέκκαυμα', 'νόησις', 'ἠρεμία', 'ταὐτομάτου', 'ἀναξαγόρας', 'πεπερασμένα', 'ἀμερὲς', 'φυσικοῦ', 'ὄψεων', 'διαιρετὸν', 'κέντρου', 'κινοῖτο', 'κινοῦντα', 'ἀλλοιώσεως', 'κατηγορίαις', 'ἄπειρόν', 'iterat', 'φθορά', 'ἀναθυμιάσεως', 'ἐναντίαι', 'πλανωμένων', 'κινούντων', 'κινηθήσεται', 'phys', 'ἠρεμίας', 'νέφους', 'κόμην', 'στερήσεως', 'ἐνεργεία', 'ἀίδιος', 'ἀλλοιοῦσθαι', 'ἐπιχείρημα', 'cet'], ['und', 'das', 'πεπερασμένον', 'nicht', 'def', 'ist', 'μεταβάλλον', 'den', 'εὔδημος', 'aristoteles', 'vgl', 'mrg', 'ἀπείρου', 'sie', 'κινοῦντος', 'aber', 'αὐτοκίνητον', 'auch', 'von', 'ἠρεμεῖ', 'νόησις', 'προσεχῶς', 'κινουμένῳ', 'διαιρετὸν', 'ταὐτομάτου', 'ἀλλοιώσεως', 'ἀναξαγόρας', 'sind', 'hat', 'wie', 'simpl', 'sich', 'vulg', 'ἀναθυμιάσεως', 'durch', 'ἐγρήγορσις', 'στερήσεως', 'sondern', 'ἠρεμία', 'πέρατι', 'ἠρεμίας', 'κινοῖτο', 'ἀπείρῳ', 'ἀδιαίρετον', 'ἐγρηγορέναι', 'κίνησίς', 'wenn', 'τοσόνδε', 'κινοῦντα', 'φθορά'], ['πεπερασμένον', 'ἀπείρου', 'aristoteles', 'def', 'εὔδημος', 'κινοῦντος', 'mrg', 'μεταβάλλον', 'vulg', 'ἀπείρῳ', 'αὐτοκίνητον', 'προσεχῶς', 'κινουμένῳ', 'διαιρετὸν', 'ἠρεμεῖ', 'cet', 'στερήσεως', 'ἠρεμίας', 'ἀναξαγόρας', 'ἀδιαίρετον', 'ταὐτομάτου', 'phys', 'κατηγορίαις', 'ἠρεμία', 'κινηθήσεται', 'ἀλλοιώσεως', 'ἀμερὲς', 'διαιρετόν', 'φθορά', 'ἠρεμίαν', 'καθόσον', 'κινῆται', 'ἐναντίωσις', 'ἐναντίαι', 'ἠρεμοῦν', 'νόησις', 'φυσικοῦ', 'κινητὸν', 'κινοῖτο', 'ἐμπεδοκλῆς', 'κινοῦντα', 'προυπάρχειν', 'τιμαίῳ', 'πέρατι', 'iterat', 'simpl', 'ἀίδιος', 'κινήσεται', 'exc', 'κινούντων'], ['πεπερασμένον', 'κινοῦντος', 'ἀπείρου', 'cet', 'aristoteles', 'μεταβάλλον', 'κινουμένῳ', 'mrg', 'def', 'εὔδημος', 'κατηγορίαις', 'νόησις', 'αὐτοκίνητον', 'vulg', 'προσεχῶς', 'ἠρεμία', 'simpl', 'στερήσεως', 'διαιρετόν', 'ἀπείρῳ', 'κινοῖτο', 'ἀδιαίρετον', 'κινηθήσεται', 'διαιρετὸν', 'πεπερασμένα', 'ἀλλοιώσεως', 'ἠρεμεῖ', 'ταὐτομάτου', 'ἀμερὲς', 'ἠρεμοῦν', 'ἀναξαγόρας', 'φυσικοῦ', 'ἠρεμίας', 'ἀμερῶν', 'ἐντελεχείᾳ', 'iterat', 'ἀίδιος', 'ἠρεμίαν', 'exc', 'πέρατι', 'phys', 'φθορά', 'ζήνωνος', 'ἐναντίαι', 'κινούντων', 'und', 'κινῆται', 'ἐναντίωσις', 'κινήσεται', 'καθόσον'], ['πεπερασμένον', 'ἀπείρου', 'und', 'def', 'mrg', 'μεταβάλλον', 'κινοῦντος', 'aristoteles', 'προσεχῶς', 'κινουμένῳ', 'vulg', 'αὐτοκίνητον', 'εὔδημος', 'ἀπείρῳ', 'das', 'ἠρεμεῖ', 'ἀλλοιώσεως', 'ἠρεμία', 'νόησις', 'κατηγορίαις', 'νόησιν', 'ἠρεμίαν', 'ἐναντίωσις', 'nicht', 'φθορά', 'διαιρετόν', 'ἀμερὲς', 'ist', 'πεπερασμένα', 'ἀδιαίρετον', 'ἀίδιος', 'ταὐτομάτου', 'κινοῖτο', 'στερήσεως', 'simpl', 'πέρατι', 'ἠρεμίας', 'κινοῦντα', 'νοητῷ', 'καθόσον', 'ἠρεμοῦν', 'κινήσεται', 'aber', 'φλεβοτομίας', 'διαιρετὸν', 'ἐναντίαι', 'κινηθήσεται', 'ζεῦ', 'phys', 'κίνησίς'], ['πεπερασμένον', 'κινοῦντος', 'def', 'μεταβάλλον', 'mrg', 'aristoteles', 'κινουμένῳ', 'ἠρεμεῖ', 'προσεχῶς', 'ἀπείρου', 'αὐτοκίνητον', 'εὔδημος', 'vulg', 'ἀδιαίρετον', 'cet', 'διαιρετὸν', 'νόησις', 'ἀπείρῳ', 'ταὐτομάτου', 'ἠρεμοῦν', 'ἀλλοιώσεως', 'φυσικοῦ', 'πεπερασμένα', 'διαιρετόν', 'ἠρεμίαν', 'ἀίδιος', 'ἀναξαγόρας', 'στερήσεως', 'simpl', 'κινούντων', 'κινοῖτο', 'καθόσον', 'ἐναντίωσις', 'φθορά', 'κίνησίς', 'ἀμερῶν', 'κινητικὸν', 'ἠρεμία', 'κατηγορίαις', 'κινηθήσεται', 'πέρατι', 'ἠρεμίας', 'κινήσεται', 'ἀλλοιοῦσθαι', 'προυπάρχειν', 'κινοῦντα', 'τιμαίῳ', 'παρμενίδης', 'κινῆται', 'ζήνωνος'], ['πεπερασμένον', 'def', 'ἀπείρου', 'μεταβάλλον', 'mrg', 'aristoteles', 'προσεχῶς', 'κινοῦντος', 'κινουμένῳ', 'νόησις', 'εὔδημος', 'ἠρεμεῖ', 'στερήσεως', 'αὐτοκίνητον', 'πεπερασμένα', 'simpl', 'ἀπείρῳ', 'ἠρεμία', 'νοητῷ', 'διαιρετόν', 'ἀναξαγόρας', 'νόησιν', 'ταὐτομάτου', 'ἀδιαίρετον', 'διαιρετὸν', 'vulg', 'κίνησίς', 'εὐδαιμονεῖν', 'φυσικοῦ', 'σύνθετα', 'πότερα', 'phys', 'κινήσεται', 'κινητικὸν', 'παρμενίδης', 'ἀλλοιώσεως', 'τοσόνδε', 'κινούντων', 'κέντρου', 'ἠρεμίαν', 'iterat', 'φθορά', 'κινοῖτο', 'κινῆται', 'ἀίδιος', 'superscr', 'ἠρεμίας', 'ἐναντίαι', 'καθόσον', 'στάσει'], ['δημοσθένης', 'μεταβάλλον', 'ἀπείρου', 'def', 'πεπερασμένον', 'und', 'ξενίας', 'gasda', 'aristoteles', 'vab', 'κινοῦντος', 'mrg', 'εὔδημος', 'ἠρεμεῖ', 'κινουμένῳ', 'φίλιππος', 'στερήσεως', 'vulg', 'das', 'κομήτης', 'nicht', 'ἠρεμία', 'macl', 'προσεχῶς', 'ferr', 'δημοσθένους', 'διαιρετόν', 'κινούντων', 'δικασταί', 'simpl', 'ὑπέκκαυμα', 'ἀπείρῳ', 'κινοῖτο', 'ἠρεμίας', 'κέντρου', 'ist', 'αὐτοκίνητον', 'ἐναντίωσις', 'aber', 'ἀδιαίρετον', 'von', 'ἀναξαγόρας', 'κινοῦντα', 'ἀπλανοῦς', 'ἀλλοιώσεως', 'iterat', 'sie', 'πέρατι', 'ἐπιχείρημα', 'den'], ['πεπερασμένον', 'μεταβάλλον', 'mrg', 'def', 'εὔδημος', 'aristoteles', 'ἀπείρου', 'κινοῦντος', 'κινουμένῳ', 'προσεχῶς', 'αὐτοκίνητον', 'ἀδιαίρετον', 'κινήσεται', 'στερήσεως', 'ἠρεμεῖ', 'κινοῖτο', 'ἀπείρῳ', 'πεπερασμένα', 'vulg', 'διαιρετόν', 'κινούντων', 'simpl', 'κινηθήσεται', 'ἀναξαγόρας', 'ἠρεμία', 'διαιρετὸν', 'κατηγορίαις', 'iterat', 'φυσικοῦ', 'φθορά', 'νόησις', 'κινῆται', 'phys', 'ἠρεμοῦν', 'ἀλλοιώσεως', 'ἀίδιος', 'ἀμερῶν', 'ἀμερὲς', 'κινοῦντα', 'ἠρεμίας', 'ἐναντίαι', 'σύνθετα', 'φθειρόμενον', 'ταὐτομάτου', 'ζήνωνος', 'καθόσον', 'ἐντελεχείᾳ', 'ἄπειρόν', 'κίνησίς', 'ἐνεργεία'], ['πεπερασμένον', 'def', 'ἀπείρου', 'mrg', 'κινοῦντος', 'εὔδημος', 'aristoteles', 'προσεχῶς', 'vulg', 'διαιρετὸν', 'φλεβοτομίας', 'μεταβάλλον', 'κινουμένῳ', 'ἀλλοιώσεως', 'ἠρεμία', 'διαιρετόν', 'αὐτοκίνητον', 'ἠρεμεῖ', 'κινηθήσεται', 'στερήσεως', 'ἀπείρῳ', 'κατηγορίαις', 'κινούντων', 'simpl', 'ἐναντίαι', 'ἠρεμοῦν', 'φθορά', 'ἀδιαίρετον', 'ἀναξαγόρας', 'ταὐτομάτου', 'ὑπέκκαυμα', 'phys', 'ἀμερὲς', 'κινοῖτο', 'ἐκινεῖτο', 'iterat', 'ἐναντίωσις', 'νόησις', 'κίνησίς', 'φυσικοῦ', 'τιμαίῳ', 'κόμην', 'καθόσον', 'ἠρεμίαν', 'φλεβοτομεῖν', 'ἠρεμίας', 'superscr', 'ἐνεργεία', 'φλεβοτομίαν', 'παρμενίδης'], ['πεπερασμένον', 'und', 'ἀπείρου', 'νόησις', 'nicht', 'def', 'εὔδημος', 'mrg', 'aristoteles', 'μεταβάλλον', 'κινοῦντος', 'προσεχῶς', 'das', 'κινουμένῳ', 'auch', 'ἀδιαίρετον', 'ἀπείρῳ', 'στερήσεως', 'αὐτοκίνητον', 'vgl', 'von', 'aber', 'vulg', 'ἠρεμοῦν', 'νόησιν', 'κόμην', 'διαιρετὸν', 'ist', 'κίνησίς', 'κινηθήσεται', 'ἀμερὲς', 'κομήτης', 'ἀναξαγόρας', 'simpl', 'den', 'πέρατι', 'ταὐτομάτου', 'διαιρετόν', 'iterat', 'καθόσον', 'sich', 'νοητοῦ', 'ἠρεμεῖ', 'κατηγορίαις', 'νοητῷ', 'ἠρεμία', 'sie', 'ἐναντίωσις', 'phys', 'ὡδὶ'], ['def', 'ἀπείρου', 'πεπερασμένον', 'εὔδημος', 'κινοῦντος', 'μεταβάλλον', 'mrg', 'und', 'aristoteles', 'κινουμένῳ', 'abbrev', 'vulg', 'προσεχῶς', 'στερήσεως', 'αὐτοκίνητον', 'ἠρεμία', 'διαιρετὸν', 'ἠρεμεῖ', 'phys', 'νόησις', 'καθόσον', 'κινοῖτο', 'ἀναξαγόρας', 'nicht', 'simpl', 'ἀπείρῳ', 'πέρατι', 'κινηθήσεται', 'διαιρετόν', 'φυσικοῦ', 'das', 'ἀλλοιώσεως', 'κινοῦντα', 'ἀδιαίρετον', 'κινῆται', 'iterat', 'ἐναντίωσις', 'πεπερασμένα', 'φθορά', 'κινήσεται', 'ἐναντίαι', 'κινούντων', 'κατηγορίαις', 'κίνησίς', 'ζήνωνος', 'νοητῷ', 'ἀίδιος', 'ἠρεμοῦν', 'ἠρεμίας', 'exc'], ['κινοῦντος', 'aristoteles', 'def', 'εὔδημος', 'πεπερασμένον', 'vulg', 'προσεχῶς', 'ἀδιαίρετον', 'στερήσεως', 'μεταβάλλον', 'ἀπείρου', 'mrg', 'κινουμένῳ', 'νόησις', 'αὐτοκίνητον', 'cet', 'νόησιν', 'ἀλλʼ', 'διαιρετόν', 'κίνησίς', 'ἠρεμίαν', 'ἠρεμία', 'ἀπείρῳ', 'νοητοῦ', 'ἐπιχείρημα', 'ἠρεμοῦν', 'ἀίδιος', 'ἀμερὲς', 'διαιρετὸν', 'φθορά', 'κινοῖτο', 'ἠρεμεῖ', 'ἠρεμίας', 'κινηθήσεται', 'πέρατι', 'καθόσον', 'πεπερασμένα', 'ἀλλοιώσεως', 'κατηγορίαις', 'ὑψίστου', 'ἀναξαγόρας', 'μεγεθῶν', 'phys', 'κινῆται', 'ὁρισμὸν', 'τιμαίῳ', 'εὐδαιμονεῖν', 'κινοῦντα', 'iterat', 'κινούντων'], ['und', 'das', 'nicht', 'πεπερασμένον', 'ἀπείρου', 'ist', 'von', 'μεταβάλλον', 'aber', 'aristoteles', 'mrg', 'auch', 'def', 'sie', 'κινοῦντος', 'vgl', 'νόησις', 'den', 'wie', 'εὔδημος', 'ἠρεμία', 'νόησιν', 'προσεχῶς', 'ein', 'sich', 'wenn', 'διαιρετόν', 'durch', 'vulg', 'ἀδιαίρετον', 'ἀπείρῳ', 'κινουμένῳ', 'νοητῷ', 'καθόσον', 'sind', 'διαιρετὸν', 'nun', 'αὐτοκίνητον', 'ἠρεμεῖ', 'simpl', 'mit', 'ἀλλοιώσεως', 'κατηγορίαις', 'κινοῖτο', 'φθορά', 'was', 'wird', 'hat', 'στερήσεως', 'κινούντων'], ['und', 'πεπερασμένον', 'das', 'κινοῦντος', 'def', 'ist', 'nicht', 'ἀπείρου', 'aber', 'sie', 'sich', 'εὔδημος', 'vgl', 'μεταβάλλον', 'mrg', 'aristoteles', 'αὐτοκίνητον', 'den', 'von', 'auch', 'προσεχῶς', 'ein', 'wie', 'ἀπείρῳ', 'ἠρεμεῖ', 'συζυγία', 'ἠρεμία', 'durch', 'κινουμένῳ', 'στερήσεως', 'ἀδιαίρετον', 'wenn', 'vulg', 'simpl', 'sind', 'διαιρετόν', 'κινοῦντα', 'mit', 'διαιρετὸν', 'κατηγορίαις', 'nun', 'ἐντελεχείᾳ', 'ἀναξαγόρας', 'werden', 'ἐναντίωσις', 'phys', 'πέρατι', 'ἀμερὲς', 'ἀλλοιώσεως', 'νόησις'], ['πεπερασμένον', 'ἀπείρου', 'mrg', 'κινουμένῳ', 'def', 'aristoteles', 'κινοῦντος', 'μεταβάλλον', 'νόησις', 'vulg', 'ἠρεμεῖ', 'εὔδημος', 'στερήσεως', 'ἠρεμία', 'ἀπείρῳ', 'αὐτοκίνητον', 'simpl', 'ἀλλοιώσεως', 'προσεχῶς', 'νόησιν', 'νοητῷ', 'ἐναντίωσις', 'κινήσεται', 'πέρατι', 'κίνησίς', 'καθόσον', 'κινηθήσεται', 'ἀναξαγόρας', 'und', 'διαιρετὸν', 'cet', 'ταὐτομάτου', 'κινοῦντα', 'ἠρεμίαν', 'κατηγορίαις', 'ἀμερὲς', 'κινούντων', 'φυσικοῦ', 'ἀίδιος', 'ἀμερῶν', 'διαιρετόν', 'ἄπειρόν', 'iterat', 'ζήνωνος', 'ἀδιαίρετον', 'phys', 'πεπερασμένα', 'προυπάρχειν', 'τοσόνδε', 'κινῆται'], ['κινοῦντος', 'ἀπείρου', 'πεπερασμένον', 'φλεβοτομίας', 'κινουμένῳ', 'προσεχῶς', 'mrg', 'aristoteles', 'def', 'μεταβάλλον', 'εὔδημος', 'νόησις', 'ἠρεμεῖ', 'αὐτοκίνητον', 'κενώσεως', 'ἠρεμία', 'ἀδιαίρετον', 'στερήσεως', 'ἀμερὲς', 'ἀναξαγόρας', 'διαιρετόν', 'νοητῷ', 'διαιρετὸν', 'καθόσον', 'πέρατι', 'τοσόνδε', 'ἐναντίωσις', 'ἀπείρῳ', 'simpl', 'ἀλλοιώσεως', 'ἀίδιος', 'κένωσιν', 'κινούντων', 'νόησιν', 'ἠρεμοῦν', 'vulg', 'ταὐτομάτου', 'κίνησίς', 'παρμενίδης', 'φλεβοτομεῖν', 'μεγεθῶν', 'κινήσεται', 'κινητὸν', 'phys', 'φθορά', 'ἀμερῶν', 'ἠρεμίας', 'ἀλλοιοῦσθαι', 'ἠρεμίαν', 'ἀριστοτέλην'], ['macl', 'πεπερασμένον', 'ferr', 'νόησις', 'aristoteles', 'εὔδημος', 'ἀπείρου', 'riv', 'μεταβάλλον', 'def', 'vulg', 'κινοῦντος', 'mrg', 'κινουμένῳ', 'δικασταί', 'und', 'cet', 'προσεχῶς', 'rubr', 'ἠρεμεῖ', 'bva', 'αὐτοκίνητον', 'ἀπείρῳ', 'στερήσεως', 'νόησιν', 'ἠρεμία', 'φλεβοτομίας', 'κινήσεται', 'plan', 'διαιρετόν', 'καθόσον', 'κατηγορίαις', 'ἠρεμοῦν', 'ἀλλʼ', 'simpl', 'εὐδαιμονεῖν', 'διαιρετὸν', 'νοητῷ', 'ἐναντίωσις', 'ταὐτομάτου', 'nicht', 'exc', 'πέρατι', 'ἠρεμίας', 'ἐπιχείρημα', 'πεπερασμένα', 'τοσόνδε', 'ἀλλοιώσεως', 'ἠρεμίαν', 'τιμαίῳ'], ['πεπερασμένον', 'def', 'κινοῦντος', 'aristoteles', 'προσεχῶς', 'ἀπείρου', 'und', 'εὔδημος', 'μεταβάλλον', 'mrg', 'ἀπείρῳ', 'αὐτοκίνητον', 'κινουμένῳ', 'νόησις', 'ἠρεμία', 'κατηγορίαις', 'ἠρεμεῖ', 'vulg', 'στερήσεως', 'ζεῦ', 'ταὐτομάτου', 'ἀδιαίρετον', 'ἠρεμίας', 'ἄπειρόν', 'διαιρετὸν', 'nicht', 'ἠρεμίαν', 'φθορά', 'simpl', 'ἀναξαγόρας', 'ἀλλοιώσεως', 'ἐνεργεία', 'πεπερασμένα', 'ist', 'ἀμερὲς', 'ἐναντίωσις', 'κινοῖτο', 'κινηθήσεται', 'διαιρετόν', 'ἠρεμοῦν', 'exc', 'das', 'κινούντων', 'iterat', 'προυπάρχειν', 'κινήσεται', 'καθόσον', 'φυσικοῦ', 'πέρατι', 'νόησιν'], ['und', 'πεπερασμένον', 'def', 'ἀπείρου', 'aristoteles', 'das', 'κινουμένῳ', 'nicht', 'μεταβάλλον', 'κινοῦντος', 'ἠρεμεῖ', 'προσεχῶς', 'vulg', 'mrg', 'αὐτοκίνητον', 'εὔδημος', 'νόησις', 'ἀπείρῳ', 'διαιρετόν', 'von', 'sie', 'ἠρεμία', 'ἀναξαγόρας', 'ist', 'διαιρετὸν', 'ἀδιαίρετον', 'ἐναντίαι', 'στερήσεως', 'κατηγορίαις', 'ἀλλοιώσεως', 'ἠρεμοῦν', 'πέρατι', 'aber', 'auch', 'ἠρεμίαν', 'ἀίδιος', 'κινοῖτο', 'πεπερασμένα', 'phys', 'κινηθήσεται', 'ἐκινεῖτο', 'ταὐτομάτου', 'simpl', 'κινοῦντα', 'προυπάρχειν', 'κινῆται', 'den', 'κινούντων', 'sich', 'ἠρεμίας']]\n",
      "\n",
      "Can you spot the misplaced word in each topic?\n",
      "0: cet ἀπείρου πεπερασμένον aristoteles def ἐμπεδοκλῆς εὔδημος vulg μεταβάλλον κινουμένῳ\n",
      "1: mon var πεπερασμένον aristoteles sondern def μεταβάλλον κινουμένῳ κινοῦντος εὔδημος\n",
      "2: cet πεπερασμένον sondern vulg κινοῦντος ἀπείρου aristoteles εὔδημος μεταβάλλον προσεχῶς\n",
      "3: def κινοῦντος ἀπείρου aristoteles μεταβάλλον πεπερασμένον κινουμένῳ them νόησις ἠρεμία\n",
      "4: πεπερασμένον ἀπείρου mrg ἀντίφασιν αὐτοκίνητον κινοῦντος προσεχῶς aristoteles def vulg\n",
      "5: und δημοσθένης das ist von den aber vgl auch wie\n",
      "6: abbrev nun πεπερασμένον ἀπείρου def εὔδημος κινοῦντος μεταβάλλον νόησις κινουμένῳ\n",
      "7: ἐκινεῖτο und πεπερασμένον ἀπείρου aristoteles def μεταβάλλον mrg κινοῦντος προσεχῶς\n",
      "8: ἀλλʼ def πεπερασμένον ἀπείρου κινοῦντος ταῦρος εὔδημος αἰσθητήριον μεταβάλλον προσεχῶς\n",
      "9: und ὑψίστου das ist cet auch aber vgl den sie\n",
      "10: πεπερασμένον def ἀπείρου vulg cet μεταβάλλον εὔδημος aristoteles wie προσεχῶς\n",
      "11: πεπερασμένον aristoteles def mrg ἀπείρου κινοῦντος εὔδημος μεταβάλλον μάθησις διαιρετὸν\n",
      "12: def ἀπείρου πεπερασμένον προσεχῶς κινοῦντος mrg aristoteles ferr κινουμένῳ ἀπείρῳ\n",
      "13: anonymus πεπερασμένον ἀπείρου κινοῦντος mrg nicht ἠρεμεῖ aristoteles προσεχῶς ist\n",
      "14: und πεπερασμένον das ἀπείρου nicht def μεταβάλλον aber ταὐτομάτου ist\n",
      "15: πεπερασμένον ἀπείρου mrg κινοῦντος aristoteles def νόησις φύσιος εὔδημος κινουμένῳ\n",
      "16: πεπερασμένον ἀπείρου def κινοῦντος ἐναντίαι αὐτοκίνητον aristoteles στερήσεως προσεχῶς κινουμένῳ\n",
      "17: πεπερασμένον μεταβάλλον ein mrg def ἀπείρου aristoteles vulg macl ἀλλʼ\n",
      "18: und das nicht ist μῶμος von aber vgl πεπερασμένον νόησις\n",
      "19: ἀπείρου def φύσιος πεπερασμένον κινοῦντος ἀιδίου ὁκοῖον προσεχῶς mrg μεταβάλλον\n",
      "20: πεπερασμένον ἀπείρου κινοῦντος φλεβοτομίας aristoteles def φυσικῷ μεταβάλλον εὔδημος vulg\n",
      "21: und das nicht den ἐμπεδοκλῆς ist aristoteles ἀπείρου sie vgl\n",
      "22: und πεπερασμένον nicht das ἀπείρου μάνθανε vgl aber μεταβάλλον κινοῦντος\n",
      "23: νόησις πεπερασμένον def κινοῦντος var mrg φλεγμονῆς εὔδημος μεταβάλλον ἐγρηγορέναι\n",
      "24: ζεῦ but lucian vulg κινοῦντος αἰσθητικόν def from μεταβάλλον ἀπείρου\n",
      "25: und das nicht ist den von aber φλεγμονῆς auch def\n",
      "26: πεπερασμένον wird ἀπείρου κινοῦντος μεταβάλλον εὔδημος mrg προσεχῶς στερήσεως aristoteles\n",
      "27: def πεπερασμένον ἀπείρου κινοῦντος μεταβάλλον mrg damit κινουμένῳ εὔδημος vulg\n",
      "28: πεπερασμένον cet mrg aristoteles ἀπείρου κινοῦντος vulg hippocrates def εὔδημος\n",
      "29: und nicht das πεπερασμένον ist def aber auch ἀστέρα den\n",
      "30: πεπερασμένον ἀπείρου def ὁκοῖον κινοῦντος μεταβάλλον aristoteles mrg προσεχῶς αὐτοκίνητον\n",
      "31: und das πεπερασμένον nicht def ist νέφους den εὔδημος aristoteles\n",
      "32: πεπερασμένον ἀπείρου aristoteles def παρμενίδης κινοῦντος mrg μεταβάλλον vulg ἀπείρῳ\n",
      "33: πεπερασμένον κινοῦντος ἀντίφασιν cet aristoteles μεταβάλλον κινουμένῳ mrg def εὔδημος\n",
      "34: πεπερασμένον ἀπείρου und def mrg μεταβάλλον κινοῦντος aristoteles προσεχῶς ἐγρήγορσις\n",
      "35: πεπερασμένον αἰσθητικοῦ def μεταβάλλον mrg aristoteles κινουμένῳ ἠρεμεῖ προσεχῶς ἀπείρου\n",
      "36: πεπερασμένον def ἀπείρου μεταβάλλον mrg aristoteles προσεχῶς mit κινουμένῳ νόησις\n",
      "37: δημοσθένης μεταβάλλον ἀπείρου def had und ξενίας gasda aristoteles vab\n",
      "38: πεπερασμένον μεταβάλλον mrg def εὔδημος aristoteles ἀπείρου ἀναθυμιάσεως κινουμένῳ προσεχῶς\n",
      "39: vab def ἀπείρου mrg κινοῦντος εὔδημος aristoteles προσεχῶς vulg διαιρετὸν\n",
      "40: θήλειαι und ἀπείρου νόησις nicht def εὔδημος mrg aristoteles μεταβάλλον\n",
      "41: def ἀπείρου πεπερασμένον εὔδημος other μεταβάλλον mrg und aristoteles κινουμένῳ\n",
      "42: κινοῦντος aristoteles def εὔδημος πεπερασμένον φλεβοτομίαν προσεχῶς ἀδιαίρετον στερήσεως μεταβάλλον\n",
      "43: und ἐνεργεία nicht πεπερασμένον ἀπείρου ist von μεταβάλλον aber aristoteles\n",
      "44: und πεπερασμένον das κινοῦντος def ἐπίπεδον nicht ἀπείρου aber sie\n",
      "45: πεπερασμένον ἀπείρου mrg κινουμένῳ def aristoteles κινοῦντος μεταβάλλον ὀσμὴ vulg\n",
      "46: κινοῦντος sind πεπερασμένον φλεβοτομίας κινουμένῳ προσεχῶς mrg aristoteles def μεταβάλλον\n",
      "47: macl πεπερασμένον ferr νόησις aristoteles εὔδημος ἐντελεχείᾳ riv μεταβάλλον def\n",
      "48: πεπερασμένον def κινοῦντος aristoteles προσεχῶς ἀπείρου und εὔδημος μεταβάλλον ἀπουσία\n",
      "49: und αἰσθητηρίου def ἀπείρου aristoteles das κινουμένῳ nicht μεταβάλλον κινοῦντος\n",
      "Actual replacements were:\n",
      "[(0, ('κινοῦντος', 'ἐμπεδοκλῆς')), (1, ('ἀπείρου', 'sondern')), (2, ('def', 'sondern')), (3, ('αὐτοκίνητον', 'them')), (4, ('μεταβάλλον', 'ἀντίφασιν')), (5, ('nicht', 'δημοσθένης')), (6, ('cet', 'nun')), (7, ('κινουμένῳ', 'ἐκινεῖτο')), (8, ('aristoteles', 'ταῦρος')), (9, ('nicht', 'ὑψίστου')), (10, ('νόησις', 'wie')), (11, ('ἠρεμεῖ', 'μάθησις')), (12, ('μεταβάλλον', 'ferr')), (13, ('und', 'anonymus')), (14, ('κινοῦντος', 'ταὐτομάτου')), (15, ('vulg', 'φύσιος')), (16, ('μεταβάλλον', 'ἐναντίαι')), (17, ('κινοῦντος', 'ein')), (18, ('auch', 'μῶμος')), (19, ('μάθησις', 'ἀιδίου')), (20, ('mrg', 'φυσικῷ')), (21, ('von', 'ἐμπεδοκλῆς')), (22, ('def', 'μάνθανε')), (23, ('ἀπείρου', 'var')), (24, ('πεπερασμένον', 'αἰσθητικόν')), (25, ('ἀπείρου', 'φλεγμονῆς')), (26, ('def', 'wird')), (27, ('αὐτοκίνητον', 'damit')), (28, ('ἀλλʼ', 'hippocrates')), (29, ('κινοῦντος', 'ἀστέρα')), (30, ('κινουμένῳ', 'ὁκοῖον')), (31, ('μεταβάλλον', 'νέφους')), (32, ('εὔδημος', 'παρμενίδης')), (33, ('ἀπείρου', 'ἀντίφασιν')), (34, ('κινουμένῳ', 'ἐγρήγορσις')), (35, ('κινοῦντος', 'αἰσθητικοῦ')), (36, ('κινοῦντος', 'mit')), (37, ('πεπερασμένον', 'had')), (38, ('κινοῦντος', 'ἀναθυμιάσεως')), (39, ('πεπερασμένον', 'vab')), (40, ('πεπερασμένον', 'θήλειαι')), (41, ('κινοῦντος', 'other')), (42, ('vulg', 'φλεβοτομίαν')), (43, ('das', 'ἐνεργεία')), (44, ('ist', 'ἐπίπεδον')), (45, ('νόησις', 'ὀσμὴ')), (46, ('ἀπείρου', 'sind')), (47, ('ἀπείρου', 'ἐντελεχείᾳ')), (48, ('mrg', 'ἀπουσία')), (49, ('πεπερασμένον', 'αἰσθητηρίου'))]\n",
      "\n",
      "Loading model: gensim_lda_model_1kgrk_numtopics55_numpasses1_nobelow20_noabove0.1_tokmin3_tokmax20_docmin50_deaccentFalse.model ...\n",
      "... for word intrusion testing ...\n"
     ]
    },
    {
     "name": "stderr",
     "output_type": "stream",
     "text": [
      "INFO : loading LdaMulticore object from /home/kyle/cltk_data/user_data/lda_1kgreek/gensim_lda_model_1kgrk_numtopics100_numpasses1_nobelow20_noabove0.1_tokmin3_tokmax20_docmin50_deaccentFalse.model\n",
      "INFO : loading expElogbeta from /home/kyle/cltk_data/user_data/lda_1kgreek/gensim_lda_model_1kgrk_numtopics100_numpasses1_nobelow20_noabove0.1_tokmin3_tokmax20_docmin50_deaccentFalse.model.expElogbeta.npy with mmap=None\n",
      "INFO : setting ignored attribute dispatcher to None\n",
      "INFO : setting ignored attribute state to None\n",
      "INFO : setting ignored attribute id2word to None\n",
      "INFO : loaded /home/kyle/cltk_data/user_data/lda_1kgreek/gensim_lda_model_1kgrk_numtopics100_numpasses1_nobelow20_noabove0.1_tokmin3_tokmax20_docmin50_deaccentFalse.model\n",
      "INFO : loading LdaMulticore object from /home/kyle/cltk_data/user_data/lda_1kgreek/gensim_lda_model_1kgrk_numtopics100_numpasses1_nobelow20_noabove0.1_tokmin3_tokmax20_docmin50_deaccentFalse.model.state\n"
     ]
    },
    {
     "name": "stdout",
     "output_type": "stream",
     "text": [
      "Top 50 words of each LDA model:\n",
      "[['πεπερασμένον', 'κινοῦντος', 'def', 'ἀπείρου', 'aristoteles', 'νόησις', 'mrg', 'εὔδημος', 'κινουμένῳ', 'αὐτοκίνητον', 'προσεχῶς', 'vulg', 'ἀπείρῳ', 'στερήσεως', 'ἠρεμεῖ', 'μεταβάλλον', 'ἀναξαγόρας', 'πεπερασμένα', 'ταὐτομάτου', 'ἠρεμία', 'ἀδιαίρετον', 'διαιρετόν', 'κινοῦντα', 'νόησιν', 'ἠρεμοῦν', 'κινοῖτο', 'ἐναντίαι', 'ἀλλοιώσεως', 'ἠρεμίας', 'καλέουσι', 'πέρατι', 'νευρώδης', 'φλὲψ', 'hippocrates', 'κέντρου', 'littré', 'émile', 'κοιλίης', 'ἀμερὲς', 'iterat', 'κινηθήσεται', 'διαιρετὸν', 'κίνησίς', 'νοητῷ', 'simpl', 'καθόσον', 'phys', 'κομήτης', 'φθορά', 'ἐπίπεδον'], ['ἀπείρου', 'πεπερασμένον', 'κινοῦντος', 'aristoteles', 'μεταβάλλον', 'προσεχῶς', 'def', 'εὔδημος', 'mrg', 'vulg', 'νόησις', 'αὐτοκίνητον', 'ἠρεμεῖ', 'κινουμένῳ', 'στερήσεως', 'simpl', 'διαιρετὸν', 'κατηγορίαις', 'und', 'ἀπείρῳ', 'φυσικοῦ', 'das', 'ὑπέκκαυμα', 'ἠρεμία', 'ἠρεμοῦν', 'ἀναξαγόρας', 'ἀδιαίρετον', 'κομήτης', 'κινηθήσεται', 'ἀλλοιώσεως', 'πεπερασμένα', 'νόησιν', 'νοητῷ', 'κινοῖτο', 'κέντρου', 'phys', 'ταὐτομάτου', 'ἐναντίωσις', 'ἐναντίαι', 'πέρατι', 'κόμην', 'κινήσεται', 'κίνησίς', 'iterat', 'καθόσον', 'ἐντελεχείᾳ', 'ἀίδιος', 'φθορά', 'ἐκινεῖτο', 'nicht'], ['ἀπείρου', 'πεπερασμένον', 'def', 'aristoteles', 'προσεχῶς', 'κινουμένῳ', 'ἠρεμεῖ', 'κινοῦντος', 'εὔδημος', 'mrg', 'vulg', 'αὐτοκίνητον', 'ἀδιαίρετον', 'ἀλλοιώσεως', 'μεταβάλλον', 'στερήσεως', 'διαιρετὸν', 'κινήσεται', 'διαιρετόν', 'ἠρεμία', 'ἀπείρῳ', 'ἠρεμοῦν', 'simpl', 'ταὐτομάτου', 'κινηθήσεται', 'ἀναξαγόρας', 'φυσικοῦ', 'ἀμερὲς', 'exc', 'ἄπειρόν', 'πεπερασμένα', 'ἐναντίωσις', 'πέρατι', 'ἐναντίαι', 'phys', 'κινοῖτο', 'ἠρεμίας', 'iterat', 'κινούντων', 'κατηγορίαις', 'νόησις', 'κινοῦντα', 'ἀλλοιώσεις', 'καθόσον', 'superscr', 'μεγεθῶν', 'κινῆται', 'γενητὸν', 'ἐντελεχείᾳ', 'ἐνεργεία'], ['und', 'πεπερασμένον', 'macl', 'nicht', 'ferr', 'das', 'ἀπείρου', 'def', 'mrg', 'μεταβάλλον', 'εὔδημος', 'aristoteles', 'ist', 'ἠρεμεῖ', 'νόησις', 'auch', 'δικασταί', 'αὐτοκίνητον', 'aber', 'προσεχῶς', 'riv', 'στερήσεως', 'vgl', 'den', 'διαιρετὸν', 'sie', 'κινοῦντος', 'ἠρεμία', 'ἔναντι', 'νόησιν', 'wie', 'von', 'νοητῷ', 'ὑψίστου', 'ἀμερὲς', 'κινουμένῳ', 'κατηγορίαις', 'κινοῖτο', 'ein', 'ἀίδιος', 'διαιρετόν', 'κινηθήσεται', 'vulg', 'ἐπιχείρημα', 'rubr', 'καθόσον', 'bva', 'ἀπείρῳ', 'ἠρεμοῦν', 'νοητοῦ'], ['πεπερασμένον', 'μεταβάλλον', 'κινοῦντος', 'aristoteles', 'def', 'προσεχῶς', 'εὔδημος', 'ἀπείρου', 'mrg', 'αὐτοκίνητον', 'vulg', 'διαιρετὸν', 'κινουμένῳ', 'cet', 'νόησις', 'ἀλλʼ', 'ἠρεμεῖ', 'ἀδιαίρετον', 'ἠρεμία', 'στερήσεως', 'κινοῦντα', 'ταὐτομάτου', 'κινήσεται', 'ἀπείρῳ', 'ἀλλοιώσεως', 'πέρατι', 'νοητῷ', 'phys', 'νόησιν', 'ἀμερῶν', 'ἐντελεχείᾳ', 'ἀναξαγόρας', 'ἠρεμοῦν', 'κατηγορίαις', 'ἐναντίαι', 'ἠρεμίαν', 'ἐναντίωσις', 'ὑψίστου', 'κινητὸν', 'ἀμερὲς', 'κίνησίς', 'πεπερασμένα', 'simpl', 'φυσικοῦ', 'κινούντων', 'κινοῖτο', 'ἀλλοιοῦσθαι', 'τῶι', 'κινητικὸν', 'διαιρετόν'], ['abbrev', 'und', 'πεπερασμένον', 'ἀπείρου', 'aristoteles', 'προσεχῶς', 'mrg', 'κινουμένῳ', 'cet', 'def', 'μεταβάλλον', 'εὔδημος', 'ἠρεμεῖ', 'νόησις', 'vulg', 'κινοῦντος', 'simpl', 'αὐτοκίνητον', 'nicht', 'das', 'διαιρετὸν', 'κατηγορίαις', 'ἠρεμία', 'ἀπείρῳ', 'ἀδιαίρετον', 'ἠρεμίας', 'κινοῖτο', 'ist', 'ἀίδιος', 'ἀλλοιώσεως', 'den', 'ἐναντίωσις', 'καθόσον', 'auch', 'ταὐτομάτου', 'ἀναξαγόρας', 'πέρατι', 'διαιρετόν', 'παρμενίδης', 'ἐντελεχείᾳ', 'κινηθήσεται', 'σύνθετα', 'ζήνωνος', 'ἀλλοιοῦσθαι', 'στερήσεως', 'κομήτης', 'ἀμερὲς', 'exc', 'φυσικοῦ', 'κινοῦντα'], ['und', 'νόησις', 'πεπερασμένον', 'def', 'mrg', 'ἀπείρου', 'μεταβάλλον', 'nicht', 'εὔδημος', 'das', 'προσεχῶς', 'αὐτοκίνητον', 'ξενίας', 'ἠρεμεῖ', 'δημοσθένης', 'aristoteles', 'vulg', 'aber', 'νόησιν', 'ἀναξαγόρας', 'κόμην', 'κινουμένῳ', 'den', 'auch', 'vab', 'κινοῦντος', 'πεπερασμένα', 'κέντρου', 'εὐδαιμονεῖν', 'νοητῷ', 'ist', 'ἠρεμία', 'πουλὺ', 'διαιρετὸν', 'ἠρεμοῦν', 'gasda', 'φίλιππος', 'ὄψεων', 'ποιότητες', 'ἀπείρῳ', 'κινοῖτο', 'νοητοῦ', 'ἀμερὲς', 'κινοῦντα', 'von', 'ἀκτίνων', 'ἀίδιος', 'πέρατι', 'κατηγορίαις', 'ὁκόσον'], ['πεπερασμένον', 'ἀπείρου', 'κινοῦντος', 'def', 'mrg', 'μεταβάλλον', 'κινουμένῳ', 'νόησις', 'προσεχῶς', 'und', 'στερήσεως', 'ἀπείρῳ', 'αὐτοκίνητον', 'aristoteles', 'εὔδημος', 'ἠρεμία', 'ἠρεμεῖ', 'nicht', 'vulg', 'κατηγορίαις', 'πεπερασμένα', 'κινοῖτο', 'διαιρετὸν', 'ἄπειρόν', 'διαιρετόν', 'ἀναξαγόρας', 'das', 'ἀμερὲς', 'ἀδιαίρετον', 'φθορά', 'ἠρεμίας', 'phys', 'καθόσον', 'κινηθήσεται', 'κέντρου', 'ὑπέκκαυμα', 'σύνθετα', 'ἀίδιος', 'ταὐτομάτου', 'ἐναντίωσις', 'πέρατι', 'ἠρεμοῦν', 'κίνησίς', 'κομήτης', 'νόησιν', 'ἐντελεχείᾳ', 'κινήσεται', 'κινῆται', 'simpl', 'φυσικοῦ'], ['ζεῦ', 'πεπερασμένον', 'def', 'ἀπείρου', 'μεταβάλλον', 'vulg', 'mrg', 'εὔδημος', 'but', 'lucian', 'κινοῦντος', 'κινουμένῳ', 'νόησις', 'στερήσεως', 'aristoteles', 'προσεχῶς', 'was', 'ἠρεμεῖ', 'ἀλλοιώσεως', 'ἀπείρῳ', 'κινούντων', 'κατηγορίαις', 'ἠρεμία', 'διαιρετὸν', 'ἀμερὲς', 'only', 'simpl', 'κινοῖτο', 'from', 'ἐναντίωσις', 'κινηθήσεται', 'ἀδιαίρετον', 'ἠρεμίαν', 'ἀναξαγόρας', 'καθόσον', 'ἠρεμίας', 'διαιρετόν', 'αὐτοκίνητον', 'mss', 'phys', 'κινήσεται', 'ἐνεργεία', 'κίνησίς', 'φθορά', 'κενὰ', 'πέρατι', 'ἐκινεῖτο', 'ζήνωνος', 'ταὐτομάτου', 'θήλειαι'], ['und', 'πεπερασμένον', 'μεταβάλλον', 'das', 'def', 'προσεχῶς', 'κινοῦντος', 'aristoteles', 'κομήτης', 'ἀπείρου', 'κινουμένῳ', 'νόησις', 'mrg', 'εὔδημος', 'vulg', 'ist', 'nicht', 'ἠρεμεῖ', 'aber', 'simpl', 'ὄψεων', 'ταὐτομάτου', 'στερήσεως', 'κόμην', 'ὑπέκκαυμα', 'διαιρετὸν', 'αὐτοκίνητον', 'ἀναθυμιάσεως', 'νέφη', 'sie', 'ἀμερὲς', 'iterat', 'διαιρετόν', 'ἀναθυμίασις', 'κινηθήσεται', 'νοητῷ', 'ἀπλανοῦς', 'νόησιν', 'phys', 'vgl', 'ἀλλοιώσεως', 'κατηγορίαις', 'ἠρεμία', 'ἀναξαγόρας', 'auch', 'ἀπείρῳ', 'κέντρου', 'ἀναθυμίασιν', 'φθορά', 'κίνησίς'], ['cet', 'πεπερασμένον', 'vulg', 'pal', 'ἀπείρου', 'μεταβάλλον', 'ἀλλʼ', 'def', 'κινοῦντος', 'hab', 'mrg', 'aristoteles', 'εὔδημος', 'οὐδʼ', 'νόησις', 'ἠρεμεῖ', 'λίμνην', 'προσεχῶς', 'κινουμένῳ', 'νόησιν', 'ἐπʼ', 'ἀπείρῳ', 'αὐτοκίνητον', 'ἠρεμία', 'διαιρετὸν', 'κινοῖτο', 'κατηγορίαις', 'ἀλλοιώσεως', 'ἀναξαγόρας', 'νοητοῦ', 'νοητῷ', 'στερήσεως', 'κινοῦντα', 'διαιρετόν', 'εὐδαιμονεῖν', 'simpl', 'ἀμερὲς', 'κινῆται', 'ἠρεμίαν', 'πέρατι', 'ταὐτομάτου', 'φυσικοῦ', 'πεπερασμένα', 'ἐναντίαι', 'ζεῦ', 'κινηθήσεται', 'ἠρεμοῦν', 'ἀίδιος', 'phys', 'κινούντων'], ['πεπερασμένον', 'ἀπείρου', 'def', 'μεταβάλλον', 'εὔδημος', 'aristoteles', 'κινουμένῳ', 'κινοῦντος', 'mrg', 'αὐτοκίνητον', 'vulg', 'ἀπείρῳ', 'ἀδιαίρετον', 'προσεχῶς', 'ἀλλοιώσεως', 'στερήσεως', 'ἠρεμεῖ', 'διαιρετὸν', 'κινούντων', 'διαιρετόν', 'ταὐτομάτου', 'ἠρεμίας', 'κινῆται', 'ἠρεμία', 'πεπερασμένα', 'und', 'κινήσεται', 'κινοῖτο', 'ἀναξαγόρας', 'ἐναντίωσις', 'ἠρεμοῦν', 'νόησις', 'κατηγορίαις', 'κινοῦντα', 'ἀίδιος', 'κεκινῆσθαι', 'exc', 'ἐνεργεία', 'καθόσον', 'κινητὸν', 'simpl', 'ἀμερῶν', 'πέρατι', 'φθορά', 'φυσικοῦ', 'ἀλλοιοῦσθαι', 'iterat', 'ἐναντίαι', 'ἐντελέχεια', 'ἄπειρόν'], ['ἀπείρου', 'κινοῦντος', 'πεπερασμένον', 'def', 'κινουμένῳ', 'mrg', 'νόησις', 'μεταβάλλον', 'aristoteles', 'προσεχῶς', 'εὔδημος', 'vulg', 'ἠρεμεῖ', 'διαιρετὸν', 'αὐτοκίνητον', 'διαιρετόν', 'ἠρεμία', 'ἀλλοιώσεως', 'phys', 'στερήσεως', 'ἠρεμοῦν', 'φθορά', 'ταὐτομάτου', 'ἀδιαίρετον', 'ἀναξαγόρας', 'ἐναντίωσις', 'κινηθήσεται', 'καθόσον', 'νόησιν', 'simpl', 'ἐντελεχείᾳ', 'κινοῦντα', 'σύνθετα', 'ἀίδιος', 'und', 'ἀμερὲς', 'νοητοῦ', 'ἠρεμίαν', 'κινῆται', 'κίνησίς', 'κατηγορίαις', 'ἀπείρῳ', 'ἐντελέχεια', 'νοητῷ', 'κινήσεται', 'κινοῖτο', 'ἐκινεῖτο', 'ἐνεργεία', 'πέρατι', 'παρμενίδης'], ['cet', 'ἀλλʼ', 'πεπερασμένον', 'vulg', 'pal', 'ἀπείρου', 'def', 'aristoteles', 'μεταβάλλον', 'ἐπʼ', 'mrg', 'προσεχῶς', 'κινουμένῳ', 'οὐδʼ', 'εὔδημος', 'κινοῦντος', 'hab', 'αὐτοκίνητον', 'λίμνην', 'αἰσθητήριον', 'ἀπείρῳ', 'καθʼ', 'κατηγορίαις', 'ἀλλοιώσεως', 'ἠρεμεῖ', 'οὔτʼ', 'simpl', 'στερήσεως', 'ὀσμῆς', 'ἠρεμία', 'κινηθήσεται', 'ἁπτῶν', 'φθορά', 'ταὐτομάτου', 'διαιρετὸν', 'ἀδιαίρετον', 'κινοῖτο', 'ἐφʼ', 'iterat', 'ἀίδιος', 'ἀναξαγόρας', 'καθόσον', 'ἠρεμίαν', 'φυσικοῦ', 'μάθησις', 'παρμενίδης', 'διαιρετόν', 'ἠρεμοῦν', 'ὀσμὴ', 'κινήσεται'], ['πεπερασμένον', 'κινοῦντος', 'ἀπείρου', 'aristoteles', 'μεταβάλλον', 'def', 'κινουμένῳ', 'εὔδημος', 'προσεχῶς', 'ἠρεμεῖ', 'ἠρεμία', 'στερήσεως', 'vulg', 'mrg', 'ἀπείρῳ', 'δικασταί', 'νόησις', 'αὐτοκίνητον', 'διαιρετόν', 'καθόσον', 'ἀλλʼ', 'macl', 'ἀλλοιώσεως', 'ἐναντίαι', 'κινοῖτο', 'ἐναντίωσις', 'κινοῦντα', 'ἀμερὲς', 'φυσικοῦ', 'κατηγορίαις', 'ἠρεμοῦν', 'ταὐτομάτου', 'κινήσεται', 'ἐντελεχείᾳ', 'κίνησίς', 'κινῆται', 'simpl', 'ferr', 'πεπερασμένα', 'ἀναξαγόρας', 'πέρατι', 'ἠρεμίας', 'νόησιν', 'ἀναθυμιάσεως', 'διαιρετὸν', 'ἐνεργεία', 'παρμενίδης', 'phys', 'ἐπιχείρημα', 'κινηθήσεται'], ['und', 'πεπερασμένον', 'das', 'def', 'φλεβοτομίας', 'ἀπείρου', 'aristoteles', 'κινοῦντος', 'von', 'ist', 'κινουμένῳ', 'αὐτοκίνητον', 'vulg', 'ἠρεμία', 'μεταβάλλον', 'εὔδημος', 'nicht', 'aber', 'στερήσεως', 'sich', 'ein', 'den', 'simpl', 'ἀναξαγόρας', 'auch', 'mrg', 'πεπερασμένα', 'προσεχῶς', 'κενώσεως', 'ἀδιαίρετον', 'φθορά', 'κινῆται', 'διαιρετὸν', 'vgl', 'ἀλλοιώσεως', 'ἀπείρῳ', 'κινούντων', 'ἐναντίωσις', 'phys', 'wie', 'νόησις', 'διαιρετόν', 'δημοσθένης', 'hat', 'ἐντελέχεια', 'νόησιν', 'ἐπιχείρημα', 'φλεβοτομεῖν', 'ξενίας', 'ἐναντίαι'], ['πεπερασμένον', 'φλεβοτομίας', 'προσεχῶς', 'ἀπείρου', 'νόησις', 'εὔδημος', 'def', 'aristoteles', 'κινοῦντος', 'mrg', 'αὐτοκίνητον', 'μεταβάλλον', 'κινουμένῳ', 'ἀπείρῳ', 'στερήσεως', 'νόησιν', 'διαιρετόν', 'ἠρεμεῖ', 'νοητῷ', 'διαιρετὸν', 'κενώσεως', 'simpl', 'κατηγορίαις', 'κινοῖτο', 'vulg', 'νοητοῦ', 'κινήσεται', 'φλεβοτομίαν', 'ἠρεμία', 'ἀδιαίρετον', 'πεπερασμένα', 'κινῆται', 'ἠρεμοῦν', 'ταὐτομάτου', 'ἀναξαγόρας', 'ποιότητες', 'μεγεθῶν', 'ἠρεμίας', 'ἀίδιος', 'ἀμερὲς', 'ἀλλοιώσεως', 'κίνησίς', 'πέρατι', 'φλεβοτομεῖν', 'ἐντελέχεια', 'ἐντελεχείᾳ', 'ἐναντίωσις', 'τοσόνδε', 'φθορά', 'προυπάρχειν'], ['und', 'πεπερασμένον', 'das', 'nicht', 'def', 'mrg', 'aristoteles', 'aber', 'ἀπείρου', 'συζυγία', 'αὐτοκίνητον', 'ist', 'μεταβάλλον', 'den', 'vgl', 'vulg', 'von', 'auch', 'προσεχῶς', 'sie', 'νόησις', 'κινοῦντος', 'wie', 'στερήσεως', 'ἐγρηγορέναι', 'κινουμένῳ', 'ταὐτομάτου', 'ἠρεμεῖ', 'macl', 'simpl', 'εὔδημος', 'durch', 'κατηγορίαις', 'νωτιαίου', 'διαιρετόν', 'ἀλλοιώσεως', 'ἐναντίωσις', 'ἠρεμίας', 'ἀδιαίρετον', 'ἀίδιος', 'κινῆται', 'κινήσεται', 'κίνησίς', 'nun', 'ἀπείρῳ', 'ein', 'ἀμερὲς', 'ἐγρήγορσις', 'κινηθήσεται', 'πεπερασμένα'], ['πεπερασμένον', 'macl', 'νόησις', 'μεταβάλλον', 'mrg', 'def', 'ἀπείρου', 'aristoteles', 'φλεβοτομίας', 'εὔδημος', 'κινουμένῳ', 'αὐτοκίνητον', 'ferr', 'νόησιν', 'ἠρεμεῖ', 'κινοῦντος', 'στερήσεως', 'ὑπέκκαυμα', 'φθορά', 'καθόσον', 'ἀναξαγόρας', 'εὐδαιμονεῖν', 'διαιρετόν', 'διαιρετὸν', 'προσεχῶς', 'simpl', 'κινηθήσεται', 'δικασταί', 'ἐναντίωσις', 'κομήτης', 'νοητοῦ', 'πέρατι', 'ἠρεμοῦν', 'ἠρεμία', 'τιμαίῳ', 'νοητῷ', 'ἀναθυμιάσεως', 'ἀδιαίρετον', 'κατηγορίαις', 'ἀπείρῳ', 'phys', 'κέντρου', 'παρμενίδης', 'ἀλλοιοῦσθαι', 'ἐπιχείρημα', 'ἠρεμίαν', 'iterat', 'ζήνωνος', 'κινοῦντα', 'ἀμερὲς'], ['πεπερασμένον', 'κινοῦντος', 'ἀπείρου', 'νόησις', 'def', 'und', 'μεταβάλλον', 'aristoteles', 'mrg', 'κινουμένῳ', 'ἠρεμεῖ', 'εὔδημος', 'νόησιν', 'das', 'προσεχῶς', 'ἀδιαίρετον', 'αὐτοκίνητον', 'nicht', 'ἀπείρῳ', 'διαιρετόν', 'νοητῷ', 'στερήσεως', 'ἀλλʼ', 'κομήτης', 'καθόσον', 'διαιρετὸν', 'κίνησίς', 'ἀμερὲς', 'τοσόνδε', 'ἀλλοιώσεως', 'κινηθήσεται', 'ἀναξαγόρας', 'κινοῖτο', 'ἐναντίαι', 'vulg', 'ἀλλοιοῦσθαι', 'ὑπέκκαυμα', 'aber', 'νοητοῦ', 'ἀρτηρίαις', 'κινήσεται', 'φυσικοῦ', 'ist', 'κέντρου', 'φθορά', 'πεπερασμένα', 'phys', 'ἠρεμία', 'simpl', 'ἠρεμίας'], ['συζυγία', 'πεπερασμένον', 'μεταβάλλον', 'ἀπείρου', 'def', 'κινοῦντος', 'νωτιαίου', 'κινουμένῳ', 'εὔδημος', 'aristoteles', 'mrg', 'προσεχῶς', 'vulg', 'αὐτοκίνητον', 'μυσὶ', 'ἠρεμία', 'πέρατι', 'διαιρετὸν', 'ἀπείρῳ', 'κατηγορίαις', 'ὀστοῦ', 'διάρθρωσιν', 'ταὐτομάτου', 'ἀναξαγόρας', 'στερήσεως', 'συζυγιῶν', 'ἠρεμεῖ', 'κινοῦσι', 'ἐναντίωσις', 'κινηθήσεται', 'νόησις', 'κρανίου', 'ἐντελεχείᾳ', 'ἀλλοιώσεως', 'νόησιν', 'ἔκφυσιν', 'ἀδιαίρετον', 'simpl', 'phys', 'ἠρεμίας', 'πεπερασμένα', 'διαιρετόν', 'κινοῖτο', 'ἄπειρόν', 'τρῆμα', 'μεγεθῶν', 'λάρυγγος', 'ἠρεμοῦν', 'κινήσεται', 'φυσικῷ'], ['πεπερασμένον', 'def', 'aristoteles', 'μεταβάλλον', 'mrg', 'κινοῦντος', 'ἀπείρου', 'κινουμένῳ', 'προσεχῶς', 'εὔδημος', 'vulg', 'νόησις', 'ἀπείρῳ', 'ἠρεμεῖ', 'διαιρετόν', 'πεπερασμένα', 'κινηθήσεται', 'ἀλλοιώσεως', 'phys', 'und', 'ἠρεμία', 'κατηγορίαις', 'διαιρετὸν', 'στερήσεως', 'φθορά', 'αὐτοκίνητον', 'ἀδιαίρετον', 'ἀίδιος', 'simpl', 'κινήσεται', 'κινοῦντα', 'φλεβοτομίας', 'καθόσον', 'κινῆται', 'κινοῖτο', 'ἠρεμοῦν', 'ἐναντίαι', 'ταὐτομάτου', 'exc', 'νόησιν', 'ἀναξαγόρας', 'πέρατι', 'κινούντων', 'φυσικοῦ', 'κίνησίς', 'ἠρεμίαν', 'ἐντελέχεια', 'κέντρου', 'τμῆμα', 'ἀμερῶν'], ['abbrev', 'def', 'πεπερασμένον', 'μεταβάλλον', 'ἀπείρου', 'aristoteles', 'εὔδημος', 'νόησις', 'προσεχῶς', 'mrg', 'κινοῦντος', 'ἐναντίαι', 'κινουμένῳ', 'διαιρετὸν', 'vulg', 'ἀπείρῳ', 'cet', 'ἠρεμεῖ', 'αὐτοκίνητον', 'ἀλλοιώσεως', 'καθόσον', 'phys', 'ἀίδιος', 'simpl', 'διαιρετόν', 'ἠρεμοῦν', 'στερήσεως', 'κινηθήσεται', 'ὑψίστου', 'ταὐτομάτου', 'τιμαίῳ', 'κατηγορίαις', 'ἠρεμία', 'κινήσεται', 'κινούντων', 'φθορά', 'ἀμερὲς', 'πέρατι', 'παρμενίδης', 'κινοῖτο', 'ζήνωνος', 'φλεβοτομίας', 'προυπάρχειν', 'νόησιν', 'ἐναντίωσις', 'εὐδαιμονεῖν', 'vab', 'ἠρεμίας', 'ξενίας', 'πεπερασμένα'], ['def', 'πεπερασμένον', 'εὔδημος', 'aristoteles', 'mrg', 'προσεχῶς', 'κινουμένῳ', 'μεταβάλλον', 'ἠρεμία', 'ἀπείρου', 'κινοῦντος', 'αὐτοκίνητον', 'vulg', 'νόησις', 'ἀπείρῳ', 'διαιρετὸν', 'κινηθήσεται', 'ἐντελεχείᾳ', 'στερήσεως', 'und', 'πεπερασμένα', 'φυσικοῦ', 'ἐναντίαι', 'ἠρεμίαν', 'κίνησίς', 'ἀλλοιώσεως', 'κατηγορίαις', 'κινοῖτο', 'ταὐτομάτου', 'ἠρεμίας', 'διαιρετόν', 'ἠρεμεῖ', 'ἀδιαίρετον', 'ἀμερὲς', 'simpl', 'κινούντων', 'καθόσον', 'ἀίδιος', 'cet', 'φθορά', 'φυσικῷ', 'superscr', 'ζήνωνος', 'ἄπειρόν', 'ἀναξαγόρας', 'παρμενίδης', 'νοητῷ', 'πέρατι', 'phys', 'ἐκινεῖτο'], ['macl', 'πεπερασμένον', 'def', 'μεταβάλλον', 'ferr', 'vulg', 'ἀπείρου', 'cet', 'riv', 'und', 'aristoteles', 'εὔδημος', 'κινοῦντος', 'προσεχῶς', 'στερήσεως', 'αὐτοκίνητον', 'bva', 'δικασταί', 'κινουμένῳ', 'das', 'ἠρεμεῖ', 'διαιρετὸν', 'mrg', 'rubr', 'κινούντων', 'πεπερασμένα', 'ἠρεμία', 'διαιρετόν', 'ἐπιχείρημα', 'ἀπείρῳ', 'ζεῦ', 'ταὐτομάτου', 'ἀλλοιώσεως', 'φθορά', 'plan', 'nicht', 'κινοῖτο', 'ἐναντίαι', 'simpl', 'ἀδιαίρετον', 'ist', 'κατηγορίαις', 'exc', 'ἀμερὲς', 'ἀναξαγόρας', 'κινηθήσεται', 'ἠρεμοῦν', 'aber', 'pal', 'κινητικὸν'], ['συζυγία', 'πεπερασμένον', 'def', 'mrg', 'ἀπείρου', 'κινοῦντος', 'μεταβάλλον', 'εὔδημος', 'aristoteles', 'προσεχῶς', 'κινουμένῳ', 'φλεβοτομίας', 'ἀπείρῳ', 'διαιρετόν', 'vulg', 'νωτιαίου', 'κινοῦντα', 'αὐτοκίνητον', 'στερήσεως', 'ἀδιαίρετον', 'simpl', 'ἀναξαγόρας', 'φθορά', 'ἀμερὲς', 'ἠρεμία', 'νόησις', 'ὀστοῦ', 'ἠρεμεῖ', 'μυσὶ', 'διαιρετὸν', 'ταὐτομάτου', 'συζυγιῶν', 'φυσικοῦ', 'ἐναντίωσις', 'σπονδύλων', 'phys', 'κινηθήσεται', 'ἀλλοιώσεως', 'πεπερασμένα', 'κατηγορίαις', 'τιμαίῳ', 'κινοῖτο', 'κομήτης', 'κίνησίς', 'iterat', 'ἀίδιος', 'γένυος', 'ἀμερῶν', 'νόησιν', 'ἔκφυσιν'], ['cet', 'aristoteles', 'πεπερασμένον', 'def', 'κινοῦντος', 'mrg', 'ἀπείρου', 'μεταβάλλον', 'vulg', 'νόησις', 'εὔδημος', 'αὐτοκίνητον', 'προσεχῶς', 'ἠρεμία', 'διαιρετὸν', 'διαιρετόν', 'στερήσεως', 'κινουμένῳ', 'simpl', 'ἀπείρῳ', 'ἠρεμεῖ', 'ἀδιαίρετον', 'κατηγορίαις', 'ἀμερὲς', 'ἀλλοιώσεως', 'κινούντων', 'ταὐτομάτου', 'κινοῖτο', 'ἀναξαγόρας', 'πεπερασμένα', 'ἀρτηρίαις', 'phys', 'ἐναντίαι', 'κινηθήσεται', 'pal', 'κινοῦντα', 'iterat', 'νοητῷ', 'τοσόνδε', 'hab', 'κινήσεται', 'ἄπειρόν', 'φυσικοῦ', 'φθορά', 'ἐπιχείρημα', 'λίμνην', 'κίνησίς', 'ἐναντίωσις', 'νόησιν', 'παρμενίδης'], ['def', 'πεπερασμένον', 'κινοῦντος', 'ἀπείρου', 'φλεγμονῆς', 'mrg', 'εὔδημος', 'μεταβάλλον', 'aristoteles', 'στερήσεως', 'νόησις', 'vulg', 'ἠρεμεῖ', 'διαιρετόν', 'κινουμένῳ', 'προσεχῶς', 'διαιρετὸν', 'αὐτοκίνητον', 'ἠρεμία', 'und', 'ἀπείρῳ', 'καθόσον', 'simpl', 'ταὐτομάτου', 'ἀναξαγόρας', 'ἀλλοιώσεως', 'ἀδιαίρετον', 'κατηγορίαις', 'ἐγρηγορέναι', 'ἠρεμίας', 'ἠρεμίαν', 'νόησιν', 'ἀμερὲς', 'exc', 'κινηθήσεται', 'κίνησίς', 'φθορά', 'πεπερασμένα', 'ἐναντίαι', 'iterat', 'ἐναντίωσις', 'φλεγμονὴ', 'φλεγμοναῖς', 'κινοῖτο', 'κινῆται', 'πέρατι', 'ἐντελεχείᾳ', 'φυσικοῦ', 'phys', 'ἀναθυμιάσεως'], ['und', 'nicht', 'das', 'ist', 'von', 'auch', 'aber', 'sie', 'den', 'vgl', 'wenn', 'sich', 'wie', 'sind', 'durch', 'mit', 'wird', 'ein', 'werden', 'sondern', 'hat', 'haben', 'nun', 'κινοῦντος', 'was', 'auf', 'πεπερασμένον', 'ἀπείρου', 'damit', 'act', 'μεταβάλλον', 'def', 'εὔδημος', 'aristoteles', 'oder', 'κινουμένῳ', 'vor', 'ihm', 'mrg', 'αὐτοκίνητον', 'ἀπείρῳ', 'ich', 'über', 'eine', 'νόησις', 'προσεχῶς', 'als', 'christus', 'dies', 'psal'], ['πεπερασμένον', 'def', 'μεταβάλλον', 'ἀπείρου', 'aristoteles', 'εὔδημος', 'κινοῦντος', 'προσεχῶς', 'cet', 'mrg', 'ἀλλʼ', 'κινουμένῳ', 'vulg', 'αὐτοκίνητον', 'ἀλλοιώσεως', 'ἠρεμίας', 'ἠρεμεῖ', 'ἠρεμία', 'στερήσεως', 'διαιρετὸν', 'simpl', 'phys', 'ἠρεμοῦν', 'νόησις', 'κινούντων', 'φυσικοῦ', 'κινηθήσεται', 'ἀδιαίρετον', 'ἀναξαγόρας', 'iterat', 'κινήσεται', 'διαιρετόν', 'ἀπείρῳ', 'κίνησίς', 'νόησιν', 'ἐναντίωσις', 'ἀίδιος', 'φθορά', 'κινοῖτο', 'und', 'ζήνωνος', 'καθόσον', 'κατηγορίαις', 'τοσόνδε', 'ἀμερῶν', 'ἠρεμίαν', 'παρμενίδης', 'ταὐτομάτου', 'ἐνεργεία', 'ἀμερὲς'], ['und', 'def', 'aristoteles', 'ἀπείρου', 'κινοῦντος', 'μεταβάλλον', 'mrg', 'πεπερασμένον', 'nicht', 'das', 'διαιρετὸν', 'ἀπείρῳ', 'προσεχῶς', 'ἠρεμεῖ', 'αὐτοκίνητον', 'vulg', 'simpl', 'κινουμένῳ', 'ἀδιαίρετον', 'ist', 'διαιρετόν', 'εὔδημος', 'φυσικοῦ', 'aber', 'νόησις', 'κατηγορίαις', 'ἀναξαγόρας', 'πέρατι', 'vgl', 'ταὐτομάτου', 'ἀμερὲς', 'πεπερασμένα', 'στερήσεως', 'τιμαίῳ', 'ἠρεμίας', 'κινηθήσεται', 'phys', 'καθόσον', 'νοητῷ', 'ἠρεμία', 'auch', 'ἐναντίωσις', 'ἀλλοιώσεως', 'ἠρεμοῦν', 'von', 'φθορά', 'διαιρεθήσεται', 'sich', 'παρμενίδης', 'den'], ['κινοῦντος', 'ἀπείρου', 'πεπερασμένον', 'def', 'aristoteles', 'mrg', 'κινουμένῳ', 'στερήσεως', 'vulg', 'προσεχῶς', 'ἠρεμία', 'simpl', 'νόησις', 'ἀδιαίρετον', 'διαιρετόν', 'ἀπείρῳ', 'μεταβάλλον', 'διαιρετὸν', 'αὐτοκίνητον', 'ἠρεμεῖ', 'εὔδημος', 'ἠρεμίας', 'πουλὺ', 'ἀμερὲς', 'νόησιν', 'τῇσι', 'κινήσεται', 'καθόσον', 'ἀλλοιώσεως', 'ἀναθυμιάσεως', 'phys', 'iterat', 'φθορά', 'πεπερασμένα', 'ἠρεμοῦν', 'ὁκόσον', 'ταὐτομάτου', 'ἠρεμίαν', 'θερμαινόμενον', 'ἐντελεχείᾳ', 'νοητοῦ', 'τμῆμα', 'ὁκόταν', 'φυσικοῦ', 'τοσόνδε', 'ἀναξαγόρας', 'κίνησίς', 'ἐναντίωσις', 'φύονται', 'πλανωμένων'], ['und', 'nicht', 'das', 'ist', 'von', 'def', 'πεπερασμένον', 'auch', 'vgl', 'aber', 'κινοῦντος', 'den', 'sie', 'ἀπείρου', 'εὔδημος', 'aristoteles', 'sondern', 'mrg', 'αὐτοκίνητον', 'sich', 'wenn', 'μεταβάλλον', 'προσεχῶς', 'nun', 'haben', 'ἠρεμία', 'νόησις', 'κινουμένῳ', 'wie', 'macl', 'durch', 'στερήσεως', 'ein', 'sind', 'hat', 'wird', 'ἀδιαίρετον', 'ἠρεμεῖ', 'mit', 'vulg', 'κινοῖτο', 'ἀπείρῳ', 'διαιρετόν', 'ἀλλοιώσεως', 'νόησιν', 'simpl', 'πέρατι', 'ταὐτομάτου', 'phys', 'ἠρεμίας'], ['mon', 'und', 'πεπερασμένον', 'var', 'ἀπείρου', 'das', 'def', 'nicht', 'κινοῦντος', 'εὔδημος', 'κινουμένῳ', 'aber', 'aristoteles', 'den', 'ist', 'sie', 'ἀπείρῳ', 'von', 'μεταβάλλον', 'mrg', 'auch', 'νόησις', 'προσεχῶς', 'sich', 'ἠρεμεῖ', 'vulg', 'αὐτοκίνητον', 'vgl', 'ἀδιαίρετον', 'στερήσεως', 'κίνησίς', 'διαιρετόν', 'ein', 'wie', 'μάνθανε', 'ξένους', 'mit', 'ἀίδιος', 'simpl', 'ταὐτομάτου', 'πειρῶ', 'σιγᾶν', 'pseudo', 'διαιρετὸν', 'πεπερασμένα', 'μάθησις', 'ἀλλοιώσεως', 'φύσιος', 'κινήσεται', 'ἠρεμία'], ['def', 'πεπερασμένον', 'aristoteles', 'ἀπείρου', 'μεταβάλλον', 'κινουμένῳ', 'κινοῦντος', 'προσεχῶς', 'mrg', 'εὔδημος', 'ἀπείρῳ', 'στερήσεως', 'vulg', 'αὐτοκίνητον', 'ἐναντίωσις', 'νόησις', 'simpl', 'διαιρετὸν', 'ἀδιαίρετον', 'κατηγορίαις', 'ἀλλοιώσεως', 'ἠρεμίας', 'κίνησίς', 'ἠρεμεῖ', 'ἀναξαγόρας', 'ταὐτομάτου', 'κινήσεται', 'iterat', 'καθόσον', 'κινοῖτο', 'διαιρετόν', 'ἀίδιος', 'κινοῦντα', 'ἠρεμία', 'κινῆται', 'ἠρεμίαν', 'τοσόνδε', 'φθορά', 'πεπερασμένα', 'ἀμερῶν', 'phys', 'ἐναντίαι', 'κινούντων', 'νόησιν', 'ἀμερὲς', 'κεκινῆσθαι', 'ἀλλοιοῦσθαι', 'exc', 'ἀλλοιώσεις', 'ἄπειρόν'], ['πεπερασμένον', 'und', 'ἀπείρου', 'def', 'μεταβάλλον', 'aristoteles', 'vulg', 'das', 'αὐτοκίνητον', 'κινοῦντος', 'εὔδημος', 'κινουμένῳ', 'nicht', 'προσεχῶς', 'mrg', 'ἠρεμία', 'στερήσεως', 'νόησις', 'ist', 'cet', 'ἀδιαίρετον', 'ἠρεμεῖ', 'ἐναντίαι', 'ἀπείρῳ', 'ἐναντίωσις', 'exc', 'phys', 'κινήσεται', 'κινοῖτο', 'aber', 'simpl', 'πεπερασμένα', 'auch', 'sich', 'von', 'den', 'φυσικοῦ', 'ἀίδιος', 'κατηγορίαις', 'διαιρετόν', 'ἀναξαγόρας', 'ἄπειρόν', 'ταὐτομάτου', 'ζήνωνος', 'ἀλλοιώσεως', 'νοητῷ', 'ἠρεμοῦν', 'ἠρεμίας', 'ἀμερὲς', 'διαιρετὸν'], ['ἀπείρου', 'πεπερασμένον', 'μεταβάλλον', 'def', 'κινοῦντος', 'mrg', 'προσεχῶς', 'εὔδημος', 'κινουμένῳ', 'aristoteles', 'αὐτοκίνητον', 'νόησις', 'ἠρεμεῖ', 'κατηγορίαις', 'ἀπείρῳ', 'ἠρεμία', 'στερήσεως', 'vulg', 'simpl', 'κινούντων', 'νόησιν', 'διαιρετὸν', 'phys', 'φθορά', 'ἠρεμοῦν', 'ἀδιαίρετον', 'πεπερασμένα', 'ἐναντίωσις', 'φυσικοῦ', 'κινηθήσεται', 'ἀλλοιώσεως', 'διαιρετόν', 'ἠρεμίαν', 'κινῆται', 'κινοῖτο', 'und', 'ἀναξαγόρας', 'κινήσεται', 'μεγεθῶν', 'ἀμερὲς', 'ἐκινεῖτο', 'ἐντελεχείᾳ', 'τιμαίῳ', 'ἐνεργεία', 'ἀίδιος', 'iterat', 'τμῆμα', 'exc', 'πέρατι', 'ἐπιχείρημα'], ['cet', 'und', 'ἀπείρου', 'def', 'κινοῦντος', 'εὔδημος', 'aristoteles', 'πεπερασμένον', 'vulg', 'αὐτοκίνητον', 'προσεχῶς', 'μεταβάλλον', 'das', 'mrg', 'κινουμένῳ', 'hab', 'διαιρετὸν', 'ἀδιαίρετον', 'κατηγορίαις', 'ἠρεμεῖ', 'pal', 'στερήσεως', 'ἀπείρῳ', 'von', 'nicht', 'ταὐτομάτου', 'ist', 'simpl', 'ἠρεμίας', 'ἠρεμία', 'οὐδʼ', 'ἀναξαγόρας', 'ἀλλʼ', 'den', 'διαιρετόν', 'ἐναντίαι', 'aber', 'ἀλλοιώσεως', 'phys', 'πεπερασμένα', 'sie', 'ἀμερὲς', 'φυσικοῦ', 'λίμνην', 'ἠρεμοῦν', 'ἐναντίωσις', 'φλεβοτομίας', 'κινοῦντα', 'πέρατι', 'ἐντελεχείᾳ'], ['πεπερασμένον', 'ἀπείρου', 'aristoteles', 'def', 'κινοῦντος', 'mrg', 'ἀρτηρίαις', 'μεταβάλλον', 'σφυγμῶν', 'κινουμένῳ', 'προσεχῶς', 'εὔδημος', 'αὐτοκίνητον', 'ἠρεμεῖ', 'vulg', 'ἀδιαίρετον', 'στερήσεως', 'διαιρετὸν', 'κατηγορίαις', 'ἠρεμία', 'ἀπείρῳ', 'φλεβοτομίας', 'κινοῖτο', 'διαιρετόν', 'ἐναντίαι', 'ἀμερὲς', 'ἀμερῶν', 'ταὐτομάτου', 'κινῆται', 'νόησις', 'ἐντελεχείᾳ', 'ἀλλοιώσεως', 'phys', 'φθορά', 'κινοῦντα', 'καθόσον', 'ἐναντίωσις', 'simpl', 'ἠρεμίας', 'ἠρεμοῦν', 'ἀρτηρίαι', 'πεπερασμένα', 'τιμαίῳ', 'κινηθήσεται', 'χιτώνων', 'πέρατι', 'φυσικοῦ', 'ἀναξαγόρας', 'κινούντων', 'ὁρισμὸν'], ['und', 'nicht', 'das', 'ist', 'aber', 'den', 'von', 'πεπερασμένον', 'auch', 'wie', 'vgl', 'sie', 'ein', 'ἀπείρου', 'sich', 'nun', 'durch', 'wenn', 'def', 'κινοῦντος', 'hat', 'was', 'μεταβάλλον', 'mit', 'mrg', 'εὔδημος', 'αὐτοκίνητον', 'werden', 'sondern', 'vulg', 'ἠρεμία', 'sind', 'κινουμένῳ', 'aristoteles', 'ἀδιαίρετον', 'ἠρεμεῖ', 'προσεχῶς', 'ἀπείρῳ', 'damit', 'wird', 'ἠρεμίας', 'haben', 'als', 'νόησις', 'κατηγορίαις', 'πέρατι', 'διαιρετόν', 'einem', 'ἠρεμίαν', 'διαιρετὸν'], ['πεπερασμένον', 'ἀπείρου', 'def', 'κινοῦντος', 'κινουμένῳ', 'mrg', 'εὔδημος', 'αὐτοκίνητον', 'aristoteles', 'μεταβάλλον', 'προσεχῶς', 'διαιρετὸν', 'στερήσεως', 'und', 'νόησις', 'ἀπείρῳ', 'ἠρεμία', 'ἀδιαίρετον', 'διαιρετόν', 'vulg', 'ἀμερῶν', 'ἐναντίωσις', 'κατηγορίαις', 'καθόσον', 'ἀμερὲς', 'κινοῦντα', 'ἠρεμεῖ', 'πεπερασμένα', 'νοητῷ', 'ἐναντίαι', 'φθορά', 'simpl', 'κινοῖτο', 'κινηθήσεται', 'ἐντελεχείᾳ', 'πέρατι', 'ἀναξαγόρας', 'ἀλλοιώσεως', 'ἠρεμίας', 'κινήσεται', 'ἀίδιος', 'exc', 'σύνθετα', 'ἄπειρόν', 'νοητοῦ', 'ἠρεμίαν', 'κινούντων', 'ἠρεμοῦν', 'das', 'φυσικοῦ'], ['und', 'ἀπείρου', 'πεπερασμένον', 'κινοῦντος', 'def', 'mrg', 'aristoteles', 'nicht', 'εὔδημος', 'αὐτοκίνητον', 'ἐγρηγορέναι', 'ἠρεμεῖ', 'στερήσεως', 'den', 'κινουμένῳ', 'auch', 'von', 'διαιρετὸν', 'ἀναθυμιάσεως', 'das', 'ist', 'μεταβάλλον', 'νόησις', 'ἀλλοιώσεως', 'ἀδιαίρετον', 'vulg', 'ἐγρήγορσις', 'προσεχῶς', 'vgl', 'ἠρεμία', 'simpl', 'αἰσθητικοῦ', 'καθόσον', 'ἠρεμίας', 'ἀπείρῳ', 'διαιρετόν', 'πέρατι', 'ἀναξαγόρας', 'κινηθήσεται', 'ἀδυναμία', 'phys', 'exc', 'κινήσεται', 'durch', 'ἀμερὲς', 'aber', 'κίνησίς', 'ἠρεμοῦν', 'κινούντων', 'τιμαίῳ'], ['ἀπείρου', 'κινοῦντος', 'def', 'πεπερασμένον', 'προσεχῶς', 'εὔδημος', 'κινουμένῳ', 'mrg', 'vulg', 'aristoteles', 'μεταβάλλον', 'αὐτοκίνητον', 'στερήσεως', 'κατηγορίαις', 'ἀναξαγόρας', 'διαιρετὸν', 'πεπερασμένα', 'διαιρετόν', 'simpl', 'ἀλλοιώσεως', 'ἠρεμία', 'φυσικοῦ', 'ἀπείρῳ', 'ἠρεμεῖ', 'κίνησίς', 'καθόσον', 'πέρατι', 'κινοῖτο', 'iterat', 'ἠρεμοῦν', 'κινοῦντα', 'παρμενίδης', 'und', 'φθορά', 'exc', 'κινούντων', 'ἀδιαίρετον', 'ἐναντίωσις', 'ἀίδιος', 'κινηθήσεται', 'προυπάρχειν', 'ταὐτομάτου', 'ἀμερὲς', 'κινητὸν', 'ἐκινεῖτο', 'ἐναντίαι', 'ἐνεργεία', 'ἀλλοιοῦσθαι', 'ἐπιχείρημα', 'κινῆται'], ['πεπερασμένον', 'mrg', 'aristoteles', 'ἀπείρου', 'def', 'εὔδημος', 'κινοῦντος', 'μεταβάλλον', 'ἠρεμεῖ', 'προσεχῶς', 'κινουμένῳ', 'ταὐτομάτου', 'αὐτοκίνητον', 'ἀδιαίρετον', 'στερήσεως', 'vulg', 'ἀπείρῳ', 'ἀίδιος', 'ἀμερῶν', 'simpl', 'κινοῦντα', 'ἠρεμίας', 'κινηθήσεται', 'φθορά', 'ἠρεμία', 'διαιρετόν', 'ἀλλοιώσεως', 'und', 'διαιρετὸν', 'πεπερασμένα', 'phys', 'ἠρεμοῦν', 'ἠρεμίαν', 'ἄπειρόν', 'νόησιν', 'κατηγορίαις', 'ἀμερῆ', 'φυσικοῦ', 'ἀναξαγόρας', 'ζήνωνος', 'πέρατι', 'φυσικὸς', 'κινοῖτο', 'ἀλλοιοῦσθαι', 'ἐνεργεία', 'νόησις', 'καθόσον', 'superscr', 'ἐναντίαι', 'usener'], ['ἀπείρου', 'κινοῦντος', 'def', 'πεπερασμένον', 'μεταβάλλον', 'mrg', 'aristoteles', 'κινουμένῳ', 'ἠρεμεῖ', 'προσεχῶς', 'εὔδημος', 'διαιρετὸν', 'vulg', 'αὐτοκίνητον', 'ἠρεμίας', 'ἀναξαγόρας', 'κατηγορίαις', 'διαιρετόν', 'ταὐτομάτου', 'στερήσεως', 'ἐναντίωσις', 'ἀπείρῳ', 'und', 'φυσικοῦ', 'τιμαίῳ', 'πέρατι', 'νόησις', 'ἀδιαίρετον', 'κινήσεται', 'καθόσον', 'πεπερασμένα', 'ἐπιχείρημα', 'simpl', 'φθορά', 'ἠρεμία', 'phys', 'ἀμερῶν', 'ἐκινεῖτο', 'ἐναντίωσιν', 'ἀμερὲς', 'κινοῖτο', 'ἄπειρόν', 'iterat', 'παρμενίδης', 'ἠρεμοῦν', 'φλεγμονῆς', 'κεκινῆσθαι', 'ἐνεργεία', 'ἀίδιος', 'ζήνωνος'], ['und', 'das', 'nicht', 'ist', 'aber', 'mit', 'sich', 'auch', 'von', 'sie', 'vgl', 'den', 'wie', 'def', 'ἀπείρου', 'κινοῦντος', 'πεπερασμένον', 'ein', 'durch', 'sind', 'wenn', 'wird', 'haben', 'μεταβάλλον', 'nun', 'aristoteles', 'hat', 'sondern', 'werden', 'mrg', 'προσεχῶς', 'αὐτοκίνητον', 'ἠρεμεῖ', 'was', 'νόησις', 'κινουμένῳ', 'εὔδημος', 'auf', 'oder', 'noch', 'als', 'στερήσεως', 'ταὐτομάτου', 'διαιρετὸν', 'πεπερασμένα', 'vor', 'διαιρετόν', 'ἀδιαίρετον', 'simpl', 'ἀμερὲς'], ['πεπερασμένον', 'def', 'aristoteles', 'κινοῦντος', 'ἀπείρου', 'εὔδημος', 'mrg', 'μεταβάλλον', 'προσεχῶς', 'κινουμένῳ', 'αὐτοκίνητον', 'ἠρεμία', 'vulg', 'στερήσεως', 'simpl', 'ἠρεμεῖ', 'κομήτης', 'διαιρετόν', 'διαιρετὸν', 'ἀπείρῳ', 'κατηγορίαις', 'κινοῖτο', 'ἀμερὲς', 'ὑπέκκαυμα', 'ἐναντίαι', 'ἀλλοιώσεως', 'ἀδιαίρετον', 'πεπερασμένα', 'ἠρεμοῦν', 'καθόσον', 'ἠρεμίας', 'ἀναξαγόρας', 'πέρατι', 'ἀλλοιοῦσθαι', 'ταὐτομάτου', 'ἐναντίωσις', 'φθορά', 'phys', 'ἔνστασιν', 'νόησις', 'exc', 'ζήνωνος', 'κέντρου', 'προυπάρχειν', 'iterat', 'ἐπιχείρημα', 'κινοῦντα', 'ἄπειρόν', 'φυσικοῦ', 'τμῆμα'], ['def', 'κινοῦντος', 'μεταβάλλον', 'ἀπείρου', 'εὔδημος', 'κινουμένῳ', 'προσεχῶς', 'mrg', 'ἠρεμεῖ', 'αὐτοκίνητον', 'aristoteles', 'vulg', 'πεπερασμένον', 'ἠρεμία', 'διαιρετὸν', 'νόησις', 'στερήσεως', 'κατηγορίαις', 'κινοῦντα', 'διαιρετόν', 'simpl', 'ταὐτομάτου', 'κίνησίς', 'κινῆται', 'ἠρεμοῦν', 'κινούντων', 'ἀναξαγόρας', 'ἀπείρῳ', 'phys', 'ἀμερὲς', 'πεπερασμένα', 'καθόσον', 'ἀδιαίρετον', 'ἐκινεῖτο', 'ἀλλοιώσεως', 'πέρατι', 'παρμενίδης', 'exc', 'νόησιν', 'φυσικῷ', 'iterat', 'und', 'ἠρεμίας', 'φυσικοῦ', 'ἐνεργεία', 'ἀίδιος', 'ἀλλοιώσεις', 'ἐναντίωσις', 'ἀμερῶν', 'ἐναντίαι'], ['und', 'nicht', 'das', 'den', 'πεπερασμένον', 'von', 'aber', 'sie', 'ist', 'auch', 'def', 'mrg', 'vgl', 'wenn', 'aristoteles', 'sich', 'κινοῦντος', 'wie', 'ἀπείρου', 'ἠρεμεῖ', 'μεταβάλλον', 'εὔδημος', 'ein', 'νόησις', 'mit', 'vulg', 'nun', 'στερήσεως', 'ἠρεμία', 'αὐτοκίνητον', 'κινουμένῳ', 'sind', 'durch', 'προσεχῶς', 'simpl', 'διαιρετόν', 'hat', 'ἀπείρῳ', 'haben', 'werden', 'was', 'damit', 'wird', 'ἀλλοιώσεως', 'κινοῖτο', 'διαιρετὸν', 'auf', 'ἀδιαίρετον', 'phys', 'ἀίδιος'], ['κινοῦντος', 'πεπερασμένον', 'ἀπείρου', 'mrg', 'aristoteles', 'vulg', 'κινουμένῳ', 'αὐτοκίνητον', 'def', 'εὔδημος', 'μεταβάλλον', 'διαιρετὸν', 'κατηγορίαις', 'ἀπείρῳ', 'διαιρετόν', 'ἠρεμία', 'cet', 'ἀδιαίρετον', 'ἠρεμεῖ', 'προσεχῶς', 'ταὐτομάτου', 'ἀλλοιώσεως', 'κινήσεται', 'καθόσον', 'ἠρεμοῦν', 'ἐντελεχείᾳ', 'νόησις', 'κινηθήσεται', 'phys', 'ἀμερὲς', 'στερήσεως', 'ἀίδιος', 'μεγεθῶν', 'πεπερασμένα', 'simpl', 'ἠρεμίας', 'ἀναξαγόρας', 'κινῆται', 'ἄπειρόν', 'κινοῦντα', 'φθορά', 'κινοῖτο', 'ἐναντίωσις', 'κινητὸν', 'iterat', 'φυσικῷ', 'ἀλλοιοῦσθαι', 'παρμενίδης', 'ἠρεμίαν', 'φλεβοτομίας'], ['πεπερασμένον', 'ἀπείρου', 'def', 'κινοῦντος', 'νόησις', 'εὔδημος', 'μεταβάλλον', 'προσεχῶς', 'ἀπείρῳ', 'aristoteles', 'mrg', 'κινουμένῳ', 'ἠρεμεῖ', 'αὐτοκίνητον', 'vulg', 'ἀίδιος', 'διαιρετὸν', 'πεπερασμένα', 'simpl', 'στερήσεως', 'κινοῖτο', 'ἀναξαγόρας', 'κινήσεται', 'ἀδιαίρετον', 'νόησιν', 'ἠρεμία', 'πέρατι', 'ταὐτομάτου', 'ἀμερὲς', 'κινοῦντα', 'φυσικοῦ', 'καθόσον', 'κινῆται', 'κατηγορίαις', 'phys', 'κινούντων', 'ἀλλοιώσεως', 'ἐναντίωσις', 'διαιρετόν', 'ἐντελεχείᾳ', 'μεταβάλλοντος', 'πότερα', 'φθορά', 'νοητῷ', 'κομήτης', 'ἠρεμοῦν', 'τοσόνδε', 'ἐνεργεία', 'ποιότητες', 'ἐκινεῖτο'], ['πεπερασμένον', 'def', 'κινοῦντος', 'μεταβάλλον', 'εὔδημος', 'aristoteles', 'ἀπείρου', 'ἠρεμεῖ', 'mrg', 'προσεχῶς', 'κινουμένῳ', 'στερήσεως', 'διαιρετόν', 'αὐτοκίνητον', 'ἀπείρῳ', 'διαιρετὸν', 'ἀδιαίρετον', 'ἠρεμία', 'vulg', 'κινούντων', 'ἀναξαγόρας', 'simpl', 'φθορά', 'κατηγορίαις', 'iterat', 'πέρατι', 'πεπερασμένα', 'κομήτης', 'ἀλλοιώσεως', 'ἠρεμίας', 'κίνησίς', 'ἐναντίωσις', 'phys', 'ἐντελεχείᾳ', 'ταὐτομάτου', 'ἠρεμίαν', 'ἀίδιος', 'φυσικοῦ', 'κινοῖτο', 'ὑπέκκαυμα', 'κινοῦντα', 'ἀναθυμιάσεως', 'ἐπιχείρημα', 'ἀμερῶν', 'κέντρου', 'καθόσον', 'ἠρεμοῦν', 'προυπάρχειν', 'ἀριστοτέλην', 'ἀμερῆ'], ['πεπερασμένον', 'und', 'nicht', 'def', 'das', 'νόησις', 'den', 'ἀπείρου', 'ist', 'aber', 'εὔδημος', 'mrg', 'auch', 'κινοῦντος', 'aristoteles', 'αὐτοκίνητον', 'sie', 'von', 'κινουμένῳ', 'sich', 'vgl', 'μεταβάλλον', 'στερήσεως', 'ἠρεμεῖ', 'wenn', 'wie', 'ein', 'ἠρεμία', 'διαιρετόν', 'φλεβοτομίας', 'προσεχῶς', 'ἀλλοιώσεως', 'διαιρετὸν', 'ἐναντίαι', 'κατηγορίαις', 'ἐναντίωσις', 'iterat', 'mit', 'sind', 'nun', 'καθόσον', 'simpl', 'ἠρεμίαν', 'κομήτης', 'ἐπιχείρημα', 'durch', 'πεπερασμένα', 'ἀναξαγόρας', 'ἠρεμίας', 'κινοῖτο'], ['ἀπείρου', 'πεπερασμένον', 'κινοῦντος', 'mrg', 'μεταβάλλον', 'def', 'aristoteles', 'macl', 'κινουμένῳ', 'φλεγμονῆς', 'εὔδημος', 'ἠρεμεῖ', 'ἠρεμία', 'διαιρετὸν', 'προσεχῶς', 'στερήσεως', 'φθορά', 'ἀδιαίρετον', 'ferr', 'bva', 'vulg', 'ἠρεμοῦν', 'simpl', 'und', 'ἐναντίωσις', 'κατηγορίαις', 'ἐναντίαι', 'ἀλλοιώσεως', 'διαιρετόν', 'κίνησίς', 'ἠρεμίαν', 'ἀμερὲς', 'ἀίδιος', 'κινήσεται', 'φλεβοτομίας', 'κινοῖτο', 'φυσικοῦ', 'ἀπείρῳ', 'ἀναξαγόρας', 'ἠρεμίας', 'αὐτοκίνητον', 'νόησιν', 'κινοῦντα', 'πέρατι', 'σύνθετα', 'iterat', 'ἄπειρόν', 'ταὐτομάτου', 'νόησις', 'κινούντων'], ['und', 'das', 'nicht', 'aber', 'ist', 'def', 'von', 'auch', 'πεπερασμένον', 'ἀπείρου', 'κινοῦντος', 'μεταβάλλον', 'sie', 'aristoteles', 'vgl', 'εὔδημος', 'κινουμένῳ', 'ein', 'den', 'mrg', 'ἠρεμεῖ', 'sind', 'durch', 'wenn', 'προσεχῶς', 'sich', 'αὐτοκίνητον', 'wie', 'στερήσεως', 'hat', 'ἠρεμία', 'ἀπείρῳ', 'vulg', 'πεπερασμένα', 'mit', 'ἀδιαίρετον', 'nun', 'was', 'ἀλλοιώσεως', 'sondern', 'ἐναντίωσις', 'φθορά', 'wird', 'ἠρεμίαν', 'κινήσεται', 'haben', 'simpl', 'werden', 'νόησις', 'κατηγορίαις']]\n",
      "\n",
      "Can you spot the misplaced word in each topic?\n",
      "0: πεπερασμένον κινοῦντος def ἀπείρου aristoteles νόησις mrg christus κινουμένῳ αὐτοκίνητον\n",
      "1: ὁρισμὸν πεπερασμένον κινοῦντος aristoteles μεταβάλλον προσεχῶς def εὔδημος mrg vulg\n",
      "2: ἀπείρου πεπερασμένον def aristoteles προσεχῶς κινουμένῳ ἠρεμεῖ κινοῦντος εὔδημος χιτώνων\n",
      "3: und πεπερασμένον macl nicht ferr das νευρώδης def mrg μεταβάλλον\n",
      "4: plan μεταβάλλον κινοῦντος aristoteles def προσεχῶς εὔδημος ἀπείρου mrg αὐτοκίνητον\n",
      "5: abbrev und πεπερασμένον pseudo aristoteles προσεχῶς mrg κινουμένῳ cet def\n",
      "6: und νόησις πεπερασμένον def mrg ἀπείρου μεταβάλλον dies εὔδημος das\n",
      "7: πεπερασμένον ἀπείρου κινοῦντος def wie μεταβάλλον κινουμένῳ νόησις προσεχῶς und\n",
      "8: ζεῦ ἀδυναμία def ἀπείρου μεταβάλλον vulg mrg εὔδημος but lucian\n",
      "9: und πεπερασμένον μεταβάλλον das def κεκινῆσθαι κινοῦντος aristoteles κομήτης ἀπείρου\n",
      "10: cet πεπερασμένον vulg pal ἀπείρου christus ἀλλʼ def κινοῦντος hab\n",
      "11: πεπερασμένον ἀπείρου def μεταβάλλον εὔδημος aristoteles κινουμένῳ κινοῦντος mrg ἀκτίνων\n",
      "12: ἀπείρου κινοῦντος πεπερασμένον def κινουμένῳ sind νόησις μεταβάλλον aristoteles προσεχῶς\n",
      "13: cet ἀλλʼ πεπερασμένον vulg pal ἀπείρου ἐναντίωσις aristoteles μεταβάλλον ἐπʼ\n",
      "14: πεπερασμένον κινοῦντος ἀπείρου aristoteles μεταβάλλον def κινουμένῳ κινητὸν προσεχῶς ἠρεμεῖ\n",
      "15: und ποιότητες das def φλεβοτομίας ἀπείρου aristoteles κινοῦντος von ist\n",
      "16: πεπερασμένον φλεβοτομίας προσεχῶς ἀπείρου νόησις εὔδημος def aristoteles κινοῦντος ἐπιχείρημα\n",
      "17: und πεπερασμένον das nicht def ἀριστοτέλην aristoteles aber ἀπείρου συζυγία\n",
      "18: πεπερασμένον macl νόησις μεταβάλλον vulg def ἀπείρου aristoteles φλεβοτομίας εὔδημος\n",
      "19: πεπερασμένον κινοῦντος ἀπείρου νόησις def und μεταβάλλον aristoteles ferr κινουμένῳ\n",
      "20: συζυγία πεπερασμένον μεταβάλλον ἐναντίαι def κινοῦντος νωτιαίου κινουμένῳ εὔδημος aristoteles\n",
      "21: πεπερασμένον def aristoteles μεταβάλλον mrg κινοῦντος ἀπείρου σιγᾶν προσεχῶς εὔδημος\n",
      "22: abbrev def πεπερασμένον eine ἀπείρου aristoteles εὔδημος νόησις προσεχῶς mrg\n",
      "23: κέντρου πεπερασμένον εὔδημος aristoteles mrg προσεχῶς κινουμένῳ μεταβάλλον ἠρεμία ἀπείρου\n",
      "24: macl πεπερασμένον def μεταβάλλον ferr vulg wird cet riv und\n",
      "25: συζυγία πεπερασμένον def mrg ἀπείρου κινοῦντος μεταβάλλον εὔδημος aristoteles φυσικῷ\n",
      "26: cet aristoteles auch def κινοῦντος mrg ἀπείρου μεταβάλλον vulg νόησις\n",
      "27: def πεπερασμένον κινοῦντος ἀπείρου φλεγμονῆς mrg εὔδημος μεταβάλλον μεγεθῶν στερήσεως\n",
      "28: und nicht das ist von auch aber sie den ὁκόταν\n",
      "29: πεπερασμένον def μεταβάλλον ἀπείρου aristoteles εὔδημος ὀσμὴ προσεχῶς cet mrg\n",
      "30: und def aristoteles ἀπείρου κέντρου μεταβάλλον mrg πεπερασμένον nicht das\n",
      "31: κινοῦντος ἀπείρου πεπερασμένον def aristoteles mrg ἀναθυμίασιν στερήσεως vulg προσεχῶς\n",
      "32: und nicht das ist von def κινοῦντα auch vgl aber\n",
      "33: mon und πεπερασμένον οὔτʼ ἀπείρου das def nicht κινοῦντος εὔδημος\n",
      "34: def μάνθανε aristoteles ἀπείρου μεταβάλλον κινουμένῳ κινοῦντος προσεχῶς mrg εὔδημος\n",
      "35: πεπερασμένον und καλέουσι def μεταβάλλον aristoteles vulg das αὐτοκίνητον κινοῦντος\n",
      "36: ἀπείρου πεπερασμένον μεταβάλλον auf κινοῦντος mrg προσεχῶς εὔδημος κινουμένῳ aristoteles\n",
      "37: cet und ἀπείρου def κινοῦντος εὔδημος aristoteles πεπερασμένον vulg littré\n",
      "38: πεπερασμένον ἀπείρου aristoteles def κινοῦντος mrg αἰσθητικοῦ μεταβάλλον σφυγμῶν κινουμένῳ\n",
      "39: und nicht das κινοῦσι aber den von πεπερασμένον auch wie\n",
      "40: πεπερασμένον ἀπείρου def κινοῦντος κινουμένῳ mrg εὔδημος nicht aristoteles μεταβάλλον\n",
      "41: und ἀπείρου ἀρτηρίαι κινοῦντος def mrg aristoteles nicht εὔδημος αὐτοκίνητον\n",
      "42: ἀπείρου κινοῦντος φύονται πεπερασμένον προσεχῶς εὔδημος κινουμένῳ mrg vulg aristoteles\n",
      "43: πεπερασμένον mrg aristoteles ἀπείρου def εὔδημος κινοῦντος νοητῷ ἠρεμεῖ προσεχῶς\n",
      "44: ἀπείρου κινοῦντος def πεπερασμένον μεταβάλλον mrg aristoteles ἔνστασιν ἠρεμεῖ προσεχῶς\n",
      "45: und christus nicht ist aber mit sich auch von sie\n",
      "46: πεπερασμένον def aristoteles κινοῦντος εὐδαιμονεῖν εὔδημος mrg μεταβάλλον προσεχῶς κινουμένῳ\n",
      "47: def κινοῦντος μεταβάλλον δημοσθένης εὔδημος κινουμένῳ προσεχῶς mrg ἠρεμεῖ αὐτοκίνητον\n",
      "48: und nicht das den πεπερασμένον von aber sie μυσὶ auch\n",
      "49: κινοῦντος πεπερασμένον ἀπείρου mrg aristoteles sich κινουμένῳ αὐτοκίνητον def εὔδημος\n",
      "50: νευρώδης ἀπείρου def κινοῦντος νόησις εὔδημος μεταβάλλον προσεχῶς ἀπείρῳ aristoteles\n",
      "51: πεπερασμένον def über μεταβάλλον εὔδημος aristoteles ἀπείρου ἠρεμεῖ mrg προσεχῶς\n",
      "52: πεπερασμένον und abbrev def das νόησις den ἀπείρου ist aber\n",
      "53: ἀπείρου πεπερασμένον κινοῦντος καλέουσι μεταβάλλον def aristoteles macl κινουμένῳ φλεγμονῆς\n",
      "54: und das nicht aber ist def von auch φλὲψ ἀπείρου\n",
      "Actual replacements were:\n",
      "[(0, ('εὔδημος', 'christus')), (1, ('ἀπείρου', 'ὁρισμὸν')), (2, ('mrg', 'χιτώνων')), (3, ('ἀπείρου', 'νευρώδης')), (4, ('πεπερασμένον', 'plan')), (5, ('ἀπείρου', 'pseudo')), (6, ('nicht', 'dies')), (7, ('mrg', 'wie')), (8, ('πεπερασμένον', 'ἀδυναμία')), (9, ('προσεχῶς', 'κεκινῆσθαι')), (10, ('μεταβάλλον', 'christus')), (11, ('αὐτοκίνητον', 'ἀκτίνων')), (12, ('mrg', 'sind')), (13, ('def', 'ἐναντίωσις')), (14, ('εὔδημος', 'κινητὸν')), (15, ('πεπερασμένον', 'ποιότητες')), (16, ('mrg', 'ἐπιχείρημα')), (17, ('mrg', 'ἀριστοτέλην')), (18, ('mrg', 'vulg')), (19, ('mrg', 'ferr')), (20, ('ἀπείρου', 'ἐναντίαι')), (21, ('κινουμένῳ', 'σιγᾶν')), (22, ('μεταβάλλον', 'eine')), (23, ('def', 'κέντρου')), (24, ('ἀπείρου', 'wird')), (25, ('προσεχῶς', 'φυσικῷ')), (26, ('πεπερασμένον', 'auch')), (27, ('aristoteles', 'μεγεθῶν')), (28, ('vgl', 'ὁκόταν')), (29, ('κινοῦντος', 'ὀσμὴ')), (30, ('κινοῦντος', 'κέντρου')), (31, ('κινουμένῳ', 'ἀναθυμίασιν')), (32, ('πεπερασμένον', 'κινοῦντα')), (33, ('var', 'οὔτʼ')), (34, ('πεπερασμένον', 'μάνθανε')), (35, ('ἀπείρου', 'καλέουσι')), (36, ('def', 'auf')), (37, ('αὐτοκίνητον', 'littré')), (38, ('ἀρτηρίαις', 'αἰσθητικοῦ')), (39, ('ist', 'κινοῦσι')), (40, ('αὐτοκίνητον', 'nicht')), (41, ('πεπερασμένον', 'ἀρτηρίαι')), (42, ('def', 'φύονται')), (43, ('μεταβάλλον', 'νοητῷ')), (44, ('κινουμένῳ', 'ἔνστασιν')), (45, ('das', 'christus')), (46, ('ἀπείρου', 'εὐδαιμονεῖν')), (47, ('ἀπείρου', 'δημοσθένης')), (48, ('ist', 'μυσὶ')), (49, ('vulg', 'sich')), (50, ('πεπερασμένον', 'νευρώδης')), (51, ('κινοῦντος', 'über')), (52, ('nicht', 'abbrev')), (53, ('mrg', 'καλέουσι')), (54, ('πεπερασμένον', 'φλὲψ'))]\n",
      "\n",
      "Loading model: gensim_lda_model_1kgrk_numtopics100_numpasses1_nobelow20_noabove0.1_tokmin3_tokmax20_docmin50_deaccentFalse.model ...\n",
      "... for word intrusion testing ...\n"
     ]
    },
    {
     "name": "stderr",
     "output_type": "stream",
     "text": [
      "INFO : loaded /home/kyle/cltk_data/user_data/lda_1kgreek/gensim_lda_model_1kgrk_numtopics100_numpasses1_nobelow20_noabove0.1_tokmin3_tokmax20_docmin50_deaccentFalse.model.state\n"
     ]
    },
    {
     "name": "stdout",
     "output_type": "stream",
     "text": [
      "Top 50 words of each LDA model:\n",
      "[['πεπερασμένον', 'def', 'ἀπείρου', 'κινοῦντος', 'εὔδημος', 'μεταβάλλον', 'mrg', 'ἀπείρῳ', 'αὐτοκίνητον', 'aristoteles', 'προσεχῶς', 'κινουμένῳ', 'διαιρετὸν', 'ἠρεμεῖ', 'νόησις', 'vulg', 'κατηγορίαις', 'διαιρετόν', 'ἠρεμία', 'phys', 'simpl', 'στερήσεως', 'ταὐτομάτου', 'iterat', 'ἠρεμοῦν', 'κινηθήσεται', 'ἀναξαγόρας', 'κινήσεται', 'κομήτης', 'ἠρεμίας', 'φθορά', 'κινοῖτο', 'πεπερασμένα', 'ἐναντίαι', 'ἀμερῶν', 'πέρατι', 'παρμενίδης', 'ἀλλοιώσεως', 'ἐναντίωσις', 'τοσόνδε', 'κινῆται', 'exc', 'κίνησίς', 'ἀδιαίρετον', 'φυσικοῦ', 'ἀλλοιοῦσθαι', 'ἀίδιος', 'ἐντελεχείᾳ', 'κινητὸν', 'ἄπειρόν'], ['πεπερασμένον', 'vab', 'ἀπείρου', 'κινοῦντος', 'εὔδημος', 'ξενίας', 'aristoteles', 'def', 'μεταβάλλον', 'gasda', 'δημοσθένης', 'mrg', 'αὐτοκίνητον', 'ἠρεμία', 'στερήσεως', 'διαιρετὸν', 'vulg', 'ἠρεμεῖ', 'φίλιππος', 'διαιρετόν', 'simpl', 'κινουμένῳ', 'ἀπείρῳ', 'προσεχῶς', 'νόησις', 'κατηγορίαις', 'ἀναξαγόρας', 'ἐντελεχείᾳ', 'δημοσθένους', 'ἠρεμίας', 'ἀδιαίρετον', 'κινούντων', 'καθόσον', 'κινηθήσεται', 'νόησιν', 'ἀλλοιώσεως', 'κινήσεται', 'ἐναντίαι', 'ἄπειρόν', 'πέρατι', 'ἐναντίωσις', 'ἀμερὲς', 'φυσικοῦ', 'πεπερασμένα', 'iterat', 'ταὐτομάτου', 'πότερα', 'τιμαίῳ', 'κινοῖτο', 'ἁλόντα'], ['mrg', 'κινοῦντος', 'πεπερασμένον', 'ἀπείρου', 'def', 'προσεχῶς', 'εὔδημος', 'aristoteles', 'στερήσεως', 'ἠρεμεῖ', 'νόησιν', 'κινουμένῳ', 'μεταβάλλον', 'αὐτοκίνητον', 'φλεβοτομίας', 'νόησις', 'ἠρεμία', 'διαιρετὸν', 'simpl', 'ἀδιαίρετον', 'κινοῦντα', 'φθορά', 'vulg', 'iterat', 'phys', 'ἠρεμίας', 'κινήσεται', 'ἀπείρῳ', 'ταὐτομάτου', 'νοητοῦ', 'ἐναντίαι', 'φυσικοῦ', 'ἠρεμίαν', 'ἀλλοιώσεως', 'ἀίδιος', 'ὑψίστου', 'διαιρετόν', 'εὐλογίαν', 'ἐντελέχεια', 'παρμενίδης', 'καθόσον', 'ἄπειρόν', 'πέρατι', 'ἐνεργεία', 'πεπερασμένα', 'ἀναξαγόρας', 'κατηγορίαις', 'ὁρισμὸν', 'κινοῖτο', 'ἐναντίωσις'], ['und', 'πεπερασμένον', 'def', 'κινοῦντος', 'ἀπείρου', 'das', 'mrg', 'μεταβάλλον', 'aristoteles', 'εὔδημος', 'ist', 'nicht', 'στερήσεως', 'προσεχῶς', 'κινουμένῳ', 'aber', 'διαιρετὸν', 'νόησις', 'vulg', 'αὐτοκίνητον', 'κατηγορίαις', 'auch', 'ἀδιαίρετον', 'φλεβοτομίας', 'den', 'ἀναξαγόρας', 'simpl', 'διαιρετόν', 'ἀπείρῳ', 'wie', 'von', 'νόησιν', 'κινηθήσεται', 'κινοῖτο', 'ἀλλοιώσεως', 'sie', 'vgl', 'ἐναντίαι', 'ἐναντίωσις', 'κέντρου', 'κινήσεται', 'ἀμερὲς', 'ἠρεμίαν', 'καθόσον', 'ἠρεμοῦν', 'ταὐτομάτου', 'νοητῷ', 'ἐπιχείρημα', 'ἠρεμεῖ', 'κινῆται'], ['und', 'ἐγρηγορέναι', 'ἀπείρου', 'πεπερασμένον', 'def', 'nicht', 'das', 'κινοῦντος', 'aristoteles', 'ἐγρήγορσις', 'mrg', 'αἰσθητικοῦ', 'ἀδυναμία', 'sie', 'εὔδημος', 'den', 'ist', 'προσεχῶς', 'ἀναθυμιάσεως', 'von', 'ἀναθυμίασις', 'κινουμένῳ', 'μεταβάλλον', 'vulg', 'νόησις', 'vgl', 'αὐτοκίνητον', 'φθορά', 'στερήσεως', 'auch', 'κινοῖτο', 'aber', 'ταὐτομάτου', 'διαιρετὸν', 'ἀπείρῳ', 'ἀλλοιώσεως', 'καταφέρεται', 'ἠρεμίαν', 'ἠρεμεῖ', 'ἐναίμοις', 'ἀδιαίρετον', 'πεπερασμένα', 'καθεύδει', 'νόησιν', 'ἠρεμία', 'wie', 'πέρατι', 'διαιρετόν', 'sich', 'χωριστόν'], ['κινοῦντος', 'μεταβάλλον', 'ἀπείρου', 'def', 'πεπερασμένον', 'mrg', 'κινουμένῳ', 'προσεχῶς', 'εὔδημος', 'αὐτοκίνητον', 'νόησις', 'vulg', 'ἀπείρῳ', 'aristoteles', 'στερήσεως', 'διαιρετὸν', 'ἠρεμία', 'ἀλλʼ', 'ἠρεμεῖ', 'ταὐτομάτου', 'καθόσον', 'ἀδιαίρετον', 'ἀλλοιώσεως', 'διαιρετόν', 'κινοῖτο', 'ἐναντίωσις', 'κινοῦντα', 'κατηγορίαις', 'νόησιν', 'ἀίδιος', 'πεπερασμένα', 'κινήσεται', 'simpl', 'ζήνωνος', 'ὁρισμὸν', 'κινούντων', 'ἠρεμίας', 'κέντρου', 'φθορά', 'ἀναξαγόρας', 'δικασταί', 'ἠρεμοῦν', 'ἐνεργεία', 'μεγεθῶν', 'iterat', 'ἀμερὲς', 'phys', 'φυσικοῦ', 'ἠρεμίαν', 'ἐναντίαι'], ['συζυγία', 'def', 'ἀπείρου', 'πεπερασμένον', 'νωτιαίου', 'κινοῦντος', 'mrg', 'μεταβάλλον', 'aristoteles', 'ἔναντι', 'νόησις', 'κινουμένῳ', 'στερήσεως', 'εὔδημος', 'μυσὶ', 'νόησιν', 'ἠρεμεῖ', 'ἠρεμία', 'νοητῷ', 'διαιρετὸν', 'γένυος', 'προσεχῶς', 'αὐτοκίνητον', 'διάρθρωσιν', 'κινοῦσι', 'ἐναντίαι', 'συζυγιῶν', 'διαιρετόν', 'ἀπείρῳ', 'πέρατι', 'κινοῦντα', 'ἀδιαίρετον', 'simpl', 'ἔκφυσιν', 'κρανίου', 'ἀμερὲς', 'φθορά', 'φυσικοῦ', 'πεπερασμένα', 'ἀλλοιώσεως', 'καθόσον', 'μνήσθητι', 'ὑψίστου', 'ταὐτομάτου', 'phys', 'ἐναντίωσις', 'ὀστοῦ', 'κίνησίς', 'τρῆμα', 'ἕκτης'], ['πεπερασμένον', 'def', 'ἀπείρου', 'κινοῦντος', 'mrg', 'aristoteles', 'μεταβάλλον', 'αὐτοκίνητον', 'εὔδημος', 'διαιρετὸν', 'προσεχῶς', 'ἠρεμεῖ', 'κινουμένῳ', 'διαιρετόν', 'ἀλλοιώσεως', 'simpl', 'στερήσεως', 'ὑψίστου', 'ἠρεμία', 'νόησις', 'πεπερασμένα', 'ἠρεμοῦν', 'ἐναντίαι', 'κινήσεται', 'πέρατι', 'ἀπείρῳ', 'ἀίδιος', 'phys', 'κινοῖτο', 'ταὐτομάτου', 'ἀδιαίρετον', 'κατηγορίαις', 'exc', 'vulg', 'ἀμερῶν', 'κινηθήσεται', 'φυσικοῦ', 'κινοῦντα', 'ἀμερὲς', 'καθόσον', 'ἀναξαγόρας', 'iterat', 'ἠρεμίας', 'προυπάρχειν', 'ἔναντι', 'ἠρεμίαν', 'ἐναντίωσιν', 'ἀιδίου', 'φθορά', 'ἐναντίωσις'], ['cet', 'πεπερασμένον', 'vulg', 'def', 'ἀπείρου', 'κινοῦντος', 'pal', 'mrg', 'εὔδημος', 'νόησις', 'μεταβάλλον', 'κομήτης', 'προσεχῶς', 'κινουμένῳ', 'aristoteles', 'ἀδιαίρετον', 'ἀλλʼ', 'ἠρεμεῖ', 'διαιρετὸν', 'ἀναθυμιάσεως', 'λίμνην', 'αὐτοκίνητον', 'κόμην', 'hab', 'ἀπείρῳ', 'φλεγμονῆς', 'πέρατι', 'phys', 'ὑπέκκαυμα', 'ἠρεμία', 'στερήσεως', 'iterat', 'φθορά', 'ἐπʼ', 'simpl', 'ὄψεων', 'und', 'πλανωμένων', 'σύνθετα', 'ἐντελεχείᾳ', 'ἀναξαγόρας', 'ζήνωνος', 'κινοῖτο', 'διαιρετόν', 'κέντρου', 'ταὐτομάτου', 'exc', 'τμῆμα', 'παρμενίδης', 'καθόσον'], ['ἀπείρου', 'def', 'πεπερασμένον', 'aristoteles', 'mrg', 'κινοῦντος', 'μεταβάλλον', 'εὔδημος', 'διαιρετὸν', 'ἠρεμία', 'φλὲψ', 'καλέουσι', 'littré', 'κοιλίης', 'hippocrates', 'émile', 'νευρώδης', 'αὐτοκίνητον', 'προσεχῶς', 'vulg', 'ἀπείρῳ', 'κινουμένῳ', 'στερήσεως', 'ἠρεμεῖ', 'simpl', 'ἀδιαίρετον', 'ἀλλοιώσεως', 'διαιρετόν', 'ἐπίπεδον', 'iterat', 'φυσικοῦ', 'κατηγορίαις', 'ἀναξαγόρας', 'καθόσον', 'νόησις', 'ἠρεμοῦν', 'phys', 'ἐκινεῖτο', 'ἐναντίαι', 'κινοῖτο', 'ἀίδιος', 'πεπερασμένα', 'κινήσεται', 'ἐνεργεία', 'κῶλον', 'πέρατι', 'κινούντων', 'διετάξατο', 'ταὐτομάτου', 'καθήκει'], ['und', 'das', 'nicht', 'ist', 'aber', 'von', 'sie', 'auch', 'ἀλλʼ', 'vgl', 'den', 'sich', 'wie', 'wenn', 'durch', 'ein', 'sind', 'mit', 'wird', 'sondern', 'was', 'nun', 'hat', 'haben', 'αἰσθητήριον', 'als', 'κινοῦντος', 'werden', 'auf', 'damit', 'πεπερασμένον', 'oder', 'ὀσμῆς', 'def', 'ich', 'act', 'ἀπείρου', 'καθʼ', 'einen', 'εὔδημος', 'ἁπτῶν', 'μεταβάλλον', 'noch', 'dies', 'οὔτʼ', 'aristoteles', 'eine', 'mrg', 'diese', 'αἰσθητηρίου'], ['ἐγρηγορέναι', 'ἐγρήγορσις', 'αἰσθητικοῦ', 'ἀδυναμία', 'mrg', 'καθεύδει', 'κινοῦντος', 'ἀπείρου', 'νόησις', 'μεταβάλλον', 'ἀναθυμίασις', 'πεπερασμένον', 'ἐναίμοις', 'εὔδημος', 'ἐγρηγορότα', 'ἀδιαίρετον', 'κίνησίς', 'vulg', 'ἀναθυμιάσεως', 'διαιρετὸν', 'καθεύδοντες', 'def', 'ἀλλοιώσεως', 'ἀπείρῳ', 'ταὐτομάτου', 'στερήσεως', 'μνημονεύουσιν', 'καθόσον', 'προσεχῶς', 'αὐτοκίνητον', 'ἀδυνατεῖν', 'κινῆται', 'καταψύχεται', 'καταψύχει', 'aristoteles', 'χωριστόν', 'ἠρεμία', 'κατηγορίαις', 'κινηθήσεται', 'ἐγρηγόρσεως', 'προυπάρχειν', 'ἠρεμίας', 'κινουμένῳ', 'ἀίδιος', 'φθορά', 'simpl', 'κινούντων', 'καταφέρεται', 'κινοῦντα', 'καταψύχεσθαι'], ['πεπερασμένον', 'ἀπείρου', 'def', 'ferr', 'aristoteles', 'macl', 'mrg', 'προσεχῶς', 'κινοῦντος', 'μεταβάλλον', 'εὔδημος', 'αὐτοκίνητον', 'ἀπείρῳ', 'κινουμένῳ', 'vulg', 'νόησις', 'ἠρεμεῖ', 'simpl', 'riv', 'ἀδιαίρετον', 'νόησιν', 'ἀναξαγόρας', 'στερήσεως', 'ἠρεμία', 'κινοῖτο', 'ἀμερὲς', 'bva', 'κινηθήσεται', 'κινοῦντα', 'ἠρεμίαν', 'διαιρετὸν', 'ἀλλοιώσεως', 'νοητοῦ', 'νοητῷ', 'ἐπιχείρημα', 'ἠρεμοῦν', 'διαιρετόν', 'ἠρεμίας', 'πεπερασμένα', 'plan', 'ἀλλοιοῦσθαι', 'καθόσον', 'iterat', 'ζήνωνος', 'ἐναντίωσις', 'τοσόνδε', 'φθορά', 'δικασταί', 'φυσικοῦ', 'ἐναντίαι'], ['πεπερασμένον', 'def', 'κινοῦντος', 'εὔδημος', 'mrg', 'κινουμένῳ', 'ἀπείρου', 'aristoteles', 'μεταβάλλον', 'προσεχῶς', 'αὐτοκίνητον', 'ἀπείρῳ', 'ἠρεμεῖ', 'vulg', 'διαιρετὸν', 'κινηθήσεται', 'διαιρετόν', 'simpl', 'ἀδιαίρετον', 'ἠρεμία', 'ἐναντίαι', 'κινήσεται', 'ἠρεμοῦν', 'πεπερασμένα', 'ἐναντίωσις', 'ταὐτομάτου', 'κατηγορίαις', 'ἀλλοιώσεως', 'φθορά', 'καθόσον', 'ὑψίστου', 'κινούντων', 'ἀμερῶν', 'κινοῖτο', 'ἀίδιος', 'ἀναξαγόρας', 'ἠρεμίας', 'ἔναντι', 'ζήνωνος', 'ἀμερὲς', 'phys', 'ἐκινεῖτο', 'ἀπουσία', 'ἐντελεχείᾳ', 'ἄπειρόν', 'κίνησίς', 'ἠρεμίαν', 'ἐναντίωσιν', 'ἐπιχείρημα', 'κινοῦντα'], ['ζεῦ', 'πεπερασμένον', 'aristoteles', 'μεταβάλλον', 'κινοῦντος', 'def', 'ἀπείρου', 'εὔδημος', 'lucian', 'und', 'vulg', 'mrg', 'but', 'κινουμένῳ', 'ἠρεμεῖ', 'προσεχῶς', 'was', 'αὐτοκίνητον', 'ἀπείρῳ', 'ἀδιαίρετον', 'διαιρετόν', 'φλεβοτομίας', 'νόησις', 'στερήσεως', 'ἠρεμία', 'ταὐτομάτου', 'ἠρεμίας', 'nicht', 'macl', 'κινοῖτο', 'διαιρετὸν', 'πεπερασμένα', 'ἠρεμοῦν', 'ἀλλοιώσεως', 'phys', 'ἐπιχείρημα', 'ἀίδιος', 'καθόσον', 'φθορά', 'ἐντελεχείᾳ', 'κινηθήσεται', 'κινοῦντα', 'ἐναντίωσις', 'ἀμερὲς', 'simpl', 'from', 'das', 'τοσόνδε', 'παρμενίδης', 'ἄπειρόν'], ['und', 'ζεῦ', 'κομήτης', 'vulg', 'ἀπείρου', 'κόμην', 'πεπερασμένον', 'ἀναθυμιάσεως', 'def', 'ὑπέκκαυμα', 'νόησις', 'nicht', 'ὄψεων', 'κινοῦντος', 'but', 'ἀναθυμίασιν', 'ἀλλʼ', 'was', 'πλανωμένων', 'das', 'ἀστέρος', 'αὐτοκίνητον', 'κέντρου', 'mrg', 'ἀπλανῶν', 'ἀπλανοῦς', 'κινουμένῳ', 'aristoteles', 'ἀναθυμίασις', 'ἀκτίνων', 'νόησιν', 'mss', 'aber', 'lucian', 'νοητῷ', 'ἀστέρα', 'ist', 'φλεβοτομίας', 'ὑπολείπεσθαι', 'μεταβάλλον', 'νέφους', 'προσεχῶς', 'cet', 'νέφη', 'only', 'ἀστὴρ', 'von', 'den', 'vgl', 'auch'], ['πεπερασμένον', 'def', 'ἀπείρου', 'νόησις', 'mrg', 'aristoteles', 'κινοῦντος', 'εὔδημος', 'μεταβάλλον', 'νοητῷ', 'ἀδιαίρετον', 'ἀπείρῳ', 'προσεχῶς', 'ἠρεμία', 'αὐτοκίνητον', 'ἠρεμεῖ', 'νόησιν', 'macl', 'κινουμένῳ', 'διαιρετὸν', 'στερήσεως', 'vulg', 'ἀλλοιώσεως', 'κινοῖτο', 'κινούντων', 'κατηγορίαις', 'ἀμερὲς', 'πέρατι', 'καθόσον', 'πεπερασμένα', 'προυπάρχειν', 'εὐδαιμονεῖν', 'φυσικοῦ', 'σύνθετα', 'διαιρετόν', 'ἠρεμίας', 'ferr', 'νοητοῦ', 'κινήσεται', 'ταὐτομάτου', 'ἄπειρόν', 'simpl', 'ἠρεμίαν', 'κίνησίς', 'ἀλλοιοῦσθαι', 'αἰσθητῷ', 'phys', 'ἀναξαγόρας', 'ἐνεργεία', 'κινοῦντα'], ['πεπερασμένον', 'εὔδημος', 'def', 'aristoteles', 'ἀπείρου', 'μεταβάλλον', 'κινοῦντος', 'mrg', 'προσεχῶς', 'ἀλλοιώσεως', 'κινουμένῳ', 'ἠρεμεῖ', 'διαιρετὸν', 'vulg', 'cet', 'ἠρεμία', 'στερήσεως', 'αὐτοκίνητον', 'ἀδιαίρετον', 'κινοῖτο', 'διαιρετόν', 'simpl', 'ἀλλʼ', 'ἠρεμίας', 'ἠρεμοῦν', 'ἠρεμίαν', 'δικασταί', 'ἀπείρῳ', 'ἀναξαγόρας', 'κέντρου', 'ἐπιχείρημα', 'φυσικοῦ', 'κατηγορίαις', 'phys', 'ταὐτομάτου', 'ἀμερὲς', 'ὑπέκκαυμα', 'ἐναντίωσις', 'πεπερασμένα', 'κόμην', 'πέρατι', 'κινητικὸν', 'κομήτης', 'ἐνεργεία', 'ἐκινεῖτο', 'πλανωμένων', 'κινούντων', 'κίνησίς', 'νόησις', 'κινοῦντα'], ['πεπερασμένον', 'ἀπείρου', 'def', 'κινοῦντος', 'mrg', 'κινουμένῳ', 'προσεχῶς', 'εὔδημος', 'μεταβάλλον', 'ὄψεων', 'αὐτοκίνητον', 'ὑπέκκαυμα', 'κομήτης', 'νόησις', 'κόμην', 'vulg', 'ἀναξαγόρας', 'ἠρεμεῖ', 'στερήσεως', 'aristoteles', 'ἀπείρῳ', 'νόησιν', 'νέφη', 'simpl', 'πλανωμένων', 'διαιρετὸν', 'διαιρετόν', 'ἠρεμία', 'ἀκτίνων', 'ἠρεμοῦν', 'κινοῖτο', 'ἐναντίωσις', 'ἀναθυμιάσεως', 'ἀπλανοῦς', 'κινοῦντα', 'ἀστέρα', 'φλεβοτομίας', 'κατηγορίαις', 'ἀίδιος', 'ἐναντίαι', 'πεπερασμένα', 'κινηθήσεται', 'κινῆται', 'κέντρου', 'ἀδιαίρετον', 'φθορά', 'ἀναθυμίασιν', 'iterat', 'κινήσεται', 'νοητοῦ'], ['und', 'das', 'nicht', 'πεπερασμένον', 'macl', 'def', 'ist', 'von', 'δικασταί', 'κινουμένῳ', 'φλεβοτομίας', 'ferr', 'aristoteles', 'μεταβάλλον', 'ἀπείρου', 'κινοῦντος', 'προσεχῶς', 'aber', 'den', 'στερήσεως', 'ἠρεμεῖ', 'νόησις', 'simpl', 'εὔδημος', 'riv', 'mrg', 'διαιρετὸν', 'ἠρεμία', 'κενώσεως', 'wie', 'bva', 'wenn', 'auch', 'ἀπείρῳ', 'αὐτοκίνητον', 'sind', 'ἐπιχείρημα', 'νόησιν', 'καθόσον', 'vgl', 'ἀλλοιώσεως', 'ἀναξαγόρας', 'ἀίδιος', 'παρμενίδης', 'ἀδιαίρετον', 'ἀλλʼ', 'ἐναντίαι', 'ἐναντίωσις', 'rubr', 'διαιρετόν'], ['und', 'nicht', 'das', 'ist', 'aber', 'ἀπείρου', 'den', 'von', 'sie', 'def', 'auch', 'κινοῦντος', 'mrg', 'vgl', 'πεπερασμένον', 'προσεχῶς', 'mit', 'wie', 'εὔδημος', 'wenn', 'κινουμένῳ', 'hat', 'durch', 'ἠρεμία', 'sind', 'διαιρετὸν', 'sich', 'haben', 'παράδεισον', 'νόησις', 'wird', 'vulg', 'διαιρετόν', 'ἠρεμεῖ', 'nun', 'aristoteles', 'sondern', 'ταὐτομάτου', 'στερήσεως', 'νόησιν', 'μεταβάλλον', 'ein', 'αὐτοκίνητον', 'κινούντων', 'θεσπέσιος', 'ματθαῖον', 'werden', 'was', 'κινοῖτο', 'φθορά'], ['πεπερασμένον', 'ἀπείρου', 'def', 'aristoteles', 'mrg', 'κινοῦντος', 'νόησις', 'κινουμένῳ', 'προσεχῶς', 'εὔδημος', 'μεταβάλλον', 'ἀλλοιώσεως', 'αὐτοκίνητον', 'ἠρεμία', 'vulg', 'ἠρεμεῖ', 'στερήσεως', 'διαιρετὸν', 'ἀπείρῳ', 'ἠρεμίας', 'πότερα', 'καθόσον', 'νόησιν', 'διαιρετόν', 'νοητῷ', 'κινήσεται', 'ἀδιαίρετον', 'iterat', 'ἐναντίαι', 'κινοῖτο', 'κινοῦντα', 'ἀίδιος', 'κινούντων', 'κινῆται', 'τοσόνδε', 'ἀναξαγόρας', 'simpl', 'τιμαίῳ', 'ἀμερὲς', 'exc', 'κατηγορίαις', 'φυσικοῦ', 'φθορά', 'ἠρεμίαν', 'κινηθήσεται', 'ἠρεμοῦν', 'τμῆμα', 'πέρατι', 'νοητοῦ', 'ὡδὶ'], ['cet', 'hab', 'pal', 'vulg', 'οὐδʼ', 'λίμνην', 'ἐπʼ', 'ἀλλʼ', 'und', 'πεπερασμένον', 'ἐφʼ', 'nicht', 'def', 'μεταβάλλον', 'sim', 'καθʼ', 'das', 'βαλὼν', 'προσεχῶς', 'μύας', 'κινουμένῳ', 'mrg', 'γιγάντων', 'ἀπείρου', 'κνήμας', 'aber', 'den', 'aristoteles', 'παρʼ', 'κινοῦντος', 'ἦτορ', 'ist', 'λίμνης', 'αὐτοκίνητον', 'κρονίων', 'ἠρεμεῖ', 'ἰὼν', 'ἐφθέγξατο', 'ὕδασιν', 'von', 'μύες', 'μιμούμενος', 'νόησις', 'σθένος', 'ῥίψας', 'ἠρεμία', 'δέμας', 'λίμνῃ', 'ποινὴν', 'στρατὸς'], ['πεπερασμένον', 'ἀπείρου', 'κινοῦντος', 'def', 'μεταβάλλον', 'aristoteles', 'mrg', 'προσεχῶς', 'pseudo', 'εὔδημος', 'κινουμένῳ', 'ἀπείρῳ', 'ἀδιαίρετον', 'ἠρεμεῖ', 'vulg', 'αὐτοκίνητον', 'διαιρετὸν', 'στερήσεως', 'πεπερασμένα', 'simpl', 'ἠρεμία', 'ἀναξαγόρας', 'ἀμερὲς', 'ταὐτομάτου', 'κινοῦντα', 'κινοῖτο', 'φθορά', 'ἄπειρόν', 'ἠρεμοῦν', 'κινήσεται', 'phys', 'κινούντων', 'αἶσχος', 'ἀμερῆ', 'καθόσον', 'σωθήσεται', 'ἀλλοιώσεως', 'εὐπορεῖν', 'διαιρετόν', 'ὠσὶ', 'λύχνος', 'φλεγμονῆς', 'φθονεῖν', 'xxx', 'βιοῦν', 'πράσσειν', 'ξένους', 'ῥάβδος', 'πτῶμα', 'φυλάξει'], ['κινοῦντος', 'def', 'μεταβάλλον', 'πεπερασμένον', 'φλεβοτομίας', 'ἀπείρου', 'mrg', 'κινουμένῳ', 'νόησις', 'προσεχῶς', 'aristoteles', 'εὔδημος', 'ἀδιαίρετον', 'στερήσεως', 'αὐτοκίνητον', 'ἠρεμία', 'ἀλλʼ', 'διαιρετὸν', 'ἠρεμεῖ', 'διαιρετόν', 'exc', 'κενώσεως', 'πεπερασμένα', 'vulg', 'ἀλλοιώσεως', 'κινηθήσεται', 'φυσικοῦ', 'καθόσον', 'κινοῦντα', 'ταὐτομάτου', 'φθορά', 'phys', 'φλεβοτομεῖν', 'κινοῖτο', 'iterat', 'ἐνεργεία', 'ἀμερὲς', 'κένωσιν', 'ἀπείρῳ', 'νόησιν', 'ἠρεμίαν', 'ἀίδιος', 'ἀναξαγόρας', 'πέρατι', 'φλεβοτομίαν', 'κινήσεται', 'ἐντελεχείᾳ', 'ἀμερῶν', 'κατηγορίαις', 'ἐναντίωσις'], ['und', 'nicht', 'das', 'aber', 'den', 'def', 'von', 'ist', 'μεταβάλλον', 'sie', 'πεπερασμένον', 'auch', 'sich', 'εὔδημος', 'κινοῦντος', 'ἀπείρου', 'wie', 'sind', 'wenn', 'κινουμένῳ', 'ἠρεμεῖ', 'vgl', 'ein', 'προσεχῶς', 'vulg', 'durch', 'mrg', 'aristoteles', 'wird', 'διαιρετὸν', 'αὐτοκίνητον', 'νόησις', 'mit', 'στερήσεως', 'nun', 'was', 'φθορά', 'sondern', 'haben', 'simpl', 'werden', 'κατηγορίαις', 'ἀπείρῳ', 'κινήσεται', 'auf', 'hat', 'κινοῖτο', 'κινηθήσεται', 'ἐναντίωσις', 'ἀναξαγόρας'], ['mon', 'var', 'πεπερασμένον', 'κινοῦντος', 'mrg', 'εὔδημος', 'ἀπείρου', 'def', 'und', 'μεταβάλλον', 'aristoteles', 'προσεχῶς', 'κινουμένῳ', 'das', 'μάνθανε', 'ἠρεμία', 'pseudo', 'σιγᾶν', 'ἀπείρῳ', 'αὐτοκίνητον', 'ἀδιαίρετον', 'vulg', 'διαιρετὸν', 'φλεγμονῆς', 'nicht', 'πειρῶ', 'ist', 'ξένους', 'διαιρετόν', 'ἀίδιος', 'στερήσεως', 'ἠρεμοῦν', 'κινηθήσεται', 'ἠρεμίας', 'simpl', 'ταὐτομάτου', 'φυσικοῦ', 'ἐναντίωσις', 'κινήσεται', 'κατηγορίαις', 'κινούντων', 'φθορά', 'νόησις', 'ἀλλοιώσεως', 'καθόσον', 'κινοῖτο', 'ἠρεμεῖ', 'iterat', 'phys', 'ἐναντίαι'], ['macl', 'ferr', 'riv', 'bva', 'δικασταί', 'πεπερασμένον', 'ἀπείρου', 'mrg', 'rubr', 'εὔδημος', 'macar', 'κινοῦντος', 'μοιχεύειν', 'def', 'aristoteles', 'κινουμένῳ', 'μεταβάλλον', 'πλούσιον', 'vulg', 'νόησις', 'plan', 'und', 'φήμη', 'προσεχῶς', 'συζυγία', 'ἠρεμεῖ', 'λειτουργίας', 'διαιρετὸν', 'ἠρεμία', 'αὐτοκίνητον', 'πένητος', 'nicht', 'στερήσεως', 'ἀπείρῳ', 'praemissis', 'μοιχὸν', 'das', 'πεπερασμένα', 'κινῆται', 'ἀδιαίρετον', 'ἀλλοιώσεως', 'von', 'διαιρετόν', 'ἐπιχείρημα', 'simpl', 'κατηγορίαις', 'den', 'κινηθήσεται', 'φήμην', 'lacobs'], ['und', 'nicht', 'das', 'cet', 'von', 'auch', 'ist', 'aber', 'den', 'vulg', 'πεπερασμένον', 'sie', 'sind', 'nun', 'vgl', 'def', 'ξενίας', 'haben', 'wenn', 'durch', 'sich', 'ein', 'mit', 'aristoteles', 'pal', 'μεταβάλλον', 'ἀπείρου', 'hat', 'προσεχῶς', 'was', 'νόησις', 'wie', 'wird', 'ἀλλʼ', 'κινοῦντος', 'hab', 'κινουμένῳ', 'δημοσθένης', 'vab', 'werden', 'mrg', 'sondern', 'αὐτοκίνητον', 'auf', 'εὔδημος', 'gasda', 'ἐπʼ', 'νόησιν', 'damit', 'κατηγορίαις'], ['und', 'das', 'ist', 'nicht', 'auch', 'vgl', 'den', 'von', 'sie', 'aber', 'durch', 'wie', 'sind', 'ein', 'nun', 'hat', 'πεπερασμένον', 'sich', 'wenn', 'werden', 'mit', 'μεταβάλλον', 'haben', 'mrg', 'was', 'wird', 'ἀπείρου', 'sondern', 'def', 'κινοῦντος', 'εὔδημος', 'aristoteles', 'κινουμένῳ', 'act', 'damit', 'auf', 'über', 'als', 'einem', 'προσεχῶς', 'ἀπείρῳ', 'αὐτοκίνητον', 'noch', 'oder', 'ἠρεμία', 'ihm', 'vor', 'διαιρετὸν', 'διαιρετόν', 'ἀδιαίρετον'], ['def', 'πεπερασμένον', 'κινοῦντος', 'mrg', 'μεταβάλλον', 'aristoteles', 'ἀπείρου', 'αὐτοκίνητον', 'κινουμένῳ', 'προσεχῶς', 'στερήσεως', 'ἠρεμία', 'νόησις', 'πεπερασμένα', 'ἠρεμεῖ', 'phys', 'κινοῖτο', 'διαιρετὸν', 'vulg', 'πέρατι', 'ἀναξαγόρας', 'καθόσον', 'ἀλλοιώσεως', 'ταὐτομάτου', 'κινήσεται', 'ἀπείρῳ', 'ἀμερὲς', 'ἀδιαίρετον', 'νοητῷ', 'κινῆται', 'εὔδημος', 'κινηθήσεται', 'νόησιν', 'παρμενίδης', 'διαιρετόν', 'ἐντελεχείᾳ', 'ἐντελέχεια', 'simpl', 'κατηγορίαις', 'ἠρεμοῦν', 'σύνθετα', 'φυσικοῦ', 'ἠρεμίας', 'προυπάρχειν', 'ἐναντίαι', 'κινοῦντα', 'κέντρου', 'ἀίδιος', 'εὐδαιμονεῖν', 'κόμην'], ['def', 'πεπερασμένον', 'ἀπείρου', 'κινοῦντος', 'μεταβάλλον', 'προσεχῶς', 'εὔδημος', 'aristoteles', 'mrg', 'στερήσεως', 'αὐτοκίνητον', 'κινουμένῳ', 'καθόσον', 'ἠρεμία', 'vulg', 'διαιρετὸν', 'ἠρεμεῖ', 'ἀδιαίρετον', 'simpl', 'κινοῦντα', 'ἀναξαγόρας', 'πεπερασμένα', 'κινήσεται', 'διαιρετόν', 'συζυγία', 'ἀπείρῳ', 'φυσικοῦ', 'ἀλλοιώσεως', 'κινηθήσεται', 'φθορά', 'ἀμερῶν', 'κινοῖτο', 'ταὐτομάτου', 'κινούντων', 'ἠρεμίας', 'νωτιαίου', 'κατηγορίαις', 'κινῆται', 'ἄπειρόν', 'ἐνεργεία', 'πέρατι', 'ζήνωνος', 'ἠρεμοῦν', 'iterat', 'phys', 'ἀμερὲς', 'νόησις', 'ἀίδιος', 'μεταβάλλοντος', 'exc'], ['und', 'nicht', 'das', 'ist', 'den', 'auch', 'sie', 'πεπερασμένον', 'sich', 'aber', 'ἀπείρου', 'vgl', 'wenn', 'von', 'κινοῦντος', 'ein', 'def', 'sind', 'aristoteles', 'hat', 'wie', 'μεταβάλλον', 'mit', 'durch', 'vulg', 'haben', 'εὔδημος', 'wird', 'sondern', 'ἠρεμεῖ', 'προσεχῶς', 'κινουμένῳ', 'mrg', 'was', 'nun', 'ἀπείρῳ', 'werden', 'διαιρετὸν', 'ἀλλοιώσεως', 'αὐτοκίνητον', 'auf', 'ταὐτομάτου', 'διαιρετόν', 'ἀναξαγόρας', 'κινοῖτο', 'ἀίδιος', 'κατηγορίαις', 'cet', 'ἠρεμία', 'oder'], ['πεπερασμένον', 'und', 'κινοῦντος', 'def', 'μεταβάλλον', 'mrg', 'εὔδημος', 'ἀπείρου', 'νόησις', 'αὐτοκίνητον', 'ἠρεμία', 'προσεχῶς', 'vulg', 'κινουμένῳ', 'ἠρεμεῖ', 'διαιρετὸν', 'aristoteles', 'das', 'ἀλλοιώσεως', 'ἀναξαγόρας', 'cet', 'ἀπείρῳ', 'κατηγορίαις', 'κινούντων', 'simpl', 'phys', 'διαιρετόν', 'πέρατι', 'ἐναντίωσις', 'nicht', 'ἀμερὲς', 'ταὐτομάτου', 'ἀδιαίρετον', 'κινήσεται', 'ist', 'κινηθήσεται', 'iterat', 'κινοῦντα', 'κινητὸν', 'φθορά', 'ἠρεμοῦν', 'ἐπιχείρημα', 'κινῆται', 'ἐντελεχείᾳ', 'πεπερασμένα', 'προυπάρχειν', 'ἀίδιος', 'ἠρεμίας', 'κινοῖτο', 'ἠρεμίαν'], ['macl', 'ferr', 'πεπερασμένον', 'riv', 'ξενίας', 'δημοσθένης', 'ἀπείρου', 'gasda', 'def', 'bva', 'δικασταί', 'vab', 'μεταβάλλον', 'κινουμένῳ', 'rubr', 'προσεχῶς', 'κινοῦντος', 'mrg', 'φίλιππος', 'aristoteles', 'εὔδημος', 'vulg', 'ἠρεμεῖ', 'plan', 'διαιρετόν', 'xen', 'ἐπιχείρημα', 'μοιχεύειν', 'νόησις', 'ἠρεμία', 'πένητες', 'διαιρετὸν', 'ἠρεμοῦν', 'φίλιππον', 'στερήσεως', 'simpl', 'φήμη', 'ἀδιαίρετον', 'αὐτοκίνητον', 'ἀναξαγόρας', 'κατηγορίαις', 'πλούσιον', 'κινούντων', 'ἀπείρῳ', 'fals', 'νοητῷ', 'δημοσθένους', 'iterat', 'ἀθήναις', 'ἀμερὲς'], ['πεπερασμένον', 'ἀπείρου', 'κινοῦντος', 'μεταβάλλον', 'def', 'εὔδημος', 'κινουμένῳ', 'aristoteles', 'mrg', 'προσεχῶς', 'vulg', 'ἠρεμία', 'στερήσεως', 'ἀπείρῳ', 'αὐτοκίνητον', 'πεπερασμένα', 'ἀναξαγόρας', 'ἀλλοιώσεως', 'φυσικοῦ', 'simpl', 'ἠρεμεῖ', 'κινῆται', 'ξενίας', 'καθόσον', 'κινηθήσεται', 'πέρατι', 'ἐντελεχείᾳ', 'ἀίδιος', 'iterat', 'ἠρεμοῦν', 'ἀδιαίρετον', 'διαιρετὸν', 'κινοῖτο', 'δημοσθένης', 'κατηγορίαις', 'gasda', 'vab', 'τοσόνδε', 'κίνησίς', 'ταὐτομάτου', 'νόησις', 'ἀμερὲς', 'διαιρετόν', 'φθορά', 'phys', 'κινήσεται', 'exc', 'τμῆμα', 'ἐναντίωσις', 'ὑπέκκαυμα'], ['πεπερασμένον', 'ἀπείρου', 'def', 'μεταβάλλον', 'συζυγία', 'mrg', 'κινοῦντος', 'aristoteles', 'προσεχῶς', 'κινουμένῳ', 'ἠρεμεῖ', 'εὔδημος', 'αὐτοκίνητον', 'vulg', 'ἀδιαίρετον', 'νωτιαίου', 'ἀπείρῳ', 'ἠρεμία', 'κατηγορίαις', 'διαιρετόν', 'simpl', 'στερήσεως', 'ἀλλοιώσεως', 'διαιρετὸν', 'πεπερασμένα', 'κινοῖτο', 'κινοῦντα', 'ἐναντίωσις', 'καθόσον', 'ἀναξαγόρας', 'κινούντων', 'phys', 'ταὐτομάτου', 'κινῆται', 'und', 'ἐναντίαι', 'iterat', 'ἠρεμίαν', 'πέρατι', 'ἀίδιος', 'ἀμερῆ', 'ὀστοῦ', 'φθορά', 'κινηθήσεται', 'γενητὸν', 'κρανίου', 'φυσικοῦ', 'κεκινῆσθαι', 'superscr', 'ἐπιχείρημα'], ['πεπερασμένον', 'def', 'ἀπείρου', 'mrg', 'aristoteles', 'κινουμένῳ', 'εὔδημος', 'μεταβάλλον', 'κινοῦντος', 'προσεχῶς', 'vulg', 'νόησις', 'ἠρεμεῖ', 'στερήσεως', 'ἠρεμία', 'αὐτοκίνητον', 'ἀλλοιώσεως', 'ἐναντίαι', 'φυσικοῦ', 'ἀπείρῳ', 'ἀμερὲς', 'διαιρετόν', 'simpl', 'κινοῖτο', 'νόησιν', 'κατηγορίαις', 'κινηθήσεται', 'ταὐτομάτου', 'ἄπειρόν', 'φθορά', 'παράδεισον', 'κινήσεται', 'διαιρετὸν', 'phys', 'κινοῦντα', 'πεπερασμένα', 'exc', 'ματθαῖον', 'ἠρεμοῦν', 'ἀναξαγόρας', 'ἀδιαίρετον', 'κέντρου', 'πέρατι', 'iterat', 'ἠρεμίαν', 'mox', 'καθόσον', 'ἐντελεχείᾳ', 'φλεγμονῆς', 'προυπάρχειν'], ['πεπερασμένον', 'aristoteles', 'def', 'κινοῦντος', 'εὔδημος', 'κινουμένῳ', 'mrg', 'ἀπείρου', 'αὐτοκίνητον', 'προσεχῶς', 'μεταβάλλον', 'ἠρεμεῖ', 'ἀπείρῳ', 'ἀδιαίρετον', 'ἀλλʼ', 'στερήσεως', 'vulg', 'ἀναξαγόρας', 'διαιρετόν', 'νόησις', 'κομήτης', 'κατηγορίαις', 'ταὐτομάτου', 'ἠρεμία', 'ἠρεμίαν', 'πεπερασμένα', 'simpl', 'ἠρεμοῦν', 'πέρατι', 'πλανωμένων', 'ἐντελεχείᾳ', 'κινηθήσεται', 'iterat', 'ἐναντίαι', 'φθορά', 'ἐναντίωσις', 'νόησιν', 'φυσικοῦ', 'ἀμερῶν', 'ἀλλοιώσεως', 'κόμην', 'κινῆται', 'κινήσεται', 'ἐνεργεία', 'ἠρεμίας', 'διαιρετὸν', 'κινοῖτο', 'καθόσον', 'ἔνστασιν', 'τμῆμα'], ['πεπερασμένον', 'def', 'mrg', 'κινοῦντος', 'ἀπείρου', 'aristoteles', 'προσεχῶς', 'εὔδημος', 'und', 'νόησις', 'μεταβάλλον', 'κινουμένῳ', 'διαιρετὸν', 'στερήσεως', 'αὐτοκίνητον', 'ταὐτομάτου', 'ἀρτηρίαις', 'ἀπείρῳ', 'phys', 'ἠρεμεῖ', 'σφυγμῶν', 'vulg', 'ἀλλοιώσεως', 'φλεβοτομίας', 'ἠρεμία', 'simpl', 'ἠρεμίας', 'nicht', 'κινοῖτο', 'καθόσον', 'κινηθήσεται', 'ἀμερὲς', 'πέρατι', 'ἀδιαίρετον', 'das', 'φθορά', 'ist', 'κινῆται', 'ἐναντίωσις', 'τοσόνδε', 'ἀναξαγόρας', 'διαιρετόν', 'νοητῷ', 'ἠρεμίαν', 'ἀίδιος', 'aber', 'exc', 'παρμενίδης', 'ἀρτηρίαι', 'κίνησίς'], ['πεπερασμένον', 'ἀπείρου', 'def', 'μεταβάλλον', 'εὔδημος', 'mrg', 'κινοῦντος', 'αὐτοκίνητον', 'ἠρεμία', 'ἠρεμεῖ', 'aristoteles', 'προσεχῶς', 'vulg', 'κινουμένῳ', 'ἐντελεχείᾳ', 'διαιρετὸν', 'διαιρετόν', 'στερήσεως', 'ἀπείρῳ', 'ἀλλοιώσεως', 'σφυγμῶν', 'νόησις', 'simpl', 'ταὐτομάτου', 'φυσικοῦ', 'πεπερασμένα', 'ἐναντίωσις', 'κινητὸν', 'πέρατι', 'κινοῖτο', 'ἠρεμοῦν', 'ἐνεργεία', 'ἀμερὲς', 'ἀδιαίρετον', 'ἀναξαγόρας', 'μεγεθῶν', 'ἄπειρόν', 'ἀμερῶν', 'exc', 'ἀρτηρίαις', 'κινήσεται', 'ἠρεμίας', 'κινοῦντα', 'παρμενίδης', 'φθορά', 'ἐναντίωσιν', 'iterat', 'κινῆται', 'ἐναντίαι', 'ἀρτηρίαι'], ['ξενίας', 'δημοσθένης', 'κινοῦντος', 'πεπερασμένον', 'gasda', 'ἀπείρου', 'μεταβάλλον', 'def', 'aristoteles', 'vab', 'κινουμένῳ', 'προσεχῶς', 'εὔδημος', 'φίλιππος', 'vulg', 'ζεῦ', 'στερήσεως', 'mrg', 'ἀδιαίρετον', 'ἠρεμία', 'δημοσθένους', 'simpl', 'αὐτοκίνητον', 'φίλιππον', 'ἀναξαγόρας', 'κατηγορίαις', 'κινῆται', 'φθορά', 'διαιρετόν', 'ἠρεμίας', 'ἐντελεχείᾳ', 'ἀπείρῳ', 'ἠρεμεῖ', 'κινούντων', 'ἀίδιος', 'κινοῖτο', 'ἐναντίωσις', 'ἀμερὲς', 'διαιρετὸν', 'ἀλλοιώσεως', 'ἠρεμίαν', 'ἠρεμοῦν', 'κινοῦντα', 'ἑάλω', 'ἄπειρόν', 'ἐναντίαι', 'ταὐτομάτου', 'κίνησίς', 'πεπερασμένα', 'κινηθήσεται'], ['πεπερασμένον', 'φλεβοτομίας', 'ἀπείρου', 'def', 'mrg', 'κινοῦντος', 'μεταβάλλον', 'aristoteles', 'κινουμένῳ', 'προσεχῶς', 'νόησις', 'ἀπείρῳ', 'vulg', 'ἀλλοιώσεως', 'εὔδημος', 'ἠρεμεῖ', 'ἀδιαίρετον', 'αὐτοκίνητον', 'κατηγορίαις', 'στερήσεως', 'νόησιν', 'phys', 'ἀναξαγόρας', 'διαιρετὸν', 'πεπερασμένα', 'ἠρεμία', 'διαιρετόν', 'φυσικοῦ', 'καθόσον', 'κίνησίς', 'κινοῖτο', 'ἠρεμίαν', 'ἐντελεχείᾳ', 'ἀμερὲς', 'iterat', 'κινοῦντα', 'ἀίδιος', 'simpl', 'ἐναντίωσις', 'ταὐτομάτου', 'κινητὸν', 'ἠρεμοῦν', 'ἐκινεῖτο', 'παρμενίδης', 'κενώσεως', 'κινηθήσεται', 'ἠρεμίας', 'ζήνωνος', 'ἐνεργεία', 'φθορά'], ['πεπερασμένον', 'ἀπείρου', 'προσεχῶς', 'κινοῦντος', 'aristoteles', 'εὔδημος', 'μεταβάλλον', 'κινουμένῳ', 'def', 'und', 'στερήσεως', 'ἠρεμεῖ', 'αὐτοκίνητον', 'mrg', 'κατηγορίαις', 'ἀλλοιώσεως', 'ἀδιαίρετον', 'vulg', 'διαιρετόν', 'διαιρετὸν', 'ἐναντίωσις', 'ἀπείρῳ', 'ἠρεμίας', 'κινηθήσεται', 'ἐκινεῖτο', 'ἐναντίαι', 'ἠρεμία', 'ἄπειρόν', 'ἐντελεχείᾳ', 'ἀμερὲς', 'φθορά', 'phys', 'ἀίδιος', 'πεπερασμένα', 'ἀλλοιοῦσθαι', 'ἀναξαγόρας', 'κινῆται', 'πέρατι', 'καθόσον', 'ἠρεμοῦν', 'das', 'προυπάρχειν', 'κίνησίς', 'simpl', 'ἐπιχείρημα', 'νόησις', 'κινήσεται', 'φυσικοῦ', 'nicht', 'superscr'], ['πεπερασμένον', 'ἀπείρου', 'def', 'aristoteles', 'αὐτοκίνητον', 'μεταβάλλον', 'und', 'κινοῦντος', 'προσεχῶς', 'ἀπείρῳ', 'κινουμένῳ', 'mrg', 'εὔδημος', 'vulg', 'ἠρεμεῖ', 'διαιρετόν', 'ἠρεμία', 'simpl', 'στερήσεως', 'κατηγορίαις', 'ταὐτομάτου', 'κινήσεται', 'φθορά', 'ist', 'φυσικοῦ', 'νόησις', 'κινηθήσεται', 'ἀναξαγόρας', 'das', 'διαιρετὸν', 'ἀδιαίρετον', 'ἐπιχείρημα', 'nicht', 'ἀλλοιοῦσθαι', 'κινοῖτο', 'ἀμερὲς', 'ἠρεμίας', 'πέρατι', 'ἀίδιος', 'ἀλλοιώσεως', 'ἐναντίαι', 'phys', 'κινῆται', 'ἐντελεχείᾳ', 'ὑψίστου', 'κινοῦντα', 'ἀμερῶν', 'καθόσον', 'ἠρεμοῦν', 'den'], ['πεπερασμένον', 'ἀπείρου', 'def', 'aristoteles', 'μεταβάλλον', 'κινουμένῳ', 'κινοῦντος', 'εὔδημος', 'πουλὺ', 'mrg', 'ἀπείρῳ', 'διαιρετόν', 'ἠρεμία', 'ἠρεμεῖ', 'φλεβοτομίας', 'ὁκόσον', 'ἀναξαγόρας', 'ὀδόντες', 'θερμαινόμενον', 'ἀλλοιώσεως', 'κοῖλα', 'τῇσι', 'αὐτοκίνητον', 'στερήσεως', 'vulg', 'διαιρετὸν', 'ἀδιαίρετον', 'ἑβδομάδων', 'simpl', 'ὀστέον', 'ταὐτομάτου', 'ἀμερὲς', 'φλεγμονῆς', 'προσεχῶς', 'κινητὸν', 'phys', 'ὁκόταν', 'ἐπὴν', 'κινηθήσεται', 'φύονται', 'τουτέῳ', 'ὅκου', 'κινοῖτο', 'ἐναντίωσις', 'πέρατι', 'iterat', 'ἐνεργεία', 'ἐναντίαι', 'κινήσεται', 'κενώσεως'], ['und', 'nicht', 'das', 'aber', 'von', 'ist', 'auch', 'wie', 'sie', 'den', 'sich', 'vgl', 'mit', 'durch', 'πεπερασμένον', 'sind', 'wenn', 'wird', 'nun', 'ein', 'νόησις', 'def', 'μεταβάλλον', 'κινοῦντος', 'auf', 'mrg', 'ἀπείρου', 'hat', 'ὄψεων', 'aristoteles', 'sondern', 'was', 'haben', 'werden', 'εὔδημος', 'κινουμένῳ', 'κομήτης', 'νόησιν', 'κόμην', 'ὑπέκκαυμα', 'ἀναθυμιάσεως', 'προσεχῶς', 'act', 'damit', 'νοητῷ', 'eine', 'einem', 'noch', 'ἀμερὲς', 'ἀπείρῳ'], ['und', 'nicht', 'das', 'ist', 'aber', 'von', 'auch', 'ein', 'sich', 'vgl', 'sie', 'wie', 'mit', 'den', 'wenn', 'durch', 'nun', 'was', 'werden', 'sind', 'hat', 'wird', 'haben', 'auf', 'sondern', 'damit', 'oder', 'vor', 'act', 'noch', 'ihm', 'symp', 'ἀπείρου', 'einem', 'eine', 'κινοῦντος', 'psal', 'zur', 'ich', 'πεπερασμένον', 'kor', 'als', 'über', 'nur', 'def', 'κινουμένῳ', 'nach', 'aristoteles', 'εὔδημος', 'hebr'], ['abbrev', 'def', 'cet', 'πεπερασμένον', 'macl', 'ἀπείρου', 'μεταβάλλον', 'ferr', 'mrg', 'εὔδημος', 'κινοῦντος', 'aristoteles', 'προσεχῶς', 'αὐτοκίνητον', 'ἠρεμεῖ', 'διαιρετὸν', 'anonymus', 'στερήσεως', 'simpl', 'κινουμένῳ', 'bva', 'vulg', 'ἀπείρῳ', 'ἠρεμία', 'δικασταί', 'νόησις', 'ἀδιαίρετον', 'riv', 'διαιρετόν', 'κινηθήσεται', 'ταὐτομάτου', 'ἐναντίωσις', 'ἀλλοιώσεως', 'ἀναξαγόρας', 'κινῆται', 'πεπερασμένα', 'ἐντελεχείᾳ', 'ἀμερὲς', 'κινοῖτο', 'φυσικοῦ', 'rubr', 'ἀίδιος', 'μεθα', 'κατηγορίαις', 'iterat', 'κίνησίς', 'phys', 'xxxviii', 'προυπάρχειν', 'καθόσον'], ['ἀπείρου', 'πεπερασμένον', 'κινοῦντος', 'κινουμένῳ', 'def', 'μεταβάλλον', 'mrg', 'προσεχῶς', 'aristoteles', 'εὔδημος', 'νόησις', 'αὐτοκίνητον', 'ἠρεμεῖ', 'ἠρεμία', 'διαιρετὸν', 'ἀλλοιώσεως', 'ἀδιαίρετον', 'κατηγορίαις', 'στερήσεως', 'νοητῷ', 'ἠρεμίας', 'κινοῖτο', 'διαιρετόν', 'πέρατι', 'καθόσον', 'ἐναντίωσις', 'phys', 'φυσικοῦ', 'ταὐτομάτου', 'φθορά', 'ἀναξαγόρας', 'simpl', 'νόησιν', 'ἠρεμοῦν', 'κινῆται', 'vulg', 'ἀπείρῳ', 'κινητικὸν', 'ἠρεμίαν', 'κινηθήσεται', 'ἐναντίαι', 'iterat', 'ἀίδιος', 'κινήσεται', 'τμῆμα', 'ἐκινεῖτο', 'κινούντων', 'πεπερασμένα', 'ἐπιχείρημα', 'τοσόνδε'], ['def', 'μεταβάλλον', 'πεπερασμένον', 'aristoteles', 'ἀπείρου', 'κινουμένῳ', 'κινοῦντος', 'νόησις', 'αὐτοκίνητον', 'προσεχῶς', 'εὔδημος', 'vulg', 'στερήσεως', 'mrg', 'ἠρεμία', 'ἀπείρῳ', 'ἀμερὲς', 'ἀναξαγόρας', 'ἠρεμοῦν', 'ἀλλοιώσεως', 'φλεγμονῆς', 'διαιρετὸν', 'ἀίδιος', 'πεπερασμένα', 'κατηγορίαις', 'ἀδιαίρετον', 'καθόσον', 'ἠρεμεῖ', 'διαιρετόν', 'νοητῷ', 'πέρατι', 'νόησιν', 'κινούντων', 'κινήσεται', 'κινοῖτο', 'ἠρεμίας', 'κινοῦντα', 'simpl', 'φθορά', 'ζήνωνος', 'νοητοῦ', 'ἐνεργεία', 'phys', 'φυσικοῦ', 'ἐντελεχείᾳ', 'παρμενίδης', 'προυπάρχειν', 'ἠρεμίαν', 'κινητὸν', 'μεταβάλλοντος'], ['πεπερασμένον', 'def', 'μεταβάλλον', 'κινοῦντος', 'ἀπείρου', 'aristoteles', 'vulg', 'κινουμένῳ', 'cet', 'προσεχῶς', 'εὔδημος', 'αὐτοκίνητον', 'mrg', 'κατηγορίαις', 'ἠρεμεῖ', 'ἀναξαγόρας', 'ἀπείρῳ', 'κινούντων', 'διαιρετὸν', 'στερήσεως', 'ταὐτομάτου', 'simpl', 'διαιρετόν', 'phys', 'ἠρεμία', 'ἄπειρόν', 'τμῆμα', 'πέρατι', 'ἐναντίαι', 'ἀμερὲς', 'πεπερασμένα', 'ἀδιαίρετον', 'ἠρεμίας', 'φθορά', 'κίνησίς', 'exc', 'iterat', 'κινήσεται', 'ἀίδιος', 'νόησις', 'ἐντελεχείᾳ', 'ἠρεμίαν', 'ἐπιχείρημα', 'ἐναντίωσις', 'κινῆται', 'ἀλλοιώσεως', 'παρμενίδης', 'ἠρεμοῦν', 'ἀμερῶν', 'κινοῦντα'], ['πεπερασμένον', 'def', 'εὔδημος', 'ἀπείρου', 'aristoteles', 'κινοῦντος', 'μεταβάλλον', 'κινουμένῳ', 'προσεχῶς', 'mrg', 'vulg', 'ἠρεμεῖ', 'διαιρετὸν', 'στερήσεως', 'ἀπείρῳ', 'ἠρεμία', 'κατηγορίαις', 'διαιρετόν', 'νόησις', 'ἀδιαίρετον', 'simpl', 'αὐτοκίνητον', 'ἀλλοιώσεως', 'κινούντων', 'ταὐτομάτου', 'κινηθήσεται', 'φθορά', 'πεπερασμένα', 'ἠρεμίας', 'καθόσον', 'ἐναντίωσις', 'ἐντελεχείᾳ', 'κινοῖτο', 'ἐπιχείρημα', 'φυσικοῦ', 'κινοῦντα', 'πέρατι', 'superscr', 'ἄπειρόν', 'ἠρεμοῦν', 'ἀίδιος', 'ἀιδίου', 'ἐναντίαι', 'ἀναξαγόρας', 'κινήσεται', 'ἠρεμίαν', 'τμῆμα', 'ἀμερὲς', 'κίνησίς', 'ἀμερῆ'], ['πεπερασμένον', 'und', 'κινοῦντος', 'das', 'def', 'κινουμένῳ', 'νόησις', 'nicht', 'μεταβάλλον', 'εὔδημος', 'aristoteles', 'ist', 'ἀπείρου', 'mrg', 'προσεχῶς', 'vulg', 'aber', 'αὐτοκίνητον', 'νοητῷ', 'ἠρεμεῖ', 'auch', 'den', 'στερήσεως', 'ἀπείρῳ', 'κατηγορίαις', 'ἠρεμία', 'vgl', 'phys', 'cet', 'καθόσον', 'διαιρετόν', 'von', 'ἐπιχείρημα', 'ἀίδιος', 'φυσικοῦ', 'πεπερασμένα', 'simpl', 'ταὐτομάτου', 'κίνησίς', 'νόησιν', 'κινηθήσεται', 'κινοῖτο', 'διαιρετὸν', 'ποιότητες', 'ἀμερὲς', 'ἠρεμίας', 'ἀλλοιώσεως', 'νοητοῦ', 'πουλὺ', 'πέρατι'], ['συζυγία', 'def', 'ἀπείρου', 'mrg', 'πεπερασμένον', 'aristoteles', 'κινουμένῳ', 'κινοῦντος', 'νόησις', 'μεταβάλλον', 'νωτιαίου', 'προσεχῶς', 'φλεβοτομίας', 'εὔδημος', 'διαιρετὸν', 'ἀπείρῳ', 'διαιρετόν', 'αὐτοκίνητον', 'μυσὶ', 'vulg', 'στερήσεως', 'ἀμερὲς', 'κατηγορίαις', 'ἀναξαγόρας', 'κινηθήσεται', 'ἠρεμία', 'κινοῦντα', 'νόησιν', 'εὐδαιμονεῖν', 'καθόσον', 'λάρυγγος', 'παρμενίδης', 'νοητοῦ', 'τρῆμα', 'ἐπιχείρημα', 'τιμαίῳ', 'νοητῷ', 'κινοῖτο', 'ἠρεμίαν', 'ἀδιαίρετον', 'συζυγιῶν', 'πεπερασμένα', 'ἐναντίωσις', 'διάρθρωσιν', 'ἀλλοιώσεως', 'simpl', 'iterat', 'φθορά', 'ἀίδιος', 'κινῆται'], ['ζεῦ', 'ἀπείρου', 'πεπερασμένον', 'vulg', 'aristoteles', 'def', 'κινοῦντος', 'lucian', 'but', 'κινουμένῳ', 'mrg', 'στερήσεως', 'μεταβάλλον', 'φλεβοτομίας', 'εὔδημος', 'ἀπείρῳ', 'προσεχῶς', 'simpl', 'ἠρεμεῖ', 'from', 'νόησις', 'πεπερασμένα', 'αὐτοκίνητον', 'ταὐτομάτου', 'κινηθήσεται', 'ἀμερὲς', 'πέρατι', 'προυπάρχειν', 'ἀδιαίρετον', 'κατηγορίαις', 'κινοῖτο', 'ἀναξαγόρας', 'νόησιν', 'κινούντων', 'ἠρεμίας', 'phys', 'ἠρεμίαν', 'ἠρεμία', 'διαιρετὸν', 'was', 'κίνησίς', 'iterat', 'only', 'διαιρετόν', 'νοητῷ', 'κινοῦντα', 'κεκινῆσθαι', 'ἐναντίαι', 'them', 'τοσόνδε'], ['cet', 'vulg', 'def', 'πεπερασμένον', 'ἀπείρου', 'κινοῦντος', 'aristoteles', 'mrg', 'pal', 'εὔδημος', 'λίμνην', 'αὐτοκίνητον', 'ἠρεμεῖ', 'στερήσεως', 'μεταβάλλον', 'hab', 'ἀλλʼ', 'κατηγορίαις', 'φλεβοτομίας', 'διαιρετὸν', 'ἀπείρῳ', 'ἀλλοιώσεως', 'οὐδʼ', 'κινουμένῳ', 'ἠρεμία', 'ἀναξαγόρας', 'διαιρετόν', 'ἠρεμίας', 'ταὐτομάτου', 'προσεχῶς', 'ἐπʼ', 'νόησις', 'ἐντελεχείᾳ', 'ἐναντίωσις', 'κινούντων', 'κινήσεται', 'phys', 'ἀδιαίρετον', 'κινηθήσεται', 'ἐναντίωσιν', 'ἐναντίαι', 'κινοῖτο', 'ἀίδιος', 'iterat', 'προυπάρχειν', 'ἀμερὲς', 'φυσικοῦ', 'φθορά', 'ἠρεμίαν', 'ἐντελέχεια'], ['πεπερασμένον', 'cet', 'def', 'κινουμένῳ', 'vulg', 'κινοῦντος', 'ἀπείρου', 'aristoteles', 'mrg', 'ἀλλʼ', 'μεταβάλλον', 'προσεχῶς', 'νόησις', 'ἠρεμεῖ', 'αὐτοκίνητον', 'εὔδημος', 'ἠρεμία', 'simpl', 'κομήτης', 'ἀναξαγόρας', 'ἀλλοιώσεως', 'διαιρετὸν', 'ὑπέκκαυμα', 'ἀπείρῳ', 'κατηγορίαις', 'διαιρετόν', 'πλανωμένων', 'στερήσεως', 'ἀδιαίρετον', 'κόμην', 'κινοῖτο', 'νόησιν', 'ὄψεων', 'iterat', 'καθόσον', 'κέντρου', 'ἀμερὲς', 'νοητοῦ', 'κινοῦντα', 'ἠρεμίας', 'phys', 'φθορά', 'πεπερασμένα', 'ἄπειρόν', 'ἐπιχείρημα', 'ἀναθυμίασις', 'τοσόνδε', 'ποιότητες', 'ἀναθυμιάσεως', 'ταὐτομάτου'], ['συζυγία', 'νωτιαίου', 'ἀπείρου', 'aristoteles', 'def', 'νόησις', 'πεπερασμένον', 'μεταβάλλον', 'κινοῦντος', 'ὀστοῦ', 'mrg', 'προσεχῶς', 'μυσὶ', 'ἔκφυσιν', 'εὔδημος', 'σπονδύλων', 'νόησιν', 'κρανίου', 'συζυγιῶν', 'ἠρεμεῖ', 'vulg', 'γένυος', 'διάρθρωσιν', 'κινουμένῳ', 'μύες', 'κινοῦσι', 'στερήσεως', 'λάρυγγος', 'ἐκφύσεις', 'τρημάτων', 'ἀναξαγόρας', 'ἀπείρῳ', 'νοητῷ', 'τρῆμα', 'αὐτοκίνητον', 'διαιρετὸν', 'simpl', 'ἕκτης', 'νεύρου', 'νεύροις', 'φθορά', 'τραχήλῳ', 'πολυειδῶς', 'κίνησίς', 'μῦν', 'ἠρεμία', 'iterat', 'κινήσεται', 'κινηθήσεται', 'πλάγια'], ['und', 'nicht', 'das', 'ist', 'aber', 'den', 'vgl', 'auch', 'von', 'sie', 'wie', 'sich', 'mit', 'wenn', 'sind', 'πεπερασμένον', 'durch', 'nun', 'sondern', 'was', 'κινοῦντος', 'ein', 'μεταβάλλον', 'ἀπείρου', 'wird', 'aristoteles', 'def', 'haben', 'φλεγμονῆς', 'mrg', 'auf', 'εὔδημος', 'hat', 'vor', 'werden', 'noch', 'ἠρεμεῖ', 'προσεχῶς', 'ihm', 'στερήσεως', 'als', 'vulg', 'act', 'κινουμένῳ', 'αὐτοκίνητον', 'damit', 'oder', 'πεπερασμένα', 'einem', 'diese'], ['πεπερασμένον', 'def', 'ἀπείρου', 'κινοῦντος', 'νόησις', 'μεταβάλλον', 'κινουμένῳ', 'aristoteles', 'mrg', 'διαιρετὸν', 'ἠρεμεῖ', 'προσεχῶς', 'vulg', 'simpl', 'κινηθήσεται', 'εὔδημος', 'ἀπείρῳ', 'νόησιν', 'αὐτοκίνητον', 'κίνησίς', 'διαιρετόν', 'στερήσεως', 'πέρατι', 'ἐναντίωσις', 'κινούντων', 'νοητοῦ', 'ἀίδιος', 'ἠρεμία', 'ἀναξαγόρας', 'κινοῖτο', 'ἠρεμοῦν', 'ἀδιαίρετον', 'ταὐτομάτου', 'φυσικοῦ', 'νοητῷ', 'phys', 'πεπερασμένα', 'iterat', 'ἠρεμίας', 'ἀλλοιοῦσθαι', 'φθορά', 'παρμενίδης', 'ἠρεμίαν', 'ἀλλοιώσεως', 'ἀμερὲς', 'εὐδαιμονεῖν', 'σύνθετα', 'superscr', 'κινήσεται', 'exc'], ['πεπερασμένον', 'ἀπείρου', 'νόησις', 'κινοῦντος', 'def', 'μεταβάλλον', 'κινουμένῳ', 'προσεχῶς', 'αὐτοκίνητον', 'mrg', 'ἀπείρῳ', 'διαιρετόν', 'ἀλλοιώσεως', 'νόησιν', 'aristoteles', 'ἠρεμεῖ', 'vulg', 'στερήσεως', 'εὔδημος', 'κίνησίς', 'simpl', 'πεπερασμένα', 'ἠρεμοῦν', 'κατηγορίαις', 'φλεγμονῆς', 'ἠρεμία', 'διαιρετὸν', 'νοητῷ', 'κινούντων', 'ταὐτομάτου', 'ἠρεμίας', 'ἀναξαγόρας', 'πέρατι', 'σύνθετα', 'καθόσον', 'νοητοῦ', 'μεγεθῶν', 'εὐδαιμονεῖν', 'φλεβοτομίας', 'κινοῖτο', 'φθορά', 'κέντρου', 'ἀμερὲς', 'iterat', 'ἀίδιος', 'κινηθήσεται', 'ἐντελεχείᾳ', 'φυσικοῦ', 'ἀδιαίρετον', 'κινοῦντα'], ['cet', 'vulg', 'ἀπείρου', 'pal', 'πεπερασμένον', 'def', 'κινοῦντος', 'aristoteles', 'mrg', 'μεταβάλλον', 'εὔδημος', 'κινουμένῳ', 'διαιρετὸν', 'αὐτοκίνητον', 'ἠρεμεῖ', 'ἀλλʼ', 'προσεχῶς', 'νόησις', 'ἀδιαίρετον', 'hab', 'κινοῖτο', 'ἀναξαγόρας', 'simpl', 'πεπερασμένα', 'κατηγορίαις', 'ἀμερὲς', 'στερήσεως', 'ἀπείρῳ', 'διαιρετόν', 'ἐναντίαι', 'ἠρεμία', 'οὐδʼ', 'ἀλλοιώσεως', 'κινηθήσεται', 'κινοῦντα', 'λίμνην', 'κινούντων', 'συζυγία', 'ἠρεμίας', 'ἀμερῶν', 'φυσικοῦ', 'ἀίδιος', 'phys', 'νοητῷ', 'νόησιν', 'ἐπιχείρημα', 'μεγεθῶν', 'iterat', 'ἐντελεχείᾳ', 'ἄπειρόν'], ['ἀλλʼ', 'ἀπείρου', 'κινοῦντος', 'πεπερασμένον', 'νόησις', 'κινουμένῳ', 'μεταβάλλον', 'def', 'εὔδημος', 'mrg', 'προσεχῶς', 'ἠρεμεῖ', 'aristoteles', 'νόησιν', 'ἀπείρῳ', 'ἠρεμία', 'vulg', 'διαιρετόν', 'στερήσεως', 'αἰσθητήριον', 'κινηθήσεται', 'simpl', 'νοητοῦ', 'αὐτοκίνητον', 'δημοσθένης', 'ταὐτομάτου', 'ἀδιαίρετον', 'φυσικοῦ', 'κίνησίς', 'κινήσεται', 'κατηγορίαις', 'ἀμερὲς', 'ἐναντίωσις', 'κινούντων', 'ὀσμῆς', 'κινοῖτο', 'ὑπέκκαυμα', 'vab', 'τιμαίῳ', 'εὐδαιμονεῖν', 'νοητῷ', 'ἐναντίαι', 'ἠρεμίαν', 'ἠρεμίας', 'κομήτης', 'ἀλλοιώσεως', 'καθʼ', 'ἀμερῶν', 'gasda', 'κινῆται'], ['mon', 'cet', 'πεπερασμένον', 'κινοῦντος', 'vulg', 'def', 'ἀπείρου', 'κινουμένῳ', 'aristoteles', 'μεταβάλλον', 'mrg', 'εὔδημος', 'προσεχῶς', 'νόησις', 'var', 'ἠρεμία', 'simpl', 'pal', 'αὐτοκίνητον', 'ἐναντίωσις', 'στερήσεως', 'ἀδιαίρετον', 'λίμνην', 'διαιρετόν', 'κατηγορίαις', 'διαιρετὸν', 'πεπερασμένα', 'ἠρεμίας', 'κινοῖτο', 'phys', 'ἀλλοιώσεως', 'φθορά', 'σύνθετα', 'κινήσεται', 'κινούντων', 'ἀμερὲς', 'ἠρεμεῖ', 'ἀπείρῳ', 'κινῆται', 'ἀναθυμιάσεως', 'κινοῦντα', 'μεγεθῶν', 'ἀίδιος', 'ὄψεων', 'ἀμερῆ', 'καθόσον', 'κινηθήσεται', 'κεκινῆσθαι', 'πλανωμένων', 'ἐντελέχεια'], ['πεπερασμένον', 'mrg', 'ἀπείρου', 'aristoteles', 'κινοῦντος', 'μεταβάλλον', 'προσεχῶς', 'def', 'εὔδημος', 'νόησις', 'κινουμένῳ', 'ἠρεμεῖ', 'στερήσεως', 'ἀδιαίρετον', 'αὐτοκίνητον', 'vulg', 'πέρατι', 'ἐναντίωσις', 'ἀναξαγόρας', 'ἀπείρῳ', 'simpl', 'φθορά', 'νόησιν', 'ἐναντίαι', 'phys', 'κινούντων', 'νοητῷ', 'ἐπιχείρημα', 'κινοῖτο', 'ἀμερὲς', 'διαιρετόν', 'ἠρεμοῦν', 'κινηθήσεται', 'ταὐτομάτου', 'ἠρεμίας', 'ἠρεμία', 'ἐντελεχείᾳ', 'κίνησίς', 'φυσικοῦ', 'κατηγορίαις', 'exc', 'διαιρετὸν', 'ἀίδιος', 'ἀλλοιώσεως', 'macl', 'παρμενίδης', 'τοσόνδε', 'ἐκινεῖτο', 'ἄπειρόν', 'πεπερασμένα'], ['und', 'πεπερασμένον', 'κομήτης', 'ἀπείρου', 'das', 'aristoteles', 'κόμην', 'πλανωμένων', 'ὑπέκκαυμα', 'κινουμένῳ', 'εὔδημος', 'def', 'ὄψεων', 'ἀστέρα', 'vulg', 'ἀναθυμίασιν', 'nicht', 'ἀναθυμιάσεως', 'μεταβάλλον', 'κινοῦντος', 'ἀναθυμίασις', 'προσεχῶς', 'den', 'ἀστέρος', 'νέφη', 'ἀπείρῳ', 'νέφους', 'ἀπλανῶν', 'αὐτοκίνητον', 'ἠρεμία', 'ἀτμίδα', 'sie', 'ἀκτίνων', 'ἀναξαγόρας', 'κέντρου', 'simpl', 'ἀπλανοῦς', 'mrg', 'διαιρετόν', 'ἠρεμεῖ', 'von', 'διαιρετὸν', 'φθορά', 'auch', 'ist', 'iterat', 'ὑπολείπεσθαι', 'στερήσεως', 'vgl', 'phys'], ['πεπερασμένον', 'ἀπείρου', 'def', 'εὔδημος', 'κινοῦντος', 'aristoteles', 'vulg', 'αὐτοκίνητον', 'κινουμένῳ', 'μεταβάλλον', 'διαιρετὸν', 'προσεχῶς', 'ἀπείρῳ', 'ἠρεμία', 'mrg', 'ἠρεμεῖ', 'ἐναντίωσις', 'νόησις', 'ἐγρηγορέναι', 'ἀναθυμιάσεως', 'στερήσεως', 'ἀναξαγόρας', 'simpl', 'κινούντων', 'κέντρου', 'ἀλλοιώσεως', 'κατηγορίαις', 'ἀμερὲς', 'κινήσεται', 'φθορά', 'κινοῖτο', 'cet', 'διαιρετόν', 'ἐναντίαι', 'ἀδιαίρετον', 'κινοῦντα', 'ζήνωνος', 'ἀμερῶν', 'ἄπειρόν', 'πέρατι', 'ἀίδιος', 'phys', 'ἠρεμοῦν', 'καθόσον', 'φυσικοῦ', 'πεπερασμένα', 'exc', 'ἠρεμίαν', 'νόησιν', 'ταὐτομάτου'], ['πεπερασμένον', 'und', 'ἀπείρου', 'κινοῦντος', 'aristoteles', 'νόησις', 'def', 'mrg', 'εὔδημος', 'μεταβάλλον', 'ἠρεμεῖ', 'αὐτοκίνητον', 'νόησιν', 'νοητῷ', 'προσεχῶς', 'στερήσεως', 'κινουμένῳ', 'φθορά', 'nicht', 'vulg', 'das', 'ist', 'ἠρεμία', 'ἀπείρῳ', 'κινηθήσεται', 'κατηγορίαις', 'ἀμερὲς', 'ταὐτομάτου', 'simpl', 'κομήτης', 'καθόσον', 'ἀναξαγόρας', 'διαιρετόν', 'ἐναντίαι', 'κινήσεται', 'πέρατι', 'τοσόνδε', 'ἀδιαίρετον', 'ἀίδιος', 'κινοῖτο', 'ποιότητες', 'διαιρετὸν', 'εὐδαιμονεῖν', 'ἀλλοιοῦσθαι', 'den', 'ἀλλοιώσεως', 'ἐνεργεία', 'κινούντων', 'κινῆται', 'von'], ['und', 'nicht', 'das', 'sie', 'von', 'den', 'ist', 'auch', 'ἀλλʼ', 'aber', 'ἀπείρου', 'πεπερασμένον', 'κινοῦντος', 'μεταβάλλον', 'def', 'vgl', 'ein', 'aristoteles', 'sich', 'wenn', 'εὔδημος', 'wie', 'mrg', 'sondern', 'στερήσεως', 'κινουμένῳ', 'νόησις', 'προσεχῶς', 'mit', 'durch', 'hat', 'wird', 'ἀπείρῳ', 'werden', 'was', 'haben', 'κινοῖτο', 'vulg', 'ἀναξαγόρας', 'καθόσον', 'αὐτοκίνητον', 'διαιρετὸν', 'διαιρετόν', 'nun', 'ὑψίστου', 'ἠρεμεῖ', 'sind', 'ἀδιαίρετον', 'νόησιν', 'ἁπτῶν'], ['def', 'ἀπείρου', 'πεπερασμένον', 'μεταβάλλον', 'αὐτοκίνητον', 'aristoteles', 'κινουμένῳ', 'mrg', 'εὔδημος', 'κινοῦντος', 'προσεχῶς', 'ἀπείρῳ', 'simpl', 'στερήσεως', 'vulg', 'διαιρετόν', 'ἀναξαγόρας', 'ἠρεμεῖ', 'ἐναντίαι', 'κινοῖτο', 'κατηγορίαις', 'πουλὺ', 'ἀλλοιώσεως', 'κινῆται', 'ἀδιαίρετον', 'παρμενίδης', 'κίνησίς', 'phys', 'ἀμερὲς', 'ὁκόσον', 'θερμαινόμενον', 'ἐντελεχείᾳ', 'διαιρετὸν', 'ἐναντίωσις', 'πεπερασμένα', 'φυσικοῦ', 'τμῆμα', 'πέρατι', 'κινηθήσεται', 'ἀίδιος', 'ἠρεμία', 'νόησις', 'ταὐτομάτου', 'φθορά', 'ἠρεμοῦν', 'ἀλλοιώσεις', 'κινητὸν', 'iterat', 'ἠρεμίας', 'καθόσον'], ['macl', 'νόησις', 'ferr', 'aristoteles', 'πεπερασμένον', 'δικασταί', 'riv', 'μεταβάλλον', 'def', 'ἀπείρου', 'bva', 'κινοῦντος', 'mrg', 'προσεχῶς', 'ἠρεμεῖ', 'rubr', 'εὔδημος', 'ἠρεμία', 'αὐτοκίνητον', 'vulg', 'κινουμένῳ', 'κομήτης', 'κέντρου', 'νόησιν', 'ἀδιαίρετον', 'εὐδαιμονεῖν', 'ὑψίστου', 'στερήσεως', 'ἐπιχείρημα', 'ἀπείρῳ', 'simpl', 'πλανωμένων', 'ὑπέκκαυμα', 'διαιρετὸν', 'κατηγορίαις', 'ἀλλοιώσεως', 'νοητοῦ', 'τοσόνδε', 'πότερα', 'ἀναξαγόρας', 'κινηθήσεται', 'κόμην', 'νέφη', 'κινοῖτο', 'ἀίδιος', 'ἀναθυμιάσεως', 'νοητῷ', 'πλούσιον', 'plan', 'ἀμερὲς'], ['und', 'nicht', 'das', 'ist', 'vgl', 'aber', 'von', 'den', 'sie', 'auch', 'durch', 'wie', 'ein', 'def', 'mrg', 'sich', 'ἀπείρου', 'wird', 'πεπερασμένον', 'mit', 'hat', 'nun', 'wenn', 'sondern', 'sind', 'aristoteles', 'εὔδημος', 'κινοῦντος', 'haben', 'vulg', 'κινουμένῳ', 'προσεχῶς', 'μεταβάλλον', 'auf', 'κατηγορίαις', 'was', 'ἠρεμία', 'αὐτοκίνητον', 'werden', 'act', 'κινοῖτο', 'ἀπείρῳ', 'κινούντων', 'simpl', 'damit', 'νόησιν', 'νόησις', 'als', 'κομήτης', 'ἠρεμεῖ'], ['πεπερασμένον', 'συζυγία', 'def', 'πουλὺ', 'μεταβάλλον', 'κινοῦντος', 'mrg', 'ἀπείρου', 'τῇσι', 'aristoteles', 'κινουμένῳ', 'προσεχῶς', 'εὔδημος', 'vulg', 'αὐτοκίνητον', 'νωτιαίου', 'ὁκόταν', 'ὅκου', 'μυσὶ', 'ἔκφυσιν', 'ἠρεμεῖ', 'διαιρετὸν', 'συζυγιῶν', 'ἀπείρῳ', 'πεπερασμένα', 'στερήσεως', 'λιπαρὸν', 'φλεβοτομίας', 'ὁκόσον', 'διάρθρωσιν', 'θερμαινόμενον', 'ὀστοῦ', 'ἠρεμίαν', 'ὀδόντες', 'κρανίου', 'ἀδιαίρετον', 'simpl', 'διαιρετόν', 'κοῖλα', 'ἐνεργεία', 'ἐπὴν', 'phys', 'ἀναξαγόρας', 'πέρατι', 'ἠρεμοῦν', 'ταὐτομάτου', 'φθορά', 'ἀμερῶν', 'σπονδύλων', 'ἑβδομάδων'], ['πεπερασμένον', 'def', 'νόησις', 'κινοῦντος', 'εὔδημος', 'und', 'aristoteles', 'κινουμένῳ', 'ἀπείρου', 'μεταβάλλον', 'προσεχῶς', 'mrg', 'αὐτοκίνητον', 'vulg', 'στερήσεως', 'ἠρεμεῖ', 'νοητῷ', 'das', 'πεπερασμένα', 'κινοῖτο', 'νόησιν', 'φθορά', 'κινήσεται', 'ἀλλοιώσεως', 'κινηθήσεται', 'ἀδιαίρετον', 'ἀπείρῳ', 'κινοῦντα', 'exc', 'ἀίδιος', 'πέρατι', 'nicht', 'ἠρεμίαν', 'διαιρετὸν', 'κατηγορίαις', 'ἠρεμία', 'ἐναντίαι', 'κίνησίς', 'ταὐτομάτου', 'νοητοῦ', 'παρμενίδης', 'ἐναντίωσις', 'ζήνωνος', 'ἀναξαγόρας', 'ἠρεμίας', 'simpl', 'phys', 'ἐντελεχείᾳ', 'τοσόνδε', 'εὐδαιμονεῖν'], ['πεπερασμένον', 'ἀπείρου', 'def', 'μεταβάλλον', 'mrg', 'κινοῦντος', 'aristoteles', 'εὔδημος', 'ἠρεμεῖ', 'αὐτοκίνητον', 'vulg', 'ὑψίστου', 'κινουμένῳ', 'προσεχῶς', 'ἠρεμία', 'διαιρετόν', 'ἐπιχείρημα', 'ταὐτομάτου', 'ἀπείρῳ', 'simpl', 'διαιρετὸν', 'ἀναξαγόρας', 'ἀφίκετο', 'ἀδιαίρετον', 'phys', 'ἄπειρόν', 'νόησις', 'ἠρεμοῦν', 'ἀίδιος', 'στερήσεως', 'exc', 'πεπερασμένα', 'κινήσεται', 'ἐναντίαι', 'πέρατι', 'ἠρεμίας', 'ἀλλοιώσεως', 'μεγεθῶν', 'κινοῖτο', 'ἔναντι', 'κατηγορίαις', 'ἐναντίωσις', 'κινούντων', 'ζήνωνος', 'σύνθετα', 'κινῆται', 'κέντρου', 'ἐντελεχείᾳ', 'φυσικοῦ', 'φθειρόμενον'], ['πεπερασμένον', 'def', 'ἀπείρου', 'aristoteles', 'mrg', 'νόησις', 'κινοῦντος', 'προσεχῶς', 'στερήσεως', 'κινουμένῳ', 'ἀπείρῳ', 'ἠρεμία', 'vulg', 'μεταβάλλον', 'simpl', 'ἠρεμεῖ', 'νόησιν', 'αὐτοκίνητον', 'εὔδημος', 'κατηγορίαις', 'ἀδιαίρετον', 'κινήσεται', 'ἀλλοιώσεως', 'ἠρεμοῦν', 'ἠρεμίας', 'καθόσον', 'ἐναντίωσις', 'ταὐτομάτου', 'φθορά', 'μεγεθῶν', 'πεπερασμένα', 'ἐντελέχεια', 'διαιρετὸν', 'διαιρετόν', 'κίνησίς', 'ἀμερὲς', 'κινοῖτο', 'ἀίδιος', 'κέντρου', 'τοσόνδε', 'ἀλλοιώσεις', 'ἀναξαγόρας', 'ἐμπεδοκλῆς', 'κινηθήσεται', 'σύνθετα', 'ἐναντίαι', 'ποιότητες', 'phys', 'ἐντελεχείᾳ', 'φυσικοῦ'], ['πεπερασμένον', 'νόησις', 'κινοῦντος', 'ἀπείρου', 'def', 'προσεχῶς', 'αὐτοκίνητον', 'κινουμένῳ', 'aristoteles', 'μεταβάλλον', 'mrg', 'ἠρεμεῖ', 'νοητῷ', 'ἀπείρῳ', 'διαιρετὸν', 'ἔναντι', 'εὔδημος', 'vulg', 'ἀίδιος', 'διαιρετόν', 'ἠρεμία', 'νόησιν', 'simpl', 'πέρατι', 'ὑψίστου', 'ἀναξαγόρας', 'φυσικοῦ', 'νοητοῦ', 'στερήσεως', 'ἀδιαίρετον', 'κινοῖτο', 'κίνησίς', 'κινηθήσεται', 'κατηγορίαις', 'φθορά', 'πεπερασμένα', 'ταὐτομάτου', 'ἀμερὲς', 'καθόσον', 'τοσόνδε', 'κινούντων', 'ἀλλοιώσεως', 'ἀλλοιώσεις', 'ἠρεμίας', 'ἀφίκετο', 'κινήσεται', 'δῷς', 'κεκινῆσθαι', 'ἠρεμίαν', 'ἐναντίωσις'], ['πεπερασμένον', 'ἀπείρου', 'κινοῦντος', 'εὔδημος', 'aristoteles', 'def', 'μεταβάλλον', 'νόησις', 'διαιρετὸν', 'προσεχῶς', 'στερήσεως', 'αὐτοκίνητον', 'ἠρεμεῖ', 'mrg', 'ἀπείρῳ', 'κινουμένῳ', 'ἀδιαίρετον', 'φλεβοτομίας', 'πεπερασμένα', 'ἠρεμία', 'φυσικοῦ', 'κατηγορίαις', 'vulg', 'ἀναξαγόρας', 'καθόσον', 'ἀλλοιώσεως', 'ἐκινεῖτο', 'κινηθήσεται', 'ταὐτομάτου', 'κινῆται', 'simpl', 'διαιρετόν', 'ἐναντίαι', 'ἐναντίωσις', 'ἠρεμίαν', 'πέρατι', 'κίνησίς', 'ἠρεμοῦν', 'κινοῖτο', 'φθορά', 'κινήσεται', 'ἐντελεχείᾳ', 'phys', 'ἄπειρόν', 'κενώσεως', 'κινούντων', 'νοητῷ', 'κινοῦντα', 'iterat', 'ἀριστοτέλην'], ['κινοῦντος', 'πεπερασμένον', 'ἀπείρου', 'def', 'μεταβάλλον', 'προσεχῶς', 'εὔδημος', 'aristoteles', 'vulg', 'νόησις', 'κινουμένῳ', 'στερήσεως', 'αὐτοκίνητον', 'διαιρετὸν', 'mrg', 'ἀδιαίρετον', 'ἠρεμεῖ', 'διαιρετόν', 'κινοῖτο', 'simpl', 'νόησιν', 'κατηγορίαις', 'ταὐτομάτου', 'ἀλλοιώσεως', 'ἀναξαγόρας', 'ἀπείρῳ', 'κινήσεται', 'φυσικοῦ', 'τῇσι', 'νοητῷ', 'ἠρεμία', 'exc', 'ἀμερὲς', 'ἠρεμοῦν', 'πέρατι', 'ἐναντίαι', 'iterat', 'πεπερασμένα', 'ἠρεμίαν', 'κινηθήσεται', 'κινούντων', 'ἐνεργεία', 'ζήνωνος', 'ἄπειρόν', 'καθόσον', 'ἠρεμίας', 'phys', 'πλανωμένων', 'κίνησίς', 'ἐναντίωσις'], ['und', 'φύσιος', 'μάθησις', 'ὁκοῖον', 'πεπερασμένον', 'def', 'τῇσι', 'ἀπείρου', 'nicht', 'μεταβάλλον', 'littré', 'aristoteles', 'émile', 'hippocrates', 'ἀτρεκέως', 'mrg', 'das', 'κινοῦντος', 'εὔδημος', 'κινουμένῳ', 'aber', 'ἀλλʼ', 'αὐτοκίνητον', 'νόησις', 'στερήσεως', 'προσεχῶς', 'ἠρεμεῖ', 'ἀπείρῳ', 'vulg', 'den', 'vgl', 'ἠέρος', 'ist', 'ποιέει', 'ὅκως', 'δοκέει', 'μοῦνον', 'complètes', 'hippocrate', 'oeuvres', 'ὕπαρ', 'ἄμοιρος', 'ἠρεμία', 'von', 'baillière', 'simpl', 'ἀλλοιώσεως', 'τοιοίδε', 'ἀδιαίρετον', 'φήμῃ'], ['ἀπείρου', 'πεπερασμένον', 'μεταβάλλον', 'εὔδημος', 'mrg', 'aristoteles', 'def', 'αὐτοκίνητον', 'κινουμένῳ', 'στερήσεως', 'κινοῦντος', 'προσεχῶς', 'und', 'νόησις', 'κινοῖτο', 'ἐντελεχείᾳ', 'ἠρεμία', 'πεπερασμένα', 'διαιρετόν', 'ἀπείρῳ', 'καθόσον', 'διαιρετὸν', 'ἠρεμεῖ', 'ἀδιαίρετον', 'ταὐτομάτου', 'κινηθήσεται', 'ἀρτηρίαις', 'vulg', 'simpl', 'κινήσεται', 'ἠρεμοῦν', 'πέρατι', 'εὐλογίας', 'κατηγορίαις', 'ἐναντίαι', 'iterat', 'νόησιν', 'phys', 'χιτώνων', 'ἐνεργεία', 'κινῆται', 'das', 'κινοῦντα', 'ἀφίκετο', 'φλεγμονῆς', 'ἀλλοιώσεως', 'nicht', 'ζήνωνος', 'φυσικοῦ', 'νοητῷ'], ['und', 'das', 'nicht', 'aber', 'den', 'ist', 'auch', 'vgl', 'von', 'wie', 'sie', 'πεπερασμένον', 'sich', 'wenn', 'ein', 'haben', 'def', 'durch', 'nun', 'κινοῦντος', 'μεταβάλλον', 'werden', 'mrg', 'sind', 'auf', 'mit', 'εὔδημος', 'was', 'ἀπείρου', 'sondern', 'hat', 'προσεχῶς', 'ἀπείρῳ', 'ἀδιαίρετον', 'aristoteles', 'wird', 'als', 'κινουμένῳ', 'oder', 'κατηγορίαις', 'damit', 'διαιρετόν', 'einem', 'αὐτοκίνητον', 'über', 'ἀλλοιώσεως', 'ἠρεμεῖ', 'ἀμερὲς', 'κινήσεται', 'πέρατι'], ['πεπερασμένον', 'κινοῦντος', 'def', 'ἀπείρου', 'προσεχῶς', 'φλεβοτομίας', 'αὐτοκίνητον', 'μεταβάλλον', 'aristoteles', 'κινουμένῳ', 'mrg', 'ἠρεμεῖ', 'simpl', 'ἀπείρῳ', 'εὔδημος', 'ἠρεμία', 'ἔναντι', 'ὑψίστου', 'διαιρετόν', 'vulg', 'ἀλλοιώσεως', 'νόησις', 'καθόσον', 'κινήσεται', 'κινοῖτο', 'στερήσεως', 'ἐναντίαι', 'κινηθήσεται', 'ἀναξαγόρας', 'πεπερασμένα', 'φλεγμονῆς', 'ἀδιαίρετον', 'φυσικῷ', 'διαιρετὸν', 'κενώσεως', 'ἠρεμίας', 'τμῆμα', 'φυσικοῦ', 'φλεβοτομίαν', 'ἠρεμίαν', 'ἀμερὲς', 'φθορά', 'ζήνωνος', 'ἐντελέχεια', 'κατηγορίαις', 'ἐντελεχείᾳ', 'iterat', 'ἀλλοιοῦσθαι', 'ἐναντίωσις', 'κινητὸν'], ['und', 'das', 'mrg', 'μεταβάλλον', 'πεπερασμένον', 'προσεχῶς', 'def', 'ἀπείρου', 'nicht', 'ἠρεμεῖ', 'ist', 'aristoteles', 'αὐτοκίνητον', 'aber', 'von', 'νόησις', 'κινοῦντος', 'den', 'κινουμένῳ', 'στερήσεως', 'auch', 'εὔδημος', 'vgl', 'sie', 'phys', 'simpl', 'vulg', 'κατηγορίαις', 'ἀλλοιώσεως', 'διαιρετόν', 'πέρατι', 'ἀδιαίρετον', 'ein', 'durch', 'macl', 'ταὐτομάτου', 'νόησιν', 'φυσικοῦ', 'sich', 'ἠρεμία', 'ἠρεμίαν', 'iterat', 'wenn', 'κινηθήσεται', 'ἀπείρῳ', 'ἐναντίαι', 'σύνθετα', 'ἀίδιος', 'ἠρεμοῦν', 'ἀμερὲς'], ['πεπερασμένον', 'κινοῦντος', 'aristoteles', 'ἀπείρου', 'εὔδημος', 'mrg', 'κινουμένῳ', 'μεταβάλλον', 'ἠρεμεῖ', 'αὐτοκίνητον', 'def', 'vulg', 'προσεχῶς', 'στερήσεως', 'ἀπείρῳ', 'νόησις', 'ἠρεμία', 'simpl', 'διαιρετὸν', 'κατηγορίαις', 'ἀδιαίρετον', 'φθορά', 'ἀίδιος', 'διαιρετόν', 'κινηθήσεται', 'phys', 'προυπάρχειν', 'κινοῖτο', 'κινῆται', 'φυσικοῦ', 'ἠρεμίας', 'ταὐτομάτου', 'iterat', 'κίνησίς', 'ἀλλοιώσεις', 'ἠρεμίαν', 'ὑπέκκαυμα', 'ἀναξαγόρας', 'πεπερασμένα', 'κόμην', 'ἐναντίαι', 'κινήσεται', 'καθόσον', 'ἀλλοιοῦσθαι', 'πέρατι', 'κομήτης', 'ἀμερὲς', 'ἐντελεχείᾳ', 'ἐνεργεία', 'κινοῦντα'], ['πεπερασμένον', 'μεταβάλλον', 'vulg', 'def', 'ἀπείρου', 'κινοῦντος', 'κινουμένῳ', 'mrg', 'cet', 'aristoteles', 'αὐτοκίνητον', 'ἠρεμία', 'ἀπείρῳ', 'προσεχῶς', 'στερήσεως', 'ἠρεμεῖ', 'εὔδημος', 'ταὐτομάτου', 'διαιρετὸν', 'διαιρετόν', 'ἠρεμοῦν', 'κατηγορίαις', 'ἀδιαίρετον', 'ἀναξαγόρας', 'φθορά', 'κινηθήσεται', 'ἐναντίωσις', 'κινήσεται', 'νόησις', 'πέρατι', 'simpl', 'φυσικοῦ', 'ἠρεμίας', 'κινοῦντα', 'κινοῖτο', 'κινούντων', 'phys', 'κινῆται', 'ἐνεργεία', 'ἀμερὲς', 'παρμενίδης', 'φυσικῷ', 'ἐντελεχείᾳ', 'exc', 'ἀλλοιώσεως', 'πεπερασμένα', 'κέντρου', 'ἐναντίαι', 'ἔνστασιν', 'iterat'], ['κινοῦντος', 'ἀπείρου', 'πεπερασμένον', 'def', 'φλεβοτομίας', 'aristoteles', 'μεταβάλλον', 'κινουμένῳ', 'προσεχῶς', 'mrg', 'εὔδημος', 'διαιρετόν', 'σφυγμῶν', 'στερήσεως', 'ἠρεμεῖ', 'ἀδιαίρετον', 'ἀρτηρίαις', 'αὐτοκίνητον', 'simpl', 'ἐναντίωσις', 'ἀμερὲς', 'ἠρεμοῦν', 'πεπερασμένα', 'κινούντων', 'ἀπείρῳ', 'κατηγορίαις', 'ἠρεμία', 'κινοῖτο', 'ταὐτομάτου', 'ἐναντίαι', 'καθόσον', 'νόησις', 'ἀλλοιώσεις', 'vulg', 'κινοῦντα', 'φλεβοτομεῖν', 'κινητὸν', 'phys', 'φυσικοῦ', 'ἐντελέχεια', 'ἀρτηρίαι', 'ἀίδιος', 'διαιρετὸν', 'κινηθήσεται', 'ἠρεμίαν', 'πέρατι', 'κενώσεως', 'χιτώνων', 'μεγεθῶν', 'ἐκινεῖτο'], ['πεπερασμένον', 'aristoteles', 'und', 'ἀπείρου', 'def', 'vulg', 'mrg', 'προσεχῶς', 'κινουμένῳ', 'nicht', 'das', 'εὔδημος', 'κινοῦντος', 'ἠρεμεῖ', 'στερήσεως', 'μεταβάλλον', 'διαιρετὸν', 'αὐτοκίνητον', 'ἀλλʼ', 'ἀδιαίρετον', 'διαιρετόν', 'aber', 'ist', 'auch', 'ἀλλοιώσεως', 'νόησις', 'vgl', 'sie', 'φθορά', 'ἀμερὲς', 'von', 'ἀπείρῳ', 'cet', 'simpl', 'ἠρεμία', 'φυσικοῦ', 'ἠρεμίας', 'ζεῦ', 'κατηγορίαις', 'exc', 'ἠρεμίαν', 'κινούντων', 'κινηθήσεται', 'κινήσεται', 'den', 'ἀλλοιοῦσθαι', 'ἐντελεχείᾳ', 'κινῆται', 'κινοῦντα', 'ἠρεμοῦν'], ['πεπερασμένον', 'ἀπείρου', 'φλεγμονῆς', 'κινοῦντος', 'mrg', 'εὔδημος', 'μεταβάλλον', 'κινουμένῳ', 'def', 'αὐτοκίνητον', 'προσεχῶς', 'aristoteles', 'ἠρεμεῖ', 'πεπερασμένα', 'στερήσεως', 'ἀδιαίρετον', 'κινηθήσεται', 'ἠρεμία', 'νόησις', 'πέρατι', 'simpl', 'ἀπείρῳ', 'κινοῦντα', 'ἀναξαγόρας', 'vulg', 'ἠρεμίας', 'ἀίδιος', 'φλεγμοναῖς', 'ἠρεμοῦν', 'ταὐτομάτου', 'phys', 'κατηγορίαις', 'καθόσον', 'ἐγρηγορέναι', 'διαιρετὸν', 'iterat', 'ἀλλοιώσεως', 'ἐγρήγορσις', 'ἠρεμίαν', 'σύνθετα', 'διαιρετόν', 'ὄγκοις', 'ἀναθυμιάσεως', 'κινῆται', 'φυσικὸς', 'κίνησίς', 'μεγεθῶν', 'κινήσεται', 'ἀμερὲς', 'ἀδυναμία'], ['κινοῦντος', 'πεπερασμένον', 'def', 'μεταβάλλον', 'ἀπείρου', 'κινουμένῳ', 'εὔδημος', 'mrg', 'aristoteles', 'νόησις', 'διαιρετὸν', 'αὐτοκίνητον', 'στερήσεως', 'ἠρεμεῖ', 'προσεχῶς', 'ἀδιαίρετον', 'ἀπείρῳ', 'νόησιν', 'διαιρετόν', 'vulg', 'ἠρεμία', 'φθορά', 'πέρατι', 'κινοῖτο', 'ἀναξαγόρας', 'μεγεθῶν', 'ἀμερὲς', 'κατηγορίαις', 'ἐναντίαι', 'κίνησίς', 'ἀλλοιώσεως', 'simpl', 'κινηθήσεται', 'κινούντων', 'κινῆται', 'ἠρεμοῦν', 'κινήσεται', 'ταὐτομάτου', 'φυσικοῦ', 'exc', 'καθόσον', 'phys', 'iterat', 'ἀμερῶν', 'ἀίδιος', 'τμῆμα', 'ἐναντίωσις', 'ἀλλοιώσεις', 'ἠρεμίαν', 'κέντρου'], ['πεπερασμένον', 'def', 'κινοῦντος', 'ἀπείρου', 'μεταβάλλον', 'εὔδημος', 'κινουμένῳ', 'mrg', 'aristoteles', 'στερήσεως', 'ἠρεμεῖ', 'vulg', 'αὐτοκίνητον', 'ἀπείρῳ', 'προσεχῶς', 'ἀμερὲς', 'διαιρετόν', 'ἀλλοιώσεως', 'κινοῦντα', 'ἠρεμίας', 'πέρατι', 'κατηγορίαις', 'ἀναξαγόρας', 'ταὐτομάτου', 'ἠρεμία', 'φθορά', 'διαιρετὸν', 'iterat', 'καθόσον', 'ἀδιαίρετον', 'ἠρεμίαν', 'νόησις', 'simpl', 'ἐναντίαι', 'κινοῖτο', 'phys', 'ἠρεμοῦν', 'κινούντων', 'σύνθετα', 'ἀίδιος', 'κινῆται', 'κινηθήσεται', 'κινήσεται', 'κίνησίς', 'νόησιν', 'ἀναθυμιάσεως', 'φυσικοῦ', 'ἀλλοιοῦσθαι', 'ἐκινεῖτο', 'κέντρου'], ['def', 'πεπερασμένον', 'ἀπείρου', 'macl', 'aristoteles', 'μεταβάλλον', 'κινουμένῳ', 'προσεχῶς', 'mrg', 'ἠρεμεῖ', 'κινοῦντος', 'αὐτοκίνητον', 'ferr', 'στερήσεως', 'simpl', 'εὔδημος', 'vulg', 'riv', 'ἠρεμία', 'κινούντων', 'ζεῦ', 'ἀπείρῳ', 'διαιρετὸν', 'κίνησίς', 'phys', 'exc', 'νόησις', 'iterat', 'ἀμερὲς', 'διαιρετόν', 'ἠρεμίας', 'κατηγορίαις', 'φυσικοῦ', 'κινοῦντα', 'ἀλλοιώσεως', 'bva', 'πεπερασμένα', 'κινῆται', 'πέρατι', 'ἀίδιος', 'rubr', 'καθόσον', 'ζήνωνος', 'ἀναξαγόρας', 'ἀδιαίρετον', 'κινηθήσεται', 'προυπάρχειν', 'δικασταί', 'ἐπιχείρημα', 'ἐναντίαι'], ['πεπερασμένον', 'aristoteles', 'ἀπείρου', 'εὔδημος', 'mrg', 'προσεχῶς', 'μεταβάλλον', 'def', 'νόησις', 'κινουμένῳ', 'κινοῦντος', 'αὐτοκίνητον', 'ἠρεμία', 'διαιρετὸν', 'ἀμερὲς', 'ἠρεμεῖ', 'στερήσεως', 'ἀδιαίρετον', 'ἀλλοιώσεως', 'πέρατι', 'καθόσον', 'ἀμερῶν', 'πεπερασμένα', 'διαιρετόν', 'vulg', 'κατηγορίαις', 'phys', 'simpl', 'κινήσεται', 'κίνησίς', 'νοητοῦ', 'ἀναξαγόρας', 'φλεβοτομίας', 'νόησιν', 'ἠρεμίας', 'νοητῷ', 'φυσικοῦ', 'ἐναντίαι', 'κινῆται', 'ὡδὶ', 'ζήνωνος', 'ἄπειρόν', 'κινοῖτο', 'εὐδαιμονεῖν', 'τμῆμα', 'ἀίδιος', 'ἐναντίωσις', 'κινοῦντα', 'ταὐτομάτου', 'κινηθήσεται'], ['πεπερασμένον', 'ἀπείρου', 'κινοῦντος', 'εὔδημος', 'aristoteles', 'μεταβάλλον', 'def', 'mrg', 'ἀπείρῳ', 'διαιρετόν', 'κινουμένῳ', 'ἠρεμεῖ', 'αὐτοκίνητον', 'ἠρεμία', 'νόησις', 'vulg', 'ἀδιαίρετον', 'προσεχῶς', 'cet', 'φθορά', 'ἀίδιος', 'καθόσον', 'κατηγορίαις', 'ταὐτομάτου', 'ἀλλʼ', 'κινήσεται', 'ἠρεμοῦν', 'στερήσεως', 'simpl', 'ἀναξαγόρας', 'ἀμερὲς', 'πέρατι', 'ἠρεμίαν', 'κινῆται', 'κινηθήσεται', 'φυσικοῦ', 'ἀλλοιώσεως', 'ὁρισμὸν', 'φλεβοτομίας', 'ἐναντίωσις', 'πεπερασμένα', 'ἄπειρόν', 'κινοῖτο', 'ἡμίση', 'διαιρετὸν', 'νόησιν', 'κινούντων', 'iterat', 'ζήνωνος', 'exc'], ['πεπερασμένον', 'def', 'aristoteles', 'μεταβάλλον', 'mrg', 'κινοῦντος', 'ἀπείρου', 'προσεχῶς', 'κινουμένῳ', 'στερήσεως', 'εὔδημος', 'ἠρεμεῖ', 'αὐτοκίνητον', 'vulg', 'φλεβοτομίας', 'νόησις', 'ἠρεμία', 'κατηγορίαις', 'πεπερασμένα', 'διαιρετὸν', 'simpl', 'ἀλλοιώσεως', 'κινοῖτο', 'διαιρετόν', 'phys', 'ἀπείρῳ', 'κινηθήσεται', 'ἀδιαίρετον', 'ἀρτηρίαις', 'ἠρεμοῦν', 'ἐναντίωσις', 'σφυγμῶν', 'ἀμερῶν', 'κινητικὸν', 'κινήσεται', 'ἀναξαγόρας', 'φυσικοῦ', 'ἄπειρόν', 'ἡμίση', 'παρμενίδης', 'κίνησίς', 'ἀλλοιώσεις', 'ταὐτομάτου', 'ἐκινεῖτο', 'καθόσον', 'φυσικῷ', 'iterat', 'κινοῦντα', 'πέρατι', 'ἀμερὲς'], ['und', 'πεπερασμένον', 'ἀπείρου', 'def', 'mrg', 'von', 'ist', 'κινοῦντος', 'nicht', 'μεταβάλλον', 'das', 'εὔδημος', 'κινουμένῳ', 'προσεχῶς', 'αὐτοκίνητον', 'aristoteles', 'den', 'ἠρεμία', 'vgl', 'vulg', 'ἠρεμεῖ', 'ἀπείρῳ', 'phys', 'auch', 'ἀδιαίρετον', 'νόησις', 'διαιρετὸν', 'aber', 'iterat', 'sie', 'ἀναξαγόρας', 'κινῆται', 'simpl', 'στερήσεως', 'ταὐτομάτου', 'κινοῖτο', 'καθόσον', 'ἀλλοιώσεως', 'πέρατι', 'ἐναντίωσις', 'πεπερασμένα', 'φθορά', 'wenn', 'hat', 'ἀμερὲς', 'ἠρεμίας', 'ein', 'sich', 'φλεβοτομίας', 'κινήσεται'], ['πεπερασμένον', 'κινοῦντος', 'ἀπείρου', 'def', 'προσεχῶς', 'mrg', 'aristoteles', 'αὐτοκίνητον', 'εὔδημος', 'μεταβάλλον', 'ἠρεμία', 'κινουμένῳ', 'ἀλλοιώσεως', 'ἠρεμεῖ', 'vulg', 'νόησις', 'simpl', 'κατηγορίαις', 'στερήσεως', 'πέρατι', 'καθόσον', 'ἀίδιος', 'διαιρετόν', 'κινήσεται', 'κίνησίς', 'ἠρεμίας', 'διαιρετὸν', 'φθορά', 'ταὐτομάτου', 'ἀπείρῳ', 'προυπάρχειν', 'ἀδιαίρετον', 'κινηθήσεται', 'φυσικοῦ', 'κινοῦντα', 'ἐναντίωσις', 'κινοῖτο', 'πεπερασμένα', 'ἠρεμοῦν', 'ἐναντίαι', 'κινούντων', 'ἀριστοτέλην', 'phys', 'ἠρεμίαν', 'παρμενίδης', 'iterat', 'ἐπιχείρημα', 'ἄπειρόν', 'ζήνωνος', 'προτάσεις'], ['πεπερασμένον', 'def', 'αὐτοκίνητον', 'κινοῦντος', 'aristoteles', 'mrg', 'μεταβάλλον', 'εὔδημος', 'νόησιν', 'ἀπείρου', 'προσεχῶς', 'κινουμένῳ', 'vulg', 'κομήτης', 'νοητῷ', 'νόησις', 'ἀναξαγόρας', 'ἠρεμία', 'ἀλλοιώσεως', 'διαιρετὸν', 'ἀπείρῳ', 'ἠρεμεῖ', 'στερήσεως', 'κινοῖτο', 'διαιρετόν', 'κέντρου', 'simpl', 'κόμην', 'εὐδαιμονεῖν', 'ἀμερὲς', 'ὄψεων', 'κατηγορίαις', 'ἀναθυμιάσεως', 'κινηθήσεται', 'κινούντων', 'phys', 'ἐντελεχείᾳ', 'φλεβοτομίας', 'ὑπέκκαυμα', 'μεγεθῶν', 'iterat', 'ἐνεργεία', 'ἀίδιος', 'ἀδιαίρετον', 'καθόσον', 'ἀλλοιοῦσθαι', 'ταὐτομάτου', 'πεπερασμένα', 'ἀλλοιώσεις', 'πέρατι'], ['def', 'πεπερασμένον', 'ἀπείρου', 'aristoteles', 'εὔδημος', 'κινοῦντος', 'κινουμένῳ', 'mrg', 'μεταβάλλον', 'αὐτοκίνητον', 'κατηγορίαις', 'στερήσεως', 'νόησις', 'προσεχῶς', 'ἠρεμία', 'ἀπείρῳ', 'ἠρεμεῖ', 'vulg', 'ἠρεμοῦν', 'ἀλλοιώσεως', 'διαιρετὸν', 'ἀδιαίρετον', 'φθορά', 'simpl', 'κινήσεται', 'πεπερασμένα', 'ἀρτηρίαις', 'νόησιν', 'ἀίδιος', 'ταὐτομάτου', 'καθόσον', 'φυσικοῦ', 'νοητῷ', 'ἀμερὲς', 'πέρατι', 'ἠρεμίαν', 'ἀλλοιοῦσθαι', 'νοητοῦ', 'ἐναντίαι', 'κίνησίς', 'διαιρετόν', 'phys', 'προυπάρχειν', 'ἐντελεχείᾳ', 'κινῆται', 'κινοῖτο', 'σφυγμῶν', 'κινηθήσεται', 'γενητὸν', 'ἐκινεῖτο']]\n",
      "\n",
      "Can you spot the misplaced word in each topic?\n",
      "0: πεπερασμένον def ἀπείρου κινοῦντος εὔδημος μεταβάλλον ἔκφυσιν ἀπείρῳ αὐτοκίνητον aristoteles\n",
      "1: πεπερασμένον vab ἀπείρου κινοῦντος εὔδημος ξενίας καθεύδοντες def μεταβάλλον gasda\n",
      "2: mrg κινοῦντος πεπερασμένον ἀπείρου def προσεχῶς εὔδημος aristoteles στερήσεως ἐγρηγόρσεως\n",
      "3: und πεπερασμένον def κινοῦντος ἀπείρου das ἀδυνατεῖν μεταβάλλον aristoteles εὔδημος\n",
      "4: und ἐγρηγορέναι ἀπείρου πεπερασμένον def nicht φίλιππος κινοῦντος aristoteles ἐγρήγορσις\n",
      "5: κινοῦντος μεταβάλλον ἀπείρου def πεπερασμένον mrg κινουμένῳ νεύρου εὔδημος αὐτοκίνητον\n",
      "6: συζυγία def ἀπείρου πεπερασμένον νωτιαίου κινοῦντος mrg μεταβάλλον ἑβδομάδων ἔναντι\n",
      "7: πεπερασμένον def ἀπείρου κινοῦντος φλεβοτομίας aristoteles μεταβάλλον αὐτοκίνητον εὔδημος διαιρετὸν\n",
      "8: cet φίλιππος vulg def ἀπείρου κινοῦντος pal mrg εὔδημος νόησις\n",
      "9: ἀπείρου def πεπερασμένον aristoteles mrg κινοῦντος μεταβάλλον εὔδημος νέφους ἠρεμία\n",
      "10: und das nicht οὐδʼ aber von sie auch ἀλλʼ vgl\n",
      "11: ἐγρηγορέναι ἐγρήγορσις αἰσθητικοῦ ἀδυναμία πένητος καθεύδει κινοῦντος ἀπείρου νόησις μεταβάλλον\n",
      "12: πεπερασμένον ἀπείρου def ferr aristoteles macl xen προσεχῶς κινοῦντος μεταβάλλον\n",
      "13: μνήσθητι def κινοῦντος εὔδημος mrg κινουμένῳ ἀπείρου aristoteles μεταβάλλον προσεχῶς\n",
      "14: ζεῦ πεπερασμένον aristoteles μεταβάλλον von def ἀπείρου εὔδημος lucian und\n",
      "15: und ζεῦ κομήτης vulg ἀπείρου κόμην πεπερασμένον τρημάτων def ὑπέκκαυμα\n",
      "16: πεπερασμένον def ἀπείρου νόησις mrg praemissis κινοῦντος εὔδημος μεταβάλλον νοητῷ\n",
      "17: πεπερασμένον ὑπολείπεσθαι def aristoteles ἀπείρου μεταβάλλον κινοῦντος mrg προσεχῶς ἀλλοιώσεως\n",
      "18: πεπερασμένον ἀπείρου def κινοῦντος mrg κινουμένῳ προσεχῶς εὐλογίας μεταβάλλον ὄψεων\n",
      "19: und das nicht πεπερασμένον macl pal ist von δικασταί κινουμένῳ\n",
      "20: und nicht das ist aber ἀπείρου den von sie φύσιος\n",
      "21: πεπερασμένον ἀπείρου def und mrg κινοῦντος νόησις κινουμένῳ προσεχῶς εὔδημος\n",
      "22: cet hab pal vulg οὐδʼ βιοῦν ἐπʼ ἀλλʼ und πεπερασμένον\n",
      "23: πεπερασμένον ἀπείρου κινοῦντος def μεταβάλλον aristoteles mrg τιμαίῳ pseudo εὔδημος\n",
      "24: κινοῦντος def μεταβάλλον πεπερασμένον φλεβοτομίας ἀπείρου mrg κινουμένῳ νόησις diese\n",
      "25: und nicht das aber den μνημονεύουσιν von ist μεταβάλλον sie\n",
      "26: πλούσιον var πεπερασμένον κινοῦντος mrg εὔδημος ἀπείρου def und μεταβάλλον\n",
      "27: macl ferr riv bva ἐνεργεία πεπερασμένον ἀπείρου mrg rubr εὔδημος\n",
      "28: und nicht das cet von auch ist aber φθορά vulg\n",
      "29: und das ist nicht auch vgl den von sie ὡδὶ\n",
      "30: def πεπερασμένον lacobs mrg μεταβάλλον aristoteles ἀπείρου αὐτοκίνητον κινουμένῳ προσεχῶς\n",
      "31: def πεπερασμένον φλεβοτομίας κινοῦντος μεταβάλλον προσεχῶς εὔδημος aristoteles mrg στερήσεως\n",
      "32: und nicht das ist den anonymus sie πεπερασμένον sich aber\n",
      "33: πεπερασμένον und κινοῦντος def μεταβάλλον mrg εὔδημος noch νόησις αὐτοκίνητον\n",
      "34: macl ferr πεπερασμένον ἐπίπεδον ξενίας δημοσθένης ἀπείρου gasda def bva\n",
      "35: πεπερασμένον ἀπείρου ἐπιχείρημα μεταβάλλον def εὔδημος κινουμένῳ aristoteles mrg προσεχῶς\n",
      "36: πεπερασμένον ἀπείρου def μεταβάλλον συζυγία mrg κινοῦντος aristoteles προσεχῶς πένητες\n",
      "37: πεπερασμένον def ἀπείρου mrg τρῆμα κινουμένῳ εὔδημος μεταβάλλον κινοῦντος προσεχῶς\n",
      "38: ἁπτῶν aristoteles def κινοῦντος εὔδημος κινουμένῳ mrg ἀπείρου αὐτοκίνητον προσεχῶς\n",
      "39: πεπερασμένον def mrg μάνθανε ἀπείρου aristoteles προσεχῶς εὔδημος und νόησις\n",
      "40: πεπερασμένον φυσικῷ def μεταβάλλον εὔδημος mrg κινοῦντος αὐτοκίνητον ἠρεμία ἠρεμεῖ\n",
      "41: ξενίας δημοσθένης κινοῦντος πεπερασμένον gasda συζυγία μεταβάλλον def aristoteles vab\n",
      "42: πεπερασμένον φλεβοτομίας ἀπείρου def hab κινοῦντος μεταβάλλον aristoteles κινουμένῳ προσεχῶς\n",
      "43: πεπερασμένον ἀπείρου ἐπίπεδον κινοῦντος aristoteles εὔδημος μεταβάλλον κινουμένῳ def und\n",
      "44: πεπερασμένον ὁκοῖον def aristoteles αὐτοκίνητον μεταβάλλον und κινοῦντος προσεχῶς ἀπείρῳ\n",
      "45: πεπερασμένον καλέουσι def aristoteles μεταβάλλον κινουμένῳ κινοῦντος εὔδημος πουλὺ mrg\n",
      "46: und nicht das aber von ist auch λίμνῃ sie den\n",
      "47: und nicht das πτῶμα aber von auch ein sich vgl\n",
      "48: abbrev def cet πεπερασμένον macl ἀπείρου τῇσι ferr mrg εὔδημος\n",
      "49: ἀπείρου πεπερασμένον κινοῦντος κινουμένῳ ἐπὴν μεταβάλλον mrg προσεχῶς aristoteles εὔδημος\n",
      "50: def μεταβάλλον πεπερασμένον aristoteles ἀπείρου ἐπὴν κινοῦντος νόησις αὐτοκίνητον προσεχῶς\n",
      "51: πεπερασμένον def μεταβάλλον κινοῦντος ἀπείρου aristoteles vulg κινουμένῳ μεταβάλλοντος προσεχῶς\n",
      "52: ἀτρεκέως def εὔδημος ἀπείρου aristoteles κινοῦντος μεταβάλλον κινουμένῳ προσεχῶς mrg\n",
      "53: πεπερασμένον eine κινοῦντος das def κινουμένῳ νόησις nicht μεταβάλλον εὔδημος\n",
      "54: συζυγία def ἀπείρου mrg πεπερασμένον aristoteles κινουμένῳ ἀπουσία νόησις μεταβάλλον\n",
      "55: ζεῦ ἀπείρου πεπερασμένον vulg aristoteles def rubr lucian but κινουμένῳ\n",
      "56: cet vulg def πεπερασμένον ἀπείρου ποιότητες aristoteles mrg pal εὔδημος\n",
      "57: πεπερασμένον cet def aber vulg κινοῦντος ἀπείρου aristoteles mrg ἀλλʼ\n",
      "58: συζυγία νωτιαίου ἀπείρου aristoteles def νόησις ἀναθυμίασις μεταβάλλον κινοῦντος ὀστοῦ\n",
      "59: und nicht das ist aber den vgl lucian von sie\n",
      "60: πεπερασμένον def ἀπείρου σωθήσεται νόησις μεταβάλλον κινουμένῳ aristoteles mrg διαιρετὸν\n",
      "61: πεπερασμένον ἀπείρου νόησις κινοῦντος def μεταβάλλον κινουμένῳ προσεχῶς ἑάλω mrg\n",
      "62: cet vulg ἀπείρου pal πεπερασμένον def κινοῦντος aristoteles ἀδυναμία μεταβάλλον\n",
      "63: ἀλλʼ ἀπείρου κινοῦντος πεπερασμένον νόησις damit μεταβάλλον def εὔδημος mrg\n",
      "64: mon cet πεπερασμένον κινοῦντος vulg def ἀπείρου κινουμένῳ τιμαίῳ μεταβάλλον\n",
      "65: πεπερασμένον mrg ἀπείρου aristoteles κινοῦντος μεταβάλλον πουλὺ def εὔδημος νόησις\n",
      "66: und πεπερασμένον κομήτης ἀπείρου das aristoteles κόμην πλανωμένων ἕκτης κινουμένῳ\n",
      "67: πεπερασμένον ein def εὔδημος κινοῦντος aristoteles vulg αὐτοκίνητον κινουμένῳ μεταβάλλον\n",
      "68: πεπερασμένον ἐμπεδοκλῆς ἀπείρου κινοῦντος aristoteles νόησις def mrg εὔδημος μεταβάλλον\n",
      "69: ἀτρεκέως nicht das sie von den ist auch ἀλλʼ aber\n",
      "70: def ἀπείρου πεπερασμένον μεταβάλλον αὐτοκίνητον aristoteles ἡμίση mrg εὔδημος κινοῦντος\n",
      "71: macl νόησις ferr aristoteles ihm δικασταί riv μεταβάλλον def ἀπείρου\n",
      "72: und nicht συζυγιῶν ist vgl aber von den sie auch\n",
      "73: πεπερασμένον γένυος def πουλὺ μεταβάλλον κινοῦντος mrg ἀπείρου τῇσι aristoteles\n",
      "74: πεπερασμένον def νόησις κινοῦντος εὔδημος und aristoteles κινουμένῳ ἀφίκετο μεταβάλλον\n",
      "75: πεπερασμένον ἀπείρου τῇσι μεταβάλλον mrg κινοῦντος aristoteles εὔδημος ἠρεμεῖ αὐτοκίνητον\n",
      "76: πεπερασμένον def φλεβοτομεῖν aristoteles mrg νόησις κινοῦντος προσεχῶς στερήσεως κινουμένῳ\n",
      "77: πεπερασμένον praemissis κινοῦντος ἀπείρου def προσεχῶς αὐτοκίνητον κινουμένῳ aristoteles μεταβάλλον\n",
      "78: πεπερασμένον ἀπείρου κινοῦντος εὔδημος aristoteles def μεταβάλλον πολυειδῶς διαιρετὸν προσεχῶς\n",
      "79: κινοῦντος πεπερασμένον ἀπείρου def μεταβάλλον προσεχῶς εὔδημος aristoteles ἔκφυσιν νόησις\n",
      "80: und φύσιος μάθησις ὁκοῖον πεπερασμένον def οὔτʼ ἀπείρου nicht μεταβάλλον\n",
      "81: ἀπείρου πεπερασμένον μεταβάλλον εὔδημος mrg καθεύδει def αὐτοκίνητον κινουμένῳ στερήσεως\n",
      "82: und κῶλον nicht aber den ist auch vgl von wie\n",
      "83: πεπερασμένον κινοῦντος def from προσεχῶς φλεβοτομίας αὐτοκίνητον μεταβάλλον aristoteles κινουμένῳ\n",
      "84: und das φθορά μεταβάλλον πεπερασμένον προσεχῶς def ἀπείρου nicht ἠρεμεῖ\n",
      "85: πεπερασμένον κινοῦντος aristoteles ἀπείρου εὔδημος mrg κινουμένῳ μεταβάλλον ἠρεμεῖ sie\n",
      "86: πεπερασμένον μεταβάλλον κενώσεως def ἀπείρου κινοῦντος κινουμένῳ mrg cet aristoteles\n",
      "87: κινοῦντος ἀπείρου πεπερασμένον def φλεβοτομίας aristoteles μεταβάλλον κινουμένῳ προσεχῶς ἀτμίδα\n",
      "88: πεπερασμένον aristoteles und ἀπείρου def vulg mrg ich κινουμένῳ nicht\n",
      "89: πεπερασμένον ἀπείρου φλεγμονῆς κινοῦντος mrg εὔδημος μεταβάλλον κινουμένῳ def ἑβδομάδων\n",
      "90: ὄγκοις πεπερασμένον def μεταβάλλον ἀπείρου κινουμένῳ εὔδημος mrg aristoteles νόησις\n",
      "91: πεπερασμένον def κινοῦντος ἀπείρου μεταβάλλον εὔδημος φύσιος mrg aristoteles στερήσεως\n",
      "92: def φυσικῷ ἀπείρου macl aristoteles μεταβάλλον κινουμένῳ προσεχῶς mrg ἠρεμεῖ\n",
      "93: πεπερασμένον aristoteles ἀπείρου εὔδημος τρῆμα προσεχῶς μεταβάλλον def νόησις κινουμένῳ\n",
      "94: πεπερασμένον ἀπείρου κινοῦντος εὔδημος aristoteles μεταβάλλον def πειρῶ ἀπείρῳ διαιρετόν\n",
      "95: πεπερασμένον def aristoteles μεταβάλλον mrg κινοῦντος ἀπείρου προσεχῶς κινουμένῳ προτάσεις\n",
      "96: und πεπερασμένον ὑπέκκαυμα def mrg von ist κινοῦντος nicht μεταβάλλον\n",
      "97: πεπερασμένον κινοῦντος ἀπείρου def προσεχῶς mrg aristoteles αὐτοκίνητον den μεταβάλλον\n",
      "98: πεπερασμένον def αὐτοκίνητον κινοῦντος aristoteles mrg μεταβάλλον νοητοῦ νόησιν ἀπείρου\n",
      "99: def πεπερασμένον ἀπείρου aristoteles εὔδημος κινοῦντος κινουμένῳ mrg κεκινῆσθαι αὐτοκίνητον\n",
      "Actual replacements were:\n",
      "[(0, ('mrg', 'ἔκφυσιν')), (1, ('aristoteles', 'καθεύδοντες')), (2, ('ἠρεμεῖ', 'ἐγρηγόρσεως')), (3, ('mrg', 'ἀδυνατεῖν')), (4, ('das', 'φίλιππος')), (5, ('προσεχῶς', 'νεύρου')), (6, ('aristoteles', 'ἑβδομάδων')), (7, ('mrg', 'φλεβοτομίας')), (8, ('πεπερασμένον', 'φίλιππος')), (9, ('διαιρετὸν', 'νέφους')), (10, ('ist', 'οὐδʼ')), (11, ('mrg', 'πένητος')), (12, ('mrg', 'xen')), (13, ('πεπερασμένον', 'μνήσθητι')), (14, ('κινοῦντος', 'von')), (15, ('ἀναθυμιάσεως', 'τρημάτων')), (16, ('aristoteles', 'praemissis')), (17, ('εὔδημος', 'ὑπολείπεσθαι')), (18, ('εὔδημος', 'εὐλογίας')), (19, ('def', 'pal')), (20, ('def', 'φύσιος')), (21, ('aristoteles', 'und')), (22, ('λίμνην', 'βιοῦν')), (23, ('προσεχῶς', 'τιμαίῳ')), (24, ('προσεχῶς', 'diese')), (25, ('def', 'μνημονεύουσιν')), (26, ('mon', 'πλούσιον')), (27, ('δικασταί', 'ἐνεργεία')), (28, ('den', 'φθορά')), (29, ('aber', 'ὡδὶ')), (30, ('κινοῦντος', 'lacobs')), (31, ('ἀπείρου', 'φλεβοτομίας')), (32, ('auch', 'anonymus')), (33, ('ἀπείρου', 'noch')), (34, ('riv', 'ἐπίπεδον')), (35, ('κινοῦντος', 'ἐπιχείρημα')), (36, ('κινουμένῳ', 'πένητες')), (37, ('aristoteles', 'τρῆμα')), (38, ('πεπερασμένον', 'ἁπτῶν')), (39, ('κινοῦντος', 'μάνθανε')), (40, ('ἀπείρου', 'φυσικῷ')), (41, ('ἀπείρου', 'συζυγία')), (42, ('mrg', 'hab')), (43, ('προσεχῶς', 'ἐπίπεδον')), (44, ('ἀπείρου', 'ὁκοῖον')), (45, ('ἀπείρου', 'καλέουσι')), (46, ('wie', 'λίμνῃ')), (47, ('ist', 'πτῶμα')), (48, ('μεταβάλλον', 'τῇσι')), (49, ('def', 'ἐπὴν')), (50, ('κινουμένῳ', 'ἐπὴν')), (51, ('cet', 'μεταβάλλοντος')), (52, ('πεπερασμένον', 'ἀτρεκέως')), (53, ('und', 'eine')), (54, ('κινοῦντος', 'ἀπουσία')), (55, ('κινοῦντος', 'rubr')), (56, ('κινοῦντος', 'ποιότητες')), (57, ('κινουμένῳ', 'aber')), (58, ('πεπερασμένον', 'ἀναθυμίασις')), (59, ('auch', 'lucian')), (60, ('κινοῦντος', 'σωθήσεται')), (61, ('αὐτοκίνητον', 'ἑάλω')), (62, ('mrg', 'ἀδυναμία')), (63, ('κινουμένῳ', 'damit')), (64, ('aristoteles', 'τιμαίῳ')), (65, ('προσεχῶς', 'πουλὺ')), (66, ('ὑπέκκαυμα', 'ἕκτης')), (67, ('ἀπείρου', 'ein')), (68, ('und', 'ἐμπεδοκλῆς')), (69, ('und', 'ἀτρεκέως')), (70, ('κινουμένῳ', 'ἡμίση')), (71, ('πεπερασμένον', 'ihm')), (72, ('das', 'συζυγιῶν')), (73, ('συζυγία', 'γένυος')), (74, ('ἀπείρου', 'ἀφίκετο')), (75, ('def', 'τῇσι')), (76, ('ἀπείρου', 'φλεβοτομεῖν')), (77, ('νόησις', 'praemissis')), (78, ('νόησις', 'πολυειδῶς')), (79, ('vulg', 'ἔκφυσιν')), (80, ('τῇσι', 'οὔτʼ')), (81, ('aristoteles', 'καθεύδει')), (82, ('das', 'κῶλον')), (83, ('ἀπείρου', 'from')), (84, ('mrg', 'φθορά')), (85, ('αὐτοκίνητον', 'sie')), (86, ('vulg', 'κενώσεως')), (87, ('mrg', 'ἀτμίδα')), (88, ('προσεχῶς', 'ich')), (89, ('αὐτοκίνητον', 'ἑβδομάδων')), (90, ('κινοῦντος', 'ὄγκοις')), (91, ('κινουμένῳ', 'φύσιος')), (92, ('πεπερασμένον', 'φυσικῷ')), (93, ('mrg', 'τρῆμα')), (94, ('mrg', 'πειρῶ')), (95, ('στερήσεως', 'προτάσεις')), (96, ('ἀπείρου', 'ὑπέκκαυμα')), (97, ('εὔδημος', 'den')), (98, ('εὔδημος', 'νοητοῦ')), (99, ('μεταβάλλον', 'κεκινῆσθαι'))]\n",
      "\n"
     ]
    }
   ],
   "source": [
    "for num_topics in NUM_TOPICS_LIST:\n",
    "    # load model\n",
    "    lda_model_name = 'gensim_lda_model_1kgrk_numtopics{}_numpasses{}_nobelow{}_noabove{}_tokmin{}_tokmax{}_docmin{}_deaccent{}.model'.format(num_topics, \n",
    "                                                                                                                                           PASSES, \n",
    "                                                                                                                                           no_below, \n",
    "                                                                                                                                           no_above, \n",
    "                                                                                                                                           TOK_MIN, \n",
    "                                                                                                                                           TOK_MAX, \n",
    "                                                                                                                                           DOC_MIN, \n",
    "                                                                                                                                           PREPROCESS_DEACCENT)\n",
    "    print('Loading model: {} ...'.format(lda_model_name))\n",
    "    print('... for word intrusion testing ...')\n",
    "    path_lda = os.path.join(user_dir, lda_model_name)\n",
    "    lda_model = gensim.models.LdaMulticore.load(path_lda)\n",
    "    \n",
    "    # select top 50 words for each of the LDA topics\n",
    "    print('Top 50 words of each LDA model:')\n",
    "    top_words = [[word for word, _ in lda_model.show_topic(topicno, topn=50)] for topicno in range(lda_model.num_topics)]\n",
    "    print(top_words)\n",
    "    print('')\n",
    "\n",
    "    # get all top 50 words in all 20 topics, as one large set\n",
    "    all_words = set(itertools.chain.from_iterable(top_words))\n",
    "    print(\"Can you spot the misplaced word in each topic?\")\n",
    "\n",
    "    # for each topic, replace a word at a different index, to make it more interesting\n",
    "    replace_index = np.random.randint(0, 10, lda_model.num_topics)\n",
    "\n",
    "    replacements = []\n",
    "    for topicno, words in enumerate(top_words):\n",
    "        other_words = all_words.difference(words)\n",
    "        replacement = np.random.choice(list(other_words))\n",
    "        replacements.append((words[replace_index[topicno]], replacement))\n",
    "        words[replace_index[topicno]] = replacement\n",
    "        print(\"%i: %s\" % (topicno, ' '.join(words[:10])))\n",
    "    \n",
    "    print(\"Actual replacements were:\")\n",
    "    print(list(enumerate(replacements)))\n",
    "    print('')"
   ]
  },
  {
   "cell_type": "markdown",
   "metadata": {},
   "source": [
    "## Split doc\n",
    "\n",
    "> We'll split each document into two parts, and check that 1) topics of the first half are similar to topics of the second 2) halves of different documents are mostly dissimilar"
   ]
  },
  {
   "cell_type": "code",
   "execution_count": 24,
   "metadata": {
    "collapsed": true
   },
   "outputs": [],
   "source": [
    "# evaluate on 1k documents **not** used in LDA training\n",
    "docs_preprocessed = os.path.expanduser('~/cltk_data/greek/text/tlg/plaintext/')\n",
    "doc_stream = (tokens for _, tokens in iter_tlg(docs_preprocessed))  # generator\n",
    "test_docs = list(itertools.islice(doc_stream, 100, 200))  # ['πανυ', 'καλως', ...], [...], ...]"
   ]
  },
  {
   "cell_type": "code",
   "execution_count": 25,
   "metadata": {
    "collapsed": true
   },
   "outputs": [],
   "source": [
    "def intra_inter(model, test_docs, num_pairs=10000):\n",
    "    # split each test document into two halves and compute topics for each half\n",
    "    part1 = [model[id2word_tlg.doc2bow(tokens[: len(tokens) // 2])] for tokens in test_docs]\n",
    "    part2 = [model[id2word_tlg.doc2bow(tokens[len(tokens) // 2 :])] for tokens in test_docs]\n",
    "    \n",
    "    # print computed similarities (uses cossim)\n",
    "    print(\"average cosine similarity between corresponding parts (higher is better):\")\n",
    "    print(np.mean([gensim.matutils.cossim(p1, p2) for p1, p2 in zip(part1, part2)]))\n",
    "\n",
    "    random_pairs = np.random.randint(0, len(test_docs), size=(num_pairs, 2))\n",
    "    print(\"average cosine similarity between {} random parts (lower is better):\".format(num_pairs))    \n",
    "    print(np.mean([gensim.matutils.cossim(part1[i[0]], part2[i[1]]) for i in random_pairs]))"
   ]
  },
  {
   "cell_type": "code",
   "execution_count": 26,
   "metadata": {
    "scrolled": false
   },
   "outputs": [
    {
     "name": "stderr",
     "output_type": "stream",
     "text": [
      "INFO : loading LdaMulticore object from /home/kyle/cltk_data/user_data/lda_1kgreek/gensim_lda_model_1kgrk_numtopics2_numpasses1_nobelow20_noabove0.1_tokmin3_tokmax20_docmin50_deaccentFalse.model\n",
      "INFO : loading expElogbeta from /home/kyle/cltk_data/user_data/lda_1kgreek/gensim_lda_model_1kgrk_numtopics2_numpasses1_nobelow20_noabove0.1_tokmin3_tokmax20_docmin50_deaccentFalse.model.expElogbeta.npy with mmap=None\n",
      "INFO : setting ignored attribute dispatcher to None\n",
      "INFO : setting ignored attribute state to None\n",
      "INFO : setting ignored attribute id2word to None\n",
      "INFO : loaded /home/kyle/cltk_data/user_data/lda_1kgreek/gensim_lda_model_1kgrk_numtopics2_numpasses1_nobelow20_noabove0.1_tokmin3_tokmax20_docmin50_deaccentFalse.model\n",
      "INFO : loading LdaMulticore object from /home/kyle/cltk_data/user_data/lda_1kgreek/gensim_lda_model_1kgrk_numtopics2_numpasses1_nobelow20_noabove0.1_tokmin3_tokmax20_docmin50_deaccentFalse.model.state\n",
      "INFO : loaded /home/kyle/cltk_data/user_data/lda_1kgreek/gensim_lda_model_1kgrk_numtopics2_numpasses1_nobelow20_noabove0.1_tokmin3_tokmax20_docmin50_deaccentFalse.model.state\n"
     ]
    },
    {
     "name": "stdout",
     "output_type": "stream",
     "text": [
      "Loading model: gensim_lda_model_1kgrk_numtopics2_numpasses1_nobelow20_noabove0.1_tokmin3_tokmax20_docmin50_deaccentFalse.model ...\n",
      "... for testing split document topic matching ...\n",
      "LDA results:\n"
     ]
    },
    {
     "name": "stderr",
     "output_type": "stream",
     "text": [
      "INFO : loading LdaMulticore object from /home/kyle/cltk_data/user_data/lda_1kgreek/gensim_lda_model_1kgrk_numtopics3_numpasses1_nobelow20_noabove0.1_tokmin3_tokmax20_docmin50_deaccentFalse.model\n",
      "INFO : loading expElogbeta from /home/kyle/cltk_data/user_data/lda_1kgreek/gensim_lda_model_1kgrk_numtopics3_numpasses1_nobelow20_noabove0.1_tokmin3_tokmax20_docmin50_deaccentFalse.model.expElogbeta.npy with mmap=None\n",
      "INFO : setting ignored attribute dispatcher to None\n",
      "INFO : setting ignored attribute state to None\n",
      "INFO : setting ignored attribute id2word to None\n",
      "INFO : loaded /home/kyle/cltk_data/user_data/lda_1kgreek/gensim_lda_model_1kgrk_numtopics3_numpasses1_nobelow20_noabove0.1_tokmin3_tokmax20_docmin50_deaccentFalse.model\n",
      "INFO : loading LdaMulticore object from /home/kyle/cltk_data/user_data/lda_1kgreek/gensim_lda_model_1kgrk_numtopics3_numpasses1_nobelow20_noabove0.1_tokmin3_tokmax20_docmin50_deaccentFalse.model.state\n",
      "INFO : loaded /home/kyle/cltk_data/user_data/lda_1kgreek/gensim_lda_model_1kgrk_numtopics3_numpasses1_nobelow20_noabove0.1_tokmin3_tokmax20_docmin50_deaccentFalse.model.state\n"
     ]
    },
    {
     "name": "stdout",
     "output_type": "stream",
     "text": [
      "average cosine similarity between corresponding parts (higher is better):\n",
      "0.939026655163\n",
      "average cosine similarity between 25 random parts (lower is better):\n",
      "0.799057982384\n",
      "\n",
      "Loading model: gensim_lda_model_1kgrk_numtopics3_numpasses1_nobelow20_noabove0.1_tokmin3_tokmax20_docmin50_deaccentFalse.model ...\n",
      "... for testing split document topic matching ...\n",
      "LDA results:\n"
     ]
    },
    {
     "name": "stderr",
     "output_type": "stream",
     "text": [
      "INFO : loading LdaMulticore object from /home/kyle/cltk_data/user_data/lda_1kgreek/gensim_lda_model_1kgrk_numtopics5_numpasses1_nobelow20_noabove0.1_tokmin3_tokmax20_docmin50_deaccentFalse.model\n",
      "INFO : loading expElogbeta from /home/kyle/cltk_data/user_data/lda_1kgreek/gensim_lda_model_1kgrk_numtopics5_numpasses1_nobelow20_noabove0.1_tokmin3_tokmax20_docmin50_deaccentFalse.model.expElogbeta.npy with mmap=None\n",
      "INFO : setting ignored attribute dispatcher to None\n",
      "INFO : setting ignored attribute state to None\n",
      "INFO : setting ignored attribute id2word to None\n",
      "INFO : loaded /home/kyle/cltk_data/user_data/lda_1kgreek/gensim_lda_model_1kgrk_numtopics5_numpasses1_nobelow20_noabove0.1_tokmin3_tokmax20_docmin50_deaccentFalse.model\n",
      "INFO : loading LdaMulticore object from /home/kyle/cltk_data/user_data/lda_1kgreek/gensim_lda_model_1kgrk_numtopics5_numpasses1_nobelow20_noabove0.1_tokmin3_tokmax20_docmin50_deaccentFalse.model.state\n",
      "INFO : loaded /home/kyle/cltk_data/user_data/lda_1kgreek/gensim_lda_model_1kgrk_numtopics5_numpasses1_nobelow20_noabove0.1_tokmin3_tokmax20_docmin50_deaccentFalse.model.state\n"
     ]
    },
    {
     "name": "stdout",
     "output_type": "stream",
     "text": [
      "average cosine similarity between corresponding parts (higher is better):\n",
      "0.794662723955\n",
      "average cosine similarity between 25 random parts (lower is better):\n",
      "0.55966581763\n",
      "\n",
      "Loading model: gensim_lda_model_1kgrk_numtopics5_numpasses1_nobelow20_noabove0.1_tokmin3_tokmax20_docmin50_deaccentFalse.model ...\n",
      "... for testing split document topic matching ...\n",
      "LDA results:\n"
     ]
    },
    {
     "name": "stderr",
     "output_type": "stream",
     "text": [
      "INFO : loading LdaMulticore object from /home/kyle/cltk_data/user_data/lda_1kgreek/gensim_lda_model_1kgrk_numtopics10_numpasses1_nobelow20_noabove0.1_tokmin3_tokmax20_docmin50_deaccentFalse.model\n",
      "INFO : loading expElogbeta from /home/kyle/cltk_data/user_data/lda_1kgreek/gensim_lda_model_1kgrk_numtopics10_numpasses1_nobelow20_noabove0.1_tokmin3_tokmax20_docmin50_deaccentFalse.model.expElogbeta.npy with mmap=None\n",
      "INFO : setting ignored attribute dispatcher to None\n",
      "INFO : setting ignored attribute state to None\n",
      "INFO : setting ignored attribute id2word to None\n",
      "INFO : loaded /home/kyle/cltk_data/user_data/lda_1kgreek/gensim_lda_model_1kgrk_numtopics10_numpasses1_nobelow20_noabove0.1_tokmin3_tokmax20_docmin50_deaccentFalse.model\n",
      "INFO : loading LdaMulticore object from /home/kyle/cltk_data/user_data/lda_1kgreek/gensim_lda_model_1kgrk_numtopics10_numpasses1_nobelow20_noabove0.1_tokmin3_tokmax20_docmin50_deaccentFalse.model.state\n",
      "INFO : loaded /home/kyle/cltk_data/user_data/lda_1kgreek/gensim_lda_model_1kgrk_numtopics10_numpasses1_nobelow20_noabove0.1_tokmin3_tokmax20_docmin50_deaccentFalse.model.state\n"
     ]
    },
    {
     "name": "stdout",
     "output_type": "stream",
     "text": [
      "average cosine similarity between corresponding parts (higher is better):\n",
      "0.710675697827\n",
      "average cosine similarity between 25 random parts (lower is better):\n",
      "0.548864555785\n",
      "\n",
      "Loading model: gensim_lda_model_1kgrk_numtopics10_numpasses1_nobelow20_noabove0.1_tokmin3_tokmax20_docmin50_deaccentFalse.model ...\n",
      "... for testing split document topic matching ...\n",
      "LDA results:\n"
     ]
    },
    {
     "name": "stderr",
     "output_type": "stream",
     "text": [
      "INFO : loading LdaMulticore object from /home/kyle/cltk_data/user_data/lda_1kgreek/gensim_lda_model_1kgrk_numtopics25_numpasses1_nobelow20_noabove0.1_tokmin3_tokmax20_docmin50_deaccentFalse.model\n",
      "INFO : loading expElogbeta from /home/kyle/cltk_data/user_data/lda_1kgreek/gensim_lda_model_1kgrk_numtopics25_numpasses1_nobelow20_noabove0.1_tokmin3_tokmax20_docmin50_deaccentFalse.model.expElogbeta.npy with mmap=None\n",
      "INFO : setting ignored attribute dispatcher to None\n",
      "INFO : setting ignored attribute state to None\n",
      "INFO : setting ignored attribute id2word to None\n",
      "INFO : loaded /home/kyle/cltk_data/user_data/lda_1kgreek/gensim_lda_model_1kgrk_numtopics25_numpasses1_nobelow20_noabove0.1_tokmin3_tokmax20_docmin50_deaccentFalse.model\n",
      "INFO : loading LdaMulticore object from /home/kyle/cltk_data/user_data/lda_1kgreek/gensim_lda_model_1kgrk_numtopics25_numpasses1_nobelow20_noabove0.1_tokmin3_tokmax20_docmin50_deaccentFalse.model.state\n",
      "INFO : loaded /home/kyle/cltk_data/user_data/lda_1kgreek/gensim_lda_model_1kgrk_numtopics25_numpasses1_nobelow20_noabove0.1_tokmin3_tokmax20_docmin50_deaccentFalse.model.state\n"
     ]
    },
    {
     "name": "stdout",
     "output_type": "stream",
     "text": [
      "average cosine similarity between corresponding parts (higher is better):\n",
      "0.610022293555\n",
      "average cosine similarity between 25 random parts (lower is better):\n",
      "0.422802167198\n",
      "\n",
      "Loading model: gensim_lda_model_1kgrk_numtopics25_numpasses1_nobelow20_noabove0.1_tokmin3_tokmax20_docmin50_deaccentFalse.model ...\n",
      "... for testing split document topic matching ...\n",
      "LDA results:\n"
     ]
    },
    {
     "name": "stderr",
     "output_type": "stream",
     "text": [
      "INFO : loading LdaMulticore object from /home/kyle/cltk_data/user_data/lda_1kgreek/gensim_lda_model_1kgrk_numtopics50_numpasses1_nobelow20_noabove0.1_tokmin3_tokmax20_docmin50_deaccentFalse.model\n",
      "INFO : loading expElogbeta from /home/kyle/cltk_data/user_data/lda_1kgreek/gensim_lda_model_1kgrk_numtopics50_numpasses1_nobelow20_noabove0.1_tokmin3_tokmax20_docmin50_deaccentFalse.model.expElogbeta.npy with mmap=None\n",
      "INFO : setting ignored attribute dispatcher to None\n",
      "INFO : setting ignored attribute state to None\n",
      "INFO : setting ignored attribute id2word to None\n",
      "INFO : loaded /home/kyle/cltk_data/user_data/lda_1kgreek/gensim_lda_model_1kgrk_numtopics50_numpasses1_nobelow20_noabove0.1_tokmin3_tokmax20_docmin50_deaccentFalse.model\n",
      "INFO : loading LdaMulticore object from /home/kyle/cltk_data/user_data/lda_1kgreek/gensim_lda_model_1kgrk_numtopics50_numpasses1_nobelow20_noabove0.1_tokmin3_tokmax20_docmin50_deaccentFalse.model.state\n",
      "INFO : loaded /home/kyle/cltk_data/user_data/lda_1kgreek/gensim_lda_model_1kgrk_numtopics50_numpasses1_nobelow20_noabove0.1_tokmin3_tokmax20_docmin50_deaccentFalse.model.state\n"
     ]
    },
    {
     "name": "stdout",
     "output_type": "stream",
     "text": [
      "average cosine similarity between corresponding parts (higher is better):\n",
      "0.631935925884\n",
      "average cosine similarity between 25 random parts (lower is better):\n",
      "0.34912143236\n",
      "\n",
      "Loading model: gensim_lda_model_1kgrk_numtopics50_numpasses1_nobelow20_noabove0.1_tokmin3_tokmax20_docmin50_deaccentFalse.model ...\n",
      "... for testing split document topic matching ...\n",
      "LDA results:\n"
     ]
    },
    {
     "name": "stderr",
     "output_type": "stream",
     "text": [
      "INFO : loading LdaMulticore object from /home/kyle/cltk_data/user_data/lda_1kgreek/gensim_lda_model_1kgrk_numtopics55_numpasses1_nobelow20_noabove0.1_tokmin3_tokmax20_docmin50_deaccentFalse.model\n",
      "INFO : loading expElogbeta from /home/kyle/cltk_data/user_data/lda_1kgreek/gensim_lda_model_1kgrk_numtopics55_numpasses1_nobelow20_noabove0.1_tokmin3_tokmax20_docmin50_deaccentFalse.model.expElogbeta.npy with mmap=None\n",
      "INFO : setting ignored attribute dispatcher to None\n",
      "INFO : setting ignored attribute state to None\n",
      "INFO : setting ignored attribute id2word to None\n",
      "INFO : loaded /home/kyle/cltk_data/user_data/lda_1kgreek/gensim_lda_model_1kgrk_numtopics55_numpasses1_nobelow20_noabove0.1_tokmin3_tokmax20_docmin50_deaccentFalse.model\n",
      "INFO : loading LdaMulticore object from /home/kyle/cltk_data/user_data/lda_1kgreek/gensim_lda_model_1kgrk_numtopics55_numpasses1_nobelow20_noabove0.1_tokmin3_tokmax20_docmin50_deaccentFalse.model.state\n",
      "INFO : loaded /home/kyle/cltk_data/user_data/lda_1kgreek/gensim_lda_model_1kgrk_numtopics55_numpasses1_nobelow20_noabove0.1_tokmin3_tokmax20_docmin50_deaccentFalse.model.state\n"
     ]
    },
    {
     "name": "stdout",
     "output_type": "stream",
     "text": [
      "average cosine similarity between corresponding parts (higher is better):\n",
      "0.675960562428\n",
      "average cosine similarity between 25 random parts (lower is better):\n",
      "0.480053669458\n",
      "\n",
      "Loading model: gensim_lda_model_1kgrk_numtopics55_numpasses1_nobelow20_noabove0.1_tokmin3_tokmax20_docmin50_deaccentFalse.model ...\n",
      "... for testing split document topic matching ...\n",
      "LDA results:\n"
     ]
    },
    {
     "name": "stderr",
     "output_type": "stream",
     "text": [
      "INFO : loading LdaMulticore object from /home/kyle/cltk_data/user_data/lda_1kgreek/gensim_lda_model_1kgrk_numtopics100_numpasses1_nobelow20_noabove0.1_tokmin3_tokmax20_docmin50_deaccentFalse.model\n",
      "INFO : loading expElogbeta from /home/kyle/cltk_data/user_data/lda_1kgreek/gensim_lda_model_1kgrk_numtopics100_numpasses1_nobelow20_noabove0.1_tokmin3_tokmax20_docmin50_deaccentFalse.model.expElogbeta.npy with mmap=None\n",
      "INFO : setting ignored attribute dispatcher to None\n",
      "INFO : setting ignored attribute state to None\n",
      "INFO : setting ignored attribute id2word to None\n",
      "INFO : loaded /home/kyle/cltk_data/user_data/lda_1kgreek/gensim_lda_model_1kgrk_numtopics100_numpasses1_nobelow20_noabove0.1_tokmin3_tokmax20_docmin50_deaccentFalse.model\n",
      "INFO : loading LdaMulticore object from /home/kyle/cltk_data/user_data/lda_1kgreek/gensim_lda_model_1kgrk_numtopics100_numpasses1_nobelow20_noabove0.1_tokmin3_tokmax20_docmin50_deaccentFalse.model.state\n",
      "INFO : loaded /home/kyle/cltk_data/user_data/lda_1kgreek/gensim_lda_model_1kgrk_numtopics100_numpasses1_nobelow20_noabove0.1_tokmin3_tokmax20_docmin50_deaccentFalse.model.state\n"
     ]
    },
    {
     "name": "stdout",
     "output_type": "stream",
     "text": [
      "average cosine similarity between corresponding parts (higher is better):\n",
      "0.68854714947\n",
      "average cosine similarity between 25 random parts (lower is better):\n",
      "0.441823644465\n",
      "\n",
      "Loading model: gensim_lda_model_1kgrk_numtopics100_numpasses1_nobelow20_noabove0.1_tokmin3_tokmax20_docmin50_deaccentFalse.model ...\n",
      "... for testing split document topic matching ...\n",
      "LDA results:\n",
      "average cosine similarity between corresponding parts (higher is better):\n",
      "0.590445309956\n",
      "average cosine similarity between 25 random parts (lower is better):\n",
      "0.29908593498\n",
      "\n"
     ]
    }
   ],
   "source": [
    "for num_topics in NUM_TOPICS_LIST:\n",
    "    # load model\n",
    "    lda_model_name = 'gensim_lda_model_1kgrk_numtopics{}_numpasses{}_nobelow{}_noabove{}_tokmin{}_tokmax{}_docmin{}_deaccent{}.model'.format(num_topics, \n",
    "                                                                                                                                           PASSES, \n",
    "                                                                                                                                           no_below, \n",
    "                                                                                                                                           no_above, \n",
    "                                                                                                                                           TOK_MIN, \n",
    "                                                                                                                                           TOK_MAX, \n",
    "                                                                                                                                           DOC_MIN, \n",
    "                                                                                                                                           PREPROCESS_DEACCENT)\n",
    "    print('Loading model: {} ...'.format(lda_model_name))\n",
    "    print('... for testing split document topic matching ...')\n",
    "    path_lda = os.path.join(user_dir, lda_model_name)\n",
    "    lda_model = gensim.models.LdaMulticore.load(path_lda)\n",
    "\n",
    "    print(\"LDA results:\")\n",
    "    # what should num_pairs be?\n",
    "    intra_inter(lda_model, test_docs, num_pairs=total_included_docs)\n",
    "    print('')"
   ]
  },
  {
   "cell_type": "markdown",
   "metadata": {},
   "source": [
    "# Score all docs"
   ]
  },
  {
   "cell_type": "code",
   "execution_count": 27,
   "metadata": {
    "collapsed": true
   },
   "outputs": [],
   "source": [
    "id_auth_map = get_id_author()"
   ]
  },
  {
   "cell_type": "code",
   "execution_count": null,
   "metadata": {},
   "outputs": [
    {
     "name": "stderr",
     "output_type": "stream",
     "text": [
      "INFO : loading LdaMulticore object from /home/kyle/cltk_data/user_data/lda_1kgreek/gensim_lda_model_1kgrk_numtopics2_numpasses1_nobelow20_noabove0.1_tokmin3_tokmax20_docmin50_deaccentFalse.model\n",
      "INFO : loading expElogbeta from /home/kyle/cltk_data/user_data/lda_1kgreek/gensim_lda_model_1kgrk_numtopics2_numpasses1_nobelow20_noabove0.1_tokmin3_tokmax20_docmin50_deaccentFalse.model.expElogbeta.npy with mmap=None\n",
      "INFO : setting ignored attribute dispatcher to None\n",
      "INFO : setting ignored attribute state to None\n",
      "INFO : setting ignored attribute id2word to None\n",
      "INFO : loaded /home/kyle/cltk_data/user_data/lda_1kgreek/gensim_lda_model_1kgrk_numtopics2_numpasses1_nobelow20_noabove0.1_tokmin3_tokmax20_docmin50_deaccentFalse.model\n",
      "INFO : loading LdaMulticore object from /home/kyle/cltk_data/user_data/lda_1kgreek/gensim_lda_model_1kgrk_numtopics2_numpasses1_nobelow20_noabove0.1_tokmin3_tokmax20_docmin50_deaccentFalse.model.state\n",
      "INFO : loaded /home/kyle/cltk_data/user_data/lda_1kgreek/gensim_lda_model_1kgrk_numtopics2_numpasses1_nobelow20_noabove0.1_tokmin3_tokmax20_docmin50_deaccentFalse.model.state\n"
     ]
    },
    {
     "name": "stdout",
     "output_type": "stream",
     "text": [
      "num topics 2\n",
      "Loading model: gensim_lda_model_1kgrk_numtopics2_numpasses1_nobelow20_noabove0.1_tokmin3_tokmax20_docmin50_deaccentFalse.model ...\n",
      "... scoring topics of all TLG documents ...\n"
     ]
    },
    {
     "name": "stderr",
     "output_type": "stream",
     "text": [
      "INFO : loading LdaMulticore object from /home/kyle/cltk_data/user_data/lda_1kgreek/gensim_lda_model_1kgrk_numtopics3_numpasses1_nobelow20_noabove0.1_tokmin3_tokmax20_docmin50_deaccentFalse.model\n",
      "INFO : loading expElogbeta from /home/kyle/cltk_data/user_data/lda_1kgreek/gensim_lda_model_1kgrk_numtopics3_numpasses1_nobelow20_noabove0.1_tokmin3_tokmax20_docmin50_deaccentFalse.model.expElogbeta.npy with mmap=None\n",
      "INFO : setting ignored attribute dispatcher to None\n",
      "INFO : setting ignored attribute state to None\n",
      "INFO : setting ignored attribute id2word to None\n",
      "INFO : loaded /home/kyle/cltk_data/user_data/lda_1kgreek/gensim_lda_model_1kgrk_numtopics3_numpasses1_nobelow20_noabove0.1_tokmin3_tokmax20_docmin50_deaccentFalse.model\n",
      "INFO : loading LdaMulticore object from /home/kyle/cltk_data/user_data/lda_1kgreek/gensim_lda_model_1kgrk_numtopics3_numpasses1_nobelow20_noabove0.1_tokmin3_tokmax20_docmin50_deaccentFalse.model.state\n",
      "INFO : loaded /home/kyle/cltk_data/user_data/lda_1kgreek/gensim_lda_model_1kgrk_numtopics3_numpasses1_nobelow20_noabove0.1_tokmin3_tokmax20_docmin50_deaccentFalse.model.state\n"
     ]
    },
    {
     "name": "stdout",
     "output_type": "stream",
     "text": [
      "Writing file to: \"/home/kyle/cltk_data/user_data/lda_1kgreek/gensim_lda_model_1kgrk_numtopics2_numpasses1_nobelow20_noabove0.1_tokmin3_tokmax20_docmin50_deaccentFals.scores\"\n",
      "\n",
      "num topics 3\n",
      "Loading model: gensim_lda_model_1kgrk_numtopics3_numpasses1_nobelow20_noabove0.1_tokmin3_tokmax20_docmin50_deaccentFalse.model ...\n",
      "... scoring topics of all TLG documents ...\n"
     ]
    }
   ],
   "source": [
    "# write to file topics for each doc\n",
    "for num_topics in NUM_TOPICS_LIST:\n",
    "    print('num topics', num_topics)\n",
    "    # load model\n",
    "    lda_model_name = 'gensim_lda_model_1kgrk_numtopics{}_numpasses{}_nobelow{}_noabove{}_tokmin{}_tokmax{}_docmin{}_deaccent{}.model'.format(num_topics, \n",
    "                                                                                                                                           PASSES, \n",
    "                                                                                                                                           no_below, \n",
    "                                                                                                                                           no_above, \n",
    "                                                                                                                                           TOK_MIN, \n",
    "                                                                                                                                           TOK_MAX, \n",
    "                                                                                                                                           DOC_MIN, \n",
    "                                                                                                                                           PREPROCESS_DEACCENT)\n",
    "    print('Loading model: {} ...'.format(lda_model_name))\n",
    "    print('... scoring topics of all documents ...')\n",
    "    path_lda = os.path.join(user_dir, lda_model_name)\n",
    "    # https://radimrehurek.com/gensim/models/ldamodel.html#gensim.models.ldamodel.LdaModel.get_document_topics\n",
    "    lda_model = gensim.models.LdaMulticore.load(path_lda)\n",
    "\n",
    "    # mk save path name\n",
    "    scores_name = lda_model_name.rstrip('.model') + '.scores'\n",
    "    scores_path = os.path.join(user_dir, scores_name)\n",
    "    doc_topics = ''\n",
    "    print('Going to write LDA scores for each file at: \"{}\"'.format(scores_path))\n",
    "    for file_name, tokens in iter_tlg(docs_preprocessed):\n",
    "        # print(file_name, tokens[:10])  # print the article title and its first ten tokens\n",
    "        # print(file_name)\n",
    "        topic_distribution = str(lda_model[id2word_tlg.doc2bow(tokens)])\n",
    "        # print(topic_distribution)\n",
    "        \n",
    "        # convert file name to author name, and get epithet\n",
    "        # auth_id = file_name.lstrip('TLG').rstrip('.TXT')  # for TLG\n",
    "        auth_id = file_name.rstrip('.txt')  # for 1K Greek\n",
    "        auth_name = None\n",
    "        auth_epithet = None\n",
    "        # auth_name = id_auth_map[auth_id]  # for TLG\n",
    "        # auth_epithet = str(get_epithet_of_author(auth_id))  # for TLG\n",
    "        \n",
    "        doc_topics += 'file: ' + file_name + '\\n'\n",
    "        doc_topics += 'author: ' + auth_name + '\\n'\n",
    "        doc_topics += 'epithet: ' + auth_epithet + '\\n'\n",
    "        doc_topics += topic_distribution + '\\n\\n'\n",
    "    print('Wrote file to: \"{}\"'.format(scores_path))\n",
    "    with open(scores_path, 'w') as file_open:\n",
    "        file_open.write(doc_topics)\n",
    "    print('')"
   ]
  },
  {
   "cell_type": "code",
   "execution_count": null,
   "metadata": {
    "collapsed": true
   },
   "outputs": [],
   "source": []
  }
 ],
 "metadata": {
  "kernelspec": {
   "display_name": "Python 3",
   "language": "python",
   "name": "python3"
  },
  "language_info": {
   "codemirror_mode": {
    "name": "ipython",
    "version": 3
   },
   "file_extension": ".py",
   "mimetype": "text/x-python",
   "name": "python",
   "nbconvert_exporter": "python",
   "pygments_lexer": "ipython3",
   "version": "3.6.1"
  }
 },
 "nbformat": 4,
 "nbformat_minor": 2
}
